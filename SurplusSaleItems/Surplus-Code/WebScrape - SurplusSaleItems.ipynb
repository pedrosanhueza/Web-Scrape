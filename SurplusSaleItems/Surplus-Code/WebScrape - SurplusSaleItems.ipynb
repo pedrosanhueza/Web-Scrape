{
 "cells": [
  {
   "cell_type": "markdown",
   "metadata": {},
   "source": [
    "# Web Scraping\n",
    "## website: [_Surplus Sale Items_](https://web.byui.edu/SurplusList/)\n",
    "### Author: Pedro Sanhueza\n",
    "### Project: Simple Analysis of items for sale. Import table from website to csv for EDA"
   ]
  },
  {
   "cell_type": "markdown",
   "metadata": {},
   "source": [
    "# Import Libraries"
   ]
  },
  {
   "cell_type": "code",
   "execution_count": 1,
   "metadata": {},
   "outputs": [],
   "source": [
    "import requests # to get the html markdown from the url\n",
    "from bs4 import BeautifulSoup # to make the html readable\n",
    "import pandas as pd # to save table in a csv\n",
    "from datetime import datetime # to append current time into file name\n"
   ]
  },
  {
   "cell_type": "markdown",
   "metadata": {},
   "source": [
    "# Get the data from website"
   ]
  },
  {
   "cell_type": "code",
   "execution_count": 2,
   "metadata": {},
   "outputs": [],
   "source": [
    "url_surplus = 'https://web.byui.edu/SurplusList/'\n",
    "html_data = requests.get(url_surplus)\n",
    "soup = BeautifulSoup(html_data.text, 'html.parser')\n"
   ]
  },
  {
   "cell_type": "markdown",
   "metadata": {},
   "source": [
    "# Build Table"
   ]
  },
  {
   "cell_type": "code",
   "execution_count": 3,
   "metadata": {},
   "outputs": [],
   "source": [
    "rows=[]\n",
    "for item in soup.find_all('tr')[13:]:\n",
    "    row={}\n",
    "    row['Item Number'] = item.select('td')[0].text\n",
    "    row['Qty'] = item.select('td')[1].text\n",
    "    row['Description'] = item.select('td')[2].text\n",
    "    row['Condition'] = item.select('td')[3].text\n",
    "    row['Price'] = item.select('td')[4].text\n",
    "    row['Location'] = item.select('td')[5].text\n",
    "    row['Quick/Bid'] = item.select('td')[6].text\n",
    "    row['Image'] = item.select('td')[7].text\n",
    "    rows.append(row)\n"
   ]
  },
  {
   "cell_type": "code",
   "execution_count": 4,
   "metadata": {},
   "outputs": [
    {
     "data": {
      "text/html": [
       "<div>\n",
       "<style scoped>\n",
       "    .dataframe tbody tr th:only-of-type {\n",
       "        vertical-align: middle;\n",
       "    }\n",
       "\n",
       "    .dataframe tbody tr th {\n",
       "        vertical-align: top;\n",
       "    }\n",
       "\n",
       "    .dataframe thead th {\n",
       "        text-align: right;\n",
       "    }\n",
       "</style>\n",
       "<table border=\"1\" class=\"dataframe\">\n",
       "  <thead>\n",
       "    <tr style=\"text-align: right;\">\n",
       "      <th></th>\n",
       "      <th>Item Number</th>\n",
       "      <th>Qty</th>\n",
       "      <th>Description</th>\n",
       "      <th>Condition</th>\n",
       "      <th>Price</th>\n",
       "      <th>Location</th>\n",
       "      <th>Quick/Bid</th>\n",
       "      <th>Image</th>\n",
       "    </tr>\n",
       "  </thead>\n",
       "  <tbody>\n",
       "    <tr>\n",
       "      <th>0</th>\n",
       "      <td>77216</td>\n",
       "      <td>2</td>\n",
       "      <td>2016 iMac 21\"</td>\n",
       "      <td>FAIR</td>\n",
       "      <td>$200.00</td>\n",
       "      <td>EA</td>\n",
       "      <td>Quick</td>\n",
       "      <td></td>\n",
       "    </tr>\n",
       "    <tr>\n",
       "      <th>1</th>\n",
       "      <td>77047</td>\n",
       "      <td>1</td>\n",
       "      <td>2017 Chevrolet Colorado ex cab 2wd, 2.5 auto e...</td>\n",
       "      <td>GOOD</td>\n",
       "      <td>$21,995.00</td>\n",
       "      <td>EA</td>\n",
       "      <td>Bid</td>\n",
       "      <td></td>\n",
       "    </tr>\n",
       "    <tr>\n",
       "      <th>2</th>\n",
       "      <td>77213</td>\n",
       "      <td>5</td>\n",
       "      <td>2017 iMac 21\"</td>\n",
       "      <td>FAIR</td>\n",
       "      <td>$250.00</td>\n",
       "      <td>EA</td>\n",
       "      <td>Quick</td>\n",
       "      <td></td>\n",
       "    </tr>\n",
       "    <tr>\n",
       "      <th>3</th>\n",
       "      <td>77217</td>\n",
       "      <td>5</td>\n",
       "      <td>2018 MacBook Pro</td>\n",
       "      <td>FAIR</td>\n",
       "      <td>$400.00</td>\n",
       "      <td>EA</td>\n",
       "      <td>Quick</td>\n",
       "      <td></td>\n",
       "    </tr>\n",
       "    <tr>\n",
       "      <th>4</th>\n",
       "      <td>77122</td>\n",
       "      <td>1</td>\n",
       "      <td>BKI Free  Standing Fry Dump Station or Food Wa...</td>\n",
       "      <td>GOOD</td>\n",
       "      <td>$525.00</td>\n",
       "      <td>EA</td>\n",
       "      <td>Quick</td>\n",
       "      <td>Image</td>\n",
       "    </tr>\n",
       "    <tr>\n",
       "      <th>5</th>\n",
       "      <td>75191</td>\n",
       "      <td>1</td>\n",
       "      <td>Catalyst 6500 Chassis</td>\n",
       "      <td>GOOD</td>\n",
       "      <td>$50.00</td>\n",
       "      <td>UT</td>\n",
       "      <td>Quick</td>\n",
       "      <td></td>\n",
       "    </tr>\n",
       "    <tr>\n",
       "      <th>6</th>\n",
       "      <td>76137</td>\n",
       "      <td>1</td>\n",
       "      <td>Chick-fil-A Sandwich and Fry Display</td>\n",
       "      <td>GOOD</td>\n",
       "      <td>$121.25</td>\n",
       "      <td>EA</td>\n",
       "      <td>Quick</td>\n",
       "      <td>Image</td>\n",
       "    </tr>\n",
       "    <tr>\n",
       "      <th>7</th>\n",
       "      <td>75173</td>\n",
       "      <td>1</td>\n",
       "      <td>Cisco 6500 series chassis</td>\n",
       "      <td>GOOD</td>\n",
       "      <td>$50.00</td>\n",
       "      <td>EA</td>\n",
       "      <td>Quick</td>\n",
       "      <td></td>\n",
       "    </tr>\n",
       "    <tr>\n",
       "      <th>8</th>\n",
       "      <td>75176</td>\n",
       "      <td>1</td>\n",
       "      <td>Cisco 6500 series chassis</td>\n",
       "      <td>GOOD</td>\n",
       "      <td>$50.00</td>\n",
       "      <td>UT</td>\n",
       "      <td>Quick</td>\n",
       "      <td></td>\n",
       "    </tr>\n",
       "    <tr>\n",
       "      <th>9</th>\n",
       "      <td>75177</td>\n",
       "      <td>1</td>\n",
       "      <td>Cisco 6500 series chassis</td>\n",
       "      <td>GOOD</td>\n",
       "      <td>$50.00</td>\n",
       "      <td>UT</td>\n",
       "      <td>Quick</td>\n",
       "      <td></td>\n",
       "    </tr>\n",
       "    <tr>\n",
       "      <th>10</th>\n",
       "      <td>75178</td>\n",
       "      <td>1</td>\n",
       "      <td>Cisco 6500 series chassis</td>\n",
       "      <td>GOOD</td>\n",
       "      <td>$50.00</td>\n",
       "      <td>UT</td>\n",
       "      <td>Quick</td>\n",
       "      <td></td>\n",
       "    </tr>\n",
       "    <tr>\n",
       "      <th>11</th>\n",
       "      <td>75179</td>\n",
       "      <td>1</td>\n",
       "      <td>Cisco 6500 series chassis</td>\n",
       "      <td>GOOD</td>\n",
       "      <td>$50.00</td>\n",
       "      <td>UT</td>\n",
       "      <td>Quick</td>\n",
       "      <td></td>\n",
       "    </tr>\n",
       "    <tr>\n",
       "      <th>12</th>\n",
       "      <td>75180</td>\n",
       "      <td>1</td>\n",
       "      <td>Cisco 6500 series chassis</td>\n",
       "      <td>GOOD</td>\n",
       "      <td>$50.00</td>\n",
       "      <td>UT</td>\n",
       "      <td>Quick</td>\n",
       "      <td></td>\n",
       "    </tr>\n",
       "    <tr>\n",
       "      <th>13</th>\n",
       "      <td>75181</td>\n",
       "      <td>1</td>\n",
       "      <td>Cisco 6500 series chassis</td>\n",
       "      <td>GOOD</td>\n",
       "      <td>$50.00</td>\n",
       "      <td>UT</td>\n",
       "      <td>Quick</td>\n",
       "      <td></td>\n",
       "    </tr>\n",
       "    <tr>\n",
       "      <th>14</th>\n",
       "      <td>75182</td>\n",
       "      <td>1</td>\n",
       "      <td>Cisco 6500 series chassis</td>\n",
       "      <td>GOOD</td>\n",
       "      <td>$50.00</td>\n",
       "      <td>UT</td>\n",
       "      <td>Quick</td>\n",
       "      <td></td>\n",
       "    </tr>\n",
       "    <tr>\n",
       "      <th>15</th>\n",
       "      <td>75183</td>\n",
       "      <td>1</td>\n",
       "      <td>Cisco 6500 series chassis</td>\n",
       "      <td>GOOD</td>\n",
       "      <td>$50.00</td>\n",
       "      <td>UT</td>\n",
       "      <td>Quick</td>\n",
       "      <td></td>\n",
       "    </tr>\n",
       "    <tr>\n",
       "      <th>16</th>\n",
       "      <td>75184</td>\n",
       "      <td>1</td>\n",
       "      <td>Cisco 6500 series chassis</td>\n",
       "      <td>GOOD</td>\n",
       "      <td>$50.00</td>\n",
       "      <td>UT</td>\n",
       "      <td>Quick</td>\n",
       "      <td></td>\n",
       "    </tr>\n",
       "    <tr>\n",
       "      <th>17</th>\n",
       "      <td>75185</td>\n",
       "      <td>1</td>\n",
       "      <td>Cisco 6500 series chassis</td>\n",
       "      <td>GOOD</td>\n",
       "      <td>$50.00</td>\n",
       "      <td>UT</td>\n",
       "      <td>Quick</td>\n",
       "      <td></td>\n",
       "    </tr>\n",
       "    <tr>\n",
       "      <th>18</th>\n",
       "      <td>75186</td>\n",
       "      <td>1</td>\n",
       "      <td>Cisco 6500 series chassis</td>\n",
       "      <td>GOOD</td>\n",
       "      <td>$50.00</td>\n",
       "      <td>UT</td>\n",
       "      <td>Quick</td>\n",
       "      <td></td>\n",
       "    </tr>\n",
       "    <tr>\n",
       "      <th>19</th>\n",
       "      <td>75187</td>\n",
       "      <td>1</td>\n",
       "      <td>Cisco 6500 series chassis</td>\n",
       "      <td>GOOD</td>\n",
       "      <td>$50.00</td>\n",
       "      <td>UT</td>\n",
       "      <td>Quick</td>\n",
       "      <td></td>\n",
       "    </tr>\n",
       "    <tr>\n",
       "      <th>20</th>\n",
       "      <td>75188</td>\n",
       "      <td>1</td>\n",
       "      <td>Cisco 6500 series chassis</td>\n",
       "      <td>GOOD</td>\n",
       "      <td>$50.00</td>\n",
       "      <td>UT</td>\n",
       "      <td>Quick</td>\n",
       "      <td></td>\n",
       "    </tr>\n",
       "    <tr>\n",
       "      <th>21</th>\n",
       "      <td>75189</td>\n",
       "      <td>1</td>\n",
       "      <td>Cisco 6500 series chassis</td>\n",
       "      <td>GOOD</td>\n",
       "      <td>$50.00</td>\n",
       "      <td>UT</td>\n",
       "      <td>Quick</td>\n",
       "      <td></td>\n",
       "    </tr>\n",
       "    <tr>\n",
       "      <th>22</th>\n",
       "      <td>75190</td>\n",
       "      <td>1</td>\n",
       "      <td>Cisco 6500 series chassis</td>\n",
       "      <td>GOOD</td>\n",
       "      <td>$50.00</td>\n",
       "      <td>UT</td>\n",
       "      <td>Quick</td>\n",
       "      <td></td>\n",
       "    </tr>\n",
       "    <tr>\n",
       "      <th>23</th>\n",
       "      <td>75192</td>\n",
       "      <td>1</td>\n",
       "      <td>Cisco 6500 series chassis</td>\n",
       "      <td>GOOD</td>\n",
       "      <td>$50.00</td>\n",
       "      <td>UT</td>\n",
       "      <td>Quick</td>\n",
       "      <td></td>\n",
       "    </tr>\n",
       "    <tr>\n",
       "      <th>24</th>\n",
       "      <td>75193</td>\n",
       "      <td>1</td>\n",
       "      <td>Cisco 6500 series chassis</td>\n",
       "      <td>GOOD</td>\n",
       "      <td>$50.00</td>\n",
       "      <td>UT</td>\n",
       "      <td>Quick</td>\n",
       "      <td></td>\n",
       "    </tr>\n",
       "    <tr>\n",
       "      <th>25</th>\n",
       "      <td>75194</td>\n",
       "      <td>1</td>\n",
       "      <td>Cisco 6500 series chassis</td>\n",
       "      <td>GOOD</td>\n",
       "      <td>$50.00</td>\n",
       "      <td>UT</td>\n",
       "      <td>Quick</td>\n",
       "      <td></td>\n",
       "    </tr>\n",
       "    <tr>\n",
       "      <th>26</th>\n",
       "      <td>75195</td>\n",
       "      <td>1</td>\n",
       "      <td>Cisco 6500 series chassis</td>\n",
       "      <td>GOOD</td>\n",
       "      <td>$50.00</td>\n",
       "      <td>UT</td>\n",
       "      <td>Quick</td>\n",
       "      <td></td>\n",
       "    </tr>\n",
       "    <tr>\n",
       "      <th>27</th>\n",
       "      <td>75196</td>\n",
       "      <td>1</td>\n",
       "      <td>Cisco 6500 series chassis</td>\n",
       "      <td>GOOD</td>\n",
       "      <td>$50.00</td>\n",
       "      <td>UT</td>\n",
       "      <td>Quick</td>\n",
       "      <td></td>\n",
       "    </tr>\n",
       "    <tr>\n",
       "      <th>28</th>\n",
       "      <td>75197</td>\n",
       "      <td>1</td>\n",
       "      <td>Cisco 6500 series chassis</td>\n",
       "      <td>GOOD</td>\n",
       "      <td>$50.00</td>\n",
       "      <td>UT</td>\n",
       "      <td>Quick</td>\n",
       "      <td></td>\n",
       "    </tr>\n",
       "    <tr>\n",
       "      <th>29</th>\n",
       "      <td>75198</td>\n",
       "      <td>1</td>\n",
       "      <td>Cisco 6500 series chassis</td>\n",
       "      <td>GOOD</td>\n",
       "      <td>$50.00</td>\n",
       "      <td>UT</td>\n",
       "      <td>Quick</td>\n",
       "      <td></td>\n",
       "    </tr>\n",
       "    <tr>\n",
       "      <th>30</th>\n",
       "      <td>75199</td>\n",
       "      <td>1</td>\n",
       "      <td>Cisco 6500 series chassis</td>\n",
       "      <td>GOOD</td>\n",
       "      <td>$50.00</td>\n",
       "      <td>UT</td>\n",
       "      <td>Quick</td>\n",
       "      <td></td>\n",
       "    </tr>\n",
       "    <tr>\n",
       "      <th>31</th>\n",
       "      <td>75200</td>\n",
       "      <td>1</td>\n",
       "      <td>Cisco 6500 series chassis</td>\n",
       "      <td>GOOD</td>\n",
       "      <td>$50.00</td>\n",
       "      <td>UT</td>\n",
       "      <td>Quick</td>\n",
       "      <td></td>\n",
       "    </tr>\n",
       "    <tr>\n",
       "      <th>32</th>\n",
       "      <td>75201</td>\n",
       "      <td>1</td>\n",
       "      <td>Cisco 6500 series chassis</td>\n",
       "      <td>GOOD</td>\n",
       "      <td>$50.00</td>\n",
       "      <td>UT</td>\n",
       "      <td>Quick</td>\n",
       "      <td></td>\n",
       "    </tr>\n",
       "    <tr>\n",
       "      <th>33</th>\n",
       "      <td>75202</td>\n",
       "      <td>1</td>\n",
       "      <td>Cisco 6500 series chassis</td>\n",
       "      <td>GOOD</td>\n",
       "      <td>$50.00</td>\n",
       "      <td>UT</td>\n",
       "      <td>Quick</td>\n",
       "      <td></td>\n",
       "    </tr>\n",
       "    <tr>\n",
       "      <th>34</th>\n",
       "      <td>75203</td>\n",
       "      <td>1</td>\n",
       "      <td>Cisco 6500 series chassis</td>\n",
       "      <td>GOOD</td>\n",
       "      <td>$50.00</td>\n",
       "      <td>UT</td>\n",
       "      <td>Quick</td>\n",
       "      <td></td>\n",
       "    </tr>\n",
       "    <tr>\n",
       "      <th>35</th>\n",
       "      <td>76915</td>\n",
       "      <td>78</td>\n",
       "      <td>Coin Boxes - Pennies, Nickels, Dimes</td>\n",
       "      <td>EXCELLENT</td>\n",
       "      <td>$0.50</td>\n",
       "      <td>EA</td>\n",
       "      <td>Quick</td>\n",
       "      <td></td>\n",
       "    </tr>\n",
       "    <tr>\n",
       "      <th>36</th>\n",
       "      <td>50232</td>\n",
       "      <td>720</td>\n",
       "      <td>COMPUTER - Keyboards</td>\n",
       "      <td>GOOD</td>\n",
       "      <td>$5.00</td>\n",
       "      <td>EA</td>\n",
       "      <td>Quick</td>\n",
       "      <td></td>\n",
       "    </tr>\n",
       "    <tr>\n",
       "      <th>37</th>\n",
       "      <td>51847</td>\n",
       "      <td>641</td>\n",
       "      <td>COMPUTER - Mice</td>\n",
       "      <td>GOOD</td>\n",
       "      <td>$2.00</td>\n",
       "      <td>EA</td>\n",
       "      <td>Quick</td>\n",
       "      <td></td>\n",
       "    </tr>\n",
       "    <tr>\n",
       "      <th>38</th>\n",
       "      <td>46633</td>\n",
       "      <td>384</td>\n",
       "      <td>COMPUTER - Power Cords</td>\n",
       "      <td>VARIES</td>\n",
       "      <td>$1.00</td>\n",
       "      <td>EA</td>\n",
       "      <td>Quick</td>\n",
       "      <td></td>\n",
       "    </tr>\n",
       "    <tr>\n",
       "      <th>39</th>\n",
       "      <td>52804</td>\n",
       "      <td>1030</td>\n",
       "      <td>COMPUTER - USB Printer Cables</td>\n",
       "      <td>GOOD</td>\n",
       "      <td>$1.00</td>\n",
       "      <td>EA</td>\n",
       "      <td>Quick</td>\n",
       "      <td>Image</td>\n",
       "    </tr>\n",
       "    <tr>\n",
       "      <th>40</th>\n",
       "      <td>76847</td>\n",
       "      <td>4</td>\n",
       "      <td>Desisti De-Lux-2 Model 4600 Stage/Studio Light</td>\n",
       "      <td>FAIR</td>\n",
       "      <td>$320.00</td>\n",
       "      <td>EA</td>\n",
       "      <td>Bid</td>\n",
       "      <td>Image</td>\n",
       "    </tr>\n",
       "    <tr>\n",
       "      <th>41</th>\n",
       "      <td>76846</td>\n",
       "      <td>12</td>\n",
       "      <td>Desisti Giotto Model 4130 Stage/Studio Light</td>\n",
       "      <td>FAIR</td>\n",
       "      <td>$160.00</td>\n",
       "      <td>EA</td>\n",
       "      <td>Bid</td>\n",
       "      <td>Image</td>\n",
       "    </tr>\n",
       "    <tr>\n",
       "      <th>42</th>\n",
       "      <td>76849</td>\n",
       "      <td>6</td>\n",
       "      <td>Desisti Leonardo Model 310 Stage/Studio Light</td>\n",
       "      <td>FAIR</td>\n",
       "      <td>$150.00</td>\n",
       "      <td>EA</td>\n",
       "      <td>Bid</td>\n",
       "      <td>Image</td>\n",
       "    </tr>\n",
       "    <tr>\n",
       "      <th>43</th>\n",
       "      <td>76848</td>\n",
       "      <td>2</td>\n",
       "      <td>Desisti Leonardo Model 320 1000W Light Stage/S...</td>\n",
       "      <td>FAIR</td>\n",
       "      <td>$200.00</td>\n",
       "      <td>EA</td>\n",
       "      <td>Bid</td>\n",
       "      <td>Image</td>\n",
       "    </tr>\n",
       "    <tr>\n",
       "      <th>44</th>\n",
       "      <td>76845</td>\n",
       "      <td>6</td>\n",
       "      <td>Desisti Magis Model 300. 60W Stage/Studio Light</td>\n",
       "      <td>FAIR</td>\n",
       "      <td>$125.00</td>\n",
       "      <td>EA</td>\n",
       "      <td>Bid</td>\n",
       "      <td>Image</td>\n",
       "    </tr>\n",
       "    <tr>\n",
       "      <th>45</th>\n",
       "      <td>76141</td>\n",
       "      <td>1</td>\n",
       "      <td>Dual Drawer Toast Master</td>\n",
       "      <td>GOOD</td>\n",
       "      <td>$180.00</td>\n",
       "      <td>EA</td>\n",
       "      <td>Quick</td>\n",
       "      <td>Image</td>\n",
       "    </tr>\n",
       "    <tr>\n",
       "      <th>46</th>\n",
       "      <td>76139</td>\n",
       "      <td>1</td>\n",
       "      <td>Duke Tray Warmer</td>\n",
       "      <td>GOOD</td>\n",
       "      <td>$243.75</td>\n",
       "      <td>EA</td>\n",
       "      <td>Quick</td>\n",
       "      <td>Image</td>\n",
       "    </tr>\n",
       "    <tr>\n",
       "      <th>47</th>\n",
       "      <td>77123</td>\n",
       "      <td>1</td>\n",
       "      <td>Electric Pie Press with extras</td>\n",
       "      <td>GOOD</td>\n",
       "      <td>$2,250.00</td>\n",
       "      <td>EA</td>\n",
       "      <td>Quick</td>\n",
       "      <td>Image</td>\n",
       "    </tr>\n",
       "    <tr>\n",
       "      <th>48</th>\n",
       "      <td>77121</td>\n",
       "      <td>1</td>\n",
       "      <td>Electrolux Professional Ag, Ch-6210 Sursee Til...</td>\n",
       "      <td>GOOD</td>\n",
       "      <td>$13,125.00</td>\n",
       "      <td>EA</td>\n",
       "      <td>Quick</td>\n",
       "      <td>Image</td>\n",
       "    </tr>\n",
       "    <tr>\n",
       "      <th>49</th>\n",
       "      <td>76844</td>\n",
       "      <td>1</td>\n",
       "      <td>Expandable conveyor</td>\n",
       "      <td>FAIR</td>\n",
       "      <td>$62.50</td>\n",
       "      <td>EA</td>\n",
       "      <td>Quick</td>\n",
       "      <td>Image</td>\n",
       "    </tr>\n",
       "    <tr>\n",
       "      <th>50</th>\n",
       "      <td>77067</td>\n",
       "      <td>293</td>\n",
       "      <td>Folding chairs</td>\n",
       "      <td>GOOD</td>\n",
       "      <td>$3.75</td>\n",
       "      <td>EA</td>\n",
       "      <td>Quick</td>\n",
       "      <td></td>\n",
       "    </tr>\n",
       "    <tr>\n",
       "      <th>51</th>\n",
       "      <td>76140</td>\n",
       "      <td>1</td>\n",
       "      <td>Fry Catch Basin</td>\n",
       "      <td>GOOD</td>\n",
       "      <td>$118.75</td>\n",
       "      <td>EA</td>\n",
       "      <td>Quick</td>\n",
       "      <td>Image</td>\n",
       "    </tr>\n",
       "    <tr>\n",
       "      <th>52</th>\n",
       "      <td>58571</td>\n",
       "      <td>43</td>\n",
       "      <td>Gray RCA Audio</td>\n",
       "      <td>VARIES</td>\n",
       "      <td>$1.00</td>\n",
       "      <td>EA</td>\n",
       "      <td>Quick</td>\n",
       "      <td>Image</td>\n",
       "    </tr>\n",
       "    <tr>\n",
       "      <th>53</th>\n",
       "      <td>76313</td>\n",
       "      <td>1</td>\n",
       "      <td>Hanging projector scissor lift</td>\n",
       "      <td>POOR</td>\n",
       "      <td>$25.00</td>\n",
       "      <td>EA</td>\n",
       "      <td>Quick</td>\n",
       "      <td></td>\n",
       "    </tr>\n",
       "    <tr>\n",
       "      <th>54</th>\n",
       "      <td>77302</td>\n",
       "      <td>1</td>\n",
       "      <td>Homack 2008 tool box 41\" blue Homack tool box</td>\n",
       "      <td>GOOD</td>\n",
       "      <td>$995.00</td>\n",
       "      <td>EA</td>\n",
       "      <td>Bid</td>\n",
       "      <td></td>\n",
       "    </tr>\n",
       "    <tr>\n",
       "      <th>55</th>\n",
       "      <td>76135</td>\n",
       "      <td>1</td>\n",
       "      <td>Ice Dispenser</td>\n",
       "      <td>GOOD</td>\n",
       "      <td>$768.75</td>\n",
       "      <td>EA</td>\n",
       "      <td>Quick</td>\n",
       "      <td>Image</td>\n",
       "    </tr>\n",
       "    <tr>\n",
       "      <th>56</th>\n",
       "      <td>77124</td>\n",
       "      <td>1</td>\n",
       "      <td>Industrial Metal Shevles W/no legs Comes with ...</td>\n",
       "      <td>GOOD</td>\n",
       "      <td>$15.00</td>\n",
       "      <td>EA</td>\n",
       "      <td>Quick</td>\n",
       "      <td>Image</td>\n",
       "    </tr>\n",
       "    <tr>\n",
       "      <th>57</th>\n",
       "      <td>76752</td>\n",
       "      <td>1</td>\n",
       "      <td>Labconco Paramount Filtered Enclosure stand</td>\n",
       "      <td>EXCELLENT</td>\n",
       "      <td>$250.00</td>\n",
       "      <td>AMT</td>\n",
       "      <td>Quick</td>\n",
       "      <td>Image</td>\n",
       "    </tr>\n",
       "    <tr>\n",
       "      <th>58</th>\n",
       "      <td>52304</td>\n",
       "      <td>26</td>\n",
       "      <td>Large AC Adaptors</td>\n",
       "      <td>FAIR</td>\n",
       "      <td>$15.00</td>\n",
       "      <td>EA</td>\n",
       "      <td>Quick</td>\n",
       "      <td>Image</td>\n",
       "    </tr>\n",
       "    <tr>\n",
       "      <th>59</th>\n",
       "      <td>76991</td>\n",
       "      <td>1</td>\n",
       "      <td>Monitors</td>\n",
       "      <td>GOOD</td>\n",
       "      <td>$7.50</td>\n",
       "      <td>EA</td>\n",
       "      <td>Quick</td>\n",
       "      <td></td>\n",
       "    </tr>\n",
       "    <tr>\n",
       "      <th>60</th>\n",
       "      <td>76048</td>\n",
       "      <td>1</td>\n",
       "      <td>mop bucket</td>\n",
       "      <td>UNKNOWN</td>\n",
       "      <td>$0.75</td>\n",
       "      <td>EA</td>\n",
       "      <td>Quick</td>\n",
       "      <td></td>\n",
       "    </tr>\n",
       "    <tr>\n",
       "      <th>61</th>\n",
       "      <td>76843</td>\n",
       "      <td>1</td>\n",
       "      <td>Morgana Digifold Pro Folding/Scoring Machine</td>\n",
       "      <td>FAIR</td>\n",
       "      <td>$7,500.00</td>\n",
       "      <td>EA</td>\n",
       "      <td>Quick</td>\n",
       "      <td>Image</td>\n",
       "    </tr>\n",
       "    <tr>\n",
       "      <th>62</th>\n",
       "      <td>75974</td>\n",
       "      <td>1</td>\n",
       "      <td>Old Monitor</td>\n",
       "      <td>FAIR</td>\n",
       "      <td>$2.50</td>\n",
       "      <td>EA</td>\n",
       "      <td>Quick</td>\n",
       "      <td></td>\n",
       "    </tr>\n",
       "    <tr>\n",
       "      <th>63</th>\n",
       "      <td>76129</td>\n",
       "      <td>1</td>\n",
       "      <td>Pioneer DVD Player (DV-606D)</td>\n",
       "      <td>FAIR</td>\n",
       "      <td>$3.75</td>\n",
       "      <td>EA</td>\n",
       "      <td>Quick</td>\n",
       "      <td></td>\n",
       "    </tr>\n",
       "    <tr>\n",
       "      <th>64</th>\n",
       "      <td>58227</td>\n",
       "      <td>101</td>\n",
       "      <td>RCA Audio cables</td>\n",
       "      <td>VARIES</td>\n",
       "      <td>$1.00</td>\n",
       "      <td>EA</td>\n",
       "      <td>Quick</td>\n",
       "      <td></td>\n",
       "    </tr>\n",
       "    <tr>\n",
       "      <th>65</th>\n",
       "      <td>76136</td>\n",
       "      <td>1</td>\n",
       "      <td>Single Pan Cold Well Drop In for Cabinet</td>\n",
       "      <td>GOOD</td>\n",
       "      <td>$62.50</td>\n",
       "      <td>EA</td>\n",
       "      <td>Quick</td>\n",
       "      <td>Image</td>\n",
       "    </tr>\n",
       "    <tr>\n",
       "      <th>66</th>\n",
       "      <td>76257</td>\n",
       "      <td>18</td>\n",
       "      <td>Sold by the case furnace filters</td>\n",
       "      <td>EXCELLENT</td>\n",
       "      <td>$8.00</td>\n",
       "      <td>EA</td>\n",
       "      <td>Quick</td>\n",
       "      <td></td>\n",
       "    </tr>\n",
       "    <tr>\n",
       "      <th>67</th>\n",
       "      <td>52769</td>\n",
       "      <td>54</td>\n",
       "      <td>VGA Cables</td>\n",
       "      <td>GOOD</td>\n",
       "      <td>$1.00</td>\n",
       "      <td>EA</td>\n",
       "      <td>Quick</td>\n",
       "      <td>Image</td>\n",
       "    </tr>\n",
       "    <tr>\n",
       "      <th>68</th>\n",
       "      <td></td>\n",
       "      <td></td>\n",
       "      <td></td>\n",
       "      <td></td>\n",
       "      <td></td>\n",
       "      <td></td>\n",
       "      <td></td>\n",
       "      <td></td>\n",
       "    </tr>\n",
       "  </tbody>\n",
       "</table>\n",
       "</div>"
      ],
      "text/plain": [
       "   Item Number   Qty                                        Description  \\\n",
       "0        77216     2                                      2016 iMac 21\"   \n",
       "1        77047     1  2017 Chevrolet Colorado ex cab 2wd, 2.5 auto e...   \n",
       "2        77213     5                                      2017 iMac 21\"   \n",
       "3        77217     5                                   2018 MacBook Pro   \n",
       "4        77122     1  BKI Free  Standing Fry Dump Station or Food Wa...   \n",
       "5        75191     1                              Catalyst 6500 Chassis   \n",
       "6        76137     1               Chick-fil-A Sandwich and Fry Display   \n",
       "7        75173     1                          Cisco 6500 series chassis   \n",
       "8        75176     1                          Cisco 6500 series chassis   \n",
       "9        75177     1                          Cisco 6500 series chassis   \n",
       "10       75178     1                          Cisco 6500 series chassis   \n",
       "11       75179     1                          Cisco 6500 series chassis   \n",
       "12       75180     1                          Cisco 6500 series chassis   \n",
       "13       75181     1                          Cisco 6500 series chassis   \n",
       "14       75182     1                          Cisco 6500 series chassis   \n",
       "15       75183     1                          Cisco 6500 series chassis   \n",
       "16       75184     1                          Cisco 6500 series chassis   \n",
       "17       75185     1                          Cisco 6500 series chassis   \n",
       "18       75186     1                          Cisco 6500 series chassis   \n",
       "19       75187     1                          Cisco 6500 series chassis   \n",
       "20       75188     1                          Cisco 6500 series chassis   \n",
       "21       75189     1                          Cisco 6500 series chassis   \n",
       "22       75190     1                          Cisco 6500 series chassis   \n",
       "23       75192     1                          Cisco 6500 series chassis   \n",
       "24       75193     1                          Cisco 6500 series chassis   \n",
       "25       75194     1                          Cisco 6500 series chassis   \n",
       "26       75195     1                          Cisco 6500 series chassis   \n",
       "27       75196     1                          Cisco 6500 series chassis   \n",
       "28       75197     1                          Cisco 6500 series chassis   \n",
       "29       75198     1                          Cisco 6500 series chassis   \n",
       "30       75199     1                          Cisco 6500 series chassis   \n",
       "31       75200     1                          Cisco 6500 series chassis   \n",
       "32       75201     1                          Cisco 6500 series chassis   \n",
       "33       75202     1                          Cisco 6500 series chassis   \n",
       "34       75203     1                          Cisco 6500 series chassis   \n",
       "35       76915    78               Coin Boxes - Pennies, Nickels, Dimes   \n",
       "36       50232   720                               COMPUTER - Keyboards   \n",
       "37       51847   641                                    COMPUTER - Mice   \n",
       "38       46633   384                             COMPUTER - Power Cords   \n",
       "39       52804  1030                      COMPUTER - USB Printer Cables   \n",
       "40       76847     4     Desisti De-Lux-2 Model 4600 Stage/Studio Light   \n",
       "41       76846    12       Desisti Giotto Model 4130 Stage/Studio Light   \n",
       "42       76849     6      Desisti Leonardo Model 310 Stage/Studio Light   \n",
       "43       76848     2  Desisti Leonardo Model 320 1000W Light Stage/S...   \n",
       "44       76845     6    Desisti Magis Model 300. 60W Stage/Studio Light   \n",
       "45       76141     1                           Dual Drawer Toast Master   \n",
       "46       76139     1                                   Duke Tray Warmer   \n",
       "47       77123     1                     Electric Pie Press with extras   \n",
       "48       77121     1  Electrolux Professional Ag, Ch-6210 Sursee Til...   \n",
       "49       76844     1                                Expandable conveyor   \n",
       "50       77067   293                                     Folding chairs   \n",
       "51       76140     1                                    Fry Catch Basin   \n",
       "52       58571    43                                     Gray RCA Audio   \n",
       "53       76313     1                     Hanging projector scissor lift   \n",
       "54       77302     1      Homack 2008 tool box 41\" blue Homack tool box   \n",
       "55       76135     1                                      Ice Dispenser   \n",
       "56       77124     1  Industrial Metal Shevles W/no legs Comes with ...   \n",
       "57       76752     1        Labconco Paramount Filtered Enclosure stand   \n",
       "58       52304    26                                  Large AC Adaptors   \n",
       "59       76991     1                                           Monitors   \n",
       "60       76048     1                                         mop bucket   \n",
       "61       76843     1       Morgana Digifold Pro Folding/Scoring Machine   \n",
       "62       75974     1                                        Old Monitor   \n",
       "63       76129     1                       Pioneer DVD Player (DV-606D)   \n",
       "64       58227   101                                   RCA Audio cables   \n",
       "65       76136     1           Single Pan Cold Well Drop In for Cabinet   \n",
       "66       76257    18                   Sold by the case furnace filters   \n",
       "67       52769    54                                         VGA Cables   \n",
       "68                                                                        \n",
       "\n",
       "    Condition       Price Location Quick/Bid  Image  \n",
       "0        FAIR     $200.00       EA     Quick         \n",
       "1        GOOD  $21,995.00       EA       Bid         \n",
       "2        FAIR     $250.00       EA     Quick         \n",
       "3        FAIR     $400.00       EA     Quick         \n",
       "4        GOOD     $525.00       EA     Quick  Image  \n",
       "5        GOOD      $50.00       UT     Quick         \n",
       "6        GOOD     $121.25       EA     Quick  Image  \n",
       "7        GOOD      $50.00       EA     Quick         \n",
       "8        GOOD      $50.00       UT     Quick         \n",
       "9        GOOD      $50.00       UT     Quick         \n",
       "10       GOOD      $50.00       UT     Quick         \n",
       "11       GOOD      $50.00       UT     Quick         \n",
       "12       GOOD      $50.00       UT     Quick         \n",
       "13       GOOD      $50.00       UT     Quick         \n",
       "14       GOOD      $50.00       UT     Quick         \n",
       "15       GOOD      $50.00       UT     Quick         \n",
       "16       GOOD      $50.00       UT     Quick         \n",
       "17       GOOD      $50.00       UT     Quick         \n",
       "18       GOOD      $50.00       UT     Quick         \n",
       "19       GOOD      $50.00       UT     Quick         \n",
       "20       GOOD      $50.00       UT     Quick         \n",
       "21       GOOD      $50.00       UT     Quick         \n",
       "22       GOOD      $50.00       UT     Quick         \n",
       "23       GOOD      $50.00       UT     Quick         \n",
       "24       GOOD      $50.00       UT     Quick         \n",
       "25       GOOD      $50.00       UT     Quick         \n",
       "26       GOOD      $50.00       UT     Quick         \n",
       "27       GOOD      $50.00       UT     Quick         \n",
       "28       GOOD      $50.00       UT     Quick         \n",
       "29       GOOD      $50.00       UT     Quick         \n",
       "30       GOOD      $50.00       UT     Quick         \n",
       "31       GOOD      $50.00       UT     Quick         \n",
       "32       GOOD      $50.00       UT     Quick         \n",
       "33       GOOD      $50.00       UT     Quick         \n",
       "34       GOOD      $50.00       UT     Quick         \n",
       "35  EXCELLENT       $0.50       EA     Quick         \n",
       "36       GOOD       $5.00       EA     Quick         \n",
       "37       GOOD       $2.00       EA     Quick         \n",
       "38     VARIES       $1.00       EA     Quick         \n",
       "39       GOOD       $1.00       EA     Quick  Image  \n",
       "40       FAIR     $320.00       EA       Bid  Image  \n",
       "41       FAIR     $160.00       EA       Bid  Image  \n",
       "42       FAIR     $150.00       EA       Bid  Image  \n",
       "43       FAIR     $200.00       EA       Bid  Image  \n",
       "44       FAIR     $125.00       EA       Bid  Image  \n",
       "45       GOOD     $180.00       EA     Quick  Image  \n",
       "46       GOOD     $243.75       EA     Quick  Image  \n",
       "47       GOOD   $2,250.00       EA     Quick  Image  \n",
       "48       GOOD  $13,125.00       EA     Quick  Image  \n",
       "49       FAIR      $62.50       EA     Quick  Image  \n",
       "50       GOOD       $3.75       EA     Quick         \n",
       "51       GOOD     $118.75       EA     Quick  Image  \n",
       "52     VARIES       $1.00       EA     Quick  Image  \n",
       "53       POOR      $25.00       EA     Quick         \n",
       "54       GOOD     $995.00       EA       Bid         \n",
       "55       GOOD     $768.75       EA     Quick  Image  \n",
       "56       GOOD      $15.00       EA     Quick  Image  \n",
       "57  EXCELLENT     $250.00      AMT     Quick  Image  \n",
       "58       FAIR      $15.00       EA     Quick  Image  \n",
       "59       GOOD       $7.50       EA     Quick         \n",
       "60    UNKNOWN       $0.75       EA     Quick         \n",
       "61       FAIR   $7,500.00       EA     Quick  Image  \n",
       "62       FAIR       $2.50       EA     Quick         \n",
       "63       FAIR       $3.75       EA     Quick         \n",
       "64     VARIES       $1.00       EA     Quick         \n",
       "65       GOOD      $62.50       EA     Quick  Image  \n",
       "66  EXCELLENT       $8.00       EA     Quick         \n",
       "67       GOOD       $1.00       EA     Quick  Image  \n",
       "68                                                   "
      ]
     },
     "execution_count": 4,
     "metadata": {},
     "output_type": "execute_result"
    }
   ],
   "source": [
    "data = pd.DataFrame(rows)\n",
    "\n",
    "pd.set_option('display.max_rows', None)\n",
    "\n",
    "data"
   ]
  },
  {
   "cell_type": "markdown",
   "metadata": {},
   "source": [
    "## Save to CSV "
   ]
  },
  {
   "cell_type": "code",
   "execution_count": 5,
   "metadata": {},
   "outputs": [],
   "source": [
    "date = datetime.now().strftime(\"%d-%m-%Y %H%M%S\") # get local time as string\n",
    "\n",
    "filePath = \"../Surplus - Historical Data/SurplusSaleItems \" + date + \" - Webscrape.csv\"\n",
    "\n",
    "data.to_csv(filePath, index=False) # save to file path"
   ]
  },
  {
   "cell_type": "markdown",
   "metadata": {},
   "source": [
    "## Simple Data Analysis "
   ]
  },
  {
   "cell_type": "code",
   "execution_count": 6,
   "metadata": {},
   "outputs": [],
   "source": [
    "import matplotlib.pyplot as plt\n",
    "import plotly.express as px"
   ]
  },
  {
   "cell_type": "code",
   "execution_count": 7,
   "metadata": {},
   "outputs": [
    {
     "data": {
      "text/html": [
       "<div>\n",
       "<style scoped>\n",
       "    .dataframe tbody tr th:only-of-type {\n",
       "        vertical-align: middle;\n",
       "    }\n",
       "\n",
       "    .dataframe tbody tr th {\n",
       "        vertical-align: top;\n",
       "    }\n",
       "\n",
       "    .dataframe thead th {\n",
       "        text-align: right;\n",
       "    }\n",
       "</style>\n",
       "<table border=\"1\" class=\"dataframe\">\n",
       "  <thead>\n",
       "    <tr style=\"text-align: right;\">\n",
       "      <th></th>\n",
       "      <th>Item Number</th>\n",
       "      <th>Qty</th>\n",
       "      <th>Description</th>\n",
       "      <th>Condition</th>\n",
       "      <th>Price</th>\n",
       "      <th>Location</th>\n",
       "      <th>Quick/Bid</th>\n",
       "      <th>Image</th>\n",
       "    </tr>\n",
       "  </thead>\n",
       "  <tbody>\n",
       "    <tr>\n",
       "      <th>count</th>\n",
       "      <td>68</td>\n",
       "      <td>68</td>\n",
       "      <td>68</td>\n",
       "      <td>68</td>\n",
       "      <td>68</td>\n",
       "      <td>68</td>\n",
       "      <td>68</td>\n",
       "      <td>68</td>\n",
       "    </tr>\n",
       "    <tr>\n",
       "      <th>unique</th>\n",
       "      <td>68</td>\n",
       "      <td>17</td>\n",
       "      <td>41</td>\n",
       "      <td>6</td>\n",
       "      <td>31</td>\n",
       "      <td>3</td>\n",
       "      <td>2</td>\n",
       "      <td>2</td>\n",
       "    </tr>\n",
       "    <tr>\n",
       "      <th>top</th>\n",
       "      <td>75186</td>\n",
       "      <td>1</td>\n",
       "      <td>Cisco 6500 series chassis</td>\n",
       "      <td>GOOD</td>\n",
       "      <td>$50.00</td>\n",
       "      <td>EA</td>\n",
       "      <td>Quick</td>\n",
       "      <td></td>\n",
       "    </tr>\n",
       "    <tr>\n",
       "      <th>freq</th>\n",
       "      <td>1</td>\n",
       "      <td>49</td>\n",
       "      <td>28</td>\n",
       "      <td>47</td>\n",
       "      <td>29</td>\n",
       "      <td>39</td>\n",
       "      <td>61</td>\n",
       "      <td>46</td>\n",
       "    </tr>\n",
       "  </tbody>\n",
       "</table>\n",
       "</div>"
      ],
      "text/plain": [
       "       Item Number Qty                Description Condition   Price Location  \\\n",
       "count           68  68                         68        68      68       68   \n",
       "unique          68  17                         41         6      31        3   \n",
       "top          75186   1  Cisco 6500 series chassis      GOOD  $50.00       EA   \n",
       "freq             1  49                         28        47      29       39   \n",
       "\n",
       "       Quick/Bid Image  \n",
       "count         68    68  \n",
       "unique         2     2  \n",
       "top        Quick        \n",
       "freq          61    46  "
      ]
     },
     "execution_count": 7,
     "metadata": {},
     "output_type": "execute_result"
    }
   ],
   "source": [
    "data.drop(data.tail(1).index,inplace=True) # Drop last row (is empty)\n",
    "data.describe()"
   ]
  },
  {
   "cell_type": "code",
   "execution_count": 8,
   "metadata": {},
   "outputs": [],
   "source": [
    "# Change column data types\n",
    "data.Price = pd.to_numeric(data.Price.str.replace(\"$\",\"\",regex=True).replace(\",\",\"\",regex=True))\n",
    "data['Item Number'] = pd.to_numeric(data['Item Number'])\n",
    "# data.Qty = pd.to_numeric(data.Qty)\n",
    "data.Qty = data.Qty.apply(lambda x: int(x))\n",
    "data.Condition = data.Condition.str.capitalize()\n",
    "a = data.copy()\n",
    "\n",
    "# repeat rows based on quantity\n",
    "data = data.reindex(data.index.repeat(data.Qty)).reset_index().drop(['index','Qty'], axis=1)"
   ]
  },
  {
   "cell_type": "code",
   "execution_count": 9,
   "metadata": {},
   "outputs": [
    {
     "name": "stdout",
     "output_type": "stream",
     "text": [
      "\n",
      "CONDITION OF ITEMS\n",
      "\n",
      "PLOT: ITEMS BASED ON CONDITION\n",
      "\n"
     ]
    },
    {
     "data": {
      "image/png": "[encoded data removed]"
     },
     "metadata": {},
     "output_type": "display_data"
    },
    {
     "data": {
      "image/png": "[encoded data removed]",
      "text/plain": [
       "<Figure size 1728x216 with 3 Axes>"
      ]
     },
     "metadata": {
      "needs_background": "light"
     },
     "output_type": "display_data"
    },
    {
     "data": {
      "image/png": "[encoded data removed]",
      "text/plain": [
       "<Figure size 720x720 with 1 Axes>"
      ]
     },
     "metadata": {},
     "output_type": "display_data"
    }
   ],
   "source": [
    "print(\n",
    "\"\"\"\n",
    "CONDITION OF ITEMS\n",
    "\n",
    "PLOT: ITEMS BASED ON CONDITION\n",
    "\"\"\"\n",
    ")\n",
    "\n",
    "names = data['Condition'].value_counts().reset_index()['index']\n",
    "values = data['Condition'].value_counts().reset_index()['Condition']\n",
    "\n",
    "fig, axs = plt.subplots(1, 3, figsize=(24, 3), sharey=True)\n",
    "axs[0].bar(names, values)\n",
    "axs[1].scatter(names, values)\n",
    "axs[2].plot(names, values)\n",
    "fig.suptitle('Conditions of All Items')\n",
    "\n",
    "fig1, ax1 = plt.subplots(figsize=(10,10))\n",
    "ax1.pie(values, autopct='%1.0f%%', startangle=90,textprops={'color':\"w\",'fontsize': 20},pctdistance=0.9)\n",
    "ax1.axis('equal')\n",
    "plt.legend(names, loc=\"center\")\n",
    "\n",
    "fig = px.bar(\n",
    "    a,\n",
    "    # y='Price',\n",
    "    x='Condition',\n",
    "    color='Condition',\n",
    "    color_discrete_map={'Good':'green','Fair':'gray','Excellent':'gold','Poor':'red'},\n",
    "    title=\"ITEMS (UNIQUE) PER CONDITION\",\n",
    "    width=1200, height=400\n",
    "    )\n",
    "\n",
    "fig.update_layout(xaxis={'categoryorder':'total descending'})\n",
    "\n",
    "fig.show('png')\n"
   ]
  },
  {
   "cell_type": "code",
   "execution_count": 10,
   "metadata": {},
   "outputs": [
    {
     "name": "stdout",
     "output_type": "stream",
     "text": [
      "TABLE: ITEMS AMOUNT PER CONDITION\n"
     ]
    },
    {
     "data": {
      "text/plain": [
       "Good         2780\n",
       "Varies        528\n",
       "Excellent      97\n",
       "Fair           72\n",
       "Unknown         1\n",
       "Poor            1\n",
       "Name: Condition, dtype: int64"
      ]
     },
     "execution_count": 10,
     "metadata": {},
     "output_type": "execute_result"
    }
   ],
   "source": [
    "print('TABLE: ITEMS AMOUNT PER CONDITION')\n",
    "data['Condition'].value_counts()"
   ]
  },
  {
   "cell_type": "code",
   "execution_count": 11,
   "metadata": {},
   "outputs": [
    {
     "name": "stdout",
     "output_type": "stream",
     "text": [
      "\n",
      "TOP 10 MOST EXPENSIVE ITEMS\n",
      "\n"
     ]
    },
    {
     "data": {
      "text/html": [
       "<div>\n",
       "<style scoped>\n",
       "    .dataframe tbody tr th:only-of-type {\n",
       "        vertical-align: middle;\n",
       "    }\n",
       "\n",
       "    .dataframe tbody tr th {\n",
       "        vertical-align: top;\n",
       "    }\n",
       "\n",
       "    .dataframe thead th {\n",
       "        text-align: right;\n",
       "    }\n",
       "</style>\n",
       "<table border=\"1\" class=\"dataframe\">\n",
       "  <thead>\n",
       "    <tr style=\"text-align: right;\">\n",
       "      <th></th>\n",
       "      <th>Description</th>\n",
       "      <th>Price</th>\n",
       "      <th>Condition</th>\n",
       "    </tr>\n",
       "  </thead>\n",
       "  <tbody>\n",
       "    <tr>\n",
       "      <th>0</th>\n",
       "      <td>2017 Chevrolet Colorado ex cab 2wd, 2.5 auto e...</td>\n",
       "      <td>21995.00</td>\n",
       "      <td>Good</td>\n",
       "    </tr>\n",
       "    <tr>\n",
       "      <th>1</th>\n",
       "      <td>Electrolux Professional Ag, Ch-6210 Sursee Til...</td>\n",
       "      <td>13125.00</td>\n",
       "      <td>Good</td>\n",
       "    </tr>\n",
       "    <tr>\n",
       "      <th>2</th>\n",
       "      <td>Morgana Digifold Pro Folding/Scoring Machine</td>\n",
       "      <td>7500.00</td>\n",
       "      <td>Fair</td>\n",
       "    </tr>\n",
       "    <tr>\n",
       "      <th>3</th>\n",
       "      <td>Electric Pie Press with extras</td>\n",
       "      <td>2250.00</td>\n",
       "      <td>Good</td>\n",
       "    </tr>\n",
       "    <tr>\n",
       "      <th>4</th>\n",
       "      <td>Homack 2008 tool box 41\" blue Homack tool box</td>\n",
       "      <td>995.00</td>\n",
       "      <td>Good</td>\n",
       "    </tr>\n",
       "    <tr>\n",
       "      <th>5</th>\n",
       "      <td>Ice Dispenser</td>\n",
       "      <td>768.75</td>\n",
       "      <td>Good</td>\n",
       "    </tr>\n",
       "    <tr>\n",
       "      <th>6</th>\n",
       "      <td>BKI Free  Standing Fry Dump Station or Food Wa...</td>\n",
       "      <td>525.00</td>\n",
       "      <td>Good</td>\n",
       "    </tr>\n",
       "    <tr>\n",
       "      <th>7</th>\n",
       "      <td>2018 MacBook Pro</td>\n",
       "      <td>400.00</td>\n",
       "      <td>Fair</td>\n",
       "    </tr>\n",
       "    <tr>\n",
       "      <th>8</th>\n",
       "      <td>2018 MacBook Pro</td>\n",
       "      <td>400.00</td>\n",
       "      <td>Fair</td>\n",
       "    </tr>\n",
       "    <tr>\n",
       "      <th>9</th>\n",
       "      <td>2018 MacBook Pro</td>\n",
       "      <td>400.00</td>\n",
       "      <td>Fair</td>\n",
       "    </tr>\n",
       "  </tbody>\n",
       "</table>\n",
       "</div>"
      ],
      "text/plain": [
       "                                         Description     Price Condition\n",
       "0  2017 Chevrolet Colorado ex cab 2wd, 2.5 auto e...  21995.00      Good\n",
       "1  Electrolux Professional Ag, Ch-6210 Sursee Til...  13125.00      Good\n",
       "2       Morgana Digifold Pro Folding/Scoring Machine   7500.00      Fair\n",
       "3                     Electric Pie Press with extras   2250.00      Good\n",
       "4      Homack 2008 tool box 41\" blue Homack tool box    995.00      Good\n",
       "5                                      Ice Dispenser    768.75      Good\n",
       "6  BKI Free  Standing Fry Dump Station or Food Wa...    525.00      Good\n",
       "7                                   2018 MacBook Pro    400.00      Fair\n",
       "8                                   2018 MacBook Pro    400.00      Fair\n",
       "9                                   2018 MacBook Pro    400.00      Fair"
      ]
     },
     "execution_count": 11,
     "metadata": {},
     "output_type": "execute_result"
    }
   ],
   "source": [
    "# Top 10 expensive items - overall\n",
    "print(\n",
    "\"\"\"\n",
    "TOP 10 MOST EXPENSIVE ITEMS\n",
    "\"\"\"\n",
    ")\n",
    "\n",
    "a = data.sort_values('Price',ascending=False).head(10)[['Description','Price','Condition']].reset_index().drop('index',axis=1)\n",
    "a"
   ]
  },
  {
   "cell_type": "code",
   "execution_count": 12,
   "metadata": {},
   "outputs": [
    {
     "name": "stdout",
     "output_type": "stream",
     "text": [
      "\n",
      "TOP 10 MOST EXPENSIVE ITEMS\n",
      "\n"
     ]
    },
    {
     "data": {
      "application/vnd.plotly.v1+json": {
       "config": {
        "plotlyServerURL": "https://plot.ly"
       },
       "data": [
        {
         "alignmentgroup": "True",
         "hovertemplate": "Condition=Good<br>Price=%{x}<br>Description=%{y}<extra></extra>",
         "legendgroup": "Good",
         "marker": {
          "color": "green",
          "pattern": {
           "shape": ""
          }
         },
         "name": "Good",
         "offsetgroup": "Good",
         "orientation": "h",
         "showlegend": true,
         "textposition": "auto",
         "type": "bar",
         "x": [
          21995,
          13125,
          2250,
          995,
          768.75,
          525
         ],
         "xaxis": "x",
         "y": [
          "2017 Chevrolet Colorado ex cab 2wd, 2.5 auto engine trans,  tow package, bed liner, only 23236 miles. Bid ends 7/28/2022",
          "Electrolux Professional Ag, Ch-6210 Sursee Tilt Pressure Cooker 40 Gallon",
          "Electric Pie Press with extras",
          "Homack 2008 tool box 41\" blue Homack tool box",
          "Ice Dispenser",
          "BKI Free  Standing Fry Dump Station or Food Warmer"
         ],
         "yaxis": "y"
        },
        {
         "alignmentgroup": "True",
         "hovertemplate": "Condition=Fair<br>Price=%{x}<br>Description=%{y}<extra></extra>",
         "legendgroup": "Fair",
         "marker": {
          "color": "gray",
          "pattern": {
           "shape": ""
          }
         },
         "name": "Fair",
         "offsetgroup": "Fair",
         "orientation": "h",
         "showlegend": true,
         "textposition": "auto",
         "type": "bar",
         "x": [
          7500,
          400,
          400,
          400
         ],
         "xaxis": "x",
         "y": [
          "Morgana Digifold Pro Folding/Scoring Machine",
          "2018 MacBook Pro",
          "2018 MacBook Pro",
          "2018 MacBook Pro"
         ],
         "yaxis": "y"
        }
       ],
       "layout": {
        "barmode": "relative",
        "height": 400,
        "legend": {
         "title": {
          "text": "Condition"
         },
         "tracegroupgap": 0
        },
        "template": {
         "data": {
          "bar": [
           {
            "error_x": {
             "color": "#2a3f5f"
            },
            "error_y": {
             "color": "#2a3f5f"
            },
            "marker": {
             "line": {
              "color": "#E5ECF6",
              "width": 0.5
             },
             "pattern": {
              "fillmode": "overlay",
              "size": 10,
              "solidity": 0.2
             }
            },
            "type": "bar"
           }
          ],
          "barpolar": [
           {
            "marker": {
             "line": {
              "color": "#E5ECF6",
              "width": 0.5
             },
             "pattern": {
              "fillmode": "overlay",
              "size": 10,
              "solidity": 0.2
             }
            },
            "type": "barpolar"
           }
          ],
          "carpet": [
           {
            "aaxis": {
             "endlinecolor": "#2a3f5f",
             "gridcolor": "white",
             "linecolor": "white",
             "minorgridcolor": "white",
             "startlinecolor": "#2a3f5f"
            },
            "baxis": {
             "endlinecolor": "#2a3f5f",
             "gridcolor": "white",
             "linecolor": "white",
             "minorgridcolor": "white",
             "startlinecolor": "#2a3f5f"
            },
            "type": "carpet"
           }
          ],
          "choropleth": [
           {
            "colorbar": {
             "outlinewidth": 0,
             "ticks": ""
            },
            "type": "choropleth"
           }
          ],
          "contour": [
           {
            "colorbar": {
             "outlinewidth": 0,
             "ticks": ""
            },
            "colorscale": [
             [
              0,
              "#0d0887"
             ],
             [
              0.1111111111111111,
              "#46039f"
             ],
             [
              0.2222222222222222,
              "#7201a8"
             ],
             [
              0.3333333333333333,
              "#9c179e"
             ],
             [
              0.4444444444444444,
              "#bd3786"
             ],
             [
              0.5555555555555556,
              "#d8576b"
             ],
             [
              0.6666666666666666,
              "#ed7953"
             ],
             [
              0.7777777777777778,
              "#fb9f3a"
             ],
             [
              0.8888888888888888,
              "#fdca26"
             ],
             [
              1,
              "#f0f921"
             ]
            ],
            "type": "contour"
           }
          ],
          "contourcarpet": [
           {
            "colorbar": {
             "outlinewidth": 0,
             "ticks": ""
            },
            "type": "contourcarpet"
           }
          ],
          "heatmap": [
           {
            "colorbar": {
             "outlinewidth": 0,
             "ticks": ""
            },
            "colorscale": [
             [
              0,
              "#0d0887"
             ],
             [
              0.1111111111111111,
              "#46039f"
             ],
             [
              0.2222222222222222,
              "#7201a8"
             ],
             [
              0.3333333333333333,
              "#9c179e"
             ],
             [
              0.4444444444444444,
              "#bd3786"
             ],
             [
              0.5555555555555556,
              "#d8576b"
             ],
             [
              0.6666666666666666,
              "#ed7953"
             ],
             [
              0.7777777777777778,
              "#fb9f3a"
             ],
             [
              0.8888888888888888,
              "#fdca26"
             ],
             [
              1,
              "#f0f921"
             ]
            ],
            "type": "heatmap"
           }
          ],
          "heatmapgl": [
           {
            "colorbar": {
             "outlinewidth": 0,
             "ticks": ""
            },
            "colorscale": [
             [
              0,
              "#0d0887"
             ],
             [
              0.1111111111111111,
              "#46039f"
             ],
             [
              0.2222222222222222,
              "#7201a8"
             ],
             [
              0.3333333333333333,
              "#9c179e"
             ],
             [
              0.4444444444444444,
              "#bd3786"
             ],
             [
              0.5555555555555556,
              "#d8576b"
             ],
             [
              0.6666666666666666,
              "#ed7953"
             ],
             [
              0.7777777777777778,
              "#fb9f3a"
             ],
             [
              0.8888888888888888,
              "#fdca26"
             ],
             [
              1,
              "#f0f921"
             ]
            ],
            "type": "heatmapgl"
           }
          ],
          "histogram": [
           {
            "marker": {
             "pattern": {
              "fillmode": "overlay",
              "size": 10,
              "solidity": 0.2
             }
            },
            "type": "histogram"
           }
          ],
          "histogram2d": [
           {
            "colorbar": {
             "outlinewidth": 0,
             "ticks": ""
            },
            "colorscale": [
             [
              0,
              "#0d0887"
             ],
             [
              0.1111111111111111,
              "#46039f"
             ],
             [
              0.2222222222222222,
              "#7201a8"
             ],
             [
              0.3333333333333333,
              "#9c179e"
             ],
             [
              0.4444444444444444,
              "#bd3786"
             ],
             [
              0.5555555555555556,
              "#d8576b"
             ],
             [
              0.6666666666666666,
              "#ed7953"
             ],
             [
              0.7777777777777778,
              "#fb9f3a"
             ],
             [
              0.8888888888888888,
              "#fdca26"
             ],
             [
              1,
              "#f0f921"
             ]
            ],
            "type": "histogram2d"
           }
          ],
          "histogram2dcontour": [
           {
            "colorbar": {
             "outlinewidth": 0,
             "ticks": ""
            },
            "colorscale": [
             [
              0,
              "#0d0887"
             ],
             [
              0.1111111111111111,
              "#46039f"
             ],
             [
              0.2222222222222222,
              "#7201a8"
             ],
             [
              0.3333333333333333,
              "#9c179e"
             ],
             [
              0.4444444444444444,
              "#bd3786"
             ],
             [
              0.5555555555555556,
              "#d8576b"
             ],
             [
              0.6666666666666666,
              "#ed7953"
             ],
             [
              0.7777777777777778,
              "#fb9f3a"
             ],
             [
              0.8888888888888888,
              "#fdca26"
             ],
             [
              1,
              "#f0f921"
             ]
            ],
            "type": "histogram2dcontour"
           }
          ],
          "mesh3d": [
           {
            "colorbar": {
             "outlinewidth": 0,
             "ticks": ""
            },
            "type": "mesh3d"
           }
          ],
          "parcoords": [
           {
            "line": {
             "colorbar": {
              "outlinewidth": 0,
              "ticks": ""
             }
            },
            "type": "parcoords"
           }
          ],
          "pie": [
           {
            "automargin": true,
            "type": "pie"
           }
          ],
          "scatter": [
           {
            "fillpattern": {
             "fillmode": "overlay",
             "size": 10,
             "solidity": 0.2
            },
            "type": "scatter"
           }
          ],
          "scatter3d": [
           {
            "line": {
             "colorbar": {
              "outlinewidth": 0,
              "ticks": ""
             }
            },
            "marker": {
             "colorbar": {
              "outlinewidth": 0,
              "ticks": ""
             }
            },
            "type": "scatter3d"
           }
          ],
          "scattercarpet": [
           {
            "marker": {
             "colorbar": {
              "outlinewidth": 0,
              "ticks": ""
             }
            },
            "type": "scattercarpet"
           }
          ],
          "scattergeo": [
           {
            "marker": {
             "colorbar": {
              "outlinewidth": 0,
              "ticks": ""
             }
            },
            "type": "scattergeo"
           }
          ],
          "scattergl": [
           {
            "marker": {
             "colorbar": {
              "outlinewidth": 0,
              "ticks": ""
             }
            },
            "type": "scattergl"
           }
          ],
          "scattermapbox": [
           {
            "marker": {
             "colorbar": {
              "outlinewidth": 0,
              "ticks": ""
             }
            },
            "type": "scattermapbox"
           }
          ],
          "scatterpolar": [
           {
            "marker": {
             "colorbar": {
              "outlinewidth": 0,
              "ticks": ""
             }
            },
            "type": "scatterpolar"
           }
          ],
          "scatterpolargl": [
           {
            "marker": {
             "colorbar": {
              "outlinewidth": 0,
              "ticks": ""
             }
            },
            "type": "scatterpolargl"
           }
          ],
          "scatterternary": [
           {
            "marker": {
             "colorbar": {
              "outlinewidth": 0,
              "ticks": ""
             }
            },
            "type": "scatterternary"
           }
          ],
          "surface": [
           {
            "colorbar": {
             "outlinewidth": 0,
             "ticks": ""
            },
            "colorscale": [
             [
              0,
              "#0d0887"
             ],
             [
              0.1111111111111111,
              "#46039f"
             ],
             [
              0.2222222222222222,
              "#7201a8"
             ],
             [
              0.3333333333333333,
              "#9c179e"
             ],
             [
              0.4444444444444444,
              "#bd3786"
             ],
             [
              0.5555555555555556,
              "#d8576b"
             ],
             [
              0.6666666666666666,
              "#ed7953"
             ],
             [
              0.7777777777777778,
              "#fb9f3a"
             ],
             [
              0.8888888888888888,
              "#fdca26"
             ],
             [
              1,
              "#f0f921"
             ]
            ],
            "type": "surface"
           }
          ],
          "table": [
           {
            "cells": {
             "fill": {
              "color": "#EBF0F8"
             },
             "line": {
              "color": "white"
             }
            },
            "header": {
             "fill": {
              "color": "#C8D4E3"
             },
             "line": {
              "color": "white"
             }
            },
            "type": "table"
           }
          ]
         },
         "layout": {
          "annotationdefaults": {
           "arrowcolor": "#2a3f5f",
           "arrowhead": 0,
           "arrowwidth": 1
          },
          "autotypenumbers": "strict",
          "coloraxis": {
           "colorbar": {
            "outlinewidth": 0,
            "ticks": ""
           }
          },
          "colorscale": {
           "diverging": [
            [
             0,
             "#8e0152"
            ],
            [
             0.1,
             "#c51b7d"
            ],
            [
             0.2,
             "#de77ae"
            ],
            [
             0.3,
             "#f1b6da"
            ],
            [
             0.4,
             "#fde0ef"
            ],
            [
             0.5,
             "#f7f7f7"
            ],
            [
             0.6,
             "#e6f5d0"
            ],
            [
             0.7,
             "#b8e186"
            ],
            [
             0.8,
             "#7fbc41"
            ],
            [
             0.9,
             "#4d9221"
            ],
            [
             1,
             "#276419"
            ]
           ],
           "sequential": [
            [
             0,
             "#0d0887"
            ],
            [
             0.1111111111111111,
             "#46039f"
            ],
            [
             0.2222222222222222,
             "#7201a8"
            ],
            [
             0.3333333333333333,
             "#9c179e"
            ],
            [
             0.4444444444444444,
             "#bd3786"
            ],
            [
             0.5555555555555556,
             "#d8576b"
            ],
            [
             0.6666666666666666,
             "#ed7953"
            ],
            [
             0.7777777777777778,
             "#fb9f3a"
            ],
            [
             0.8888888888888888,
             "#fdca26"
            ],
            [
             1,
             "#f0f921"
            ]
           ],
           "sequentialminus": [
            [
             0,
             "#0d0887"
            ],
            [
             0.1111111111111111,
             "#46039f"
            ],
            [
             0.2222222222222222,
             "#7201a8"
            ],
            [
             0.3333333333333333,
             "#9c179e"
            ],
            [
             0.4444444444444444,
             "#bd3786"
            ],
            [
             0.5555555555555556,
             "#d8576b"
            ],
            [
             0.6666666666666666,
             "#ed7953"
            ],
            [
             0.7777777777777778,
             "#fb9f3a"
            ],
            [
             0.8888888888888888,
             "#fdca26"
            ],
            [
             1,
             "#f0f921"
            ]
           ]
          },
          "colorway": [
           "#636efa",
           "#EF553B",
           "#00cc96",
           "#ab63fa",
           "#FFA15A",
           "#19d3f3",
           "#FF6692",
           "#B6E880",
           "#FF97FF",
           "#FECB52"
          ],
          "font": {
           "color": "#2a3f5f"
          },
          "geo": {
           "bgcolor": "white",
           "lakecolor": "white",
           "landcolor": "#E5ECF6",
           "showlakes": true,
           "showland": true,
           "subunitcolor": "white"
          },
          "hoverlabel": {
           "align": "left"
          },
          "hovermode": "closest",
          "mapbox": {
           "style": "light"
          },
          "paper_bgcolor": "white",
          "plot_bgcolor": "#E5ECF6",
          "polar": {
           "angularaxis": {
            "gridcolor": "white",
            "linecolor": "white",
            "ticks": ""
           },
           "bgcolor": "#E5ECF6",
           "radialaxis": {
            "gridcolor": "white",
            "linecolor": "white",
            "ticks": ""
           }
          },
          "scene": {
           "xaxis": {
            "backgroundcolor": "#E5ECF6",
            "gridcolor": "white",
            "gridwidth": 2,
            "linecolor": "white",
            "showbackground": true,
            "ticks": "",
            "zerolinecolor": "white"
           },
           "yaxis": {
            "backgroundcolor": "#E5ECF6",
            "gridcolor": "white",
            "gridwidth": 2,
            "linecolor": "white",
            "showbackground": true,
            "ticks": "",
            "zerolinecolor": "white"
           },
           "zaxis": {
            "backgroundcolor": "#E5ECF6",
            "gridcolor": "white",
            "gridwidth": 2,
            "linecolor": "white",
            "showbackground": true,
            "ticks": "",
            "zerolinecolor": "white"
           }
          },
          "shapedefaults": {
           "line": {
            "color": "#2a3f5f"
           }
          },
          "ternary": {
           "aaxis": {
            "gridcolor": "white",
            "linecolor": "white",
            "ticks": ""
           },
           "baxis": {
            "gridcolor": "white",
            "linecolor": "white",
            "ticks": ""
           },
           "bgcolor": "#E5ECF6",
           "caxis": {
            "gridcolor": "white",
            "linecolor": "white",
            "ticks": ""
           }
          },
          "title": {
           "x": 0.05
          },
          "xaxis": {
           "automargin": true,
           "gridcolor": "white",
           "linecolor": "white",
           "ticks": "",
           "title": {
            "standoff": 15
           },
           "zerolinecolor": "white",
           "zerolinewidth": 2
          },
          "yaxis": {
           "automargin": true,
           "gridcolor": "white",
           "linecolor": "white",
           "ticks": "",
           "title": {
            "standoff": 15
           },
           "zerolinecolor": "white",
           "zerolinewidth": 2
          }
         }
        },
        "title": {
         "text": "TOP 10 MOST EXPENSIVE ITEMS"
        },
        "width": 1200,
        "xaxis": {
         "anchor": "y",
         "domain": [
          0,
          1
         ],
         "title": {
          "text": "Price"
         }
        },
        "yaxis": {
         "anchor": "x",
         "domain": [
          0,
          1
         ],
         "title": {
          "text": "Description"
         }
        }
       }
      }
     },
     "metadata": {},
     "output_type": "display_data"
    }
   ],
   "source": [
    "# Top 10 expensive items - overall\n",
    "print(\n",
    "\"\"\"\n",
    "TOP 10 MOST EXPENSIVE ITEMS\n",
    "\"\"\"\n",
    ")\n",
    "\n",
    "fig = px.bar(\n",
    "    a,\n",
    "    y='Description',\n",
    "    x='Price',\n",
    "    color='Condition',\n",
    "    color_discrete_map={'Good':'green','Fair':'gray','Excellent':'gold'},\n",
    "    orientation='h',\n",
    "    title=\"TOP 10 MOST EXPENSIVE ITEMS\",\n",
    "    width=1200, height=400\n",
    "    )\n",
    "\n",
    "# fig.update_layout(yaxis={'categoryorder':'total ascending'})\n",
    "\n",
    "fig.show()"
   ]
  },
  {
   "cell_type": "code",
   "execution_count": 13,
   "metadata": {},
   "outputs": [
    {
     "name": "stdout",
     "output_type": "stream",
     "text": [
      "TOP 10 CHEAPEST ITEMS\n"
     ]
    },
    {
     "data": {
      "text/html": [
       "<div>\n",
       "<style scoped>\n",
       "    .dataframe tbody tr th:only-of-type {\n",
       "        vertical-align: middle;\n",
       "    }\n",
       "\n",
       "    .dataframe tbody tr th {\n",
       "        vertical-align: top;\n",
       "    }\n",
       "\n",
       "    .dataframe thead th {\n",
       "        text-align: right;\n",
       "    }\n",
       "</style>\n",
       "<table border=\"1\" class=\"dataframe\">\n",
       "  <thead>\n",
       "    <tr style=\"text-align: right;\">\n",
       "      <th></th>\n",
       "      <th>Description</th>\n",
       "      <th>Price</th>\n",
       "      <th>Condition</th>\n",
       "    </tr>\n",
       "  </thead>\n",
       "  <tbody>\n",
       "    <tr>\n",
       "      <th>0</th>\n",
       "      <td>Coin Boxes - Pennies, Nickels, Dimes</td>\n",
       "      <td>0.5</td>\n",
       "      <td>Excellent</td>\n",
       "    </tr>\n",
       "    <tr>\n",
       "      <th>1</th>\n",
       "      <td>Coin Boxes - Pennies, Nickels, Dimes</td>\n",
       "      <td>0.5</td>\n",
       "      <td>Excellent</td>\n",
       "    </tr>\n",
       "    <tr>\n",
       "      <th>2</th>\n",
       "      <td>Coin Boxes - Pennies, Nickels, Dimes</td>\n",
       "      <td>0.5</td>\n",
       "      <td>Excellent</td>\n",
       "    </tr>\n",
       "    <tr>\n",
       "      <th>3</th>\n",
       "      <td>Coin Boxes - Pennies, Nickels, Dimes</td>\n",
       "      <td>0.5</td>\n",
       "      <td>Excellent</td>\n",
       "    </tr>\n",
       "    <tr>\n",
       "      <th>4</th>\n",
       "      <td>Coin Boxes - Pennies, Nickels, Dimes</td>\n",
       "      <td>0.5</td>\n",
       "      <td>Excellent</td>\n",
       "    </tr>\n",
       "    <tr>\n",
       "      <th>5</th>\n",
       "      <td>Coin Boxes - Pennies, Nickels, Dimes</td>\n",
       "      <td>0.5</td>\n",
       "      <td>Excellent</td>\n",
       "    </tr>\n",
       "    <tr>\n",
       "      <th>6</th>\n",
       "      <td>Coin Boxes - Pennies, Nickels, Dimes</td>\n",
       "      <td>0.5</td>\n",
       "      <td>Excellent</td>\n",
       "    </tr>\n",
       "    <tr>\n",
       "      <th>7</th>\n",
       "      <td>Coin Boxes - Pennies, Nickels, Dimes</td>\n",
       "      <td>0.5</td>\n",
       "      <td>Excellent</td>\n",
       "    </tr>\n",
       "    <tr>\n",
       "      <th>8</th>\n",
       "      <td>Coin Boxes - Pennies, Nickels, Dimes</td>\n",
       "      <td>0.5</td>\n",
       "      <td>Excellent</td>\n",
       "    </tr>\n",
       "    <tr>\n",
       "      <th>9</th>\n",
       "      <td>Coin Boxes - Pennies, Nickels, Dimes</td>\n",
       "      <td>0.5</td>\n",
       "      <td>Excellent</td>\n",
       "    </tr>\n",
       "  </tbody>\n",
       "</table>\n",
       "</div>"
      ],
      "text/plain": [
       "                            Description  Price  Condition\n",
       "0  Coin Boxes - Pennies, Nickels, Dimes    0.5  Excellent\n",
       "1  Coin Boxes - Pennies, Nickels, Dimes    0.5  Excellent\n",
       "2  Coin Boxes - Pennies, Nickels, Dimes    0.5  Excellent\n",
       "3  Coin Boxes - Pennies, Nickels, Dimes    0.5  Excellent\n",
       "4  Coin Boxes - Pennies, Nickels, Dimes    0.5  Excellent\n",
       "5  Coin Boxes - Pennies, Nickels, Dimes    0.5  Excellent\n",
       "6  Coin Boxes - Pennies, Nickels, Dimes    0.5  Excellent\n",
       "7  Coin Boxes - Pennies, Nickels, Dimes    0.5  Excellent\n",
       "8  Coin Boxes - Pennies, Nickels, Dimes    0.5  Excellent\n",
       "9  Coin Boxes - Pennies, Nickels, Dimes    0.5  Excellent"
      ]
     },
     "execution_count": 13,
     "metadata": {},
     "output_type": "execute_result"
    }
   ],
   "source": [
    "# Bottom 10 cheapest items - overall\n",
    "\n",
    "print('TOP 10 CHEAPEST ITEMS')\n",
    "\n",
    "\n",
    "a = data.sort_values('Price',ascending=False).tail(10)[['Description','Price','Condition']].reset_index().drop('index',axis=1)\n",
    "a"
   ]
  },
  {
   "cell_type": "code",
   "execution_count": 14,
   "metadata": {},
   "outputs": [
    {
     "name": "stdout",
     "output_type": "stream",
     "text": [
      "TOP 10 CHEAPEST ITEMS\n"
     ]
    },
    {
     "data": {
      "application/vnd.plotly.v1+json": {
       "config": {
        "plotlyServerURL": "https://plot.ly"
       },
       "data": [
        {
         "alignmentgroup": "True",
         "hovertemplate": "Condition=Excellent<br>Price=%{x}<br>Description=%{y}<extra></extra>",
         "legendgroup": "Excellent",
         "marker": {
          "color": "gold",
          "pattern": {
           "shape": ""
          }
         },
         "name": "Excellent",
         "offsetgroup": "Excellent",
         "orientation": "h",
         "showlegend": true,
         "textposition": "auto",
         "type": "bar",
         "x": [
          0.5,
          0.5,
          0.5,
          0.5,
          0.5,
          0.5,
          0.5,
          0.5,
          0.5,
          0.5
         ],
         "xaxis": "x",
         "y": [
          "Coin Boxes - Pennies, Nickels, Dimes",
          "Coin Boxes - Pennies, Nickels, Dimes",
          "Coin Boxes - Pennies, Nickels, Dimes",
          "Coin Boxes - Pennies, Nickels, Dimes",
          "Coin Boxes - Pennies, Nickels, Dimes",
          "Coin Boxes - Pennies, Nickels, Dimes",
          "Coin Boxes - Pennies, Nickels, Dimes",
          "Coin Boxes - Pennies, Nickels, Dimes",
          "Coin Boxes - Pennies, Nickels, Dimes",
          "Coin Boxes - Pennies, Nickels, Dimes"
         ],
         "yaxis": "y"
        }
       ],
       "layout": {
        "barmode": "relative",
        "height": 400,
        "legend": {
         "title": {
          "text": "Condition"
         },
         "tracegroupgap": 0
        },
        "template": {
         "data": {
          "bar": [
           {
            "error_x": {
             "color": "#2a3f5f"
            },
            "error_y": {
             "color": "#2a3f5f"
            },
            "marker": {
             "line": {
              "color": "#E5ECF6",
              "width": 0.5
             },
             "pattern": {
              "fillmode": "overlay",
              "size": 10,
              "solidity": 0.2
             }
            },
            "type": "bar"
           }
          ],
          "barpolar": [
           {
            "marker": {
             "line": {
              "color": "#E5ECF6",
              "width": 0.5
             },
             "pattern": {
              "fillmode": "overlay",
              "size": 10,
              "solidity": 0.2
             }
            },
            "type": "barpolar"
           }
          ],
          "carpet": [
           {
            "aaxis": {
             "endlinecolor": "#2a3f5f",
             "gridcolor": "white",
             "linecolor": "white",
             "minorgridcolor": "white",
             "startlinecolor": "#2a3f5f"
            },
            "baxis": {
             "endlinecolor": "#2a3f5f",
             "gridcolor": "white",
             "linecolor": "white",
             "minorgridcolor": "white",
             "startlinecolor": "#2a3f5f"
            },
            "type": "carpet"
           }
          ],
          "choropleth": [
           {
            "colorbar": {
             "outlinewidth": 0,
             "ticks": ""
            },
            "type": "choropleth"
           }
          ],
          "contour": [
           {
            "colorbar": {
             "outlinewidth": 0,
             "ticks": ""
            },
            "colorscale": [
             [
              0,
              "#0d0887"
             ],
             [
              0.1111111111111111,
              "#46039f"
             ],
             [
              0.2222222222222222,
              "#7201a8"
             ],
             [
              0.3333333333333333,
              "#9c179e"
             ],
             [
              0.4444444444444444,
              "#bd3786"
             ],
             [
              0.5555555555555556,
              "#d8576b"
             ],
             [
              0.6666666666666666,
              "#ed7953"
             ],
             [
              0.7777777777777778,
              "#fb9f3a"
             ],
             [
              0.8888888888888888,
              "#fdca26"
             ],
             [
              1,
              "#f0f921"
             ]
            ],
            "type": "contour"
           }
          ],
          "contourcarpet": [
           {
            "colorbar": {
             "outlinewidth": 0,
             "ticks": ""
            },
            "type": "contourcarpet"
           }
          ],
          "heatmap": [
           {
            "colorbar": {
             "outlinewidth": 0,
             "ticks": ""
            },
            "colorscale": [
             [
              0,
              "#0d0887"
             ],
             [
              0.1111111111111111,
              "#46039f"
             ],
             [
              0.2222222222222222,
              "#7201a8"
             ],
             [
              0.3333333333333333,
              "#9c179e"
             ],
             [
              0.4444444444444444,
              "#bd3786"
             ],
             [
              0.5555555555555556,
              "#d8576b"
             ],
             [
              0.6666666666666666,
              "#ed7953"
             ],
             [
              0.7777777777777778,
              "#fb9f3a"
             ],
             [
              0.8888888888888888,
              "#fdca26"
             ],
             [
              1,
              "#f0f921"
             ]
            ],
            "type": "heatmap"
           }
          ],
          "heatmapgl": [
           {
            "colorbar": {
             "outlinewidth": 0,
             "ticks": ""
            },
            "colorscale": [
             [
              0,
              "#0d0887"
             ],
             [
              0.1111111111111111,
              "#46039f"
             ],
             [
              0.2222222222222222,
              "#7201a8"
             ],
             [
              0.3333333333333333,
              "#9c179e"
             ],
             [
              0.4444444444444444,
              "#bd3786"
             ],
             [
              0.5555555555555556,
              "#d8576b"
             ],
             [
              0.6666666666666666,
              "#ed7953"
             ],
             [
              0.7777777777777778,
              "#fb9f3a"
             ],
             [
              0.8888888888888888,
              "#fdca26"
             ],
             [
              1,
              "#f0f921"
             ]
            ],
            "type": "heatmapgl"
           }
          ],
          "histogram": [
           {
            "marker": {
             "pattern": {
              "fillmode": "overlay",
              "size": 10,
              "solidity": 0.2
             }
            },
            "type": "histogram"
           }
          ],
          "histogram2d": [
           {
            "colorbar": {
             "outlinewidth": 0,
             "ticks": ""
            },
            "colorscale": [
             [
              0,
              "#0d0887"
             ],
             [
              0.1111111111111111,
              "#46039f"
             ],
             [
              0.2222222222222222,
              "#7201a8"
             ],
             [
              0.3333333333333333,
              "#9c179e"
             ],
             [
              0.4444444444444444,
              "#bd3786"
             ],
             [
              0.5555555555555556,
              "#d8576b"
             ],
             [
              0.6666666666666666,
              "#ed7953"
             ],
             [
              0.7777777777777778,
              "#fb9f3a"
             ],
             [
              0.8888888888888888,
              "#fdca26"
             ],
             [
              1,
              "#f0f921"
             ]
            ],
            "type": "histogram2d"
           }
          ],
          "histogram2dcontour": [
           {
            "colorbar": {
             "outlinewidth": 0,
             "ticks": ""
            },
            "colorscale": [
             [
              0,
              "#0d0887"
             ],
             [
              0.1111111111111111,
              "#46039f"
             ],
             [
              0.2222222222222222,
              "#7201a8"
             ],
             [
              0.3333333333333333,
              "#9c179e"
             ],
             [
              0.4444444444444444,
              "#bd3786"
             ],
             [
              0.5555555555555556,
              "#d8576b"
             ],
             [
              0.6666666666666666,
              "#ed7953"
             ],
             [
              0.7777777777777778,
              "#fb9f3a"
             ],
             [
              0.8888888888888888,
              "#fdca26"
             ],
             [
              1,
              "#f0f921"
             ]
            ],
            "type": "histogram2dcontour"
           }
          ],
          "mesh3d": [
           {
            "colorbar": {
             "outlinewidth": 0,
             "ticks": ""
            },
            "type": "mesh3d"
           }
          ],
          "parcoords": [
           {
            "line": {
             "colorbar": {
              "outlinewidth": 0,
              "ticks": ""
             }
            },
            "type": "parcoords"
           }
          ],
          "pie": [
           {
            "automargin": true,
            "type": "pie"
           }
          ],
          "scatter": [
           {
            "fillpattern": {
             "fillmode": "overlay",
             "size": 10,
             "solidity": 0.2
            },
            "type": "scatter"
           }
          ],
          "scatter3d": [
           {
            "line": {
             "colorbar": {
              "outlinewidth": 0,
              "ticks": ""
             }
            },
            "marker": {
             "colorbar": {
              "outlinewidth": 0,
              "ticks": ""
             }
            },
            "type": "scatter3d"
           }
          ],
          "scattercarpet": [
           {
            "marker": {
             "colorbar": {
              "outlinewidth": 0,
              "ticks": ""
             }
            },
            "type": "scattercarpet"
           }
          ],
          "scattergeo": [
           {
            "marker": {
             "colorbar": {
              "outlinewidth": 0,
              "ticks": ""
             }
            },
            "type": "scattergeo"
           }
          ],
          "scattergl": [
           {
            "marker": {
             "colorbar": {
              "outlinewidth": 0,
              "ticks": ""
             }
            },
            "type": "scattergl"
           }
          ],
          "scattermapbox": [
           {
            "marker": {
             "colorbar": {
              "outlinewidth": 0,
              "ticks": ""
             }
            },
            "type": "scattermapbox"
           }
          ],
          "scatterpolar": [
           {
            "marker": {
             "colorbar": {
              "outlinewidth": 0,
              "ticks": ""
             }
            },
            "type": "scatterpolar"
           }
          ],
          "scatterpolargl": [
           {
            "marker": {
             "colorbar": {
              "outlinewidth": 0,
              "ticks": ""
             }
            },
            "type": "scatterpolargl"
           }
          ],
          "scatterternary": [
           {
            "marker": {
             "colorbar": {
              "outlinewidth": 0,
              "ticks": ""
             }
            },
            "type": "scatterternary"
           }
          ],
          "surface": [
           {
            "colorbar": {
             "outlinewidth": 0,
             "ticks": ""
            },
            "colorscale": [
             [
              0,
              "#0d0887"
             ],
             [
              0.1111111111111111,
              "#46039f"
             ],
             [
              0.2222222222222222,
              "#7201a8"
             ],
             [
              0.3333333333333333,
              "#9c179e"
             ],
             [
              0.4444444444444444,
              "#bd3786"
             ],
             [
              0.5555555555555556,
              "#d8576b"
             ],
             [
              0.6666666666666666,
              "#ed7953"
             ],
             [
              0.7777777777777778,
              "#fb9f3a"
             ],
             [
              0.8888888888888888,
              "#fdca26"
             ],
             [
              1,
              "#f0f921"
             ]
            ],
            "type": "surface"
           }
          ],
          "table": [
           {
            "cells": {
             "fill": {
              "color": "#EBF0F8"
             },
             "line": {
              "color": "white"
             }
            },
            "header": {
             "fill": {
              "color": "#C8D4E3"
             },
             "line": {
              "color": "white"
             }
            },
            "type": "table"
           }
          ]
         },
         "layout": {
          "annotationdefaults": {
           "arrowcolor": "#2a3f5f",
           "arrowhead": 0,
           "arrowwidth": 1
          },
          "autotypenumbers": "strict",
          "coloraxis": {
           "colorbar": {
            "outlinewidth": 0,
            "ticks": ""
           }
          },
          "colorscale": {
           "diverging": [
            [
             0,
             "#8e0152"
            ],
            [
             0.1,
             "#c51b7d"
            ],
            [
             0.2,
             "#de77ae"
            ],
            [
             0.3,
             "#f1b6da"
            ],
            [
             0.4,
             "#fde0ef"
            ],
            [
             0.5,
             "#f7f7f7"
            ],
            [
             0.6,
             "#e6f5d0"
            ],
            [
             0.7,
             "#b8e186"
            ],
            [
             0.8,
             "#7fbc41"
            ],
            [
             0.9,
             "#4d9221"
            ],
            [
             1,
             "#276419"
            ]
           ],
           "sequential": [
            [
             0,
             "#0d0887"
            ],
            [
             0.1111111111111111,
             "#46039f"
            ],
            [
             0.2222222222222222,
             "#7201a8"
            ],
            [
             0.3333333333333333,
             "#9c179e"
            ],
            [
             0.4444444444444444,
             "#bd3786"
            ],
            [
             0.5555555555555556,
             "#d8576b"
            ],
            [
             0.6666666666666666,
             "#ed7953"
            ],
            [
             0.7777777777777778,
             "#fb9f3a"
            ],
            [
             0.8888888888888888,
             "#fdca26"
            ],
            [
             1,
             "#f0f921"
            ]
           ],
           "sequentialminus": [
            [
             0,
             "#0d0887"
            ],
            [
             0.1111111111111111,
             "#46039f"
            ],
            [
             0.2222222222222222,
             "#7201a8"
            ],
            [
             0.3333333333333333,
             "#9c179e"
            ],
            [
             0.4444444444444444,
             "#bd3786"
            ],
            [
             0.5555555555555556,
             "#d8576b"
            ],
            [
             0.6666666666666666,
             "#ed7953"
            ],
            [
             0.7777777777777778,
             "#fb9f3a"
            ],
            [
             0.8888888888888888,
             "#fdca26"
            ],
            [
             1,
             "#f0f921"
            ]
           ]
          },
          "colorway": [
           "#636efa",
           "#EF553B",
           "#00cc96",
           "#ab63fa",
           "#FFA15A",
           "#19d3f3",
           "#FF6692",
           "#B6E880",
           "#FF97FF",
           "#FECB52"
          ],
          "font": {
           "color": "#2a3f5f"
          },
          "geo": {
           "bgcolor": "white",
           "lakecolor": "white",
           "landcolor": "#E5ECF6",
           "showlakes": true,
           "showland": true,
           "subunitcolor": "white"
          },
          "hoverlabel": {
           "align": "left"
          },
          "hovermode": "closest",
          "mapbox": {
           "style": "light"
          },
          "paper_bgcolor": "white",
          "plot_bgcolor": "#E5ECF6",
          "polar": {
           "angularaxis": {
            "gridcolor": "white",
            "linecolor": "white",
            "ticks": ""
           },
           "bgcolor": "#E5ECF6",
           "radialaxis": {
            "gridcolor": "white",
            "linecolor": "white",
            "ticks": ""
           }
          },
          "scene": {
           "xaxis": {
            "backgroundcolor": "#E5ECF6",
            "gridcolor": "white",
            "gridwidth": 2,
            "linecolor": "white",
            "showbackground": true,
            "ticks": "",
            "zerolinecolor": "white"
           },
           "yaxis": {
            "backgroundcolor": "#E5ECF6",
            "gridcolor": "white",
            "gridwidth": 2,
            "linecolor": "white",
            "showbackground": true,
            "ticks": "",
            "zerolinecolor": "white"
           },
           "zaxis": {
            "backgroundcolor": "#E5ECF6",
            "gridcolor": "white",
            "gridwidth": 2,
            "linecolor": "white",
            "showbackground": true,
            "ticks": "",
            "zerolinecolor": "white"
           }
          },
          "shapedefaults": {
           "line": {
            "color": "#2a3f5f"
           }
          },
          "ternary": {
           "aaxis": {
            "gridcolor": "white",
            "linecolor": "white",
            "ticks": ""
           },
           "baxis": {
            "gridcolor": "white",
            "linecolor": "white",
            "ticks": ""
           },
           "bgcolor": "#E5ECF6",
           "caxis": {
            "gridcolor": "white",
            "linecolor": "white",
            "ticks": ""
           }
          },
          "title": {
           "x": 0.05
          },
          "xaxis": {
           "automargin": true,
           "gridcolor": "white",
           "linecolor": "white",
           "ticks": "",
           "title": {
            "standoff": 15
           },
           "zerolinecolor": "white",
           "zerolinewidth": 2
          },
          "yaxis": {
           "automargin": true,
           "gridcolor": "white",
           "linecolor": "white",
           "ticks": "",
           "title": {
            "standoff": 15
           },
           "zerolinecolor": "white",
           "zerolinewidth": 2
          }
         }
        },
        "title": {
         "text": "TOP 10 CHEAPEST ITEMS"
        },
        "width": 1200,
        "xaxis": {
         "anchor": "y",
         "domain": [
          0,
          1
         ],
         "title": {
          "text": "Price"
         }
        },
        "yaxis": {
         "anchor": "x",
         "domain": [
          0,
          1
         ],
         "title": {
          "text": "Description"
         }
        }
       }
      }
     },
     "metadata": {},
     "output_type": "display_data"
    }
   ],
   "source": [
    "# Bottom 10 expensive items - overall\n",
    "\n",
    "print('TOP 10 CHEAPEST ITEMS')\n",
    "\n",
    "fig = px.bar(\n",
    "    a,\n",
    "    y='Description',\n",
    "    x='Price',\n",
    "    color='Condition',\n",
    "    color_discrete_map={'Good':'green','Fair':'gray','Excellent':'gold','Poor':'red'},\n",
    "    orientation='h',\n",
    "    title='TOP 10 CHEAPEST ITEMS',\n",
    "    width=1200, height=400\n",
    "    )\n",
    "\n",
    "# fig.update_layout(yaxis={'categoryorder':'total ascending'})\n",
    "\n",
    "fig.show()"
   ]
  },
  {
   "cell_type": "code",
   "execution_count": 15,
   "metadata": {},
   "outputs": [
    {
     "name": "stdout",
     "output_type": "stream",
     "text": [
      "Top 10 highest price items - with Excellent condition\n"
     ]
    },
    {
     "data": {
      "text/html": [
       "<div>\n",
       "<style scoped>\n",
       "    .dataframe tbody tr th:only-of-type {\n",
       "        vertical-align: middle;\n",
       "    }\n",
       "\n",
       "    .dataframe tbody tr th {\n",
       "        vertical-align: top;\n",
       "    }\n",
       "\n",
       "    .dataframe thead th {\n",
       "        text-align: right;\n",
       "    }\n",
       "</style>\n",
       "<table border=\"1\" class=\"dataframe\">\n",
       "  <thead>\n",
       "    <tr style=\"text-align: right;\">\n",
       "      <th></th>\n",
       "      <th>Description</th>\n",
       "      <th>Price</th>\n",
       "      <th>Condition</th>\n",
       "    </tr>\n",
       "  </thead>\n",
       "  <tbody>\n",
       "    <tr>\n",
       "      <th>0</th>\n",
       "      <td>Labconco Paramount Filtered Enclosure stand</td>\n",
       "      <td>250.0</td>\n",
       "      <td>Excellent</td>\n",
       "    </tr>\n",
       "    <tr>\n",
       "      <th>1</th>\n",
       "      <td>Sold by the case furnace filters</td>\n",
       "      <td>8.0</td>\n",
       "      <td>Excellent</td>\n",
       "    </tr>\n",
       "    <tr>\n",
       "      <th>2</th>\n",
       "      <td>Coin Boxes - Pennies, Nickels, Dimes</td>\n",
       "      <td>0.5</td>\n",
       "      <td>Excellent</td>\n",
       "    </tr>\n",
       "  </tbody>\n",
       "</table>\n",
       "</div>"
      ],
      "text/plain": [
       "                                   Description  Price  Condition\n",
       "0  Labconco Paramount Filtered Enclosure stand  250.0  Excellent\n",
       "1             Sold by the case furnace filters    8.0  Excellent\n",
       "2         Coin Boxes - Pennies, Nickels, Dimes    0.5  Excellent"
      ]
     },
     "execution_count": 15,
     "metadata": {},
     "output_type": "execute_result"
    }
   ],
   "source": [
    "# Top 10 highest price items - with Excellent condition\n",
    "\n",
    "print('Top 10 highest price items - with Excellent condition')\n",
    "\n",
    "data[\n",
    "    (~data.Description.duplicated()) & # remove duplicates\n",
    "    (data.Condition == 'Excellent') # filter by condition = Excellent\n",
    "].sort_values('Price',ascending=False).head(10)[ # top 10\n",
    "    ['Description','Price','Condition'] # select columns \n",
    "].reset_index().drop('index',axis=1) # reset index"
   ]
  },
  {
   "cell_type": "code",
   "execution_count": 16,
   "metadata": {},
   "outputs": [
    {
     "name": "stdout",
     "output_type": "stream",
     "text": [
      "Top 10 higest price items - with 'Good' condition \n",
      "\n"
     ]
    },
    {
     "data": {
      "text/html": [
       "<div>\n",
       "<style scoped>\n",
       "    .dataframe tbody tr th:only-of-type {\n",
       "        vertical-align: middle;\n",
       "    }\n",
       "\n",
       "    .dataframe tbody tr th {\n",
       "        vertical-align: top;\n",
       "    }\n",
       "\n",
       "    .dataframe thead th {\n",
       "        text-align: right;\n",
       "    }\n",
       "</style>\n",
       "<table border=\"1\" class=\"dataframe\">\n",
       "  <thead>\n",
       "    <tr style=\"text-align: right;\">\n",
       "      <th></th>\n",
       "      <th>Description</th>\n",
       "      <th>Price</th>\n",
       "      <th>Condition</th>\n",
       "    </tr>\n",
       "  </thead>\n",
       "  <tbody>\n",
       "    <tr>\n",
       "      <th>0</th>\n",
       "      <td>2017 Chevrolet Colorado ex cab 2wd, 2.5 auto e...</td>\n",
       "      <td>21995.00</td>\n",
       "      <td>Good</td>\n",
       "    </tr>\n",
       "    <tr>\n",
       "      <th>1</th>\n",
       "      <td>Electrolux Professional Ag, Ch-6210 Sursee Til...</td>\n",
       "      <td>13125.00</td>\n",
       "      <td>Good</td>\n",
       "    </tr>\n",
       "    <tr>\n",
       "      <th>2</th>\n",
       "      <td>Electric Pie Press with extras</td>\n",
       "      <td>2250.00</td>\n",
       "      <td>Good</td>\n",
       "    </tr>\n",
       "    <tr>\n",
       "      <th>3</th>\n",
       "      <td>Homack 2008 tool box 41\" blue Homack tool box</td>\n",
       "      <td>995.00</td>\n",
       "      <td>Good</td>\n",
       "    </tr>\n",
       "    <tr>\n",
       "      <th>4</th>\n",
       "      <td>Ice Dispenser</td>\n",
       "      <td>768.75</td>\n",
       "      <td>Good</td>\n",
       "    </tr>\n",
       "    <tr>\n",
       "      <th>5</th>\n",
       "      <td>BKI Free  Standing Fry Dump Station or Food Wa...</td>\n",
       "      <td>525.00</td>\n",
       "      <td>Good</td>\n",
       "    </tr>\n",
       "    <tr>\n",
       "      <th>6</th>\n",
       "      <td>Duke Tray Warmer</td>\n",
       "      <td>243.75</td>\n",
       "      <td>Good</td>\n",
       "    </tr>\n",
       "    <tr>\n",
       "      <th>7</th>\n",
       "      <td>Dual Drawer Toast Master</td>\n",
       "      <td>180.00</td>\n",
       "      <td>Good</td>\n",
       "    </tr>\n",
       "    <tr>\n",
       "      <th>8</th>\n",
       "      <td>Chick-fil-A Sandwich and Fry Display</td>\n",
       "      <td>121.25</td>\n",
       "      <td>Good</td>\n",
       "    </tr>\n",
       "    <tr>\n",
       "      <th>9</th>\n",
       "      <td>Fry Catch Basin</td>\n",
       "      <td>118.75</td>\n",
       "      <td>Good</td>\n",
       "    </tr>\n",
       "  </tbody>\n",
       "</table>\n",
       "</div>"
      ],
      "text/plain": [
       "                                         Description     Price Condition\n",
       "0  2017 Chevrolet Colorado ex cab 2wd, 2.5 auto e...  21995.00      Good\n",
       "1  Electrolux Professional Ag, Ch-6210 Sursee Til...  13125.00      Good\n",
       "2                     Electric Pie Press with extras   2250.00      Good\n",
       "3      Homack 2008 tool box 41\" blue Homack tool box    995.00      Good\n",
       "4                                      Ice Dispenser    768.75      Good\n",
       "5  BKI Free  Standing Fry Dump Station or Food Wa...    525.00      Good\n",
       "6                                   Duke Tray Warmer    243.75      Good\n",
       "7                           Dual Drawer Toast Master    180.00      Good\n",
       "8               Chick-fil-A Sandwich and Fry Display    121.25      Good\n",
       "9                                    Fry Catch Basin    118.75      Good"
      ]
     },
     "execution_count": 16,
     "metadata": {},
     "output_type": "execute_result"
    }
   ],
   "source": [
    "# Top 10 higest price items - with Good condition\n",
    "\n",
    "print('Top 10 higest price items - with \\'Good\\' condition \\n')\n",
    "\n",
    "data[\n",
    "    (~data.Description.duplicated()) & # remove duplicates\n",
    "    (data.Condition == 'Good') # filter by condition = Excellent\n",
    "].sort_values('Price',ascending=False).head(10)[ # top 10\n",
    "    ['Description','Price','Condition'] # select columns \n",
    "].reset_index().drop('index',axis=1) # reset index\n"
   ]
  },
  {
   "cell_type": "code",
   "execution_count": 17,
   "metadata": {},
   "outputs": [
    {
     "name": "stdout",
     "output_type": "stream",
     "text": [
      "\n",
      "IF WERE TO SELL ALL ITEMS\n",
      "\n",
      "Sell from all items:\t\t$66,767.75\n",
      "\n",
      "Sell from Excellent items:\t$433.00\n",
      "Sell from Good items:\t\t$48,922.25\n",
      "Sell from Fair items:\t\t$16,858.75\n",
      "Sell from Poor items:\t\t$25.00\n",
      "Sell from Varies items:\t\t$528.00\n",
      "Sell from Unknown items:\t$0.75\n",
      "\n"
     ]
    }
   ],
   "source": [
    "# If they were to sell all the items, how much money would they have?\n",
    "\n",
    "all_items       = \"${:,.2f}\".format(data.Price.sum())\n",
    "excellent_items = \"${:,.2f}\".format(data[data.Condition=='Excellent']['Price'].sum())\n",
    "good_items      = \"${:,.2f}\".format(data[data.Condition=='Good']['Price'].sum())\n",
    "fair_items      = \"${:,.2f}\".format(data[data.Condition=='Fair']['Price'].sum())\n",
    "poor_items      = \"${:,.2f}\".format(data[data.Condition=='Poor']['Price'].sum())\n",
    "varies_items    = \"${:,.2f}\".format(data[data.Condition=='Varies']['Price'].sum())\n",
    "unknown_items   = \"${:,.2f}\".format(data[data.Condition=='Unknown']['Price'].sum())\n",
    "\n",
    "print(f\"\"\"\n",
    "IF WERE TO SELL ALL ITEMS\n",
    "\n",
    "Sell from all items:\\t\\t{all_items}\n",
    "\n",
    "Sell from Excellent items:\\t{excellent_items}\n",
    "Sell from Good items:\\t\\t{good_items}\n",
    "Sell from Fair items:\\t\\t{fair_items}\n",
    "Sell from Poor items:\\t\\t{poor_items}\n",
    "Sell from Varies items:\\t\\t{varies_items}\n",
    "Sell from Unknown items:\\t{unknown_items}\n",
    "\"\"\")\n"
   ]
  },
  {
   "cell_type": "code",
   "execution_count": null,
   "metadata": {},
   "outputs": [],
   "source": []
  },
  {
   "cell_type": "code",
   "execution_count": null,
   "metadata": {},
   "outputs": [],
   "source": []
  }
 ],
 "metadata": {
  "interpreter": {
   "hash": "7812ea015bdcee6f23a998adcdd2ef97c151c0c241b7b7070987d9313e41299d"
  },
  "kernelspec": {
   "display_name": "Python 3.9.0 64-bit",
   "language": "python",
   "name": "python3"
  },
  "language_info": {
   "codemirror_mode": {
    "name": "ipython",
    "version": 3
   },
   "file_extension": ".py",
   "mimetype": "text/x-python",
   "name": "python",
   "nbconvert_exporter": "python",
   "pygments_lexer": "ipython3",
   "version": "3.9.0"
  },
  "orig_nbformat": 4
 },
 "nbformat": 4,
 "nbformat_minor": 2
}
