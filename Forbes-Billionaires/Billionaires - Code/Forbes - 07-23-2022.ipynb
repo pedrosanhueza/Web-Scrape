{
 "cells": [
  {
   "cell_type": "code",
   "execution_count": 1,
   "metadata": {},
   "outputs": [],
   "source": [
    "import requests\n",
    "import pandas as pd\n",
    "# from bs4 import BeautifulSoup"
   ]
  },
  {
   "cell_type": "code",
   "execution_count": 2,
   "metadata": {},
   "outputs": [],
   "source": [
    "url = \"https://www.forbes.com/billionaires/page-data/index/page-data.json\"\n",
    "\n",
    "response = requests.get(url)\n",
    "\n",
    "json_data = response.json()"
   ]
  },
  {
   "cell_type": "code",
   "execution_count": 3,
   "metadata": {},
   "outputs": [],
   "source": [
    "rows = json_data['result']['pageContext']['tableData']"
   ]
  },
  {
   "cell_type": "code",
   "execution_count": 4,
   "metadata": {},
   "outputs": [],
   "source": [
    "tableData = {\n",
    "    k: v\n",
    "    for (k, v) in rows[0].items()\n",
    "    if\n",
    "    (k != 'person') & # dict\n",
    "    (k != 'employment') & # dict\n",
    "    (k != 'qas') & # two dicts\n",
    "    (k != 'bios') & # list\n",
    "    (k != 'abouts') & #list\n",
    "    (k != 'csfDisplayFields') #list\n",
    "}"
   ]
  },
  {
   "cell_type": "code",
   "execution_count": 5,
   "metadata": {},
   "outputs": [],
   "source": [
    "person = {\n",
    "    list(rows[0].keys())[9]+'_'+k:v\n",
    "    for (k,v) in rows[0][list(rows[0].keys())[9]].items()\n",
    "}"
   ]
  },
  {
   "cell_type": "code",
   "execution_count": 6,
   "metadata": {},
   "outputs": [],
   "source": [
    "employment = {\n",
    "    list(rows[0].keys())[33]+'_'+k:v\n",
    "    for (k,v) in rows[0][list(rows[0].keys())[33]].items()\n",
    "}"
   ]
  },
  {
   "cell_type": "code",
   "execution_count": 7,
   "metadata": {},
   "outputs": [],
   "source": [
    "ls_=[]\n",
    "\n",
    "for row in rows:\n",
    "    tableData = {\n",
    "        k: v\n",
    "        for (k, v) in row.items()\n",
    "        if\n",
    "        (k != 'person') & # dict\n",
    "        (k != 'employment') & # dict\n",
    "        (k != 'qas') & # two dicts\n",
    "        (k != 'bios') & # list\n",
    "        (k != 'abouts') & #list\n",
    "        (k != 'csfDisplayFields') #list\n",
    "        }\n",
    "    ls_.append(tableData)"
   ]
  },
  {
   "cell_type": "code",
   "execution_count": 8,
   "metadata": {},
   "outputs": [],
   "source": [
    "data = pd.DataFrame(ls_)"
   ]
  },
  {
   "cell_type": "code",
   "execution_count": 10,
   "metadata": {},
   "outputs": [
    {
     "name": "stdout",
     "output_type": "stream",
     "text": [
      "name\n",
      "year\n",
      "month\n",
      "uri\n",
      "rank\n",
      "listUri\n",
      "finalWorth\n",
      "category\n",
      "otherCompensation\n",
      "visible\n",
      "personName\n",
      "age\n",
      "country\n",
      "state\n",
      "city\n",
      "source\n",
      "industries\n",
      "countryOfCitizenship\n",
      "organization\n",
      "timestamp\n",
      "version\n",
      "naturalId\n",
      "position\n",
      "imageExists\n",
      "selfMade\n",
      "status\n",
      "gender\n",
      "birthDate\n",
      "lastName\n",
      "firstName\n",
      "listDescription\n",
      "title\n",
      "date\n",
      "wealthList\n",
      "familyList\n",
      "selfMadeRank\n",
      "thumbnail\n",
      "residenceStateRegion\n",
      "squareImage\n",
      "bioSuppress\n",
      "suppressOnProfiles\n",
      "premiumProfile\n",
      "philanthropyScore\n",
      "embargo\n",
      "netWorth\n",
      "parentListUri\n",
      "residenceMsa\n",
      "impactInvestor\n",
      "numberOfSiblings\n",
      "numberOfSiblingsEst\n",
      "bio\n",
      "notableDeal\n",
      "valueCreated\n",
      "primaryIndustry\n",
      "portraitImage\n",
      "landscapeImage\n",
      "clients\n"
     ]
    }
   ],
   "source": [
    "for e in data.columns:\n",
    "    print(e)"
   ]
  },
  {
   "cell_type": "code",
   "execution_count": null,
   "metadata": {},
   "outputs": [],
   "source": []
  }
 ],
 "metadata": {
  "kernelspec": {
   "display_name": "Python 3.9.0 64-bit",
   "language": "python",
   "name": "python3"
  },
  "language_info": {
   "codemirror_mode": {
    "name": "ipython",
    "version": 3
   },
   "file_extension": ".py",
   "mimetype": "text/x-python",
   "name": "python",
   "nbconvert_exporter": "python",
   "pygments_lexer": "ipython3",
   "version": "3.9.0"
  },
  "orig_nbformat": 4,
  "vscode": {
   "interpreter": {
    "hash": "397704579725e15f5c7cb49fe5f0341eb7531c82d19f2c29d197e8b64ab5776b"
   }
  }
 },
 "nbformat": 4,
 "nbformat_minor": 2
}
