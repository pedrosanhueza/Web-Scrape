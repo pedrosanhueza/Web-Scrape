{
 "cells": [
  {
   "cell_type": "code",
   "execution_count": 386,
   "metadata": {},
   "outputs": [],
   "source": [
    "import http.client\n",
    "import json\n",
    "import pandas as pd\n",
    "import requests\n",
    "from bs4 import BeautifulSoup\n",
    "import numpy as np\n",
    "\n",
    "conn = http.client.HTTPSConnection(\"www.congreso.es\")\n",
    "\n",
    "payload = \"_diputadomodule_idLegislatura=14&_diputadomodule_genero=2&_diputadomodule_grupo=all&_diputadomodule_tipo=0&_diputadomodule_nombre=&_diputadomodule_apellidos=&_diputadomodule_formacion=all&_diputadomodule_filtroProvincias=%5B%5D&_diputadomodule_nombreCircunscripcion=\"\n",
    "\n",
    "headers = {\n",
    "    'accept': \"application/json, text/javascript, */*; q=0.01\",\n",
    "    'accept-language': \"en-US,en;q=0.6\",\n",
    "    'content-type': \"application/x-www-form-urlencoded; charset=UTF-8\",\n",
    "    'user-agent': \"Mozilla/5.0 (Macintosh; Intel Mac OS X 10_15_7) AppleWebKit/537.36 (KHTML, like Gecko) Chrome/104.0.5112.102 Safari/537.36\",\n",
    "    'x-requested-with': \"XMLHttpRequest\"\n",
    "    }\n",
    "\n",
    "conn.request(\"POST\", \"/busqueda-de-diputados?p_p_id=diputadomodule&p_p_lifecycle=2&p_p_state=normal&p_p_mode=view&p_p_resource_id=searchDiputados&p_p_cacheability=cacheLevelPage\", payload, headers)\n",
    "\n",
    "res = conn.getresponse()\n",
    "\n",
    "data = res.read()\n",
    "\n",
    "info = data.decode(\"utf-8\")\n",
    "\n",
    "responseObject = json.loads(info)['data']\n"
   ]
  },
  {
   "cell_type": "code",
   "execution_count": 429,
   "metadata": {},
   "outputs": [],
   "source": [
    "# 4m 7s\n",
    "\n",
    "codParlamentario = [x['codParlamentario'] for x in responseObject] # list of all Parlamentarios ID\n",
    "\n",
    "for idx,codParlamentario in enumerate(codParlamentario):\n",
    "    \n",
    "    row = {}\n",
    "\n",
    "    url = f'https://www.congreso.es/busqueda-de-diputados?p_p_id=diputadomodule&p_p_lifecycle=0&p_p_state=normal&p_p_mode=view&_diputadomodule_mostrarFicha=true&codParlamentario={codParlamentario}&idLegislatura=XIV&mostrarAgenda=false'\n",
    "    response = requests.get(url)\n",
    "    soup = BeautifulSoup(response.text, 'html.parser')\n",
    "\n",
    "    responseObject[idx]['birthday'] = soup.find_all('p')[1].text.strip()[10:39]\n",
    "    \n",
    "    if soup.find_all('p')[2].text.strip()[-1] == 's':\n",
    "        responseObject[idx]['legislaturas'] = soup.find_all('p')[2].text.strip()[:-23]\n",
    "    else:\n",
    "        responseObject[idx]['legislaturas'] = soup.find_all('p')[2].text.strip()\n"
   ]
  },
  {
   "cell_type": "code",
   "execution_count": 472,
   "metadata": {},
   "outputs": [
    {
     "name": "stderr",
     "output_type": "stream",
     "text": [
      "/Library/Frameworks/Python.framework/Versions/3.9/lib/python3.9/site-packages/dateutil/parser/_parser.py:1213: UnknownTimezoneWarning: tzname CET identified but not understood.  Pass `tzinfos` argument in order to correctly return a timezone-aware datetime.  In a future version, this will raise an exception.\n",
      "  warnings.warn(\"tzname {tzname} identified but not understood.  \"\n",
      "/Library/Frameworks/Python.framework/Versions/3.9/lib/python3.9/site-packages/dateutil/parser/_parser.py:1213: UnknownTimezoneWarning: tzname CEST identified but not understood.  Pass `tzinfos` argument in order to correctly return a timezone-aware datetime.  In a future version, this will raise an exception.\n",
      "  warnings.warn(\"tzname {tzname} identified but not understood.  \"\n"
     ]
    },
    {
     "data": {
      "text/html": [
       "<div>\n",
       "<style scoped>\n",
       "    .dataframe tbody tr th:only-of-type {\n",
       "        vertical-align: middle;\n",
       "    }\n",
       "\n",
       "    .dataframe tbody tr th {\n",
       "        vertical-align: top;\n",
       "    }\n",
       "\n",
       "    .dataframe thead th {\n",
       "        text-align: right;\n",
       "    }\n",
       "</style>\n",
       "<table border=\"1\" class=\"dataframe\">\n",
       "  <thead>\n",
       "    <tr style=\"text-align: right;\">\n",
       "      <th></th>\n",
       "      <th>apellidos</th>\n",
       "      <th>formacion</th>\n",
       "      <th>apellidosNombre</th>\n",
       "      <th>grupo</th>\n",
       "      <th>idCircunscripcion</th>\n",
       "      <th>nombreCircunscripcion</th>\n",
       "      <th>nombre</th>\n",
       "      <th>codParlamentario</th>\n",
       "      <th>birthday</th>\n",
       "      <th>legislaturas</th>\n",
       "    </tr>\n",
       "  </thead>\n",
       "  <tbody>\n",
       "    <tr>\n",
       "      <th>0</th>\n",
       "      <td>Aizpurua Arzallus</td>\n",
       "      <td>EH Bildu</td>\n",
       "      <td>Aizpurua Arzallus, Mertxe</td>\n",
       "      <td>Grupo Parlamentario Euskal Herria Bildu</td>\n",
       "      <td>20</td>\n",
       "      <td>Gipuzkoa</td>\n",
       "      <td>Mertxe</td>\n",
       "      <td>69</td>\n",
       "      <td>1960-01-08</td>\n",
       "      <td>Diputada de la XIII,  y XIV</td>\n",
       "    </tr>\n",
       "    <tr>\n",
       "      <th>1</th>\n",
       "      <td>Alonso Suárez</td>\n",
       "      <td>PsdeG-PSOE</td>\n",
       "      <td>Alonso Suárez, María Olga</td>\n",
       "      <td>Grupo Parlamentario Socialista</td>\n",
       "      <td>36</td>\n",
       "      <td>Pontevedra</td>\n",
       "      <td>María Olga</td>\n",
       "      <td>72</td>\n",
       "      <td>1962-07-12</td>\n",
       "      <td>Diputada de la XIII,  y XIV</td>\n",
       "    </tr>\n",
       "    <tr>\n",
       "      <th>2</th>\n",
       "      <td>Álvarez de Toledo Peralta-Ramos</td>\n",
       "      <td>PP</td>\n",
       "      <td>Álvarez de Toledo Peralta-Ramos, Cayetana</td>\n",
       "      <td>Grupo Parlamentario Popular en el Congreso</td>\n",
       "      <td>8</td>\n",
       "      <td>Barcelona</td>\n",
       "      <td>Cayetana</td>\n",
       "      <td>308</td>\n",
       "      <td>1974-10-15</td>\n",
       "      <td>Diputada de la IX, X, XIII,  y XIV</td>\n",
       "    </tr>\n",
       "    <tr>\n",
       "      <th>3</th>\n",
       "      <td>Álvarez Fanjul</td>\n",
       "      <td>PP</td>\n",
       "      <td>Álvarez Fanjul, Beatriz</td>\n",
       "      <td>Grupo Parlamentario Popular en el Congreso</td>\n",
       "      <td>48</td>\n",
       "      <td>Bizkaia</td>\n",
       "      <td>Beatriz</td>\n",
       "      <td>101</td>\n",
       "      <td>1991-08-23</td>\n",
       "      <td>Diputada de la XIV Legislatura</td>\n",
       "    </tr>\n",
       "    <tr>\n",
       "      <th>4</th>\n",
       "      <td>Andrés Añón</td>\n",
       "      <td>PSC-PSOE</td>\n",
       "      <td>Andrés Añón, Carmen</td>\n",
       "      <td>Grupo Parlamentario Socialista</td>\n",
       "      <td>8</td>\n",
       "      <td>Barcelona</td>\n",
       "      <td>Carmen</td>\n",
       "      <td>204</td>\n",
       "      <td>1964-10-19</td>\n",
       "      <td>Diputada de la XIII,  y XIV</td>\n",
       "    </tr>\n",
       "    <tr>\n",
       "      <th>...</th>\n",
       "      <td>...</td>\n",
       "      <td>...</td>\n",
       "      <td>...</td>\n",
       "      <td>...</td>\n",
       "      <td>...</td>\n",
       "      <td>...</td>\n",
       "      <td>...</td>\n",
       "      <td>...</td>\n",
       "      <td>...</td>\n",
       "      <td>...</td>\n",
       "    </tr>\n",
       "    <tr>\n",
       "      <th>143</th>\n",
       "      <td>Velasco Morillo</td>\n",
       "      <td>PP</td>\n",
       "      <td>Velasco Morillo, Elvira</td>\n",
       "      <td>Grupo Parlamentario Popular en el Congreso</td>\n",
       "      <td>49</td>\n",
       "      <td>Zamora</td>\n",
       "      <td>Elvira</td>\n",
       "      <td>10</td>\n",
       "      <td>1968-03-05</td>\n",
       "      <td>Diputada de la VIII, XIII,  y XIV</td>\n",
       "    </tr>\n",
       "    <tr>\n",
       "      <th>144</th>\n",
       "      <td>Vidal Sáez</td>\n",
       "      <td>ECP-GUAYEM EL CANVI</td>\n",
       "      <td>Vidal Sáez, Aina</td>\n",
       "      <td>Grupo Parlamentario Confederal de Unidas Podem...</td>\n",
       "      <td>8</td>\n",
       "      <td>Barcelona</td>\n",
       "      <td>Aina</td>\n",
       "      <td>266</td>\n",
       "      <td>1985-03-22</td>\n",
       "      <td>Diputada de la XI, XII, XIII,  y XIV</td>\n",
       "    </tr>\n",
       "    <tr>\n",
       "      <th>145</th>\n",
       "      <td>Vilches Ruiz</td>\n",
       "      <td>PSOE</td>\n",
       "      <td>Vilches Ruiz, María Luisa</td>\n",
       "      <td>Grupo Parlamentario Socialista</td>\n",
       "      <td>2</td>\n",
       "      <td>Albacete</td>\n",
       "      <td>María Luisa</td>\n",
       "      <td>332</td>\n",
       "      <td>1982-01-16</td>\n",
       "      <td>Diputada de la XIII,  y XIV</td>\n",
       "    </tr>\n",
       "    <tr>\n",
       "      <th>146</th>\n",
       "      <td>Villagrasa Quero</td>\n",
       "      <td>PSOE</td>\n",
       "      <td>Villagrasa Quero, Noemí</td>\n",
       "      <td>Grupo Parlamentario Socialista</td>\n",
       "      <td>50</td>\n",
       "      <td>Zaragoza</td>\n",
       "      <td>Noemí</td>\n",
       "      <td>49</td>\n",
       "      <td>1980-09-14</td>\n",
       "      <td>Diputada de la XIII,  y XIV</td>\n",
       "    </tr>\n",
       "    <tr>\n",
       "      <th>147</th>\n",
       "      <td>Zurita Expósito</td>\n",
       "      <td>PP</td>\n",
       "      <td>Zurita Expósito, Ana María</td>\n",
       "      <td>Grupo Parlamentario Popular en el Congreso</td>\n",
       "      <td>38</td>\n",
       "      <td>S/C Tenerife</td>\n",
       "      <td>Ana María</td>\n",
       "      <td>111</td>\n",
       "      <td>1963-11-03</td>\n",
       "      <td>Diputada de la XII, XIII,  y XIV</td>\n",
       "    </tr>\n",
       "  </tbody>\n",
       "</table>\n",
       "<p>148 rows × 10 columns</p>\n",
       "</div>"
      ],
      "text/plain": [
       "                           apellidos            formacion  \\\n",
       "0                  Aizpurua Arzallus             EH Bildu   \n",
       "1                      Alonso Suárez           PsdeG-PSOE   \n",
       "2    Álvarez de Toledo Peralta-Ramos                   PP   \n",
       "3                     Álvarez Fanjul                   PP   \n",
       "4                        Andrés Añón             PSC-PSOE   \n",
       "..                               ...                  ...   \n",
       "143                  Velasco Morillo                   PP   \n",
       "144                       Vidal Sáez  ECP-GUAYEM EL CANVI   \n",
       "145                     Vilches Ruiz                 PSOE   \n",
       "146                 Villagrasa Quero                 PSOE   \n",
       "147                  Zurita Expósito                   PP   \n",
       "\n",
       "                               apellidosNombre  \\\n",
       "0                    Aizpurua Arzallus, Mertxe   \n",
       "1                    Alonso Suárez, María Olga   \n",
       "2    Álvarez de Toledo Peralta-Ramos, Cayetana   \n",
       "3                      Álvarez Fanjul, Beatriz   \n",
       "4                          Andrés Añón, Carmen   \n",
       "..                                         ...   \n",
       "143                    Velasco Morillo, Elvira   \n",
       "144                           Vidal Sáez, Aina   \n",
       "145                  Vilches Ruiz, María Luisa   \n",
       "146                    Villagrasa Quero, Noemí   \n",
       "147                 Zurita Expósito, Ana María   \n",
       "\n",
       "                                                 grupo  idCircunscripcion  \\\n",
       "0              Grupo Parlamentario Euskal Herria Bildu                 20   \n",
       "1                       Grupo Parlamentario Socialista                 36   \n",
       "2           Grupo Parlamentario Popular en el Congreso                  8   \n",
       "3           Grupo Parlamentario Popular en el Congreso                 48   \n",
       "4                       Grupo Parlamentario Socialista                  8   \n",
       "..                                                 ...                ...   \n",
       "143         Grupo Parlamentario Popular en el Congreso                 49   \n",
       "144  Grupo Parlamentario Confederal de Unidas Podem...                  8   \n",
       "145                     Grupo Parlamentario Socialista                  2   \n",
       "146                     Grupo Parlamentario Socialista                 50   \n",
       "147         Grupo Parlamentario Popular en el Congreso                 38   \n",
       "\n",
       "    nombreCircunscripcion       nombre  codParlamentario   birthday  \\\n",
       "0                Gipuzkoa       Mertxe                69 1960-01-08   \n",
       "1              Pontevedra   María Olga                72 1962-07-12   \n",
       "2               Barcelona     Cayetana               308 1974-10-15   \n",
       "3                 Bizkaia      Beatriz               101 1991-08-23   \n",
       "4               Barcelona       Carmen               204 1964-10-19   \n",
       "..                    ...          ...               ...        ...   \n",
       "143                Zamora       Elvira                10 1968-03-05   \n",
       "144             Barcelona         Aina               266 1985-03-22   \n",
       "145              Albacete  María Luisa               332 1982-01-16   \n",
       "146              Zaragoza        Noemí                49 1980-09-14   \n",
       "147          S/C Tenerife    Ana María               111 1963-11-03   \n",
       "\n",
       "                             legislaturas  \n",
       "0             Diputada de la XIII,  y XIV  \n",
       "1             Diputada de la XIII,  y XIV  \n",
       "2      Diputada de la IX, X, XIII,  y XIV  \n",
       "3          Diputada de la XIV Legislatura  \n",
       "4             Diputada de la XIII,  y XIV  \n",
       "..                                    ...  \n",
       "143     Diputada de la VIII, XIII,  y XIV  \n",
       "144  Diputada de la XI, XII, XIII,  y XIV  \n",
       "145           Diputada de la XIII,  y XIV  \n",
       "146           Diputada de la XIII,  y XIV  \n",
       "147      Diputada de la XII, XIII,  y XIV  \n",
       "\n",
       "[148 rows x 10 columns]"
      ]
     },
     "execution_count": 472,
     "metadata": {},
     "output_type": "execute_result"
    }
   ],
   "source": [
    "data_profile = pd.DataFrame(responseObject)\n",
    "\n",
    "columns_to_drop = ['fchBaja', 'genero','fchAlta', 'idLegislatura']\n",
    "\n",
    "data_profile.drop(columns_to_drop,axis=1, inplace=True)\n",
    "\n",
    "data_profile['birthday'] = data_profile['birthday'].apply(lambda x: pd.to_datetime(x))\n",
    "\n",
    "pd.set_option('display.max_rows', 10)\n",
    "\n",
    "data_profile"
   ]
  },
  {
   "cell_type": "code",
   "execution_count": 465,
   "metadata": {},
   "outputs": [
    {
     "name": "stderr",
     "output_type": "stream",
     "text": [
      "/Library/Frameworks/Python.framework/Versions/3.9/lib/python3.9/site-packages/dateutil/parser/_parser.py:1213: UnknownTimezoneWarning: tzname CET identified but not understood.  Pass `tzinfos` argument in order to correctly return a timezone-aware datetime.  In a future version, this will raise an exception.\n",
      "  warnings.warn(\"tzname {tzname} identified but not understood.  \"\n",
      "/Library/Frameworks/Python.framework/Versions/3.9/lib/python3.9/site-packages/dateutil/parser/_parser.py:1213: UnknownTimezoneWarning: tzname CEST identified but not understood.  Pass `tzinfos` argument in order to correctly return a timezone-aware datetime.  In a future version, this will raise an exception.\n",
      "  warnings.warn(\"tzname {tzname} identified but not understood.  \"\n"
     ]
    },
    {
     "data": {
      "text/plain": [
       "49.97540593127791"
      ]
     },
     "execution_count": 465,
     "metadata": {},
     "output_type": "execute_result"
    }
   ],
   "source": [
    "pd.set_option('display.max_rows', None)\n",
    "\n",
    "def years(year):\n",
    "    try:\n",
    "        (pd.Timestamp.now() - year) / np.timedelta64(1, 'Y')\n",
    "    except:\n",
    "        pd.to_datetime(year)\n",
    "\n",
    "data_profile[data_profile.codParlamentario!=7].birthday.apply(lambda x: (pd.Timestamp.now() - pd.to_datetime(x)) / np.timedelta64(1, 'Y')).mean()"
   ]
  },
  {
   "cell_type": "code",
   "execution_count": 466,
   "metadata": {},
   "outputs": [
    {
     "name": "stderr",
     "output_type": "stream",
     "text": [
      "/Library/Frameworks/Python.framework/Versions/3.9/lib/python3.9/site-packages/dateutil/parser/_parser.py:1213: UnknownTimezoneWarning: tzname CET identified but not understood.  Pass `tzinfos` argument in order to correctly return a timezone-aware datetime.  In a future version, this will raise an exception.\n",
      "  warnings.warn(\"tzname {tzname} identified but not understood.  \"\n",
      "/Library/Frameworks/Python.framework/Versions/3.9/lib/python3.9/site-packages/dateutil/parser/_parser.py:1213: UnknownTimezoneWarning: tzname CEST identified but not understood.  Pass `tzinfos` argument in order to correctly return a timezone-aware datetime.  In a future version, this will raise an exception.\n",
      "  warnings.warn(\"tzname {tzname} identified but not understood.  \"\n"
     ]
    },
    {
     "data": {
      "text/plain": [
       "49.90978963868136"
      ]
     },
     "execution_count": 466,
     "metadata": {},
     "output_type": "execute_result"
    }
   ],
   "source": [
    "data_profile[data_profile.codParlamentario!=7].birthday.apply(lambda x: (pd.Timestamp.now() - pd.to_datetime(x)) / np.timedelta64(1, 'Y')).median()"
   ]
  },
  {
   "cell_type": "code",
   "execution_count": 469,
   "metadata": {},
   "outputs": [
    {
     "name": "stderr",
     "output_type": "stream",
     "text": [
      "/Library/Frameworks/Python.framework/Versions/3.9/lib/python3.9/site-packages/dateutil/parser/_parser.py:1213: UnknownTimezoneWarning: tzname CET identified but not understood.  Pass `tzinfos` argument in order to correctly return a timezone-aware datetime.  In a future version, this will raise an exception.\n",
      "  warnings.warn(\"tzname {tzname} identified but not understood.  \"\n",
      "/Library/Frameworks/Python.framework/Versions/3.9/lib/python3.9/site-packages/dateutil/parser/_parser.py:1213: UnknownTimezoneWarning: tzname CEST identified but not understood.  Pass `tzinfos` argument in order to correctly return a timezone-aware datetime.  In a future version, this will raise an exception.\n",
      "  warnings.warn(\"tzname {tzname} identified but not understood.  \"\n"
     ]
    },
    {
     "data": {
      "text/plain": [
       "26.42950107240763"
      ]
     },
     "execution_count": 469,
     "metadata": {},
     "output_type": "execute_result"
    }
   ],
   "source": [
    "data_profile[data_profile.codParlamentario!=7].birthday.apply(lambda x: (pd.Timestamp.now() - pd.to_datetime(x)) / np.timedelta64(1, 'Y')).min()"
   ]
  },
  {
   "cell_type": "code",
   "execution_count": 473,
   "metadata": {},
   "outputs": [
    {
     "data": {
      "text/plain": [
       "Timestamp('1949-05-15 00:00:00')"
      ]
     },
     "execution_count": 473,
     "metadata": {},
     "output_type": "execute_result"
    }
   ],
   "source": [
    "data_profile[data_profile.codParlamentario!=7].birthday.min()"
   ]
  },
  {
   "cell_type": "code",
   "execution_count": null,
   "metadata": {},
   "outputs": [],
   "source": []
  }
 ],
 "metadata": {
  "kernelspec": {
   "display_name": "Python 3.9.0 64-bit",
   "language": "python",
   "name": "python3"
  },
  "language_info": {
   "codemirror_mode": {
    "name": "ipython",
    "version": 3
   },
   "file_extension": ".py",
   "mimetype": "text/x-python",
   "name": "python",
   "nbconvert_exporter": "python",
   "pygments_lexer": "ipython3",
   "version": "3.9.0"
  },
  "orig_nbformat": 4,
  "vscode": {
   "interpreter": {
    "hash": "aee8b7b246df8f9039afb4144a1f6fd8d2ca17a180786b69acc140d282b71a49"
   }
  }
 },
 "nbformat": 4,
 "nbformat_minor": 2
}
