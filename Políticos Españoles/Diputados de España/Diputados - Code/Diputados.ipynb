{
 "cells": [
  {
   "cell_type": "code",
   "execution_count": 1,
   "metadata": {},
   "outputs": [],
   "source": [
    "import http.client\n",
    "import json\n",
    "import pandas as pd\n",
    "import requests\n",
    "from bs4 import BeautifulSoup\n",
    "from datetime import datetime\n",
    "import numpy as np\n"
   ]
  },
  {
   "cell_type": "markdown",
   "metadata": {},
   "source": [
    "## Getting the main table"
   ]
  },
  {
   "cell_type": "code",
   "execution_count": 5,
   "metadata": {},
   "outputs": [],
   "source": [
    "conn = http.client.HTTPSConnection(\"www.congreso.es\")\n",
    "\n",
    "payload = \"_diputadomodule_idLegislatura=-1&_diputadomodule_genero=0&_diputadomodule_grupo=all&_diputadomodule_tipo=0&_diputadomodule_nombre=&_diputadomodule_apellidos=&_diputadomodule_formacion=all&_diputadomodule_filtroProvincias=%5B%5D&_diputadomodule_nombreCircunscripcion=\"\n",
    "\n",
    "headers = {\n",
    "    'accept': \"application/json, text/javascript, */*; q=0.01\",\n",
    "    'accept-language': \"en-US,en;q=0.6\",\n",
    "    'content-type': \"application/x-www-form-urlencoded; charset=UTF-8\",\n",
    "    'user-agent': \"Mozilla/5.0 (Macintosh; Intel Mac OS X 10_15_7) AppleWebKit/537.36 (KHTML, like Gecko) Chrome/104.0.5112.102 Safari/537.36\",\n",
    "    'x-requested-with': \"XMLHttpRequest\"\n",
    "    }\n",
    "conn.request(\"POST\", \"/busqueda-de-diputados?p_p_id=diputadomodule&p_p_lifecycle=2&p_p_state=normal&p_p_mode=view&p_p_resource_id=searchDiputados&p_p_cacheability=cacheLevelPage\", payload, headers)\n",
    "\n",
    "res = conn.getresponse()\n",
    "\n",
    "data = res.read()\n",
    "\n",
    "info = data.decode(\"utf-8\")\n",
    "\n",
    "responseObject = json.loads(info)['data']\n"
   ]
  },
  {
   "cell_type": "markdown",
   "metadata": {},
   "source": [
    "## Adding features to the table"
   ]
  },
  {
   "cell_type": "code",
   "execution_count": null,
   "metadata": {},
   "outputs": [],
   "source": [
    "# 1h 30m\n",
    "\n",
    "codParlamentario = [x['codParlamentario'] for x in responseObject] # lista de codigos de los parlamentarios\n",
    "\n",
    "for idx,codParlamentario in enumerate(codParlamentario):\n",
    "    row = {}\n",
    "\n",
    "    url = f'https://www.congreso.es/busqueda-de-diputados?p_p_id=diputadomodule&p_p_lifecycle=0&p_p_state=normal&p_p_mode=view&_diputadomodule_mostrarFicha=true&codParlamentario={codParlamentario}&idLegislatura=XIV&mostrarAgenda=false'\n",
    "    \n",
    "    response = requests.get(url)\n",
    "    \n",
    "    soup = BeautifulSoup(response.text, 'html.parser')\n",
    "\n",
    "    # adding item to dictionary: date of birth\n",
    "    try:\n",
    "        responseObject[idx]['dateOfBirth'] = soup.find_all('p')[1].text.strip()[10:39]\n",
    "    except:\n",
    "        responseObject[idx]['dateOfBirth'] = None\n",
    "\n",
    "    # adding item to dictionary: legislatures\n",
    "    try:\n",
    "        if soup.find_all('p')[2].text.strip()[-1] == 's':\n",
    "            responseObject[idx]['legislaturas'] = [x for x in soup.find_all('p')[2].text.strip()[15:-23].replace('y','').replace(',','').split(' ') if x != '']\n",
    "        else:\n",
    "            responseObject[idx]['legislaturas'] = [x for x in soup.find_all('p')[2].text.strip()[15:-12\n",
    "            ].replace('y','').replace(',','').split(' ') if x != '']\n",
    "    except: \n",
    "        responseObject[idx]['legislaturas'] = None\n",
    "\n",
    "    # adding item to dictionary: email\n",
    "    try:\n",
    "        responseObject[idx]['mailto'] = soup.find('div',{'class':'email-dip'}).find('a')['href'][7:]\n",
    "    except:\n",
    "        responseObject[idx]['mailto'] = None\n",
    "    \n",
    "    # adding item to dictionary: imagen url\n",
    "    try:\n",
    "        responseObject[idx]['img'] = 'www.congreso.es' + soup.find('img',{'class':'card-img-top'})['src']\n",
    "    except:\n",
    "        responseObject[idx]['img'] = None\n",
    "\n",
    "    # adding items to dictionary: social media\n",
    "    try:\n",
    "        social_media = soup.find('div',{'class':'rrss-dip'})\n",
    "        for tag in social_media:\n",
    "            if tag.find('img') != -1:\n",
    "                responseObject[idx][tag.find('img')['alt']] = tag['href']\n",
    "    except:\n",
    "        pass\n",
    "\n",
    "            \n"
   ]
  },
  {
   "cell_type": "code",
   "execution_count": null,
   "metadata": {},
   "outputs": [],
   "source": [
    "data_profile = pd.DataFrame(responseObject)\n",
    "\n",
    "date = datetime.now().strftime(\"%d-%m-%Y %H%M%S\") # get local time as string\n",
    "\n",
    "filePath = f\"../Diputados - Historical Data/Congreso Español {date} RAW DATA- Webscrape.csv\"\n",
    "\n",
    "data_profile.to_csv(filePath, index=False)"
   ]
  },
  {
   "cell_type": "markdown",
   "metadata": {},
   "source": [
    "## Cleaning the table"
   ]
  },
  {
   "cell_type": "code",
   "execution_count": null,
   "metadata": {},
   "outputs": [],
   "source": [
    "data_profile = pd.DataFrame(responseObject)\n",
    "\n",
    "for idx,row in enumerate(data_profile['legislaturas']):\n",
    "    for legislatura in row:\n",
    "        responseObject[idx][str('legislatura_')+legislatura] = legislatura\n",
    "\n",
    "data_profile = pd.DataFrame(responseObject)\n",
    "\n",
    "columns_to_drop = ['fchBaja','idLegislatura','legislaturas']\n",
    "\n",
    "data_profile.drop(columns_to_drop, axis=1, inplace=True)\n",
    "\n",
    "data_profile.grupo = data_profile.grupo.apply(lambda x: x[20:])\n",
    "\n",
    "data_profile['dateOfBirth'] = data_profile['dateOfBirth'].apply(lambda x: pd.to_datetime(x))\n",
    "\n",
    "data_profile['years'] = data_profile.dateOfBirth.apply(\n",
    "    lambda x: \n",
    "        ((pd.Timestamp.now() - x) / np.timedelta64(1, 'Y')).__floor__()\n",
    "        if type(x) == pd._libs.tslibs.timestamps.Timestamp\n",
    "        else x)\n"
   ]
  },
  {
   "cell_type": "markdown",
   "metadata": {},
   "source": [
    "## SAVE DATA AS A CSV FILE"
   ]
  },
  {
   "cell_type": "code",
   "execution_count": null,
   "metadata": {},
   "outputs": [],
   "source": [
    "date = datetime.now().strftime(\"%d-%m-%Y %H%M%S\") # get local time as string\n",
    "\n",
    "filePath = f\"../Diputados - Historical Data/Congreso Español {date} - Webscrape.csv\"\n",
    "\n",
    "data_profile.to_csv(filePath, index=False)"
   ]
  },
  {
   "cell_type": "markdown",
   "metadata": {},
   "source": [
    "## ANSWER BASIC QUESTIONS\n",
    "* How many deputies are there?\n",
    "* What is the sex rate\n",
    "* What are the main political parties distribution?\n",
    "* What is the age distribution\n",
    "* Do younger deputies have more social media?\n",
    "* What percentage uses which social media?\n"
   ]
  },
  {
   "cell_type": "code",
   "execution_count": 39,
   "metadata": {},
   "outputs": [],
   "source": [
    "import plotly_express as px"
   ]
  },
  {
   "cell_type": "code",
   "execution_count": 25,
   "metadata": {},
   "outputs": [],
   "source": [
    "pd.options.display.max_columns = None\n",
    "pd.options.display.max_rows = None"
   ]
  },
  {
   "cell_type": "code",
   "execution_count": null,
   "metadata": {},
   "outputs": [],
   "source": [
    "data_profile = pd.read_csv('../Diputados - Historical Data/Congreso Español 22-08-2022 141639 - Webscrape.csv')"
   ]
  },
  {
   "cell_type": "code",
   "execution_count": 31,
   "metadata": {},
   "outputs": [
    {
     "name": "stdout",
     "output_type": "stream",
     "text": [
      "There are 349 deputies\n"
     ]
    }
   ],
   "source": [
    "print(f'There are {data_profile.shape[0]} deputies')"
   ]
  },
  {
   "cell_type": "code",
   "execution_count": 35,
   "metadata": {},
   "outputs": [
    {
     "name": "stdout",
     "output_type": "stream",
     "text": [
      "There are 201 male deputies, and 148 female deputies\n"
     ]
    }
   ],
   "source": [
    "print(f'There are {data_profile[data_profile.genero==1].shape[0]} male deputies, and {data_profile[data_profile.genero==2].shape[0]} female deputies')"
   ]
  },
  {
   "cell_type": "code",
   "execution_count": null,
   "metadata": {},
   "outputs": [],
   "source": []
  },
  {
   "cell_type": "code",
   "execution_count": 110,
   "metadata": {},
   "outputs": [
    {
     "data": {
      "text/html": [
       "<div>\n",
       "<style scoped>\n",
       "    .dataframe tbody tr th:only-of-type {\n",
       "        vertical-align: middle;\n",
       "    }\n",
       "\n",
       "    .dataframe tbody tr th {\n",
       "        vertical-align: top;\n",
       "    }\n",
       "\n",
       "    .dataframe thead th {\n",
       "        text-align: right;\n",
       "    }\n",
       "</style>\n",
       "<table border=\"1\" class=\"dataframe\">\n",
       "  <thead>\n",
       "    <tr style=\"text-align: right;\">\n",
       "      <th></th>\n",
       "      <th>apellidos</th>\n",
       "      <th>formacion</th>\n",
       "      <th>apellidosNombre</th>\n",
       "      <th>genero</th>\n",
       "      <th>fchAlta</th>\n",
       "      <th>grupo</th>\n",
       "      <th>idCircunscripcion</th>\n",
       "      <th>nombreCircunscripcion</th>\n",
       "      <th>nombre</th>\n",
       "      <th>codParlamentario</th>\n",
       "      <th>dateOfBirth</th>\n",
       "      <th>legislaturas</th>\n",
       "      <th>mailto</th>\n",
       "      <th>img</th>\n",
       "      <th>twitter</th>\n",
       "      <th>facebook</th>\n",
       "      <th>personal-web</th>\n",
       "      <th>legislatura_IX</th>\n",
       "      <th>legislatura_X</th>\n",
       "      <th>legislatura_XI</th>\n",
       "      <th>legislatura_XII</th>\n",
       "      <th>legislatura_XIII</th>\n",
       "      <th>legislatura_XIV</th>\n",
       "      <th>instagram</th>\n",
       "      <th>legislatura_V</th>\n",
       "      <th>legislatura_VI</th>\n",
       "      <th>legislatura_VII</th>\n",
       "      <th>legislatura_VIII</th>\n",
       "      <th>linkedin</th>\n",
       "      <th>youtube</th>\n",
       "      <th>legislatura_II</th>\n",
       "      <th>legislatura_III</th>\n",
       "      <th>years</th>\n",
       "      <th>@@@@@@@@@@@@@</th>\n",
       "      <th>partido</th>\n",
       "    </tr>\n",
       "  </thead>\n",
       "  <tbody>\n",
       "    <tr>\n",
       "      <th>0</th>\n",
       "      <td>Ábalos Meco</td>\n",
       "      <td>PSOE</td>\n",
       "      <td>Ábalos Meco, José Luis</td>\n",
       "      <td>1</td>\n",
       "      <td>27/11/2019</td>\n",
       "      <td>Socialista</td>\n",
       "      <td>46</td>\n",
       "      <td>Valencia/València</td>\n",
       "      <td>José Luis</td>\n",
       "      <td>267</td>\n",
       "      <td>1959-12-09</td>\n",
       "      <td>['IX', 'X', 'XI', 'XII', 'XIII', 'XIV']</td>\n",
       "      <td>NaN</td>\n",
       "      <td>www.congreso.es/docu/imgweb/diputados/267_14.jpg</td>\n",
       "      <td>https://twitter.com/abalosmeco</td>\n",
       "      <td>https://www.facebook.com/jose.l.meco</td>\n",
       "      <td>http://joseluisabalos.wordpress.com/</td>\n",
       "      <td>IX</td>\n",
       "      <td>X</td>\n",
       "      <td>XI</td>\n",
       "      <td>XII</td>\n",
       "      <td>XIII</td>\n",
       "      <td>XIV</td>\n",
       "      <td>NaN</td>\n",
       "      <td>NaN</td>\n",
       "      <td>NaN</td>\n",
       "      <td>NaN</td>\n",
       "      <td>NaN</td>\n",
       "      <td>NaN</td>\n",
       "      <td>NaN</td>\n",
       "      <td>NaN</td>\n",
       "      <td>NaN</td>\n",
       "      <td>62.0</td>\n",
       "      <td>Izquierda</td>\n",
       "      <td>Izquierda</td>\n",
       "    </tr>\n",
       "    <tr>\n",
       "      <th>1</th>\n",
       "      <td>Abascal Conde</td>\n",
       "      <td>Vox</td>\n",
       "      <td>Abascal Conde, Santiago</td>\n",
       "      <td>1</td>\n",
       "      <td>20/11/2019</td>\n",
       "      <td>VOX</td>\n",
       "      <td>28</td>\n",
       "      <td>Madrid</td>\n",
       "      <td>Santiago</td>\n",
       "      <td>43</td>\n",
       "      <td>1976-04-14</td>\n",
       "      <td>['XIII', 'XIV']</td>\n",
       "      <td>NaN</td>\n",
       "      <td>www.congreso.es/docu/imgweb/diputados/43_14.jpg</td>\n",
       "      <td>https://twitter.com/Santi_ABASCAL</td>\n",
       "      <td>NaN</td>\n",
       "      <td>NaN</td>\n",
       "      <td>NaN</td>\n",
       "      <td>NaN</td>\n",
       "      <td>NaN</td>\n",
       "      <td>NaN</td>\n",
       "      <td>XIII</td>\n",
       "      <td>XIV</td>\n",
       "      <td>NaN</td>\n",
       "      <td>NaN</td>\n",
       "      <td>NaN</td>\n",
       "      <td>NaN</td>\n",
       "      <td>NaN</td>\n",
       "      <td>NaN</td>\n",
       "      <td>NaN</td>\n",
       "      <td>NaN</td>\n",
       "      <td>NaN</td>\n",
       "      <td>46.0</td>\n",
       "      <td>Derecha</td>\n",
       "      <td>Derecha</td>\n",
       "    </tr>\n",
       "    <tr>\n",
       "      <th>2</th>\n",
       "      <td>Aceves Galindo</td>\n",
       "      <td>PSOE</td>\n",
       "      <td>Aceves Galindo, José Luis</td>\n",
       "      <td>1</td>\n",
       "      <td>20/11/2019</td>\n",
       "      <td>Socialista</td>\n",
       "      <td>40</td>\n",
       "      <td>Segovia</td>\n",
       "      <td>José Luis</td>\n",
       "      <td>56</td>\n",
       "      <td>1970-05-21</td>\n",
       "      <td>['XIII', 'XIV']</td>\n",
       "      <td>joseluis.aceves@congreso.es</td>\n",
       "      <td>www.congreso.es/docu/imgweb/diputados/56_14.jpg</td>\n",
       "      <td>https://twitter.com/JLAceves</td>\n",
       "      <td>https://www.facebook.com/joseluisaceves</td>\n",
       "      <td>NaN</td>\n",
       "      <td>NaN</td>\n",
       "      <td>NaN</td>\n",
       "      <td>NaN</td>\n",
       "      <td>NaN</td>\n",
       "      <td>XIII</td>\n",
       "      <td>XIV</td>\n",
       "      <td>NaN</td>\n",
       "      <td>NaN</td>\n",
       "      <td>NaN</td>\n",
       "      <td>NaN</td>\n",
       "      <td>NaN</td>\n",
       "      <td>NaN</td>\n",
       "      <td>NaN</td>\n",
       "      <td>NaN</td>\n",
       "      <td>NaN</td>\n",
       "      <td>52.0</td>\n",
       "      <td>Izquierda</td>\n",
       "      <td>Izquierda</td>\n",
       "    </tr>\n",
       "    <tr>\n",
       "      <th>3</th>\n",
       "      <td>Agirretxea Urresti</td>\n",
       "      <td>EAJ-PNV</td>\n",
       "      <td>Agirretxea Urresti, Joseba Andoni</td>\n",
       "      <td>1</td>\n",
       "      <td>21/11/2019</td>\n",
       "      <td>Vasco (EAJ-PNV)</td>\n",
       "      <td>20</td>\n",
       "      <td>Gipuzkoa</td>\n",
       "      <td>Joseba Andoni</td>\n",
       "      <td>99</td>\n",
       "      <td>1966-08-06</td>\n",
       "      <td>['IX', 'X', 'XI', 'XII', 'XIII', 'XIV']</td>\n",
       "      <td>NaN</td>\n",
       "      <td>www.congreso.es/docu/imgweb/diputados/99_14.jpg</td>\n",
       "      <td>https://twitter.com/jagirretxea</td>\n",
       "      <td>https://www.facebook.com/joseba.agirretxea</td>\n",
       "      <td>NaN</td>\n",
       "      <td>IX</td>\n",
       "      <td>X</td>\n",
       "      <td>XI</td>\n",
       "      <td>XII</td>\n",
       "      <td>XIII</td>\n",
       "      <td>XIV</td>\n",
       "      <td>NaN</td>\n",
       "      <td>NaN</td>\n",
       "      <td>NaN</td>\n",
       "      <td>NaN</td>\n",
       "      <td>NaN</td>\n",
       "      <td>NaN</td>\n",
       "      <td>NaN</td>\n",
       "      <td>NaN</td>\n",
       "      <td>NaN</td>\n",
       "      <td>56.0</td>\n",
       "      <td>Derecha</td>\n",
       "      <td>Derecha</td>\n",
       "    </tr>\n",
       "    <tr>\n",
       "      <th>4</th>\n",
       "      <td>Aizcorbe Torra</td>\n",
       "      <td>Vox</td>\n",
       "      <td>Aizcorbe Torra, Juan José</td>\n",
       "      <td>1</td>\n",
       "      <td>25/11/2019</td>\n",
       "      <td>VOX</td>\n",
       "      <td>8</td>\n",
       "      <td>Barcelona</td>\n",
       "      <td>Juan José</td>\n",
       "      <td>151</td>\n",
       "      <td>1959-07-09</td>\n",
       "      <td>['XIV']</td>\n",
       "      <td>NaN</td>\n",
       "      <td>www.congreso.es/docu/imgweb/diputados/151_14.jpg</td>\n",
       "      <td>https://twitter.com/JuanjoAizcorbe</td>\n",
       "      <td>NaN</td>\n",
       "      <td>NaN</td>\n",
       "      <td>NaN</td>\n",
       "      <td>NaN</td>\n",
       "      <td>NaN</td>\n",
       "      <td>NaN</td>\n",
       "      <td>NaN</td>\n",
       "      <td>XIV</td>\n",
       "      <td>NaN</td>\n",
       "      <td>NaN</td>\n",
       "      <td>NaN</td>\n",
       "      <td>NaN</td>\n",
       "      <td>NaN</td>\n",
       "      <td>NaN</td>\n",
       "      <td>NaN</td>\n",
       "      <td>NaN</td>\n",
       "      <td>NaN</td>\n",
       "      <td>63.0</td>\n",
       "      <td>Derecha</td>\n",
       "      <td>Derecha</td>\n",
       "    </tr>\n",
       "  </tbody>\n",
       "</table>\n",
       "</div>"
      ],
      "text/plain": [
       "            apellidos formacion                    apellidosNombre  genero  \\\n",
       "0         Ábalos Meco      PSOE             Ábalos Meco, José Luis       1   \n",
       "1       Abascal Conde       Vox            Abascal Conde, Santiago       1   \n",
       "2      Aceves Galindo      PSOE          Aceves Galindo, José Luis       1   \n",
       "3  Agirretxea Urresti   EAJ-PNV  Agirretxea Urresti, Joseba Andoni       1   \n",
       "4      Aizcorbe Torra       Vox          Aizcorbe Torra, Juan José       1   \n",
       "\n",
       "      fchAlta            grupo  idCircunscripcion nombreCircunscripcion  \\\n",
       "0  27/11/2019       Socialista                 46     Valencia/València   \n",
       "1  20/11/2019              VOX                 28                Madrid   \n",
       "2  20/11/2019       Socialista                 40               Segovia   \n",
       "3  21/11/2019  Vasco (EAJ-PNV)                 20              Gipuzkoa   \n",
       "4  25/11/2019              VOX                  8             Barcelona   \n",
       "\n",
       "          nombre  codParlamentario dateOfBirth  \\\n",
       "0      José Luis               267  1959-12-09   \n",
       "1       Santiago                43  1976-04-14   \n",
       "2      José Luis                56  1970-05-21   \n",
       "3  Joseba Andoni                99  1966-08-06   \n",
       "4      Juan José               151  1959-07-09   \n",
       "\n",
       "                              legislaturas                       mailto  \\\n",
       "0  ['IX', 'X', 'XI', 'XII', 'XIII', 'XIV']                          NaN   \n",
       "1                          ['XIII', 'XIV']                          NaN   \n",
       "2                          ['XIII', 'XIV']  joseluis.aceves@congreso.es   \n",
       "3  ['IX', 'X', 'XI', 'XII', 'XIII', 'XIV']                          NaN   \n",
       "4                                  ['XIV']                          NaN   \n",
       "\n",
       "                                                img  \\\n",
       "0  www.congreso.es/docu/imgweb/diputados/267_14.jpg   \n",
       "1   www.congreso.es/docu/imgweb/diputados/43_14.jpg   \n",
       "2   www.congreso.es/docu/imgweb/diputados/56_14.jpg   \n",
       "3   www.congreso.es/docu/imgweb/diputados/99_14.jpg   \n",
       "4  www.congreso.es/docu/imgweb/diputados/151_14.jpg   \n",
       "\n",
       "                              twitter  \\\n",
       "0      https://twitter.com/abalosmeco   \n",
       "1   https://twitter.com/Santi_ABASCAL   \n",
       "2        https://twitter.com/JLAceves   \n",
       "3     https://twitter.com/jagirretxea   \n",
       "4  https://twitter.com/JuanjoAizcorbe   \n",
       "\n",
       "                                     facebook  \\\n",
       "0        https://www.facebook.com/jose.l.meco   \n",
       "1                                         NaN   \n",
       "2     https://www.facebook.com/joseluisaceves   \n",
       "3  https://www.facebook.com/joseba.agirretxea   \n",
       "4                                         NaN   \n",
       "\n",
       "                           personal-web legislatura_IX legislatura_X  \\\n",
       "0  http://joseluisabalos.wordpress.com/             IX             X   \n",
       "1                                   NaN            NaN           NaN   \n",
       "2                                   NaN            NaN           NaN   \n",
       "3                                   NaN             IX             X   \n",
       "4                                   NaN            NaN           NaN   \n",
       "\n",
       "  legislatura_XI legislatura_XII legislatura_XIII legislatura_XIV instagram  \\\n",
       "0             XI             XII             XIII             XIV       NaN   \n",
       "1            NaN             NaN             XIII             XIV       NaN   \n",
       "2            NaN             NaN             XIII             XIV       NaN   \n",
       "3             XI             XII             XIII             XIV       NaN   \n",
       "4            NaN             NaN              NaN             XIV       NaN   \n",
       "\n",
       "  legislatura_V legislatura_VI legislatura_VII legislatura_VIII linkedin  \\\n",
       "0           NaN            NaN             NaN              NaN      NaN   \n",
       "1           NaN            NaN             NaN              NaN      NaN   \n",
       "2           NaN            NaN             NaN              NaN      NaN   \n",
       "3           NaN            NaN             NaN              NaN      NaN   \n",
       "4           NaN            NaN             NaN              NaN      NaN   \n",
       "\n",
       "  youtube legislatura_II legislatura_III  years @@@@@@@@@@@@@    partido  \n",
       "0     NaN            NaN             NaN   62.0     Izquierda  Izquierda  \n",
       "1     NaN            NaN             NaN   46.0       Derecha    Derecha  \n",
       "2     NaN            NaN             NaN   52.0     Izquierda  Izquierda  \n",
       "3     NaN            NaN             NaN   56.0       Derecha    Derecha  \n",
       "4     NaN            NaN             NaN   63.0       Derecha    Derecha  "
      ]
     },
     "execution_count": 110,
     "metadata": {},
     "output_type": "execute_result"
    }
   ],
   "source": [
    "grupo_mapped = {\n",
    "    'Ciudadanos':'Derecha',\n",
    "    'Confederal de Unidas Podemos-En Comú Podem-Galicia en Común':'Izquierda',\n",
    "    'Euskal Herria Bildu':'Izquierda',\n",
    "    'Mixto':'Derecha',\n",
    "    'Plural':'Izquierda',\n",
    "    'Popular en el Congreso':'',\n",
    "    'Republicano':'Derecha',\n",
    "    'Socialista':'Izquierda',\n",
    "    'Socialista del Congreso':'Izquierda',\n",
    "    'VOX':'Derecha',\n",
    "    'Vasco (EAJ-PNV)':'Derecha'}\n",
    "\n",
    "data_profile['partido'] = data_profile['grupo'].map(grupo_mapped)\n",
    "\n",
    "data_profile.head()"
   ]
  },
  {
   "cell_type": "code",
   "execution_count": 111,
   "metadata": {},
   "outputs": [
    {
     "data": {
      "text/html": [
       "<div>\n",
       "<style scoped>\n",
       "    .dataframe tbody tr th:only-of-type {\n",
       "        vertical-align: middle;\n",
       "    }\n",
       "\n",
       "    .dataframe tbody tr th {\n",
       "        vertical-align: top;\n",
       "    }\n",
       "\n",
       "    .dataframe thead th {\n",
       "        text-align: right;\n",
       "    }\n",
       "</style>\n",
       "<table border=\"1\" class=\"dataframe\">\n",
       "  <thead>\n",
       "    <tr style=\"text-align: right;\">\n",
       "      <th></th>\n",
       "      <th>grupo</th>\n",
       "      <th>formacion</th>\n",
       "      <th>partido</th>\n",
       "      <th>apellidos</th>\n",
       "      <th>apellidosNombre</th>\n",
       "      <th>genero</th>\n",
       "      <th>fchAlta</th>\n",
       "      <th>idCircunscripcion</th>\n",
       "      <th>nombreCircunscripcion</th>\n",
       "      <th>nombre</th>\n",
       "      <th>codParlamentario</th>\n",
       "      <th>dateOfBirth</th>\n",
       "      <th>legislaturas</th>\n",
       "      <th>mailto</th>\n",
       "      <th>img</th>\n",
       "      <th>twitter</th>\n",
       "      <th>facebook</th>\n",
       "      <th>personal-web</th>\n",
       "      <th>legislatura_IX</th>\n",
       "      <th>legislatura_X</th>\n",
       "      <th>legislatura_XI</th>\n",
       "      <th>legislatura_XII</th>\n",
       "      <th>legislatura_XIII</th>\n",
       "      <th>legislatura_XIV</th>\n",
       "      <th>instagram</th>\n",
       "      <th>legislatura_V</th>\n",
       "      <th>legislatura_VI</th>\n",
       "      <th>legislatura_VII</th>\n",
       "      <th>legislatura_VIII</th>\n",
       "      <th>linkedin</th>\n",
       "      <th>youtube</th>\n",
       "      <th>legislatura_II</th>\n",
       "      <th>legislatura_III</th>\n",
       "      <th>years</th>\n",
       "      <th>@@@@@@@@@@@@@</th>\n",
       "    </tr>\n",
       "  </thead>\n",
       "  <tbody>\n",
       "    <tr>\n",
       "      <th>24</th>\n",
       "      <td>Socialista</td>\n",
       "      <td>PSOE</td>\n",
       "      <td>Izquierda</td>\n",
       "      <td>95</td>\n",
       "      <td>95</td>\n",
       "      <td>95</td>\n",
       "      <td>95</td>\n",
       "      <td>95</td>\n",
       "      <td>95</td>\n",
       "      <td>95</td>\n",
       "      <td>95</td>\n",
       "      <td>95</td>\n",
       "      <td>95</td>\n",
       "      <td>89</td>\n",
       "      <td>95</td>\n",
       "      <td>82</td>\n",
       "      <td>31</td>\n",
       "      <td>8</td>\n",
       "      <td>7</td>\n",
       "      <td>13</td>\n",
       "      <td>20</td>\n",
       "      <td>23</td>\n",
       "      <td>73</td>\n",
       "      <td>95</td>\n",
       "      <td>15</td>\n",
       "      <td>0</td>\n",
       "      <td>0</td>\n",
       "      <td>0</td>\n",
       "      <td>4</td>\n",
       "      <td>1</td>\n",
       "      <td>2</td>\n",
       "      <td>0</td>\n",
       "      <td>0</td>\n",
       "      <td>95</td>\n",
       "      <td>95</td>\n",
       "    </tr>\n",
       "    <tr>\n",
       "      <th>19</th>\n",
       "      <td>Popular en el Congreso</td>\n",
       "      <td>PP</td>\n",
       "      <td></td>\n",
       "      <td>85</td>\n",
       "      <td>85</td>\n",
       "      <td>85</td>\n",
       "      <td>85</td>\n",
       "      <td>85</td>\n",
       "      <td>85</td>\n",
       "      <td>85</td>\n",
       "      <td>85</td>\n",
       "      <td>84</td>\n",
       "      <td>85</td>\n",
       "      <td>74</td>\n",
       "      <td>85</td>\n",
       "      <td>73</td>\n",
       "      <td>28</td>\n",
       "      <td>3</td>\n",
       "      <td>15</td>\n",
       "      <td>29</td>\n",
       "      <td>28</td>\n",
       "      <td>37</td>\n",
       "      <td>51</td>\n",
       "      <td>85</td>\n",
       "      <td>25</td>\n",
       "      <td>1</td>\n",
       "      <td>4</td>\n",
       "      <td>8</td>\n",
       "      <td>15</td>\n",
       "      <td>7</td>\n",
       "      <td>1</td>\n",
       "      <td>0</td>\n",
       "      <td>0</td>\n",
       "      <td>84</td>\n",
       "      <td>85</td>\n",
       "    </tr>\n",
       "    <tr>\n",
       "      <th>27</th>\n",
       "      <td>VOX</td>\n",
       "      <td>Vox</td>\n",
       "      <td>Derecha</td>\n",
       "      <td>52</td>\n",
       "      <td>52</td>\n",
       "      <td>52</td>\n",
       "      <td>52</td>\n",
       "      <td>52</td>\n",
       "      <td>52</td>\n",
       "      <td>52</td>\n",
       "      <td>52</td>\n",
       "      <td>52</td>\n",
       "      <td>52</td>\n",
       "      <td>38</td>\n",
       "      <td>52</td>\n",
       "      <td>42</td>\n",
       "      <td>4</td>\n",
       "      <td>1</td>\n",
       "      <td>2</td>\n",
       "      <td>2</td>\n",
       "      <td>0</td>\n",
       "      <td>0</td>\n",
       "      <td>21</td>\n",
       "      <td>52</td>\n",
       "      <td>4</td>\n",
       "      <td>1</td>\n",
       "      <td>1</td>\n",
       "      <td>1</td>\n",
       "      <td>2</td>\n",
       "      <td>1</td>\n",
       "      <td>1</td>\n",
       "      <td>1</td>\n",
       "      <td>1</td>\n",
       "      <td>52</td>\n",
       "      <td>52</td>\n",
       "    </tr>\n",
       "    <tr>\n",
       "      <th>3</th>\n",
       "      <td>Confederal de Unidas Podemos-En Comú Podem-Gal...</td>\n",
       "      <td>UP</td>\n",
       "      <td>Izquierda</td>\n",
       "      <td>24</td>\n",
       "      <td>24</td>\n",
       "      <td>24</td>\n",
       "      <td>24</td>\n",
       "      <td>24</td>\n",
       "      <td>24</td>\n",
       "      <td>24</td>\n",
       "      <td>24</td>\n",
       "      <td>24</td>\n",
       "      <td>24</td>\n",
       "      <td>20</td>\n",
       "      <td>24</td>\n",
       "      <td>23</td>\n",
       "      <td>11</td>\n",
       "      <td>1</td>\n",
       "      <td>0</td>\n",
       "      <td>1</td>\n",
       "      <td>10</td>\n",
       "      <td>11</td>\n",
       "      <td>21</td>\n",
       "      <td>24</td>\n",
       "      <td>8</td>\n",
       "      <td>0</td>\n",
       "      <td>0</td>\n",
       "      <td>0</td>\n",
       "      <td>0</td>\n",
       "      <td>0</td>\n",
       "      <td>0</td>\n",
       "      <td>0</td>\n",
       "      <td>0</td>\n",
       "      <td>24</td>\n",
       "      <td>24</td>\n",
       "    </tr>\n",
       "    <tr>\n",
       "      <th>21</th>\n",
       "      <td>Republicano</td>\n",
       "      <td>ERC-S</td>\n",
       "      <td>Derecha</td>\n",
       "      <td>13</td>\n",
       "      <td>13</td>\n",
       "      <td>13</td>\n",
       "      <td>13</td>\n",
       "      <td>13</td>\n",
       "      <td>13</td>\n",
       "      <td>13</td>\n",
       "      <td>13</td>\n",
       "      <td>13</td>\n",
       "      <td>13</td>\n",
       "      <td>10</td>\n",
       "      <td>13</td>\n",
       "      <td>13</td>\n",
       "      <td>6</td>\n",
       "      <td>0</td>\n",
       "      <td>0</td>\n",
       "      <td>0</td>\n",
       "      <td>4</td>\n",
       "      <td>6</td>\n",
       "      <td>11</td>\n",
       "      <td>13</td>\n",
       "      <td>2</td>\n",
       "      <td>0</td>\n",
       "      <td>0</td>\n",
       "      <td>0</td>\n",
       "      <td>0</td>\n",
       "      <td>0</td>\n",
       "      <td>0</td>\n",
       "      <td>0</td>\n",
       "      <td>0</td>\n",
       "      <td>13</td>\n",
       "      <td>13</td>\n",
       "    </tr>\n",
       "    <tr>\n",
       "      <th>22</th>\n",
       "      <td>Socialista</td>\n",
       "      <td>PSC-PSOE</td>\n",
       "      <td>Izquierda</td>\n",
       "      <td>12</td>\n",
       "      <td>12</td>\n",
       "      <td>12</td>\n",
       "      <td>12</td>\n",
       "      <td>12</td>\n",
       "      <td>12</td>\n",
       "      <td>12</td>\n",
       "      <td>12</td>\n",
       "      <td>12</td>\n",
       "      <td>12</td>\n",
       "      <td>11</td>\n",
       "      <td>12</td>\n",
       "      <td>11</td>\n",
       "      <td>6</td>\n",
       "      <td>1</td>\n",
       "      <td>2</td>\n",
       "      <td>3</td>\n",
       "      <td>6</td>\n",
       "      <td>6</td>\n",
       "      <td>11</td>\n",
       "      <td>12</td>\n",
       "      <td>4</td>\n",
       "      <td>0</td>\n",
       "      <td>0</td>\n",
       "      <td>0</td>\n",
       "      <td>1</td>\n",
       "      <td>0</td>\n",
       "      <td>0</td>\n",
       "      <td>0</td>\n",
       "      <td>0</td>\n",
       "      <td>12</td>\n",
       "      <td>12</td>\n",
       "    </tr>\n",
       "    <tr>\n",
       "      <th>25</th>\n",
       "      <td>Socialista</td>\n",
       "      <td>PsdeG-PSOE</td>\n",
       "      <td>Izquierda</td>\n",
       "      <td>10</td>\n",
       "      <td>10</td>\n",
       "      <td>10</td>\n",
       "      <td>10</td>\n",
       "      <td>10</td>\n",
       "      <td>10</td>\n",
       "      <td>10</td>\n",
       "      <td>10</td>\n",
       "      <td>10</td>\n",
       "      <td>10</td>\n",
       "      <td>10</td>\n",
       "      <td>10</td>\n",
       "      <td>4</td>\n",
       "      <td>3</td>\n",
       "      <td>0</td>\n",
       "      <td>0</td>\n",
       "      <td>1</td>\n",
       "      <td>1</td>\n",
       "      <td>1</td>\n",
       "      <td>6</td>\n",
       "      <td>10</td>\n",
       "      <td>2</td>\n",
       "      <td>0</td>\n",
       "      <td>0</td>\n",
       "      <td>0</td>\n",
       "      <td>0</td>\n",
       "      <td>0</td>\n",
       "      <td>0</td>\n",
       "      <td>0</td>\n",
       "      <td>0</td>\n",
       "      <td>10</td>\n",
       "      <td>10</td>\n",
       "    </tr>\n",
       "    <tr>\n",
       "      <th>0</th>\n",
       "      <td>Ciudadanos</td>\n",
       "      <td>Cs</td>\n",
       "      <td>Derecha</td>\n",
       "      <td>9</td>\n",
       "      <td>9</td>\n",
       "      <td>9</td>\n",
       "      <td>9</td>\n",
       "      <td>9</td>\n",
       "      <td>9</td>\n",
       "      <td>9</td>\n",
       "      <td>9</td>\n",
       "      <td>9</td>\n",
       "      <td>9</td>\n",
       "      <td>8</td>\n",
       "      <td>9</td>\n",
       "      <td>9</td>\n",
       "      <td>2</td>\n",
       "      <td>0</td>\n",
       "      <td>0</td>\n",
       "      <td>0</td>\n",
       "      <td>1</td>\n",
       "      <td>2</td>\n",
       "      <td>9</td>\n",
       "      <td>9</td>\n",
       "      <td>0</td>\n",
       "      <td>0</td>\n",
       "      <td>0</td>\n",
       "      <td>0</td>\n",
       "      <td>0</td>\n",
       "      <td>0</td>\n",
       "      <td>0</td>\n",
       "      <td>0</td>\n",
       "      <td>0</td>\n",
       "      <td>9</td>\n",
       "      <td>9</td>\n",
       "    </tr>\n",
       "    <tr>\n",
       "      <th>2</th>\n",
       "      <td>Confederal de Unidas Podemos-En Comú Podem-Gal...</td>\n",
       "      <td>ECP-GUAYEM EL CANVI</td>\n",
       "      <td>Izquierda</td>\n",
       "      <td>7</td>\n",
       "      <td>7</td>\n",
       "      <td>7</td>\n",
       "      <td>7</td>\n",
       "      <td>7</td>\n",
       "      <td>7</td>\n",
       "      <td>7</td>\n",
       "      <td>7</td>\n",
       "      <td>7</td>\n",
       "      <td>7</td>\n",
       "      <td>7</td>\n",
       "      <td>7</td>\n",
       "      <td>7</td>\n",
       "      <td>4</td>\n",
       "      <td>0</td>\n",
       "      <td>0</td>\n",
       "      <td>0</td>\n",
       "      <td>3</td>\n",
       "      <td>3</td>\n",
       "      <td>6</td>\n",
       "      <td>7</td>\n",
       "      <td>1</td>\n",
       "      <td>0</td>\n",
       "      <td>0</td>\n",
       "      <td>0</td>\n",
       "      <td>0</td>\n",
       "      <td>0</td>\n",
       "      <td>0</td>\n",
       "      <td>0</td>\n",
       "      <td>0</td>\n",
       "      <td>7</td>\n",
       "      <td>7</td>\n",
       "    </tr>\n",
       "    <tr>\n",
       "      <th>28</th>\n",
       "      <td>Vasco (EAJ-PNV)</td>\n",
       "      <td>EAJ-PNV</td>\n",
       "      <td>Derecha</td>\n",
       "      <td>6</td>\n",
       "      <td>6</td>\n",
       "      <td>6</td>\n",
       "      <td>6</td>\n",
       "      <td>6</td>\n",
       "      <td>6</td>\n",
       "      <td>6</td>\n",
       "      <td>6</td>\n",
       "      <td>6</td>\n",
       "      <td>6</td>\n",
       "      <td>0</td>\n",
       "      <td>6</td>\n",
       "      <td>5</td>\n",
       "      <td>4</td>\n",
       "      <td>0</td>\n",
       "      <td>2</td>\n",
       "      <td>2</td>\n",
       "      <td>4</td>\n",
       "      <td>5</td>\n",
       "      <td>6</td>\n",
       "      <td>6</td>\n",
       "      <td>0</td>\n",
       "      <td>0</td>\n",
       "      <td>0</td>\n",
       "      <td>0</td>\n",
       "      <td>1</td>\n",
       "      <td>0</td>\n",
       "      <td>0</td>\n",
       "      <td>0</td>\n",
       "      <td>0</td>\n",
       "      <td>6</td>\n",
       "      <td>6</td>\n",
       "    </tr>\n",
       "    <tr>\n",
       "      <th>4</th>\n",
       "      <td>Euskal Herria Bildu</td>\n",
       "      <td>EH Bildu</td>\n",
       "      <td>Izquierda</td>\n",
       "      <td>5</td>\n",
       "      <td>5</td>\n",
       "      <td>5</td>\n",
       "      <td>5</td>\n",
       "      <td>5</td>\n",
       "      <td>5</td>\n",
       "      <td>5</td>\n",
       "      <td>5</td>\n",
       "      <td>5</td>\n",
       "      <td>5</td>\n",
       "      <td>4</td>\n",
       "      <td>5</td>\n",
       "      <td>4</td>\n",
       "      <td>0</td>\n",
       "      <td>0</td>\n",
       "      <td>0</td>\n",
       "      <td>1</td>\n",
       "      <td>0</td>\n",
       "      <td>1</td>\n",
       "      <td>4</td>\n",
       "      <td>5</td>\n",
       "      <td>0</td>\n",
       "      <td>0</td>\n",
       "      <td>0</td>\n",
       "      <td>0</td>\n",
       "      <td>0</td>\n",
       "      <td>0</td>\n",
       "      <td>0</td>\n",
       "      <td>0</td>\n",
       "      <td>0</td>\n",
       "      <td>5</td>\n",
       "      <td>5</td>\n",
       "    </tr>\n",
       "    <tr>\n",
       "      <th>15</th>\n",
       "      <td>Plural</td>\n",
       "      <td>JxCat-JUNTS (Junts)</td>\n",
       "      <td>Izquierda</td>\n",
       "      <td>4</td>\n",
       "      <td>4</td>\n",
       "      <td>4</td>\n",
       "      <td>4</td>\n",
       "      <td>4</td>\n",
       "      <td>4</td>\n",
       "      <td>4</td>\n",
       "      <td>4</td>\n",
       "      <td>4</td>\n",
       "      <td>4</td>\n",
       "      <td>4</td>\n",
       "      <td>4</td>\n",
       "      <td>4</td>\n",
       "      <td>0</td>\n",
       "      <td>1</td>\n",
       "      <td>0</td>\n",
       "      <td>0</td>\n",
       "      <td>1</td>\n",
       "      <td>1</td>\n",
       "      <td>1</td>\n",
       "      <td>4</td>\n",
       "      <td>0</td>\n",
       "      <td>0</td>\n",
       "      <td>0</td>\n",
       "      <td>0</td>\n",
       "      <td>0</td>\n",
       "      <td>1</td>\n",
       "      <td>0</td>\n",
       "      <td>0</td>\n",
       "      <td>0</td>\n",
       "      <td>4</td>\n",
       "      <td>4</td>\n",
       "    </tr>\n",
       "    <tr>\n",
       "      <th>16</th>\n",
       "      <td>Plural</td>\n",
       "      <td>JxCat-JUNTS (PDeCAT)</td>\n",
       "      <td>Izquierda</td>\n",
       "      <td>4</td>\n",
       "      <td>4</td>\n",
       "      <td>4</td>\n",
       "      <td>4</td>\n",
       "      <td>4</td>\n",
       "      <td>4</td>\n",
       "      <td>4</td>\n",
       "      <td>4</td>\n",
       "      <td>4</td>\n",
       "      <td>4</td>\n",
       "      <td>4</td>\n",
       "      <td>4</td>\n",
       "      <td>4</td>\n",
       "      <td>1</td>\n",
       "      <td>0</td>\n",
       "      <td>0</td>\n",
       "      <td>0</td>\n",
       "      <td>1</td>\n",
       "      <td>2</td>\n",
       "      <td>1</td>\n",
       "      <td>4</td>\n",
       "      <td>2</td>\n",
       "      <td>0</td>\n",
       "      <td>0</td>\n",
       "      <td>0</td>\n",
       "      <td>0</td>\n",
       "      <td>1</td>\n",
       "      <td>0</td>\n",
       "      <td>0</td>\n",
       "      <td>0</td>\n",
       "      <td>4</td>\n",
       "      <td>4</td>\n",
       "    </tr>\n",
       "    <tr>\n",
       "      <th>23</th>\n",
       "      <td>Socialista</td>\n",
       "      <td>PSE-EE-PSOE</td>\n",
       "      <td>Izquierda</td>\n",
       "      <td>3</td>\n",
       "      <td>3</td>\n",
       "      <td>3</td>\n",
       "      <td>3</td>\n",
       "      <td>3</td>\n",
       "      <td>3</td>\n",
       "      <td>3</td>\n",
       "      <td>3</td>\n",
       "      <td>3</td>\n",
       "      <td>3</td>\n",
       "      <td>3</td>\n",
       "      <td>3</td>\n",
       "      <td>3</td>\n",
       "      <td>2</td>\n",
       "      <td>1</td>\n",
       "      <td>0</td>\n",
       "      <td>1</td>\n",
       "      <td>2</td>\n",
       "      <td>2</td>\n",
       "      <td>3</td>\n",
       "      <td>3</td>\n",
       "      <td>0</td>\n",
       "      <td>0</td>\n",
       "      <td>0</td>\n",
       "      <td>0</td>\n",
       "      <td>0</td>\n",
       "      <td>0</td>\n",
       "      <td>0</td>\n",
       "      <td>0</td>\n",
       "      <td>1</td>\n",
       "      <td>3</td>\n",
       "      <td>3</td>\n",
       "    </tr>\n",
       "    <tr>\n",
       "      <th>1</th>\n",
       "      <td>Confederal de Unidas Podemos-En Comú Podem-Gal...</td>\n",
       "      <td>EC-UP</td>\n",
       "      <td>Izquierda</td>\n",
       "      <td>2</td>\n",
       "      <td>2</td>\n",
       "      <td>2</td>\n",
       "      <td>2</td>\n",
       "      <td>2</td>\n",
       "      <td>2</td>\n",
       "      <td>2</td>\n",
       "      <td>2</td>\n",
       "      <td>2</td>\n",
       "      <td>2</td>\n",
       "      <td>2</td>\n",
       "      <td>2</td>\n",
       "      <td>2</td>\n",
       "      <td>2</td>\n",
       "      <td>0</td>\n",
       "      <td>0</td>\n",
       "      <td>0</td>\n",
       "      <td>2</td>\n",
       "      <td>2</td>\n",
       "      <td>2</td>\n",
       "      <td>2</td>\n",
       "      <td>0</td>\n",
       "      <td>0</td>\n",
       "      <td>0</td>\n",
       "      <td>0</td>\n",
       "      <td>0</td>\n",
       "      <td>0</td>\n",
       "      <td>0</td>\n",
       "      <td>0</td>\n",
       "      <td>0</td>\n",
       "      <td>2</td>\n",
       "      <td>2</td>\n",
       "    </tr>\n",
       "    <tr>\n",
       "      <th>17</th>\n",
       "      <td>Plural</td>\n",
       "      <td>MÁS PAÍS-EQUO</td>\n",
       "      <td>Izquierda</td>\n",
       "      <td>2</td>\n",
       "      <td>2</td>\n",
       "      <td>2</td>\n",
       "      <td>2</td>\n",
       "      <td>2</td>\n",
       "      <td>2</td>\n",
       "      <td>2</td>\n",
       "      <td>2</td>\n",
       "      <td>2</td>\n",
       "      <td>2</td>\n",
       "      <td>2</td>\n",
       "      <td>2</td>\n",
       "      <td>2</td>\n",
       "      <td>1</td>\n",
       "      <td>0</td>\n",
       "      <td>0</td>\n",
       "      <td>0</td>\n",
       "      <td>1</td>\n",
       "      <td>1</td>\n",
       "      <td>0</td>\n",
       "      <td>2</td>\n",
       "      <td>1</td>\n",
       "      <td>0</td>\n",
       "      <td>1</td>\n",
       "      <td>0</td>\n",
       "      <td>0</td>\n",
       "      <td>0</td>\n",
       "      <td>0</td>\n",
       "      <td>0</td>\n",
       "      <td>0</td>\n",
       "      <td>2</td>\n",
       "      <td>2</td>\n",
       "    </tr>\n",
       "    <tr>\n",
       "      <th>6</th>\n",
       "      <td>Mixto</td>\n",
       "      <td>CUP-PR</td>\n",
       "      <td>Derecha</td>\n",
       "      <td>2</td>\n",
       "      <td>2</td>\n",
       "      <td>2</td>\n",
       "      <td>2</td>\n",
       "      <td>2</td>\n",
       "      <td>2</td>\n",
       "      <td>2</td>\n",
       "      <td>2</td>\n",
       "      <td>2</td>\n",
       "      <td>2</td>\n",
       "      <td>2</td>\n",
       "      <td>2</td>\n",
       "      <td>2</td>\n",
       "      <td>0</td>\n",
       "      <td>0</td>\n",
       "      <td>0</td>\n",
       "      <td>0</td>\n",
       "      <td>0</td>\n",
       "      <td>0</td>\n",
       "      <td>0</td>\n",
       "      <td>2</td>\n",
       "      <td>0</td>\n",
       "      <td>0</td>\n",
       "      <td>0</td>\n",
       "      <td>0</td>\n",
       "      <td>0</td>\n",
       "      <td>0</td>\n",
       "      <td>0</td>\n",
       "      <td>0</td>\n",
       "      <td>0</td>\n",
       "      <td>2</td>\n",
       "      <td>2</td>\n",
       "    </tr>\n",
       "    <tr>\n",
       "      <th>8</th>\n",
       "      <td>Mixto</td>\n",
       "      <td>NA+</td>\n",
       "      <td>Derecha</td>\n",
       "      <td>2</td>\n",
       "      <td>2</td>\n",
       "      <td>2</td>\n",
       "      <td>2</td>\n",
       "      <td>2</td>\n",
       "      <td>2</td>\n",
       "      <td>2</td>\n",
       "      <td>2</td>\n",
       "      <td>2</td>\n",
       "      <td>2</td>\n",
       "      <td>2</td>\n",
       "      <td>2</td>\n",
       "      <td>1</td>\n",
       "      <td>0</td>\n",
       "      <td>0</td>\n",
       "      <td>0</td>\n",
       "      <td>0</td>\n",
       "      <td>0</td>\n",
       "      <td>0</td>\n",
       "      <td>2</td>\n",
       "      <td>2</td>\n",
       "      <td>0</td>\n",
       "      <td>0</td>\n",
       "      <td>0</td>\n",
       "      <td>0</td>\n",
       "      <td>0</td>\n",
       "      <td>0</td>\n",
       "      <td>0</td>\n",
       "      <td>0</td>\n",
       "      <td>0</td>\n",
       "      <td>2</td>\n",
       "      <td>2</td>\n",
       "    </tr>\n",
       "    <tr>\n",
       "      <th>10</th>\n",
       "      <td>Mixto</td>\n",
       "      <td>PP-FORO</td>\n",
       "      <td>Derecha</td>\n",
       "      <td>1</td>\n",
       "      <td>1</td>\n",
       "      <td>1</td>\n",
       "      <td>1</td>\n",
       "      <td>1</td>\n",
       "      <td>1</td>\n",
       "      <td>1</td>\n",
       "      <td>1</td>\n",
       "      <td>1</td>\n",
       "      <td>1</td>\n",
       "      <td>1</td>\n",
       "      <td>1</td>\n",
       "      <td>1</td>\n",
       "      <td>0</td>\n",
       "      <td>0</td>\n",
       "      <td>0</td>\n",
       "      <td>0</td>\n",
       "      <td>1</td>\n",
       "      <td>1</td>\n",
       "      <td>0</td>\n",
       "      <td>1</td>\n",
       "      <td>0</td>\n",
       "      <td>0</td>\n",
       "      <td>0</td>\n",
       "      <td>0</td>\n",
       "      <td>0</td>\n",
       "      <td>0</td>\n",
       "      <td>0</td>\n",
       "      <td>0</td>\n",
       "      <td>0</td>\n",
       "      <td>1</td>\n",
       "      <td>1</td>\n",
       "    </tr>\n",
       "    <tr>\n",
       "      <th>7</th>\n",
       "      <td>Mixto</td>\n",
       "      <td>Cs</td>\n",
       "      <td>Derecha</td>\n",
       "      <td>1</td>\n",
       "      <td>1</td>\n",
       "      <td>1</td>\n",
       "      <td>1</td>\n",
       "      <td>1</td>\n",
       "      <td>1</td>\n",
       "      <td>1</td>\n",
       "      <td>1</td>\n",
       "      <td>1</td>\n",
       "      <td>1</td>\n",
       "      <td>1</td>\n",
       "      <td>1</td>\n",
       "      <td>1</td>\n",
       "      <td>0</td>\n",
       "      <td>0</td>\n",
       "      <td>0</td>\n",
       "      <td>0</td>\n",
       "      <td>0</td>\n",
       "      <td>0</td>\n",
       "      <td>1</td>\n",
       "      <td>1</td>\n",
       "      <td>0</td>\n",
       "      <td>0</td>\n",
       "      <td>0</td>\n",
       "      <td>0</td>\n",
       "      <td>0</td>\n",
       "      <td>0</td>\n",
       "      <td>0</td>\n",
       "      <td>0</td>\n",
       "      <td>0</td>\n",
       "      <td>1</td>\n",
       "      <td>1</td>\n",
       "    </tr>\n",
       "    <tr>\n",
       "      <th>26</th>\n",
       "      <td>Socialista del Congreso</td>\n",
       "      <td>PSOE</td>\n",
       "      <td>Izquierda</td>\n",
       "      <td>1</td>\n",
       "      <td>1</td>\n",
       "      <td>1</td>\n",
       "      <td>1</td>\n",
       "      <td>1</td>\n",
       "      <td>1</td>\n",
       "      <td>1</td>\n",
       "      <td>1</td>\n",
       "      <td>1</td>\n",
       "      <td>1</td>\n",
       "      <td>1</td>\n",
       "      <td>1</td>\n",
       "      <td>1</td>\n",
       "      <td>0</td>\n",
       "      <td>0</td>\n",
       "      <td>0</td>\n",
       "      <td>0</td>\n",
       "      <td>0</td>\n",
       "      <td>0</td>\n",
       "      <td>0</td>\n",
       "      <td>1</td>\n",
       "      <td>0</td>\n",
       "      <td>0</td>\n",
       "      <td>0</td>\n",
       "      <td>0</td>\n",
       "      <td>0</td>\n",
       "      <td>0</td>\n",
       "      <td>0</td>\n",
       "      <td>0</td>\n",
       "      <td>0</td>\n",
       "      <td>1</td>\n",
       "      <td>1</td>\n",
       "    </tr>\n",
       "    <tr>\n",
       "      <th>5</th>\n",
       "      <td>Mixto</td>\n",
       "      <td>CCa-PNC-NC</td>\n",
       "      <td>Derecha</td>\n",
       "      <td>1</td>\n",
       "      <td>1</td>\n",
       "      <td>1</td>\n",
       "      <td>1</td>\n",
       "      <td>1</td>\n",
       "      <td>1</td>\n",
       "      <td>1</td>\n",
       "      <td>1</td>\n",
       "      <td>1</td>\n",
       "      <td>1</td>\n",
       "      <td>1</td>\n",
       "      <td>1</td>\n",
       "      <td>1</td>\n",
       "      <td>1</td>\n",
       "      <td>0</td>\n",
       "      <td>1</td>\n",
       "      <td>1</td>\n",
       "      <td>1</td>\n",
       "      <td>1</td>\n",
       "      <td>1</td>\n",
       "      <td>1</td>\n",
       "      <td>0</td>\n",
       "      <td>0</td>\n",
       "      <td>0</td>\n",
       "      <td>0</td>\n",
       "      <td>1</td>\n",
       "      <td>0</td>\n",
       "      <td>0</td>\n",
       "      <td>0</td>\n",
       "      <td>0</td>\n",
       "      <td>1</td>\n",
       "      <td>1</td>\n",
       "    </tr>\n",
       "    <tr>\n",
       "      <th>9</th>\n",
       "      <td>Mixto</td>\n",
       "      <td>NC-CCa-PNC</td>\n",
       "      <td>Derecha</td>\n",
       "      <td>1</td>\n",
       "      <td>1</td>\n",
       "      <td>1</td>\n",
       "      <td>1</td>\n",
       "      <td>1</td>\n",
       "      <td>1</td>\n",
       "      <td>1</td>\n",
       "      <td>1</td>\n",
       "      <td>1</td>\n",
       "      <td>1</td>\n",
       "      <td>1</td>\n",
       "      <td>1</td>\n",
       "      <td>1</td>\n",
       "      <td>0</td>\n",
       "      <td>0</td>\n",
       "      <td>0</td>\n",
       "      <td>0</td>\n",
       "      <td>0</td>\n",
       "      <td>0</td>\n",
       "      <td>0</td>\n",
       "      <td>1</td>\n",
       "      <td>1</td>\n",
       "      <td>0</td>\n",
       "      <td>0</td>\n",
       "      <td>0</td>\n",
       "      <td>0</td>\n",
       "      <td>0</td>\n",
       "      <td>0</td>\n",
       "      <td>0</td>\n",
       "      <td>0</td>\n",
       "      <td>1</td>\n",
       "      <td>1</td>\n",
       "    </tr>\n",
       "    <tr>\n",
       "      <th>20</th>\n",
       "      <td>Popular en el Congreso</td>\n",
       "      <td>PP-FORO</td>\n",
       "      <td></td>\n",
       "      <td>1</td>\n",
       "      <td>1</td>\n",
       "      <td>1</td>\n",
       "      <td>1</td>\n",
       "      <td>1</td>\n",
       "      <td>1</td>\n",
       "      <td>1</td>\n",
       "      <td>1</td>\n",
       "      <td>1</td>\n",
       "      <td>1</td>\n",
       "      <td>1</td>\n",
       "      <td>1</td>\n",
       "      <td>1</td>\n",
       "      <td>1</td>\n",
       "      <td>0</td>\n",
       "      <td>0</td>\n",
       "      <td>0</td>\n",
       "      <td>0</td>\n",
       "      <td>0</td>\n",
       "      <td>1</td>\n",
       "      <td>1</td>\n",
       "      <td>1</td>\n",
       "      <td>0</td>\n",
       "      <td>0</td>\n",
       "      <td>0</td>\n",
       "      <td>0</td>\n",
       "      <td>1</td>\n",
       "      <td>0</td>\n",
       "      <td>0</td>\n",
       "      <td>0</td>\n",
       "      <td>1</td>\n",
       "      <td>1</td>\n",
       "    </tr>\n",
       "    <tr>\n",
       "      <th>11</th>\n",
       "      <td>Mixto</td>\n",
       "      <td>PRC</td>\n",
       "      <td>Derecha</td>\n",
       "      <td>1</td>\n",
       "      <td>1</td>\n",
       "      <td>1</td>\n",
       "      <td>1</td>\n",
       "      <td>1</td>\n",
       "      <td>1</td>\n",
       "      <td>1</td>\n",
       "      <td>1</td>\n",
       "      <td>1</td>\n",
       "      <td>1</td>\n",
       "      <td>1</td>\n",
       "      <td>1</td>\n",
       "      <td>0</td>\n",
       "      <td>0</td>\n",
       "      <td>0</td>\n",
       "      <td>0</td>\n",
       "      <td>0</td>\n",
       "      <td>0</td>\n",
       "      <td>0</td>\n",
       "      <td>1</td>\n",
       "      <td>1</td>\n",
       "      <td>0</td>\n",
       "      <td>0</td>\n",
       "      <td>0</td>\n",
       "      <td>0</td>\n",
       "      <td>0</td>\n",
       "      <td>0</td>\n",
       "      <td>0</td>\n",
       "      <td>0</td>\n",
       "      <td>0</td>\n",
       "      <td>1</td>\n",
       "      <td>1</td>\n",
       "    </tr>\n",
       "    <tr>\n",
       "      <th>18</th>\n",
       "      <td>Plural</td>\n",
       "      <td>MÉS COMPROMÍS</td>\n",
       "      <td>Izquierda</td>\n",
       "      <td>1</td>\n",
       "      <td>1</td>\n",
       "      <td>1</td>\n",
       "      <td>1</td>\n",
       "      <td>1</td>\n",
       "      <td>1</td>\n",
       "      <td>1</td>\n",
       "      <td>1</td>\n",
       "      <td>1</td>\n",
       "      <td>1</td>\n",
       "      <td>1</td>\n",
       "      <td>1</td>\n",
       "      <td>1</td>\n",
       "      <td>1</td>\n",
       "      <td>0</td>\n",
       "      <td>0</td>\n",
       "      <td>1</td>\n",
       "      <td>1</td>\n",
       "      <td>1</td>\n",
       "      <td>1</td>\n",
       "      <td>1</td>\n",
       "      <td>0</td>\n",
       "      <td>0</td>\n",
       "      <td>0</td>\n",
       "      <td>0</td>\n",
       "      <td>0</td>\n",
       "      <td>0</td>\n",
       "      <td>0</td>\n",
       "      <td>0</td>\n",
       "      <td>0</td>\n",
       "      <td>1</td>\n",
       "      <td>1</td>\n",
       "    </tr>\n",
       "    <tr>\n",
       "      <th>13</th>\n",
       "      <td>Mixto</td>\n",
       "      <td>¡Teruel Existe!</td>\n",
       "      <td>Derecha</td>\n",
       "      <td>1</td>\n",
       "      <td>1</td>\n",
       "      <td>1</td>\n",
       "      <td>1</td>\n",
       "      <td>1</td>\n",
       "      <td>1</td>\n",
       "      <td>1</td>\n",
       "      <td>1</td>\n",
       "      <td>1</td>\n",
       "      <td>1</td>\n",
       "      <td>1</td>\n",
       "      <td>1</td>\n",
       "      <td>0</td>\n",
       "      <td>0</td>\n",
       "      <td>0</td>\n",
       "      <td>0</td>\n",
       "      <td>0</td>\n",
       "      <td>0</td>\n",
       "      <td>0</td>\n",
       "      <td>0</td>\n",
       "      <td>1</td>\n",
       "      <td>0</td>\n",
       "      <td>0</td>\n",
       "      <td>0</td>\n",
       "      <td>0</td>\n",
       "      <td>0</td>\n",
       "      <td>0</td>\n",
       "      <td>0</td>\n",
       "      <td>0</td>\n",
       "      <td>0</td>\n",
       "      <td>1</td>\n",
       "      <td>1</td>\n",
       "    </tr>\n",
       "    <tr>\n",
       "      <th>12</th>\n",
       "      <td>Mixto</td>\n",
       "      <td>UP</td>\n",
       "      <td>Derecha</td>\n",
       "      <td>1</td>\n",
       "      <td>1</td>\n",
       "      <td>1</td>\n",
       "      <td>1</td>\n",
       "      <td>1</td>\n",
       "      <td>1</td>\n",
       "      <td>1</td>\n",
       "      <td>1</td>\n",
       "      <td>1</td>\n",
       "      <td>1</td>\n",
       "      <td>1</td>\n",
       "      <td>1</td>\n",
       "      <td>1</td>\n",
       "      <td>1</td>\n",
       "      <td>0</td>\n",
       "      <td>0</td>\n",
       "      <td>0</td>\n",
       "      <td>1</td>\n",
       "      <td>1</td>\n",
       "      <td>1</td>\n",
       "      <td>1</td>\n",
       "      <td>0</td>\n",
       "      <td>0</td>\n",
       "      <td>0</td>\n",
       "      <td>0</td>\n",
       "      <td>0</td>\n",
       "      <td>0</td>\n",
       "      <td>0</td>\n",
       "      <td>0</td>\n",
       "      <td>0</td>\n",
       "      <td>1</td>\n",
       "      <td>1</td>\n",
       "    </tr>\n",
       "    <tr>\n",
       "      <th>14</th>\n",
       "      <td>Plural</td>\n",
       "      <td>BNG</td>\n",
       "      <td>Izquierda</td>\n",
       "      <td>1</td>\n",
       "      <td>1</td>\n",
       "      <td>1</td>\n",
       "      <td>1</td>\n",
       "      <td>1</td>\n",
       "      <td>1</td>\n",
       "      <td>1</td>\n",
       "      <td>1</td>\n",
       "      <td>1</td>\n",
       "      <td>1</td>\n",
       "      <td>0</td>\n",
       "      <td>1</td>\n",
       "      <td>1</td>\n",
       "      <td>1</td>\n",
       "      <td>0</td>\n",
       "      <td>0</td>\n",
       "      <td>0</td>\n",
       "      <td>0</td>\n",
       "      <td>0</td>\n",
       "      <td>0</td>\n",
       "      <td>1</td>\n",
       "      <td>0</td>\n",
       "      <td>0</td>\n",
       "      <td>0</td>\n",
       "      <td>0</td>\n",
       "      <td>0</td>\n",
       "      <td>0</td>\n",
       "      <td>0</td>\n",
       "      <td>0</td>\n",
       "      <td>0</td>\n",
       "      <td>1</td>\n",
       "      <td>1</td>\n",
       "    </tr>\n",
       "  </tbody>\n",
       "</table>\n",
       "</div>"
      ],
      "text/plain": [
       "                                                grupo             formacion  \\\n",
       "24                                         Socialista                  PSOE   \n",
       "19                             Popular en el Congreso                    PP   \n",
       "27                                                VOX                   Vox   \n",
       "3   Confederal de Unidas Podemos-En Comú Podem-Gal...                    UP   \n",
       "21                                        Republicano                 ERC-S   \n",
       "22                                         Socialista              PSC-PSOE   \n",
       "25                                         Socialista            PsdeG-PSOE   \n",
       "0                                          Ciudadanos                    Cs   \n",
       "2   Confederal de Unidas Podemos-En Comú Podem-Gal...   ECP-GUAYEM EL CANVI   \n",
       "28                                    Vasco (EAJ-PNV)               EAJ-PNV   \n",
       "4                                 Euskal Herria Bildu              EH Bildu   \n",
       "15                                             Plural   JxCat-JUNTS (Junts)   \n",
       "16                                             Plural  JxCat-JUNTS (PDeCAT)   \n",
       "23                                         Socialista           PSE-EE-PSOE   \n",
       "1   Confederal de Unidas Podemos-En Comú Podem-Gal...                 EC-UP   \n",
       "17                                             Plural         MÁS PAÍS-EQUO   \n",
       "6                                               Mixto                CUP-PR   \n",
       "8                                               Mixto                   NA+   \n",
       "10                                              Mixto               PP-FORO   \n",
       "7                                               Mixto                    Cs   \n",
       "26                            Socialista del Congreso                  PSOE   \n",
       "5                                               Mixto            CCa-PNC-NC   \n",
       "9                                               Mixto            NC-CCa-PNC   \n",
       "20                             Popular en el Congreso               PP-FORO   \n",
       "11                                              Mixto                   PRC   \n",
       "18                                             Plural         MÉS COMPROMÍS   \n",
       "13                                              Mixto       ¡Teruel Existe!   \n",
       "12                                              Mixto                    UP   \n",
       "14                                             Plural                   BNG   \n",
       "\n",
       "      partido  apellidos  apellidosNombre  genero  fchAlta  idCircunscripcion  \\\n",
       "24  Izquierda         95               95      95       95                 95   \n",
       "19                    85               85      85       85                 85   \n",
       "27    Derecha         52               52      52       52                 52   \n",
       "3   Izquierda         24               24      24       24                 24   \n",
       "21    Derecha         13               13      13       13                 13   \n",
       "22  Izquierda         12               12      12       12                 12   \n",
       "25  Izquierda         10               10      10       10                 10   \n",
       "0     Derecha          9                9       9        9                  9   \n",
       "2   Izquierda          7                7       7        7                  7   \n",
       "28    Derecha          6                6       6        6                  6   \n",
       "4   Izquierda          5                5       5        5                  5   \n",
       "15  Izquierda          4                4       4        4                  4   \n",
       "16  Izquierda          4                4       4        4                  4   \n",
       "23  Izquierda          3                3       3        3                  3   \n",
       "1   Izquierda          2                2       2        2                  2   \n",
       "17  Izquierda          2                2       2        2                  2   \n",
       "6     Derecha          2                2       2        2                  2   \n",
       "8     Derecha          2                2       2        2                  2   \n",
       "10    Derecha          1                1       1        1                  1   \n",
       "7     Derecha          1                1       1        1                  1   \n",
       "26  Izquierda          1                1       1        1                  1   \n",
       "5     Derecha          1                1       1        1                  1   \n",
       "9     Derecha          1                1       1        1                  1   \n",
       "20                     1                1       1        1                  1   \n",
       "11    Derecha          1                1       1        1                  1   \n",
       "18  Izquierda          1                1       1        1                  1   \n",
       "13    Derecha          1                1       1        1                  1   \n",
       "12    Derecha          1                1       1        1                  1   \n",
       "14  Izquierda          1                1       1        1                  1   \n",
       "\n",
       "    nombreCircunscripcion  nombre  codParlamentario  dateOfBirth  \\\n",
       "24                     95      95                95           95   \n",
       "19                     85      85                85           84   \n",
       "27                     52      52                52           52   \n",
       "3                      24      24                24           24   \n",
       "21                     13      13                13           13   \n",
       "22                     12      12                12           12   \n",
       "25                     10      10                10           10   \n",
       "0                       9       9                 9            9   \n",
       "2                       7       7                 7            7   \n",
       "28                      6       6                 6            6   \n",
       "4                       5       5                 5            5   \n",
       "15                      4       4                 4            4   \n",
       "16                      4       4                 4            4   \n",
       "23                      3       3                 3            3   \n",
       "1                       2       2                 2            2   \n",
       "17                      2       2                 2            2   \n",
       "6                       2       2                 2            2   \n",
       "8                       2       2                 2            2   \n",
       "10                      1       1                 1            1   \n",
       "7                       1       1                 1            1   \n",
       "26                      1       1                 1            1   \n",
       "5                       1       1                 1            1   \n",
       "9                       1       1                 1            1   \n",
       "20                      1       1                 1            1   \n",
       "11                      1       1                 1            1   \n",
       "18                      1       1                 1            1   \n",
       "13                      1       1                 1            1   \n",
       "12                      1       1                 1            1   \n",
       "14                      1       1                 1            1   \n",
       "\n",
       "    legislaturas  mailto  img  twitter  facebook  personal-web  \\\n",
       "24            95      89   95       82        31             8   \n",
       "19            85      74   85       73        28             3   \n",
       "27            52      38   52       42         4             1   \n",
       "3             24      20   24       23        11             1   \n",
       "21            13      10   13       13         6             0   \n",
       "22            12      11   12       11         6             1   \n",
       "25            10      10   10        4         3             0   \n",
       "0              9       8    9        9         2             0   \n",
       "2              7       7    7        7         4             0   \n",
       "28             6       0    6        5         4             0   \n",
       "4              5       4    5        4         0             0   \n",
       "15             4       4    4        4         0             1   \n",
       "16             4       4    4        4         1             0   \n",
       "23             3       3    3        3         2             1   \n",
       "1              2       2    2        2         2             0   \n",
       "17             2       2    2        2         1             0   \n",
       "6              2       2    2        2         0             0   \n",
       "8              2       2    2        1         0             0   \n",
       "10             1       1    1        1         0             0   \n",
       "7              1       1    1        1         0             0   \n",
       "26             1       1    1        1         0             0   \n",
       "5              1       1    1        1         1             0   \n",
       "9              1       1    1        1         0             0   \n",
       "20             1       1    1        1         1             0   \n",
       "11             1       1    1        0         0             0   \n",
       "18             1       1    1        1         1             0   \n",
       "13             1       1    1        0         0             0   \n",
       "12             1       1    1        1         1             0   \n",
       "14             1       0    1        1         1             0   \n",
       "\n",
       "    legislatura_IX  legislatura_X  legislatura_XI  legislatura_XII  \\\n",
       "24               7             13              20               23   \n",
       "19              15             29              28               37   \n",
       "27               2              2               0                0   \n",
       "3                0              1              10               11   \n",
       "21               0              0               4                6   \n",
       "22               2              3               6                6   \n",
       "25               0              1               1                1   \n",
       "0                0              0               1                2   \n",
       "2                0              0               3                3   \n",
       "28               2              2               4                5   \n",
       "4                0              1               0                1   \n",
       "15               0              0               1                1   \n",
       "16               0              0               1                2   \n",
       "23               0              1               2                2   \n",
       "1                0              0               2                2   \n",
       "17               0              0               1                1   \n",
       "6                0              0               0                0   \n",
       "8                0              0               0                0   \n",
       "10               0              0               1                1   \n",
       "7                0              0               0                0   \n",
       "26               0              0               0                0   \n",
       "5                1              1               1                1   \n",
       "9                0              0               0                0   \n",
       "20               0              0               0                0   \n",
       "11               0              0               0                0   \n",
       "18               0              1               1                1   \n",
       "13               0              0               0                0   \n",
       "12               0              0               1                1   \n",
       "14               0              0               0                0   \n",
       "\n",
       "    legislatura_XIII  legislatura_XIV  instagram  legislatura_V  \\\n",
       "24                73               95         15              0   \n",
       "19                51               85         25              1   \n",
       "27                21               52          4              1   \n",
       "3                 21               24          8              0   \n",
       "21                11               13          2              0   \n",
       "22                11               12          4              0   \n",
       "25                 6               10          2              0   \n",
       "0                  9                9          0              0   \n",
       "2                  6                7          1              0   \n",
       "28                 6                6          0              0   \n",
       "4                  4                5          0              0   \n",
       "15                 1                4          0              0   \n",
       "16                 1                4          2              0   \n",
       "23                 3                3          0              0   \n",
       "1                  2                2          0              0   \n",
       "17                 0                2          1              0   \n",
       "6                  0                2          0              0   \n",
       "8                  2                2          0              0   \n",
       "10                 0                1          0              0   \n",
       "7                  1                1          0              0   \n",
       "26                 0                1          0              0   \n",
       "5                  1                1          0              0   \n",
       "9                  0                1          1              0   \n",
       "20                 1                1          1              0   \n",
       "11                 1                1          0              0   \n",
       "18                 1                1          0              0   \n",
       "13                 0                1          0              0   \n",
       "12                 1                1          0              0   \n",
       "14                 0                1          0              0   \n",
       "\n",
       "    legislatura_VI  legislatura_VII  legislatura_VIII  linkedin  youtube  \\\n",
       "24               0                0                 4         1        2   \n",
       "19               4                8                15         7        1   \n",
       "27               1                1                 2         1        1   \n",
       "3                0                0                 0         0        0   \n",
       "21               0                0                 0         0        0   \n",
       "22               0                0                 1         0        0   \n",
       "25               0                0                 0         0        0   \n",
       "0                0                0                 0         0        0   \n",
       "2                0                0                 0         0        0   \n",
       "28               0                0                 1         0        0   \n",
       "4                0                0                 0         0        0   \n",
       "15               0                0                 0         1        0   \n",
       "16               0                0                 0         1        0   \n",
       "23               0                0                 0         0        0   \n",
       "1                0                0                 0         0        0   \n",
       "17               1                0                 0         0        0   \n",
       "6                0                0                 0         0        0   \n",
       "8                0                0                 0         0        0   \n",
       "10               0                0                 0         0        0   \n",
       "7                0                0                 0         0        0   \n",
       "26               0                0                 0         0        0   \n",
       "5                0                0                 1         0        0   \n",
       "9                0                0                 0         0        0   \n",
       "20               0                0                 0         1        0   \n",
       "11               0                0                 0         0        0   \n",
       "18               0                0                 0         0        0   \n",
       "13               0                0                 0         0        0   \n",
       "12               0                0                 0         0        0   \n",
       "14               0                0                 0         0        0   \n",
       "\n",
       "    legislatura_II  legislatura_III  years  @@@@@@@@@@@@@  \n",
       "24               0                0     95             95  \n",
       "19               0                0     84             85  \n",
       "27               1                1     52             52  \n",
       "3                0                0     24             24  \n",
       "21               0                0     13             13  \n",
       "22               0                0     12             12  \n",
       "25               0                0     10             10  \n",
       "0                0                0      9              9  \n",
       "2                0                0      7              7  \n",
       "28               0                0      6              6  \n",
       "4                0                0      5              5  \n",
       "15               0                0      4              4  \n",
       "16               0                0      4              4  \n",
       "23               0                1      3              3  \n",
       "1                0                0      2              2  \n",
       "17               0                0      2              2  \n",
       "6                0                0      2              2  \n",
       "8                0                0      2              2  \n",
       "10               0                0      1              1  \n",
       "7                0                0      1              1  \n",
       "26               0                0      1              1  \n",
       "5                0                0      1              1  \n",
       "9                0                0      1              1  \n",
       "20               0                0      1              1  \n",
       "11               0                0      1              1  \n",
       "18               0                0      1              1  \n",
       "13               0                0      1              1  \n",
       "12               0                0      1              1  \n",
       "14               0                0      1              1  "
      ]
     },
     "execution_count": 111,
     "metadata": {},
     "output_type": "execute_result"
    }
   ],
   "source": [
    "data_profile.groupby(by=['grupo','formacion','partido']).count().reset_index().sort_values(['codParlamentario'], ascending = False)"
   ]
  },
  {
   "cell_type": "code",
   "execution_count": 115,
   "metadata": {},
   "outputs": [
    {
     "data": {
      "application/vnd.plotly.v1+json": {
       "config": {
        "plotlyServerURL": "https://plot.ly"
       },
       "data": [
        {
         "alignmentgroup": "True",
         "hovertemplate": "codParlamentario=%{x}<br>grupo=%{y}<br>partido=%{marker.color}<extra></extra>",
         "legendgroup": "",
         "marker": {
          "color": [
           9,
           2,
           7,
           24,
           5,
           1,
           2,
           1,
           2,
           1,
           1,
           1,
           1,
           1,
           1,
           4,
           4,
           2,
           1,
           85,
           1,
           13,
           12,
           3,
           95,
           10,
           1,
           52,
           6
          ],
          "coloraxis": "coloraxis",
          "pattern": {
           "shape": ""
          }
         },
         "name": "",
         "offsetgroup": "",
         "orientation": "h",
         "showlegend": false,
         "textposition": "auto",
         "type": "bar",
         "x": [
          9,
          2,
          7,
          24,
          5,
          1,
          2,
          1,
          2,
          1,
          1,
          1,
          1,
          1,
          1,
          4,
          4,
          2,
          1,
          85,
          1,
          13,
          12,
          3,
          95,
          10,
          1,
          52,
          6
         ],
         "xaxis": "x",
         "y": [
          "Ciudadanos",
          "Confederal de Unidas Podemos-En Comú Podem-Galicia en Común",
          "Confederal de Unidas Podemos-En Comú Podem-Galicia en Común",
          "Confederal de Unidas Podemos-En Comú Podem-Galicia en Común",
          "Euskal Herria Bildu",
          "Mixto",
          "Mixto",
          "Mixto",
          "Mixto",
          "Mixto",
          "Mixto",
          "Mixto",
          "Mixto",
          "Mixto",
          "Plural",
          "Plural",
          "Plural",
          "Plural",
          "Plural",
          "Popular en el Congreso",
          "Popular en el Congreso",
          "Republicano",
          "Socialista",
          "Socialista",
          "Socialista",
          "Socialista",
          "Socialista del Congreso",
          "VOX",
          "Vasco (EAJ-PNV)"
         ],
         "yaxis": "y"
        }
       ],
       "layout": {
        "barmode": "relative",
        "coloraxis": {
         "colorbar": {
          "title": {
           "text": "partido"
          }
         },
         "colorscale": [
          [
           0,
           "#0d0887"
          ],
          [
           0.1111111111111111,
           "#46039f"
          ],
          [
           0.2222222222222222,
           "#7201a8"
          ],
          [
           0.3333333333333333,
           "#9c179e"
          ],
          [
           0.4444444444444444,
           "#bd3786"
          ],
          [
           0.5555555555555556,
           "#d8576b"
          ],
          [
           0.6666666666666666,
           "#ed7953"
          ],
          [
           0.7777777777777778,
           "#fb9f3a"
          ],
          [
           0.8888888888888888,
           "#fdca26"
          ],
          [
           1,
           "#f0f921"
          ]
         ]
        },
        "legend": {
         "tracegroupgap": 0
        },
        "margin": {
         "t": 60
        },
        "template": {
         "data": {
          "bar": [
           {
            "error_x": {
             "color": "#2a3f5f"
            },
            "error_y": {
             "color": "#2a3f5f"
            },
            "marker": {
             "line": {
              "color": "#E5ECF6",
              "width": 0.5
             },
             "pattern": {
              "fillmode": "overlay",
              "size": 10,
              "solidity": 0.2
             }
            },
            "type": "bar"
           }
          ],
          "barpolar": [
           {
            "marker": {
             "line": {
              "color": "#E5ECF6",
              "width": 0.5
             },
             "pattern": {
              "fillmode": "overlay",
              "size": 10,
              "solidity": 0.2
             }
            },
            "type": "barpolar"
           }
          ],
          "carpet": [
           {
            "aaxis": {
             "endlinecolor": "#2a3f5f",
             "gridcolor": "white",
             "linecolor": "white",
             "minorgridcolor": "white",
             "startlinecolor": "#2a3f5f"
            },
            "baxis": {
             "endlinecolor": "#2a3f5f",
             "gridcolor": "white",
             "linecolor": "white",
             "minorgridcolor": "white",
             "startlinecolor": "#2a3f5f"
            },
            "type": "carpet"
           }
          ],
          "choropleth": [
           {
            "colorbar": {
             "outlinewidth": 0,
             "ticks": ""
            },
            "type": "choropleth"
           }
          ],
          "contour": [
           {
            "colorbar": {
             "outlinewidth": 0,
             "ticks": ""
            },
            "colorscale": [
             [
              0,
              "#0d0887"
             ],
             [
              0.1111111111111111,
              "#46039f"
             ],
             [
              0.2222222222222222,
              "#7201a8"
             ],
             [
              0.3333333333333333,
              "#9c179e"
             ],
             [
              0.4444444444444444,
              "#bd3786"
             ],
             [
              0.5555555555555556,
              "#d8576b"
             ],
             [
              0.6666666666666666,
              "#ed7953"
             ],
             [
              0.7777777777777778,
              "#fb9f3a"
             ],
             [
              0.8888888888888888,
              "#fdca26"
             ],
             [
              1,
              "#f0f921"
             ]
            ],
            "type": "contour"
           }
          ],
          "contourcarpet": [
           {
            "colorbar": {
             "outlinewidth": 0,
             "ticks": ""
            },
            "type": "contourcarpet"
           }
          ],
          "heatmap": [
           {
            "colorbar": {
             "outlinewidth": 0,
             "ticks": ""
            },
            "colorscale": [
             [
              0,
              "#0d0887"
             ],
             [
              0.1111111111111111,
              "#46039f"
             ],
             [
              0.2222222222222222,
              "#7201a8"
             ],
             [
              0.3333333333333333,
              "#9c179e"
             ],
             [
              0.4444444444444444,
              "#bd3786"
             ],
             [
              0.5555555555555556,
              "#d8576b"
             ],
             [
              0.6666666666666666,
              "#ed7953"
             ],
             [
              0.7777777777777778,
              "#fb9f3a"
             ],
             [
              0.8888888888888888,
              "#fdca26"
             ],
             [
              1,
              "#f0f921"
             ]
            ],
            "type": "heatmap"
           }
          ],
          "heatmapgl": [
           {
            "colorbar": {
             "outlinewidth": 0,
             "ticks": ""
            },
            "colorscale": [
             [
              0,
              "#0d0887"
             ],
             [
              0.1111111111111111,
              "#46039f"
             ],
             [
              0.2222222222222222,
              "#7201a8"
             ],
             [
              0.3333333333333333,
              "#9c179e"
             ],
             [
              0.4444444444444444,
              "#bd3786"
             ],
             [
              0.5555555555555556,
              "#d8576b"
             ],
             [
              0.6666666666666666,
              "#ed7953"
             ],
             [
              0.7777777777777778,
              "#fb9f3a"
             ],
             [
              0.8888888888888888,
              "#fdca26"
             ],
             [
              1,
              "#f0f921"
             ]
            ],
            "type": "heatmapgl"
           }
          ],
          "histogram": [
           {
            "marker": {
             "pattern": {
              "fillmode": "overlay",
              "size": 10,
              "solidity": 0.2
             }
            },
            "type": "histogram"
           }
          ],
          "histogram2d": [
           {
            "colorbar": {
             "outlinewidth": 0,
             "ticks": ""
            },
            "colorscale": [
             [
              0,
              "#0d0887"
             ],
             [
              0.1111111111111111,
              "#46039f"
             ],
             [
              0.2222222222222222,
              "#7201a8"
             ],
             [
              0.3333333333333333,
              "#9c179e"
             ],
             [
              0.4444444444444444,
              "#bd3786"
             ],
             [
              0.5555555555555556,
              "#d8576b"
             ],
             [
              0.6666666666666666,
              "#ed7953"
             ],
             [
              0.7777777777777778,
              "#fb9f3a"
             ],
             [
              0.8888888888888888,
              "#fdca26"
             ],
             [
              1,
              "#f0f921"
             ]
            ],
            "type": "histogram2d"
           }
          ],
          "histogram2dcontour": [
           {
            "colorbar": {
             "outlinewidth": 0,
             "ticks": ""
            },
            "colorscale": [
             [
              0,
              "#0d0887"
             ],
             [
              0.1111111111111111,
              "#46039f"
             ],
             [
              0.2222222222222222,
              "#7201a8"
             ],
             [
              0.3333333333333333,
              "#9c179e"
             ],
             [
              0.4444444444444444,
              "#bd3786"
             ],
             [
              0.5555555555555556,
              "#d8576b"
             ],
             [
              0.6666666666666666,
              "#ed7953"
             ],
             [
              0.7777777777777778,
              "#fb9f3a"
             ],
             [
              0.8888888888888888,
              "#fdca26"
             ],
             [
              1,
              "#f0f921"
             ]
            ],
            "type": "histogram2dcontour"
           }
          ],
          "mesh3d": [
           {
            "colorbar": {
             "outlinewidth": 0,
             "ticks": ""
            },
            "type": "mesh3d"
           }
          ],
          "parcoords": [
           {
            "line": {
             "colorbar": {
              "outlinewidth": 0,
              "ticks": ""
             }
            },
            "type": "parcoords"
           }
          ],
          "pie": [
           {
            "automargin": true,
            "type": "pie"
           }
          ],
          "scatter": [
           {
            "fillpattern": {
             "fillmode": "overlay",
             "size": 10,
             "solidity": 0.2
            },
            "type": "scatter"
           }
          ],
          "scatter3d": [
           {
            "line": {
             "colorbar": {
              "outlinewidth": 0,
              "ticks": ""
             }
            },
            "marker": {
             "colorbar": {
              "outlinewidth": 0,
              "ticks": ""
             }
            },
            "type": "scatter3d"
           }
          ],
          "scattercarpet": [
           {
            "marker": {
             "colorbar": {
              "outlinewidth": 0,
              "ticks": ""
             }
            },
            "type": "scattercarpet"
           }
          ],
          "scattergeo": [
           {
            "marker": {
             "colorbar": {
              "outlinewidth": 0,
              "ticks": ""
             }
            },
            "type": "scattergeo"
           }
          ],
          "scattergl": [
           {
            "marker": {
             "colorbar": {
              "outlinewidth": 0,
              "ticks": ""
             }
            },
            "type": "scattergl"
           }
          ],
          "scattermapbox": [
           {
            "marker": {
             "colorbar": {
              "outlinewidth": 0,
              "ticks": ""
             }
            },
            "type": "scattermapbox"
           }
          ],
          "scatterpolar": [
           {
            "marker": {
             "colorbar": {
              "outlinewidth": 0,
              "ticks": ""
             }
            },
            "type": "scatterpolar"
           }
          ],
          "scatterpolargl": [
           {
            "marker": {
             "colorbar": {
              "outlinewidth": 0,
              "ticks": ""
             }
            },
            "type": "scatterpolargl"
           }
          ],
          "scatterternary": [
           {
            "marker": {
             "colorbar": {
              "outlinewidth": 0,
              "ticks": ""
             }
            },
            "type": "scatterternary"
           }
          ],
          "surface": [
           {
            "colorbar": {
             "outlinewidth": 0,
             "ticks": ""
            },
            "colorscale": [
             [
              0,
              "#0d0887"
             ],
             [
              0.1111111111111111,
              "#46039f"
             ],
             [
              0.2222222222222222,
              "#7201a8"
             ],
             [
              0.3333333333333333,
              "#9c179e"
             ],
             [
              0.4444444444444444,
              "#bd3786"
             ],
             [
              0.5555555555555556,
              "#d8576b"
             ],
             [
              0.6666666666666666,
              "#ed7953"
             ],
             [
              0.7777777777777778,
              "#fb9f3a"
             ],
             [
              0.8888888888888888,
              "#fdca26"
             ],
             [
              1,
              "#f0f921"
             ]
            ],
            "type": "surface"
           }
          ],
          "table": [
           {
            "cells": {
             "fill": {
              "color": "#EBF0F8"
             },
             "line": {
              "color": "white"
             }
            },
            "header": {
             "fill": {
              "color": "#C8D4E3"
             },
             "line": {
              "color": "white"
             }
            },
            "type": "table"
           }
          ]
         },
         "layout": {
          "annotationdefaults": {
           "arrowcolor": "#2a3f5f",
           "arrowhead": 0,
           "arrowwidth": 1
          },
          "autotypenumbers": "strict",
          "coloraxis": {
           "colorbar": {
            "outlinewidth": 0,
            "ticks": ""
           }
          },
          "colorscale": {
           "diverging": [
            [
             0,
             "#8e0152"
            ],
            [
             0.1,
             "#c51b7d"
            ],
            [
             0.2,
             "#de77ae"
            ],
            [
             0.3,
             "#f1b6da"
            ],
            [
             0.4,
             "#fde0ef"
            ],
            [
             0.5,
             "#f7f7f7"
            ],
            [
             0.6,
             "#e6f5d0"
            ],
            [
             0.7,
             "#b8e186"
            ],
            [
             0.8,
             "#7fbc41"
            ],
            [
             0.9,
             "#4d9221"
            ],
            [
             1,
             "#276419"
            ]
           ],
           "sequential": [
            [
             0,
             "#0d0887"
            ],
            [
             0.1111111111111111,
             "#46039f"
            ],
            [
             0.2222222222222222,
             "#7201a8"
            ],
            [
             0.3333333333333333,
             "#9c179e"
            ],
            [
             0.4444444444444444,
             "#bd3786"
            ],
            [
             0.5555555555555556,
             "#d8576b"
            ],
            [
             0.6666666666666666,
             "#ed7953"
            ],
            [
             0.7777777777777778,
             "#fb9f3a"
            ],
            [
             0.8888888888888888,
             "#fdca26"
            ],
            [
             1,
             "#f0f921"
            ]
           ],
           "sequentialminus": [
            [
             0,
             "#0d0887"
            ],
            [
             0.1111111111111111,
             "#46039f"
            ],
            [
             0.2222222222222222,
             "#7201a8"
            ],
            [
             0.3333333333333333,
             "#9c179e"
            ],
            [
             0.4444444444444444,
             "#bd3786"
            ],
            [
             0.5555555555555556,
             "#d8576b"
            ],
            [
             0.6666666666666666,
             "#ed7953"
            ],
            [
             0.7777777777777778,
             "#fb9f3a"
            ],
            [
             0.8888888888888888,
             "#fdca26"
            ],
            [
             1,
             "#f0f921"
            ]
           ]
          },
          "colorway": [
           "#636efa",
           "#EF553B",
           "#00cc96",
           "#ab63fa",
           "#FFA15A",
           "#19d3f3",
           "#FF6692",
           "#B6E880",
           "#FF97FF",
           "#FECB52"
          ],
          "font": {
           "color": "#2a3f5f"
          },
          "geo": {
           "bgcolor": "white",
           "lakecolor": "white",
           "landcolor": "#E5ECF6",
           "showlakes": true,
           "showland": true,
           "subunitcolor": "white"
          },
          "hoverlabel": {
           "align": "left"
          },
          "hovermode": "closest",
          "mapbox": {
           "style": "light"
          },
          "paper_bgcolor": "white",
          "plot_bgcolor": "#E5ECF6",
          "polar": {
           "angularaxis": {
            "gridcolor": "white",
            "linecolor": "white",
            "ticks": ""
           },
           "bgcolor": "#E5ECF6",
           "radialaxis": {
            "gridcolor": "white",
            "linecolor": "white",
            "ticks": ""
           }
          },
          "scene": {
           "xaxis": {
            "backgroundcolor": "#E5ECF6",
            "gridcolor": "white",
            "gridwidth": 2,
            "linecolor": "white",
            "showbackground": true,
            "ticks": "",
            "zerolinecolor": "white"
           },
           "yaxis": {
            "backgroundcolor": "#E5ECF6",
            "gridcolor": "white",
            "gridwidth": 2,
            "linecolor": "white",
            "showbackground": true,
            "ticks": "",
            "zerolinecolor": "white"
           },
           "zaxis": {
            "backgroundcolor": "#E5ECF6",
            "gridcolor": "white",
            "gridwidth": 2,
            "linecolor": "white",
            "showbackground": true,
            "ticks": "",
            "zerolinecolor": "white"
           }
          },
          "shapedefaults": {
           "line": {
            "color": "#2a3f5f"
           }
          },
          "ternary": {
           "aaxis": {
            "gridcolor": "white",
            "linecolor": "white",
            "ticks": ""
           },
           "baxis": {
            "gridcolor": "white",
            "linecolor": "white",
            "ticks": ""
           },
           "bgcolor": "#E5ECF6",
           "caxis": {
            "gridcolor": "white",
            "linecolor": "white",
            "ticks": ""
           }
          },
          "title": {
           "x": 0.05
          },
          "xaxis": {
           "automargin": true,
           "gridcolor": "white",
           "linecolor": "white",
           "ticks": "",
           "title": {
            "standoff": 15
           },
           "zerolinecolor": "white",
           "zerolinewidth": 2
          },
          "yaxis": {
           "automargin": true,
           "gridcolor": "white",
           "linecolor": "white",
           "ticks": "",
           "title": {
            "standoff": 15
           },
           "zerolinecolor": "white",
           "zerolinewidth": 2
          }
         }
        },
        "xaxis": {
         "anchor": "y",
         "domain": [
          0,
          1
         ],
         "title": {
          "text": "codParlamentario"
         }
        },
        "yaxis": {
         "anchor": "x",
         "categoryorder": "total descending",
         "domain": [
          0,
          1
         ],
         "title": {
          "text": "grupo"
         }
        }
       }
      }
     },
     "metadata": {},
     "output_type": "display_data"
    }
   ],
   "source": [
    "fig = px.bar(\n",
    "    data_profile.groupby(by=['grupo','formacion']).count().reset_index(),\n",
    "    x = 'codParlamentario',\n",
    "    y = 'grupo',\n",
    "    color = 'partido'\n",
    "    )\n",
    "\n",
    "fig.update_layout(yaxis={'categoryorder':'total descending'})\n",
    "fig.show()"
   ]
  },
  {
   "cell_type": "code",
   "execution_count": 70,
   "metadata": {},
   "outputs": [
    {
     "data": {
      "application/vnd.plotly.v1+json": {
       "config": {
        "plotlyServerURL": "https://plot.ly"
       },
       "data": [
        {
         "alignmentgroup": "True",
         "hovertemplate": "grupo=Plural<br>codParlamentario=%{x}<br>formacion=%{y}<extra></extra>",
         "legendgroup": "Plural",
         "marker": {
          "color": "#636efa",
          "pattern": {
           "shape": ""
          }
         },
         "name": "Plural",
         "offsetgroup": "Plural",
         "orientation": "h",
         "showlegend": true,
         "textposition": "auto",
         "type": "bar",
         "x": [
          1,
          4,
          4,
          2,
          1
         ],
         "xaxis": "x",
         "y": [
          "BNG",
          "JxCat-JUNTS (Junts)",
          "JxCat-JUNTS (PDeCAT)",
          "MÁS PAÍS-EQUO",
          "MÉS COMPROMÍS"
         ],
         "yaxis": "y"
        },
        {
         "alignmentgroup": "True",
         "hovertemplate": "grupo=Mixto<br>codParlamentario=%{x}<br>formacion=%{y}<extra></extra>",
         "legendgroup": "Mixto",
         "marker": {
          "color": "#EF553B",
          "pattern": {
           "shape": ""
          }
         },
         "name": "Mixto",
         "offsetgroup": "Mixto",
         "orientation": "h",
         "showlegend": true,
         "textposition": "auto",
         "type": "bar",
         "x": [
          1,
          2,
          1,
          2,
          1,
          1,
          1,
          1,
          1
         ],
         "xaxis": "x",
         "y": [
          "CCa-PNC-NC",
          "CUP-PR",
          "Cs",
          "NA+",
          "NC-CCa-PNC",
          "PP-FORO",
          "PRC",
          "UP",
          "¡Teruel Existe!"
         ],
         "yaxis": "y"
        },
        {
         "alignmentgroup": "True",
         "hovertemplate": "grupo=Ciudadanos<br>codParlamentario=%{x}<br>formacion=%{y}<extra></extra>",
         "legendgroup": "Ciudadanos",
         "marker": {
          "color": "#00cc96",
          "pattern": {
           "shape": ""
          }
         },
         "name": "Ciudadanos",
         "offsetgroup": "Ciudadanos",
         "orientation": "h",
         "showlegend": true,
         "textposition": "auto",
         "type": "bar",
         "x": [
          9
         ],
         "xaxis": "x",
         "y": [
          "Cs"
         ],
         "yaxis": "y"
        },
        {
         "alignmentgroup": "True",
         "hovertemplate": "grupo=Vasco (EAJ-PNV)<br>codParlamentario=%{x}<br>formacion=%{y}<extra></extra>",
         "legendgroup": "Vasco (EAJ-PNV)",
         "marker": {
          "color": "#ab63fa",
          "pattern": {
           "shape": ""
          }
         },
         "name": "Vasco (EAJ-PNV)",
         "offsetgroup": "Vasco (EAJ-PNV)",
         "orientation": "h",
         "showlegend": true,
         "textposition": "auto",
         "type": "bar",
         "x": [
          6
         ],
         "xaxis": "x",
         "y": [
          "EAJ-PNV"
         ],
         "yaxis": "y"
        },
        {
         "alignmentgroup": "True",
         "hovertemplate": "grupo=Confederal de Unidas Podemos-En Comú Podem-Galicia en Común<br>codParlamentario=%{x}<br>formacion=%{y}<extra></extra>",
         "legendgroup": "Confederal de Unidas Podemos-En Comú Podem-Galicia en Común",
         "marker": {
          "color": "#FFA15A",
          "pattern": {
           "shape": ""
          }
         },
         "name": "Confederal de Unidas Podemos-En Comú Podem-Galicia en Común",
         "offsetgroup": "Confederal de Unidas Podemos-En Comú Podem-Galicia en Común",
         "orientation": "h",
         "showlegend": true,
         "textposition": "auto",
         "type": "bar",
         "x": [
          2,
          7,
          24
         ],
         "xaxis": "x",
         "y": [
          "EC-UP",
          "ECP-GUAYEM EL CANVI",
          "UP"
         ],
         "yaxis": "y"
        },
        {
         "alignmentgroup": "True",
         "hovertemplate": "grupo=Euskal Herria Bildu<br>codParlamentario=%{x}<br>formacion=%{y}<extra></extra>",
         "legendgroup": "Euskal Herria Bildu",
         "marker": {
          "color": "#19d3f3",
          "pattern": {
           "shape": ""
          }
         },
         "name": "Euskal Herria Bildu",
         "offsetgroup": "Euskal Herria Bildu",
         "orientation": "h",
         "showlegend": true,
         "textposition": "auto",
         "type": "bar",
         "x": [
          5
         ],
         "xaxis": "x",
         "y": [
          "EH Bildu"
         ],
         "yaxis": "y"
        },
        {
         "alignmentgroup": "True",
         "hovertemplate": "grupo=Republicano<br>codParlamentario=%{x}<br>formacion=%{y}<extra></extra>",
         "legendgroup": "Republicano",
         "marker": {
          "color": "#FF6692",
          "pattern": {
           "shape": ""
          }
         },
         "name": "Republicano",
         "offsetgroup": "Republicano",
         "orientation": "h",
         "showlegend": true,
         "textposition": "auto",
         "type": "bar",
         "x": [
          13
         ],
         "xaxis": "x",
         "y": [
          "ERC-S"
         ],
         "yaxis": "y"
        },
        {
         "alignmentgroup": "True",
         "hovertemplate": "grupo=Popular en el Congreso<br>codParlamentario=%{x}<br>formacion=%{y}<extra></extra>",
         "legendgroup": "Popular en el Congreso",
         "marker": {
          "color": "#B6E880",
          "pattern": {
           "shape": ""
          }
         },
         "name": "Popular en el Congreso",
         "offsetgroup": "Popular en el Congreso",
         "orientation": "h",
         "showlegend": true,
         "textposition": "auto",
         "type": "bar",
         "x": [
          85,
          1
         ],
         "xaxis": "x",
         "y": [
          "PP",
          "PP-FORO"
         ],
         "yaxis": "y"
        },
        {
         "alignmentgroup": "True",
         "hovertemplate": "grupo=Socialista<br>codParlamentario=%{x}<br>formacion=%{y}<extra></extra>",
         "legendgroup": "Socialista",
         "marker": {
          "color": "#FF97FF",
          "pattern": {
           "shape": ""
          }
         },
         "name": "Socialista",
         "offsetgroup": "Socialista",
         "orientation": "h",
         "showlegend": true,
         "textposition": "auto",
         "type": "bar",
         "x": [
          12,
          3,
          95,
          10
         ],
         "xaxis": "x",
         "y": [
          "PSC-PSOE",
          "PSE-EE-PSOE",
          "PSOE",
          "PsdeG-PSOE"
         ],
         "yaxis": "y"
        },
        {
         "alignmentgroup": "True",
         "hovertemplate": "grupo=Socialista del Congreso<br>codParlamentario=%{x}<br>formacion=%{y}<extra></extra>",
         "legendgroup": "Socialista del Congreso",
         "marker": {
          "color": "#FECB52",
          "pattern": {
           "shape": ""
          }
         },
         "name": "Socialista del Congreso",
         "offsetgroup": "Socialista del Congreso",
         "orientation": "h",
         "showlegend": true,
         "textposition": "auto",
         "type": "bar",
         "x": [
          1
         ],
         "xaxis": "x",
         "y": [
          "PSOE"
         ],
         "yaxis": "y"
        },
        {
         "alignmentgroup": "True",
         "hovertemplate": "grupo=VOX<br>codParlamentario=%{x}<br>formacion=%{y}<extra></extra>",
         "legendgroup": "VOX",
         "marker": {
          "color": "#636efa",
          "pattern": {
           "shape": ""
          }
         },
         "name": "VOX",
         "offsetgroup": "VOX",
         "orientation": "h",
         "showlegend": true,
         "textposition": "auto",
         "type": "bar",
         "x": [
          52
         ],
         "xaxis": "x",
         "y": [
          "Vox"
         ],
         "yaxis": "y"
        }
       ],
       "layout": {
        "barmode": "relative",
        "legend": {
         "title": {
          "text": "grupo"
         },
         "tracegroupgap": 0
        },
        "margin": {
         "t": 60
        },
        "template": {
         "data": {
          "bar": [
           {
            "error_x": {
             "color": "#2a3f5f"
            },
            "error_y": {
             "color": "#2a3f5f"
            },
            "marker": {
             "line": {
              "color": "#E5ECF6",
              "width": 0.5
             },
             "pattern": {
              "fillmode": "overlay",
              "size": 10,
              "solidity": 0.2
             }
            },
            "type": "bar"
           }
          ],
          "barpolar": [
           {
            "marker": {
             "line": {
              "color": "#E5ECF6",
              "width": 0.5
             },
             "pattern": {
              "fillmode": "overlay",
              "size": 10,
              "solidity": 0.2
             }
            },
            "type": "barpolar"
           }
          ],
          "carpet": [
           {
            "aaxis": {
             "endlinecolor": "#2a3f5f",
             "gridcolor": "white",
             "linecolor": "white",
             "minorgridcolor": "white",
             "startlinecolor": "#2a3f5f"
            },
            "baxis": {
             "endlinecolor": "#2a3f5f",
             "gridcolor": "white",
             "linecolor": "white",
             "minorgridcolor": "white",
             "startlinecolor": "#2a3f5f"
            },
            "type": "carpet"
           }
          ],
          "choropleth": [
           {
            "colorbar": {
             "outlinewidth": 0,
             "ticks": ""
            },
            "type": "choropleth"
           }
          ],
          "contour": [
           {
            "colorbar": {
             "outlinewidth": 0,
             "ticks": ""
            },
            "colorscale": [
             [
              0,
              "#0d0887"
             ],
             [
              0.1111111111111111,
              "#46039f"
             ],
             [
              0.2222222222222222,
              "#7201a8"
             ],
             [
              0.3333333333333333,
              "#9c179e"
             ],
             [
              0.4444444444444444,
              "#bd3786"
             ],
             [
              0.5555555555555556,
              "#d8576b"
             ],
             [
              0.6666666666666666,
              "#ed7953"
             ],
             [
              0.7777777777777778,
              "#fb9f3a"
             ],
             [
              0.8888888888888888,
              "#fdca26"
             ],
             [
              1,
              "#f0f921"
             ]
            ],
            "type": "contour"
           }
          ],
          "contourcarpet": [
           {
            "colorbar": {
             "outlinewidth": 0,
             "ticks": ""
            },
            "type": "contourcarpet"
           }
          ],
          "heatmap": [
           {
            "colorbar": {
             "outlinewidth": 0,
             "ticks": ""
            },
            "colorscale": [
             [
              0,
              "#0d0887"
             ],
             [
              0.1111111111111111,
              "#46039f"
             ],
             [
              0.2222222222222222,
              "#7201a8"
             ],
             [
              0.3333333333333333,
              "#9c179e"
             ],
             [
              0.4444444444444444,
              "#bd3786"
             ],
             [
              0.5555555555555556,
              "#d8576b"
             ],
             [
              0.6666666666666666,
              "#ed7953"
             ],
             [
              0.7777777777777778,
              "#fb9f3a"
             ],
             [
              0.8888888888888888,
              "#fdca26"
             ],
             [
              1,
              "#f0f921"
             ]
            ],
            "type": "heatmap"
           }
          ],
          "heatmapgl": [
           {
            "colorbar": {
             "outlinewidth": 0,
             "ticks": ""
            },
            "colorscale": [
             [
              0,
              "#0d0887"
             ],
             [
              0.1111111111111111,
              "#46039f"
             ],
             [
              0.2222222222222222,
              "#7201a8"
             ],
             [
              0.3333333333333333,
              "#9c179e"
             ],
             [
              0.4444444444444444,
              "#bd3786"
             ],
             [
              0.5555555555555556,
              "#d8576b"
             ],
             [
              0.6666666666666666,
              "#ed7953"
             ],
             [
              0.7777777777777778,
              "#fb9f3a"
             ],
             [
              0.8888888888888888,
              "#fdca26"
             ],
             [
              1,
              "#f0f921"
             ]
            ],
            "type": "heatmapgl"
           }
          ],
          "histogram": [
           {
            "marker": {
             "pattern": {
              "fillmode": "overlay",
              "size": 10,
              "solidity": 0.2
             }
            },
            "type": "histogram"
           }
          ],
          "histogram2d": [
           {
            "colorbar": {
             "outlinewidth": 0,
             "ticks": ""
            },
            "colorscale": [
             [
              0,
              "#0d0887"
             ],
             [
              0.1111111111111111,
              "#46039f"
             ],
             [
              0.2222222222222222,
              "#7201a8"
             ],
             [
              0.3333333333333333,
              "#9c179e"
             ],
             [
              0.4444444444444444,
              "#bd3786"
             ],
             [
              0.5555555555555556,
              "#d8576b"
             ],
             [
              0.6666666666666666,
              "#ed7953"
             ],
             [
              0.7777777777777778,
              "#fb9f3a"
             ],
             [
              0.8888888888888888,
              "#fdca26"
             ],
             [
              1,
              "#f0f921"
             ]
            ],
            "type": "histogram2d"
           }
          ],
          "histogram2dcontour": [
           {
            "colorbar": {
             "outlinewidth": 0,
             "ticks": ""
            },
            "colorscale": [
             [
              0,
              "#0d0887"
             ],
             [
              0.1111111111111111,
              "#46039f"
             ],
             [
              0.2222222222222222,
              "#7201a8"
             ],
             [
              0.3333333333333333,
              "#9c179e"
             ],
             [
              0.4444444444444444,
              "#bd3786"
             ],
             [
              0.5555555555555556,
              "#d8576b"
             ],
             [
              0.6666666666666666,
              "#ed7953"
             ],
             [
              0.7777777777777778,
              "#fb9f3a"
             ],
             [
              0.8888888888888888,
              "#fdca26"
             ],
             [
              1,
              "#f0f921"
             ]
            ],
            "type": "histogram2dcontour"
           }
          ],
          "mesh3d": [
           {
            "colorbar": {
             "outlinewidth": 0,
             "ticks": ""
            },
            "type": "mesh3d"
           }
          ],
          "parcoords": [
           {
            "line": {
             "colorbar": {
              "outlinewidth": 0,
              "ticks": ""
             }
            },
            "type": "parcoords"
           }
          ],
          "pie": [
           {
            "automargin": true,
            "type": "pie"
           }
          ],
          "scatter": [
           {
            "fillpattern": {
             "fillmode": "overlay",
             "size": 10,
             "solidity": 0.2
            },
            "type": "scatter"
           }
          ],
          "scatter3d": [
           {
            "line": {
             "colorbar": {
              "outlinewidth": 0,
              "ticks": ""
             }
            },
            "marker": {
             "colorbar": {
              "outlinewidth": 0,
              "ticks": ""
             }
            },
            "type": "scatter3d"
           }
          ],
          "scattercarpet": [
           {
            "marker": {
             "colorbar": {
              "outlinewidth": 0,
              "ticks": ""
             }
            },
            "type": "scattercarpet"
           }
          ],
          "scattergeo": [
           {
            "marker": {
             "colorbar": {
              "outlinewidth": 0,
              "ticks": ""
             }
            },
            "type": "scattergeo"
           }
          ],
          "scattergl": [
           {
            "marker": {
             "colorbar": {
              "outlinewidth": 0,
              "ticks": ""
             }
            },
            "type": "scattergl"
           }
          ],
          "scattermapbox": [
           {
            "marker": {
             "colorbar": {
              "outlinewidth": 0,
              "ticks": ""
             }
            },
            "type": "scattermapbox"
           }
          ],
          "scatterpolar": [
           {
            "marker": {
             "colorbar": {
              "outlinewidth": 0,
              "ticks": ""
             }
            },
            "type": "scatterpolar"
           }
          ],
          "scatterpolargl": [
           {
            "marker": {
             "colorbar": {
              "outlinewidth": 0,
              "ticks": ""
             }
            },
            "type": "scatterpolargl"
           }
          ],
          "scatterternary": [
           {
            "marker": {
             "colorbar": {
              "outlinewidth": 0,
              "ticks": ""
             }
            },
            "type": "scatterternary"
           }
          ],
          "surface": [
           {
            "colorbar": {
             "outlinewidth": 0,
             "ticks": ""
            },
            "colorscale": [
             [
              0,
              "#0d0887"
             ],
             [
              0.1111111111111111,
              "#46039f"
             ],
             [
              0.2222222222222222,
              "#7201a8"
             ],
             [
              0.3333333333333333,
              "#9c179e"
             ],
             [
              0.4444444444444444,
              "#bd3786"
             ],
             [
              0.5555555555555556,
              "#d8576b"
             ],
             [
              0.6666666666666666,
              "#ed7953"
             ],
             [
              0.7777777777777778,
              "#fb9f3a"
             ],
             [
              0.8888888888888888,
              "#fdca26"
             ],
             [
              1,
              "#f0f921"
             ]
            ],
            "type": "surface"
           }
          ],
          "table": [
           {
            "cells": {
             "fill": {
              "color": "#EBF0F8"
             },
             "line": {
              "color": "white"
             }
            },
            "header": {
             "fill": {
              "color": "#C8D4E3"
             },
             "line": {
              "color": "white"
             }
            },
            "type": "table"
           }
          ]
         },
         "layout": {
          "annotationdefaults": {
           "arrowcolor": "#2a3f5f",
           "arrowhead": 0,
           "arrowwidth": 1
          },
          "autotypenumbers": "strict",
          "coloraxis": {
           "colorbar": {
            "outlinewidth": 0,
            "ticks": ""
           }
          },
          "colorscale": {
           "diverging": [
            [
             0,
             "#8e0152"
            ],
            [
             0.1,
             "#c51b7d"
            ],
            [
             0.2,
             "#de77ae"
            ],
            [
             0.3,
             "#f1b6da"
            ],
            [
             0.4,
             "#fde0ef"
            ],
            [
             0.5,
             "#f7f7f7"
            ],
            [
             0.6,
             "#e6f5d0"
            ],
            [
             0.7,
             "#b8e186"
            ],
            [
             0.8,
             "#7fbc41"
            ],
            [
             0.9,
             "#4d9221"
            ],
            [
             1,
             "#276419"
            ]
           ],
           "sequential": [
            [
             0,
             "#0d0887"
            ],
            [
             0.1111111111111111,
             "#46039f"
            ],
            [
             0.2222222222222222,
             "#7201a8"
            ],
            [
             0.3333333333333333,
             "#9c179e"
            ],
            [
             0.4444444444444444,
             "#bd3786"
            ],
            [
             0.5555555555555556,
             "#d8576b"
            ],
            [
             0.6666666666666666,
             "#ed7953"
            ],
            [
             0.7777777777777778,
             "#fb9f3a"
            ],
            [
             0.8888888888888888,
             "#fdca26"
            ],
            [
             1,
             "#f0f921"
            ]
           ],
           "sequentialminus": [
            [
             0,
             "#0d0887"
            ],
            [
             0.1111111111111111,
             "#46039f"
            ],
            [
             0.2222222222222222,
             "#7201a8"
            ],
            [
             0.3333333333333333,
             "#9c179e"
            ],
            [
             0.4444444444444444,
             "#bd3786"
            ],
            [
             0.5555555555555556,
             "#d8576b"
            ],
            [
             0.6666666666666666,
             "#ed7953"
            ],
            [
             0.7777777777777778,
             "#fb9f3a"
            ],
            [
             0.8888888888888888,
             "#fdca26"
            ],
            [
             1,
             "#f0f921"
            ]
           ]
          },
          "colorway": [
           "#636efa",
           "#EF553B",
           "#00cc96",
           "#ab63fa",
           "#FFA15A",
           "#19d3f3",
           "#FF6692",
           "#B6E880",
           "#FF97FF",
           "#FECB52"
          ],
          "font": {
           "color": "#2a3f5f"
          },
          "geo": {
           "bgcolor": "white",
           "lakecolor": "white",
           "landcolor": "#E5ECF6",
           "showlakes": true,
           "showland": true,
           "subunitcolor": "white"
          },
          "hoverlabel": {
           "align": "left"
          },
          "hovermode": "closest",
          "mapbox": {
           "style": "light"
          },
          "paper_bgcolor": "white",
          "plot_bgcolor": "#E5ECF6",
          "polar": {
           "angularaxis": {
            "gridcolor": "white",
            "linecolor": "white",
            "ticks": ""
           },
           "bgcolor": "#E5ECF6",
           "radialaxis": {
            "gridcolor": "white",
            "linecolor": "white",
            "ticks": ""
           }
          },
          "scene": {
           "xaxis": {
            "backgroundcolor": "#E5ECF6",
            "gridcolor": "white",
            "gridwidth": 2,
            "linecolor": "white",
            "showbackground": true,
            "ticks": "",
            "zerolinecolor": "white"
           },
           "yaxis": {
            "backgroundcolor": "#E5ECF6",
            "gridcolor": "white",
            "gridwidth": 2,
            "linecolor": "white",
            "showbackground": true,
            "ticks": "",
            "zerolinecolor": "white"
           },
           "zaxis": {
            "backgroundcolor": "#E5ECF6",
            "gridcolor": "white",
            "gridwidth": 2,
            "linecolor": "white",
            "showbackground": true,
            "ticks": "",
            "zerolinecolor": "white"
           }
          },
          "shapedefaults": {
           "line": {
            "color": "#2a3f5f"
           }
          },
          "ternary": {
           "aaxis": {
            "gridcolor": "white",
            "linecolor": "white",
            "ticks": ""
           },
           "baxis": {
            "gridcolor": "white",
            "linecolor": "white",
            "ticks": ""
           },
           "bgcolor": "#E5ECF6",
           "caxis": {
            "gridcolor": "white",
            "linecolor": "white",
            "ticks": ""
           }
          },
          "title": {
           "x": 0.05
          },
          "xaxis": {
           "automargin": true,
           "gridcolor": "white",
           "linecolor": "white",
           "ticks": "",
           "title": {
            "standoff": 15
           },
           "zerolinecolor": "white",
           "zerolinewidth": 2
          },
          "yaxis": {
           "automargin": true,
           "gridcolor": "white",
           "linecolor": "white",
           "ticks": "",
           "title": {
            "standoff": 15
           },
           "zerolinecolor": "white",
           "zerolinewidth": 2
          }
         }
        },
        "xaxis": {
         "anchor": "y",
         "domain": [
          0,
          1
         ],
         "title": {
          "text": "codParlamentario"
         }
        },
        "yaxis": {
         "anchor": "x",
         "categoryorder": "total descending",
         "domain": [
          0,
          1
         ],
         "title": {
          "text": "formacion"
         }
        }
       }
      }
     },
     "metadata": {},
     "output_type": "display_data"
    }
   ],
   "source": [
    "fig = px.bar(\n",
    "    data_profile.groupby(by=['formacion','grupo']).count().reset_index(),\n",
    "    x = 'codParlamentario',\n",
    "    y = 'formacion',\n",
    "    color = 'grupo')\n",
    "\n",
    "fig.update_layout(yaxis={'categoryorder':'total descending'})\n",
    "fig.show()"
   ]
  },
  {
   "cell_type": "code",
   "execution_count": null,
   "metadata": {},
   "outputs": [],
   "source": []
  },
  {
   "cell_type": "markdown",
   "metadata": {},
   "source": [
    "## ASSUMPTIONS"
   ]
  },
  {
   "cell_type": "code",
   "execution_count": null,
   "metadata": {},
   "outputs": [],
   "source": []
  }
 ],
 "metadata": {
  "kernelspec": {
   "display_name": "Python 3.9.0 64-bit",
   "language": "python",
   "name": "python3"
  },
  "language_info": {
   "codemirror_mode": {
    "name": "ipython",
    "version": 3
   },
   "file_extension": ".py",
   "mimetype": "text/x-python",
   "name": "python",
   "nbconvert_exporter": "python",
   "pygments_lexer": "ipython3",
   "version": "3.10.7"
  },
  "orig_nbformat": 4,
  "vscode": {
   "interpreter": {
    "hash": "aee8b7b246df8f9039afb4144a1f6fd8d2ca17a180786b69acc140d282b71a49"
   }
  }
 },
 "nbformat": 4,
 "nbformat_minor": 2
}
