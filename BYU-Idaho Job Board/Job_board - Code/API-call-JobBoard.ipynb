{
 "cells": [
  {
   "cell_type": "markdown",
   "metadata": {},
   "source": [
    "# EXPORTS JOBS POSTED FROM [web.byui.edu/StudentEmployment/’](web.byui.edu/StudentEmployment/) INTO A CSV FILE"
   ]
  },
  {
   "cell_type": "code",
   "execution_count": 1,
   "metadata": {},
   "outputs": [],
   "source": [
    "import http.client\n",
    "import json\n",
    "import pandas as pd\n",
    "from bs4 import BeautifulSoup"
   ]
  },
  {
   "cell_type": "markdown",
   "metadata": {},
   "source": [
    "## REQUEST DATA FROM API ENDPOINT"
   ]
  },
  {
   "cell_type": "code",
   "execution_count": 10,
   "metadata": {},
   "outputs": [],
   "source": [
    "conn = http.client.HTTPSConnection(\"web.byui.edu\")\n",
    " \n",
    "conn.request(\"GET\", \"/studentemployment/api/jobs\")\n",
    "\n",
    "res = conn.getresponse()\n",
    "\n",
    "data = res.read()\n",
    "\n",
    "info = data.decode(\"utf-8\")\n",
    "\n",
    "responseObject = json.loads(info)\n",
    "\n",
    "data_jobs = pd.DataFrame(responseObject)"
   ]
  },
  {
   "cell_type": "code",
   "execution_count": null,
   "metadata": {},
   "outputs": [],
   "source": [
    "data_jobs"
   ]
  },
  {
   "cell_type": "code",
   "execution_count": null,
   "metadata": {},
   "outputs": [],
   "source": [
    "type(data)"
   ]
  },
  {
   "cell_type": "markdown",
   "metadata": {},
   "source": [
    "## DISPLAY DATA RECEIVED"
   ]
  },
  {
   "cell_type": "code",
   "execution_count": null,
   "metadata": {},
   "outputs": [],
   "source": [
    "pd.options.display.max_columns = None\n",
    "\n",
    "data_jobs"
   ]
  },
  {
   "cell_type": "markdown",
   "metadata": {},
   "source": [
    "## SIMPLE OVERVIEW"
   ]
  },
  {
   "cell_type": "code",
   "execution_count": null,
   "metadata": {},
   "outputs": [],
   "source": [
    "print(f'''\n",
    "    THERE ARE {data_jobs.jobID.nunique()} JOBS.\n",
    "    HIGHEST PAY JOB:\\'{data_jobs[data_jobs.payRate==data_jobs.payRate.max()]['title'].iloc[0]}\\' WITH {data_jobs.payRate.max()} DOLLARS AN HOUR.\n",
    "    ONLINE JOBS: {data_jobs[data_jobs[\"title\"].str.contains('Online')].shape[0]} OUT OF {data_jobs.shape[0]}.\n",
    "''')"
   ]
  },
  {
   "cell_type": "markdown",
   "metadata": {},
   "source": [
    "## CLEAN THE DATA"
   ]
  },
  {
   "cell_type": "code",
   "execution_count": null,
   "metadata": {},
   "outputs": [],
   "source": [
    "col_dates = ['dateUpdated','startDate','endDate','beginningDate','recruitingStartDate']\n",
    "\n",
    "data_jobs[col_dates] = data_jobs[col_dates].astype('datetime64[ns]')\n",
    "\n",
    "columns_to_drop = [\n",
    "    'jobID', # not needed for EDA\n",
    "    # 'description', # not needed for EDA\n",
    "    # 'summary', # not needed for EDA\n",
    "    'displayJob', # single boolean\n",
    "    'dateUpdated','startDate','endDate', # not needed for display\n",
    "    'approximateHoursPerWeek', # not consistent\n",
    "    'positionsAllocated', # not relevant\n",
    "    'positionsAvailble', # not relevant\n",
    "    # 'workSchedule', # not needed for EDA\n",
    "    'requireResume', # not relevant\n",
    "    'limitApplicants', # not relevant\n",
    "    'limitNumber', # not relevant\n",
    "    'applicants', # empty\n",
    "    'jobQuestions', # empty\n",
    "    'isOnline', # not accurate\n",
    "    'allowOnline', # not accurate\n",
    "    'jobMajors' # not relevant\n",
    "    ]\n",
    "\n",
    "data_jobs.drop(columns_to_drop, axis=1, inplace=True)\n",
    "\n",
    "data_jobs['description'] = data_jobs['description'].apply(lambda x: [p.text.strip() for p in BeautifulSoup(x).find_all('p') if p.text.strip() != ''])"
   ]
  },
  {
   "cell_type": "markdown",
   "metadata": {},
   "source": [
    "## OPTIONAL: Save as a CSV"
   ]
  },
  {
   "cell_type": "code",
   "execution_count": null,
   "metadata": {},
   "outputs": [],
   "source": [
    "# data_jobs.to_csv('StudentEmployment.csv')"
   ]
  },
  {
   "cell_type": "markdown",
   "metadata": {},
   "source": [
    "## FILTER OUT THE JOBS THAT HAVE 'Online','Custodian', and 'TA' IN THEIR TITLE"
   ]
  },
  {
   "cell_type": "code",
   "execution_count": null,
   "metadata": {},
   "outputs": [],
   "source": [
    "# JOBS FILTERED. NOT ONLINE, NOR CUSTODIAN, AND NOR TA.\n",
    "\n",
    "remove = ['Online','Custodian','TA']\n",
    "\n",
    "data_filtered = data_jobs[~data_jobs[\"title\"].str.contains('|'.join(remove))].sort_values('payRate',ascending=False).reset_index().drop('index',axis=1)\n",
    "\n",
    "print(f'{data_filtered.shape[0]} JOBS OUT OF {data_jobs.shape[0]} POSTED JOBS.')\n",
    "\n",
    "pd.set_option('display.max_rows', None)\n",
    "\n",
    "data_filtered"
   ]
  },
  {
   "cell_type": "markdown",
   "metadata": {},
   "source": [
    "## OPTIONAL: Save as a CSV"
   ]
  },
  {
   "cell_type": "code",
   "execution_count": null,
   "metadata": {},
   "outputs": [],
   "source": [
    "# data_filtered.to_csv('StudentEmployment_filtered.csv')"
   ]
  }
 ],
 "metadata": {
  "kernelspec": {
   "display_name": "Python 3.9.0 64-bit",
   "language": "python",
   "name": "python3"
  },
  "language_info": {
   "codemirror_mode": {
    "name": "ipython",
    "version": 3
   },
   "file_extension": ".py",
   "mimetype": "text/x-python",
   "name": "python",
   "nbconvert_exporter": "python",
   "pygments_lexer": "ipython3",
   "version": "3.9.0"
  },
  "orig_nbformat": 4,
  "vscode": {
   "interpreter": {
    "hash": "aee8b7b246df8f9039afb4144a1f6fd8d2ca17a180786b69acc140d282b71a49"
   }
  }
 },
 "nbformat": 4,
 "nbformat_minor": 2
}
