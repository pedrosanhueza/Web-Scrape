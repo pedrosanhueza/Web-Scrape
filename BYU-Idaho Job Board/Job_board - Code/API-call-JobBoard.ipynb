{
 "cells": [
  {
   "cell_type": "markdown",
   "metadata": {},
   "source": [
    "# EXPORTS JOBS POSTED FROM [web.byui.edu/StudentEmployment/’](web.byui.edu/StudentEmployment/) INTO A CSV FILE"
   ]
  },
  {
   "cell_type": "code",
   "execution_count": null,
   "metadata": {},
   "outputs": [],
   "source": [
    "import http.client\n",
    "import json\n",
    "import pandas as pd\n",
    "from bs4 import BeautifulSoup"
   ]
  },
  {
   "cell_type": "markdown",
   "metadata": {},
   "source": [
    "## REQUEST DATA FROM API ENDPOINT"
   ]
  },
  {
   "cell_type": "code",
   "execution_count": null,
   "metadata": {},
   "outputs": [],
   "source": [
    "conn = http.client.HTTPSConnection(\"web.byui.edu\")\n",
    " \n",
    "conn.request(\"GET\", \"/studentemployment/api/jobs\")\n",
    "\n",
    "res = conn.getresponse()\n",
    "\n",
    "data = res.read()\n",
    "\n",
    "info = data.decode(\"utf-8\")\n",
    "\n",
    "responseObject = json.loads(info)\n",
    "\n",
    "data_jobs = pd.DataFrame(responseObject)"
   ]
  },
  {
   "cell_type": "code",
   "execution_count": null,
   "metadata": {},
   "outputs": [],
   "source": [
    "data_jobs['URL'] = data_jobs.jobID.apply(lambda x: f'https://web.byui.edu/StudentEmployment/job/{x}')"
   ]
  },
  {
   "cell_type": "code",
   "execution_count": null,
   "metadata": {},
   "outputs": [],
   "source": [
    "data_jobs['URL'].iloc[300]"
   ]
  },
  {
   "cell_type": "code",
   "execution_count": null,
   "metadata": {},
   "outputs": [],
   "source": [
    "data_jobs"
   ]
  },
  {
   "cell_type": "code",
   "execution_count": null,
   "metadata": {},
   "outputs": [],
   "source": [
    "type(data)"
   ]
  },
  {
   "cell_type": "markdown",
   "metadata": {},
   "source": [
    "## DISPLAY DATA RECEIVED"
   ]
  },
  {
   "cell_type": "code",
   "execution_count": null,
   "metadata": {},
   "outputs": [],
   "source": [
    "pd.options.display.max_columns = None\n",
    "\n",
    "data_jobs"
   ]
  },
  {
   "cell_type": "markdown",
   "metadata": {},
   "source": [
    "## SIMPLE OVERVIEW"
   ]
  },
  {
   "cell_type": "code",
   "execution_count": null,
   "metadata": {},
   "outputs": [],
   "source": [
    "print(f'''\n",
    "    THERE ARE {data_jobs.jobID.nunique()} JOBS.\n",
    "    HIGHEST PAY JOB:\\'{data_jobs[data_jobs.payRate==data_jobs.payRate.max()]['title'].iloc[0]}\\' WITH {data_jobs.payRate.max()} DOLLARS AN HOUR.\n",
    "    ONLINE JOBS: {data_jobs[data_jobs[\"title\"].str.contains('Online')].shape[0]} OUT OF {data_jobs.shape[0]}.\n",
    "''')"
   ]
  },
  {
   "cell_type": "markdown",
   "metadata": {},
   "source": [
    "## CLEAN THE DATA"
   ]
  },
  {
   "cell_type": "code",
   "execution_count": null,
   "metadata": {},
   "outputs": [],
   "source": [
    "col_dates = ['dateUpdated','startDate','endDate','beginningDate','recruitingStartDate']\n",
    "\n",
    "data_jobs[col_dates] = data_jobs[col_dates].astype('datetime64[ns]')\n",
    "\n",
    "columns_to_drop = [\n",
    "    'jobID', # not needed for EDA\n",
    "    # 'description', # not needed for EDA\n",
    "    # 'summary', # not needed for EDA\n",
    "    'displayJob', # single boolean\n",
    "    'dateUpdated','startDate','endDate', # not needed for display\n",
    "    'approximateHoursPerWeek', # not consistent\n",
    "    'positionsAllocated', # not relevant\n",
    "    'positionsAvailble', # not relevant\n",
    "    # 'workSchedule', # not needed for EDA\n",
    "    'requireResume', # not relevant\n",
    "    'limitApplicants', # not relevant\n",
    "    'limitNumber', # not relevant\n",
    "    'applicants', # empty\n",
    "    'jobQuestions', # empty\n",
    "    'isOnline', # not accurate\n",
    "    'allowOnline', # not accurate\n",
    "    'jobMajors' # not relevant\n",
    "    ]\n",
    "\n",
    "data_jobs.drop(columns_to_drop, axis=1, inplace=True)\n",
    "\n",
    "data_jobs['description'] = data_jobs['description'].apply(lambda x: [p.text.strip() for p in BeautifulSoup(x).find_all('p') if p.text.strip() != ''])"
   ]
  },
  {
   "cell_type": "markdown",
   "metadata": {},
   "source": [
    "## OPTIONAL: Save as a CSV"
   ]
  },
  {
   "cell_type": "code",
   "execution_count": null,
   "metadata": {},
   "outputs": [],
   "source": [
    "# data_jobs.to_csv('StudentEmployment.csv')"
   ]
  },
  {
   "cell_type": "markdown",
   "metadata": {},
   "source": [
    "## FILTER OUT THE JOBS THAT HAVE 'Online','Custodian', and 'TA' IN THEIR TITLE"
   ]
  },
  {
   "cell_type": "code",
   "execution_count": null,
   "metadata": {},
   "outputs": [],
   "source": [
    "# JOBS FILTERED. NOT ONLINE, NOR CUSTODIAN, AND NOR TA.\n",
    "\n",
    "remove = ['Online','Custodian','TA']\n",
    "\n",
    "data_filtered = data_jobs[~data_jobs[\"title\"].str.contains('|'.join(remove))].sort_values('payRate',ascending=False).reset_index().drop('index',axis=1)\n",
    "\n",
    "print(f'{data_filtered.shape[0]} JOBS OUT OF {data_jobs.shape[0]} POSTED JOBS.')\n",
    "\n",
    "pd.set_option('display.max_rows', None)\n",
    "\n",
    "data_filtered"
   ]
  },
  {
   "cell_type": "markdown",
   "metadata": {},
   "source": [
    "## OPTIONAL: Save as a CSV"
   ]
  },
  {
   "cell_type": "code",
   "execution_count": null,
   "metadata": {},
   "outputs": [],
   "source": [
    "# data_filtered.to_csv('StudentEmployment_filtered.csv')"
   ]
  },
  {
   "cell_type": "code",
   "execution_count": null,
   "metadata": {},
   "outputs": [],
   "source": []
  },
  {
   "cell_type": "code",
   "execution_count": null,
   "metadata": {},
   "outputs": [],
   "source": [
    "data_jobs.payRate.value_counts().reset_index().sort_values('index')"
   ]
  },
  {
   "cell_type": "code",
   "execution_count": null,
   "metadata": {},
   "outputs": [],
   "source": [
    "data_jobs.groupby('payRate').count()"
   ]
  },
  {
   "cell_type": "code",
   "execution_count": null,
   "metadata": {},
   "outputs": [],
   "source": [
    "data_jobs.departmentName.value_counts()"
   ]
  },
  {
   "cell_type": "code",
   "execution_count": null,
   "metadata": {},
   "outputs": [],
   "source": [
    "data_jobs[data_jobs.title == 'AGBUS147 OnlineTA'].iloc[0]"
   ]
  },
  {
   "cell_type": "code",
   "execution_count": 7,
   "metadata": {},
   "outputs": [
    {
     "data": {
      "text/html": [
       "<div>\n",
       "<style scoped>\n",
       "    .dataframe tbody tr th:only-of-type {\n",
       "        vertical-align: middle;\n",
       "    }\n",
       "\n",
       "    .dataframe tbody tr th {\n",
       "        vertical-align: top;\n",
       "    }\n",
       "\n",
       "    .dataframe thead th {\n",
       "        text-align: right;\n",
       "    }\n",
       "</style>\n",
       "<table border=\"1\" class=\"dataframe\">\n",
       "  <thead>\n",
       "    <tr style=\"text-align: right;\">\n",
       "      <th></th>\n",
       "      <th>jobID</th>\n",
       "      <th>title</th>\n",
       "      <th>departmentName</th>\n",
       "      <th>description</th>\n",
       "      <th>summary</th>\n",
       "      <th>displayJob</th>\n",
       "      <th>dateUpdated</th>\n",
       "      <th>startDate</th>\n",
       "      <th>endDate</th>\n",
       "      <th>managerName</th>\n",
       "      <th>approximateHoursPerWeek</th>\n",
       "      <th>payRate</th>\n",
       "      <th>positionsAllocated</th>\n",
       "      <th>positionsAvailble</th>\n",
       "      <th>workSchedule</th>\n",
       "      <th>beginningDate</th>\n",
       "      <th>recruitingStartDate</th>\n",
       "      <th>requireResume</th>\n",
       "      <th>limitApplicants</th>\n",
       "      <th>limitNumber</th>\n",
       "      <th>applicants</th>\n",
       "      <th>jobQuestions</th>\n",
       "      <th>isOnline</th>\n",
       "      <th>allowOnline</th>\n",
       "      <th>jobMajors</th>\n",
       "      <th>URL</th>\n",
       "    </tr>\n",
       "  </thead>\n",
       "  <tbody>\n",
       "    <tr>\n",
       "      <th>7</th>\n",
       "      <td>342319</td>\n",
       "      <td>PUBH370 OnlineTutor</td>\n",
       "      <td>Online Student</td>\n",
       "      <td>&lt;p&gt;&lt;span&gt;Online Tutor is needed for the  PUBH ...</td>\n",
       "      <td>An Online Tutor is needed for the PUBH  370 (H...</td>\n",
       "      <td>True</td>\n",
       "      <td>2022-09-06T21:26:02.6637842</td>\n",
       "      <td>2022-09-06T11:00:00</td>\n",
       "      <td>2022-09-13T08:00:00</td>\n",
       "      <td>Casey McDaniel</td>\n",
       "      <td>5-10 hours (must post 7 hours of appt openings...</td>\n",
       "      <td>10.0</td>\n",
       "      <td>100.0</td>\n",
       "      <td>99.0</td>\n",
       "      <td>Hours worked may vary according to student demand</td>\n",
       "      <td>2022-09-14T07:00:00</td>\n",
       "      <td>2019-05-09T01:00:00</td>\n",
       "      <td>True</td>\n",
       "      <td>True</td>\n",
       "      <td>50</td>\n",
       "      <td>[]</td>\n",
       "      <td>[]</td>\n",
       "      <td>False</td>\n",
       "      <td>True</td>\n",
       "      <td>[]</td>\n",
       "      <td>https://web.byui.edu/StudentEmployment/job/342319</td>\n",
       "    </tr>\n",
       "  </tbody>\n",
       "</table>\n",
       "</div>"
      ],
      "text/plain": [
       "    jobID                title  departmentName  \\\n",
       "7  342319  PUBH370 OnlineTutor  Online Student   \n",
       "\n",
       "                                         description  \\\n",
       "7  <p><span>Online Tutor is needed for the  PUBH ...   \n",
       "\n",
       "                                             summary  displayJob  \\\n",
       "7  An Online Tutor is needed for the PUBH  370 (H...        True   \n",
       "\n",
       "                   dateUpdated            startDate              endDate  \\\n",
       "7  2022-09-06T21:26:02.6637842  2022-09-06T11:00:00  2022-09-13T08:00:00   \n",
       "\n",
       "      managerName                            approximateHoursPerWeek  payRate  \\\n",
       "7  Casey McDaniel  5-10 hours (must post 7 hours of appt openings...     10.0   \n",
       "\n",
       "   positionsAllocated  positionsAvailble  \\\n",
       "7               100.0               99.0   \n",
       "\n",
       "                                        workSchedule        beginningDate  \\\n",
       "7  Hours worked may vary according to student demand  2022-09-14T07:00:00   \n",
       "\n",
       "   recruitingStartDate  requireResume  limitApplicants  limitNumber  \\\n",
       "7  2019-05-09T01:00:00           True             True           50   \n",
       "\n",
       "  applicants jobQuestions  isOnline  allowOnline jobMajors  \\\n",
       "7         []           []     False         True        []   \n",
       "\n",
       "                                                 URL  \n",
       "7  https://web.byui.edu/StudentEmployment/job/342319  "
      ]
     },
     "execution_count": 7,
     "metadata": {},
     "output_type": "execute_result"
    }
   ],
   "source": [
    "pd.options.display.max_columns = None\n",
    "data_jobs[data_jobs.jobID == 342319]"
   ]
  },
  {
   "cell_type": "code",
   "execution_count": null,
   "metadata": {},
   "outputs": [],
   "source": []
  },
  {
   "cell_type": "code",
   "execution_count": null,
   "metadata": {},
   "outputs": [],
   "source": []
  }
 ],
 "metadata": {
  "kernelspec": {
   "display_name": "Python 3.9.0 64-bit",
   "language": "python",
   "name": "python3"
  },
  "language_info": {
   "codemirror_mode": {
    "name": "ipython",
    "version": 3
   },
   "file_extension": ".py",
   "mimetype": "text/x-python",
   "name": "python",
   "nbconvert_exporter": "python",
   "pygments_lexer": "ipython3",
   "version": "3.9.0"
  },
  "orig_nbformat": 4,
  "vscode": {
   "interpreter": {
    "hash": "aee8b7b246df8f9039afb4144a1f6fd8d2ca17a180786b69acc140d282b71a49"
   }
  }
 },
 "nbformat": 4,
 "nbformat_minor": 2
}
