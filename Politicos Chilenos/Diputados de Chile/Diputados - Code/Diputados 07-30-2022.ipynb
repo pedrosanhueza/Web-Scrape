{
 "cells": [
  {
   "cell_type": "code",
   "execution_count": 1,
   "metadata": {},
   "outputs": [],
   "source": [
    "import requests\n",
    "from bs4 import BeautifulSoup\n",
    "import pandas as pd \n",
    "from datetime import datetime"
   ]
  },
  {
   "cell_type": "code",
   "execution_count": 2,
   "metadata": {},
   "outputs": [],
   "source": [
    "url = 'https://www.camara.cl/diputados/diputados.aspx#mostrarDiputados'\n",
    "response = requests.get(url)\n",
    "soup = BeautifulSoup(response.text, 'html.parser')"
   ]
  },
  {
   "cell_type": "code",
   "execution_count": 3,
   "metadata": {},
   "outputs": [],
   "source": [
    "# lista de url perfiles\n",
    "profiles_uls = [x.find('a')['href'] for x in soup.find_all('article',{'class':'grid-2'})]\n"
   ]
  },
  {
   "cell_type": "code",
   "execution_count": 4,
   "metadata": {},
   "outputs": [
    {
     "data": {
      "text/plain": [
       "'diputados'"
      ]
     },
     "execution_count": 4,
     "metadata": {},
     "output_type": "execute_result"
    }
   ],
   "source": [
    "url.split('/')[3]"
   ]
  },
  {
   "cell_type": "code",
   "execution_count": 6,
   "metadata": {},
   "outputs": [],
   "source": [
    "# running time: 2 min 40s\n",
    "\n",
    "rows=[]\n",
    "\n",
    "for profile in profiles_uls:\n",
    "\n",
    "    url = 'https://www.camara.cl/diputados/' + profile\n",
    "    response = requests.get(url)\n",
    "    soup = BeautifulSoup(response.text, 'html.parser')\n",
    "\n",
    "    row={}\n",
    "    row['Nombre'] = soup.find('h2').text[9:]\n",
    "    row['Periodos parlamentarios'] = str([x.text for x in soup.find_all('div',{'class':'grid-2 aleft m-left14'})[2].find_all('li')[1:]]).replace('\\'','')[1:-1]\n",
    "    row['Comunas'] =        soup.find_all('p')[2].text.split('\\n')[1].split(':')[1].strip()\n",
    "    row['Distrito'] =       soup.find_all('p')[2].text.split('\\n')[2].split(':')[1].strip().replace('Nº ','')\n",
    "    row['Región'] =         soup.find_all('p')[2].text.split('\\n')[3].split(':')[1].strip()\n",
    "    # row['Período Actual'] = soup.find_all('p')[2].text.split('\\n')[4].split(':')[1].strip()\n",
    "    row['Partido'] =        soup.find_all('p')[2].text.split('\\n')[5].split(':')[1].strip()\n",
    "    row['Bancada'] =        soup.find_all('p')[2].text.split('\\n')[6].split(':')[1].strip()\n",
    "    row['Email'] =          soup.find('i',{'class':'fa fa-envelope-o'}).parent.text.split('\\n')[-1].split()[0]\n",
    "    rows.append(row)\n"
   ]
  },
  {
   "cell_type": "code",
   "execution_count": 7,
   "metadata": {},
   "outputs": [],
   "source": [
    "data = pd.DataFrame(rows)"
   ]
  },
  {
   "cell_type": "code",
   "execution_count": 10,
   "metadata": {},
   "outputs": [
    {
     "data": {
      "text/html": [
       "<div>\n",
       "<style scoped>\n",
       "    .dataframe tbody tr th:only-of-type {\n",
       "        vertical-align: middle;\n",
       "    }\n",
       "\n",
       "    .dataframe tbody tr th {\n",
       "        vertical-align: top;\n",
       "    }\n",
       "\n",
       "    .dataframe thead th {\n",
       "        text-align: right;\n",
       "    }\n",
       "</style>\n",
       "<table border=\"1\" class=\"dataframe\">\n",
       "  <thead>\n",
       "    <tr style=\"text-align: right;\">\n",
       "      <th></th>\n",
       "      <th>Nombre</th>\n",
       "      <th>Periodos parlamentarios</th>\n",
       "      <th>Comunas</th>\n",
       "      <th>Distrito</th>\n",
       "      <th>Región</th>\n",
       "      <th>Período Actual</th>\n",
       "      <th>Partido</th>\n",
       "      <th>Bancada</th>\n",
       "      <th>Email</th>\n",
       "    </tr>\n",
       "  </thead>\n",
       "  <tbody>\n",
       "    <tr>\n",
       "      <th>0</th>\n",
       "      <td>María Candelaria Acevedo Sáez</td>\n",
       "      <td>2022-2026</td>\n",
       "      <td>Hualpén, Tomé, Penco, Concepción, Hualqui, Chi...</td>\n",
       "      <td>20</td>\n",
       "      <td>Región del Bío Bío</td>\n",
       "      <td>2022-2026</td>\n",
       "      <td>Partido Comunista</td>\n",
       "      <td>Comité Comunista, Federación Regionalista Verd...</td>\n",
       "      <td>[email</td>\n",
       "    </tr>\n",
       "    <tr>\n",
       "      <th>1</th>\n",
       "      <td>Eric Aedo Jeldres</td>\n",
       "      <td>2022-2026</td>\n",
       "      <td>Hualpén, Tomé, Penco, Concepción, Hualqui, Chi...</td>\n",
       "      <td>20</td>\n",
       "      <td>Región del Bío Bío</td>\n",
       "      <td>2022-2026</td>\n",
       "      <td>Partido Demócrata Cristiano</td>\n",
       "      <td>Demócrata Cristiano</td>\n",
       "      <td>[email</td>\n",
       "    </tr>\n",
       "    <tr>\n",
       "      <th>2</th>\n",
       "      <td>Yovana Ahumada Palma</td>\n",
       "      <td>2022-2026</td>\n",
       "      <td>Sierra Gorda, San Pedro de Atacama, Antofagast...</td>\n",
       "      <td>3</td>\n",
       "      <td>Región de Antofagasta</td>\n",
       "      <td>2022-2026</td>\n",
       "      <td>Partido de la Gente</td>\n",
       "      <td>Comité Partido de la Gente</td>\n",
       "      <td>[email</td>\n",
       "    </tr>\n",
       "    <tr>\n",
       "      <th>3</th>\n",
       "      <td>Jorge Alessandri Vergara</td>\n",
       "      <td>2018-2022, 2022-2026</td>\n",
       "      <td>Santiago, Providencia, San Joaquín, La Granja,...</td>\n",
       "      <td>10</td>\n",
       "      <td>Región Metropolitana de Santiago</td>\n",
       "      <td>2022-2026</td>\n",
       "      <td>Unión Demócrata Independiente</td>\n",
       "      <td>Unión Demócrata Independiente</td>\n",
       "      <td>[email</td>\n",
       "    </tr>\n",
       "    <tr>\n",
       "      <th>4</th>\n",
       "      <td>René Alinco Bustos</td>\n",
       "      <td>2006-2010, 2010-2014, 2018-2022, 2022-2026</td>\n",
       "      <td>Coyhaique, Aysén, Chile Chico, O'Higgins, Coch...</td>\n",
       "      <td>27</td>\n",
       "      <td>Región de Aysén del General Carlos Ibáñez del ...</td>\n",
       "      <td>2022-2026</td>\n",
       "      <td>Independientes</td>\n",
       "      <td></td>\n",
       "      <td>[email</td>\n",
       "    </tr>\n",
       "    <tr>\n",
       "      <th>...</th>\n",
       "      <td>...</td>\n",
       "      <td>...</td>\n",
       "      <td>...</td>\n",
       "      <td>...</td>\n",
       "      <td>...</td>\n",
       "      <td>...</td>\n",
       "      <td>...</td>\n",
       "      <td>...</td>\n",
       "      <td>...</td>\n",
       "    </tr>\n",
       "    <tr>\n",
       "      <th>150</th>\n",
       "      <td>Sebastián Videla Castillo</td>\n",
       "      <td>2022-2026</td>\n",
       "      <td>Sierra Gorda, San Pedro de Atacama, Antofagast...</td>\n",
       "      <td>3</td>\n",
       "      <td>Región de Antofagasta</td>\n",
       "      <td>2022-2026</td>\n",
       "      <td>Independientes</td>\n",
       "      <td>Comité Radical - Liberal</td>\n",
       "      <td>[email</td>\n",
       "    </tr>\n",
       "    <tr>\n",
       "      <th>151</th>\n",
       "      <td>Gastón Von Mühlenbrock Zamora</td>\n",
       "      <td>2002-2006, 2006-2010, 2010-2014, 2018-2022, 20...</td>\n",
       "      <td>Panguipulli, Los Lagos, Lanco, Futrono, La Uni...</td>\n",
       "      <td>24</td>\n",
       "      <td>Región de Los Ríos</td>\n",
       "      <td>2022-2026</td>\n",
       "      <td>Unión Demócrata Independiente</td>\n",
       "      <td>Unión Demócrata Independiente</td>\n",
       "      <td>[email</td>\n",
       "    </tr>\n",
       "    <tr>\n",
       "      <th>152</th>\n",
       "      <td>Flor Weisse Novoa</td>\n",
       "      <td>2022-2026</td>\n",
       "      <td>Los Ángeles, Alto Biobío, Mulchén, Los Álamos,...</td>\n",
       "      <td>21</td>\n",
       "      <td>Región del Bío Bío</td>\n",
       "      <td>2022-2026</td>\n",
       "      <td>Unión Demócrata Independiente</td>\n",
       "      <td>Unión Demócrata Independiente</td>\n",
       "      <td>[email</td>\n",
       "    </tr>\n",
       "    <tr>\n",
       "      <th>153</th>\n",
       "      <td>Gonzalo Winter Etcheberry</td>\n",
       "      <td>2018-2022, 2022-2026</td>\n",
       "      <td>Santiago, Providencia, San Joaquín, La Granja,...</td>\n",
       "      <td>10</td>\n",
       "      <td>Región Metropolitana de Santiago</td>\n",
       "      <td>2022-2026</td>\n",
       "      <td>Partido Convergencia Social</td>\n",
       "      <td>Comité Frente Amplio RD, Comunes y Convergenci...</td>\n",
       "      <td>[email</td>\n",
       "    </tr>\n",
       "    <tr>\n",
       "      <th>154</th>\n",
       "      <td>Gael Yeomans Araya</td>\n",
       "      <td>2018-2022, 2022-2026</td>\n",
       "      <td>Pedro Aguirre Cerda, La Cisterna, San Ramón, L...</td>\n",
       "      <td>13</td>\n",
       "      <td>Región Metropolitana de Santiago</td>\n",
       "      <td>2022-2026</td>\n",
       "      <td>Partido Convergencia Social</td>\n",
       "      <td>Comité Frente Amplio RD, Comunes y Convergenci...</td>\n",
       "      <td>[email</td>\n",
       "    </tr>\n",
       "  </tbody>\n",
       "</table>\n",
       "<p>155 rows × 9 columns</p>\n",
       "</div>"
      ],
      "text/plain": [
       "                            Nombre  \\\n",
       "0    María Candelaria Acevedo Sáez   \n",
       "1                Eric Aedo Jeldres   \n",
       "2             Yovana Ahumada Palma   \n",
       "3         Jorge Alessandri Vergara   \n",
       "4               René Alinco Bustos   \n",
       "..                             ...   \n",
       "150      Sebastián Videla Castillo   \n",
       "151  Gastón Von Mühlenbrock Zamora   \n",
       "152              Flor Weisse Novoa   \n",
       "153      Gonzalo Winter Etcheberry   \n",
       "154             Gael Yeomans Araya   \n",
       "\n",
       "                               Periodos parlamentarios  \\\n",
       "0                                            2022-2026   \n",
       "1                                            2022-2026   \n",
       "2                                            2022-2026   \n",
       "3                                 2018-2022, 2022-2026   \n",
       "4           2006-2010, 2010-2014, 2018-2022, 2022-2026   \n",
       "..                                                 ...   \n",
       "150                                          2022-2026   \n",
       "151  2002-2006, 2006-2010, 2010-2014, 2018-2022, 20...   \n",
       "152                                          2022-2026   \n",
       "153                               2018-2022, 2022-2026   \n",
       "154                               2018-2022, 2022-2026   \n",
       "\n",
       "                                               Comunas Distrito  \\\n",
       "0    Hualpén, Tomé, Penco, Concepción, Hualqui, Chi...       20   \n",
       "1    Hualpén, Tomé, Penco, Concepción, Hualqui, Chi...       20   \n",
       "2    Sierra Gorda, San Pedro de Atacama, Antofagast...        3   \n",
       "3    Santiago, Providencia, San Joaquín, La Granja,...       10   \n",
       "4    Coyhaique, Aysén, Chile Chico, O'Higgins, Coch...       27   \n",
       "..                                                 ...      ...   \n",
       "150  Sierra Gorda, San Pedro de Atacama, Antofagast...        3   \n",
       "151  Panguipulli, Los Lagos, Lanco, Futrono, La Uni...       24   \n",
       "152  Los Ángeles, Alto Biobío, Mulchén, Los Álamos,...       21   \n",
       "153  Santiago, Providencia, San Joaquín, La Granja,...       10   \n",
       "154  Pedro Aguirre Cerda, La Cisterna, San Ramón, L...       13   \n",
       "\n",
       "                                                Región Período Actual  \\\n",
       "0                                   Región del Bío Bío      2022-2026   \n",
       "1                                   Región del Bío Bío      2022-2026   \n",
       "2                                Región de Antofagasta      2022-2026   \n",
       "3                     Región Metropolitana de Santiago      2022-2026   \n",
       "4    Región de Aysén del General Carlos Ibáñez del ...      2022-2026   \n",
       "..                                                 ...            ...   \n",
       "150                              Región de Antofagasta      2022-2026   \n",
       "151                                 Región de Los Ríos      2022-2026   \n",
       "152                                 Región del Bío Bío      2022-2026   \n",
       "153                   Región Metropolitana de Santiago      2022-2026   \n",
       "154                   Región Metropolitana de Santiago      2022-2026   \n",
       "\n",
       "                           Partido  \\\n",
       "0                Partido Comunista   \n",
       "1      Partido Demócrata Cristiano   \n",
       "2              Partido de la Gente   \n",
       "3    Unión Demócrata Independiente   \n",
       "4                   Independientes   \n",
       "..                             ...   \n",
       "150                 Independientes   \n",
       "151  Unión Demócrata Independiente   \n",
       "152  Unión Demócrata Independiente   \n",
       "153    Partido Convergencia Social   \n",
       "154    Partido Convergencia Social   \n",
       "\n",
       "                                               Bancada   Email  \n",
       "0    Comité Comunista, Federación Regionalista Verd...  [email  \n",
       "1                                  Demócrata Cristiano  [email  \n",
       "2                           Comité Partido de la Gente  [email  \n",
       "3                        Unión Demócrata Independiente  [email  \n",
       "4                                                       [email  \n",
       "..                                                 ...     ...  \n",
       "150                           Comité Radical - Liberal  [email  \n",
       "151                      Unión Demócrata Independiente  [email  \n",
       "152                      Unión Demócrata Independiente  [email  \n",
       "153  Comité Frente Amplio RD, Comunes y Convergenci...  [email  \n",
       "154  Comité Frente Amplio RD, Comunes y Convergenci...  [email  \n",
       "\n",
       "[155 rows x 9 columns]"
      ]
     },
     "execution_count": 10,
     "metadata": {},
     "output_type": "execute_result"
    }
   ],
   "source": [
    "data"
   ]
  },
  {
   "cell_type": "code",
   "execution_count": null,
   "metadata": {},
   "outputs": [],
   "source": [
    "\n",
    "date = datetime.now().strftime(\"%d-%m-%Y %H%M%S\") # get local time as string\n",
    "\n",
    "filePath = f\"../Diputados - Historical Data/Diputados {date} - Webscrape.csv\"\n",
    "\n",
    "data.to_csv(filePath, index=False) # save to file path\n",
    "\n",
    "pd.set_option('display.max_rows', 100)"
   ]
  },
  {
   "cell_type": "markdown",
   "metadata": {},
   "source": [
    "# Data Analysis"
   ]
  },
  {
   "cell_type": "code",
   "execution_count": 11,
   "metadata": {},
   "outputs": [],
   "source": [
    "# Libraries\n",
    "import pandas as pd \n",
    "import plotly.express as px"
   ]
  },
  {
   "cell_type": "code",
   "execution_count": 78,
   "metadata": {},
   "outputs": [
    {
     "data": {
      "text/html": [
       "<div>\n",
       "<style scoped>\n",
       "    .dataframe tbody tr th:only-of-type {\n",
       "        vertical-align: middle;\n",
       "    }\n",
       "\n",
       "    .dataframe tbody tr th {\n",
       "        vertical-align: top;\n",
       "    }\n",
       "\n",
       "    .dataframe thead th {\n",
       "        text-align: right;\n",
       "    }\n",
       "</style>\n",
       "<table border=\"1\" class=\"dataframe\">\n",
       "  <thead>\n",
       "    <tr style=\"text-align: right;\">\n",
       "      <th></th>\n",
       "      <th>Nombre</th>\n",
       "      <th>Periodos parlamentarios</th>\n",
       "      <th>Comunas</th>\n",
       "      <th>Distrito</th>\n",
       "      <th>Región</th>\n",
       "      <th>Período Actual</th>\n",
       "      <th>Partido</th>\n",
       "      <th>Bancada</th>\n",
       "      <th>Email</th>\n",
       "    </tr>\n",
       "  </thead>\n",
       "  <tbody>\n",
       "    <tr>\n",
       "      <th>0</th>\n",
       "      <td>Raúl Soto Mardones</td>\n",
       "      <td>2018-2022, 2022-2026</td>\n",
       "      <td>Mostazal, Graneros, Requínoa, Rancagua, Quinta...</td>\n",
       "      <td>15</td>\n",
       "      <td>Región del Libertador General Bernardo O' Higgins</td>\n",
       "      <td>2022-2026</td>\n",
       "      <td>NaN</td>\n",
       "      <td>Partido Por la Democracia</td>\n",
       "      <td>raul.soto@congreso.cl</td>\n",
       "    </tr>\n",
       "    <tr>\n",
       "      <th>1</th>\n",
       "      <td>Alexis Sepúlveda Soto</td>\n",
       "      <td>2018-2022, 2022-2026</td>\n",
       "      <td>Sagrada Familia, Hualañé, Curepto, Teno, Talca...</td>\n",
       "      <td>17</td>\n",
       "      <td>Región del Maule</td>\n",
       "      <td>2022-2026</td>\n",
       "      <td>NaN</td>\n",
       "      <td>Comité Radical - Liberal</td>\n",
       "      <td>alexis.sepulveda@congreso.cl</td>\n",
       "    </tr>\n",
       "    <tr>\n",
       "      <th>2</th>\n",
       "      <td>Claudia Mix Jiménez</td>\n",
       "      <td>2018-2022, 2022-2026</td>\n",
       "      <td>Quilicura, Pudahuel, Estación Central, Colina,...</td>\n",
       "      <td>8</td>\n",
       "      <td>Región Metropolitana de Santiago</td>\n",
       "      <td>2022-2026</td>\n",
       "      <td>NaN</td>\n",
       "      <td>Comité Frente Amplio RD, Comunes y Convergenci...</td>\n",
       "      <td>claudia.mix@congreso.cl</td>\n",
       "    </tr>\n",
       "    <tr>\n",
       "      <th>3</th>\n",
       "      <td>María Candelaria Acevedo Sáez</td>\n",
       "      <td>2022-2026</td>\n",
       "      <td>Hualpén, Tomé, Penco, Concepción, Hualqui, Chi...</td>\n",
       "      <td>20</td>\n",
       "      <td>Región del Bío Bío</td>\n",
       "      <td>2022-2026</td>\n",
       "      <td>NaN</td>\n",
       "      <td>Comité Comunista, Federación Regionalista Verd...</td>\n",
       "      <td>maria.acevedo@congreso.cl</td>\n",
       "    </tr>\n",
       "    <tr>\n",
       "      <th>4</th>\n",
       "      <td>Eric Aedo Jeldres</td>\n",
       "      <td>2022-2026</td>\n",
       "      <td>Hualpén, Tomé, Penco, Concepción, Hualqui, Chi...</td>\n",
       "      <td>20</td>\n",
       "      <td>Región del Bío Bío</td>\n",
       "      <td>2022-2026</td>\n",
       "      <td>NaN</td>\n",
       "      <td>Demócrata Cristiano</td>\n",
       "      <td>eric.aedo@congreso.cl</td>\n",
       "    </tr>\n",
       "    <tr>\n",
       "      <th>...</th>\n",
       "      <td>...</td>\n",
       "      <td>...</td>\n",
       "      <td>...</td>\n",
       "      <td>...</td>\n",
       "      <td>...</td>\n",
       "      <td>...</td>\n",
       "      <td>...</td>\n",
       "      <td>...</td>\n",
       "      <td>...</td>\n",
       "    </tr>\n",
       "    <tr>\n",
       "      <th>153</th>\n",
       "      <td>Sebastián Videla Castillo</td>\n",
       "      <td>2022-2026</td>\n",
       "      <td>Sierra Gorda, San Pedro de Atacama, Antofagast...</td>\n",
       "      <td>3</td>\n",
       "      <td>Región de Antofagasta</td>\n",
       "      <td>2022-2026</td>\n",
       "      <td>NaN</td>\n",
       "      <td>Comité Radical - Liberal</td>\n",
       "      <td>sebastian.videla@congreso.cl</td>\n",
       "    </tr>\n",
       "    <tr>\n",
       "      <th>154</th>\n",
       "      <td>Gastón Von Mühlenbrock Zamora</td>\n",
       "      <td>2002-2006, 2006-2010, 2010-2014, 2018-2022, 20...</td>\n",
       "      <td>Panguipulli, Los Lagos, Lanco, Futrono, La Uni...</td>\n",
       "      <td>24</td>\n",
       "      <td>Región de Los Ríos</td>\n",
       "      <td>2022-2026</td>\n",
       "      <td>NaN</td>\n",
       "      <td>Unión Demócrata Independiente</td>\n",
       "      <td>gaston.vonmuhlenbrock@congreso.cl</td>\n",
       "    </tr>\n",
       "    <tr>\n",
       "      <th>155</th>\n",
       "      <td>Flor Weisse Novoa</td>\n",
       "      <td>2022-2026</td>\n",
       "      <td>Los Ángeles, Alto Biobío, Mulchén, Los Álamos,...</td>\n",
       "      <td>21</td>\n",
       "      <td>Región del Bío Bío</td>\n",
       "      <td>2022-2026</td>\n",
       "      <td>NaN</td>\n",
       "      <td>Unión Demócrata Independiente</td>\n",
       "      <td>flor.weisse@congreso.cl</td>\n",
       "    </tr>\n",
       "    <tr>\n",
       "      <th>156</th>\n",
       "      <td>Gonzalo Winter Etcheberry</td>\n",
       "      <td>2018-2022, 2022-2026</td>\n",
       "      <td>Santiago, Providencia, San Joaquín, La Granja,...</td>\n",
       "      <td>10</td>\n",
       "      <td>Región Metropolitana de Santiago</td>\n",
       "      <td>2022-2026</td>\n",
       "      <td>NaN</td>\n",
       "      <td>Comité Frente Amplio RD, Comunes y Convergenci...</td>\n",
       "      <td>gonzalo.winter@congreso.cl</td>\n",
       "    </tr>\n",
       "    <tr>\n",
       "      <th>157</th>\n",
       "      <td>Gael Yeomans Araya</td>\n",
       "      <td>2018-2022, 2022-2026</td>\n",
       "      <td>Pedro Aguirre Cerda, La Cisterna, San Ramón, L...</td>\n",
       "      <td>13</td>\n",
       "      <td>Región Metropolitana de Santiago</td>\n",
       "      <td>2022-2026</td>\n",
       "      <td>NaN</td>\n",
       "      <td>Comité Frente Amplio RD, Comunes y Convergenci...</td>\n",
       "      <td>gael.yeomans@congreso.cl</td>\n",
       "    </tr>\n",
       "  </tbody>\n",
       "</table>\n",
       "<p>158 rows × 9 columns</p>\n",
       "</div>"
      ],
      "text/plain": [
       "                            Nombre  \\\n",
       "0               Raúl Soto Mardones   \n",
       "1            Alexis Sepúlveda Soto   \n",
       "2              Claudia Mix Jiménez   \n",
       "3    María Candelaria Acevedo Sáez   \n",
       "4                Eric Aedo Jeldres   \n",
       "..                             ...   \n",
       "153      Sebastián Videla Castillo   \n",
       "154  Gastón Von Mühlenbrock Zamora   \n",
       "155              Flor Weisse Novoa   \n",
       "156      Gonzalo Winter Etcheberry   \n",
       "157             Gael Yeomans Araya   \n",
       "\n",
       "                               Periodos parlamentarios  \\\n",
       "0                                 2018-2022, 2022-2026   \n",
       "1                                 2018-2022, 2022-2026   \n",
       "2                                 2018-2022, 2022-2026   \n",
       "3                                            2022-2026   \n",
       "4                                            2022-2026   \n",
       "..                                                 ...   \n",
       "153                                          2022-2026   \n",
       "154  2002-2006, 2006-2010, 2010-2014, 2018-2022, 20...   \n",
       "155                                          2022-2026   \n",
       "156                               2018-2022, 2022-2026   \n",
       "157                               2018-2022, 2022-2026   \n",
       "\n",
       "                                               Comunas  Distrito  \\\n",
       "0    Mostazal, Graneros, Requínoa, Rancagua, Quinta...        15   \n",
       "1    Sagrada Familia, Hualañé, Curepto, Teno, Talca...        17   \n",
       "2    Quilicura, Pudahuel, Estación Central, Colina,...         8   \n",
       "3    Hualpén, Tomé, Penco, Concepción, Hualqui, Chi...        20   \n",
       "4    Hualpén, Tomé, Penco, Concepción, Hualqui, Chi...        20   \n",
       "..                                                 ...       ...   \n",
       "153  Sierra Gorda, San Pedro de Atacama, Antofagast...         3   \n",
       "154  Panguipulli, Los Lagos, Lanco, Futrono, La Uni...        24   \n",
       "155  Los Ángeles, Alto Biobío, Mulchén, Los Álamos,...        21   \n",
       "156  Santiago, Providencia, San Joaquín, La Granja,...        10   \n",
       "157  Pedro Aguirre Cerda, La Cisterna, San Ramón, L...        13   \n",
       "\n",
       "                                                Región Período Actual  \\\n",
       "0    Región del Libertador General Bernardo O' Higgins      2022-2026   \n",
       "1                                     Región del Maule      2022-2026   \n",
       "2                     Región Metropolitana de Santiago      2022-2026   \n",
       "3                                   Región del Bío Bío      2022-2026   \n",
       "4                                   Región del Bío Bío      2022-2026   \n",
       "..                                                 ...            ...   \n",
       "153                              Región de Antofagasta      2022-2026   \n",
       "154                                 Región de Los Ríos      2022-2026   \n",
       "155                                 Región del Bío Bío      2022-2026   \n",
       "156                   Región Metropolitana de Santiago      2022-2026   \n",
       "157                   Región Metropolitana de Santiago      2022-2026   \n",
       "\n",
       "     Partido                                            Bancada  \\\n",
       "0        NaN                          Partido Por la Democracia   \n",
       "1        NaN                           Comité Radical - Liberal   \n",
       "2        NaN  Comité Frente Amplio RD, Comunes y Convergenci...   \n",
       "3        NaN  Comité Comunista, Federación Regionalista Verd...   \n",
       "4        NaN                                Demócrata Cristiano   \n",
       "..       ...                                                ...   \n",
       "153      NaN                           Comité Radical - Liberal   \n",
       "154      NaN                      Unión Demócrata Independiente   \n",
       "155      NaN                      Unión Demócrata Independiente   \n",
       "156      NaN  Comité Frente Amplio RD, Comunes y Convergenci...   \n",
       "157      NaN  Comité Frente Amplio RD, Comunes y Convergenci...   \n",
       "\n",
       "                                 Email  \n",
       "0                raul.soto@congreso.cl  \n",
       "1         alexis.sepulveda@congreso.cl  \n",
       "2              claudia.mix@congreso.cl  \n",
       "3            maria.acevedo@congreso.cl  \n",
       "4                eric.aedo@congreso.cl  \n",
       "..                                 ...  \n",
       "153       sebastian.videla@congreso.cl  \n",
       "154  gaston.vonmuhlenbrock@congreso.cl  \n",
       "155            flor.weisse@congreso.cl  \n",
       "156         gonzalo.winter@congreso.cl  \n",
       "157           gael.yeomans@congreso.cl  \n",
       "\n",
       "[158 rows x 9 columns]"
      ]
     },
     "execution_count": 78,
     "metadata": {},
     "output_type": "execute_result"
    }
   ],
   "source": [
    "search_dir = \"../Diputados - Historical Data\"\n",
    "os.chdir(search_dir)\n",
    "files = filter(os.path.isfile, os.listdir(search_dir))\n",
    "files = [os.path.join(search_dir, f) for f in files] # add path to each file\n",
    "files.sort(key=lambda x: os.path.getmtime(x))\n",
    "data = pd.read_csv(files[0])\n",
    "\n",
    "data"
   ]
  },
  {
   "cell_type": "code",
   "execution_count": 79,
   "metadata": {},
   "outputs": [],
   "source": [
    "# To Do:\n",
    "\n",
    "# check for double names or double entry in rows\n",
    "# 'Periodos parlamentarios' divide into multiple columns\n",
    "# 'Comunas' divide into multiple columns\n",
    "# 'Distrito' change column type to numeric\n",
    "# 'Período Actual' drop column\n",
    "# 'Partido' new column based on 'Bancada'\n",
    "# \n"
   ]
  },
  {
   "cell_type": "code",
   "execution_count": 80,
   "metadata": {},
   "outputs": [
    {
     "data": {
      "text/plain": [
       "False"
      ]
     },
     "execution_count": 80,
     "metadata": {},
     "output_type": "execute_result"
    }
   ],
   "source": [
    "# check for double names or double entry in rows\n",
    "# the email should be a unique indicator of the amount of rows\n",
    "data.Email.nunique() == data.shape[0] # if false, there are duplicates\n",
    "# run if False:\n",
    "# data[data.Email.duplicated() == True] # display displicates: no duplicates"
   ]
  },
  {
   "cell_type": "code",
   "execution_count": 81,
   "metadata": {},
   "outputs": [
    {
     "data": {
      "text/html": [
       "<div>\n",
       "<style scoped>\n",
       "    .dataframe tbody tr th:only-of-type {\n",
       "        vertical-align: middle;\n",
       "    }\n",
       "\n",
       "    .dataframe tbody tr th {\n",
       "        vertical-align: top;\n",
       "    }\n",
       "\n",
       "    .dataframe thead th {\n",
       "        text-align: right;\n",
       "    }\n",
       "</style>\n",
       "<table border=\"1\" class=\"dataframe\">\n",
       "  <thead>\n",
       "    <tr style=\"text-align: right;\">\n",
       "      <th></th>\n",
       "      <th>Nombre</th>\n",
       "      <th>Comunas</th>\n",
       "      <th>Distrito</th>\n",
       "      <th>Región</th>\n",
       "      <th>Período Actual</th>\n",
       "      <th>Partido</th>\n",
       "      <th>Bancada</th>\n",
       "      <th>Email</th>\n",
       "      <th>Periodos parlamentarios 1990-1994</th>\n",
       "      <th>Periodos parlamentarios 1994-1998</th>\n",
       "      <th>Periodos parlamentarios 2002-2006</th>\n",
       "      <th>Periodos parlamentarios 2006-2010</th>\n",
       "      <th>Periodos parlamentarios 2010-2014</th>\n",
       "      <th>Periodos parlamentarios 2014-2018</th>\n",
       "      <th>Periodos parlamentarios 2018-2022</th>\n",
       "      <th>Periodos parlamentarios 2022-2026</th>\n",
       "    </tr>\n",
       "  </thead>\n",
       "  <tbody>\n",
       "    <tr>\n",
       "      <th>0</th>\n",
       "      <td>Raúl Soto Mardones</td>\n",
       "      <td>Mostazal, Graneros, Requínoa, Rancagua, Quinta...</td>\n",
       "      <td>15</td>\n",
       "      <td>Región del Libertador General Bernardo O' Higgins</td>\n",
       "      <td>2022-2026</td>\n",
       "      <td>NaN</td>\n",
       "      <td>Partido Por la Democracia</td>\n",
       "      <td>raul.soto@congreso.cl</td>\n",
       "      <td>None</td>\n",
       "      <td>None</td>\n",
       "      <td>None</td>\n",
       "      <td>None</td>\n",
       "      <td>None</td>\n",
       "      <td>None</td>\n",
       "      <td>2018-2022</td>\n",
       "      <td>2022-2026</td>\n",
       "    </tr>\n",
       "    <tr>\n",
       "      <th>1</th>\n",
       "      <td>Alexis Sepúlveda Soto</td>\n",
       "      <td>Sagrada Familia, Hualañé, Curepto, Teno, Talca...</td>\n",
       "      <td>17</td>\n",
       "      <td>Región del Maule</td>\n",
       "      <td>2022-2026</td>\n",
       "      <td>NaN</td>\n",
       "      <td>Comité Radical - Liberal</td>\n",
       "      <td>alexis.sepulveda@congreso.cl</td>\n",
       "      <td>None</td>\n",
       "      <td>None</td>\n",
       "      <td>None</td>\n",
       "      <td>None</td>\n",
       "      <td>None</td>\n",
       "      <td>None</td>\n",
       "      <td>2018-2022</td>\n",
       "      <td>2022-2026</td>\n",
       "    </tr>\n",
       "    <tr>\n",
       "      <th>2</th>\n",
       "      <td>Claudia Mix Jiménez</td>\n",
       "      <td>Quilicura, Pudahuel, Estación Central, Colina,...</td>\n",
       "      <td>8</td>\n",
       "      <td>Región Metropolitana de Santiago</td>\n",
       "      <td>2022-2026</td>\n",
       "      <td>NaN</td>\n",
       "      <td>Comité Frente Amplio RD, Comunes y Convergenci...</td>\n",
       "      <td>claudia.mix@congreso.cl</td>\n",
       "      <td>None</td>\n",
       "      <td>None</td>\n",
       "      <td>None</td>\n",
       "      <td>None</td>\n",
       "      <td>None</td>\n",
       "      <td>None</td>\n",
       "      <td>2018-2022</td>\n",
       "      <td>2022-2026</td>\n",
       "    </tr>\n",
       "    <tr>\n",
       "      <th>3</th>\n",
       "      <td>María Candelaria Acevedo Sáez</td>\n",
       "      <td>Hualpén, Tomé, Penco, Concepción, Hualqui, Chi...</td>\n",
       "      <td>20</td>\n",
       "      <td>Región del Bío Bío</td>\n",
       "      <td>2022-2026</td>\n",
       "      <td>NaN</td>\n",
       "      <td>Comité Comunista, Federación Regionalista Verd...</td>\n",
       "      <td>maria.acevedo@congreso.cl</td>\n",
       "      <td>None</td>\n",
       "      <td>None</td>\n",
       "      <td>None</td>\n",
       "      <td>None</td>\n",
       "      <td>None</td>\n",
       "      <td>None</td>\n",
       "      <td>None</td>\n",
       "      <td>2022-2026</td>\n",
       "    </tr>\n",
       "    <tr>\n",
       "      <th>4</th>\n",
       "      <td>Eric Aedo Jeldres</td>\n",
       "      <td>Hualpén, Tomé, Penco, Concepción, Hualqui, Chi...</td>\n",
       "      <td>20</td>\n",
       "      <td>Región del Bío Bío</td>\n",
       "      <td>2022-2026</td>\n",
       "      <td>NaN</td>\n",
       "      <td>Demócrata Cristiano</td>\n",
       "      <td>eric.aedo@congreso.cl</td>\n",
       "      <td>None</td>\n",
       "      <td>None</td>\n",
       "      <td>None</td>\n",
       "      <td>None</td>\n",
       "      <td>None</td>\n",
       "      <td>None</td>\n",
       "      <td>None</td>\n",
       "      <td>2022-2026</td>\n",
       "    </tr>\n",
       "    <tr>\n",
       "      <th>...</th>\n",
       "      <td>...</td>\n",
       "      <td>...</td>\n",
       "      <td>...</td>\n",
       "      <td>...</td>\n",
       "      <td>...</td>\n",
       "      <td>...</td>\n",
       "      <td>...</td>\n",
       "      <td>...</td>\n",
       "      <td>...</td>\n",
       "      <td>...</td>\n",
       "      <td>...</td>\n",
       "      <td>...</td>\n",
       "      <td>...</td>\n",
       "      <td>...</td>\n",
       "      <td>...</td>\n",
       "      <td>...</td>\n",
       "    </tr>\n",
       "    <tr>\n",
       "      <th>153</th>\n",
       "      <td>Sebastián Videla Castillo</td>\n",
       "      <td>Sierra Gorda, San Pedro de Atacama, Antofagast...</td>\n",
       "      <td>3</td>\n",
       "      <td>Región de Antofagasta</td>\n",
       "      <td>2022-2026</td>\n",
       "      <td>NaN</td>\n",
       "      <td>Comité Radical - Liberal</td>\n",
       "      <td>sebastian.videla@congreso.cl</td>\n",
       "      <td>None</td>\n",
       "      <td>None</td>\n",
       "      <td>None</td>\n",
       "      <td>None</td>\n",
       "      <td>None</td>\n",
       "      <td>None</td>\n",
       "      <td>None</td>\n",
       "      <td>2022-2026</td>\n",
       "    </tr>\n",
       "    <tr>\n",
       "      <th>154</th>\n",
       "      <td>Gastón Von Mühlenbrock Zamora</td>\n",
       "      <td>Panguipulli, Los Lagos, Lanco, Futrono, La Uni...</td>\n",
       "      <td>24</td>\n",
       "      <td>Región de Los Ríos</td>\n",
       "      <td>2022-2026</td>\n",
       "      <td>NaN</td>\n",
       "      <td>Unión Demócrata Independiente</td>\n",
       "      <td>gaston.vonmuhlenbrock@congreso.cl</td>\n",
       "      <td>None</td>\n",
       "      <td>None</td>\n",
       "      <td>2002-2006</td>\n",
       "      <td>2006-2010</td>\n",
       "      <td>2010-2014</td>\n",
       "      <td>None</td>\n",
       "      <td>2018-2022</td>\n",
       "      <td>2022-2026</td>\n",
       "    </tr>\n",
       "    <tr>\n",
       "      <th>155</th>\n",
       "      <td>Flor Weisse Novoa</td>\n",
       "      <td>Los Ángeles, Alto Biobío, Mulchén, Los Álamos,...</td>\n",
       "      <td>21</td>\n",
       "      <td>Región del Bío Bío</td>\n",
       "      <td>2022-2026</td>\n",
       "      <td>NaN</td>\n",
       "      <td>Unión Demócrata Independiente</td>\n",
       "      <td>flor.weisse@congreso.cl</td>\n",
       "      <td>None</td>\n",
       "      <td>None</td>\n",
       "      <td>None</td>\n",
       "      <td>None</td>\n",
       "      <td>None</td>\n",
       "      <td>None</td>\n",
       "      <td>None</td>\n",
       "      <td>2022-2026</td>\n",
       "    </tr>\n",
       "    <tr>\n",
       "      <th>156</th>\n",
       "      <td>Gonzalo Winter Etcheberry</td>\n",
       "      <td>Santiago, Providencia, San Joaquín, La Granja,...</td>\n",
       "      <td>10</td>\n",
       "      <td>Región Metropolitana de Santiago</td>\n",
       "      <td>2022-2026</td>\n",
       "      <td>NaN</td>\n",
       "      <td>Comité Frente Amplio RD, Comunes y Convergenci...</td>\n",
       "      <td>gonzalo.winter@congreso.cl</td>\n",
       "      <td>None</td>\n",
       "      <td>None</td>\n",
       "      <td>None</td>\n",
       "      <td>None</td>\n",
       "      <td>None</td>\n",
       "      <td>None</td>\n",
       "      <td>2018-2022</td>\n",
       "      <td>2022-2026</td>\n",
       "    </tr>\n",
       "    <tr>\n",
       "      <th>157</th>\n",
       "      <td>Gael Yeomans Araya</td>\n",
       "      <td>Pedro Aguirre Cerda, La Cisterna, San Ramón, L...</td>\n",
       "      <td>13</td>\n",
       "      <td>Región Metropolitana de Santiago</td>\n",
       "      <td>2022-2026</td>\n",
       "      <td>NaN</td>\n",
       "      <td>Comité Frente Amplio RD, Comunes y Convergenci...</td>\n",
       "      <td>gael.yeomans@congreso.cl</td>\n",
       "      <td>None</td>\n",
       "      <td>None</td>\n",
       "      <td>None</td>\n",
       "      <td>None</td>\n",
       "      <td>None</td>\n",
       "      <td>None</td>\n",
       "      <td>2018-2022</td>\n",
       "      <td>2022-2026</td>\n",
       "    </tr>\n",
       "  </tbody>\n",
       "</table>\n",
       "<p>158 rows × 16 columns</p>\n",
       "</div>"
      ],
      "text/plain": [
       "                            Nombre  \\\n",
       "0               Raúl Soto Mardones   \n",
       "1            Alexis Sepúlveda Soto   \n",
       "2              Claudia Mix Jiménez   \n",
       "3    María Candelaria Acevedo Sáez   \n",
       "4                Eric Aedo Jeldres   \n",
       "..                             ...   \n",
       "153      Sebastián Videla Castillo   \n",
       "154  Gastón Von Mühlenbrock Zamora   \n",
       "155              Flor Weisse Novoa   \n",
       "156      Gonzalo Winter Etcheberry   \n",
       "157             Gael Yeomans Araya   \n",
       "\n",
       "                                               Comunas  Distrito  \\\n",
       "0    Mostazal, Graneros, Requínoa, Rancagua, Quinta...        15   \n",
       "1    Sagrada Familia, Hualañé, Curepto, Teno, Talca...        17   \n",
       "2    Quilicura, Pudahuel, Estación Central, Colina,...         8   \n",
       "3    Hualpén, Tomé, Penco, Concepción, Hualqui, Chi...        20   \n",
       "4    Hualpén, Tomé, Penco, Concepción, Hualqui, Chi...        20   \n",
       "..                                                 ...       ...   \n",
       "153  Sierra Gorda, San Pedro de Atacama, Antofagast...         3   \n",
       "154  Panguipulli, Los Lagos, Lanco, Futrono, La Uni...        24   \n",
       "155  Los Ángeles, Alto Biobío, Mulchén, Los Álamos,...        21   \n",
       "156  Santiago, Providencia, San Joaquín, La Granja,...        10   \n",
       "157  Pedro Aguirre Cerda, La Cisterna, San Ramón, L...        13   \n",
       "\n",
       "                                                Región Período Actual  \\\n",
       "0    Región del Libertador General Bernardo O' Higgins      2022-2026   \n",
       "1                                     Región del Maule      2022-2026   \n",
       "2                     Región Metropolitana de Santiago      2022-2026   \n",
       "3                                   Región del Bío Bío      2022-2026   \n",
       "4                                   Región del Bío Bío      2022-2026   \n",
       "..                                                 ...            ...   \n",
       "153                              Región de Antofagasta      2022-2026   \n",
       "154                                 Región de Los Ríos      2022-2026   \n",
       "155                                 Región del Bío Bío      2022-2026   \n",
       "156                   Región Metropolitana de Santiago      2022-2026   \n",
       "157                   Región Metropolitana de Santiago      2022-2026   \n",
       "\n",
       "     Partido                                            Bancada  \\\n",
       "0        NaN                          Partido Por la Democracia   \n",
       "1        NaN                           Comité Radical - Liberal   \n",
       "2        NaN  Comité Frente Amplio RD, Comunes y Convergenci...   \n",
       "3        NaN  Comité Comunista, Federación Regionalista Verd...   \n",
       "4        NaN                                Demócrata Cristiano   \n",
       "..       ...                                                ...   \n",
       "153      NaN                           Comité Radical - Liberal   \n",
       "154      NaN                      Unión Demócrata Independiente   \n",
       "155      NaN                      Unión Demócrata Independiente   \n",
       "156      NaN  Comité Frente Amplio RD, Comunes y Convergenci...   \n",
       "157      NaN  Comité Frente Amplio RD, Comunes y Convergenci...   \n",
       "\n",
       "                                 Email Periodos parlamentarios 1990-1994  \\\n",
       "0                raul.soto@congreso.cl                              None   \n",
       "1         alexis.sepulveda@congreso.cl                              None   \n",
       "2              claudia.mix@congreso.cl                              None   \n",
       "3            maria.acevedo@congreso.cl                              None   \n",
       "4                eric.aedo@congreso.cl                              None   \n",
       "..                                 ...                               ...   \n",
       "153       sebastian.videla@congreso.cl                              None   \n",
       "154  gaston.vonmuhlenbrock@congreso.cl                              None   \n",
       "155            flor.weisse@congreso.cl                              None   \n",
       "156         gonzalo.winter@congreso.cl                              None   \n",
       "157           gael.yeomans@congreso.cl                              None   \n",
       "\n",
       "    Periodos parlamentarios 1994-1998 Periodos parlamentarios 2002-2006  \\\n",
       "0                                None                              None   \n",
       "1                                None                              None   \n",
       "2                                None                              None   \n",
       "3                                None                              None   \n",
       "4                                None                              None   \n",
       "..                                ...                               ...   \n",
       "153                              None                              None   \n",
       "154                              None                         2002-2006   \n",
       "155                              None                              None   \n",
       "156                              None                              None   \n",
       "157                              None                              None   \n",
       "\n",
       "    Periodos parlamentarios 2006-2010 Periodos parlamentarios 2010-2014  \\\n",
       "0                                None                              None   \n",
       "1                                None                              None   \n",
       "2                                None                              None   \n",
       "3                                None                              None   \n",
       "4                                None                              None   \n",
       "..                                ...                               ...   \n",
       "153                              None                              None   \n",
       "154                         2006-2010                         2010-2014   \n",
       "155                              None                              None   \n",
       "156                              None                              None   \n",
       "157                              None                              None   \n",
       "\n",
       "    Periodos parlamentarios 2014-2018 Periodos parlamentarios 2018-2022  \\\n",
       "0                                None                         2018-2022   \n",
       "1                                None                         2018-2022   \n",
       "2                                None                         2018-2022   \n",
       "3                                None                              None   \n",
       "4                                None                              None   \n",
       "..                                ...                               ...   \n",
       "153                              None                              None   \n",
       "154                              None                         2018-2022   \n",
       "155                              None                              None   \n",
       "156                              None                         2018-2022   \n",
       "157                              None                         2018-2022   \n",
       "\n",
       "    Periodos parlamentarios 2022-2026  \n",
       "0                           2022-2026  \n",
       "1                           2022-2026  \n",
       "2                           2022-2026  \n",
       "3                           2022-2026  \n",
       "4                           2022-2026  \n",
       "..                                ...  \n",
       "153                         2022-2026  \n",
       "154                         2022-2026  \n",
       "155                         2022-2026  \n",
       "156                         2022-2026  \n",
       "157                         2022-2026  \n",
       "\n",
       "[158 rows x 16 columns]"
      ]
     },
     "execution_count": 81,
     "metadata": {},
     "output_type": "execute_result"
    }
   ],
   "source": [
    "# 'Periodos parlamentarios' divide into multiple columns\n",
    "\n",
    "Periodos =['1990-1994','1994-1998','2002-2006','2006-2010','2010-2014','2014-2018','2018-2022','2022-2026']\n",
    "\n",
    "def StrInList(lst,num):\n",
    "    if Periodos[num] in lst:\n",
    "        return Periodos[num]\n",
    "\n",
    "for idx in range(len(Periodos)):\n",
    "    data[f'Periodos parlamentarios {Periodos[idx]}'] = data['Periodos parlamentarios'].apply(lambda x: StrInList(x,idx))\n",
    "\n",
    "data.drop('Periodos parlamentarios',axis=1, inplace=True)\n",
    "\n",
    "data\n"
   ]
  },
  {
   "cell_type": "code",
   "execution_count": 82,
   "metadata": {},
   "outputs": [
    {
     "data": {
      "text/html": [
       "<div>\n",
       "<style scoped>\n",
       "    .dataframe tbody tr th:only-of-type {\n",
       "        vertical-align: middle;\n",
       "    }\n",
       "\n",
       "    .dataframe tbody tr th {\n",
       "        vertical-align: top;\n",
       "    }\n",
       "\n",
       "    .dataframe thead th {\n",
       "        text-align: right;\n",
       "    }\n",
       "</style>\n",
       "<table border=\"1\" class=\"dataframe\">\n",
       "  <thead>\n",
       "    <tr style=\"text-align: right;\">\n",
       "      <th></th>\n",
       "      <th>Nombre</th>\n",
       "      <th>Comunas</th>\n",
       "      <th>Distrito</th>\n",
       "      <th>Región</th>\n",
       "      <th>Período Actual</th>\n",
       "      <th>Partido</th>\n",
       "      <th>Bancada</th>\n",
       "      <th>Email</th>\n",
       "      <th>Periodos parlamentarios 1990-1994</th>\n",
       "      <th>Periodos parlamentarios 1994-1998</th>\n",
       "      <th>Periodos parlamentarios 2002-2006</th>\n",
       "      <th>Periodos parlamentarios 2006-2010</th>\n",
       "      <th>Periodos parlamentarios 2010-2014</th>\n",
       "      <th>Periodos parlamentarios 2014-2018</th>\n",
       "      <th>Periodos parlamentarios 2018-2022</th>\n",
       "      <th>Periodos parlamentarios 2022-2026</th>\n",
       "    </tr>\n",
       "  </thead>\n",
       "  <tbody>\n",
       "    <tr>\n",
       "      <th>9</th>\n",
       "      <td>Cristián Araya Lerdo de Tejada</td>\n",
       "      <td>Lo Barnechea, La Reina, Peñalolén, Vitacura, L...</td>\n",
       "      <td>11</td>\n",
       "      <td>Región Metropolitana de Santiago</td>\n",
       "      <td>2022-2026</td>\n",
       "      <td>NaN</td>\n",
       "      <td>Comité Republicanos</td>\n",
       "      <td>cristian.araya@congreso.cl</td>\n",
       "      <td>None</td>\n",
       "      <td>None</td>\n",
       "      <td>None</td>\n",
       "      <td>None</td>\n",
       "      <td>None</td>\n",
       "      <td>None</td>\n",
       "      <td>None</td>\n",
       "      <td>2022-2026</td>\n",
       "    </tr>\n",
       "    <tr>\n",
       "      <th>45</th>\n",
       "      <td>Gonzalo De la Carrera Correa</td>\n",
       "      <td>Lo Barnechea, La Reina, Peñalolén, Vitacura, L...</td>\n",
       "      <td>11</td>\n",
       "      <td>Región Metropolitana de Santiago</td>\n",
       "      <td>2022-2026</td>\n",
       "      <td>NaN</td>\n",
       "      <td>Comité Republicanos</td>\n",
       "      <td>gonzalo.delacarrera@congreso.cl</td>\n",
       "      <td>None</td>\n",
       "      <td>None</td>\n",
       "      <td>None</td>\n",
       "      <td>None</td>\n",
       "      <td>None</td>\n",
       "      <td>None</td>\n",
       "      <td>None</td>\n",
       "      <td>2022-2026</td>\n",
       "    </tr>\n",
       "    <tr>\n",
       "      <th>47</th>\n",
       "      <td>Catalina Del Real Mihovilovic</td>\n",
       "      <td>Lo Barnechea, La Reina, Peñalolén, Vitacura, L...</td>\n",
       "      <td>11</td>\n",
       "      <td>Región Metropolitana de Santiago</td>\n",
       "      <td>2022-2026</td>\n",
       "      <td>NaN</td>\n",
       "      <td>Renovación Nacional</td>\n",
       "      <td>catalina.delreal@congreso.cl</td>\n",
       "      <td>None</td>\n",
       "      <td>None</td>\n",
       "      <td>None</td>\n",
       "      <td>None</td>\n",
       "      <td>None</td>\n",
       "      <td>None</td>\n",
       "      <td>2018-2022</td>\n",
       "      <td>2022-2026</td>\n",
       "    </tr>\n",
       "    <tr>\n",
       "      <th>62</th>\n",
       "      <td>Tomás Hirsch Goldschmidt</td>\n",
       "      <td>Lo Barnechea, La Reina, Peñalolén, Vitacura, L...</td>\n",
       "      <td>11</td>\n",
       "      <td>Región Metropolitana de Santiago</td>\n",
       "      <td>2022-2026</td>\n",
       "      <td>NaN</td>\n",
       "      <td>Comité Comunista, Federación Regionalista Verd...</td>\n",
       "      <td>tomas.hirsch@congreso.cl</td>\n",
       "      <td>None</td>\n",
       "      <td>None</td>\n",
       "      <td>None</td>\n",
       "      <td>None</td>\n",
       "      <td>None</td>\n",
       "      <td>None</td>\n",
       "      <td>2018-2022</td>\n",
       "      <td>2022-2026</td>\n",
       "    </tr>\n",
       "    <tr>\n",
       "      <th>116</th>\n",
       "      <td>Guillermo Ramírez Diez</td>\n",
       "      <td>Lo Barnechea, La Reina, Peñalolén, Vitacura, L...</td>\n",
       "      <td>11</td>\n",
       "      <td>Región Metropolitana de Santiago</td>\n",
       "      <td>2022-2026</td>\n",
       "      <td>NaN</td>\n",
       "      <td>Unión Demócrata Independiente</td>\n",
       "      <td>guillermo.ramirez@congreso.cl</td>\n",
       "      <td>None</td>\n",
       "      <td>None</td>\n",
       "      <td>None</td>\n",
       "      <td>None</td>\n",
       "      <td>None</td>\n",
       "      <td>None</td>\n",
       "      <td>2018-2022</td>\n",
       "      <td>2022-2026</td>\n",
       "    </tr>\n",
       "    <tr>\n",
       "      <th>148</th>\n",
       "      <td>Francisco Undurraga Gazitúa</td>\n",
       "      <td>Lo Barnechea, La Reina, Peñalolén, Vitacura, L...</td>\n",
       "      <td>11</td>\n",
       "      <td>Región Metropolitana de Santiago</td>\n",
       "      <td>2022-2026</td>\n",
       "      <td>NaN</td>\n",
       "      <td>Evolución Política</td>\n",
       "      <td>francisco.undurraga@congreso.cl</td>\n",
       "      <td>None</td>\n",
       "      <td>None</td>\n",
       "      <td>None</td>\n",
       "      <td>None</td>\n",
       "      <td>None</td>\n",
       "      <td>None</td>\n",
       "      <td>2018-2022</td>\n",
       "      <td>2022-2026</td>\n",
       "    </tr>\n",
       "  </tbody>\n",
       "</table>\n",
       "</div>"
      ],
      "text/plain": [
       "                             Nombre  \\\n",
       "9    Cristián Araya Lerdo de Tejada   \n",
       "45     Gonzalo De la Carrera Correa   \n",
       "47    Catalina Del Real Mihovilovic   \n",
       "62         Tomás Hirsch Goldschmidt   \n",
       "116          Guillermo Ramírez Diez   \n",
       "148     Francisco Undurraga Gazitúa   \n",
       "\n",
       "                                               Comunas  Distrito  \\\n",
       "9    Lo Barnechea, La Reina, Peñalolén, Vitacura, L...        11   \n",
       "45   Lo Barnechea, La Reina, Peñalolén, Vitacura, L...        11   \n",
       "47   Lo Barnechea, La Reina, Peñalolén, Vitacura, L...        11   \n",
       "62   Lo Barnechea, La Reina, Peñalolén, Vitacura, L...        11   \n",
       "116  Lo Barnechea, La Reina, Peñalolén, Vitacura, L...        11   \n",
       "148  Lo Barnechea, La Reina, Peñalolén, Vitacura, L...        11   \n",
       "\n",
       "                               Región Período Actual  Partido  \\\n",
       "9    Región Metropolitana de Santiago      2022-2026      NaN   \n",
       "45   Región Metropolitana de Santiago      2022-2026      NaN   \n",
       "47   Región Metropolitana de Santiago      2022-2026      NaN   \n",
       "62   Región Metropolitana de Santiago      2022-2026      NaN   \n",
       "116  Región Metropolitana de Santiago      2022-2026      NaN   \n",
       "148  Región Metropolitana de Santiago      2022-2026      NaN   \n",
       "\n",
       "                                               Bancada  \\\n",
       "9                                  Comité Republicanos   \n",
       "45                                 Comité Republicanos   \n",
       "47                                 Renovación Nacional   \n",
       "62   Comité Comunista, Federación Regionalista Verd...   \n",
       "116                      Unión Demócrata Independiente   \n",
       "148                                 Evolución Política   \n",
       "\n",
       "                               Email Periodos parlamentarios 1990-1994  \\\n",
       "9         cristian.araya@congreso.cl                              None   \n",
       "45   gonzalo.delacarrera@congreso.cl                              None   \n",
       "47      catalina.delreal@congreso.cl                              None   \n",
       "62          tomas.hirsch@congreso.cl                              None   \n",
       "116    guillermo.ramirez@congreso.cl                              None   \n",
       "148  francisco.undurraga@congreso.cl                              None   \n",
       "\n",
       "    Periodos parlamentarios 1994-1998 Periodos parlamentarios 2002-2006  \\\n",
       "9                                None                              None   \n",
       "45                               None                              None   \n",
       "47                               None                              None   \n",
       "62                               None                              None   \n",
       "116                              None                              None   \n",
       "148                              None                              None   \n",
       "\n",
       "    Periodos parlamentarios 2006-2010 Periodos parlamentarios 2010-2014  \\\n",
       "9                                None                              None   \n",
       "45                               None                              None   \n",
       "47                               None                              None   \n",
       "62                               None                              None   \n",
       "116                              None                              None   \n",
       "148                              None                              None   \n",
       "\n",
       "    Periodos parlamentarios 2014-2018 Periodos parlamentarios 2018-2022  \\\n",
       "9                                None                              None   \n",
       "45                               None                              None   \n",
       "47                               None                         2018-2022   \n",
       "62                               None                         2018-2022   \n",
       "116                              None                         2018-2022   \n",
       "148                              None                         2018-2022   \n",
       "\n",
       "    Periodos parlamentarios 2022-2026  \n",
       "9                           2022-2026  \n",
       "45                          2022-2026  \n",
       "47                          2022-2026  \n",
       "62                          2022-2026  \n",
       "116                         2022-2026  \n",
       "148                         2022-2026  "
      ]
     },
     "execution_count": 82,
     "metadata": {},
     "output_type": "execute_result"
    }
   ],
   "source": [
    "list(set(data.Comunas.to_list())) # this is to see the unique groups in the 'Comunas' column\n",
    "data[data['Distrito']==11] # this is to test that each District number has the same group of 'Comunas', so there is no need to split the 'Comunas' column\n"
   ]
  },
  {
   "cell_type": "code",
   "execution_count": 83,
   "metadata": {},
   "outputs": [],
   "source": [
    "# data.Bancada.unique()\n",
    "\n",
    "Bancada_map = {\n",
    "    'Comité Comunista, Federación Regionalista Verde Social e Independientes':'Izquierda',\n",
    "    'Demócrata Cristiano':          'Centro',\n",
    "    'Comité Partido de la Gente':   'Derecha',\n",
    "    'Unión Demócrata Independiente':'Derecha',\n",
    "    'Partido Por la Democracia':    'Izquierda',\n",
    "    'Comité Republicanos':          'Derecha',\n",
    "    'Comité Ecologista Verde e Independientes':'Izquierda',\n",
    "    'Socialista':                   'Izquierda',\n",
    "    'Renovación Nacional':          'Derecha',\n",
    "    'Comité Frente Amplio RD, Comunes y Convergencia Social':'Izquierda',\n",
    "    'Comité Radical - Liberal':     'Izquierda',\n",
    "    'Evolución Política':           'Izquierda'\n",
    "}\n",
    "\n",
    "data.Partido = data.Bancada.map(Bancada_map)"
   ]
  },
  {
   "cell_type": "code",
   "execution_count": 84,
   "metadata": {},
   "outputs": [
    {
     "data": {
      "text/plain": [
       "Izquierda    79\n",
       "Derecha      71\n",
       "Centro        8\n",
       "Name: Partido, dtype: int64"
      ]
     },
     "execution_count": 84,
     "metadata": {},
     "output_type": "execute_result"
    }
   ],
   "source": [
    "data.Partido.value_counts()"
   ]
  },
  {
   "cell_type": "code",
   "execution_count": 85,
   "metadata": {},
   "outputs": [
    {
     "data": {
      "text/html": [
       "<div>\n",
       "<style scoped>\n",
       "    .dataframe tbody tr th:only-of-type {\n",
       "        vertical-align: middle;\n",
       "    }\n",
       "\n",
       "    .dataframe tbody tr th {\n",
       "        vertical-align: top;\n",
       "    }\n",
       "\n",
       "    .dataframe thead th {\n",
       "        text-align: right;\n",
       "    }\n",
       "</style>\n",
       "<table border=\"1\" class=\"dataframe\">\n",
       "  <thead>\n",
       "    <tr style=\"text-align: right;\">\n",
       "      <th></th>\n",
       "      <th>index</th>\n",
       "      <th>Bancada</th>\n",
       "      <th>Percentage</th>\n",
       "    </tr>\n",
       "  </thead>\n",
       "  <tbody>\n",
       "    <tr>\n",
       "      <th>0</th>\n",
       "      <td>Renovación Nacional</td>\n",
       "      <td>25</td>\n",
       "      <td>16%</td>\n",
       "    </tr>\n",
       "    <tr>\n",
       "      <th>1</th>\n",
       "      <td>Unión Demócrata Independiente</td>\n",
       "      <td>23</td>\n",
       "      <td>15%</td>\n",
       "    </tr>\n",
       "    <tr>\n",
       "      <th>2</th>\n",
       "      <td>Comité Frente Amplio RD, Comunes y Convergenci...</td>\n",
       "      <td>21</td>\n",
       "      <td>13%</td>\n",
       "    </tr>\n",
       "    <tr>\n",
       "      <th>3</th>\n",
       "      <td>Comité Comunista, Federación Regionalista Verd...</td>\n",
       "      <td>18</td>\n",
       "      <td>11%</td>\n",
       "    </tr>\n",
       "    <tr>\n",
       "      <th>4</th>\n",
       "      <td>Comité Republicanos</td>\n",
       "      <td>15</td>\n",
       "      <td>9%</td>\n",
       "    </tr>\n",
       "    <tr>\n",
       "      <th>5</th>\n",
       "      <td>Socialista</td>\n",
       "      <td>13</td>\n",
       "      <td>8%</td>\n",
       "    </tr>\n",
       "    <tr>\n",
       "      <th>6</th>\n",
       "      <td>Partido Por la Democracia</td>\n",
       "      <td>10</td>\n",
       "      <td>6%</td>\n",
       "    </tr>\n",
       "    <tr>\n",
       "      <th>7</th>\n",
       "      <td>Comité Radical - Liberal</td>\n",
       "      <td>9</td>\n",
       "      <td>6%</td>\n",
       "    </tr>\n",
       "    <tr>\n",
       "      <th>8</th>\n",
       "      <td>Demócrata Cristiano</td>\n",
       "      <td>8</td>\n",
       "      <td>5%</td>\n",
       "    </tr>\n",
       "    <tr>\n",
       "      <th>9</th>\n",
       "      <td>Comité Partido de la Gente</td>\n",
       "      <td>8</td>\n",
       "      <td>5%</td>\n",
       "    </tr>\n",
       "    <tr>\n",
       "      <th>10</th>\n",
       "      <td>Evolución Política</td>\n",
       "      <td>4</td>\n",
       "      <td>3%</td>\n",
       "    </tr>\n",
       "    <tr>\n",
       "      <th>11</th>\n",
       "      <td>Comité Ecologista Verde e Independientes</td>\n",
       "      <td>4</td>\n",
       "      <td>3%</td>\n",
       "    </tr>\n",
       "  </tbody>\n",
       "</table>\n",
       "</div>"
      ],
      "text/plain": [
       "                                                index  Bancada Percentage\n",
       "0                                 Renovación Nacional       25        16%\n",
       "1                       Unión Demócrata Independiente       23        15%\n",
       "2   Comité Frente Amplio RD, Comunes y Convergenci...       21        13%\n",
       "3   Comité Comunista, Federación Regionalista Verd...       18        11%\n",
       "4                                 Comité Republicanos       15         9%\n",
       "5                                          Socialista       13         8%\n",
       "6                           Partido Por la Democracia       10         6%\n",
       "7                            Comité Radical - Liberal        9         6%\n",
       "8                                 Demócrata Cristiano        8         5%\n",
       "9                          Comité Partido de la Gente        8         5%\n",
       "10                                 Evolución Política        4         3%\n",
       "11           Comité Ecologista Verde e Independientes        4         3%"
      ]
     },
     "execution_count": 85,
     "metadata": {},
     "output_type": "execute_result"
    }
   ],
   "source": [
    "a = data.Bancada.value_counts().reset_index()\n",
    "a['Percentage'] = a.Bancada.apply(lambda x: \"{:.0%}\".format(x/a.Bancada.sum()))\n",
    "a"
   ]
  },
  {
   "cell_type": "markdown",
   "metadata": {},
   "source": [
    "# Explanatory Data Analysis\n",
    "\n",
    "* How many diputados per District\n",
    "* How many diputados per Region\n",
    "* How many diputados per Partido\n",
    "* How many diputados per Partido per District\n",
    "* How many diputados per Bancada\n",
    "* How many diputados per Periodo Parlamentarios\n",
    "\n",
    "* Correlation between Bancada and [Dstrito,Region] - Scatterplot"
   ]
  },
  {
   "cell_type": "code",
   "execution_count": 86,
   "metadata": {},
   "outputs": [
    {
     "data": {
      "application/vnd.plotly.v1+json": {
       "config": {
        "plotlyServerURL": "https://plot.ly"
       },
       "data": [
        {
         "alignmentgroup": "True",
         "hovertemplate": "Partido=Izquierda<br>Distrito=%{x}<br>count=%{y}<extra></extra>",
         "legendgroup": "Izquierda",
         "marker": {
          "color": "red",
          "pattern": {
           "shape": ""
          }
         },
         "name": "Izquierda",
         "offsetgroup": "Izquierda",
         "orientation": "v",
         "showlegend": true,
         "textposition": "auto",
         "type": "bar",
         "x": [
          "15",
          "17",
          "8",
          "20",
          "27",
          "3",
          "12",
          "2",
          "9",
          "6",
          "26",
          "28",
          "24",
          "7",
          "16",
          "17",
          "9",
          "5",
          "4",
          "7",
          "7",
          "8",
          "10",
          "12",
          "9",
          "20",
          "15",
          "17",
          "8",
          "11",
          "6",
          "24",
          "12",
          "23",
          "7",
          "14",
          "1",
          "5",
          "6",
          "28",
          "16",
          "13",
          "1",
          "8",
          "10",
          "28",
          "4",
          "14",
          "18",
          "25",
          "23",
          "9",
          "12",
          "3",
          "13",
          "10",
          "2",
          "15",
          "7",
          "24",
          "26",
          "21",
          "4",
          "14",
          "10",
          "17",
          "12",
          "14",
          "15",
          "4",
          "7",
          "5",
          "26",
          "11",
          "18",
          "6",
          "3",
          "10",
          "13"
         ],
         "xaxis": "x",
         "y": [
          1,
          1,
          1,
          1,
          1,
          1,
          1,
          1,
          1,
          1,
          1,
          1,
          1,
          1,
          1,
          1,
          1,
          1,
          1,
          1,
          1,
          1,
          1,
          1,
          1,
          1,
          1,
          1,
          1,
          1,
          1,
          1,
          1,
          1,
          1,
          1,
          1,
          1,
          1,
          1,
          1,
          1,
          1,
          1,
          1,
          1,
          1,
          1,
          1,
          1,
          1,
          1,
          1,
          1,
          1,
          1,
          1,
          1,
          1,
          1,
          1,
          1,
          1,
          1,
          1,
          1,
          1,
          1,
          1,
          1,
          1,
          1,
          1,
          1,
          1,
          1,
          1,
          1,
          1
         ],
         "yaxis": "y"
        },
        {
         "alignmentgroup": "True",
         "hovertemplate": "Partido=Centro<br>Distrito=%{x}<br>count=%{y}<extra></extra>",
         "legendgroup": "Centro",
         "marker": {
          "color": "gold",
          "pattern": {
           "shape": ""
          }
         },
         "name": "Centro",
         "offsetgroup": "Centro",
         "orientation": "v",
         "showlegend": true,
         "textposition": "auto",
         "type": "bar",
         "x": [
          "20",
          "25",
          "27",
          "19",
          "5",
          "21",
          "22",
          "8"
         ],
         "xaxis": "x",
         "y": [
          1,
          1,
          1,
          1,
          1,
          1,
          1,
          1
         ],
         "yaxis": "y"
        },
        {
         "alignmentgroup": "True",
         "hovertemplate": "Partido=Derecha<br>Distrito=%{x}<br>count=%{y}<extra></extra>",
         "legendgroup": "Derecha",
         "marker": {
          "color": "Blue",
          "pattern": {
           "shape": ""
          }
         },
         "name": "Derecha",
         "offsetgroup": "Derecha",
         "orientation": "v",
         "showlegend": true,
         "textposition": "auto",
         "type": "bar",
         "x": [
          "3",
          "10",
          "11",
          "20",
          "6",
          "23",
          "22",
          "18",
          "24",
          "20",
          "26",
          "19",
          "12",
          "3",
          "7",
          "4",
          "14",
          "19",
          "10",
          "16",
          "11",
          "11",
          "17",
          "9",
          "13",
          "6",
          "5",
          "26",
          "14",
          "25",
          "10",
          "8",
          "18",
          "8",
          "23",
          "1",
          "25",
          "6",
          "19",
          "21",
          "23",
          "9",
          "16",
          "13",
          "17",
          "20",
          "22",
          "23",
          "9",
          "12",
          "8",
          "20",
          "5",
          "17",
          "11",
          "27",
          "22",
          "17",
          "6",
          "8",
          "20",
          "15",
          "7",
          "19",
          "15",
          "23",
          "5",
          "2",
          "21",
          "24",
          "21"
         ],
         "xaxis": "x",
         "y": [
          1,
          1,
          1,
          1,
          1,
          1,
          1,
          1,
          1,
          1,
          1,
          1,
          1,
          1,
          1,
          1,
          1,
          1,
          1,
          1,
          1,
          1,
          1,
          1,
          1,
          1,
          1,
          1,
          1,
          1,
          1,
          1,
          1,
          1,
          1,
          1,
          1,
          1,
          1,
          1,
          1,
          1,
          1,
          1,
          1,
          1,
          1,
          1,
          1,
          1,
          1,
          1,
          1,
          1,
          1,
          1,
          1,
          1,
          1,
          1,
          1,
          1,
          1,
          1,
          1,
          1,
          1,
          1,
          1,
          1,
          1
         ],
         "yaxis": "y"
        }
       ],
       "layout": {
        "barmode": "relative",
        "height": 400,
        "legend": {
         "title": {
          "text": "Partido"
         },
         "tracegroupgap": 0
        },
        "margin": {
         "t": 60
        },
        "template": {
         "data": {
          "bar": [
           {
            "error_x": {
             "color": "#2a3f5f"
            },
            "error_y": {
             "color": "#2a3f5f"
            },
            "marker": {
             "line": {
              "color": "#E5ECF6",
              "width": 0.5
             },
             "pattern": {
              "fillmode": "overlay",
              "size": 10,
              "solidity": 0.2
             }
            },
            "type": "bar"
           }
          ],
          "barpolar": [
           {
            "marker": {
             "line": {
              "color": "#E5ECF6",
              "width": 0.5
             },
             "pattern": {
              "fillmode": "overlay",
              "size": 10,
              "solidity": 0.2
             }
            },
            "type": "barpolar"
           }
          ],
          "carpet": [
           {
            "aaxis": {
             "endlinecolor": "#2a3f5f",
             "gridcolor": "white",
             "linecolor": "white",
             "minorgridcolor": "white",
             "startlinecolor": "#2a3f5f"
            },
            "baxis": {
             "endlinecolor": "#2a3f5f",
             "gridcolor": "white",
             "linecolor": "white",
             "minorgridcolor": "white",
             "startlinecolor": "#2a3f5f"
            },
            "type": "carpet"
           }
          ],
          "choropleth": [
           {
            "colorbar": {
             "outlinewidth": 0,
             "ticks": ""
            },
            "type": "choropleth"
           }
          ],
          "contour": [
           {
            "colorbar": {
             "outlinewidth": 0,
             "ticks": ""
            },
            "colorscale": [
             [
              0,
              "#0d0887"
             ],
             [
              0.1111111111111111,
              "#46039f"
             ],
             [
              0.2222222222222222,
              "#7201a8"
             ],
             [
              0.3333333333333333,
              "#9c179e"
             ],
             [
              0.4444444444444444,
              "#bd3786"
             ],
             [
              0.5555555555555556,
              "#d8576b"
             ],
             [
              0.6666666666666666,
              "#ed7953"
             ],
             [
              0.7777777777777778,
              "#fb9f3a"
             ],
             [
              0.8888888888888888,
              "#fdca26"
             ],
             [
              1,
              "#f0f921"
             ]
            ],
            "type": "contour"
           }
          ],
          "contourcarpet": [
           {
            "colorbar": {
             "outlinewidth": 0,
             "ticks": ""
            },
            "type": "contourcarpet"
           }
          ],
          "heatmap": [
           {
            "colorbar": {
             "outlinewidth": 0,
             "ticks": ""
            },
            "colorscale": [
             [
              0,
              "#0d0887"
             ],
             [
              0.1111111111111111,
              "#46039f"
             ],
             [
              0.2222222222222222,
              "#7201a8"
             ],
             [
              0.3333333333333333,
              "#9c179e"
             ],
             [
              0.4444444444444444,
              "#bd3786"
             ],
             [
              0.5555555555555556,
              "#d8576b"
             ],
             [
              0.6666666666666666,
              "#ed7953"
             ],
             [
              0.7777777777777778,
              "#fb9f3a"
             ],
             [
              0.8888888888888888,
              "#fdca26"
             ],
             [
              1,
              "#f0f921"
             ]
            ],
            "type": "heatmap"
           }
          ],
          "heatmapgl": [
           {
            "colorbar": {
             "outlinewidth": 0,
             "ticks": ""
            },
            "colorscale": [
             [
              0,
              "#0d0887"
             ],
             [
              0.1111111111111111,
              "#46039f"
             ],
             [
              0.2222222222222222,
              "#7201a8"
             ],
             [
              0.3333333333333333,
              "#9c179e"
             ],
             [
              0.4444444444444444,
              "#bd3786"
             ],
             [
              0.5555555555555556,
              "#d8576b"
             ],
             [
              0.6666666666666666,
              "#ed7953"
             ],
             [
              0.7777777777777778,
              "#fb9f3a"
             ],
             [
              0.8888888888888888,
              "#fdca26"
             ],
             [
              1,
              "#f0f921"
             ]
            ],
            "type": "heatmapgl"
           }
          ],
          "histogram": [
           {
            "marker": {
             "pattern": {
              "fillmode": "overlay",
              "size": 10,
              "solidity": 0.2
             }
            },
            "type": "histogram"
           }
          ],
          "histogram2d": [
           {
            "colorbar": {
             "outlinewidth": 0,
             "ticks": ""
            },
            "colorscale": [
             [
              0,
              "#0d0887"
             ],
             [
              0.1111111111111111,
              "#46039f"
             ],
             [
              0.2222222222222222,
              "#7201a8"
             ],
             [
              0.3333333333333333,
              "#9c179e"
             ],
             [
              0.4444444444444444,
              "#bd3786"
             ],
             [
              0.5555555555555556,
              "#d8576b"
             ],
             [
              0.6666666666666666,
              "#ed7953"
             ],
             [
              0.7777777777777778,
              "#fb9f3a"
             ],
             [
              0.8888888888888888,
              "#fdca26"
             ],
             [
              1,
              "#f0f921"
             ]
            ],
            "type": "histogram2d"
           }
          ],
          "histogram2dcontour": [
           {
            "colorbar": {
             "outlinewidth": 0,
             "ticks": ""
            },
            "colorscale": [
             [
              0,
              "#0d0887"
             ],
             [
              0.1111111111111111,
              "#46039f"
             ],
             [
              0.2222222222222222,
              "#7201a8"
             ],
             [
              0.3333333333333333,
              "#9c179e"
             ],
             [
              0.4444444444444444,
              "#bd3786"
             ],
             [
              0.5555555555555556,
              "#d8576b"
             ],
             [
              0.6666666666666666,
              "#ed7953"
             ],
             [
              0.7777777777777778,
              "#fb9f3a"
             ],
             [
              0.8888888888888888,
              "#fdca26"
             ],
             [
              1,
              "#f0f921"
             ]
            ],
            "type": "histogram2dcontour"
           }
          ],
          "mesh3d": [
           {
            "colorbar": {
             "outlinewidth": 0,
             "ticks": ""
            },
            "type": "mesh3d"
           }
          ],
          "parcoords": [
           {
            "line": {
             "colorbar": {
              "outlinewidth": 0,
              "ticks": ""
             }
            },
            "type": "parcoords"
           }
          ],
          "pie": [
           {
            "automargin": true,
            "type": "pie"
           }
          ],
          "scatter": [
           {
            "fillpattern": {
             "fillmode": "overlay",
             "size": 10,
             "solidity": 0.2
            },
            "type": "scatter"
           }
          ],
          "scatter3d": [
           {
            "line": {
             "colorbar": {
              "outlinewidth": 0,
              "ticks": ""
             }
            },
            "marker": {
             "colorbar": {
              "outlinewidth": 0,
              "ticks": ""
             }
            },
            "type": "scatter3d"
           }
          ],
          "scattercarpet": [
           {
            "marker": {
             "colorbar": {
              "outlinewidth": 0,
              "ticks": ""
             }
            },
            "type": "scattercarpet"
           }
          ],
          "scattergeo": [
           {
            "marker": {
             "colorbar": {
              "outlinewidth": 0,
              "ticks": ""
             }
            },
            "type": "scattergeo"
           }
          ],
          "scattergl": [
           {
            "marker": {
             "colorbar": {
              "outlinewidth": 0,
              "ticks": ""
             }
            },
            "type": "scattergl"
           }
          ],
          "scattermapbox": [
           {
            "marker": {
             "colorbar": {
              "outlinewidth": 0,
              "ticks": ""
             }
            },
            "type": "scattermapbox"
           }
          ],
          "scatterpolar": [
           {
            "marker": {
             "colorbar": {
              "outlinewidth": 0,
              "ticks": ""
             }
            },
            "type": "scatterpolar"
           }
          ],
          "scatterpolargl": [
           {
            "marker": {
             "colorbar": {
              "outlinewidth": 0,
              "ticks": ""
             }
            },
            "type": "scatterpolargl"
           }
          ],
          "scatterternary": [
           {
            "marker": {
             "colorbar": {
              "outlinewidth": 0,
              "ticks": ""
             }
            },
            "type": "scatterternary"
           }
          ],
          "surface": [
           {
            "colorbar": {
             "outlinewidth": 0,
             "ticks": ""
            },
            "colorscale": [
             [
              0,
              "#0d0887"
             ],
             [
              0.1111111111111111,
              "#46039f"
             ],
             [
              0.2222222222222222,
              "#7201a8"
             ],
             [
              0.3333333333333333,
              "#9c179e"
             ],
             [
              0.4444444444444444,
              "#bd3786"
             ],
             [
              0.5555555555555556,
              "#d8576b"
             ],
             [
              0.6666666666666666,
              "#ed7953"
             ],
             [
              0.7777777777777778,
              "#fb9f3a"
             ],
             [
              0.8888888888888888,
              "#fdca26"
             ],
             [
              1,
              "#f0f921"
             ]
            ],
            "type": "surface"
           }
          ],
          "table": [
           {
            "cells": {
             "fill": {
              "color": "#EBF0F8"
             },
             "line": {
              "color": "white"
             }
            },
            "header": {
             "fill": {
              "color": "#C8D4E3"
             },
             "line": {
              "color": "white"
             }
            },
            "type": "table"
           }
          ]
         },
         "layout": {
          "annotationdefaults": {
           "arrowcolor": "#2a3f5f",
           "arrowhead": 0,
           "arrowwidth": 1
          },
          "autotypenumbers": "strict",
          "coloraxis": {
           "colorbar": {
            "outlinewidth": 0,
            "ticks": ""
           }
          },
          "colorscale": {
           "diverging": [
            [
             0,
             "#8e0152"
            ],
            [
             0.1,
             "#c51b7d"
            ],
            [
             0.2,
             "#de77ae"
            ],
            [
             0.3,
             "#f1b6da"
            ],
            [
             0.4,
             "#fde0ef"
            ],
            [
             0.5,
             "#f7f7f7"
            ],
            [
             0.6,
             "#e6f5d0"
            ],
            [
             0.7,
             "#b8e186"
            ],
            [
             0.8,
             "#7fbc41"
            ],
            [
             0.9,
             "#4d9221"
            ],
            [
             1,
             "#276419"
            ]
           ],
           "sequential": [
            [
             0,
             "#0d0887"
            ],
            [
             0.1111111111111111,
             "#46039f"
            ],
            [
             0.2222222222222222,
             "#7201a8"
            ],
            [
             0.3333333333333333,
             "#9c179e"
            ],
            [
             0.4444444444444444,
             "#bd3786"
            ],
            [
             0.5555555555555556,
             "#d8576b"
            ],
            [
             0.6666666666666666,
             "#ed7953"
            ],
            [
             0.7777777777777778,
             "#fb9f3a"
            ],
            [
             0.8888888888888888,
             "#fdca26"
            ],
            [
             1,
             "#f0f921"
            ]
           ],
           "sequentialminus": [
            [
             0,
             "#0d0887"
            ],
            [
             0.1111111111111111,
             "#46039f"
            ],
            [
             0.2222222222222222,
             "#7201a8"
            ],
            [
             0.3333333333333333,
             "#9c179e"
            ],
            [
             0.4444444444444444,
             "#bd3786"
            ],
            [
             0.5555555555555556,
             "#d8576b"
            ],
            [
             0.6666666666666666,
             "#ed7953"
            ],
            [
             0.7777777777777778,
             "#fb9f3a"
            ],
            [
             0.8888888888888888,
             "#fdca26"
            ],
            [
             1,
             "#f0f921"
            ]
           ]
          },
          "colorway": [
           "#636efa",
           "#EF553B",
           "#00cc96",
           "#ab63fa",
           "#FFA15A",
           "#19d3f3",
           "#FF6692",
           "#B6E880",
           "#FF97FF",
           "#FECB52"
          ],
          "font": {
           "color": "#2a3f5f"
          },
          "geo": {
           "bgcolor": "white",
           "lakecolor": "white",
           "landcolor": "#E5ECF6",
           "showlakes": true,
           "showland": true,
           "subunitcolor": "white"
          },
          "hoverlabel": {
           "align": "left"
          },
          "hovermode": "closest",
          "mapbox": {
           "style": "light"
          },
          "paper_bgcolor": "white",
          "plot_bgcolor": "#E5ECF6",
          "polar": {
           "angularaxis": {
            "gridcolor": "white",
            "linecolor": "white",
            "ticks": ""
           },
           "bgcolor": "#E5ECF6",
           "radialaxis": {
            "gridcolor": "white",
            "linecolor": "white",
            "ticks": ""
           }
          },
          "scene": {
           "xaxis": {
            "backgroundcolor": "#E5ECF6",
            "gridcolor": "white",
            "gridwidth": 2,
            "linecolor": "white",
            "showbackground": true,
            "ticks": "",
            "zerolinecolor": "white"
           },
           "yaxis": {
            "backgroundcolor": "#E5ECF6",
            "gridcolor": "white",
            "gridwidth": 2,
            "linecolor": "white",
            "showbackground": true,
            "ticks": "",
            "zerolinecolor": "white"
           },
           "zaxis": {
            "backgroundcolor": "#E5ECF6",
            "gridcolor": "white",
            "gridwidth": 2,
            "linecolor": "white",
            "showbackground": true,
            "ticks": "",
            "zerolinecolor": "white"
           }
          },
          "shapedefaults": {
           "line": {
            "color": "#2a3f5f"
           }
          },
          "ternary": {
           "aaxis": {
            "gridcolor": "white",
            "linecolor": "white",
            "ticks": ""
           },
           "baxis": {
            "gridcolor": "white",
            "linecolor": "white",
            "ticks": ""
           },
           "bgcolor": "#E5ECF6",
           "caxis": {
            "gridcolor": "white",
            "linecolor": "white",
            "ticks": ""
           }
          },
          "title": {
           "x": 0.05
          },
          "xaxis": {
           "automargin": true,
           "gridcolor": "white",
           "linecolor": "white",
           "ticks": "",
           "title": {
            "standoff": 15
           },
           "zerolinecolor": "white",
           "zerolinewidth": 2
          },
          "yaxis": {
           "automargin": true,
           "gridcolor": "white",
           "linecolor": "white",
           "ticks": "",
           "title": {
            "standoff": 15
           },
           "zerolinecolor": "white",
           "zerolinewidth": 2
          }
         }
        },
        "width": 1200,
        "xaxis": {
         "anchor": "y",
         "categoryorder": "total descending",
         "domain": [
          0,
          1
         ],
         "tickangle": -45,
         "title": {
          "text": "Distrito"
         }
        },
        "yaxis": {
         "anchor": "x",
         "domain": [
          0,
          1
         ],
         "title": {
          "text": "count"
         }
        }
       }
      }
     },
     "metadata": {},
     "output_type": "display_data"
    }
   ],
   "source": [
    "# How many diputados per District\n",
    "\n",
    "data.Distrito = data.Distrito.apply(lambda x: str(x))\n",
    "\n",
    "fig = px.bar(\n",
    "    data,\n",
    "    x='Distrito',\n",
    "    orientation='v',\n",
    "    color='Partido',\n",
    "    color_discrete_map={'Izquierda':'red','Centro':'gold','Derecha':'Blue'},\n",
    "    width=1200, height=400\n",
    ")\n",
    "\n",
    "fig.update_layout(xaxis={'categoryorder':'total descending'})\n",
    "fig.update_xaxes(tickangle=-45,)\n",
    "\n",
    "# newnames = {'R':'Republicans','D':'Democrats'}\n",
    "# fig.for_each_trace(lambda t: t.update(name = newnames[t.name]))\n",
    "fig.show()"
   ]
  },
  {
   "cell_type": "code",
   "execution_count": 87,
   "metadata": {},
   "outputs": [
    {
     "data": {
      "text/plain": [
       "23    5\n",
       "20    5\n",
       "19    4\n",
       "8     4\n",
       "6     4\n",
       "11    4\n",
       "17    4\n",
       "10    3\n",
       "22    3\n",
       "21    3\n",
       "9     3\n",
       "5     3\n",
       "24    2\n",
       "16    2\n",
       "14    2\n",
       "18    2\n",
       "25    2\n",
       "12    2\n",
       "13    2\n",
       "26    2\n",
       "7     2\n",
       "3     2\n",
       "15    2\n",
       "4     1\n",
       "2     1\n",
       "27    1\n",
       "1     1\n",
       "Name: Distrito, dtype: int64"
      ]
     },
     "execution_count": 87,
     "metadata": {},
     "output_type": "execute_result"
    }
   ],
   "source": [
    "data[data.Partido == 'Derecha'].Distrito.value_counts()"
   ]
  },
  {
   "cell_type": "code",
   "execution_count": 88,
   "metadata": {},
   "outputs": [
    {
     "data": {
      "text/plain": [
       "'Freire, Temuco, Pitrufquén, Loncoche, Carahue, Saavedra, Cholchol, Padre Las Casas, Nueva Imperial, Cunco, Pucón, Curarrehue, Toltén, Teodoro Schmidt, Villarrica, Gorbea'"
      ]
     },
     "execution_count": 88,
     "metadata": {},
     "output_type": "execute_result"
    }
   ],
   "source": [
    "data[(data.Partido == 'Derecha')&(data.Distrito == '23')]['Comunas'].iloc[0]"
   ]
  },
  {
   "cell_type": "code",
   "execution_count": 89,
   "metadata": {},
   "outputs": [
    {
     "data": {
      "text/plain": [
       "'Hualpén, Tomé, Penco, Concepción, Hualqui, Chiguayante, Florida, San Pedro de la Paz, Coronel, Santa Juana, Talcahuano'"
      ]
     },
     "execution_count": 89,
     "metadata": {},
     "output_type": "execute_result"
    }
   ],
   "source": [
    "data[(data.Partido == 'Derecha')&(data.Distrito == '20')]['Comunas'].iloc[0]"
   ]
  },
  {
   "cell_type": "code",
   "execution_count": 90,
   "metadata": {},
   "outputs": [
    {
     "data": {
      "text/plain": [
       "array([\"Región del Libertador General Bernardo O' Higgins\",\n",
       "       'Región del Maule', 'Región Metropolitana de Santiago',\n",
       "       'Región del Bío Bío', 'Región de Antofagasta',\n",
       "       'Región de Aysén del General Carlos Ibáñez del Campo',\n",
       "       'Región de Tarapacá', 'Región de Valparaíso',\n",
       "       'Región de Los Lagos', 'Región de La Araucanía',\n",
       "       'Región de Los Ríos',\n",
       "       'Región de Magallanes y de la Antártica Chilena',\n",
       "       'Región de Ñuble', 'Región de Coquimbo', 'Región de Atacama',\n",
       "       'Región de Arica y Parinacota'], dtype=object)"
      ]
     },
     "execution_count": 90,
     "metadata": {},
     "output_type": "execute_result"
    }
   ],
   "source": [
    "data.Región.unique()"
   ]
  },
  {
   "cell_type": "code",
   "execution_count": 96,
   "metadata": {},
   "outputs": [
    {
     "data": {
      "application/vnd.plotly.v1+json": {
       "config": {
        "plotlyServerURL": "https://plot.ly"
       },
       "data": [
        {
         "alignmentgroup": "True",
         "hovertemplate": "Partido=Izquierda<br>Region_updated=%{x}<br>count=%{y}<extra></extra>",
         "legendgroup": "Izquierda",
         "marker": {
          "color": "red",
          "pattern": {
           "shape": ""
          }
         },
         "name": "Izquierda",
         "offsetgroup": "Izquierda",
         "orientation": "v",
         "showlegend": true,
         "textposition": "auto",
         "type": "bar",
         "x": [
          "1",
          "2",
          "3",
          "4",
          "6",
          "5",
          "3",
          "7",
          "3",
          "8",
          "9",
          "12",
          "11",
          "8",
          "1",
          "2",
          "3",
          "14",
          "15",
          "8",
          "8",
          "3",
          "3",
          "3",
          "3",
          "4",
          "1",
          "2",
          "3",
          "3",
          "8",
          "11",
          "3",
          "10",
          "8",
          "3",
          "16",
          "14",
          "8",
          "12",
          "1",
          "3",
          "16",
          "3",
          "3",
          "12",
          "15",
          "3",
          "2",
          "9",
          "10",
          "3",
          "3",
          "5",
          "3",
          "3",
          "7",
          "1",
          "8",
          "11",
          "9",
          "4",
          "15",
          "3",
          "3",
          "2",
          "3",
          "3",
          "1",
          "15",
          "8",
          "14",
          "9",
          "3",
          "2",
          "8",
          "5",
          "3",
          "3"
         ],
         "xaxis": "x",
         "y": [
          1,
          1,
          1,
          1,
          1,
          1,
          1,
          1,
          1,
          1,
          1,
          1,
          1,
          1,
          1,
          1,
          1,
          1,
          1,
          1,
          1,
          1,
          1,
          1,
          1,
          1,
          1,
          1,
          1,
          1,
          1,
          1,
          1,
          1,
          1,
          1,
          1,
          1,
          1,
          1,
          1,
          1,
          1,
          1,
          1,
          1,
          1,
          1,
          1,
          1,
          1,
          1,
          1,
          1,
          1,
          1,
          1,
          1,
          1,
          1,
          1,
          1,
          1,
          1,
          1,
          1,
          1,
          1,
          1,
          1,
          1,
          1,
          1,
          1,
          1,
          1,
          1,
          1,
          1
         ],
         "yaxis": "y"
        },
        {
         "alignmentgroup": "True",
         "hovertemplate": "Partido=Centro<br>Region_updated=%{x}<br>count=%{y}<extra></extra>",
         "legendgroup": "Centro",
         "marker": {
          "color": "gold",
          "pattern": {
           "shape": ""
          }
         },
         "name": "Centro",
         "offsetgroup": "Centro",
         "orientation": "v",
         "showlegend": true,
         "textposition": "auto",
         "type": "bar",
         "x": [
          "4",
          "9",
          "6",
          "13",
          "14",
          "4",
          "10",
          "3"
         ],
         "xaxis": "x",
         "y": [
          1,
          1,
          1,
          1,
          1,
          1,
          1,
          1
         ],
         "yaxis": "y"
        },
        {
         "alignmentgroup": "True",
         "hovertemplate": "Partido=Derecha<br>Region_updated=%{x}<br>count=%{y}<extra></extra>",
         "legendgroup": "Derecha",
         "marker": {
          "color": "Blue",
          "pattern": {
           "shape": ""
          }
         },
         "name": "Derecha",
         "offsetgroup": "Derecha",
         "orientation": "v",
         "showlegend": true,
         "textposition": "auto",
         "type": "bar",
         "x": [
          "5",
          "3",
          "3",
          "4",
          "8",
          "10",
          "10",
          "2",
          "11",
          "4",
          "9",
          "13",
          "3",
          "5",
          "8",
          "15",
          "3",
          "13",
          "3",
          "1",
          "3",
          "3",
          "2",
          "3",
          "3",
          "8",
          "14",
          "9",
          "3",
          "9",
          "3",
          "3",
          "2",
          "3",
          "10",
          "16",
          "9",
          "8",
          "13",
          "4",
          "10",
          "3",
          "1",
          "3",
          "2",
          "4",
          "10",
          "10",
          "3",
          "3",
          "3",
          "4",
          "14",
          "2",
          "3",
          "6",
          "10",
          "2",
          "8",
          "3",
          "4",
          "1",
          "8",
          "13",
          "1",
          "10",
          "14",
          "7",
          "4",
          "11",
          "4"
         ],
         "xaxis": "x",
         "y": [
          1,
          1,
          1,
          1,
          1,
          1,
          1,
          1,
          1,
          1,
          1,
          1,
          1,
          1,
          1,
          1,
          1,
          1,
          1,
          1,
          1,
          1,
          1,
          1,
          1,
          1,
          1,
          1,
          1,
          1,
          1,
          1,
          1,
          1,
          1,
          1,
          1,
          1,
          1,
          1,
          1,
          1,
          1,
          1,
          1,
          1,
          1,
          1,
          1,
          1,
          1,
          1,
          1,
          1,
          1,
          1,
          1,
          1,
          1,
          1,
          1,
          1,
          1,
          1,
          1,
          1,
          1,
          1,
          1,
          1,
          1
         ],
         "yaxis": "y"
        }
       ],
       "layout": {
        "barmode": "relative",
        "height": 400,
        "legend": {
         "title": {
          "text": "Partido"
         },
         "tracegroupgap": 0
        },
        "margin": {
         "t": 60
        },
        "template": {
         "data": {
          "bar": [
           {
            "error_x": {
             "color": "#2a3f5f"
            },
            "error_y": {
             "color": "#2a3f5f"
            },
            "marker": {
             "line": {
              "color": "#E5ECF6",
              "width": 0.5
             },
             "pattern": {
              "fillmode": "overlay",
              "size": 10,
              "solidity": 0.2
             }
            },
            "type": "bar"
           }
          ],
          "barpolar": [
           {
            "marker": {
             "line": {
              "color": "#E5ECF6",
              "width": 0.5
             },
             "pattern": {
              "fillmode": "overlay",
              "size": 10,
              "solidity": 0.2
             }
            },
            "type": "barpolar"
           }
          ],
          "carpet": [
           {
            "aaxis": {
             "endlinecolor": "#2a3f5f",
             "gridcolor": "white",
             "linecolor": "white",
             "minorgridcolor": "white",
             "startlinecolor": "#2a3f5f"
            },
            "baxis": {
             "endlinecolor": "#2a3f5f",
             "gridcolor": "white",
             "linecolor": "white",
             "minorgridcolor": "white",
             "startlinecolor": "#2a3f5f"
            },
            "type": "carpet"
           }
          ],
          "choropleth": [
           {
            "colorbar": {
             "outlinewidth": 0,
             "ticks": ""
            },
            "type": "choropleth"
           }
          ],
          "contour": [
           {
            "colorbar": {
             "outlinewidth": 0,
             "ticks": ""
            },
            "colorscale": [
             [
              0,
              "#0d0887"
             ],
             [
              0.1111111111111111,
              "#46039f"
             ],
             [
              0.2222222222222222,
              "#7201a8"
             ],
             [
              0.3333333333333333,
              "#9c179e"
             ],
             [
              0.4444444444444444,
              "#bd3786"
             ],
             [
              0.5555555555555556,
              "#d8576b"
             ],
             [
              0.6666666666666666,
              "#ed7953"
             ],
             [
              0.7777777777777778,
              "#fb9f3a"
             ],
             [
              0.8888888888888888,
              "#fdca26"
             ],
             [
              1,
              "#f0f921"
             ]
            ],
            "type": "contour"
           }
          ],
          "contourcarpet": [
           {
            "colorbar": {
             "outlinewidth": 0,
             "ticks": ""
            },
            "type": "contourcarpet"
           }
          ],
          "heatmap": [
           {
            "colorbar": {
             "outlinewidth": 0,
             "ticks": ""
            },
            "colorscale": [
             [
              0,
              "#0d0887"
             ],
             [
              0.1111111111111111,
              "#46039f"
             ],
             [
              0.2222222222222222,
              "#7201a8"
             ],
             [
              0.3333333333333333,
              "#9c179e"
             ],
             [
              0.4444444444444444,
              "#bd3786"
             ],
             [
              0.5555555555555556,
              "#d8576b"
             ],
             [
              0.6666666666666666,
              "#ed7953"
             ],
             [
              0.7777777777777778,
              "#fb9f3a"
             ],
             [
              0.8888888888888888,
              "#fdca26"
             ],
             [
              1,
              "#f0f921"
             ]
            ],
            "type": "heatmap"
           }
          ],
          "heatmapgl": [
           {
            "colorbar": {
             "outlinewidth": 0,
             "ticks": ""
            },
            "colorscale": [
             [
              0,
              "#0d0887"
             ],
             [
              0.1111111111111111,
              "#46039f"
             ],
             [
              0.2222222222222222,
              "#7201a8"
             ],
             [
              0.3333333333333333,
              "#9c179e"
             ],
             [
              0.4444444444444444,
              "#bd3786"
             ],
             [
              0.5555555555555556,
              "#d8576b"
             ],
             [
              0.6666666666666666,
              "#ed7953"
             ],
             [
              0.7777777777777778,
              "#fb9f3a"
             ],
             [
              0.8888888888888888,
              "#fdca26"
             ],
             [
              1,
              "#f0f921"
             ]
            ],
            "type": "heatmapgl"
           }
          ],
          "histogram": [
           {
            "marker": {
             "pattern": {
              "fillmode": "overlay",
              "size": 10,
              "solidity": 0.2
             }
            },
            "type": "histogram"
           }
          ],
          "histogram2d": [
           {
            "colorbar": {
             "outlinewidth": 0,
             "ticks": ""
            },
            "colorscale": [
             [
              0,
              "#0d0887"
             ],
             [
              0.1111111111111111,
              "#46039f"
             ],
             [
              0.2222222222222222,
              "#7201a8"
             ],
             [
              0.3333333333333333,
              "#9c179e"
             ],
             [
              0.4444444444444444,
              "#bd3786"
             ],
             [
              0.5555555555555556,
              "#d8576b"
             ],
             [
              0.6666666666666666,
              "#ed7953"
             ],
             [
              0.7777777777777778,
              "#fb9f3a"
             ],
             [
              0.8888888888888888,
              "#fdca26"
             ],
             [
              1,
              "#f0f921"
             ]
            ],
            "type": "histogram2d"
           }
          ],
          "histogram2dcontour": [
           {
            "colorbar": {
             "outlinewidth": 0,
             "ticks": ""
            },
            "colorscale": [
             [
              0,
              "#0d0887"
             ],
             [
              0.1111111111111111,
              "#46039f"
             ],
             [
              0.2222222222222222,
              "#7201a8"
             ],
             [
              0.3333333333333333,
              "#9c179e"
             ],
             [
              0.4444444444444444,
              "#bd3786"
             ],
             [
              0.5555555555555556,
              "#d8576b"
             ],
             [
              0.6666666666666666,
              "#ed7953"
             ],
             [
              0.7777777777777778,
              "#fb9f3a"
             ],
             [
              0.8888888888888888,
              "#fdca26"
             ],
             [
              1,
              "#f0f921"
             ]
            ],
            "type": "histogram2dcontour"
           }
          ],
          "mesh3d": [
           {
            "colorbar": {
             "outlinewidth": 0,
             "ticks": ""
            },
            "type": "mesh3d"
           }
          ],
          "parcoords": [
           {
            "line": {
             "colorbar": {
              "outlinewidth": 0,
              "ticks": ""
             }
            },
            "type": "parcoords"
           }
          ],
          "pie": [
           {
            "automargin": true,
            "type": "pie"
           }
          ],
          "scatter": [
           {
            "fillpattern": {
             "fillmode": "overlay",
             "size": 10,
             "solidity": 0.2
            },
            "type": "scatter"
           }
          ],
          "scatter3d": [
           {
            "line": {
             "colorbar": {
              "outlinewidth": 0,
              "ticks": ""
             }
            },
            "marker": {
             "colorbar": {
              "outlinewidth": 0,
              "ticks": ""
             }
            },
            "type": "scatter3d"
           }
          ],
          "scattercarpet": [
           {
            "marker": {
             "colorbar": {
              "outlinewidth": 0,
              "ticks": ""
             }
            },
            "type": "scattercarpet"
           }
          ],
          "scattergeo": [
           {
            "marker": {
             "colorbar": {
              "outlinewidth": 0,
              "ticks": ""
             }
            },
            "type": "scattergeo"
           }
          ],
          "scattergl": [
           {
            "marker": {
             "colorbar": {
              "outlinewidth": 0,
              "ticks": ""
             }
            },
            "type": "scattergl"
           }
          ],
          "scattermapbox": [
           {
            "marker": {
             "colorbar": {
              "outlinewidth": 0,
              "ticks": ""
             }
            },
            "type": "scattermapbox"
           }
          ],
          "scatterpolar": [
           {
            "marker": {
             "colorbar": {
              "outlinewidth": 0,
              "ticks": ""
             }
            },
            "type": "scatterpolar"
           }
          ],
          "scatterpolargl": [
           {
            "marker": {
             "colorbar": {
              "outlinewidth": 0,
              "ticks": ""
             }
            },
            "type": "scatterpolargl"
           }
          ],
          "scatterternary": [
           {
            "marker": {
             "colorbar": {
              "outlinewidth": 0,
              "ticks": ""
             }
            },
            "type": "scatterternary"
           }
          ],
          "surface": [
           {
            "colorbar": {
             "outlinewidth": 0,
             "ticks": ""
            },
            "colorscale": [
             [
              0,
              "#0d0887"
             ],
             [
              0.1111111111111111,
              "#46039f"
             ],
             [
              0.2222222222222222,
              "#7201a8"
             ],
             [
              0.3333333333333333,
              "#9c179e"
             ],
             [
              0.4444444444444444,
              "#bd3786"
             ],
             [
              0.5555555555555556,
              "#d8576b"
             ],
             [
              0.6666666666666666,
              "#ed7953"
             ],
             [
              0.7777777777777778,
              "#fb9f3a"
             ],
             [
              0.8888888888888888,
              "#fdca26"
             ],
             [
              1,
              "#f0f921"
             ]
            ],
            "type": "surface"
           }
          ],
          "table": [
           {
            "cells": {
             "fill": {
              "color": "#EBF0F8"
             },
             "line": {
              "color": "white"
             }
            },
            "header": {
             "fill": {
              "color": "#C8D4E3"
             },
             "line": {
              "color": "white"
             }
            },
            "type": "table"
           }
          ]
         },
         "layout": {
          "annotationdefaults": {
           "arrowcolor": "#2a3f5f",
           "arrowhead": 0,
           "arrowwidth": 1
          },
          "autotypenumbers": "strict",
          "coloraxis": {
           "colorbar": {
            "outlinewidth": 0,
            "ticks": ""
           }
          },
          "colorscale": {
           "diverging": [
            [
             0,
             "#8e0152"
            ],
            [
             0.1,
             "#c51b7d"
            ],
            [
             0.2,
             "#de77ae"
            ],
            [
             0.3,
             "#f1b6da"
            ],
            [
             0.4,
             "#fde0ef"
            ],
            [
             0.5,
             "#f7f7f7"
            ],
            [
             0.6,
             "#e6f5d0"
            ],
            [
             0.7,
             "#b8e186"
            ],
            [
             0.8,
             "#7fbc41"
            ],
            [
             0.9,
             "#4d9221"
            ],
            [
             1,
             "#276419"
            ]
           ],
           "sequential": [
            [
             0,
             "#0d0887"
            ],
            [
             0.1111111111111111,
             "#46039f"
            ],
            [
             0.2222222222222222,
             "#7201a8"
            ],
            [
             0.3333333333333333,
             "#9c179e"
            ],
            [
             0.4444444444444444,
             "#bd3786"
            ],
            [
             0.5555555555555556,
             "#d8576b"
            ],
            [
             0.6666666666666666,
             "#ed7953"
            ],
            [
             0.7777777777777778,
             "#fb9f3a"
            ],
            [
             0.8888888888888888,
             "#fdca26"
            ],
            [
             1,
             "#f0f921"
            ]
           ],
           "sequentialminus": [
            [
             0,
             "#0d0887"
            ],
            [
             0.1111111111111111,
             "#46039f"
            ],
            [
             0.2222222222222222,
             "#7201a8"
            ],
            [
             0.3333333333333333,
             "#9c179e"
            ],
            [
             0.4444444444444444,
             "#bd3786"
            ],
            [
             0.5555555555555556,
             "#d8576b"
            ],
            [
             0.6666666666666666,
             "#ed7953"
            ],
            [
             0.7777777777777778,
             "#fb9f3a"
            ],
            [
             0.8888888888888888,
             "#fdca26"
            ],
            [
             1,
             "#f0f921"
            ]
           ]
          },
          "colorway": [
           "#636efa",
           "#EF553B",
           "#00cc96",
           "#ab63fa",
           "#FFA15A",
           "#19d3f3",
           "#FF6692",
           "#B6E880",
           "#FF97FF",
           "#FECB52"
          ],
          "font": {
           "color": "#2a3f5f"
          },
          "geo": {
           "bgcolor": "white",
           "lakecolor": "white",
           "landcolor": "#E5ECF6",
           "showlakes": true,
           "showland": true,
           "subunitcolor": "white"
          },
          "hoverlabel": {
           "align": "left"
          },
          "hovermode": "closest",
          "mapbox": {
           "style": "light"
          },
          "paper_bgcolor": "white",
          "plot_bgcolor": "#E5ECF6",
          "polar": {
           "angularaxis": {
            "gridcolor": "white",
            "linecolor": "white",
            "ticks": ""
           },
           "bgcolor": "#E5ECF6",
           "radialaxis": {
            "gridcolor": "white",
            "linecolor": "white",
            "ticks": ""
           }
          },
          "scene": {
           "xaxis": {
            "backgroundcolor": "#E5ECF6",
            "gridcolor": "white",
            "gridwidth": 2,
            "linecolor": "white",
            "showbackground": true,
            "ticks": "",
            "zerolinecolor": "white"
           },
           "yaxis": {
            "backgroundcolor": "#E5ECF6",
            "gridcolor": "white",
            "gridwidth": 2,
            "linecolor": "white",
            "showbackground": true,
            "ticks": "",
            "zerolinecolor": "white"
           },
           "zaxis": {
            "backgroundcolor": "#E5ECF6",
            "gridcolor": "white",
            "gridwidth": 2,
            "linecolor": "white",
            "showbackground": true,
            "ticks": "",
            "zerolinecolor": "white"
           }
          },
          "shapedefaults": {
           "line": {
            "color": "#2a3f5f"
           }
          },
          "ternary": {
           "aaxis": {
            "gridcolor": "white",
            "linecolor": "white",
            "ticks": ""
           },
           "baxis": {
            "gridcolor": "white",
            "linecolor": "white",
            "ticks": ""
           },
           "bgcolor": "#E5ECF6",
           "caxis": {
            "gridcolor": "white",
            "linecolor": "white",
            "ticks": ""
           }
          },
          "title": {
           "x": 0.05
          },
          "xaxis": {
           "automargin": true,
           "gridcolor": "white",
           "linecolor": "white",
           "ticks": "",
           "title": {
            "standoff": 15
           },
           "zerolinecolor": "white",
           "zerolinewidth": 2
          },
          "yaxis": {
           "automargin": true,
           "gridcolor": "white",
           "linecolor": "white",
           "ticks": "",
           "title": {
            "standoff": 15
           },
           "zerolinecolor": "white",
           "zerolinewidth": 2
          }
         }
        },
        "width": 1200,
        "xaxis": {
         "anchor": "y",
         "categoryorder": "total descending",
         "domain": [
          0,
          1
         ],
         "tickangle": -45,
         "title": {
          "text": "Region_updated"
         }
        },
        "yaxis": {
         "anchor": "x",
         "domain": [
          0,
          1
         ],
         "title": {
          "text": "count"
         }
        }
       }
      }
     },
     "metadata": {},
     "output_type": "display_data"
    }
   ],
   "source": [
    "# How many diputados per Región\n",
    "\n",
    "Region_map = {\n",
    "    \"Región del Libertador General Bernardo O' Higgins\":'1',\n",
    "    'Región del Maule':                 '2',\n",
    "    'Región Metropolitana de Santiago': '3',\n",
    "    'Región del Bío Bío':               '4',\n",
    "    'Región de Antofagasta':            '5',\n",
    "    'Región de Aysén del General Carlos Ibáñez del Campo': '6',\n",
    "    'Región de Tarapacá':               '7',\n",
    "    'Región de Valparaíso':             '8',\n",
    "    'Región de Los Lagos':              '9',\n",
    "    'Región de La Araucanía':           '10',\n",
    "    'Región de Los Ríos':               '11',\n",
    "    'Región de Magallanes y de la Antártica Chilena': '12',\n",
    "    'Región de Ñuble':                  '13',\n",
    "    'Región de Coquimbo':               '14',\n",
    "    'Región de Atacama':                '15',\n",
    "    'Región de Arica y Parinacota' :    '16'\n",
    "}\n",
    "\n",
    "data['Region_updated'] = data.Región.map(Region_map)\n",
    "\n",
    "fig = px.bar(\n",
    "    data,\n",
    "    x='Region_updated',\n",
    "    orientation='v',\n",
    "    color='Partido',\n",
    "    color_discrete_map={'Izquierda':'red','Centro':'gold','Derecha':'Blue'},\n",
    "    width=1200, height=400\n",
    ")\n",
    "\n",
    "fig.update_layout(xaxis={'categoryorder':'total descending'})\n",
    "fig.update_xaxes(tickangle=-45,)\n",
    "\n",
    "# newnames = {'R':'Republicans','D':'Democrats'}\n",
    "# fig.for_each_trace(lambda t: t.update(name = newnames[t.name]))\n",
    "fig.show()"
   ]
  },
  {
   "cell_type": "code",
   "execution_count": 105,
   "metadata": {},
   "outputs": [
    {
     "data": {
      "text/plain": [
       "'Pinto, Quillón, San Ignacio, Coihueco, Ninhue, Ránquil, San Nicolás, Bulnes, Yungay, Portezuelo, Ñiquén, El Carmen, San Carlos, Chillán Viejo, Treguaco, Chillán, Pemuco, Quirihue, Cobquecura, Coelemu, San Fabián'"
      ]
     },
     "execution_count": 105,
     "metadata": {},
     "output_type": "execute_result"
    }
   ],
   "source": [
    "# Region 10 and 13 are looking goooooood\n",
    "data[data.Region_updated == '13']['Región'].iloc[0] # Ñuble \n",
    "data[data.Region_updated == '13']['Comunas'].iloc[0]"
   ]
  },
  {
   "cell_type": "code",
   "execution_count": 100,
   "metadata": {},
   "outputs": [
    {
     "data": {
      "text/plain": [
       "'Freire, Temuco, Pitrufquén, Loncoche, Carahue, Saavedra, Cholchol, Padre Las Casas, Nueva Imperial, Cunco, Pucón, Curarrehue, Toltén, Teodoro Schmidt, Villarrica, Gorbea'"
      ]
     },
     "execution_count": 100,
     "metadata": {},
     "output_type": "execute_result"
    }
   ],
   "source": [
    "# Region 10 and 13 are looking goooooood\n",
    "data[data.Region_updated == '10']['Comunas'].iloc[0]"
   ]
  },
  {
   "cell_type": "code",
   "execution_count": 101,
   "metadata": {},
   "outputs": [
    {
     "data": {
      "text/plain": [
       "'Vallenar, Alto del Carmen, Chañaral, Diego de Almagro, Copiapó, Caldera, Tierra Amarilla, Freirina, Huasco'"
      ]
     },
     "execution_count": 101,
     "metadata": {},
     "output_type": "execute_result"
    }
   ],
   "source": [
    "data[data.Region_updated == '15']['Comunas'].iloc[0]"
   ]
  },
  {
   "cell_type": "code",
   "execution_count": 103,
   "metadata": {},
   "outputs": [
    {
     "data": {
      "text/plain": [
       "'Hualpén, Tomé, Penco, Concepción, Hualqui, Chiguayante, Florida, San Pedro de la Paz, Coronel, Santa Juana, Talcahuano'"
      ]
     },
     "execution_count": 103,
     "metadata": {},
     "output_type": "execute_result"
    }
   ],
   "source": [
    "data[data.Region_updated == '4']['Comunas'].iloc[0]"
   ]
  },
  {
   "cell_type": "code",
   "execution_count": 108,
   "metadata": {},
   "outputs": [
    {
     "data": {
      "image/png": "[encoded data removed]"
     },
     "metadata": {},
     "output_type": "display_data"
    }
   ],
   "source": [
    "fig = px.pie(\n",
    "    data,\n",
    "    names='Partido',\n",
    "    color='Partido',\n",
    "    color_discrete_map={'Izquierda':'red','Centro':'gold','Derecha':'Blue'}\n",
    ")\n",
    "\n",
    "fig.update_traces(textfont_size=22,textinfo='percent+value')\n",
    "\n",
    "fig.show(\"png\")"
   ]
  },
  {
   "cell_type": "code",
   "execution_count": null,
   "metadata": {},
   "outputs": [],
   "source": []
  }
 ],
 "metadata": {
  "kernelspec": {
   "display_name": "Python 3.9.0 64-bit",
   "language": "python",
   "name": "python3"
  },
  "language_info": {
   "codemirror_mode": {
    "name": "ipython",
    "version": 3
   },
   "file_extension": ".py",
   "mimetype": "text/x-python",
   "name": "python",
   "nbconvert_exporter": "python",
   "pygments_lexer": "ipython3",
   "version": "3.9.0"
  },
  "orig_nbformat": 4,
  "vscode": {
   "interpreter": {
    "hash": "397704579725e15f5c7cb49fe5f0341eb7531c82d19f2c29d197e8b64ab5776b"
   }
  }
 },
 "nbformat": 4,
 "nbformat_minor": 2
}
