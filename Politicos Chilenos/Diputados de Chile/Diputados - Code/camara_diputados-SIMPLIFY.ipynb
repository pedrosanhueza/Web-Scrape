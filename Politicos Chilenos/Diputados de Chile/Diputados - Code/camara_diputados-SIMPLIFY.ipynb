{
 "cells": [
  {
   "cell_type": "code",
   "execution_count": null,
   "metadata": {},
   "outputs": [],
   "source": [
    "import requests\n",
    "from bs4 import BeautifulSoup\n",
    "import pandas as pd"
   ]
  },
  {
   "cell_type": "code",
   "execution_count": null,
   "metadata": {},
   "outputs": [],
   "source": [
    "url = 'https://www.camara.cl/diputados/diputados.aspx#mostrarDiputados'\n",
    "response = requests.get(url)\n",
    "soup = BeautifulSoup(response.text, 'html.parser')\n",
    "\n",
    "# lista de url perfiles\n",
    "profiles_uls = [x.find('a')['href'] for x in soup.find_all('article',{'class':'grid-2'})]\n",
    "\n",
    "url.split('/')[3]\n",
    "# running time: 3 min 2s\n",
    "\n",
    "rows=[]\n",
    "\n",
    "for profile in profiles_uls:\n",
    "\n",
    "    url = 'https://www.camara.cl/diputados/' + profile\n",
    "    response = requests.get(url)\n",
    "    soup = BeautifulSoup(response.text, 'html.parser')\n",
    "\n",
    "    row={}\n",
    "    row['Nombre'] = soup.find('h2').text[9:]\n",
    "    row['Periodos parlamentarios'] = str([x.text for x in soup.find_all('div',{'class':'grid-2 aleft m-left14'})[2].find_all('li')[1:]]).replace('\\'','')[1:-1]\n",
    "    row['Comunas'] =        soup.find_all('p')[2].text.split('\\n')[1].split(':')[1].strip()\n",
    "    row['Distrito'] =       soup.find_all('p')[2].text.split('\\n')[2].split(':')[1].strip().replace('Nº ','')\n",
    "    row['Región'] =         soup.find_all('p')[2].text.split('\\n')[3].split(':')[1].strip()\n",
    "    row['Período Actual'] = soup.find_all('p')[2].text.split('\\n')[4].split(':')[1].strip()\n",
    "    row['Partido'] =        soup.find_all('p')[2].text.split('\\n')[5].split(':')[1].strip()\n",
    "    row['Bancada'] =        soup.find_all('p')[2].text.split('\\n')[6].split(':')[1].strip()\n",
    "    row['Email'] =          soup.find('i',{'class':'fa fa-envelope-o'}).parent.text.split('\\n')[-1].split()[0]\n",
    "    rows.append(row)\n",
    "\n",
    "data = pd.DataFrame(rows)"
   ]
  }
 ],
 "metadata": {
  "kernelspec": {
   "display_name": "Python 3.9.0 64-bit",
   "language": "python",
   "name": "python3"
  },
  "language_info": {
   "codemirror_mode": {
    "name": "ipython",
    "version": 3
   },
   "file_extension": ".py",
   "mimetype": "text/x-python",
   "name": "python",
   "nbconvert_exporter": "python",
   "pygments_lexer": "ipython3",
   "version": "3.9.0"
  },
  "orig_nbformat": 4,
  "vscode": {
   "interpreter": {
    "hash": "397704579725e15f5c7cb49fe5f0341eb7531c82d19f2c29d197e8b64ab5776b"
   }
  }
 },
 "nbformat": 4,
 "nbformat_minor": 2
}
