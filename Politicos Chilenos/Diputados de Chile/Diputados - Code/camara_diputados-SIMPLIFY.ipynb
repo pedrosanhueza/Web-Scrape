{
 "cells": [
  {
   "cell_type": "code",
   "execution_count": 1,
   "metadata": {},
   "outputs": [],
   "source": [
    "import requests\n",
    "from bs4 import BeautifulSoup\n",
    "import pandas as pd"
   ]
  },
  {
   "cell_type": "code",
   "execution_count": 2,
   "metadata": {},
   "outputs": [],
   "source": [
    "url = 'https://www.camara.cl/diputados/diputados.aspx#mostrarDiputados'\n",
    "\n",
    "response = requests.get(url)\n",
    "\n",
    "soup = BeautifulSoup(response.text, 'html.parser')"
   ]
  },
  {
   "cell_type": "code",
   "execution_count": null,
   "metadata": {},
   "outputs": [],
   "source": []
  },
  {
   "cell_type": "code",
   "execution_count": 70,
   "metadata": {},
   "outputs": [],
   "source": [
    "diputados = []\n",
    "for diputado in soup.find_all('article',{'class':'grid-2'}):\n",
    "    row = {}\n",
    "    row['ID'] = diputado.find('a')['href'].split('=')[-1]\n",
    "    row['Name'] = diputado.find('h4').text\n",
    "    row['Distrito'] = diputado.find('p').text\n",
    "    row['Partido'] = diputado.find_all('p')[-1].text\n",
    "    row['website'] = 'https://www.camara.cl/diputados/' + diputado.find('a')['href']\n",
    "    row['img'] = 'https://www.camara.cl' + diputado.find('img')['src']\n",
    "    diputados.append(row)\n",
    "\n",
    "data_simple = pd.DataFrame(diputados)"
   ]
  },
  {
   "cell_type": "code",
   "execution_count": null,
   "metadata": {},
   "outputs": [],
   "source": []
  }
 ],
 "metadata": {
  "kernelspec": {
   "display_name": "Python 3.9.0 64-bit",
   "language": "python",
   "name": "python3"
  },
  "language_info": {
   "codemirror_mode": {
    "name": "ipython",
    "version": 3
   },
   "file_extension": ".py",
   "mimetype": "text/x-python",
   "name": "python",
   "nbconvert_exporter": "python",
   "pygments_lexer": "ipython3",
   "version": "3.9.0"
  },
  "orig_nbformat": 4,
  "vscode": {
   "interpreter": {
    "hash": "397704579725e15f5c7cb49fe5f0341eb7531c82d19f2c29d197e8b64ab5776b"
   }
  }
 },
 "nbformat": 4,
 "nbformat_minor": 2
}
