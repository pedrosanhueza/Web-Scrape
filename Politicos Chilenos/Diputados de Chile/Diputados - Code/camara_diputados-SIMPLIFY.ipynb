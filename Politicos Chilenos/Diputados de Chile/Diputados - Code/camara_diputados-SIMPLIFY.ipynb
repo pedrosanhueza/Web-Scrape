{
 "cells": [
  {
   "cell_type": "code",
   "execution_count": 1,
   "metadata": {},
   "outputs": [],
   "source": [
    "import requests\n",
    "from bs4 import BeautifulSoup\n",
    "import pandas as pd"
   ]
  },
  {
   "cell_type": "code",
   "execution_count": 2,
   "metadata": {},
   "outputs": [],
   "source": [
    "url = 'https://www.camara.cl/diputados/diputados.aspx#mostrarDiputados'\n",
    "\n",
    "response = requests.get(url)\n",
    "\n",
    "soup = BeautifulSoup(response.text, 'html.parser')"
   ]
  },
  {
   "cell_type": "code",
   "execution_count": 3,
   "metadata": {},
   "outputs": [],
   "source": [
    "diputados = []\n",
    "for diputado in soup.find_all('article',{'class':'grid-2'}):\n",
    "    row = {}\n",
    "    row['ID'] = diputado.find('a')['href'].split('=')[-1]\n",
    "    row['Name'] = diputado.find('h4').text\n",
    "    row['Distrito'] = diputado.find('p').text\n",
    "    row['Partido'] = diputado.find_all('p')[-1].text\n",
    "    row['website'] = 'https://www.camara.cl/diputados/' + diputado.find('a')['href']\n",
    "    row['img'] = 'https://www.camara.cl' + diputado.find('img')['src']\n",
    "    diputados.append(row)\n",
    "\n",
    "data_simple = pd.DataFrame(diputados)"
   ]
  },
  {
   "cell_type": "code",
   "execution_count": 5,
   "metadata": {},
   "outputs": [],
   "source": [
    "data_simple.ID = data_simple.ID.apply(lambda x: int(x))\n",
    "ID_options = data_simple.ID.sort_values().to_list()"
   ]
  },
  {
   "cell_type": "code",
   "execution_count": 17,
   "metadata": {},
   "outputs": [
    {
     "data": {
      "text/html": [
       "<div>\n",
       "<style scoped>\n",
       "    .dataframe tbody tr th:only-of-type {\n",
       "        vertical-align: middle;\n",
       "    }\n",
       "\n",
       "    .dataframe tbody tr th {\n",
       "        vertical-align: top;\n",
       "    }\n",
       "\n",
       "    .dataframe thead th {\n",
       "        text-align: right;\n",
       "    }\n",
       "</style>\n",
       "<table border=\"1\" class=\"dataframe\">\n",
       "  <thead>\n",
       "    <tr style=\"text-align: right;\">\n",
       "      <th></th>\n",
       "      <th>ID</th>\n",
       "      <th>Name</th>\n",
       "      <th>Distrito</th>\n",
       "      <th>Partido</th>\n",
       "    </tr>\n",
       "  </thead>\n",
       "  <tbody>\n",
       "    <tr>\n",
       "      <th>117</th>\n",
       "      <td>1067</td>\n",
       "      <td>Sr. Hugo Rey</td>\n",
       "      <td>Distrito: N°17</td>\n",
       "      <td>Partido: RN</td>\n",
       "    </tr>\n",
       "  </tbody>\n",
       "</table>\n",
       "</div>"
      ],
      "text/plain": [
       "       ID          Name        Distrito      Partido\n",
       "117  1067  Sr. Hugo Rey  Distrito: N°17  Partido: RN"
      ]
     },
     "execution_count": 17,
     "metadata": {},
     "output_type": "execute_result"
    }
   ],
   "source": [
    "data_simple[data_simple.ID == 1067].iloc[:,:-2]"
   ]
  },
  {
   "cell_type": "code",
   "execution_count": 14,
   "metadata": {},
   "outputs": [
    {
     "data": {
      "text/plain": [
       "{'ID': 1067,\n",
       " 'Name': 'Sr. Hugo Rey',\n",
       " 'Distrito': 'Distrito: N°17',\n",
       " 'Partido': 'Partido: RN'}"
      ]
     },
     "execution_count": 14,
     "metadata": {},
     "output_type": "execute_result"
    }
   ],
   "source": [
    "{'ID': 1067,\n",
    " 'Name': 'Sr. Hugo Rey',\n",
    " 'Distrito': 'Distrito: N°17',\n",
    " 'Partido': 'Partido: RN'}"
   ]
  },
  {
   "cell_type": "code",
   "execution_count": null,
   "metadata": {},
   "outputs": [],
   "source": []
  }
 ],
 "metadata": {
  "kernelspec": {
   "display_name": "Python 3.9.0 64-bit",
   "language": "python",
   "name": "python3"
  },
  "language_info": {
   "codemirror_mode": {
    "name": "ipython",
    "version": 3
   },
   "file_extension": ".py",
   "mimetype": "text/x-python",
   "name": "python",
   "nbconvert_exporter": "python",
   "pygments_lexer": "ipython3",
   "version": "3.9.0"
  },
  "orig_nbformat": 4,
  "vscode": {
   "interpreter": {
    "hash": "397704579725e15f5c7cb49fe5f0341eb7531c82d19f2c29d197e8b64ab5776b"
   }
  }
 },
 "nbformat": 4,
 "nbformat_minor": 2
}
