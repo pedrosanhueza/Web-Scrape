{
 "cells": [
  {
   "cell_type": "code",
   "execution_count": 1,
   "metadata": {},
   "outputs": [],
   "source": [
    "import requests\n",
    "from bs4 import BeautifulSoup\n",
    "import pandas as pd\n"
   ]
  },
  {
   "attachments": {},
   "cell_type": "markdown",
   "metadata": {},
   "source": [
    "## Movies"
   ]
  },
  {
   "cell_type": "code",
   "execution_count": null,
   "metadata": {},
   "outputs": [],
   "source": [
    "#12min\n",
    "urls = ['https://www.freemovies360.com/movie?page=' + str(x) for x in range(1,1222)]\n",
    "\n",
    "rows= []\n",
    "\n",
    "for url in urls[:2]:\n",
    "    response = requests.get(url)\n",
    "    soup = BeautifulSoup(response.text, 'html.parser')\n",
    "    \n",
    "    movies = soup.find_all('div',{'class':'flw-item'})\n",
    "    \n",
    "    for movie in movies:\n",
    "        row={}\n",
    "        row['Title'] = movie.find('h2').find('a')['title']\n",
    "        fd_info =  movie.find('div',{'class':'fd-infor'}).text.split('\\n')\n",
    "        row['Year'] = fd_info[1]\n",
    "        row['Durations'] = fd_info[3][:-1]\n",
    "        row['Movie/TV'] = fd_info[4]\n",
    "        try:\n",
    "            row['Quality'] = movie.find('div',{'class':'pick film-poster-quality'}).text\n",
    "        except:\n",
    "            pass\n",
    "        row['Image'] = movie.find('img')['data-src']\n",
    "        rows.append(row)\n",
    "\n",
    "df_movies = pd.DataFrame(rows)\n",
    "\n",
    "df_movies.to_csv('freemovies360-df_movies.csv', index=False)"
   ]
  },
  {
   "attachments": {},
   "cell_type": "markdown",
   "metadata": {},
   "source": [
    "## TV shows"
   ]
  },
  {
   "cell_type": "code",
   "execution_count": 47,
   "metadata": {},
   "outputs": [],
   "source": [
    "#4min\n",
    "urls = ['https://www.freemovies360.com/tv-show?page=' + str(x) for x in range(1,380)]\n",
    "\n",
    "rows= []\n",
    "\n",
    "for url in urls[:2]:\n",
    "    response = requests.get(url)\n",
    "    soup = BeautifulSoup(response.text, 'html.parser')\n",
    "    \n",
    "    shows = soup.find_all('div',{'class':'flw-item'})\n",
    "    \n",
    "    for show in shows:\n",
    "        row={}\n",
    "        row['Title'] = show.find('h2').find('a')['title']\n",
    "        row['Movie/TV'] = fd_info[4]\n",
    "        fd_info =  show.find('div',{'class':'fd-infor'}).text.split('\\n')\n",
    "        row['Seasson'] = fd_info[1]\n",
    "        row['Episode'] = fd_info[3]\n",
    "        row['Movie/TV'] = fd_info[4]\n",
    "        try:\n",
    "            row['Quality'] = show.find('div',{'class':'pick film-poster-quality'}).text\n",
    "        except:\n",
    "            pass\n",
    "        row['Image'] = show.find('img')['data-src']\n",
    "        rows.append(row)\n",
    "\n",
    "df_tvshows = pd.DataFrame(rows)\n",
    "\n",
    "df_tvshows.to_csv('freemovies360-df_tvshows.csv', index=False)"
   ]
  }
 ],
 "metadata": {
  "kernelspec": {
   "display_name": "Python 3",
   "language": "python",
   "name": "python3"
  },
  "language_info": {
   "codemirror_mode": {
    "name": "ipython",
    "version": 3
   },
   "file_extension": ".py",
   "mimetype": "text/x-python",
   "name": "python",
   "nbconvert_exporter": "python",
   "pygments_lexer": "ipython3",
   "version": "3.9.0"
  },
  "orig_nbformat": 4
 },
 "nbformat": 4,
 "nbformat_minor": 2
}
