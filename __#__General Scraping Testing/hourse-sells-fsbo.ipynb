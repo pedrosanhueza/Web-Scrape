{
 "cells": [
  {
   "cell_type": "code",
   "execution_count": 27,
   "metadata": {},
   "outputs": [],
   "source": [
    "import requests\n",
    "from bs4 import BeautifulSoup\n",
    "import pandas as pd\n",
    "import math\n",
    "import time"
   ]
  },
  {
   "cell_type": "code",
   "execution_count": 18,
   "metadata": {},
   "outputs": [],
   "source": [
    "url = 'https://www.realtor.com/sitemap'\n",
    "\n",
    "response = requests.get(url)\n",
    "\n",
    "soup = BeautifulSoup(response.text)"
   ]
  },
  {
   "cell_type": "code",
   "execution_count": 19,
   "metadata": {},
   "outputs": [],
   "source": [
    "hyper_references = [x['href'] + '/pg-' for x in  soup.find('div',{'class','row link-tertiary margin-bottom-lg'}).find_all('a')]"
   ]
  },
  {
   "cell_type": "code",
   "execution_count": 30,
   "metadata": {},
   "outputs": [
    {
     "data": {
      "text/plain": [
       "50"
      ]
     },
     "execution_count": 30,
     "metadata": {},
     "output_type": "execute_result"
    }
   ],
   "source": [
    "len(hyper_references)"
   ]
  },
  {
   "cell_type": "code",
   "execution_count": 3,
   "metadata": {},
   "outputs": [
    {
     "name": "stdout",
     "output_type": "stream",
     "text": [
      "200\n"
     ]
    }
   ],
   "source": [
    "page = 1\n",
    "\n",
    "url = f'https://www.realtor.com/realestateandhomes-search/Idaho/pg-{page}'\n",
    "\n",
    "header = {'User-Agent': 'Mozilla/5.0 (Macintosh; Intel Mac OS X 10_15_4) AppleWebKit/537.36 (KHTML, like Gecko) Chrome/83.0.4103.97 Safari/537.36'}\n",
    "\n",
    "header = {'User-Agent': 'Mozilla/5.0 (Linux; U; Android 4.0.4; en-gb; GT-I9300 Build/IMM76D) AppleWebKit/534.30 (KHTML, like Gecko) Version/4.0 Mobile Safari/534.30'}\n",
    "\n",
    "response = requests.get(url, headers=header )\n",
    "\n",
    "print(response.status_code)\n",
    "\n",
    "soup = BeautifulSoup(response.text)"
   ]
  },
  {
   "cell_type": "code",
   "execution_count": 4,
   "metadata": {},
   "outputs": [
    {
     "data": {
      "text/plain": [
       "{'User-Agent': 'Mozilla/5.0 (Linux; U; Android 4.0.4; en-gb; GT-I9300 Build/IMM76D) AppleWebKit/534.30 (KHTML, like Gecko) Version/4.0 Mobile Safari/534.30', 'Accept-Encoding': 'gzip, deflate', 'Accept': '*/*', 'Connection': 'keep-alive'}"
      ]
     },
     "execution_count": 4,
     "metadata": {},
     "output_type": "execute_result"
    }
   ],
   "source": [
    "response.request.headers"
   ]
  },
  {
   "cell_type": "code",
   "execution_count": 5,
   "metadata": {},
   "outputs": [],
   "source": [
    "# Get number of pages - option 1\n",
    "\n",
    "units = soup.find('span',{'class','jsx-1158983747 result-count'}).text.split(' ')[0]\n",
    "\n",
    "units = int(units.replace(',',''))\n",
    "\n",
    "pages = math.ceil(units / 42)"
   ]
  },
  {
   "cell_type": "code",
   "execution_count": 39,
   "metadata": {},
   "outputs": [
    {
     "data": {
      "text/plain": [
       "'206'"
      ]
     },
     "execution_count": 39,
     "metadata": {},
     "output_type": "execute_result"
    }
   ],
   "source": [
    "# Get number of pages - option 2\n",
    "\n",
    "pages = soup.find_all('a',{'class','item btn'})[-2].text"
   ]
  },
  {
   "cell_type": "code",
   "execution_count": 6,
   "metadata": {},
   "outputs": [
    {
     "ename": "NameError",
     "evalue": "name 'hours' is not defined",
     "output_type": "error",
     "traceback": [
      "\u001b[0;31m---------------------------------------------------------------------------\u001b[0m",
      "\u001b[0;31mNameError\u001b[0m                                 Traceback (most recent call last)",
      "\u001b[0;32m<ipython-input-6-7f5839b090c8>\u001b[0m in \u001b[0;36m<module>\u001b[0;34m\u001b[0m\n\u001b[0;32m----> 1\u001b[0;31m \u001b[0mprint\u001b[0m\u001b[0;34m(\u001b[0m\u001b[0;34mf'it will take {hours} hours {minutes} minutes {seconds} seconds'\u001b[0m\u001b[0;34m)\u001b[0m\u001b[0;34m\u001b[0m\u001b[0;34m\u001b[0m\u001b[0m\n\u001b[0m",
      "\u001b[0;31mNameError\u001b[0m: name 'hours' is not defined"
     ]
    }
   ],
   "source": [
    "print(f'it will take {hours} hours {minutes} minutes {seconds} seconds')"
   ]
  },
  {
   "cell_type": "code",
   "execution_count": 22,
   "metadata": {},
   "outputs": [
    {
     "name": "stdout",
     "output_type": "stream",
     "text": [
      "200\n",
      "200\n",
      "200\n",
      "200\n"
     ]
    }
   ],
   "source": [
    "rows=[]\n",
    "\n",
    "for page in range(1,pages+1):\n",
    "\n",
    "    url = f'https://www.realtor.com/realestateandhomes-search/Idaho/pg-{page}'\n",
    "\n",
    "    response = requests.get(url, headers=header)\n",
    "\n",
    "    print(response.status_code, url)\n",
    "\n",
    "    soup = BeautifulSoup(response.text)\n",
    "\n",
    "    houses = soup.find_all('li',{'class','jsx-1881802087'})\n",
    "\n",
    "    for house in houses:\n",
    "        row={}\n",
    "        try:\n",
    "            row['price'] = house.find('span',{'class','Price__Component-rui__x3geed-0 gipzbd'}).text\n",
    "        except:\n",
    "            pass\n",
    "        try:\n",
    "            row['brokered'] = house.find_all('span',{'class','jsx-1080549764'})[1].text\n",
    "        except:\n",
    "            pass\n",
    "        try:\n",
    "            row['address'] = house.find('button',{'class','base__StyledButton-rui__ermeke-1 jdXBfk'})['aria-label'][16:]\n",
    "        except:\n",
    "            row['address'] = house.find('div',{'class','jsx-11645185 card-bottom'}).text[:-12]\n",
    "        try:\n",
    "            tag_detail = house.find_all('li',{'class','jsx-946479843 prop-meta srp_list'})\n",
    "        except:\n",
    "            pass\n",
    "        if 'bed' in str(tag_detail[0]):\n",
    "            row['bed'] = tag_detail[0].text[:-3]\n",
    "        try:\n",
    "            if 'bath' in str(tag_detail[1]):\n",
    "                row['bath'] = tag_detail[1].text[:-4]\n",
    "        except:\n",
    "            pass\n",
    "        try:\n",
    "            if 'sqft' in tag_detail[2].text:\n",
    "                row['sqft'] = tag_detail[2].text.text[:-4]\n",
    "        except:\n",
    "            pass\n",
    "        if 'acre lot' in tag_detail[0].text:\n",
    "                row['acre lot'] = tag_detail[0].text[:-8]\n",
    "        \n",
    "        rows.append(row)\n",
    "\n",
    "        time.sleep(2.5)"
   ]
  },
  {
   "cell_type": "code",
   "execution_count": 23,
   "metadata": {},
   "outputs": [
    {
     "data": {
      "text/html": [
       "<div>\n",
       "<style scoped>\n",
       "    .dataframe tbody tr th:only-of-type {\n",
       "        vertical-align: middle;\n",
       "    }\n",
       "\n",
       "    .dataframe tbody tr th {\n",
       "        vertical-align: top;\n",
       "    }\n",
       "\n",
       "    .dataframe thead th {\n",
       "        text-align: right;\n",
       "    }\n",
       "</style>\n",
       "<table border=\"1\" class=\"dataframe\">\n",
       "  <thead>\n",
       "    <tr style=\"text-align: right;\">\n",
       "      <th></th>\n",
       "      <th>price</th>\n",
       "      <th>brokered</th>\n",
       "      <th>address</th>\n",
       "      <th>bed</th>\n",
       "      <th>bath</th>\n",
       "      <th>acre lot</th>\n",
       "    </tr>\n",
       "  </thead>\n",
       "  <tbody>\n",
       "    <tr>\n",
       "      <th>0</th>\n",
       "      <td>$299,900</td>\n",
       "      <td>The Hoyte Group</td>\n",
       "      <td>10224 W Macaw Ct, Boise, ID 83704</td>\n",
       "      <td>3</td>\n",
       "      <td>2</td>\n",
       "      <td>NaN</td>\n",
       "    </tr>\n",
       "    <tr>\n",
       "      <th>1</th>\n",
       "      <td>$27,000,000</td>\n",
       "      <td>Berkshire Hathaway HomeServices Sun Valley Pro...</td>\n",
       "      <td>106 and 110 Sheep Meadow Ln, Ketchum, ID 83340</td>\n",
       "      <td>11</td>\n",
       "      <td>14</td>\n",
       "      <td>NaN</td>\n",
       "    </tr>\n",
       "    <tr>\n",
       "      <th>2</th>\n",
       "      <td>$299,900</td>\n",
       "      <td>Silvercreek Realty Group</td>\n",
       "      <td>6 Rattlesnake Rd, Boise, ID 83716</td>\n",
       "      <td>2</td>\n",
       "      <td>2</td>\n",
       "      <td>NaN</td>\n",
       "    </tr>\n",
       "    <tr>\n",
       "      <th>3</th>\n",
       "      <td>$400,000</td>\n",
       "      <td>Idaho Country Properties</td>\n",
       "      <td>136 Rocky Point Rd, Stites, ID 83552</td>\n",
       "      <td>2</td>\n",
       "      <td>1</td>\n",
       "      <td>NaN</td>\n",
       "    </tr>\n",
       "    <tr>\n",
       "      <th>4</th>\n",
       "      <td>$239,900</td>\n",
       "      <td>Keller Williams Realty Boise</td>\n",
       "      <td>17 Pine Dr, Lowman, ID 83637</td>\n",
       "      <td>3</td>\n",
       "      <td>2</td>\n",
       "      <td>NaN</td>\n",
       "    </tr>\n",
       "    <tr>\n",
       "      <th>...</th>\n",
       "      <td>...</td>\n",
       "      <td>...</td>\n",
       "      <td>...</td>\n",
       "      <td>...</td>\n",
       "      <td>...</td>\n",
       "      <td>...</td>\n",
       "    </tr>\n",
       "    <tr>\n",
       "      <th>159</th>\n",
       "      <td>NaN</td>\n",
       "      <td>Boise Hunter Homes</td>\n",
       "      <td>for 2880 E Brace St, Meridian, ID 83642</td>\n",
       "      <td>4</td>\n",
       "      <td>3</td>\n",
       "      <td>NaN</td>\n",
       "    </tr>\n",
       "    <tr>\n",
       "      <th>160</th>\n",
       "      <td>NaN</td>\n",
       "      <td>Boise Hunter Homes</td>\n",
       "      <td>for 2880 E Brace St, Meridian, ID 83642</td>\n",
       "      <td>3</td>\n",
       "      <td>2.5</td>\n",
       "      <td>NaN</td>\n",
       "    </tr>\n",
       "    <tr>\n",
       "      <th>161</th>\n",
       "      <td>NaN</td>\n",
       "      <td>Boise Hunter Homes</td>\n",
       "      <td>for 2880 E Brace St, Meridian, ID 83642</td>\n",
       "      <td>4</td>\n",
       "      <td>3</td>\n",
       "      <td>NaN</td>\n",
       "    </tr>\n",
       "    <tr>\n",
       "      <th>162</th>\n",
       "      <td>$941,900</td>\n",
       "      <td>Toll Brothers</td>\n",
       "      <td>for 5507 N Chestnut Hill Way, Meridian, ID 83646</td>\n",
       "      <td>4</td>\n",
       "      <td>4.5</td>\n",
       "      <td>NaN</td>\n",
       "    </tr>\n",
       "    <tr>\n",
       "      <th>163</th>\n",
       "      <td>$2,750,000</td>\n",
       "      <td>Fortus Realty, Inc</td>\n",
       "      <td>313 Indigo Sky Rd, Sandpoint, ID 83864</td>\n",
       "      <td>3</td>\n",
       "      <td>2</td>\n",
       "      <td>NaN</td>\n",
       "    </tr>\n",
       "  </tbody>\n",
       "</table>\n",
       "<p>164 rows × 6 columns</p>\n",
       "</div>"
      ],
      "text/plain": [
       "           price                                           brokered  \\\n",
       "0       $299,900                                    The Hoyte Group   \n",
       "1    $27,000,000  Berkshire Hathaway HomeServices Sun Valley Pro...   \n",
       "2       $299,900                           Silvercreek Realty Group   \n",
       "3       $400,000                           Idaho Country Properties   \n",
       "4       $239,900                       Keller Williams Realty Boise   \n",
       "..           ...                                                ...   \n",
       "159          NaN                                 Boise Hunter Homes   \n",
       "160          NaN                                 Boise Hunter Homes   \n",
       "161          NaN                                 Boise Hunter Homes   \n",
       "162     $941,900                                      Toll Brothers   \n",
       "163   $2,750,000                                 Fortus Realty, Inc   \n",
       "\n",
       "                                              address bed bath acre lot  \n",
       "0                   10224 W Macaw Ct, Boise, ID 83704   3    2      NaN  \n",
       "1      106 and 110 Sheep Meadow Ln, Ketchum, ID 83340  11   14      NaN  \n",
       "2                   6 Rattlesnake Rd, Boise, ID 83716   2    2      NaN  \n",
       "3                136 Rocky Point Rd, Stites, ID 83552   2    1      NaN  \n",
       "4                        17 Pine Dr, Lowman, ID 83637   3    2      NaN  \n",
       "..                                                ...  ..  ...      ...  \n",
       "159           for 2880 E Brace St, Meridian, ID 83642   4    3      NaN  \n",
       "160           for 2880 E Brace St, Meridian, ID 83642   3  2.5      NaN  \n",
       "161           for 2880 E Brace St, Meridian, ID 83642   4    3      NaN  \n",
       "162  for 5507 N Chestnut Hill Way, Meridian, ID 83646   4  4.5      NaN  \n",
       "163            313 Indigo Sky Rd, Sandpoint, ID 83864   3    2      NaN  \n",
       "\n",
       "[164 rows x 6 columns]"
      ]
     },
     "execution_count": 23,
     "metadata": {},
     "output_type": "execute_result"
    }
   ],
   "source": [
    "data = pd.DataFrame(rows)\n",
    "\n",
    "data"
   ]
  },
  {
   "cell_type": "code",
   "execution_count": null,
   "metadata": {},
   "outputs": [],
   "source": []
  },
  {
   "cell_type": "code",
   "execution_count": null,
   "metadata": {},
   "outputs": [],
   "source": []
  },
  {
   "cell_type": "code",
   "execution_count": null,
   "metadata": {},
   "outputs": [],
   "source": []
  },
  {
   "cell_type": "code",
   "execution_count": null,
   "metadata": {},
   "outputs": [],
   "source": []
  },
  {
   "cell_type": "code",
   "execution_count": null,
   "metadata": {},
   "outputs": [],
   "source": []
  },
  {
   "cell_type": "code",
   "execution_count": null,
   "metadata": {},
   "outputs": [],
   "source": []
  },
  {
   "cell_type": "code",
   "execution_count": null,
   "metadata": {},
   "outputs": [],
   "source": []
  },
  {
   "cell_type": "code",
   "execution_count": null,
   "metadata": {},
   "outputs": [],
   "source": []
  },
  {
   "cell_type": "code",
   "execution_count": null,
   "metadata": {},
   "outputs": [],
   "source": []
  },
  {
   "cell_type": "code",
   "execution_count": null,
   "metadata": {},
   "outputs": [],
   "source": []
  },
  {
   "cell_type": "code",
   "execution_count": null,
   "metadata": {},
   "outputs": [],
   "source": []
  },
  {
   "cell_type": "code",
   "execution_count": 7,
   "metadata": {},
   "outputs": [
    {
     "name": "stdout",
     "output_type": "stream",
     "text": [
      "403\n"
     ]
    }
   ],
   "source": [
    "url = hyper_references[0]\n",
    "\n",
    "header = {'User-Agent': 'Mozilla/5.0 (Macintosh; Intel Mac OS X 10_15_4) AppleWebKit/537.36 (KHTML, like Gecko) Chrome/83.0.4103.97 Safari/537.36'}\n",
    "\n",
    "response = requests.get(url, headers=header )\n",
    "\n",
    "print(response.status_code)\n",
    "\n",
    "soup = BeautifulSoup(response.text)"
   ]
  },
  {
   "cell_type": "code",
   "execution_count": null,
   "metadata": {},
   "outputs": [],
   "source": []
  }
 ],
 "metadata": {
  "kernelspec": {
   "display_name": "Python 3.9.0 64-bit",
   "language": "python",
   "name": "python3"
  },
  "language_info": {
   "codemirror_mode": {
    "name": "ipython",
    "version": 3
   },
   "file_extension": ".py",
   "mimetype": "text/x-python",
   "name": "python",
   "nbconvert_exporter": "python",
   "pygments_lexer": "ipython3",
   "version": "3.9.0"
  },
  "orig_nbformat": 4,
  "vscode": {
   "interpreter": {
    "hash": "397704579725e15f5c7cb49fe5f0341eb7531c82d19f2c29d197e8b64ab5776b"
   }
  }
 },
 "nbformat": 4,
 "nbformat_minor": 2
}
