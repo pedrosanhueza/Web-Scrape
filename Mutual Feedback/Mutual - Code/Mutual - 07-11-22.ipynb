{
 "cells": [
  {
   "cell_type": "markdown",
   "metadata": {},
   "source": [
    "# Web Scrapping\n",
    "#### Project: Extract feedback suggestions from Mutual website\n",
    "#### Source: feedback.mutual.app\n",
    "#### Monetization: Non-commercial use\n",
    "#### Author: Pedro Sanhueza"
   ]
  },
  {
   "cell_type": "code",
   "execution_count": 1,
   "metadata": {},
   "outputs": [],
   "source": [
    "import requests\n",
    "from bs4 import BeautifulSoup\n",
    "import pandas as pd\n",
    "from datetime import datetime"
   ]
  },
  {
   "cell_type": "code",
   "execution_count": 2,
   "metadata": {},
   "outputs": [],
   "source": [
    "# 12 seconds\n",
    "\n",
    "page = 1\n",
    "rows = []\n",
    "rows_votes = []\n",
    "rows_merged = []\n",
    "\n",
    "while page:\n",
    "    url = f'https://feedback.mutual.app/?page={page}&order=popular&filter=all#controls' # url for each page. only change the page number\n",
    "    response = requests.get(url)\n",
    "    soup = BeautifulSoup(response.text, 'html.parser')\n",
    "    \n",
    "    # List of dict: mulitple attributes\n",
    "    info = soup.find_all('div',{'class':'sInfo'})\n",
    "    for attribute in info:\n",
    "        row = {}\n",
    "        row['page'] = page\n",
    "        row['id'] = attribute.find('a')['href'].split('/')[2]\n",
    "        row['suggestion'] = attribute.find('a')['href'].split('/')[-1].replace('-',' ').capitalize()\n",
    "        row['author'] = attribute.find_all('strong')[0].get_text()\n",
    "        start = attribute.find_all('span')[0].get_text(strip=True).find('(')+1\n",
    "        end = attribute.find_all('span')[0].get_text(strip=True).find(')')\n",
    "        row['date_created'] = attribute.find_all('span')[0].get_text(strip=True)[start:end].replace('\\'','20')\n",
    "        try:\n",
    "            row['last_upvoted'] = attribute.find_all('span',{'class':'sLastComment'})[0].get_text(strip=True)[9:]\n",
    "        except:\n",
    "            pass\n",
    "        row['comments'] = attribute.find_all('span',{'class':'sLabel'})[0].get_text(strip=True)[10:]\n",
    "        try:\n",
    "            row['status'] = attribute.find_all('div',{'class':'sLabels'})[0].get_text(strip=True).replace('Pinned','')\n",
    "        except:\n",
    "            pass\n",
    "        rows.append(row)\n",
    "\n",
    "    # List of dict: 'votes' attribute\n",
    "    votes= soup.find_all('div',{'class':'sNumbers'})\n",
    "    for attribute in votes:\n",
    "        row = {}\n",
    "        row['votes'] = attribute.find('a').get_text(strip=True)[:-5].replace('K','000')\n",
    "        rows_votes.append(row)\n",
    "\n",
    "    \n",
    "    # if there is not a next page, stop loop\n",
    "    page+=1\n",
    "    if soup.find_all('li')[-1].find('a') == None:\n",
    "        page = False\n",
    "\n",
    "# Merge both list of dict into new list\n",
    "for idx, row in enumerate(rows):\n",
    "    rows_merged.append({**row,**rows_votes[idx]})\n",
    "    \n",
    "    # # ************* DESCRIPTION DICTIONARARY *************\n",
    "    # for attribute in info:\n",
    "    #     url = f'https://feedback.mutual.app'+attribute.find('a')['href']\n",
    "    #     response = requests.get(url)\n",
    "    #     soup = BeautifulSoup(response.text, 'html.parser')\n",
    "    #     row = {}\n",
    "    #     p = soup.find('div',{'class':'suggestionDescription'}).get_text().strip()\n",
    "    #     row['Description'] = p.encode('ascii','replace').decode().replace('???','\\'')\n",
    "    #     rows_description.append(row)\n"
   ]
  },
  {
   "cell_type": "code",
   "execution_count": 3,
   "metadata": {},
   "outputs": [],
   "source": [
    "data = pd.DataFrame(rows_merged)"
   ]
  },
  {
   "cell_type": "code",
   "execution_count": 4,
   "metadata": {},
   "outputs": [
    {
     "data": {
      "text/plain": [
       "(477, 9)"
      ]
     },
     "execution_count": 4,
     "metadata": {},
     "output_type": "execute_result"
    }
   ],
   "source": [
    "data.shape"
   ]
  },
  {
   "cell_type": "code",
   "execution_count": 5,
   "metadata": {},
   "outputs": [
    {
     "data": {
      "text/html": [
       "<div>\n",
       "<style scoped>\n",
       "    .dataframe tbody tr th:only-of-type {\n",
       "        vertical-align: middle;\n",
       "    }\n",
       "\n",
       "    .dataframe tbody tr th {\n",
       "        vertical-align: top;\n",
       "    }\n",
       "\n",
       "    .dataframe thead th {\n",
       "        text-align: right;\n",
       "    }\n",
       "</style>\n",
       "<table border=\"1\" class=\"dataframe\">\n",
       "  <thead>\n",
       "    <tr style=\"text-align: right;\">\n",
       "      <th></th>\n",
       "      <th>page</th>\n",
       "      <th>id</th>\n",
       "      <th>suggestion</th>\n",
       "      <th>author</th>\n",
       "      <th>date_created</th>\n",
       "      <th>last_upvoted</th>\n",
       "      <th>comments</th>\n",
       "      <th>status</th>\n",
       "      <th>votes</th>\n",
       "    </tr>\n",
       "  </thead>\n",
       "  <tbody>\n",
       "    <tr>\n",
       "      <th>0</th>\n",
       "      <td>1</td>\n",
       "      <td>161005</td>\n",
       "      <td>See who i have liked</td>\n",
       "      <td>Moses</td>\n",
       "      <td>19 Feb, 2021</td>\n",
       "      <td>today</td>\n",
       "      <td>81</td>\n",
       "      <td>Feedback Needed</td>\n",
       "      <td>1.2000</td>\n",
       "    </tr>\n",
       "    <tr>\n",
       "      <th>1</th>\n",
       "      <td>1</td>\n",
       "      <td>170983</td>\n",
       "      <td>Watch an ad to see a person who likes you</td>\n",
       "      <td>Anonymous</td>\n",
       "      <td>19 Mar, 2021</td>\n",
       "      <td>yesterday</td>\n",
       "      <td>35</td>\n",
       "      <td>Feedback Needed</td>\n",
       "      <td>627</td>\n",
       "    </tr>\n",
       "    <tr>\n",
       "      <th>2</th>\n",
       "      <td>1</td>\n",
       "      <td>161962</td>\n",
       "      <td>Last onlinerecently active</td>\n",
       "      <td>Moses</td>\n",
       "      <td>22 Feb, 2021</td>\n",
       "      <td>today</td>\n",
       "      <td>54</td>\n",
       "      <td>Feedback Needed</td>\n",
       "      <td>598</td>\n",
       "    </tr>\n",
       "    <tr>\n",
       "      <th>3</th>\n",
       "      <td>1</td>\n",
       "      <td>177816</td>\n",
       "      <td>Skip a profile save for later</td>\n",
       "      <td>Brian</td>\n",
       "      <td>11 Apr, 2021</td>\n",
       "      <td>today</td>\n",
       "      <td>42</td>\n",
       "      <td>Feedback Needed</td>\n",
       "      <td>521</td>\n",
       "    </tr>\n",
       "    <tr>\n",
       "      <th>4</th>\n",
       "      <td>1</td>\n",
       "      <td>164928</td>\n",
       "      <td>Filter church activity</td>\n",
       "      <td>Moses</td>\n",
       "      <td>01 Mar, 2021</td>\n",
       "      <td>30 Oct</td>\n",
       "      <td>47</td>\n",
       "      <td>Released</td>\n",
       "      <td>483</td>\n",
       "    </tr>\n",
       "    <tr>\n",
       "      <th>...</th>\n",
       "      <td>...</td>\n",
       "      <td>...</td>\n",
       "      <td>...</td>\n",
       "      <td>...</td>\n",
       "      <td>...</td>\n",
       "      <td>...</td>\n",
       "      <td>...</td>\n",
       "      <td>...</td>\n",
       "      <td>...</td>\n",
       "    </tr>\n",
       "    <tr>\n",
       "      <th>472</th>\n",
       "      <td>10</td>\n",
       "      <td>200115</td>\n",
       "      <td>Set an age dealbreaker</td>\n",
       "      <td>Becca</td>\n",
       "      <td>26 Jul, 2021</td>\n",
       "      <td>26 Jul, '21</td>\n",
       "      <td>0</td>\n",
       "      <td>Closed</td>\n",
       "      <td>1</td>\n",
       "    </tr>\n",
       "    <tr>\n",
       "      <th>473</th>\n",
       "      <td>10</td>\n",
       "      <td>196186</td>\n",
       "      <td>Hacer un encuentro por ciudades</td>\n",
       "      <td>Belkis Mercedes</td>\n",
       "      <td>06 Jul, 2021</td>\n",
       "      <td>06 Jul, '21</td>\n",
       "      <td>0</td>\n",
       "      <td>Closed</td>\n",
       "      <td>1</td>\n",
       "    </tr>\n",
       "    <tr>\n",
       "      <th>474</th>\n",
       "      <td>10</td>\n",
       "      <td>194556</td>\n",
       "      <td>Enviar mensagem direta antes de macth mutuo ve...</td>\n",
       "      <td>Saulo Costa de Oliveira</td>\n",
       "      <td>29 Jun, 2021</td>\n",
       "      <td>29 Jun, '21</td>\n",
       "      <td>0</td>\n",
       "      <td>Closed</td>\n",
       "      <td>1</td>\n",
       "    </tr>\n",
       "    <tr>\n",
       "      <th>475</th>\n",
       "      <td>10</td>\n",
       "      <td>190199</td>\n",
       "      <td>Messages</td>\n",
       "      <td>G</td>\n",
       "      <td>09 Jun, 2021</td>\n",
       "      <td>09 Jun, '21</td>\n",
       "      <td>0</td>\n",
       "      <td>Closed</td>\n",
       "      <td>1</td>\n",
       "    </tr>\n",
       "    <tr>\n",
       "      <th>476</th>\n",
       "      <td>10</td>\n",
       "      <td>319357</td>\n",
       "      <td>Compatibility testquiz</td>\n",
       "      <td>Noel S</td>\n",
       "      <td>29 Jul</td>\n",
       "      <td>NaN</td>\n",
       "      <td>0</td>\n",
       "      <td>Open</td>\n",
       "      <td>0</td>\n",
       "    </tr>\n",
       "  </tbody>\n",
       "</table>\n",
       "<p>477 rows × 9 columns</p>\n",
       "</div>"
      ],
      "text/plain": [
       "     page      id                                         suggestion  \\\n",
       "0       1  161005                               See who i have liked   \n",
       "1       1  170983          Watch an ad to see a person who likes you   \n",
       "2       1  161962                         Last onlinerecently active   \n",
       "3       1  177816                      Skip a profile save for later   \n",
       "4       1  164928                             Filter church activity   \n",
       "..    ...     ...                                                ...   \n",
       "472    10  200115                             Set an age dealbreaker   \n",
       "473    10  196186                    Hacer un encuentro por ciudades   \n",
       "474    10  194556  Enviar mensagem direta antes de macth mutuo ve...   \n",
       "475    10  190199                                           Messages   \n",
       "476    10  319357                             Compatibility testquiz   \n",
       "\n",
       "                      author  date_created last_upvoted comments  \\\n",
       "0                      Moses  19 Feb, 2021        today       81   \n",
       "1                  Anonymous  19 Mar, 2021    yesterday       35   \n",
       "2                      Moses  22 Feb, 2021        today       54   \n",
       "3                      Brian  11 Apr, 2021        today       42   \n",
       "4                      Moses  01 Mar, 2021       30 Oct       47   \n",
       "..                       ...           ...          ...      ...   \n",
       "472                    Becca  26 Jul, 2021  26 Jul, '21        0   \n",
       "473          Belkis Mercedes  06 Jul, 2021  06 Jul, '21        0   \n",
       "474  Saulo Costa de Oliveira  29 Jun, 2021  29 Jun, '21        0   \n",
       "475                        G  09 Jun, 2021  09 Jun, '21        0   \n",
       "476                   Noel S        29 Jul          NaN        0   \n",
       "\n",
       "              status   votes  \n",
       "0    Feedback Needed  1.2000  \n",
       "1    Feedback Needed     627  \n",
       "2    Feedback Needed     598  \n",
       "3    Feedback Needed     521  \n",
       "4           Released     483  \n",
       "..               ...     ...  \n",
       "472           Closed       1  \n",
       "473           Closed       1  \n",
       "474           Closed       1  \n",
       "475           Closed       1  \n",
       "476             Open       0  \n",
       "\n",
       "[477 rows x 9 columns]"
      ]
     },
     "execution_count": 5,
     "metadata": {},
     "output_type": "execute_result"
    }
   ],
   "source": [
    "data = pd.DataFrame(rows_merged)\n",
    "\n",
    "date = datetime.now().strftime(\"%d-%m-%Y %H%M%S\") # get local time as string\n",
    "\n",
    "filePath = \"../Mutual - Historical Data/MutualFeedback \" + date + \" - Webscrape.csv\"\n",
    "\n",
    "data.to_csv(filePath, index=True) # save to file path\n",
    "\n",
    "data"
   ]
  },
  {
   "cell_type": "markdown",
   "metadata": {},
   "source": [
    "# Explanatory Data Analysis"
   ]
  },
  {
   "cell_type": "code",
   "execution_count": 6,
   "metadata": {},
   "outputs": [],
   "source": [
    "import plotly.express as px"
   ]
  },
  {
   "cell_type": "code",
   "execution_count": 7,
   "metadata": {},
   "outputs": [],
   "source": [
    "# change dtype\n",
    "data = data.astype({'votes': 'float','comments': 'float'}, copy=True)\n",
    "\n",
    "# add column with months\n",
    "data['date_created_month'] = data['date_created'].apply(lambda x: x.split(' ')[1].replace(',',''))\n",
    "data['date_created_month'] = data['date_created_month'].replace({'Fe':'Feb','Ap':'Apr','Ma':'May'})"
   ]
  },
  {
   "cell_type": "code",
   "execution_count": 8,
   "metadata": {},
   "outputs": [
    {
     "data": {
      "application/vnd.plotly.v1+json": {
       "config": {
        "plotlyServerURL": "https://plot.ly"
       },
       "data": [
        {
         "alignmentgroup": "True",
         "hovertemplate": "Month=%{x}<br>Amount of Feedback=%{marker.color}<extra></extra>",
         "legendgroup": "",
         "marker": {
          "color": [
           120,
           65,
           55,
           54,
           44,
           39,
           37,
           25,
           14,
           13,
           6,
           4,
           1
          ],
          "coloraxis": "coloraxis",
          "pattern": {
           "shape": ""
          }
         },
         "name": "",
         "offsetgroup": "",
         "orientation": "v",
         "showlegend": false,
         "textfont": {
          "size": 15
         },
         "textposition": "auto",
         "texttemplate": "%{y}",
         "type": "bar",
         "x": [
          "Jul",
          "Mar",
          "Aug",
          "Jun",
          "Sep",
          "May",
          "Oct",
          "Apr",
          "Feb",
          "Dec",
          "Nov",
          "Jan",
          "days"
         ],
         "xaxis": "x",
         "y": [
          120,
          65,
          55,
          54,
          44,
          39,
          37,
          25,
          14,
          13,
          6,
          4,
          1
         ],
         "yaxis": "y"
        }
       ],
       "layout": {
        "barmode": "relative",
        "coloraxis": {
         "colorbar": {
          "title": {
           "text": "Amount of Feedback"
          }
         },
         "colorscale": [
          [
           0,
           "rgb(7, 64, 80)"
          ],
          [
           0.16666666666666666,
           "rgb(16, 89, 101)"
          ],
          [
           0.3333333333333333,
           "rgb(33, 122, 121)"
          ],
          [
           0.5,
           "rgb(76, 155, 130)"
          ],
          [
           0.6666666666666666,
           "rgb(108, 192, 139)"
          ],
          [
           0.8333333333333334,
           "rgb(151, 225, 150)"
          ],
          [
           1,
           "rgb(211, 242, 163)"
          ]
         ]
        },
        "height": 400,
        "legend": {
         "tracegroupgap": 0
        },
        "template": {
         "data": {
          "bar": [
           {
            "error_x": {
             "color": "#2a3f5f"
            },
            "error_y": {
             "color": "#2a3f5f"
            },
            "marker": {
             "line": {
              "color": "#E5ECF6",
              "width": 0.5
             },
             "pattern": {
              "fillmode": "overlay",
              "size": 10,
              "solidity": 0.2
             }
            },
            "type": "bar"
           }
          ],
          "barpolar": [
           {
            "marker": {
             "line": {
              "color": "#E5ECF6",
              "width": 0.5
             },
             "pattern": {
              "fillmode": "overlay",
              "size": 10,
              "solidity": 0.2
             }
            },
            "type": "barpolar"
           }
          ],
          "carpet": [
           {
            "aaxis": {
             "endlinecolor": "#2a3f5f",
             "gridcolor": "white",
             "linecolor": "white",
             "minorgridcolor": "white",
             "startlinecolor": "#2a3f5f"
            },
            "baxis": {
             "endlinecolor": "#2a3f5f",
             "gridcolor": "white",
             "linecolor": "white",
             "minorgridcolor": "white",
             "startlinecolor": "#2a3f5f"
            },
            "type": "carpet"
           }
          ],
          "choropleth": [
           {
            "colorbar": {
             "outlinewidth": 0,
             "ticks": ""
            },
            "type": "choropleth"
           }
          ],
          "contour": [
           {
            "colorbar": {
             "outlinewidth": 0,
             "ticks": ""
            },
            "colorscale": [
             [
              0,
              "#0d0887"
             ],
             [
              0.1111111111111111,
              "#46039f"
             ],
             [
              0.2222222222222222,
              "#7201a8"
             ],
             [
              0.3333333333333333,
              "#9c179e"
             ],
             [
              0.4444444444444444,
              "#bd3786"
             ],
             [
              0.5555555555555556,
              "#d8576b"
             ],
             [
              0.6666666666666666,
              "#ed7953"
             ],
             [
              0.7777777777777778,
              "#fb9f3a"
             ],
             [
              0.8888888888888888,
              "#fdca26"
             ],
             [
              1,
              "#f0f921"
             ]
            ],
            "type": "contour"
           }
          ],
          "contourcarpet": [
           {
            "colorbar": {
             "outlinewidth": 0,
             "ticks": ""
            },
            "type": "contourcarpet"
           }
          ],
          "heatmap": [
           {
            "colorbar": {
             "outlinewidth": 0,
             "ticks": ""
            },
            "colorscale": [
             [
              0,
              "#0d0887"
             ],
             [
              0.1111111111111111,
              "#46039f"
             ],
             [
              0.2222222222222222,
              "#7201a8"
             ],
             [
              0.3333333333333333,
              "#9c179e"
             ],
             [
              0.4444444444444444,
              "#bd3786"
             ],
             [
              0.5555555555555556,
              "#d8576b"
             ],
             [
              0.6666666666666666,
              "#ed7953"
             ],
             [
              0.7777777777777778,
              "#fb9f3a"
             ],
             [
              0.8888888888888888,
              "#fdca26"
             ],
             [
              1,
              "#f0f921"
             ]
            ],
            "type": "heatmap"
           }
          ],
          "heatmapgl": [
           {
            "colorbar": {
             "outlinewidth": 0,
             "ticks": ""
            },
            "colorscale": [
             [
              0,
              "#0d0887"
             ],
             [
              0.1111111111111111,
              "#46039f"
             ],
             [
              0.2222222222222222,
              "#7201a8"
             ],
             [
              0.3333333333333333,
              "#9c179e"
             ],
             [
              0.4444444444444444,
              "#bd3786"
             ],
             [
              0.5555555555555556,
              "#d8576b"
             ],
             [
              0.6666666666666666,
              "#ed7953"
             ],
             [
              0.7777777777777778,
              "#fb9f3a"
             ],
             [
              0.8888888888888888,
              "#fdca26"
             ],
             [
              1,
              "#f0f921"
             ]
            ],
            "type": "heatmapgl"
           }
          ],
          "histogram": [
           {
            "marker": {
             "pattern": {
              "fillmode": "overlay",
              "size": 10,
              "solidity": 0.2
             }
            },
            "type": "histogram"
           }
          ],
          "histogram2d": [
           {
            "colorbar": {
             "outlinewidth": 0,
             "ticks": ""
            },
            "colorscale": [
             [
              0,
              "#0d0887"
             ],
             [
              0.1111111111111111,
              "#46039f"
             ],
             [
              0.2222222222222222,
              "#7201a8"
             ],
             [
              0.3333333333333333,
              "#9c179e"
             ],
             [
              0.4444444444444444,
              "#bd3786"
             ],
             [
              0.5555555555555556,
              "#d8576b"
             ],
             [
              0.6666666666666666,
              "#ed7953"
             ],
             [
              0.7777777777777778,
              "#fb9f3a"
             ],
             [
              0.8888888888888888,
              "#fdca26"
             ],
             [
              1,
              "#f0f921"
             ]
            ],
            "type": "histogram2d"
           }
          ],
          "histogram2dcontour": [
           {
            "colorbar": {
             "outlinewidth": 0,
             "ticks": ""
            },
            "colorscale": [
             [
              0,
              "#0d0887"
             ],
             [
              0.1111111111111111,
              "#46039f"
             ],
             [
              0.2222222222222222,
              "#7201a8"
             ],
             [
              0.3333333333333333,
              "#9c179e"
             ],
             [
              0.4444444444444444,
              "#bd3786"
             ],
             [
              0.5555555555555556,
              "#d8576b"
             ],
             [
              0.6666666666666666,
              "#ed7953"
             ],
             [
              0.7777777777777778,
              "#fb9f3a"
             ],
             [
              0.8888888888888888,
              "#fdca26"
             ],
             [
              1,
              "#f0f921"
             ]
            ],
            "type": "histogram2dcontour"
           }
          ],
          "mesh3d": [
           {
            "colorbar": {
             "outlinewidth": 0,
             "ticks": ""
            },
            "type": "mesh3d"
           }
          ],
          "parcoords": [
           {
            "line": {
             "colorbar": {
              "outlinewidth": 0,
              "ticks": ""
             }
            },
            "type": "parcoords"
           }
          ],
          "pie": [
           {
            "automargin": true,
            "type": "pie"
           }
          ],
          "scatter": [
           {
            "fillpattern": {
             "fillmode": "overlay",
             "size": 10,
             "solidity": 0.2
            },
            "type": "scatter"
           }
          ],
          "scatter3d": [
           {
            "line": {
             "colorbar": {
              "outlinewidth": 0,
              "ticks": ""
             }
            },
            "marker": {
             "colorbar": {
              "outlinewidth": 0,
              "ticks": ""
             }
            },
            "type": "scatter3d"
           }
          ],
          "scattercarpet": [
           {
            "marker": {
             "colorbar": {
              "outlinewidth": 0,
              "ticks": ""
             }
            },
            "type": "scattercarpet"
           }
          ],
          "scattergeo": [
           {
            "marker": {
             "colorbar": {
              "outlinewidth": 0,
              "ticks": ""
             }
            },
            "type": "scattergeo"
           }
          ],
          "scattergl": [
           {
            "marker": {
             "colorbar": {
              "outlinewidth": 0,
              "ticks": ""
             }
            },
            "type": "scattergl"
           }
          ],
          "scattermapbox": [
           {
            "marker": {
             "colorbar": {
              "outlinewidth": 0,
              "ticks": ""
             }
            },
            "type": "scattermapbox"
           }
          ],
          "scatterpolar": [
           {
            "marker": {
             "colorbar": {
              "outlinewidth": 0,
              "ticks": ""
             }
            },
            "type": "scatterpolar"
           }
          ],
          "scatterpolargl": [
           {
            "marker": {
             "colorbar": {
              "outlinewidth": 0,
              "ticks": ""
             }
            },
            "type": "scatterpolargl"
           }
          ],
          "scatterternary": [
           {
            "marker": {
             "colorbar": {
              "outlinewidth": 0,
              "ticks": ""
             }
            },
            "type": "scatterternary"
           }
          ],
          "surface": [
           {
            "colorbar": {
             "outlinewidth": 0,
             "ticks": ""
            },
            "colorscale": [
             [
              0,
              "#0d0887"
             ],
             [
              0.1111111111111111,
              "#46039f"
             ],
             [
              0.2222222222222222,
              "#7201a8"
             ],
             [
              0.3333333333333333,
              "#9c179e"
             ],
             [
              0.4444444444444444,
              "#bd3786"
             ],
             [
              0.5555555555555556,
              "#d8576b"
             ],
             [
              0.6666666666666666,
              "#ed7953"
             ],
             [
              0.7777777777777778,
              "#fb9f3a"
             ],
             [
              0.8888888888888888,
              "#fdca26"
             ],
             [
              1,
              "#f0f921"
             ]
            ],
            "type": "surface"
           }
          ],
          "table": [
           {
            "cells": {
             "fill": {
              "color": "#EBF0F8"
             },
             "line": {
              "color": "white"
             }
            },
            "header": {
             "fill": {
              "color": "#C8D4E3"
             },
             "line": {
              "color": "white"
             }
            },
            "type": "table"
           }
          ]
         },
         "layout": {
          "annotationdefaults": {
           "arrowcolor": "#2a3f5f",
           "arrowhead": 0,
           "arrowwidth": 1
          },
          "autotypenumbers": "strict",
          "coloraxis": {
           "colorbar": {
            "outlinewidth": 0,
            "ticks": ""
           }
          },
          "colorscale": {
           "diverging": [
            [
             0,
             "#8e0152"
            ],
            [
             0.1,
             "#c51b7d"
            ],
            [
             0.2,
             "#de77ae"
            ],
            [
             0.3,
             "#f1b6da"
            ],
            [
             0.4,
             "#fde0ef"
            ],
            [
             0.5,
             "#f7f7f7"
            ],
            [
             0.6,
             "#e6f5d0"
            ],
            [
             0.7,
             "#b8e186"
            ],
            [
             0.8,
             "#7fbc41"
            ],
            [
             0.9,
             "#4d9221"
            ],
            [
             1,
             "#276419"
            ]
           ],
           "sequential": [
            [
             0,
             "#0d0887"
            ],
            [
             0.1111111111111111,
             "#46039f"
            ],
            [
             0.2222222222222222,
             "#7201a8"
            ],
            [
             0.3333333333333333,
             "#9c179e"
            ],
            [
             0.4444444444444444,
             "#bd3786"
            ],
            [
             0.5555555555555556,
             "#d8576b"
            ],
            [
             0.6666666666666666,
             "#ed7953"
            ],
            [
             0.7777777777777778,
             "#fb9f3a"
            ],
            [
             0.8888888888888888,
             "#fdca26"
            ],
            [
             1,
             "#f0f921"
            ]
           ],
           "sequentialminus": [
            [
             0,
             "#0d0887"
            ],
            [
             0.1111111111111111,
             "#46039f"
            ],
            [
             0.2222222222222222,
             "#7201a8"
            ],
            [
             0.3333333333333333,
             "#9c179e"
            ],
            [
             0.4444444444444444,
             "#bd3786"
            ],
            [
             0.5555555555555556,
             "#d8576b"
            ],
            [
             0.6666666666666666,
             "#ed7953"
            ],
            [
             0.7777777777777778,
             "#fb9f3a"
            ],
            [
             0.8888888888888888,
             "#fdca26"
            ],
            [
             1,
             "#f0f921"
            ]
           ]
          },
          "colorway": [
           "#636efa",
           "#EF553B",
           "#00cc96",
           "#ab63fa",
           "#FFA15A",
           "#19d3f3",
           "#FF6692",
           "#B6E880",
           "#FF97FF",
           "#FECB52"
          ],
          "font": {
           "color": "#2a3f5f"
          },
          "geo": {
           "bgcolor": "white",
           "lakecolor": "white",
           "landcolor": "#E5ECF6",
           "showlakes": true,
           "showland": true,
           "subunitcolor": "white"
          },
          "hoverlabel": {
           "align": "left"
          },
          "hovermode": "closest",
          "mapbox": {
           "style": "light"
          },
          "paper_bgcolor": "white",
          "plot_bgcolor": "#E5ECF6",
          "polar": {
           "angularaxis": {
            "gridcolor": "white",
            "linecolor": "white",
            "ticks": ""
           },
           "bgcolor": "#E5ECF6",
           "radialaxis": {
            "gridcolor": "white",
            "linecolor": "white",
            "ticks": ""
           }
          },
          "scene": {
           "xaxis": {
            "backgroundcolor": "#E5ECF6",
            "gridcolor": "white",
            "gridwidth": 2,
            "linecolor": "white",
            "showbackground": true,
            "ticks": "",
            "zerolinecolor": "white"
           },
           "yaxis": {
            "backgroundcolor": "#E5ECF6",
            "gridcolor": "white",
            "gridwidth": 2,
            "linecolor": "white",
            "showbackground": true,
            "ticks": "",
            "zerolinecolor": "white"
           },
           "zaxis": {
            "backgroundcolor": "#E5ECF6",
            "gridcolor": "white",
            "gridwidth": 2,
            "linecolor": "white",
            "showbackground": true,
            "ticks": "",
            "zerolinecolor": "white"
           }
          },
          "shapedefaults": {
           "line": {
            "color": "#2a3f5f"
           }
          },
          "ternary": {
           "aaxis": {
            "gridcolor": "white",
            "linecolor": "white",
            "ticks": ""
           },
           "baxis": {
            "gridcolor": "white",
            "linecolor": "white",
            "ticks": ""
           },
           "bgcolor": "#E5ECF6",
           "caxis": {
            "gridcolor": "white",
            "linecolor": "white",
            "ticks": ""
           }
          },
          "title": {
           "x": 0.05
          },
          "xaxis": {
           "automargin": true,
           "gridcolor": "white",
           "linecolor": "white",
           "ticks": "",
           "title": {
            "standoff": 15
           },
           "zerolinecolor": "white",
           "zerolinewidth": 2
          },
          "yaxis": {
           "automargin": true,
           "gridcolor": "white",
           "linecolor": "white",
           "ticks": "",
           "title": {
            "standoff": 15
           },
           "zerolinecolor": "white",
           "zerolinewidth": 2
          }
         }
        },
        "title": {
         "text": "Feedback per Month"
        },
        "width": 1200,
        "xaxis": {
         "anchor": "y",
         "categoryarray": [
          "Jan",
          "Feb",
          "Mar",
          "Apr",
          "May",
          "Jun",
          "Jul",
          "Aug",
          "Sep",
          "Oct",
          "Nov",
          "Dec"
         ],
         "categoryorder": "array",
         "domain": [
          0,
          1
         ],
         "title": {
          "text": "Month"
         }
        },
        "yaxis": {
         "anchor": "x",
         "domain": [
          0,
          1
         ],
         "title": {
          "text": "Amount of Feedback"
         }
        }
       }
      }
     },
     "metadata": {},
     "output_type": "display_data"
    }
   ],
   "source": [
    "data_month = data['date_created_month'].value_counts().reset_index()\n",
    "order = {'index':['Jan','Feb','Mar','Apr','May','Jun','Jul','Aug','Sep','Oct','Nov','Dec']}\n",
    "\n",
    "fig = px.bar(\n",
    "    data_month,\n",
    "    x='index',\n",
    "    y='date_created_month',\n",
    "    color='date_created_month',\n",
    "    # color_continuous_scale=px.colors.sequential.Viridis,\n",
    "    color_continuous_scale=str(px.colors.named_colorscales()[15])+'_r',\n",
    "    category_orders=order,\n",
    "    width=1200,\n",
    "    height=400,\n",
    "    text_auto=True,\n",
    "    labels={\"index\":\"Month\",\"date_created_month\":\"Amount of Feedback\"},\n",
    "    title=\"Feedback per Month\")\n",
    "\n",
    "fig.update_traces(textfont_size=15)\n",
    "\n",
    "fig.show()"
   ]
  },
  {
   "cell_type": "code",
   "execution_count": 9,
   "metadata": {},
   "outputs": [
    {
     "data": {
      "image/png": "[encoded data removed]"
     },
     "metadata": {},
     "output_type": "display_data"
    }
   ],
   "source": [
    "\n",
    "data_status = data['status'].value_counts().reset_index()\n",
    "x_axis = data_status['index']\n",
    "\n",
    "fig = px.bar(\n",
    "    data_status,\n",
    "    x='index',\n",
    "    y='status',\n",
    "    color='status',\n",
    "    # color_continuous_scale=px.colors.sequential.Viridis,\n",
    "    color_continuous_scale=str(px.colors.named_colorscales()[27])+'_r',\n",
    "    width=1200,\n",
    "    height=400,\n",
    "    text_auto=True,\n",
    "    title=\"Status Amount\",\n",
    "    labels={\"index\":\"Category\",\"status\":\"Status\"},\n",
    ")\n",
    "\n",
    "fig.update_layout(xaxis={'categoryorder':'total descending'})\n",
    "\n",
    "fig.update_traces(textfont_size=16)\n",
    "\n",
    "fig.show('png')"
   ]
  },
  {
   "cell_type": "code",
   "execution_count": 10,
   "metadata": {},
   "outputs": [
    {
     "data": {
      "text/html": [
       "<div>\n",
       "<style scoped>\n",
       "    .dataframe tbody tr th:only-of-type {\n",
       "        vertical-align: middle;\n",
       "    }\n",
       "\n",
       "    .dataframe tbody tr th {\n",
       "        vertical-align: top;\n",
       "    }\n",
       "\n",
       "    .dataframe thead th {\n",
       "        text-align: right;\n",
       "    }\n",
       "</style>\n",
       "<table border=\"1\" class=\"dataframe\">\n",
       "  <thead>\n",
       "    <tr style=\"text-align: right;\">\n",
       "      <th></th>\n",
       "      <th>page</th>\n",
       "      <th>id</th>\n",
       "      <th>suggestion</th>\n",
       "      <th>author</th>\n",
       "      <th>date_created</th>\n",
       "      <th>last_upvoted</th>\n",
       "      <th>comments</th>\n",
       "      <th>status</th>\n",
       "      <th>votes</th>\n",
       "      <th>date_created_month</th>\n",
       "    </tr>\n",
       "  </thead>\n",
       "  <tbody>\n",
       "  </tbody>\n",
       "</table>\n",
       "</div>"
      ],
      "text/plain": [
       "Empty DataFrame\n",
       "Columns: [page, id, suggestion, author, date_created, last_upvoted, comments, status, votes, date_created_month]\n",
       "Index: []"
      ]
     },
     "execution_count": 10,
     "metadata": {},
     "output_type": "execute_result"
    }
   ],
   "source": [
    "# Top 10 (by vote count) features already implemented:\n",
    "data[data.status=='Done'][:10].sort_values('votes', ascending=False)"
   ]
  },
  {
   "cell_type": "code",
   "execution_count": 11,
   "metadata": {},
   "outputs": [
    {
     "data": {
      "text/html": [
       "<div>\n",
       "<style scoped>\n",
       "    .dataframe tbody tr th:only-of-type {\n",
       "        vertical-align: middle;\n",
       "    }\n",
       "\n",
       "    .dataframe tbody tr th {\n",
       "        vertical-align: top;\n",
       "    }\n",
       "\n",
       "    .dataframe thead th {\n",
       "        text-align: right;\n",
       "    }\n",
       "</style>\n",
       "<table border=\"1\" class=\"dataframe\">\n",
       "  <thead>\n",
       "    <tr style=\"text-align: right;\">\n",
       "      <th></th>\n",
       "      <th>page</th>\n",
       "      <th>id</th>\n",
       "      <th>suggestion</th>\n",
       "      <th>author</th>\n",
       "      <th>date_created</th>\n",
       "      <th>last_upvoted</th>\n",
       "      <th>comments</th>\n",
       "      <th>status</th>\n",
       "      <th>votes</th>\n",
       "      <th>date_created_month</th>\n",
       "    </tr>\n",
       "  </thead>\n",
       "  <tbody>\n",
       "    <tr>\n",
       "      <th>1</th>\n",
       "      <td>1</td>\n",
       "      <td>170983</td>\n",
       "      <td>Watch an ad to see a person who likes you</td>\n",
       "      <td>Anonymous</td>\n",
       "      <td>19 Mar, 2021</td>\n",
       "      <td>yesterday</td>\n",
       "      <td>35.0</td>\n",
       "      <td>Feedback Needed</td>\n",
       "      <td>627.0</td>\n",
       "      <td>Mar</td>\n",
       "    </tr>\n",
       "    <tr>\n",
       "      <th>2</th>\n",
       "      <td>1</td>\n",
       "      <td>161962</td>\n",
       "      <td>Last onlinerecently active</td>\n",
       "      <td>Moses</td>\n",
       "      <td>22 Feb, 2021</td>\n",
       "      <td>today</td>\n",
       "      <td>54.0</td>\n",
       "      <td>Feedback Needed</td>\n",
       "      <td>598.0</td>\n",
       "      <td>Feb</td>\n",
       "    </tr>\n",
       "    <tr>\n",
       "      <th>3</th>\n",
       "      <td>1</td>\n",
       "      <td>177816</td>\n",
       "      <td>Skip a profile save for later</td>\n",
       "      <td>Brian</td>\n",
       "      <td>11 Apr, 2021</td>\n",
       "      <td>today</td>\n",
       "      <td>42.0</td>\n",
       "      <td>Feedback Needed</td>\n",
       "      <td>521.0</td>\n",
       "      <td>Apr</td>\n",
       "    </tr>\n",
       "    <tr>\n",
       "      <th>4</th>\n",
       "      <td>1</td>\n",
       "      <td>164928</td>\n",
       "      <td>Filter church activity</td>\n",
       "      <td>Moses</td>\n",
       "      <td>01 Mar, 2021</td>\n",
       "      <td>30 Oct</td>\n",
       "      <td>47.0</td>\n",
       "      <td>Released</td>\n",
       "      <td>483.0</td>\n",
       "      <td>Mar</td>\n",
       "    </tr>\n",
       "    <tr>\n",
       "      <th>5</th>\n",
       "      <td>1</td>\n",
       "      <td>296565</td>\n",
       "      <td>Remove swipe limit</td>\n",
       "      <td>Sheppard</td>\n",
       "      <td>30 Apr</td>\n",
       "      <td>today</td>\n",
       "      <td>66.0</td>\n",
       "      <td>Feedback Needed</td>\n",
       "      <td>382.0</td>\n",
       "      <td>Apr</td>\n",
       "    </tr>\n",
       "    <tr>\n",
       "      <th>39</th>\n",
       "      <td>1</td>\n",
       "      <td>165279</td>\n",
       "      <td>Birthday surprise</td>\n",
       "      <td>Jefferson Glenn</td>\n",
       "      <td>02 Mar, 2021</td>\n",
       "      <td>29 Oct</td>\n",
       "      <td>10.0</td>\n",
       "      <td>Open</td>\n",
       "      <td>288.0</td>\n",
       "      <td>Mar</td>\n",
       "    </tr>\n",
       "    <tr>\n",
       "      <th>40</th>\n",
       "      <td>1</td>\n",
       "      <td>161959</td>\n",
       "      <td>Filter has children or not</td>\n",
       "      <td>Moses</td>\n",
       "      <td>22 Feb, 2021</td>\n",
       "      <td>13 Oct</td>\n",
       "      <td>29.0</td>\n",
       "      <td>Released</td>\n",
       "      <td>256.0</td>\n",
       "      <td>Feb</td>\n",
       "    </tr>\n",
       "    <tr>\n",
       "      <th>41</th>\n",
       "      <td>1</td>\n",
       "      <td>161947</td>\n",
       "      <td>Filter interest level</td>\n",
       "      <td>Moses</td>\n",
       "      <td>22 Feb, 2021</td>\n",
       "      <td>19 Oct</td>\n",
       "      <td>39.0</td>\n",
       "      <td>Released</td>\n",
       "      <td>243.0</td>\n",
       "      <td>Feb</td>\n",
       "    </tr>\n",
       "    <tr>\n",
       "      <th>6</th>\n",
       "      <td>1</td>\n",
       "      <td>161000</td>\n",
       "      <td>Dark mode</td>\n",
       "      <td>Moses</td>\n",
       "      <td>19 Feb, 2021</td>\n",
       "      <td>2 days ago</td>\n",
       "      <td>11.0</td>\n",
       "      <td>Feedback Needed</td>\n",
       "      <td>224.0</td>\n",
       "      <td>Feb</td>\n",
       "    </tr>\n",
       "    <tr>\n",
       "      <th>7</th>\n",
       "      <td>1</td>\n",
       "      <td>169459</td>\n",
       "      <td>Voice messaging</td>\n",
       "      <td>Johnson Daniel Kalu</td>\n",
       "      <td>15 Mar, 2021</td>\n",
       "      <td>30 Oct</td>\n",
       "      <td>18.0</td>\n",
       "      <td>Feedback Needed</td>\n",
       "      <td>206.0</td>\n",
       "      <td>Mar</td>\n",
       "    </tr>\n",
       "  </tbody>\n",
       "</table>\n",
       "</div>"
      ],
      "text/plain": [
       "    page      id                                 suggestion  \\\n",
       "1      1  170983  Watch an ad to see a person who likes you   \n",
       "2      1  161962                 Last onlinerecently active   \n",
       "3      1  177816              Skip a profile save for later   \n",
       "4      1  164928                     Filter church activity   \n",
       "5      1  296565                         Remove swipe limit   \n",
       "39     1  165279                          Birthday surprise   \n",
       "40     1  161959                 Filter has children or not   \n",
       "41     1  161947                      Filter interest level   \n",
       "6      1  161000                                  Dark mode   \n",
       "7      1  169459                            Voice messaging   \n",
       "\n",
       "                 author  date_created last_upvoted  comments           status  \\\n",
       "1             Anonymous  19 Mar, 2021    yesterday      35.0  Feedback Needed   \n",
       "2                 Moses  22 Feb, 2021        today      54.0  Feedback Needed   \n",
       "3                 Brian  11 Apr, 2021        today      42.0  Feedback Needed   \n",
       "4                 Moses  01 Mar, 2021       30 Oct      47.0         Released   \n",
       "5              Sheppard        30 Apr        today      66.0  Feedback Needed   \n",
       "39      Jefferson Glenn  02 Mar, 2021       29 Oct      10.0             Open   \n",
       "40                Moses  22 Feb, 2021       13 Oct      29.0         Released   \n",
       "41                Moses  22 Feb, 2021       19 Oct      39.0         Released   \n",
       "6                 Moses  19 Feb, 2021   2 days ago      11.0  Feedback Needed   \n",
       "7   Johnson Daniel Kalu  15 Mar, 2021       30 Oct      18.0  Feedback Needed   \n",
       "\n",
       "    votes date_created_month  \n",
       "1   627.0                Mar  \n",
       "2   598.0                Feb  \n",
       "3   521.0                Apr  \n",
       "4   483.0                Mar  \n",
       "5   382.0                Apr  \n",
       "39  288.0                Mar  \n",
       "40  256.0                Feb  \n",
       "41  243.0                Feb  \n",
       "6   224.0                Feb  \n",
       "7   206.0                Mar  "
      ]
     },
     "execution_count": 11,
     "metadata": {},
     "output_type": "execute_result"
    }
   ],
   "source": [
    "# Top 10 votes features not done:\n",
    "data[data.status!='Done'].sort_values('votes', ascending=False)[:10]"
   ]
  },
  {
   "cell_type": "code",
   "execution_count": null,
   "metadata": {},
   "outputs": [],
   "source": []
  },
  {
   "cell_type": "code",
   "execution_count": null,
   "metadata": {},
   "outputs": [],
   "source": []
  }
 ],
 "metadata": {
  "kernelspec": {
   "display_name": "Python 3.9.0 64-bit",
   "language": "python",
   "name": "python3"
  },
  "language_info": {
   "codemirror_mode": {
    "name": "ipython",
    "version": 3
   },
   "file_extension": ".py",
   "mimetype": "text/x-python",
   "name": "python",
   "nbconvert_exporter": "python",
   "pygments_lexer": "ipython3",
   "version": "3.9.0"
  },
  "orig_nbformat": 4,
  "vscode": {
   "interpreter": {
    "hash": "397704579725e15f5c7cb49fe5f0341eb7531c82d19f2c29d197e8b64ab5776b"
   }
  }
 },
 "nbformat": 4,
 "nbformat_minor": 2
}
