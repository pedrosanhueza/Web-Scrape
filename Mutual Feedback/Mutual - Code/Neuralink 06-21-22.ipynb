{
 "cells": [
  {
   "cell_type": "code",
   "execution_count": 1,
   "metadata": {},
   "outputs": [],
   "source": [
    "import requests\n",
    "from bs4 import BeautifulSoup\n",
    "import pandas as pd"
   ]
  },
  {
   "cell_type": "code",
   "execution_count": 2,
   "metadata": {},
   "outputs": [],
   "source": [
    "url = 'https://neuralink.com/careers/'\n",
    "response = requests.get(url)\n",
    "soup = BeautifulSoup(response.text, 'html.parser')"
   ]
  },
  {
   "cell_type": "code",
   "execution_count": 16,
   "metadata": {},
   "outputs": [],
   "source": [
    "a = [ x for x in set([tag.name for tag in soup.find_all()])]\n"
   ]
  },
  {
   "cell_type": "code",
   "execution_count": 25,
   "metadata": {},
   "outputs": [],
   "source": [
    "soup.find_all('div')\n"
   ]
  },
  {
   "cell_type": "code",
   "execution_count": 26,
   "metadata": {},
   "outputs": [],
   "source": [
    "# [x['href'] for x in soup.select('a') ]"
   ]
  },
  {
   "cell_type": "code",
   "execution_count": 4,
   "metadata": {},
   "outputs": [
    {
     "data": {
      "text/plain": [
       "[<p class=\"_hidden\" id=\"header_navLabel\">\n",
       "         Header Navigation\n",
       "       </p>,\n",
       " <p class=\"hero-subheading\" style=\"max-width: 40ch; margin-bottom: -5rem;\">\n",
       "         Developing neural interfaces is an interdisciplinary challenge. We are looking to hire a wide range of people with diverse engineering, scientific, and operations expertise.\n",
       "       </p>,\n",
       " <p>Developing neural interfaces is an interdisciplinary challenge. We are looking to hire a wide range of people with diverse engineering, scientific, and operations expertise.</p>,\n",
       " <p>This team is responsible for the entirety of the neural implant, from sensing the signals emanating from then neurons in your brain all the way to transmitting that data wirelessly to a smart device. Doing this in a way that’s biocompatible, lasts for many years, and can sit invisibly inside the head is no small task and requires an interdisciplinary effort from the microfabrication of electrodes, custom chip design, hermetic packaging, wireless power and data transfer, and firmware development.</p>,\n",
       " <p><em>No prior experience in neuroscience is necessary—we will teach you everything you need to know.</em></p>,\n",
       " <p>The robotics team is responsible for implanting the neural implant in our users. A robot is two fold necessary for this: first, the threads are smaller than a human hair and cannot be grasped, manipulated, and accurately inserted by a human surgeon. Doing this requires micron precision for the grasp, tens of microns of precision for localizing and tracking the moving brain during insertion, and high speed in order to get hundreds of threads in quickly. Second, scaling to hundreds of thousands then millions of users means that not only must the thread insertion be automated but also the planning and execution of the rest of the surgery. Without doing so, the supply of neurosurgeons quickly runs out.</p>,\n",
       " <p>Executing on both of these requires novel sensing, kinematics, computer vision, precision mechanical and electrical design, optics, and really everything to do with the design, control, and use of safety critical high precision mechatronics systems.</p>,\n",
       " <p><em>No prior experience in neuroscience is necessary—we will teach you everything you need to know.</em></p>,\n",
       " <p class=\"hero-subheading\" style=\"\">\n",
       "           Neuralink is a team of exceptionally talented people. We are creating the future of brain interfaces: building devices now that will help people with paralysis and inventing new technologies that will expand our abilities, our community, and our world.\n",
       "         </p>,\n",
       " <p class=\"hero-cta\">\n",
       " <span class=\"button -cta\">\n",
       "             About Us\n",
       " \n",
       "             <span class=\"arrowPacman\">\n",
       " <span class=\"arrowPacman-clip\">\n",
       " <svg fill=\"none\" height=\"14\" viewbox=\"0 0 14 14\" width=\"14\" xmlns=\"http://www.w3.org/2000/svg\">\n",
       " <path d=\"M7.10081 0L5.88245 1.23617L10.7016 6.12576H0V7.87423H10.7016L5.88245 12.7638L7.10081 14L14 7L7.10081 0Z\" fill=\"white\"></path>\n",
       " </svg>\n",
       " <svg fill=\"none\" height=\"14\" viewbox=\"0 0 14 14\" width=\"14\" xmlns=\"http://www.w3.org/2000/svg\">\n",
       " <path d=\"M7.10081 0L5.88245 1.23617L10.7016 6.12576H0V7.87423H10.7016L5.88245 12.7638L7.10081 14L14 7L7.10081 0Z\" fill=\"white\"></path>\n",
       " </svg>\n",
       " </span>\n",
       " </span>\n",
       " </span>\n",
       " </p>,\n",
       " <p class=\"pageList-cta button -cta -color-white\">\n",
       " <span class=\"pageList-cta-text\">About Us</span><svg fill=\"none\" height=\"14\" viewbox=\"0 0 14 14\" width=\"14\" xmlns=\"http://www.w3.org/2000/svg\">\n",
       " <path d=\"M7.10081 0L5.88245 1.23617L10.7016 6.12576H0V7.87423H10.7016L5.88245 12.7638L7.10081 14L14 7L7.10081 0Z\" fill=\"white\"></path>\n",
       " </svg></p>,\n",
       " <p>\n",
       "           © Neuralink 2022\n",
       "         </p>,\n",
       " <p>\n",
       "           All Rights Reserved.\n",
       "         </p>,\n",
       " <p class=\"_hidden\" id=\"footer_navLabel\">\n",
       "         Footer Navigation\n",
       "       </p>]"
      ]
     },
     "execution_count": 4,
     "metadata": {},
     "output_type": "execute_result"
    }
   ],
   "source": [
    "soup.find_all('p')"
   ]
  },
  {
   "cell_type": "code",
   "execution_count": null,
   "metadata": {},
   "outputs": [],
   "source": []
  }
 ],
 "metadata": {
  "kernelspec": {
   "display_name": "Python 3.9.0 64-bit",
   "language": "python",
   "name": "python3"
  },
  "language_info": {
   "codemirror_mode": {
    "name": "ipython",
    "version": 3
   },
   "file_extension": ".py",
   "mimetype": "text/x-python",
   "name": "python",
   "nbconvert_exporter": "python",
   "pygments_lexer": "ipython3",
   "version": "3.9.0"
  },
  "orig_nbformat": 4,
  "vscode": {
   "interpreter": {
    "hash": "aee8b7b246df8f9039afb4144a1f6fd8d2ca17a180786b69acc140d282b71a49"
   }
  }
 },
 "nbformat": 4,
 "nbformat_minor": 2
}
