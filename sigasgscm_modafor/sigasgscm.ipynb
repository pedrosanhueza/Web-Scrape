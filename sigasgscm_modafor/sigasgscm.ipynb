{
 "cells": [
  {
   "cell_type": "code",
   "execution_count": 54,
   "metadata": {},
   "outputs": [],
   "source": [
    "import requests\n",
    "import pandas as pd\n",
    "from datetime import date"
   ]
  },
  {
   "cell_type": "code",
   "execution_count": 72,
   "metadata": {},
   "outputs": [],
   "source": [
    "today = date.today()\n",
    "\n",
    "fecha_de_hoy = today.strftime(\"%Y%m%d\")\n",
    "\n",
    "base_url = \"http://sigasgscm.modafor.cl:444/mcasg/publico/m01_consultasp_c.jsp?\"\n",
    "\n",
    "params = {\n",
    "    'prm': 'R',\n",
    "    'SD': '.',\n",
    "    'id_cliente': '1',\n",
    "    'id_proyecto': '1',\n",
    "    'id_usuario': '2',\n",
    "    'id_estacion': '1', #Sierra Gorda\n",
    "    'id_formato': 'PH', #Promedio Hora\n",
    "    'id_variable': 'MP-10',\n",
    "    'fini': f'{fecha_de_hoy}', #fecha inicio\n",
    "    'fter': f'{fecha_de_hoy}', # fecha termino\n",
    "    # '_': '1686679152954' # not needed?\n",
    "}\n",
    "\n",
    "response = requests.get(base_url, params=params)"
   ]
  },
  {
   "cell_type": "code",
   "execution_count": 76,
   "metadata": {},
   "outputs": [],
   "source": [
    "data = response.json()['data']\n",
    "\n",
    "columns = response.json()['columns']\n",
    "\n",
    "table = pd.DataFrame(data, columns=columns)\n",
    "\n",
    "table.to_csv(f'Consultas en Linea {fecha_de_hoy}.csv', index=False)"
   ]
  }
 ],
 "metadata": {
  "kernelspec": {
   "display_name": "Python 3",
   "language": "python",
   "name": "python3"
  },
  "language_info": {
   "codemirror_mode": {
    "name": "ipython",
    "version": 3
   },
   "file_extension": ".py",
   "mimetype": "text/x-python",
   "name": "python",
   "nbconvert_exporter": "python",
   "pygments_lexer": "ipython3",
   "version": "3.9.0"
  },
  "orig_nbformat": 4
 },
 "nbformat": 4,
 "nbformat_minor": 2
}
