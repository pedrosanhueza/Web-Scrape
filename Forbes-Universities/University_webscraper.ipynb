{
 "cells": [
  {
   "cell_type": "code",
   "execution_count": null,
   "metadata": {},
   "outputs": [],
   "source": [
    "import requests\n",
    "import pandas as pd"
   ]
  },
  {
   "cell_type": "code",
   "execution_count": null,
   "metadata": {},
   "outputs": [],
   "source": [
    "response = requests.get('https://www.forbes.com/forbesapi/org/top-colleges/2021/position/true.json?limit=1000&fields=organizationName,academics,state,financialAid,rank,medianBaseSalary,campusSetting,studentPopulation,organization,description')\n",
    "\n",
    "responseObject = response.json()\n",
    "\n",
    "responseData = responseObject['organizationList']['organizationsLists']\n",
    "\n",
    "data_main = pd.DataFrame(responseData)"
   ]
  },
  {
   "cell_type": "markdown",
   "metadata": {},
   "source": [
    "#### Adding 'organization' to main table"
   ]
  },
  {
   "cell_type": "code",
   "execution_count": null,
   "metadata": {},
   "outputs": [],
   "source": [
    "# add organization\n",
    "organization = [ x['organization'] for x in responseData]\n",
    "data_main = pd.concat([data_main, pd.DataFrame(organization)], axis=1)"
   ]
  },
  {
   "cell_type": "markdown",
   "metadata": {},
   "source": [
    "#### Add single 'Primary_Key' column to main table"
   ]
  },
  {
   "cell_type": "code",
   "execution_count": null,
   "metadata": {},
   "outputs": [],
   "source": [
    "# add naturalId column\n",
    "data_main['Primary_Key'] = [ x['organization']['naturalId'].split('/')[-1] for x in responseData]"
   ]
  },
  {
   "cell_type": "markdown",
   "metadata": {},
   "source": [
    "#### Adding 'organization/geoLocation' to main table"
   ]
  },
  {
   "cell_type": "code",
   "execution_count": null,
   "metadata": {},
   "outputs": [],
   "source": [
    "\n",
    "# add geoLocation columns\n",
    "rows = []\n",
    "for organizationsLists in responseData:\n",
    "    row = {}    \n",
    "    # row['Primary_Key'] = organizationsLists['organization']['naturalId'].split('/')[-1]\n",
    "    try:\n",
    "        row['latitude'] = organizationsLists['organization']['geoLocation']['latitude']\n",
    "    except:\n",
    "        pass\n",
    "    try:\n",
    "        row['longitude']= organizationsLists['organization']['geoLocation']['longitude']\n",
    "    except:\n",
    "        pass\n",
    "    rows.append(row)\n",
    "data_main = pd.concat([data_main, pd.DataFrame(rows)], axis=1)"
   ]
  },
  {
   "cell_type": "markdown",
   "metadata": {},
   "source": [
    "#### Adding 'Academics' to main table"
   ]
  },
  {
   "cell_type": "code",
   "execution_count": null,
   "metadata": {},
   "outputs": [],
   "source": [
    "academics_df = pd.DataFrame(responseData)['academics'].apply(pd.Series)[['type','studentFacultyRatio','undergraduatePopulation']]\n",
    "data_main = data_main.merge(academics_df, left_on='studentPopulation',right_on='undergraduatePopulation')\n",
    "\n",
    "academics = [ # items in the 'academics' key to be unpacked\n",
    "    'attendanceStatus',\n",
    "    'firstToSecondYearRetention',\n",
    "    'overallGraduationRates',\n",
    "    'enrollmentByGender',\n",
    "    'graduationRateByGender',\n",
    "    'enrollmentByRace',\n",
    "    'graduationRateByRace']\n",
    "\n",
    "def restructure(list_of_dictionaries,name): # change the shape of the json\n",
    "    row = {}\n",
    "    for item in list_of_dictionaries:\n",
    "        key_value = [value for key,value in item.items()]\n",
    "        key_name = name + '_' + key_value[0]\n",
    "        row[key_name] = key_value[1]\n",
    "    return row\n",
    "\n",
    "def dataFrame_of_Item(item): # build a data frame from all json's \n",
    "    list_of_rows = []\n",
    "    for organization in responseData:\n",
    "        # create reshaped json\n",
    "        graduationRateByRace = restructure(organization['academics'][item],item)\n",
    "        # add primary_key number\n",
    "        # graduationRateByRace['PrimaryKey'] = organization['organization']['naturalId'].split('/')[-1]\n",
    "        # append to list\n",
    "        list_of_rows.append(graduationRateByRace)\n",
    "    return pd.DataFrame(list_of_rows)\n",
    "\n",
    "# add date frames to main data\n",
    "df_ls = []\n",
    "for item in academics:\n",
    "    df_ls.append(dataFrame_of_Item(item))\n",
    "\n",
    "academics_unpacked = pd.concat(df_ls, axis=1)\n",
    "\n",
    "data_main = pd.concat([data_main,academics_unpacked], axis=1)\n",
    "\n"
   ]
  },
  {
   "cell_type": "markdown",
   "metadata": {},
   "source": [
    "#### Adding 'organization/socialNetworks' to main table"
   ]
  },
  {
   "cell_type": "code",
   "execution_count": null,
   "metadata": {},
   "outputs": [],
   "source": [
    "def restructure(list_of_dictionaries): # input: list of dictionaries | output: structured dictionary\n",
    "    row = {}\n",
    "    for item in list_of_dictionaries:\n",
    "        key_value = [value for key,value in item.items()]\n",
    "        key_name =key_value[0]\n",
    "        row[key_name] = key_value[1]\n",
    "    return row\n",
    "\n",
    "def dataFrame_of_Item(col_name,item,TF): # input: name of dict to unpack | output: data frame\n",
    "    list_of_rows = []\n",
    "    for organization in responseData:\n",
    "        # create json\n",
    "        dictionary = {}\n",
    "        try:\n",
    "            # create reshaped json\n",
    "            dictionary = dictionary | restructure(organization[col_name][item])\n",
    "        except:\n",
    "            pass\n",
    "        # add primary_key number\n",
    "        if TF:\n",
    "            dictionary['Primary_Key'] = organization['organization']['naturalId'].split('/')[-1]\n",
    "        # append to list\n",
    "        list_of_rows.append(dictionary)\n",
    "    return pd.DataFrame(list_of_rows)\n",
    "\n",
    "df_socialNetworks = dataFrame_of_Item('organization','socialNetworks',True)\n",
    "\n",
    "data_main = data_main.merge(df_socialNetworks, on='Primary_Key')"
   ]
  },
  {
   "cell_type": "markdown",
   "metadata": {},
   "source": [
    "#### Adding 'financialAid' to main table"
   ]
  },
  {
   "cell_type": "code",
   "execution_count": null,
   "metadata": {},
   "outputs": [],
   "source": [
    "financialAid = [\n",
    "    'grantAidByType',\n",
    "    'avgGrantAidByType',\n",
    "    'loansByType',\n",
    "    'avgLoansByType']\n",
    "\n",
    "def restructure(list_of_dictionaries): # input: list of dictionaries | output: structured dictionary\n",
    "    row = {}\n",
    "    for item in list_of_dictionaries:\n",
    "        key_value = [value for key,value in item.items()]\n",
    "        key_name =key_value[0]\n",
    "        row[key_name] = key_value[1]\n",
    "    return row\n",
    "\n",
    "def dataFrame_of_Item(col_name,item,TF): # input: name of dict to unpack | output: data frame\n",
    "    list_of_rows = []\n",
    "    for organization in responseData:\n",
    "        # create json\n",
    "        dictionary = {}\n",
    "        try:\n",
    "            # create reshaped json\n",
    "            dictionary = dictionary | restructure(organization[col_name][item])\n",
    "        except:\n",
    "            pass\n",
    "        # add primary_key number\n",
    "        if TF:\n",
    "            dictionary['Primary_Key'] = organization['organization']['naturalId'].split('/')[-1]\n",
    "        # append to list\n",
    "        list_of_rows.append(dictionary)\n",
    "    return pd.DataFrame(list_of_rows)\n",
    "\n",
    "# add date frames to main data\n",
    "df_ls = []\n",
    "\n",
    "for item in financialAid:\n",
    "    df_ls.append(dataFrame_of_Item('financialAid',item,True))\n",
    "\n",
    "financialAid_unpacked = pd.concat(df_ls, axis=1)\n",
    "\n",
    "financialAid_unpacked = financialAid_unpacked.loc[:, ~financialAid_unpacked.columns.duplicated()]\n",
    "\n",
    "data_main = data_main.merge(financialAid_unpacked)\n",
    "\n",
    "data_main = data_main.loc[:, ~data_main.columns.duplicated()]\n",
    "\n",
    "drop_columns = ['organization','academics','financialAid','listImages','geoLocation','visible','relatedVisible','imageExists','socialNetworks','collegeMedia']\n",
    "\n",
    "data_main.drop(drop_columns, axis=1, inplace=True)"
   ]
  },
  {
   "cell_type": "code",
   "execution_count": null,
   "metadata": {},
   "outputs": [],
   "source": [
    "data_main[['latitude', 'longitude']]"
   ]
  },
  {
   "cell_type": "markdown",
   "metadata": {},
   "source": [
    "# ------------------ TEST AREA ------------------"
   ]
  },
  {
   "cell_type": "markdown",
   "metadata": {},
   "source": [
    "# WHAT TO DO:\n",
    "* ~~unpack 'organization'~~\n",
    "    * ~~unpack 'geoLocation'~~\n",
    "    * ~~unpack 'socialNetworks'~~\n",
    "* ~~unpack 'academics'~~\n",
    "    * ~~unpack 'attendanceStatus'~~\n",
    "    * ~~unpack 'firstToSecondYearRetention'~~\n",
    "    * ~~unpack 'overallGraduationRates'~~\n",
    "    * ~~unpack 'enrollmentByGender'~~\n",
    "    * ~~unpack 'graduationRateByGender'~~\n",
    "    * ~~unpack 'enrollmentByRace'~~\n",
    "    * ~~unpack 'graduationRateByRace'~~\n",
    "* ~~unpack 'financialAid'~~\n",
    "    * ~~grantAidByType~~\n",
    "    * ~~avgGrantAidByType~~\n",
    "    * ~~loansByType~~\n",
    "    * ~~avgLoansByType~~\n",
    "* ~~drop unnecessary columns~~"
   ]
  },
  {
   "cell_type": "code",
   "execution_count": null,
   "metadata": {},
   "outputs": [],
   "source": [
    "data_main.shape\n"
   ]
  },
  {
   "cell_type": "code",
   "execution_count": null,
   "metadata": {},
   "outputs": [],
   "source": [
    "col_to_drop = [\n",
    "       'organization',\n",
    "       'academics',\n",
    "       'financialAid',\n",
    "       'listImages',\n",
    "       'visible',\n",
    "       'relatedVisible',\n",
    "       'imageExists',\n",
    "       'recentContentCount',\n",
    "       'country',\n",
    "       'collegeMedia',\n",
    "       'landscapeImage',\n",
    "       'industries',\n",
    "       'embargo',\n",
    "       'image',\n",
    "       'industry',\n",
    "       'ceoName',\n",
    "       'ceoTitle',\n",
    "       'premiumProfile',\n",
    "       'employees',\n",
    "       'portraitImage',\n",
    "       'naturalId',\n",
    "       'geoLocation',\n",
    "       'uri',\n",
    "       'uris',\n",
    "       'socialNetworks',\n",
    "       'placeUri'\n",
    "       ]\n",
    "\n",
    "data_main.drop(col_to_drop, axis=1, inplace=True)\n"
   ]
  },
  {
   "cell_type": "code",
   "execution_count": null,
   "metadata": {},
   "outputs": [],
   "source": [
    "\n",
    "data_main.to_csv('University_Data.csv')"
   ]
  },
  {
   "cell_type": "code",
   "execution_count": null,
   "metadata": {},
   "outputs": [],
   "source": [
    "pd.options.display.max_columns = None\n",
    "data_main"
   ]
  },
  {
   "cell_type": "code",
   "execution_count": null,
   "metadata": {},
   "outputs": [],
   "source": []
  },
  {
   "cell_type": "code",
   "execution_count": null,
   "metadata": {},
   "outputs": [],
   "source": []
  },
  {
   "cell_type": "code",
   "execution_count": null,
   "metadata": {},
   "outputs": [],
   "source": [
    "pd.options.display.max_columns = None\n",
    "data_main.head()"
   ]
  },
  {
   "cell_type": "code",
   "execution_count": null,
   "metadata": {},
   "outputs": [],
   "source": [
    "data_main[data_main.organizationName == 'Brigham Young University']"
   ]
  },
  {
   "cell_type": "code",
   "execution_count": null,
   "metadata": {},
   "outputs": [],
   "source": [
    "data_main[data_main.organizationName.str.contains('Brigham')]"
   ]
  },
  {
   "cell_type": "code",
   "execution_count": null,
   "metadata": {},
   "outputs": [],
   "source": [
    "pd.options.display.max_rows = 100\n",
    "# data_main.sort_values(by='enrollmentByGender_enrollmentFemale', ascending=False)"
   ]
  },
  {
   "cell_type": "code",
   "execution_count": null,
   "metadata": {},
   "outputs": [],
   "source": [
    "data_main.columns"
   ]
  },
  {
   "cell_type": "code",
   "execution_count": null,
   "metadata": {},
   "outputs": [],
   "source": [
    "pd.options.display.max_rows = None\n",
    "\n",
    "# data_main[data_main.].dropna(subset=['latitude'])"
   ]
  },
  {
   "cell_type": "code",
   "execution_count": null,
   "metadata": {},
   "outputs": [],
   "source": [
    "data_main.state.unique()"
   ]
  },
  {
   "cell_type": "code",
   "execution_count": null,
   "metadata": {},
   "outputs": [],
   "source": [
    "data_main.longitude.dropna().max()"
   ]
  },
  {
   "cell_type": "code",
   "execution_count": null,
   "metadata": {},
   "outputs": [],
   "source": [
    "data_main[data_main.longitude == 85.5016][['latitude','longitude']]"
   ]
  },
  {
   "cell_type": "code",
   "execution_count": null,
   "metadata": {},
   "outputs": [],
   "source": [
    "data_main[data_main.longitude == 85.5016]"
   ]
  },
  {
   "cell_type": "code",
   "execution_count": null,
   "metadata": {},
   "outputs": [],
   "source": []
  },
  {
   "cell_type": "code",
   "execution_count": null,
   "metadata": {},
   "outputs": [],
   "source": []
  },
  {
   "cell_type": "code",
   "execution_count": null,
   "metadata": {},
   "outputs": [],
   "source": []
  },
  {
   "cell_type": "code",
   "execution_count": null,
   "metadata": {},
   "outputs": [],
   "source": []
  },
  {
   "cell_type": "code",
   "execution_count": null,
   "metadata": {},
   "outputs": [],
   "source": []
  },
  {
   "cell_type": "code",
   "execution_count": null,
   "metadata": {},
   "outputs": [],
   "source": []
  },
  {
   "cell_type": "code",
   "execution_count": null,
   "metadata": {},
   "outputs": [],
   "source": []
  },
  {
   "cell_type": "code",
   "execution_count": null,
   "metadata": {},
   "outputs": [],
   "source": [
    "pd.options.display.max_columns = None\n",
    "pd.options.display.max_rows = 10"
   ]
  },
  {
   "cell_type": "code",
   "execution_count": null,
   "metadata": {},
   "outputs": [],
   "source": [
    "data_main.head(3)"
   ]
  },
  {
   "cell_type": "code",
   "execution_count": null,
   "metadata": {},
   "outputs": [],
   "source": [
    "[x for x in data_main.columns]"
   ]
  },
  {
   "cell_type": "code",
   "execution_count": null,
   "metadata": {},
   "outputs": [],
   "source": []
  },
  {
   "cell_type": "code",
   "execution_count": null,
   "metadata": {},
   "outputs": [],
   "source": []
  },
  {
   "cell_type": "code",
   "execution_count": null,
   "metadata": {},
   "outputs": [],
   "source": [
    "columns_keep = [\n",
    "# 'description',\n",
    " 'rank',\n",
    " 'organizationName',\n",
    " 'state',\n",
    " 'studentPopulation',\n",
    "#  'campusSetting',\n",
    " 'medianBaseSalary',\n",
    "#  'naturalId',\n",
    "#  'name',\n",
    "#  'uri',\n",
    " 'webSite',\n",
    " 'phoneNumber',\n",
    "#  'recentContentCount',\n",
    "#  'uris',\n",
    "#  'shortUri',\n",
    " 'squareImage',\n",
    " 'city',\n",
    "#  'country',\n",
    " 'region',\n",
    "#  'yearFounded',\n",
    " 'stateCode',\n",
    "#  'placeUri',\n",
    "#  'landscapeImage',\n",
    "#  'industries',\n",
    "#  'embargo',\n",
    "#  'image',\n",
    "#  'industry',\n",
    "#  'ceoName',\n",
    "#  'ceoTitle',\n",
    "#  'parentOrganization',\n",
    "#  'premiumProfile',\n",
    "#  'employees',\n",
    "#  'portraitImage',\n",
    "#  'Primary_Key',\n",
    " 'latitude',\n",
    " 'longitude',\n",
    " 'type',\n",
    " 'studentFacultyRatio',\n",
    " 'undergraduatePopulation',\n",
    "#  'attendanceStatus_partTime',\n",
    "#  'attendanceStatus_fullTime',\n",
    "#  'firstToSecondYearRetention_fullTime',\n",
    "#  'firstToSecondYearRetention_partTime',\n",
    "#  'overallGraduationRates_4',\n",
    "#  'overallGraduationRates_6',.\n",
    " 'enrollmentByGender_enrollmentMale',\n",
    " 'enrollmentByGender_enrollmentFemale',\n",
    "#  'enrollmentByGender_AgeUnder18',\n",
    "#  'enrollmentByGender_Age18to24',\n",
    "#  'enrollmentByGender_Age25to64',\n",
    "#  'enrollmentByGender_Age65andOver',\n",
    " 'graduationRateByGender_graduationMale',\n",
    " 'graduationRateByGender_graduationFemale',\n",
    "#  'enrollmentByRace_americanIndian',\n",
    "#  'enrollmentByRace_asian',\n",
    "#  'enrollmentByRace_hawaiianPacific',\n",
    "#  'enrollmentByRace_africanAmerican',\n",
    "#  'enrollmentByRace_hispanic',\n",
    "#  'enrollmentByRace_white',\n",
    "#  'enrollmentByRace_twoRaces',\n",
    "#  'enrollmentByRace_unknown',\n",
    "#  'enrollmentByRace_alien',\n",
    "#  'graduationRateByRace_americanIndian',\n",
    "#  'graduationRateByRace_asian',\n",
    "#  'graduationRateByRace_hawaiianPacific',\n",
    "#  'graduationRateByRace_africanAmerican',\n",
    "#  'graduationRateByRace_hispanic',\n",
    "#  'graduationRateByRace_white',\n",
    "#  'graduationRateByRace_twoRaces',\n",
    "#  'graduationRateByRace_unknown',\n",
    "#  'graduationRateByRace_alien',\n",
    " 'Twitter',\n",
    " 'Facebook',\n",
    " 'LinkedIn',\n",
    " 'Instagram',\n",
    " 'YouTube',\n",
    " 'federalGrant'\n",
    "#  'pellGrant',\n",
    "#  'otherFederalGrant',\n",
    "#  'stateLocalGrant',\n",
    "#  'institutionalGrant',\n",
    "#  'anyGrant',\n",
    "#  'anyLoan',\n",
    "#  'federalLoan',\n",
    "#  'nonFederalLoan'\n",
    " ]"
   ]
  },
  {
   "cell_type": "code",
   "execution_count": null,
   "metadata": {},
   "outputs": [],
   "source": [
    "for e in columns_keep:\n",
    "    print(e)"
   ]
  },
  {
   "cell_type": "code",
   "execution_count": null,
   "metadata": {},
   "outputs": [],
   "source": []
  },
  {
   "cell_type": "code",
   "execution_count": null,
   "metadata": {},
   "outputs": [],
   "source": []
  },
  {
   "cell_type": "code",
   "execution_count": null,
   "metadata": {},
   "outputs": [],
   "source": []
  },
  {
   "cell_type": "code",
   "execution_count": null,
   "metadata": {},
   "outputs": [],
   "source": []
  },
  {
   "cell_type": "code",
   "execution_count": null,
   "metadata": {},
   "outputs": [],
   "source": [
    "url = 'https://byui.kuali.co/api/v1/catalog/courses/6102e778ef84b869ba4eb375?q='\n",
    "\n",
    "response = requests.get(url)\n",
    "\n",
    "responseObject = response.json()\n",
    "\n",
    "df = pd.DataFrame(responseObject)\n",
    "\n",
    "df = pd.concat([df, df.subjectCode.apply(pd.Series)], axis=1).drop(['subjectCode','__passedCatalogQuery','_score'], axis=1)\n",
    "\n",
    "df.columns = [\n",
    "    'catalogCourseId',\n",
    "    'dateStart',\n",
    "    'pid',\n",
    "    'id',\n",
    "    'title',\n",
    "    'catalogActivationDate',\n",
    "    'name',\n",
    "    'description',\n",
    "    'subjectCode-id',\n",
    "    'linkedGroup'\n",
    "]\n",
    "\n",
    "data = df"
   ]
  },
  {
   "cell_type": "code",
   "execution_count": null,
   "metadata": {},
   "outputs": [],
   "source": [
    "def str_num(word):\n",
    "    for letter in word:\n",
    "        if letter.isdigit():\n",
    "            idx = word.index(letter)\n",
    "            code = word[idx:]\n",
    "            break\n",
    "    return code"
   ]
  },
  {
   "cell_type": "code",
   "execution_count": null,
   "metadata": {},
   "outputs": [],
   "source": [
    "df.catalogCourseId.apply(lambda x: str_num(x))"
   ]
  },
  {
   "cell_type": "code",
   "execution_count": null,
   "metadata": {},
   "outputs": [],
   "source": [
    "# catalogBYUI\n",
    "\n",
    "import requests\n",
    "import pandas as pd\n",
    "\n",
    "url_display = 'https://www.byui.edu/catalog#/courses'\n",
    "\n",
    "url = 'https://byui.kuali.co/api/v1/catalog/courses/6102e778ef84b869ba4eb375?q='\n",
    "\n",
    "response = requests.get(url)\n",
    "\n",
    "responseObject = response.json()\n",
    "\n",
    "df = pd.DataFrame(responseObject)\n",
    "\n",
    "df = pd.concat([df, df.subjectCode.apply(pd.Series)], axis=1).drop(['subjectCode','__passedCatalogQuery','_score'], axis=1)\n",
    "\n",
    "def str_num(word):\n",
    "    for letter in word:\n",
    "        if letter.isdigit():\n",
    "            idx = word.index(letter)\n",
    "            code = word[idx:]\n",
    "            break\n",
    "    return code\n",
    "\n",
    "df['course-id'] = df.__catalogCourseId.apply(lambda x: str_num(x))\n",
    "\n",
    "df.columns = [\n",
    "    'catalogCourseId',\n",
    "    'dateStart',\n",
    "    'pid',\n",
    "    'id',\n",
    "    'title',\n",
    "    'catalogActivationDate',\n",
    "    'name',\n",
    "    'description',\n",
    "    'subjectCode-id',\n",
    "    'linkedGroup',\n",
    "    'course-id'\n",
    "]\n",
    "\n",
    "data = df\n",
    "\n",
    "# ----------------------- TEST -----------------------\n",
    "\n",
    "script_1 = '''\n",
    "url = 'https://byui.kuali.co/api/v1/catalog/courses/6102e778ef84b869ba4eb375?q='\n",
    "\n",
    "response = requests.get(url)\n",
    "\n",
    "responseObject = response.json()\n",
    "\n",
    "df = pd.DataFrame(responseObject)\n",
    "\n",
    "df = pd.concat([df, df.subjectCode.apply(pd.Series)], axis=1).drop(['subjectCode','__passedCatalogQuery','_score'], axis=1)\n",
    "\n",
    "df.columns = [\n",
    "    'catalogCourseId',\n",
    "    'dateStart',\n",
    "    'pid',\n",
    "    'id',\n",
    "    'title',\n",
    "    'catalogActivationDate',\n",
    "    'name',\n",
    "    'description',\n",
    "    'subjectCode-id',\n",
    "    'linkedGroup'\n",
    "]\n",
    "\n",
    "data = df\n",
    "'''"
   ]
  },
  {
   "cell_type": "code",
   "execution_count": null,
   "metadata": {},
   "outputs": [],
   "source": [
    "df"
   ]
  },
  {
   "cell_type": "code",
   "execution_count": null,
   "metadata": {},
   "outputs": [],
   "source": []
  }
 ],
 "metadata": {
  "kernelspec": {
   "display_name": "Python 3.9.0 64-bit",
   "language": "python",
   "name": "python3"
  },
  "language_info": {
   "codemirror_mode": {
    "name": "ipython",
    "version": 3
   },
   "file_extension": ".py",
   "mimetype": "text/x-python",
   "name": "python",
   "nbconvert_exporter": "python",
   "pygments_lexer": "ipython3",
   "version": "3.9.0"
  },
  "orig_nbformat": 4,
  "vscode": {
   "interpreter": {
    "hash": "397704579725e15f5c7cb49fe5f0341eb7531c82d19f2c29d197e8b64ab5776b"
   }
  }
 },
 "nbformat": 4,
 "nbformat_minor": 2
}
