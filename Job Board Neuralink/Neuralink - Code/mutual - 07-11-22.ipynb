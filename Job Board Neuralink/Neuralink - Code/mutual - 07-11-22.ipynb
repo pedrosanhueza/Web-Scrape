{
 "cells": [
  {
   "cell_type": "code",
   "execution_count": 2,
   "metadata": {},
   "outputs": [],
   "source": [
    "import requests\n",
    "from bs4 import BeautifulSoup\n",
    "import pandas as pd"
   ]
  },
  {
   "cell_type": "code",
   "execution_count": 3,
   "metadata": {},
   "outputs": [],
   "source": [
    "\n",
    "rows = []\n",
    "rows_votes = []\n",
    "\n",
    "for pag in range(7): # '7' because I know there are 7 pages\n",
    "    \n",
    "    url = f'https://feedback.mutual.app/?page={pag+1}&order=popular&filter=all#controls' # url for each page. only change the page number\n",
    "    response = requests.get(url)\n",
    "    soup = BeautifulSoup(response.text, 'html.parser')\n",
    "\n",
    "    info = soup.find_all('div',{'class':'sInfo'})\n",
    "    votes= soup.find_all('div',{'class':'sNumbers'})\n",
    "\n",
    "    for attribute in info:\n",
    "        row = {}\n",
    "        row['id'] = attribute.find('a')['href'].split('/')[2]\n",
    "        row['suggestion'] = attribute.find('a')['href'].split('/')[-1].replace('-',' ').capitalize()\n",
    "        row['author'] = attribute.find_all('strong')[0].get_text()\n",
    "        start = attribute.find_all('span')[0].get_text(strip=True).find('(')+1\n",
    "        end = attribute.find_all('span')[0].get_text(strip=True).find(')')\n",
    "        row['date_created'] = attribute.find_all('span')[0].get_text(strip=True)[start:end].replace('\\'','20')\n",
    "        row['last_upvoted'] = attribute.find_all('span',{'class':'sLastComment'})[0].get_text(strip=True)[9:]\n",
    "        row['comments'] = attribute.find_all('span',{'class':'sLabel'})[0].get_text(strip=True)[10:]\n",
    "        try:\n",
    "            row['status'] = attribute.find_all('div',{'class':'sLabels'})[0].get_text(strip=True).replace('Pinned','')\n",
    "        except:\n",
    "            pass\n",
    "        rows.append(row)\n",
    "\n",
    "    for attribute in votes:\n",
    "        row = {}\n",
    "        row['votes'] = attribute.find('a').get_text(strip=True)[:-5].replace('K','000')\n",
    "        rows_votes.append(row)\n",
    "\n",
    "    for idx,e in enumerate(rows):\n",
    "        rows_votes[idx].update(e)\n"
   ]
  },
  {
   "cell_type": "code",
   "execution_count": 4,
   "metadata": {},
   "outputs": [
    {
     "data": {
      "text/html": [
       "<div>\n",
       "<style scoped>\n",
       "    .dataframe tbody tr th:only-of-type {\n",
       "        vertical-align: middle;\n",
       "    }\n",
       "\n",
       "    .dataframe tbody tr th {\n",
       "        vertical-align: top;\n",
       "    }\n",
       "\n",
       "    .dataframe thead th {\n",
       "        text-align: right;\n",
       "    }\n",
       "</style>\n",
       "<table border=\"1\" class=\"dataframe\">\n",
       "  <thead>\n",
       "    <tr style=\"text-align: right;\">\n",
       "      <th></th>\n",
       "      <th>votes</th>\n",
       "      <th>id</th>\n",
       "      <th>suggestion</th>\n",
       "      <th>author</th>\n",
       "      <th>date_created</th>\n",
       "      <th>last_upvoted</th>\n",
       "      <th>comments</th>\n",
       "      <th>status</th>\n",
       "    </tr>\n",
       "  </thead>\n",
       "  <tbody>\n",
       "    <tr>\n",
       "      <th>0</th>\n",
       "      <td>1000</td>\n",
       "      <td>161005</td>\n",
       "      <td>See who i have liked</td>\n",
       "      <td>Moses</td>\n",
       "      <td>19 Feb, 2021</td>\n",
       "      <td>yesterday</td>\n",
       "      <td>72</td>\n",
       "      <td>Planned</td>\n",
       "    </tr>\n",
       "    <tr>\n",
       "      <th>1</th>\n",
       "      <td>506</td>\n",
       "      <td>161962</td>\n",
       "      <td>Last onlinerecently active</td>\n",
       "      <td>Moses</td>\n",
       "      <td>22 Feb, 2021</td>\n",
       "      <td>2 days ago</td>\n",
       "      <td>46</td>\n",
       "      <td>In Development</td>\n",
       "    </tr>\n",
       "    <tr>\n",
       "      <th>2</th>\n",
       "      <td>443</td>\n",
       "      <td>164928</td>\n",
       "      <td>Filter church activity</td>\n",
       "      <td>Moses</td>\n",
       "      <td>01 Mar, 2021</td>\n",
       "      <td>yesterday</td>\n",
       "      <td>41</td>\n",
       "      <td>In Development</td>\n",
       "    </tr>\n",
       "    <tr>\n",
       "      <th>3</th>\n",
       "      <td>362</td>\n",
       "      <td>177816</td>\n",
       "      <td>Skip a profile save for later</td>\n",
       "      <td>Brian</td>\n",
       "      <td>11 Apr, 2021</td>\n",
       "      <td>yesterday</td>\n",
       "      <td>35</td>\n",
       "      <td>Under consideration</td>\n",
       "    </tr>\n",
       "    <tr>\n",
       "      <th>4</th>\n",
       "      <td>240</td>\n",
       "      <td>161959</td>\n",
       "      <td>Filter children</td>\n",
       "      <td>Moses</td>\n",
       "      <td>22 Feb, 2021</td>\n",
       "      <td>today</td>\n",
       "      <td>21</td>\n",
       "      <td>In Development</td>\n",
       "    </tr>\n",
       "    <tr>\n",
       "      <th>...</th>\n",
       "      <td>...</td>\n",
       "      <td>...</td>\n",
       "      <td>...</td>\n",
       "      <td>...</td>\n",
       "      <td>...</td>\n",
       "      <td>...</td>\n",
       "      <td>...</td>\n",
       "      <td>...</td>\n",
       "    </tr>\n",
       "    <tr>\n",
       "      <th>315</th>\n",
       "      <td>1</td>\n",
       "      <td>187811</td>\n",
       "      <td>When i leave a conversation dont jump back to ...</td>\n",
       "      <td>Swaggy Shaggs</td>\n",
       "      <td>27 May, 2021</td>\n",
       "      <td>27 May, '21</td>\n",
       "      <td>0</td>\n",
       "      <td>Bug</td>\n",
       "    </tr>\n",
       "    <tr>\n",
       "      <th>316</th>\n",
       "      <td>1</td>\n",
       "      <td>186869</td>\n",
       "      <td>Add the word peru</td>\n",
       "      <td>Steven Spainhower</td>\n",
       "      <td>22 May, 2021</td>\n",
       "      <td>22 May, '21</td>\n",
       "      <td>0</td>\n",
       "      <td>Bug</td>\n",
       "    </tr>\n",
       "    <tr>\n",
       "      <th>317</th>\n",
       "      <td>1</td>\n",
       "      <td>183884</td>\n",
       "      <td>Yes i already paid for this site but when i go...</td>\n",
       "      <td>Edward Davis</td>\n",
       "      <td>06 May, 2021</td>\n",
       "      <td>06 May, '21</td>\n",
       "      <td>0</td>\n",
       "      <td>Bug</td>\n",
       "    </tr>\n",
       "    <tr>\n",
       "      <th>318</th>\n",
       "      <td>1</td>\n",
       "      <td>183875</td>\n",
       "      <td>Ideal timeline</td>\n",
       "      <td>Sassafrass</td>\n",
       "      <td>06 May, 2021</td>\n",
       "      <td>06 May, '21</td>\n",
       "      <td>0</td>\n",
       "      <td>Not planned</td>\n",
       "    </tr>\n",
       "    <tr>\n",
       "      <th>319</th>\n",
       "      <td>1</td>\n",
       "      <td>183419</td>\n",
       "      <td>Pin matches from archives</td>\n",
       "      <td>Brett</td>\n",
       "      <td>04 May, 2021</td>\n",
       "      <td>04 May, '21</td>\n",
       "      <td>0</td>\n",
       "      <td>Bug</td>\n",
       "    </tr>\n",
       "  </tbody>\n",
       "</table>\n",
       "<p>320 rows × 8 columns</p>\n",
       "</div>"
      ],
      "text/plain": [
       "    votes      id                                         suggestion  \\\n",
       "0    1000  161005                               See who i have liked   \n",
       "1     506  161962                         Last onlinerecently active   \n",
       "2     443  164928                             Filter church activity   \n",
       "3     362  177816                      Skip a profile save for later   \n",
       "4     240  161959                                    Filter children   \n",
       "..    ...     ...                                                ...   \n",
       "315     1  187811  When i leave a conversation dont jump back to ...   \n",
       "316     1  186869                                  Add the word peru   \n",
       "317     1  183884  Yes i already paid for this site but when i go...   \n",
       "318     1  183875                                     Ideal timeline   \n",
       "319     1  183419                          Pin matches from archives   \n",
       "\n",
       "                author  date_created last_upvoted comments  \\\n",
       "0                Moses  19 Feb, 2021    yesterday       72   \n",
       "1                Moses  22 Feb, 2021   2 days ago       46   \n",
       "2                Moses  01 Mar, 2021    yesterday       41   \n",
       "3                Brian  11 Apr, 2021    yesterday       35   \n",
       "4                Moses  22 Feb, 2021        today       21   \n",
       "..                 ...           ...          ...      ...   \n",
       "315      Swaggy Shaggs  27 May, 2021  27 May, '21        0   \n",
       "316  Steven Spainhower  22 May, 2021  22 May, '21        0   \n",
       "317       Edward Davis  06 May, 2021  06 May, '21        0   \n",
       "318         Sassafrass  06 May, 2021  06 May, '21        0   \n",
       "319              Brett  04 May, 2021  04 May, '21        0   \n",
       "\n",
       "                  status  \n",
       "0                Planned  \n",
       "1         In Development  \n",
       "2         In Development  \n",
       "3    Under consideration  \n",
       "4         In Development  \n",
       "..                   ...  \n",
       "315                  Bug  \n",
       "316                  Bug  \n",
       "317                  Bug  \n",
       "318          Not planned  \n",
       "319                  Bug  \n",
       "\n",
       "[320 rows x 8 columns]"
      ]
     },
     "execution_count": 4,
     "metadata": {},
     "output_type": "execute_result"
    }
   ],
   "source": [
    "data = pd.DataFrame(rows_votes)\n",
    "data\n"
   ]
  },
  {
   "cell_type": "markdown",
   "metadata": {},
   "source": [
    "# Explanatory Data Analysis"
   ]
  },
  {
   "cell_type": "code",
   "execution_count": 5,
   "metadata": {},
   "outputs": [],
   "source": [
    "import plotly.express as px"
   ]
  },
  {
   "cell_type": "code",
   "execution_count": 53,
   "metadata": {},
   "outputs": [
    {
     "data": {
      "text/html": [
       "<div>\n",
       "<style scoped>\n",
       "    .dataframe tbody tr th:only-of-type {\n",
       "        vertical-align: middle;\n",
       "    }\n",
       "\n",
       "    .dataframe tbody tr th {\n",
       "        vertical-align: top;\n",
       "    }\n",
       "\n",
       "    .dataframe thead th {\n",
       "        text-align: right;\n",
       "    }\n",
       "</style>\n",
       "<table border=\"1\" class=\"dataframe\">\n",
       "  <thead>\n",
       "    <tr style=\"text-align: right;\">\n",
       "      <th></th>\n",
       "      <th>index</th>\n",
       "      <th>date_created</th>\n",
       "    </tr>\n",
       "  </thead>\n",
       "  <tbody>\n",
       "    <tr>\n",
       "      <th>100</th>\n",
       "      <td>28 Jun, 2021</td>\n",
       "      <td>1</td>\n",
       "    </tr>\n",
       "    <tr>\n",
       "      <th>101</th>\n",
       "      <td>26 Apr, 2021</td>\n",
       "      <td>1</td>\n",
       "    </tr>\n",
       "    <tr>\n",
       "      <th>102</th>\n",
       "      <td>28 May, 2021</td>\n",
       "      <td>1</td>\n",
       "    </tr>\n",
       "    <tr>\n",
       "      <th>103</th>\n",
       "      <td>18 Oct, 2021</td>\n",
       "      <td>1</td>\n",
       "    </tr>\n",
       "    <tr>\n",
       "      <th>104</th>\n",
       "      <td>19 Sep, 2021</td>\n",
       "      <td>1</td>\n",
       "    </tr>\n",
       "    <tr>\n",
       "      <th>...</th>\n",
       "      <td>...</td>\n",
       "      <td>...</td>\n",
       "    </tr>\n",
       "    <tr>\n",
       "      <th>184</th>\n",
       "      <td>13 Jul, 2021</td>\n",
       "      <td>1</td>\n",
       "    </tr>\n",
       "    <tr>\n",
       "      <th>185</th>\n",
       "      <td>09 Oct, 2021</td>\n",
       "      <td>1</td>\n",
       "    </tr>\n",
       "    <tr>\n",
       "      <th>186</th>\n",
       "      <td>11 Jun, 2021</td>\n",
       "      <td>1</td>\n",
       "    </tr>\n",
       "    <tr>\n",
       "      <th>187</th>\n",
       "      <td>29 Jul, 2021</td>\n",
       "      <td>1</td>\n",
       "    </tr>\n",
       "    <tr>\n",
       "      <th>188</th>\n",
       "      <td>03 Aug, 2021</td>\n",
       "      <td>1</td>\n",
       "    </tr>\n",
       "  </tbody>\n",
       "</table>\n",
       "<p>89 rows × 2 columns</p>\n",
       "</div>"
      ],
      "text/plain": [
       "            index  date_created\n",
       "100  28 Jun, 2021             1\n",
       "101  26 Apr, 2021             1\n",
       "102  28 May, 2021             1\n",
       "103  18 Oct, 2021             1\n",
       "104  19 Sep, 2021             1\n",
       "..            ...           ...\n",
       "184  13 Jul, 2021             1\n",
       "185  09 Oct, 2021             1\n",
       "186  11 Jun, 2021             1\n",
       "187  29 Jul, 2021             1\n",
       "188  03 Aug, 2021             1\n",
       "\n",
       "[89 rows x 2 columns]"
      ]
     },
     "execution_count": 53,
     "metadata": {},
     "output_type": "execute_result"
    }
   ],
   "source": [
    "data['date_created']"
   ]
  },
  {
   "cell_type": "code",
   "execution_count": 54,
   "metadata": {},
   "outputs": [],
   "source": [
    "# change dtype\n",
    "data = data.astype({'votes': 'float','comments': 'float'}, copy=True)\n",
    "\n",
    "# add column with months\n",
    "data['date_created_month'] = data['date_created'].apply(lambda x: x.split(' ')[1].replace(',',''))\n",
    "data['date_created_month']=data['date_created_month'].replace({'Fe':'Feb','Ap':'Apr','Ma':'May'})"
   ]
  },
  {
   "cell_type": "code",
   "execution_count": 55,
   "metadata": {},
   "outputs": [
    {
     "data": {
      "text/plain": [
       "array(['Feb', 'Mar', 'Apr', 'Dec', 'May', 'Jul', 'Aug', 'Jun', 'Sep',\n",
       "       'Oct', 'Nov', 'Jan'], dtype=object)"
      ]
     },
     "execution_count": 55,
     "metadata": {},
     "output_type": "execute_result"
    }
   ],
   "source": [
    "data['date_created_month'].unique()"
   ]
  },
  {
   "cell_type": "code",
   "execution_count": 86,
   "metadata": {},
   "outputs": [
    {
     "data": {
      "application/vnd.plotly.v1+json": {
       "config": {
        "plotlyServerURL": "https://plot.ly"
       },
       "data": [
        {
         "alignmentgroup": "True",
         "hovertemplate": "Month=%{x}<br>Amount of Feedback=%{marker.color}<extra></extra>",
         "legendgroup": "",
         "marker": {
          "color": [
           70,
           57,
           46,
           36,
           29,
           21,
           15,
           13,
           11,
           10,
           8,
           4
          ],
          "coloraxis": "coloraxis",
          "pattern": {
           "shape": ""
          }
         },
         "name": "",
         "offsetgroup": "",
         "orientation": "v",
         "showlegend": false,
         "textfont": {
          "size": 15
         },
         "textposition": "auto",
         "texttemplate": "%{y}",
         "type": "bar",
         "x": [
          "Mar",
          "Jun",
          "May",
          "Jul",
          "Apr",
          "Aug",
          "Feb",
          "Dec",
          "Sep",
          "Oct",
          "Nov",
          "Jan"
         ],
         "xaxis": "x",
         "y": [
          70,
          57,
          46,
          36,
          29,
          21,
          15,
          13,
          11,
          10,
          8,
          4
         ],
         "yaxis": "y"
        }
       ],
       "layout": {
        "barmode": "relative",
        "coloraxis": {
         "colorbar": {
          "title": {
           "text": "Amount of Feedback"
          }
         },
         "colorscale": [
          [
           0,
           "rgb(7, 64, 80)"
          ],
          [
           0.16666666666666666,
           "rgb(16, 89, 101)"
          ],
          [
           0.3333333333333333,
           "rgb(33, 122, 121)"
          ],
          [
           0.5,
           "rgb(76, 155, 130)"
          ],
          [
           0.6666666666666666,
           "rgb(108, 192, 139)"
          ],
          [
           0.8333333333333334,
           "rgb(151, 225, 150)"
          ],
          [
           1,
           "rgb(211, 242, 163)"
          ]
         ]
        },
        "height": 400,
        "legend": {
         "tracegroupgap": 0
        },
        "template": {
         "data": {
          "bar": [
           {
            "error_x": {
             "color": "#2a3f5f"
            },
            "error_y": {
             "color": "#2a3f5f"
            },
            "marker": {
             "line": {
              "color": "#E5ECF6",
              "width": 0.5
             },
             "pattern": {
              "fillmode": "overlay",
              "size": 10,
              "solidity": 0.2
             }
            },
            "type": "bar"
           }
          ],
          "barpolar": [
           {
            "marker": {
             "line": {
              "color": "#E5ECF6",
              "width": 0.5
             },
             "pattern": {
              "fillmode": "overlay",
              "size": 10,
              "solidity": 0.2
             }
            },
            "type": "barpolar"
           }
          ],
          "carpet": [
           {
            "aaxis": {
             "endlinecolor": "#2a3f5f",
             "gridcolor": "white",
             "linecolor": "white",
             "minorgridcolor": "white",
             "startlinecolor": "#2a3f5f"
            },
            "baxis": {
             "endlinecolor": "#2a3f5f",
             "gridcolor": "white",
             "linecolor": "white",
             "minorgridcolor": "white",
             "startlinecolor": "#2a3f5f"
            },
            "type": "carpet"
           }
          ],
          "choropleth": [
           {
            "colorbar": {
             "outlinewidth": 0,
             "ticks": ""
            },
            "type": "choropleth"
           }
          ],
          "contour": [
           {
            "colorbar": {
             "outlinewidth": 0,
             "ticks": ""
            },
            "colorscale": [
             [
              0,
              "#0d0887"
             ],
             [
              0.1111111111111111,
              "#46039f"
             ],
             [
              0.2222222222222222,
              "#7201a8"
             ],
             [
              0.3333333333333333,
              "#9c179e"
             ],
             [
              0.4444444444444444,
              "#bd3786"
             ],
             [
              0.5555555555555556,
              "#d8576b"
             ],
             [
              0.6666666666666666,
              "#ed7953"
             ],
             [
              0.7777777777777778,
              "#fb9f3a"
             ],
             [
              0.8888888888888888,
              "#fdca26"
             ],
             [
              1,
              "#f0f921"
             ]
            ],
            "type": "contour"
           }
          ],
          "contourcarpet": [
           {
            "colorbar": {
             "outlinewidth": 0,
             "ticks": ""
            },
            "type": "contourcarpet"
           }
          ],
          "heatmap": [
           {
            "colorbar": {
             "outlinewidth": 0,
             "ticks": ""
            },
            "colorscale": [
             [
              0,
              "#0d0887"
             ],
             [
              0.1111111111111111,
              "#46039f"
             ],
             [
              0.2222222222222222,
              "#7201a8"
             ],
             [
              0.3333333333333333,
              "#9c179e"
             ],
             [
              0.4444444444444444,
              "#bd3786"
             ],
             [
              0.5555555555555556,
              "#d8576b"
             ],
             [
              0.6666666666666666,
              "#ed7953"
             ],
             [
              0.7777777777777778,
              "#fb9f3a"
             ],
             [
              0.8888888888888888,
              "#fdca26"
             ],
             [
              1,
              "#f0f921"
             ]
            ],
            "type": "heatmap"
           }
          ],
          "heatmapgl": [
           {
            "colorbar": {
             "outlinewidth": 0,
             "ticks": ""
            },
            "colorscale": [
             [
              0,
              "#0d0887"
             ],
             [
              0.1111111111111111,
              "#46039f"
             ],
             [
              0.2222222222222222,
              "#7201a8"
             ],
             [
              0.3333333333333333,
              "#9c179e"
             ],
             [
              0.4444444444444444,
              "#bd3786"
             ],
             [
              0.5555555555555556,
              "#d8576b"
             ],
             [
              0.6666666666666666,
              "#ed7953"
             ],
             [
              0.7777777777777778,
              "#fb9f3a"
             ],
             [
              0.8888888888888888,
              "#fdca26"
             ],
             [
              1,
              "#f0f921"
             ]
            ],
            "type": "heatmapgl"
           }
          ],
          "histogram": [
           {
            "marker": {
             "pattern": {
              "fillmode": "overlay",
              "size": 10,
              "solidity": 0.2
             }
            },
            "type": "histogram"
           }
          ],
          "histogram2d": [
           {
            "colorbar": {
             "outlinewidth": 0,
             "ticks": ""
            },
            "colorscale": [
             [
              0,
              "#0d0887"
             ],
             [
              0.1111111111111111,
              "#46039f"
             ],
             [
              0.2222222222222222,
              "#7201a8"
             ],
             [
              0.3333333333333333,
              "#9c179e"
             ],
             [
              0.4444444444444444,
              "#bd3786"
             ],
             [
              0.5555555555555556,
              "#d8576b"
             ],
             [
              0.6666666666666666,
              "#ed7953"
             ],
             [
              0.7777777777777778,
              "#fb9f3a"
             ],
             [
              0.8888888888888888,
              "#fdca26"
             ],
             [
              1,
              "#f0f921"
             ]
            ],
            "type": "histogram2d"
           }
          ],
          "histogram2dcontour": [
           {
            "colorbar": {
             "outlinewidth": 0,
             "ticks": ""
            },
            "colorscale": [
             [
              0,
              "#0d0887"
             ],
             [
              0.1111111111111111,
              "#46039f"
             ],
             [
              0.2222222222222222,
              "#7201a8"
             ],
             [
              0.3333333333333333,
              "#9c179e"
             ],
             [
              0.4444444444444444,
              "#bd3786"
             ],
             [
              0.5555555555555556,
              "#d8576b"
             ],
             [
              0.6666666666666666,
              "#ed7953"
             ],
             [
              0.7777777777777778,
              "#fb9f3a"
             ],
             [
              0.8888888888888888,
              "#fdca26"
             ],
             [
              1,
              "#f0f921"
             ]
            ],
            "type": "histogram2dcontour"
           }
          ],
          "mesh3d": [
           {
            "colorbar": {
             "outlinewidth": 0,
             "ticks": ""
            },
            "type": "mesh3d"
           }
          ],
          "parcoords": [
           {
            "line": {
             "colorbar": {
              "outlinewidth": 0,
              "ticks": ""
             }
            },
            "type": "parcoords"
           }
          ],
          "pie": [
           {
            "automargin": true,
            "type": "pie"
           }
          ],
          "scatter": [
           {
            "fillpattern": {
             "fillmode": "overlay",
             "size": 10,
             "solidity": 0.2
            },
            "type": "scatter"
           }
          ],
          "scatter3d": [
           {
            "line": {
             "colorbar": {
              "outlinewidth": 0,
              "ticks": ""
             }
            },
            "marker": {
             "colorbar": {
              "outlinewidth": 0,
              "ticks": ""
             }
            },
            "type": "scatter3d"
           }
          ],
          "scattercarpet": [
           {
            "marker": {
             "colorbar": {
              "outlinewidth": 0,
              "ticks": ""
             }
            },
            "type": "scattercarpet"
           }
          ],
          "scattergeo": [
           {
            "marker": {
             "colorbar": {
              "outlinewidth": 0,
              "ticks": ""
             }
            },
            "type": "scattergeo"
           }
          ],
          "scattergl": [
           {
            "marker": {
             "colorbar": {
              "outlinewidth": 0,
              "ticks": ""
             }
            },
            "type": "scattergl"
           }
          ],
          "scattermapbox": [
           {
            "marker": {
             "colorbar": {
              "outlinewidth": 0,
              "ticks": ""
             }
            },
            "type": "scattermapbox"
           }
          ],
          "scatterpolar": [
           {
            "marker": {
             "colorbar": {
              "outlinewidth": 0,
              "ticks": ""
             }
            },
            "type": "scatterpolar"
           }
          ],
          "scatterpolargl": [
           {
            "marker": {
             "colorbar": {
              "outlinewidth": 0,
              "ticks": ""
             }
            },
            "type": "scatterpolargl"
           }
          ],
          "scatterternary": [
           {
            "marker": {
             "colorbar": {
              "outlinewidth": 0,
              "ticks": ""
             }
            },
            "type": "scatterternary"
           }
          ],
          "surface": [
           {
            "colorbar": {
             "outlinewidth": 0,
             "ticks": ""
            },
            "colorscale": [
             [
              0,
              "#0d0887"
             ],
             [
              0.1111111111111111,
              "#46039f"
             ],
             [
              0.2222222222222222,
              "#7201a8"
             ],
             [
              0.3333333333333333,
              "#9c179e"
             ],
             [
              0.4444444444444444,
              "#bd3786"
             ],
             [
              0.5555555555555556,
              "#d8576b"
             ],
             [
              0.6666666666666666,
              "#ed7953"
             ],
             [
              0.7777777777777778,
              "#fb9f3a"
             ],
             [
              0.8888888888888888,
              "#fdca26"
             ],
             [
              1,
              "#f0f921"
             ]
            ],
            "type": "surface"
           }
          ],
          "table": [
           {
            "cells": {
             "fill": {
              "color": "#EBF0F8"
             },
             "line": {
              "color": "white"
             }
            },
            "header": {
             "fill": {
              "color": "#C8D4E3"
             },
             "line": {
              "color": "white"
             }
            },
            "type": "table"
           }
          ]
         },
         "layout": {
          "annotationdefaults": {
           "arrowcolor": "#2a3f5f",
           "arrowhead": 0,
           "arrowwidth": 1
          },
          "autotypenumbers": "strict",
          "coloraxis": {
           "colorbar": {
            "outlinewidth": 0,
            "ticks": ""
           }
          },
          "colorscale": {
           "diverging": [
            [
             0,
             "#8e0152"
            ],
            [
             0.1,
             "#c51b7d"
            ],
            [
             0.2,
             "#de77ae"
            ],
            [
             0.3,
             "#f1b6da"
            ],
            [
             0.4,
             "#fde0ef"
            ],
            [
             0.5,
             "#f7f7f7"
            ],
            [
             0.6,
             "#e6f5d0"
            ],
            [
             0.7,
             "#b8e186"
            ],
            [
             0.8,
             "#7fbc41"
            ],
            [
             0.9,
             "#4d9221"
            ],
            [
             1,
             "#276419"
            ]
           ],
           "sequential": [
            [
             0,
             "#0d0887"
            ],
            [
             0.1111111111111111,
             "#46039f"
            ],
            [
             0.2222222222222222,
             "#7201a8"
            ],
            [
             0.3333333333333333,
             "#9c179e"
            ],
            [
             0.4444444444444444,
             "#bd3786"
            ],
            [
             0.5555555555555556,
             "#d8576b"
            ],
            [
             0.6666666666666666,
             "#ed7953"
            ],
            [
             0.7777777777777778,
             "#fb9f3a"
            ],
            [
             0.8888888888888888,
             "#fdca26"
            ],
            [
             1,
             "#f0f921"
            ]
           ],
           "sequentialminus": [
            [
             0,
             "#0d0887"
            ],
            [
             0.1111111111111111,
             "#46039f"
            ],
            [
             0.2222222222222222,
             "#7201a8"
            ],
            [
             0.3333333333333333,
             "#9c179e"
            ],
            [
             0.4444444444444444,
             "#bd3786"
            ],
            [
             0.5555555555555556,
             "#d8576b"
            ],
            [
             0.6666666666666666,
             "#ed7953"
            ],
            [
             0.7777777777777778,
             "#fb9f3a"
            ],
            [
             0.8888888888888888,
             "#fdca26"
            ],
            [
             1,
             "#f0f921"
            ]
           ]
          },
          "colorway": [
           "#636efa",
           "#EF553B",
           "#00cc96",
           "#ab63fa",
           "#FFA15A",
           "#19d3f3",
           "#FF6692",
           "#B6E880",
           "#FF97FF",
           "#FECB52"
          ],
          "font": {
           "color": "#2a3f5f"
          },
          "geo": {
           "bgcolor": "white",
           "lakecolor": "white",
           "landcolor": "#E5ECF6",
           "showlakes": true,
           "showland": true,
           "subunitcolor": "white"
          },
          "hoverlabel": {
           "align": "left"
          },
          "hovermode": "closest",
          "mapbox": {
           "style": "light"
          },
          "paper_bgcolor": "white",
          "plot_bgcolor": "#E5ECF6",
          "polar": {
           "angularaxis": {
            "gridcolor": "white",
            "linecolor": "white",
            "ticks": ""
           },
           "bgcolor": "#E5ECF6",
           "radialaxis": {
            "gridcolor": "white",
            "linecolor": "white",
            "ticks": ""
           }
          },
          "scene": {
           "xaxis": {
            "backgroundcolor": "#E5ECF6",
            "gridcolor": "white",
            "gridwidth": 2,
            "linecolor": "white",
            "showbackground": true,
            "ticks": "",
            "zerolinecolor": "white"
           },
           "yaxis": {
            "backgroundcolor": "#E5ECF6",
            "gridcolor": "white",
            "gridwidth": 2,
            "linecolor": "white",
            "showbackground": true,
            "ticks": "",
            "zerolinecolor": "white"
           },
           "zaxis": {
            "backgroundcolor": "#E5ECF6",
            "gridcolor": "white",
            "gridwidth": 2,
            "linecolor": "white",
            "showbackground": true,
            "ticks": "",
            "zerolinecolor": "white"
           }
          },
          "shapedefaults": {
           "line": {
            "color": "#2a3f5f"
           }
          },
          "ternary": {
           "aaxis": {
            "gridcolor": "white",
            "linecolor": "white",
            "ticks": ""
           },
           "baxis": {
            "gridcolor": "white",
            "linecolor": "white",
            "ticks": ""
           },
           "bgcolor": "#E5ECF6",
           "caxis": {
            "gridcolor": "white",
            "linecolor": "white",
            "ticks": ""
           }
          },
          "title": {
           "x": 0.05
          },
          "xaxis": {
           "automargin": true,
           "gridcolor": "white",
           "linecolor": "white",
           "ticks": "",
           "title": {
            "standoff": 15
           },
           "zerolinecolor": "white",
           "zerolinewidth": 2
          },
          "yaxis": {
           "automargin": true,
           "gridcolor": "white",
           "linecolor": "white",
           "ticks": "",
           "title": {
            "standoff": 15
           },
           "zerolinecolor": "white",
           "zerolinewidth": 2
          }
         }
        },
        "title": {
         "text": "Feedback per Month"
        },
        "width": 1200,
        "xaxis": {
         "anchor": "y",
         "categoryarray": [
          "Jan",
          "Feb",
          "Mar",
          "Apr",
          "May",
          "Jun",
          "Jul",
          "Aug",
          "Sep",
          "Oct",
          "Nov",
          "Dec"
         ],
         "categoryorder": "array",
         "domain": [
          0,
          1
         ],
         "title": {
          "text": "Month"
         }
        },
        "yaxis": {
         "anchor": "x",
         "domain": [
          0,
          1
         ],
         "title": {
          "text": "Amount of Feedback"
         }
        }
       }
      }
     },
     "metadata": {},
     "output_type": "display_data"
    }
   ],
   "source": [
    "data_month = data['date_created_month'].value_counts().reset_index()\n",
    "order = {'index':['Jan','Feb','Mar','Apr','May','Jun','Jul','Aug','Sep','Oct','Nov','Dec']}\n",
    "\n",
    "fig = px.bar(\n",
    "    data_month,\n",
    "    x='index',\n",
    "    y='date_created_month',\n",
    "    color='date_created_month',\n",
    "    # color_continuous_scale=px.colors.sequential.Viridis,\n",
    "    color_continuous_scale=str(px.colors.named_colorscales()[15])+'_r',\n",
    "    category_orders=order,\n",
    "    width=1200,\n",
    "    height=400,\n",
    "    text_auto=True,\n",
    "    labels={\"index\":\"Month\",\"date_created_month\":\"Amount of Feedback\"},\n",
    "    title=\"Feedback per Month\"\n",
    ")\n",
    "\n",
    "fig.update_traces(textfont_size=15)\n",
    "\n",
    "fig.show()"
   ]
  },
  {
   "cell_type": "code",
   "execution_count": 88,
   "metadata": {},
   "outputs": [
    {
     "data": {
      "application/vnd.plotly.v1+json": {
       "config": {
        "plotlyServerURL": "https://plot.ly"
       },
       "data": [
        {
         "alignmentgroup": "True",
         "hovertemplate": "Category=%{x}<br>Status=%{marker.color}<extra></extra>",
         "legendgroup": "",
         "marker": {
          "color": [
           141,
           60,
           39,
           32,
           26,
           22
          ],
          "coloraxis": "coloraxis",
          "pattern": {
           "shape": ""
          }
         },
         "name": "",
         "offsetgroup": "",
         "orientation": "v",
         "showlegend": false,
         "textfont": {
          "size": 16
         },
         "textposition": "auto",
         "texttemplate": "%{y}",
         "type": "bar",
         "x": [
          "Under consideration",
          "Done",
          "Not planned",
          "Bug",
          "Planned",
          "In Development"
         ],
         "xaxis": "x",
         "y": [
          141,
          60,
          39,
          32,
          26,
          22
         ],
         "yaxis": "y"
        }
       ],
       "layout": {
        "barmode": "relative",
        "coloraxis": {
         "colorbar": {
          "title": {
           "text": "Status"
          }
         },
         "colorscale": [
          [
           0,
           "rgb(238, 77, 90)"
          ],
          [
           0.16666666666666666,
           "rgb(246, 99, 86)"
          ],
          [
           0.3333333333333333,
           "rgb(249, 123, 87)"
          ],
          [
           0.5,
           "rgb(247, 148, 93)"
          ],
          [
           0.6666666666666666,
           "rgb(243, 173, 106)"
          ],
          [
           0.8333333333333334,
           "rgb(239, 196, 126)"
          ],
          [
           1,
           "rgb(236, 218, 154)"
          ]
         ]
        },
        "height": 400,
        "legend": {
         "tracegroupgap": 0
        },
        "template": {
         "data": {
          "bar": [
           {
            "error_x": {
             "color": "#2a3f5f"
            },
            "error_y": {
             "color": "#2a3f5f"
            },
            "marker": {
             "line": {
              "color": "#E5ECF6",
              "width": 0.5
             },
             "pattern": {
              "fillmode": "overlay",
              "size": 10,
              "solidity": 0.2
             }
            },
            "type": "bar"
           }
          ],
          "barpolar": [
           {
            "marker": {
             "line": {
              "color": "#E5ECF6",
              "width": 0.5
             },
             "pattern": {
              "fillmode": "overlay",
              "size": 10,
              "solidity": 0.2
             }
            },
            "type": "barpolar"
           }
          ],
          "carpet": [
           {
            "aaxis": {
             "endlinecolor": "#2a3f5f",
             "gridcolor": "white",
             "linecolor": "white",
             "minorgridcolor": "white",
             "startlinecolor": "#2a3f5f"
            },
            "baxis": {
             "endlinecolor": "#2a3f5f",
             "gridcolor": "white",
             "linecolor": "white",
             "minorgridcolor": "white",
             "startlinecolor": "#2a3f5f"
            },
            "type": "carpet"
           }
          ],
          "choropleth": [
           {
            "colorbar": {
             "outlinewidth": 0,
             "ticks": ""
            },
            "type": "choropleth"
           }
          ],
          "contour": [
           {
            "colorbar": {
             "outlinewidth": 0,
             "ticks": ""
            },
            "colorscale": [
             [
              0,
              "#0d0887"
             ],
             [
              0.1111111111111111,
              "#46039f"
             ],
             [
              0.2222222222222222,
              "#7201a8"
             ],
             [
              0.3333333333333333,
              "#9c179e"
             ],
             [
              0.4444444444444444,
              "#bd3786"
             ],
             [
              0.5555555555555556,
              "#d8576b"
             ],
             [
              0.6666666666666666,
              "#ed7953"
             ],
             [
              0.7777777777777778,
              "#fb9f3a"
             ],
             [
              0.8888888888888888,
              "#fdca26"
             ],
             [
              1,
              "#f0f921"
             ]
            ],
            "type": "contour"
           }
          ],
          "contourcarpet": [
           {
            "colorbar": {
             "outlinewidth": 0,
             "ticks": ""
            },
            "type": "contourcarpet"
           }
          ],
          "heatmap": [
           {
            "colorbar": {
             "outlinewidth": 0,
             "ticks": ""
            },
            "colorscale": [
             [
              0,
              "#0d0887"
             ],
             [
              0.1111111111111111,
              "#46039f"
             ],
             [
              0.2222222222222222,
              "#7201a8"
             ],
             [
              0.3333333333333333,
              "#9c179e"
             ],
             [
              0.4444444444444444,
              "#bd3786"
             ],
             [
              0.5555555555555556,
              "#d8576b"
             ],
             [
              0.6666666666666666,
              "#ed7953"
             ],
             [
              0.7777777777777778,
              "#fb9f3a"
             ],
             [
              0.8888888888888888,
              "#fdca26"
             ],
             [
              1,
              "#f0f921"
             ]
            ],
            "type": "heatmap"
           }
          ],
          "heatmapgl": [
           {
            "colorbar": {
             "outlinewidth": 0,
             "ticks": ""
            },
            "colorscale": [
             [
              0,
              "#0d0887"
             ],
             [
              0.1111111111111111,
              "#46039f"
             ],
             [
              0.2222222222222222,
              "#7201a8"
             ],
             [
              0.3333333333333333,
              "#9c179e"
             ],
             [
              0.4444444444444444,
              "#bd3786"
             ],
             [
              0.5555555555555556,
              "#d8576b"
             ],
             [
              0.6666666666666666,
              "#ed7953"
             ],
             [
              0.7777777777777778,
              "#fb9f3a"
             ],
             [
              0.8888888888888888,
              "#fdca26"
             ],
             [
              1,
              "#f0f921"
             ]
            ],
            "type": "heatmapgl"
           }
          ],
          "histogram": [
           {
            "marker": {
             "pattern": {
              "fillmode": "overlay",
              "size": 10,
              "solidity": 0.2
             }
            },
            "type": "histogram"
           }
          ],
          "histogram2d": [
           {
            "colorbar": {
             "outlinewidth": 0,
             "ticks": ""
            },
            "colorscale": [
             [
              0,
              "#0d0887"
             ],
             [
              0.1111111111111111,
              "#46039f"
             ],
             [
              0.2222222222222222,
              "#7201a8"
             ],
             [
              0.3333333333333333,
              "#9c179e"
             ],
             [
              0.4444444444444444,
              "#bd3786"
             ],
             [
              0.5555555555555556,
              "#d8576b"
             ],
             [
              0.6666666666666666,
              "#ed7953"
             ],
             [
              0.7777777777777778,
              "#fb9f3a"
             ],
             [
              0.8888888888888888,
              "#fdca26"
             ],
             [
              1,
              "#f0f921"
             ]
            ],
            "type": "histogram2d"
           }
          ],
          "histogram2dcontour": [
           {
            "colorbar": {
             "outlinewidth": 0,
             "ticks": ""
            },
            "colorscale": [
             [
              0,
              "#0d0887"
             ],
             [
              0.1111111111111111,
              "#46039f"
             ],
             [
              0.2222222222222222,
              "#7201a8"
             ],
             [
              0.3333333333333333,
              "#9c179e"
             ],
             [
              0.4444444444444444,
              "#bd3786"
             ],
             [
              0.5555555555555556,
              "#d8576b"
             ],
             [
              0.6666666666666666,
              "#ed7953"
             ],
             [
              0.7777777777777778,
              "#fb9f3a"
             ],
             [
              0.8888888888888888,
              "#fdca26"
             ],
             [
              1,
              "#f0f921"
             ]
            ],
            "type": "histogram2dcontour"
           }
          ],
          "mesh3d": [
           {
            "colorbar": {
             "outlinewidth": 0,
             "ticks": ""
            },
            "type": "mesh3d"
           }
          ],
          "parcoords": [
           {
            "line": {
             "colorbar": {
              "outlinewidth": 0,
              "ticks": ""
             }
            },
            "type": "parcoords"
           }
          ],
          "pie": [
           {
            "automargin": true,
            "type": "pie"
           }
          ],
          "scatter": [
           {
            "fillpattern": {
             "fillmode": "overlay",
             "size": 10,
             "solidity": 0.2
            },
            "type": "scatter"
           }
          ],
          "scatter3d": [
           {
            "line": {
             "colorbar": {
              "outlinewidth": 0,
              "ticks": ""
             }
            },
            "marker": {
             "colorbar": {
              "outlinewidth": 0,
              "ticks": ""
             }
            },
            "type": "scatter3d"
           }
          ],
          "scattercarpet": [
           {
            "marker": {
             "colorbar": {
              "outlinewidth": 0,
              "ticks": ""
             }
            },
            "type": "scattercarpet"
           }
          ],
          "scattergeo": [
           {
            "marker": {
             "colorbar": {
              "outlinewidth": 0,
              "ticks": ""
             }
            },
            "type": "scattergeo"
           }
          ],
          "scattergl": [
           {
            "marker": {
             "colorbar": {
              "outlinewidth": 0,
              "ticks": ""
             }
            },
            "type": "scattergl"
           }
          ],
          "scattermapbox": [
           {
            "marker": {
             "colorbar": {
              "outlinewidth": 0,
              "ticks": ""
             }
            },
            "type": "scattermapbox"
           }
          ],
          "scatterpolar": [
           {
            "marker": {
             "colorbar": {
              "outlinewidth": 0,
              "ticks": ""
             }
            },
            "type": "scatterpolar"
           }
          ],
          "scatterpolargl": [
           {
            "marker": {
             "colorbar": {
              "outlinewidth": 0,
              "ticks": ""
             }
            },
            "type": "scatterpolargl"
           }
          ],
          "scatterternary": [
           {
            "marker": {
             "colorbar": {
              "outlinewidth": 0,
              "ticks": ""
             }
            },
            "type": "scatterternary"
           }
          ],
          "surface": [
           {
            "colorbar": {
             "outlinewidth": 0,
             "ticks": ""
            },
            "colorscale": [
             [
              0,
              "#0d0887"
             ],
             [
              0.1111111111111111,
              "#46039f"
             ],
             [
              0.2222222222222222,
              "#7201a8"
             ],
             [
              0.3333333333333333,
              "#9c179e"
             ],
             [
              0.4444444444444444,
              "#bd3786"
             ],
             [
              0.5555555555555556,
              "#d8576b"
             ],
             [
              0.6666666666666666,
              "#ed7953"
             ],
             [
              0.7777777777777778,
              "#fb9f3a"
             ],
             [
              0.8888888888888888,
              "#fdca26"
             ],
             [
              1,
              "#f0f921"
             ]
            ],
            "type": "surface"
           }
          ],
          "table": [
           {
            "cells": {
             "fill": {
              "color": "#EBF0F8"
             },
             "line": {
              "color": "white"
             }
            },
            "header": {
             "fill": {
              "color": "#C8D4E3"
             },
             "line": {
              "color": "white"
             }
            },
            "type": "table"
           }
          ]
         },
         "layout": {
          "annotationdefaults": {
           "arrowcolor": "#2a3f5f",
           "arrowhead": 0,
           "arrowwidth": 1
          },
          "autotypenumbers": "strict",
          "coloraxis": {
           "colorbar": {
            "outlinewidth": 0,
            "ticks": ""
           }
          },
          "colorscale": {
           "diverging": [
            [
             0,
             "#8e0152"
            ],
            [
             0.1,
             "#c51b7d"
            ],
            [
             0.2,
             "#de77ae"
            ],
            [
             0.3,
             "#f1b6da"
            ],
            [
             0.4,
             "#fde0ef"
            ],
            [
             0.5,
             "#f7f7f7"
            ],
            [
             0.6,
             "#e6f5d0"
            ],
            [
             0.7,
             "#b8e186"
            ],
            [
             0.8,
             "#7fbc41"
            ],
            [
             0.9,
             "#4d9221"
            ],
            [
             1,
             "#276419"
            ]
           ],
           "sequential": [
            [
             0,
             "#0d0887"
            ],
            [
             0.1111111111111111,
             "#46039f"
            ],
            [
             0.2222222222222222,
             "#7201a8"
            ],
            [
             0.3333333333333333,
             "#9c179e"
            ],
            [
             0.4444444444444444,
             "#bd3786"
            ],
            [
             0.5555555555555556,
             "#d8576b"
            ],
            [
             0.6666666666666666,
             "#ed7953"
            ],
            [
             0.7777777777777778,
             "#fb9f3a"
            ],
            [
             0.8888888888888888,
             "#fdca26"
            ],
            [
             1,
             "#f0f921"
            ]
           ],
           "sequentialminus": [
            [
             0,
             "#0d0887"
            ],
            [
             0.1111111111111111,
             "#46039f"
            ],
            [
             0.2222222222222222,
             "#7201a8"
            ],
            [
             0.3333333333333333,
             "#9c179e"
            ],
            [
             0.4444444444444444,
             "#bd3786"
            ],
            [
             0.5555555555555556,
             "#d8576b"
            ],
            [
             0.6666666666666666,
             "#ed7953"
            ],
            [
             0.7777777777777778,
             "#fb9f3a"
            ],
            [
             0.8888888888888888,
             "#fdca26"
            ],
            [
             1,
             "#f0f921"
            ]
           ]
          },
          "colorway": [
           "#636efa",
           "#EF553B",
           "#00cc96",
           "#ab63fa",
           "#FFA15A",
           "#19d3f3",
           "#FF6692",
           "#B6E880",
           "#FF97FF",
           "#FECB52"
          ],
          "font": {
           "color": "#2a3f5f"
          },
          "geo": {
           "bgcolor": "white",
           "lakecolor": "white",
           "landcolor": "#E5ECF6",
           "showlakes": true,
           "showland": true,
           "subunitcolor": "white"
          },
          "hoverlabel": {
           "align": "left"
          },
          "hovermode": "closest",
          "mapbox": {
           "style": "light"
          },
          "paper_bgcolor": "white",
          "plot_bgcolor": "#E5ECF6",
          "polar": {
           "angularaxis": {
            "gridcolor": "white",
            "linecolor": "white",
            "ticks": ""
           },
           "bgcolor": "#E5ECF6",
           "radialaxis": {
            "gridcolor": "white",
            "linecolor": "white",
            "ticks": ""
           }
          },
          "scene": {
           "xaxis": {
            "backgroundcolor": "#E5ECF6",
            "gridcolor": "white",
            "gridwidth": 2,
            "linecolor": "white",
            "showbackground": true,
            "ticks": "",
            "zerolinecolor": "white"
           },
           "yaxis": {
            "backgroundcolor": "#E5ECF6",
            "gridcolor": "white",
            "gridwidth": 2,
            "linecolor": "white",
            "showbackground": true,
            "ticks": "",
            "zerolinecolor": "white"
           },
           "zaxis": {
            "backgroundcolor": "#E5ECF6",
            "gridcolor": "white",
            "gridwidth": 2,
            "linecolor": "white",
            "showbackground": true,
            "ticks": "",
            "zerolinecolor": "white"
           }
          },
          "shapedefaults": {
           "line": {
            "color": "#2a3f5f"
           }
          },
          "ternary": {
           "aaxis": {
            "gridcolor": "white",
            "linecolor": "white",
            "ticks": ""
           },
           "baxis": {
            "gridcolor": "white",
            "linecolor": "white",
            "ticks": ""
           },
           "bgcolor": "#E5ECF6",
           "caxis": {
            "gridcolor": "white",
            "linecolor": "white",
            "ticks": ""
           }
          },
          "title": {
           "x": 0.05
          },
          "xaxis": {
           "automargin": true,
           "gridcolor": "white",
           "linecolor": "white",
           "ticks": "",
           "title": {
            "standoff": 15
           },
           "zerolinecolor": "white",
           "zerolinewidth": 2
          },
          "yaxis": {
           "automargin": true,
           "gridcolor": "white",
           "linecolor": "white",
           "ticks": "",
           "title": {
            "standoff": 15
           },
           "zerolinecolor": "white",
           "zerolinewidth": 2
          }
         }
        },
        "title": {
         "text": "Status Amount"
        },
        "width": 1200,
        "xaxis": {
         "anchor": "y",
         "categoryorder": "total descending",
         "domain": [
          0,
          1
         ],
         "title": {
          "text": "Category"
         }
        },
        "yaxis": {
         "anchor": "x",
         "domain": [
          0,
          1
         ],
         "title": {
          "text": "Status"
         }
        }
       }
      }
     },
     "metadata": {},
     "output_type": "display_data"
    }
   ],
   "source": [
    "\n",
    "data_status = data['status'].value_counts().reset_index()\n",
    "x_axis = data_status['index']\n",
    "\n",
    "fig = px.bar(\n",
    "    data_status,\n",
    "    x='index',\n",
    "    y='status',\n",
    "    color='status',\n",
    "    # color_continuous_scale=px.colors.sequential.Viridis,\n",
    "    color_continuous_scale=str(px.colors.named_colorscales()[27])+'_r',\n",
    "    width=1200,\n",
    "    height=400,\n",
    "    text_auto=True,\n",
    "    title=\"Status Amount\",\n",
    "    labels={\"index\":\"Category\",\"status\":\"Status\"},\n",
    ")\n",
    "\n",
    "fig.update_layout(xaxis={'categoryorder':'total descending'})\n",
    "\n",
    "fig.update_traces(textfont_size=16)\n",
    "\n",
    "fig.show()"
   ]
  },
  {
   "cell_type": "code",
   "execution_count": 91,
   "metadata": {},
   "outputs": [
    {
     "data": {
      "text/html": [
       "<div>\n",
       "<style scoped>\n",
       "    .dataframe tbody tr th:only-of-type {\n",
       "        vertical-align: middle;\n",
       "    }\n",
       "\n",
       "    .dataframe tbody tr th {\n",
       "        vertical-align: top;\n",
       "    }\n",
       "\n",
       "    .dataframe thead th {\n",
       "        text-align: right;\n",
       "    }\n",
       "</style>\n",
       "<table border=\"1\" class=\"dataframe\">\n",
       "  <thead>\n",
       "    <tr style=\"text-align: right;\">\n",
       "      <th></th>\n",
       "      <th>votes</th>\n",
       "      <th>id</th>\n",
       "      <th>suggestion</th>\n",
       "      <th>author</th>\n",
       "      <th>date_created</th>\n",
       "      <th>last_upvoted</th>\n",
       "      <th>comments</th>\n",
       "      <th>status</th>\n",
       "      <th>date_created_month</th>\n",
       "    </tr>\n",
       "  </thead>\n",
       "  <tbody>\n",
       "    <tr>\n",
       "      <th>14</th>\n",
       "      <td>180.0</td>\n",
       "      <td>157427</td>\n",
       "      <td>Video chat</td>\n",
       "      <td>Moses</td>\n",
       "      <td>03 Feb, 2021</td>\n",
       "      <td>08 Jul</td>\n",
       "      <td>21.0</td>\n",
       "      <td>Done</td>\n",
       "      <td>Feb</td>\n",
       "    </tr>\n",
       "    <tr>\n",
       "      <th>16</th>\n",
       "      <td>162.0</td>\n",
       "      <td>161961</td>\n",
       "      <td>Conversation prompts</td>\n",
       "      <td>Moses</td>\n",
       "      <td>22 Feb, 2021</td>\n",
       "      <td>09 Jul</td>\n",
       "      <td>24.0</td>\n",
       "      <td>Done</td>\n",
       "      <td>Feb</td>\n",
       "    </tr>\n",
       "    <tr>\n",
       "      <th>17</th>\n",
       "      <td>161.0</td>\n",
       "      <td>164962</td>\n",
       "      <td>Hide inactive profiles</td>\n",
       "      <td>Dallin</td>\n",
       "      <td>02 Mar, 2021</td>\n",
       "      <td>yesterday</td>\n",
       "      <td>2.0</td>\n",
       "      <td>Done</td>\n",
       "      <td>Mar</td>\n",
       "    </tr>\n",
       "    <tr>\n",
       "      <th>18</th>\n",
       "      <td>148.0</td>\n",
       "      <td>165319</td>\n",
       "      <td>Higher character count in bio</td>\n",
       "      <td>Qaseem</td>\n",
       "      <td>02 Mar, 2021</td>\n",
       "      <td>09 Jul</td>\n",
       "      <td>17.0</td>\n",
       "      <td>Done</td>\n",
       "      <td>Mar</td>\n",
       "    </tr>\n",
       "    <tr>\n",
       "      <th>21</th>\n",
       "      <td>131.0</td>\n",
       "      <td>164926</td>\n",
       "      <td>Share a profile</td>\n",
       "      <td>Moses</td>\n",
       "      <td>01 Mar, 2021</td>\n",
       "      <td>08 Jul</td>\n",
       "      <td>21.0</td>\n",
       "      <td>Done</td>\n",
       "      <td>Mar</td>\n",
       "    </tr>\n",
       "    <tr>\n",
       "      <th>22</th>\n",
       "      <td>129.0</td>\n",
       "      <td>175881</td>\n",
       "      <td>Free trial</td>\n",
       "      <td>Erica</td>\n",
       "      <td>01 Apr, 2021</td>\n",
       "      <td>2 days ago</td>\n",
       "      <td>25.0</td>\n",
       "      <td>Done</td>\n",
       "      <td>Apr</td>\n",
       "    </tr>\n",
       "    <tr>\n",
       "      <th>33</th>\n",
       "      <td>80.0</td>\n",
       "      <td>172181</td>\n",
       "      <td>Filter those that like you</td>\n",
       "      <td>Collin</td>\n",
       "      <td>21 Mar, 2021</td>\n",
       "      <td>2 days ago</td>\n",
       "      <td>6.0</td>\n",
       "      <td>Done</td>\n",
       "      <td>Mar</td>\n",
       "    </tr>\n",
       "    <tr>\n",
       "      <th>46</th>\n",
       "      <td>47.0</td>\n",
       "      <td>184861</td>\n",
       "      <td>List view of people whove liked you</td>\n",
       "      <td>Anonymous</td>\n",
       "      <td>12 May, 2021</td>\n",
       "      <td>yesterday</td>\n",
       "      <td>7.0</td>\n",
       "      <td>Done</td>\n",
       "      <td>May</td>\n",
       "    </tr>\n",
       "    <tr>\n",
       "      <th>90</th>\n",
       "      <td>13.0</td>\n",
       "      <td>194685</td>\n",
       "      <td>See at least 1 person per week</td>\n",
       "      <td>Micah Conover</td>\n",
       "      <td>29 Jun, 2021</td>\n",
       "      <td>2 days ago</td>\n",
       "      <td>0.0</td>\n",
       "      <td>Done</td>\n",
       "      <td>Jun</td>\n",
       "    </tr>\n",
       "    <tr>\n",
       "      <th>91</th>\n",
       "      <td>13.0</td>\n",
       "      <td>192772</td>\n",
       "      <td>Be able to set your location to your home city...</td>\n",
       "      <td>Jacob Coleman</td>\n",
       "      <td>19 Jun, 2021</td>\n",
       "      <td>09 Jul</td>\n",
       "      <td>0.0</td>\n",
       "      <td>Done</td>\n",
       "      <td>Jun</td>\n",
       "    </tr>\n",
       "  </tbody>\n",
       "</table>\n",
       "</div>"
      ],
      "text/plain": [
       "    votes      id                                         suggestion  \\\n",
       "14  180.0  157427                                         Video chat   \n",
       "16  162.0  161961                               Conversation prompts   \n",
       "17  161.0  164962                             Hide inactive profiles   \n",
       "18  148.0  165319                      Higher character count in bio   \n",
       "21  131.0  164926                                    Share a profile   \n",
       "22  129.0  175881                                         Free trial   \n",
       "33   80.0  172181                         Filter those that like you   \n",
       "46   47.0  184861                List view of people whove liked you   \n",
       "90   13.0  194685                     See at least 1 person per week   \n",
       "91   13.0  192772  Be able to set your location to your home city...   \n",
       "\n",
       "           author  date_created last_upvoted  comments status  \\\n",
       "14          Moses  03 Feb, 2021       08 Jul      21.0   Done   \n",
       "16          Moses  22 Feb, 2021       09 Jul      24.0   Done   \n",
       "17         Dallin  02 Mar, 2021    yesterday       2.0   Done   \n",
       "18         Qaseem  02 Mar, 2021       09 Jul      17.0   Done   \n",
       "21          Moses  01 Mar, 2021       08 Jul      21.0   Done   \n",
       "22          Erica  01 Apr, 2021   2 days ago      25.0   Done   \n",
       "33         Collin  21 Mar, 2021   2 days ago       6.0   Done   \n",
       "46      Anonymous  12 May, 2021    yesterday       7.0   Done   \n",
       "90  Micah Conover  29 Jun, 2021   2 days ago       0.0   Done   \n",
       "91  Jacob Coleman  19 Jun, 2021       09 Jul       0.0   Done   \n",
       "\n",
       "   date_created_month  \n",
       "14                Feb  \n",
       "16                Feb  \n",
       "17                Mar  \n",
       "18                Mar  \n",
       "21                Mar  \n",
       "22                Apr  \n",
       "33                Mar  \n",
       "46                May  \n",
       "90                Jun  \n",
       "91                Jun  "
      ]
     },
     "execution_count": 91,
     "metadata": {},
     "output_type": "execute_result"
    }
   ],
   "source": [
    "# check top 10 (by vote count) features already implemented:\n",
    "data[data.status=='Done'][:10].sort_values('votes', ascending=False)"
   ]
  },
  {
   "cell_type": "code",
   "execution_count": 92,
   "metadata": {},
   "outputs": [
    {
     "data": {
      "text/html": [
       "<div>\n",
       "<style scoped>\n",
       "    .dataframe tbody tr th:only-of-type {\n",
       "        vertical-align: middle;\n",
       "    }\n",
       "\n",
       "    .dataframe tbody tr th {\n",
       "        vertical-align: top;\n",
       "    }\n",
       "\n",
       "    .dataframe thead th {\n",
       "        text-align: right;\n",
       "    }\n",
       "</style>\n",
       "<table border=\"1\" class=\"dataframe\">\n",
       "  <thead>\n",
       "    <tr style=\"text-align: right;\">\n",
       "      <th></th>\n",
       "      <th>votes</th>\n",
       "      <th>id</th>\n",
       "      <th>suggestion</th>\n",
       "      <th>author</th>\n",
       "      <th>date_created</th>\n",
       "      <th>last_upvoted</th>\n",
       "      <th>comments</th>\n",
       "      <th>status</th>\n",
       "      <th>date_created_month</th>\n",
       "    </tr>\n",
       "  </thead>\n",
       "  <tbody>\n",
       "    <tr>\n",
       "      <th>0</th>\n",
       "      <td>1000.0</td>\n",
       "      <td>161005</td>\n",
       "      <td>See who i have liked</td>\n",
       "      <td>Moses</td>\n",
       "      <td>19 Feb, 2021</td>\n",
       "      <td>yesterday</td>\n",
       "      <td>72.0</td>\n",
       "      <td>Planned</td>\n",
       "      <td>Feb</td>\n",
       "    </tr>\n",
       "    <tr>\n",
       "      <th>11</th>\n",
       "      <td>1000.0</td>\n",
       "      <td>168489</td>\n",
       "      <td>Let queer members match with other queer members</td>\n",
       "      <td>Rachel</td>\n",
       "      <td>10 Mar, 2021</td>\n",
       "      <td>yesterday</td>\n",
       "      <td>87.0</td>\n",
       "      <td>Under consideration</td>\n",
       "      <td>Mar</td>\n",
       "    </tr>\n",
       "    <tr>\n",
       "      <th>1</th>\n",
       "      <td>506.0</td>\n",
       "      <td>161962</td>\n",
       "      <td>Last onlinerecently active</td>\n",
       "      <td>Moses</td>\n",
       "      <td>22 Feb, 2021</td>\n",
       "      <td>2 days ago</td>\n",
       "      <td>46.0</td>\n",
       "      <td>In Development</td>\n",
       "      <td>Feb</td>\n",
       "    </tr>\n",
       "    <tr>\n",
       "      <th>12</th>\n",
       "      <td>466.0</td>\n",
       "      <td>170983</td>\n",
       "      <td>Watch an ad to see a person who likes you</td>\n",
       "      <td>Anonymous</td>\n",
       "      <td>19 Mar, 2021</td>\n",
       "      <td>today</td>\n",
       "      <td>25.0</td>\n",
       "      <td>Under consideration</td>\n",
       "      <td>Mar</td>\n",
       "    </tr>\n",
       "    <tr>\n",
       "      <th>2</th>\n",
       "      <td>443.0</td>\n",
       "      <td>164928</td>\n",
       "      <td>Filter church activity</td>\n",
       "      <td>Moses</td>\n",
       "      <td>01 Mar, 2021</td>\n",
       "      <td>yesterday</td>\n",
       "      <td>41.0</td>\n",
       "      <td>In Development</td>\n",
       "      <td>Mar</td>\n",
       "    </tr>\n",
       "    <tr>\n",
       "      <th>3</th>\n",
       "      <td>362.0</td>\n",
       "      <td>177816</td>\n",
       "      <td>Skip a profile save for later</td>\n",
       "      <td>Brian</td>\n",
       "      <td>11 Apr, 2021</td>\n",
       "      <td>yesterday</td>\n",
       "      <td>35.0</td>\n",
       "      <td>Under consideration</td>\n",
       "      <td>Apr</td>\n",
       "    </tr>\n",
       "    <tr>\n",
       "      <th>13</th>\n",
       "      <td>245.0</td>\n",
       "      <td>165279</td>\n",
       "      <td>Birthday surprise</td>\n",
       "      <td>Jefferson Glenn</td>\n",
       "      <td>02 Mar, 2021</td>\n",
       "      <td>yesterday</td>\n",
       "      <td>9.0</td>\n",
       "      <td>Under consideration</td>\n",
       "      <td>Mar</td>\n",
       "    </tr>\n",
       "    <tr>\n",
       "      <th>4</th>\n",
       "      <td>240.0</td>\n",
       "      <td>161959</td>\n",
       "      <td>Filter children</td>\n",
       "      <td>Moses</td>\n",
       "      <td>22 Feb, 2021</td>\n",
       "      <td>today</td>\n",
       "      <td>21.0</td>\n",
       "      <td>In Development</td>\n",
       "      <td>Feb</td>\n",
       "    </tr>\n",
       "    <tr>\n",
       "      <th>5</th>\n",
       "      <td>226.0</td>\n",
       "      <td>161947</td>\n",
       "      <td>Filter interest level</td>\n",
       "      <td>Moses</td>\n",
       "      <td>22 Feb, 2021</td>\n",
       "      <td>today</td>\n",
       "      <td>36.0</td>\n",
       "      <td>In Development</td>\n",
       "      <td>Feb</td>\n",
       "    </tr>\n",
       "    <tr>\n",
       "      <th>6</th>\n",
       "      <td>197.0</td>\n",
       "      <td>296565</td>\n",
       "      <td>Remove swipe limit</td>\n",
       "      <td>Sheppard</td>\n",
       "      <td>30 Apr</td>\n",
       "      <td>yesterday</td>\n",
       "      <td>35.0</td>\n",
       "      <td>Under consideration</td>\n",
       "      <td>Apr</td>\n",
       "    </tr>\n",
       "  </tbody>\n",
       "</table>\n",
       "</div>"
      ],
      "text/plain": [
       "     votes      id                                        suggestion  \\\n",
       "0   1000.0  161005                              See who i have liked   \n",
       "11  1000.0  168489  Let queer members match with other queer members   \n",
       "1    506.0  161962                        Last onlinerecently active   \n",
       "12   466.0  170983         Watch an ad to see a person who likes you   \n",
       "2    443.0  164928                            Filter church activity   \n",
       "3    362.0  177816                     Skip a profile save for later   \n",
       "13   245.0  165279                                 Birthday surprise   \n",
       "4    240.0  161959                                   Filter children   \n",
       "5    226.0  161947                             Filter interest level   \n",
       "6    197.0  296565                                Remove swipe limit   \n",
       "\n",
       "             author  date_created last_upvoted  comments               status  \\\n",
       "0             Moses  19 Feb, 2021    yesterday      72.0              Planned   \n",
       "11           Rachel  10 Mar, 2021    yesterday      87.0  Under consideration   \n",
       "1             Moses  22 Feb, 2021   2 days ago      46.0       In Development   \n",
       "12        Anonymous  19 Mar, 2021        today      25.0  Under consideration   \n",
       "2             Moses  01 Mar, 2021    yesterday      41.0       In Development   \n",
       "3             Brian  11 Apr, 2021    yesterday      35.0  Under consideration   \n",
       "13  Jefferson Glenn  02 Mar, 2021    yesterday       9.0  Under consideration   \n",
       "4             Moses  22 Feb, 2021        today      21.0       In Development   \n",
       "5             Moses  22 Feb, 2021        today      36.0       In Development   \n",
       "6          Sheppard        30 Apr    yesterday      35.0  Under consideration   \n",
       "\n",
       "   date_created_month  \n",
       "0                 Feb  \n",
       "11                Mar  \n",
       "1                 Feb  \n",
       "12                Mar  \n",
       "2                 Mar  \n",
       "3                 Apr  \n",
       "13                Mar  \n",
       "4                 Feb  \n",
       "5                 Feb  \n",
       "6                 Apr  "
      ]
     },
     "execution_count": 92,
     "metadata": {},
     "output_type": "execute_result"
    }
   ],
   "source": [
    "# check top 10 votes features not done:\n",
    "\n",
    "data[data.status!='Done'].sort_values('votes', ascending=False)[:10]"
   ]
  }
 ],
 "metadata": {
  "kernelspec": {
   "display_name": "Python 3.9.0 64-bit",
   "language": "python",
   "name": "python3"
  },
  "language_info": {
   "codemirror_mode": {
    "name": "ipython",
    "version": 3
   },
   "file_extension": ".py",
   "mimetype": "text/x-python",
   "name": "python",
   "nbconvert_exporter": "python",
   "pygments_lexer": "ipython3",
   "version": "3.9.0"
  },
  "orig_nbformat": 4,
  "vscode": {
   "interpreter": {
    "hash": "aee8b7b246df8f9039afb4144a1f6fd8d2ca17a180786b69acc140d282b71a49"
   }
  }
 },
 "nbformat": 4,
 "nbformat_minor": 2
}
