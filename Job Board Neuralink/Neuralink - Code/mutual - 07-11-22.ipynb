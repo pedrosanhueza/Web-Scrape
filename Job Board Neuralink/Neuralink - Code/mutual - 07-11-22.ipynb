{
 "cells": [
  {
   "cell_type": "code",
   "execution_count": 1,
   "metadata": {},
   "outputs": [],
   "source": [
    "import requests\n",
    "from bs4 import BeautifulSoup\n",
    "import pandas as pd"
   ]
  },
  {
   "cell_type": "code",
   "execution_count": 525,
   "metadata": {},
   "outputs": [],
   "source": [
    "\n",
    "rows = []\n",
    "rows_votes = []\n",
    "\n",
    "for pag in range(7): # '7' because I know there are 7 pages\n",
    "    \n",
    "    url = f'https://feedback.mutual.app/?page={pag+1}&order=popular&filter=all#controls' # url for each page. only change the page number\n",
    "    response = requests.get(url)\n",
    "    soup = BeautifulSoup(response.text, 'html.parser')\n",
    "\n",
    "    info = soup.find_all('div',{'class':'sInfo'})\n",
    "    votes= soup.find_all('div',{'class':'sNumbers'})\n",
    "\n",
    "    for attribute in info:\n",
    "        row = {}\n",
    "        row['id'] = attribute.find('a')['href'].split('/')[2]\n",
    "        row['suggestion'] = attribute.find('a')['href'].split('/')[-1].replace('-',' ').capitalize()\n",
    "        row['author'] = attribute.find_all('strong')[0].get_text()\n",
    "        start = attribute.find_all('span')[0].get_text(strip=True).find('(')+1\n",
    "        end = attribute.find_all('span')[0].get_text(strip=True).find(')')\n",
    "        row['date_created'] = attribute.find_all('span')[0].get_text(strip=True)[start:end].replace('\\'','20')\n",
    "        row['last_upvoted'] = attribute.find_all('span',{'class':'sLastComment'})[0].get_text(strip=True)[9:]\n",
    "        row['comments'] = attribute.find_all('span',{'class':'sLabel'})[0].get_text(strip=True)[10:]\n",
    "        \n",
    "        try:\n",
    "            row['status'] = attribute.find_all('div',{'class':'sLabels'})[0].get_text(strip=True).replace('Pinned','')\n",
    "        except:\n",
    "            pass\n",
    "        rows.append(row)\n",
    "\n",
    "    for attribute in votes:\n",
    "        row = {}\n",
    "        row['votes'] = attribute.find('a').get_text(strip=True)[:-5].replace('K','000')\n",
    "        rows_votes.append(row)\n",
    "\n",
    "    for idx,e in enumerate(rows):\n",
    "        rows_votes[idx].update(e)\n"
   ]
  },
  {
   "cell_type": "code",
   "execution_count": 546,
   "metadata": {},
   "outputs": [
    {
     "data": {
      "text/html": [
       "<div>\n",
       "<style scoped>\n",
       "    .dataframe tbody tr th:only-of-type {\n",
       "        vertical-align: middle;\n",
       "    }\n",
       "\n",
       "    .dataframe tbody tr th {\n",
       "        vertical-align: top;\n",
       "    }\n",
       "\n",
       "    .dataframe thead th {\n",
       "        text-align: right;\n",
       "    }\n",
       "</style>\n",
       "<table border=\"1\" class=\"dataframe\">\n",
       "  <thead>\n",
       "    <tr style=\"text-align: right;\">\n",
       "      <th></th>\n",
       "      <th>votes</th>\n",
       "      <th>id</th>\n",
       "      <th>suggestion</th>\n",
       "      <th>author</th>\n",
       "      <th>date_created</th>\n",
       "      <th>last_upvoted</th>\n",
       "      <th>comments</th>\n",
       "      <th>status</th>\n",
       "    </tr>\n",
       "  </thead>\n",
       "  <tbody>\n",
       "    <tr>\n",
       "      <th>0</th>\n",
       "      <td>1000</td>\n",
       "      <td>161005</td>\n",
       "      <td>See who i have liked</td>\n",
       "      <td>Moses</td>\n",
       "      <td>19 Feb, 2021</td>\n",
       "      <td>today</td>\n",
       "      <td>72</td>\n",
       "      <td>Planned</td>\n",
       "    </tr>\n",
       "    <tr>\n",
       "      <th>1</th>\n",
       "      <td>506</td>\n",
       "      <td>161962</td>\n",
       "      <td>Last onlinerecently active</td>\n",
       "      <td>Moses</td>\n",
       "      <td>22 Feb, 2021</td>\n",
       "      <td>yesterday</td>\n",
       "      <td>46</td>\n",
       "      <td>In Development</td>\n",
       "    </tr>\n",
       "    <tr>\n",
       "      <th>2</th>\n",
       "      <td>443</td>\n",
       "      <td>164928</td>\n",
       "      <td>Filter church activity</td>\n",
       "      <td>Moses</td>\n",
       "      <td>01 Mar, 2021</td>\n",
       "      <td>today</td>\n",
       "      <td>41</td>\n",
       "      <td>In Development</td>\n",
       "    </tr>\n",
       "    <tr>\n",
       "      <th>3</th>\n",
       "      <td>362</td>\n",
       "      <td>177816</td>\n",
       "      <td>Skip a profile save for later</td>\n",
       "      <td>Brian</td>\n",
       "      <td>11 Apr, 2021</td>\n",
       "      <td>today</td>\n",
       "      <td>35</td>\n",
       "      <td>Under consideration</td>\n",
       "    </tr>\n",
       "    <tr>\n",
       "      <th>4</th>\n",
       "      <td>239</td>\n",
       "      <td>161959</td>\n",
       "      <td>Filter children</td>\n",
       "      <td>Moses</td>\n",
       "      <td>22 Feb, 2021</td>\n",
       "      <td>today</td>\n",
       "      <td>21</td>\n",
       "      <td>In Development</td>\n",
       "    </tr>\n",
       "    <tr>\n",
       "      <th>...</th>\n",
       "      <td>...</td>\n",
       "      <td>...</td>\n",
       "      <td>...</td>\n",
       "      <td>...</td>\n",
       "      <td>...</td>\n",
       "      <td>...</td>\n",
       "      <td>...</td>\n",
       "      <td>...</td>\n",
       "    </tr>\n",
       "    <tr>\n",
       "      <th>315</th>\n",
       "      <td>1</td>\n",
       "      <td>187811</td>\n",
       "      <td>When i leave a conversation dont jump back to ...</td>\n",
       "      <td>Swaggy Shaggs</td>\n",
       "      <td>27 May, 2021</td>\n",
       "      <td>27 May, '21</td>\n",
       "      <td>0</td>\n",
       "      <td>Bug</td>\n",
       "    </tr>\n",
       "    <tr>\n",
       "      <th>316</th>\n",
       "      <td>1</td>\n",
       "      <td>186869</td>\n",
       "      <td>Add the word peru</td>\n",
       "      <td>Steven Spainhower</td>\n",
       "      <td>22 May, 2021</td>\n",
       "      <td>22 May, '21</td>\n",
       "      <td>0</td>\n",
       "      <td>Bug</td>\n",
       "    </tr>\n",
       "    <tr>\n",
       "      <th>317</th>\n",
       "      <td>1</td>\n",
       "      <td>183884</td>\n",
       "      <td>Yes i already paid for this site but when i go...</td>\n",
       "      <td>Edward Davis</td>\n",
       "      <td>06 May, 2021</td>\n",
       "      <td>06 May, '21</td>\n",
       "      <td>0</td>\n",
       "      <td>Bug</td>\n",
       "    </tr>\n",
       "    <tr>\n",
       "      <th>318</th>\n",
       "      <td>1</td>\n",
       "      <td>183875</td>\n",
       "      <td>Ideal timeline</td>\n",
       "      <td>Sassafrass</td>\n",
       "      <td>06 May, 2021</td>\n",
       "      <td>06 May, '21</td>\n",
       "      <td>0</td>\n",
       "      <td>Not planned</td>\n",
       "    </tr>\n",
       "    <tr>\n",
       "      <th>319</th>\n",
       "      <td>1</td>\n",
       "      <td>183419</td>\n",
       "      <td>Pin matches from archives</td>\n",
       "      <td>Brett</td>\n",
       "      <td>04 May, 2021</td>\n",
       "      <td>04 May, '21</td>\n",
       "      <td>0</td>\n",
       "      <td>Bug</td>\n",
       "    </tr>\n",
       "  </tbody>\n",
       "</table>\n",
       "<p>320 rows × 8 columns</p>\n",
       "</div>"
      ],
      "text/plain": [
       "    votes      id                                         suggestion  \\\n",
       "0    1000  161005                               See who i have liked   \n",
       "1     506  161962                         Last onlinerecently active   \n",
       "2     443  164928                             Filter church activity   \n",
       "3     362  177816                      Skip a profile save for later   \n",
       "4     239  161959                                    Filter children   \n",
       "..    ...     ...                                                ...   \n",
       "315     1  187811  When i leave a conversation dont jump back to ...   \n",
       "316     1  186869                                  Add the word peru   \n",
       "317     1  183884  Yes i already paid for this site but when i go...   \n",
       "318     1  183875                                     Ideal timeline   \n",
       "319     1  183419                          Pin matches from archives   \n",
       "\n",
       "                author  date_created last_upvoted comments  \\\n",
       "0                Moses  19 Feb, 2021        today       72   \n",
       "1                Moses  22 Feb, 2021    yesterday       46   \n",
       "2                Moses  01 Mar, 2021        today       41   \n",
       "3                Brian  11 Apr, 2021        today       35   \n",
       "4                Moses  22 Feb, 2021        today       21   \n",
       "..                 ...           ...          ...      ...   \n",
       "315      Swaggy Shaggs  27 May, 2021  27 May, '21        0   \n",
       "316  Steven Spainhower  22 May, 2021  22 May, '21        0   \n",
       "317       Edward Davis  06 May, 2021  06 May, '21        0   \n",
       "318         Sassafrass  06 May, 2021  06 May, '21        0   \n",
       "319              Brett  04 May, 2021  04 May, '21        0   \n",
       "\n",
       "                  status  \n",
       "0                Planned  \n",
       "1         In Development  \n",
       "2         In Development  \n",
       "3    Under consideration  \n",
       "4         In Development  \n",
       "..                   ...  \n",
       "315                  Bug  \n",
       "316                  Bug  \n",
       "317                  Bug  \n",
       "318          Not planned  \n",
       "319                  Bug  \n",
       "\n",
       "[320 rows x 8 columns]"
      ]
     },
     "execution_count": 546,
     "metadata": {},
     "output_type": "execute_result"
    }
   ],
   "source": [
    "data = pd.DataFrame(rows_votes)\n",
    "data\n"
   ]
  },
  {
   "cell_type": "markdown",
   "metadata": {},
   "source": [
    "# Explanatory Data Analysis"
   ]
  },
  {
   "cell_type": "code",
   "execution_count": 544,
   "metadata": {},
   "outputs": [],
   "source": [
    "import plotly.express as px"
   ]
  },
  {
   "cell_type": "code",
   "execution_count": 645,
   "metadata": {},
   "outputs": [],
   "source": [
    "data = data.astype({'votes': 'float','comments': 'float'}, copy=True)"
   ]
  },
  {
   "cell_type": "code",
   "execution_count": 630,
   "metadata": {},
   "outputs": [
    {
     "data": {
      "application/vnd.plotly.v1+json": {
       "config": {
        "plotlyServerURL": "https://plot.ly"
       },
       "data": [
        {
         "alignmentgroup": "True",
         "hovertemplate": "index=%{x}<br>status=%{marker.color}<extra></extra>",
         "legendgroup": "",
         "marker": {
          "color": [
           141,
           60,
           39,
           32,
           26,
           22
          ],
          "coloraxis": "coloraxis",
          "pattern": {
           "shape": ""
          }
         },
         "name": "",
         "offsetgroup": "",
         "orientation": "v",
         "showlegend": false,
         "textfont": {
          "size": 16
         },
         "textposition": "auto",
         "texttemplate": "%{y}",
         "type": "bar",
         "x": [
          "Under consideration",
          "Done",
          "Not planned",
          "Bug",
          "Planned",
          "In Development"
         ],
         "xaxis": "x",
         "y": [
          141,
          60,
          39,
          32,
          26,
          22
         ],
         "yaxis": "y"
        }
       ],
       "layout": {
        "barmode": "relative",
        "coloraxis": {
         "colorbar": {
          "title": {
           "text": "status"
          }
         },
         "colorscale": [
          [
           0,
           "rgb(238, 77, 90)"
          ],
          [
           0.16666666666666666,
           "rgb(246, 99, 86)"
          ],
          [
           0.3333333333333333,
           "rgb(249, 123, 87)"
          ],
          [
           0.5,
           "rgb(247, 148, 93)"
          ],
          [
           0.6666666666666666,
           "rgb(243, 173, 106)"
          ],
          [
           0.8333333333333334,
           "rgb(239, 196, 126)"
          ],
          [
           1,
           "rgb(236, 218, 154)"
          ]
         ]
        },
        "height": 400,
        "legend": {
         "tracegroupgap": 0
        },
        "margin": {
         "t": 60
        },
        "template": {
         "data": {
          "bar": [
           {
            "error_x": {
             "color": "#2a3f5f"
            },
            "error_y": {
             "color": "#2a3f5f"
            },
            "marker": {
             "line": {
              "color": "#E5ECF6",
              "width": 0.5
             },
             "pattern": {
              "fillmode": "overlay",
              "size": 10,
              "solidity": 0.2
             }
            },
            "type": "bar"
           }
          ],
          "barpolar": [
           {
            "marker": {
             "line": {
              "color": "#E5ECF6",
              "width": 0.5
             },
             "pattern": {
              "fillmode": "overlay",
              "size": 10,
              "solidity": 0.2
             }
            },
            "type": "barpolar"
           }
          ],
          "carpet": [
           {
            "aaxis": {
             "endlinecolor": "#2a3f5f",
             "gridcolor": "white",
             "linecolor": "white",
             "minorgridcolor": "white",
             "startlinecolor": "#2a3f5f"
            },
            "baxis": {
             "endlinecolor": "#2a3f5f",
             "gridcolor": "white",
             "linecolor": "white",
             "minorgridcolor": "white",
             "startlinecolor": "#2a3f5f"
            },
            "type": "carpet"
           }
          ],
          "choropleth": [
           {
            "colorbar": {
             "outlinewidth": 0,
             "ticks": ""
            },
            "type": "choropleth"
           }
          ],
          "contour": [
           {
            "colorbar": {
             "outlinewidth": 0,
             "ticks": ""
            },
            "colorscale": [
             [
              0,
              "#0d0887"
             ],
             [
              0.1111111111111111,
              "#46039f"
             ],
             [
              0.2222222222222222,
              "#7201a8"
             ],
             [
              0.3333333333333333,
              "#9c179e"
             ],
             [
              0.4444444444444444,
              "#bd3786"
             ],
             [
              0.5555555555555556,
              "#d8576b"
             ],
             [
              0.6666666666666666,
              "#ed7953"
             ],
             [
              0.7777777777777778,
              "#fb9f3a"
             ],
             [
              0.8888888888888888,
              "#fdca26"
             ],
             [
              1,
              "#f0f921"
             ]
            ],
            "type": "contour"
           }
          ],
          "contourcarpet": [
           {
            "colorbar": {
             "outlinewidth": 0,
             "ticks": ""
            },
            "type": "contourcarpet"
           }
          ],
          "heatmap": [
           {
            "colorbar": {
             "outlinewidth": 0,
             "ticks": ""
            },
            "colorscale": [
             [
              0,
              "#0d0887"
             ],
             [
              0.1111111111111111,
              "#46039f"
             ],
             [
              0.2222222222222222,
              "#7201a8"
             ],
             [
              0.3333333333333333,
              "#9c179e"
             ],
             [
              0.4444444444444444,
              "#bd3786"
             ],
             [
              0.5555555555555556,
              "#d8576b"
             ],
             [
              0.6666666666666666,
              "#ed7953"
             ],
             [
              0.7777777777777778,
              "#fb9f3a"
             ],
             [
              0.8888888888888888,
              "#fdca26"
             ],
             [
              1,
              "#f0f921"
             ]
            ],
            "type": "heatmap"
           }
          ],
          "heatmapgl": [
           {
            "colorbar": {
             "outlinewidth": 0,
             "ticks": ""
            },
            "colorscale": [
             [
              0,
              "#0d0887"
             ],
             [
              0.1111111111111111,
              "#46039f"
             ],
             [
              0.2222222222222222,
              "#7201a8"
             ],
             [
              0.3333333333333333,
              "#9c179e"
             ],
             [
              0.4444444444444444,
              "#bd3786"
             ],
             [
              0.5555555555555556,
              "#d8576b"
             ],
             [
              0.6666666666666666,
              "#ed7953"
             ],
             [
              0.7777777777777778,
              "#fb9f3a"
             ],
             [
              0.8888888888888888,
              "#fdca26"
             ],
             [
              1,
              "#f0f921"
             ]
            ],
            "type": "heatmapgl"
           }
          ],
          "histogram": [
           {
            "marker": {
             "pattern": {
              "fillmode": "overlay",
              "size": 10,
              "solidity": 0.2
             }
            },
            "type": "histogram"
           }
          ],
          "histogram2d": [
           {
            "colorbar": {
             "outlinewidth": 0,
             "ticks": ""
            },
            "colorscale": [
             [
              0,
              "#0d0887"
             ],
             [
              0.1111111111111111,
              "#46039f"
             ],
             [
              0.2222222222222222,
              "#7201a8"
             ],
             [
              0.3333333333333333,
              "#9c179e"
             ],
             [
              0.4444444444444444,
              "#bd3786"
             ],
             [
              0.5555555555555556,
              "#d8576b"
             ],
             [
              0.6666666666666666,
              "#ed7953"
             ],
             [
              0.7777777777777778,
              "#fb9f3a"
             ],
             [
              0.8888888888888888,
              "#fdca26"
             ],
             [
              1,
              "#f0f921"
             ]
            ],
            "type": "histogram2d"
           }
          ],
          "histogram2dcontour": [
           {
            "colorbar": {
             "outlinewidth": 0,
             "ticks": ""
            },
            "colorscale": [
             [
              0,
              "#0d0887"
             ],
             [
              0.1111111111111111,
              "#46039f"
             ],
             [
              0.2222222222222222,
              "#7201a8"
             ],
             [
              0.3333333333333333,
              "#9c179e"
             ],
             [
              0.4444444444444444,
              "#bd3786"
             ],
             [
              0.5555555555555556,
              "#d8576b"
             ],
             [
              0.6666666666666666,
              "#ed7953"
             ],
             [
              0.7777777777777778,
              "#fb9f3a"
             ],
             [
              0.8888888888888888,
              "#fdca26"
             ],
             [
              1,
              "#f0f921"
             ]
            ],
            "type": "histogram2dcontour"
           }
          ],
          "mesh3d": [
           {
            "colorbar": {
             "outlinewidth": 0,
             "ticks": ""
            },
            "type": "mesh3d"
           }
          ],
          "parcoords": [
           {
            "line": {
             "colorbar": {
              "outlinewidth": 0,
              "ticks": ""
             }
            },
            "type": "parcoords"
           }
          ],
          "pie": [
           {
            "automargin": true,
            "type": "pie"
           }
          ],
          "scatter": [
           {
            "fillpattern": {
             "fillmode": "overlay",
             "size": 10,
             "solidity": 0.2
            },
            "type": "scatter"
           }
          ],
          "scatter3d": [
           {
            "line": {
             "colorbar": {
              "outlinewidth": 0,
              "ticks": ""
             }
            },
            "marker": {
             "colorbar": {
              "outlinewidth": 0,
              "ticks": ""
             }
            },
            "type": "scatter3d"
           }
          ],
          "scattercarpet": [
           {
            "marker": {
             "colorbar": {
              "outlinewidth": 0,
              "ticks": ""
             }
            },
            "type": "scattercarpet"
           }
          ],
          "scattergeo": [
           {
            "marker": {
             "colorbar": {
              "outlinewidth": 0,
              "ticks": ""
             }
            },
            "type": "scattergeo"
           }
          ],
          "scattergl": [
           {
            "marker": {
             "colorbar": {
              "outlinewidth": 0,
              "ticks": ""
             }
            },
            "type": "scattergl"
           }
          ],
          "scattermapbox": [
           {
            "marker": {
             "colorbar": {
              "outlinewidth": 0,
              "ticks": ""
             }
            },
            "type": "scattermapbox"
           }
          ],
          "scatterpolar": [
           {
            "marker": {
             "colorbar": {
              "outlinewidth": 0,
              "ticks": ""
             }
            },
            "type": "scatterpolar"
           }
          ],
          "scatterpolargl": [
           {
            "marker": {
             "colorbar": {
              "outlinewidth": 0,
              "ticks": ""
             }
            },
            "type": "scatterpolargl"
           }
          ],
          "scatterternary": [
           {
            "marker": {
             "colorbar": {
              "outlinewidth": 0,
              "ticks": ""
             }
            },
            "type": "scatterternary"
           }
          ],
          "surface": [
           {
            "colorbar": {
             "outlinewidth": 0,
             "ticks": ""
            },
            "colorscale": [
             [
              0,
              "#0d0887"
             ],
             [
              0.1111111111111111,
              "#46039f"
             ],
             [
              0.2222222222222222,
              "#7201a8"
             ],
             [
              0.3333333333333333,
              "#9c179e"
             ],
             [
              0.4444444444444444,
              "#bd3786"
             ],
             [
              0.5555555555555556,
              "#d8576b"
             ],
             [
              0.6666666666666666,
              "#ed7953"
             ],
             [
              0.7777777777777778,
              "#fb9f3a"
             ],
             [
              0.8888888888888888,
              "#fdca26"
             ],
             [
              1,
              "#f0f921"
             ]
            ],
            "type": "surface"
           }
          ],
          "table": [
           {
            "cells": {
             "fill": {
              "color": "#EBF0F8"
             },
             "line": {
              "color": "white"
             }
            },
            "header": {
             "fill": {
              "color": "#C8D4E3"
             },
             "line": {
              "color": "white"
             }
            },
            "type": "table"
           }
          ]
         },
         "layout": {
          "annotationdefaults": {
           "arrowcolor": "#2a3f5f",
           "arrowhead": 0,
           "arrowwidth": 1
          },
          "autotypenumbers": "strict",
          "coloraxis": {
           "colorbar": {
            "outlinewidth": 0,
            "ticks": ""
           }
          },
          "colorscale": {
           "diverging": [
            [
             0,
             "#8e0152"
            ],
            [
             0.1,
             "#c51b7d"
            ],
            [
             0.2,
             "#de77ae"
            ],
            [
             0.3,
             "#f1b6da"
            ],
            [
             0.4,
             "#fde0ef"
            ],
            [
             0.5,
             "#f7f7f7"
            ],
            [
             0.6,
             "#e6f5d0"
            ],
            [
             0.7,
             "#b8e186"
            ],
            [
             0.8,
             "#7fbc41"
            ],
            [
             0.9,
             "#4d9221"
            ],
            [
             1,
             "#276419"
            ]
           ],
           "sequential": [
            [
             0,
             "#0d0887"
            ],
            [
             0.1111111111111111,
             "#46039f"
            ],
            [
             0.2222222222222222,
             "#7201a8"
            ],
            [
             0.3333333333333333,
             "#9c179e"
            ],
            [
             0.4444444444444444,
             "#bd3786"
            ],
            [
             0.5555555555555556,
             "#d8576b"
            ],
            [
             0.6666666666666666,
             "#ed7953"
            ],
            [
             0.7777777777777778,
             "#fb9f3a"
            ],
            [
             0.8888888888888888,
             "#fdca26"
            ],
            [
             1,
             "#f0f921"
            ]
           ],
           "sequentialminus": [
            [
             0,
             "#0d0887"
            ],
            [
             0.1111111111111111,
             "#46039f"
            ],
            [
             0.2222222222222222,
             "#7201a8"
            ],
            [
             0.3333333333333333,
             "#9c179e"
            ],
            [
             0.4444444444444444,
             "#bd3786"
            ],
            [
             0.5555555555555556,
             "#d8576b"
            ],
            [
             0.6666666666666666,
             "#ed7953"
            ],
            [
             0.7777777777777778,
             "#fb9f3a"
            ],
            [
             0.8888888888888888,
             "#fdca26"
            ],
            [
             1,
             "#f0f921"
            ]
           ]
          },
          "colorway": [
           "#636efa",
           "#EF553B",
           "#00cc96",
           "#ab63fa",
           "#FFA15A",
           "#19d3f3",
           "#FF6692",
           "#B6E880",
           "#FF97FF",
           "#FECB52"
          ],
          "font": {
           "color": "#2a3f5f"
          },
          "geo": {
           "bgcolor": "white",
           "lakecolor": "white",
           "landcolor": "#E5ECF6",
           "showlakes": true,
           "showland": true,
           "subunitcolor": "white"
          },
          "hoverlabel": {
           "align": "left"
          },
          "hovermode": "closest",
          "mapbox": {
           "style": "light"
          },
          "paper_bgcolor": "white",
          "plot_bgcolor": "#E5ECF6",
          "polar": {
           "angularaxis": {
            "gridcolor": "white",
            "linecolor": "white",
            "ticks": ""
           },
           "bgcolor": "#E5ECF6",
           "radialaxis": {
            "gridcolor": "white",
            "linecolor": "white",
            "ticks": ""
           }
          },
          "scene": {
           "xaxis": {
            "backgroundcolor": "#E5ECF6",
            "gridcolor": "white",
            "gridwidth": 2,
            "linecolor": "white",
            "showbackground": true,
            "ticks": "",
            "zerolinecolor": "white"
           },
           "yaxis": {
            "backgroundcolor": "#E5ECF6",
            "gridcolor": "white",
            "gridwidth": 2,
            "linecolor": "white",
            "showbackground": true,
            "ticks": "",
            "zerolinecolor": "white"
           },
           "zaxis": {
            "backgroundcolor": "#E5ECF6",
            "gridcolor": "white",
            "gridwidth": 2,
            "linecolor": "white",
            "showbackground": true,
            "ticks": "",
            "zerolinecolor": "white"
           }
          },
          "shapedefaults": {
           "line": {
            "color": "#2a3f5f"
           }
          },
          "ternary": {
           "aaxis": {
            "gridcolor": "white",
            "linecolor": "white",
            "ticks": ""
           },
           "baxis": {
            "gridcolor": "white",
            "linecolor": "white",
            "ticks": ""
           },
           "bgcolor": "#E5ECF6",
           "caxis": {
            "gridcolor": "white",
            "linecolor": "white",
            "ticks": ""
           }
          },
          "title": {
           "x": 0.05
          },
          "xaxis": {
           "automargin": true,
           "gridcolor": "white",
           "linecolor": "white",
           "ticks": "",
           "title": {
            "standoff": 15
           },
           "zerolinecolor": "white",
           "zerolinewidth": 2
          },
          "yaxis": {
           "automargin": true,
           "gridcolor": "white",
           "linecolor": "white",
           "ticks": "",
           "title": {
            "standoff": 15
           },
           "zerolinecolor": "white",
           "zerolinewidth": 2
          }
         }
        },
        "width": 1200,
        "xaxis": {
         "anchor": "y",
         "categoryorder": "total descending",
         "domain": [
          0,
          1
         ],
         "title": {
          "text": "index"
         }
        },
        "yaxis": {
         "anchor": "x",
         "domain": [
          0,
          1
         ],
         "title": {
          "text": "status"
         }
        }
       }
      }
     },
     "metadata": {},
     "output_type": "display_data"
    }
   ],
   "source": [
    "\n",
    "data_status = data['status'].value_counts().reset_index()\n",
    "x_axis = data_status['index']\n",
    "\n",
    "fig = px.bar(\n",
    "    data_status,\n",
    "    x='index',\n",
    "    y='status',\n",
    "    color='status',\n",
    "    # color_continuous_scale=px.colors.sequential.Viridis,\n",
    "    color_continuous_scale=str(px.colors.named_colorscales()[27])+'_r',\n",
    "    width=1200,\n",
    "    height=400,\n",
    "    text_auto=True\n",
    ")\n",
    "\n",
    "fig.update_layout(xaxis={'categoryorder':'total descending'})\n",
    "\n",
    "fig.update_traces(textfont_size=16)\n",
    "\n",
    "fig.show()"
   ]
  },
  {
   "cell_type": "code",
   "execution_count": 640,
   "metadata": {},
   "outputs": [
    {
     "data": {
      "text/html": [
       "<div>\n",
       "<style scoped>\n",
       "    .dataframe tbody tr th:only-of-type {\n",
       "        vertical-align: middle;\n",
       "    }\n",
       "\n",
       "    .dataframe tbody tr th {\n",
       "        vertical-align: top;\n",
       "    }\n",
       "\n",
       "    .dataframe thead th {\n",
       "        text-align: right;\n",
       "    }\n",
       "</style>\n",
       "<table border=\"1\" class=\"dataframe\">\n",
       "  <thead>\n",
       "    <tr style=\"text-align: right;\">\n",
       "      <th></th>\n",
       "      <th>votes</th>\n",
       "      <th>id</th>\n",
       "      <th>suggestion</th>\n",
       "      <th>author</th>\n",
       "      <th>date_created</th>\n",
       "      <th>last_upvoted</th>\n",
       "      <th>comments</th>\n",
       "      <th>status</th>\n",
       "    </tr>\n",
       "  </thead>\n",
       "  <tbody>\n",
       "    <tr>\n",
       "      <th>14</th>\n",
       "      <td>180</td>\n",
       "      <td>157427</td>\n",
       "      <td>Video chat</td>\n",
       "      <td>Moses</td>\n",
       "      <td>03 Feb, 2021</td>\n",
       "      <td>08 Jul</td>\n",
       "      <td>21</td>\n",
       "      <td>Done</td>\n",
       "    </tr>\n",
       "    <tr>\n",
       "      <th>16</th>\n",
       "      <td>162</td>\n",
       "      <td>161961</td>\n",
       "      <td>Conversation prompts</td>\n",
       "      <td>Moses</td>\n",
       "      <td>22 Feb, 2021</td>\n",
       "      <td>2 days ago</td>\n",
       "      <td>24</td>\n",
       "      <td>Done</td>\n",
       "    </tr>\n",
       "    <tr>\n",
       "      <th>17</th>\n",
       "      <td>161</td>\n",
       "      <td>164962</td>\n",
       "      <td>Hide inactive profiles</td>\n",
       "      <td>Dallin</td>\n",
       "      <td>02 Mar, 2021</td>\n",
       "      <td>today</td>\n",
       "      <td>2</td>\n",
       "      <td>Done</td>\n",
       "    </tr>\n",
       "    <tr>\n",
       "      <th>18</th>\n",
       "      <td>148</td>\n",
       "      <td>165319</td>\n",
       "      <td>Higher character count in bio</td>\n",
       "      <td>Qaseem</td>\n",
       "      <td>02 Mar, 2021</td>\n",
       "      <td>2 days ago</td>\n",
       "      <td>17</td>\n",
       "      <td>Done</td>\n",
       "    </tr>\n",
       "    <tr>\n",
       "      <th>21</th>\n",
       "      <td>131</td>\n",
       "      <td>164926</td>\n",
       "      <td>Share a profile</td>\n",
       "      <td>Moses</td>\n",
       "      <td>01 Mar, 2021</td>\n",
       "      <td>08 Jul</td>\n",
       "      <td>21</td>\n",
       "      <td>Done</td>\n",
       "    </tr>\n",
       "    <tr>\n",
       "      <th>22</th>\n",
       "      <td>129</td>\n",
       "      <td>175881</td>\n",
       "      <td>Free trial</td>\n",
       "      <td>Erica</td>\n",
       "      <td>01 Apr, 2021</td>\n",
       "      <td>yesterday</td>\n",
       "      <td>25</td>\n",
       "      <td>Done</td>\n",
       "    </tr>\n",
       "    <tr>\n",
       "      <th>33</th>\n",
       "      <td>80</td>\n",
       "      <td>172181</td>\n",
       "      <td>Filter those that like you</td>\n",
       "      <td>Collin</td>\n",
       "      <td>21 Mar, 2021</td>\n",
       "      <td>yesterday</td>\n",
       "      <td>6</td>\n",
       "      <td>Done</td>\n",
       "    </tr>\n",
       "    <tr>\n",
       "      <th>46</th>\n",
       "      <td>47</td>\n",
       "      <td>184861</td>\n",
       "      <td>List view of people whove liked you</td>\n",
       "      <td>Anonymous</td>\n",
       "      <td>12 May, 2021</td>\n",
       "      <td>today</td>\n",
       "      <td>7</td>\n",
       "      <td>Done</td>\n",
       "    </tr>\n",
       "    <tr>\n",
       "      <th>90</th>\n",
       "      <td>13</td>\n",
       "      <td>194685</td>\n",
       "      <td>See at least 1 person per week</td>\n",
       "      <td>Micah Conover</td>\n",
       "      <td>29 Jun, 2021</td>\n",
       "      <td>yesterday</td>\n",
       "      <td>0</td>\n",
       "      <td>Done</td>\n",
       "    </tr>\n",
       "    <tr>\n",
       "      <th>91</th>\n",
       "      <td>13</td>\n",
       "      <td>192772</td>\n",
       "      <td>Be able to set your location to your home city...</td>\n",
       "      <td>Jacob Coleman</td>\n",
       "      <td>19 Jun, 2021</td>\n",
       "      <td>2 days ago</td>\n",
       "      <td>0</td>\n",
       "      <td>Done</td>\n",
       "    </tr>\n",
       "    <tr>\n",
       "      <th>100</th>\n",
       "      <td>12</td>\n",
       "      <td>176239</td>\n",
       "      <td>Pause profile</td>\n",
       "      <td>Amanda</td>\n",
       "      <td>04 Apr, 2021</td>\n",
       "      <td>03 Jul</td>\n",
       "      <td>0</td>\n",
       "      <td>Done</td>\n",
       "    </tr>\n",
       "    <tr>\n",
       "      <th>113</th>\n",
       "      <td>10</td>\n",
       "      <td>187180</td>\n",
       "      <td>Purge users</td>\n",
       "      <td>Bparks</td>\n",
       "      <td>25 May, 2021</td>\n",
       "      <td>07 Jul</td>\n",
       "      <td>0</td>\n",
       "      <td>Done</td>\n",
       "    </tr>\n",
       "    <tr>\n",
       "      <th>117</th>\n",
       "      <td>9</td>\n",
       "      <td>174229</td>\n",
       "      <td>Social media section</td>\n",
       "      <td>Khiler</td>\n",
       "      <td>27 Mar, 2021</td>\n",
       "      <td>05 Jan</td>\n",
       "      <td>5</td>\n",
       "      <td>Done</td>\n",
       "    </tr>\n",
       "    <tr>\n",
       "      <th>125</th>\n",
       "      <td>8</td>\n",
       "      <td>187103</td>\n",
       "      <td>Reverify people regularly</td>\n",
       "      <td>Isabella</td>\n",
       "      <td>24 May, 2021</td>\n",
       "      <td>03 Jul</td>\n",
       "      <td>1</td>\n",
       "      <td>Done</td>\n",
       "    </tr>\n",
       "    <tr>\n",
       "      <th>128</th>\n",
       "      <td>7</td>\n",
       "      <td>190597</td>\n",
       "      <td>Filter by region</td>\n",
       "      <td>Matt</td>\n",
       "      <td>10 Jun, 2021</td>\n",
       "      <td>04 Jun</td>\n",
       "      <td>12</td>\n",
       "      <td>Done</td>\n",
       "    </tr>\n",
       "    <tr>\n",
       "      <th>132</th>\n",
       "      <td>7</td>\n",
       "      <td>169315</td>\n",
       "      <td>Picture suggestions</td>\n",
       "      <td>Jake</td>\n",
       "      <td>14 Mar, 2021</td>\n",
       "      <td>26 Jul, '21</td>\n",
       "      <td>3</td>\n",
       "      <td>Done</td>\n",
       "    </tr>\n",
       "    <tr>\n",
       "      <th>134</th>\n",
       "      <td>7</td>\n",
       "      <td>190987</td>\n",
       "      <td>Account vacationtake a break mode</td>\n",
       "      <td>Adam Proctor</td>\n",
       "      <td>13 Jun, 2021</td>\n",
       "      <td>17 Dec, '21</td>\n",
       "      <td>2</td>\n",
       "      <td>Done</td>\n",
       "    </tr>\n",
       "    <tr>\n",
       "      <th>137</th>\n",
       "      <td>7</td>\n",
       "      <td>196166</td>\n",
       "      <td>Change location</td>\n",
       "      <td>Chantelle</td>\n",
       "      <td>06 Jul, 2021</td>\n",
       "      <td>27 May</td>\n",
       "      <td>1</td>\n",
       "      <td>Done</td>\n",
       "    </tr>\n",
       "    <tr>\n",
       "      <th>149</th>\n",
       "      <td>6</td>\n",
       "      <td>189876</td>\n",
       "      <td>Mix in people that like me</td>\n",
       "      <td>TJ</td>\n",
       "      <td>08 Jun, 2021</td>\n",
       "      <td>yesterday</td>\n",
       "      <td>2</td>\n",
       "      <td>Done</td>\n",
       "    </tr>\n",
       "    <tr>\n",
       "      <th>153</th>\n",
       "      <td>6</td>\n",
       "      <td>205697</td>\n",
       "      <td>Dont erase chats</td>\n",
       "      <td>Mike</td>\n",
       "      <td>29 Aug, 2021</td>\n",
       "      <td>yesterday</td>\n",
       "      <td>0</td>\n",
       "      <td>Done</td>\n",
       "    </tr>\n",
       "    <tr>\n",
       "      <th>156</th>\n",
       "      <td>6</td>\n",
       "      <td>195253</td>\n",
       "      <td>Pause locations</td>\n",
       "      <td>Josh</td>\n",
       "      <td>02 Jul, 2021</td>\n",
       "      <td>03 Jul</td>\n",
       "      <td>0</td>\n",
       "      <td>Done</td>\n",
       "    </tr>\n",
       "    <tr>\n",
       "      <th>174</th>\n",
       "      <td>4</td>\n",
       "      <td>264559</td>\n",
       "      <td>New layout problematic</td>\n",
       "      <td>Mikki</td>\n",
       "      <td>22 Dec, 2021</td>\n",
       "      <td>17 Feb</td>\n",
       "      <td>6</td>\n",
       "      <td>Done</td>\n",
       "    </tr>\n",
       "    <tr>\n",
       "      <th>175</th>\n",
       "      <td>4</td>\n",
       "      <td>203999</td>\n",
       "      <td>Recommend a swipe to a friend</td>\n",
       "      <td>Dea</td>\n",
       "      <td>21 Aug, 2021</td>\n",
       "      <td>26 Mar</td>\n",
       "      <td>4</td>\n",
       "      <td>Done</td>\n",
       "    </tr>\n",
       "    <tr>\n",
       "      <th>179</th>\n",
       "      <td>4</td>\n",
       "      <td>192905</td>\n",
       "      <td>Filter matches by location</td>\n",
       "      <td>Dax</td>\n",
       "      <td>20 Jun, 2021</td>\n",
       "      <td>07 Jul</td>\n",
       "      <td>2</td>\n",
       "      <td>Done</td>\n",
       "    </tr>\n",
       "    <tr>\n",
       "      <th>180</th>\n",
       "      <td>4</td>\n",
       "      <td>184394</td>\n",
       "      <td>Have mutual make leaving feedback or contactin...</td>\n",
       "      <td>Danny</td>\n",
       "      <td>10 May, 2021</td>\n",
       "      <td>05 Jan</td>\n",
       "      <td>1</td>\n",
       "      <td>Done</td>\n",
       "    </tr>\n",
       "    <tr>\n",
       "      <th>190</th>\n",
       "      <td>4</td>\n",
       "      <td>189874</td>\n",
       "      <td>Fix people showing up twice</td>\n",
       "      <td>TJ</td>\n",
       "      <td>08 Jun, 2021</td>\n",
       "      <td>yesterday</td>\n",
       "      <td>0</td>\n",
       "      <td>Done</td>\n",
       "    </tr>\n",
       "    <tr>\n",
       "      <th>192</th>\n",
       "      <td>4</td>\n",
       "      <td>186483</td>\n",
       "      <td>Height filter</td>\n",
       "      <td>Ella</td>\n",
       "      <td>20 May, 2021</td>\n",
       "      <td>07 Jul</td>\n",
       "      <td>0</td>\n",
       "      <td>Done</td>\n",
       "    </tr>\n",
       "    <tr>\n",
       "      <th>203</th>\n",
       "      <td>3</td>\n",
       "      <td>299626</td>\n",
       "      <td>Three strikes youre out</td>\n",
       "      <td>JJ</td>\n",
       "      <td>13 May</td>\n",
       "      <td>yesterday</td>\n",
       "      <td>0</td>\n",
       "      <td>Done</td>\n",
       "    </tr>\n",
       "    <tr>\n",
       "      <th>209</th>\n",
       "      <td>3</td>\n",
       "      <td>195353</td>\n",
       "      <td>Give referral</td>\n",
       "      <td>Jacob</td>\n",
       "      <td>04 Jul, 2021</td>\n",
       "      <td>17 Dec, '21</td>\n",
       "      <td>0</td>\n",
       "      <td>Done</td>\n",
       "    </tr>\n",
       "    <tr>\n",
       "      <th>210</th>\n",
       "      <td>3</td>\n",
       "      <td>195213</td>\n",
       "      <td>Hide someones profile from your account</td>\n",
       "      <td>Courtney</td>\n",
       "      <td>02 Jul, 2021</td>\n",
       "      <td>25 Dec, '21</td>\n",
       "      <td>0</td>\n",
       "      <td>Done</td>\n",
       "    </tr>\n",
       "    <tr>\n",
       "      <th>213</th>\n",
       "      <td>3</td>\n",
       "      <td>192615</td>\n",
       "      <td>Put people who have liked me in the front of m...</td>\n",
       "      <td>Chad</td>\n",
       "      <td>19 Jun, 2021</td>\n",
       "      <td>24 Jul, '21</td>\n",
       "      <td>0</td>\n",
       "      <td>Done</td>\n",
       "    </tr>\n",
       "    <tr>\n",
       "      <th>216</th>\n",
       "      <td>3</td>\n",
       "      <td>188393</td>\n",
       "      <td>Poke or reminder notification</td>\n",
       "      <td>James</td>\n",
       "      <td>01 Jun, 2021</td>\n",
       "      <td>14 Jul, '21</td>\n",
       "      <td>0</td>\n",
       "      <td>Done</td>\n",
       "    </tr>\n",
       "    <tr>\n",
       "      <th>219</th>\n",
       "      <td>3</td>\n",
       "      <td>186471</td>\n",
       "      <td>Remove non active account</td>\n",
       "      <td>Radeb</td>\n",
       "      <td>19 May, 2021</td>\n",
       "      <td>yesterday</td>\n",
       "      <td>0</td>\n",
       "      <td>Done</td>\n",
       "    </tr>\n",
       "    <tr>\n",
       "      <th>230</th>\n",
       "      <td>2</td>\n",
       "      <td>263544</td>\n",
       "      <td>Freeze profilematches</td>\n",
       "      <td>KJ</td>\n",
       "      <td>19 Dec, 2021</td>\n",
       "      <td>07 Jul</td>\n",
       "      <td>1</td>\n",
       "      <td>Done</td>\n",
       "    </tr>\n",
       "    <tr>\n",
       "      <th>232</th>\n",
       "      <td>2</td>\n",
       "      <td>221738</td>\n",
       "      <td>Add a date andor version number when suggestio...</td>\n",
       "      <td>Taylor</td>\n",
       "      <td>05 Oct, 2021</td>\n",
       "      <td>03 Jul</td>\n",
       "      <td>1</td>\n",
       "      <td>Done</td>\n",
       "    </tr>\n",
       "    <tr>\n",
       "      <th>239</th>\n",
       "      <td>2</td>\n",
       "      <td>302990</td>\n",
       "      <td>Clean slate</td>\n",
       "      <td>James Franckum</td>\n",
       "      <td>27 May</td>\n",
       "      <td>03 Jul</td>\n",
       "      <td>0</td>\n",
       "      <td>Done</td>\n",
       "    </tr>\n",
       "    <tr>\n",
       "      <th>244</th>\n",
       "      <td>2</td>\n",
       "      <td>286802</td>\n",
       "      <td>Liking or hearting individual photos</td>\n",
       "      <td>Caio</td>\n",
       "      <td>19 Mar</td>\n",
       "      <td>yesterday</td>\n",
       "      <td>0</td>\n",
       "      <td>Done</td>\n",
       "    </tr>\n",
       "    <tr>\n",
       "      <th>253</th>\n",
       "      <td>2</td>\n",
       "      <td>205017</td>\n",
       "      <td>Inactive accounts</td>\n",
       "      <td>andrade</td>\n",
       "      <td>28 Aug, 2021</td>\n",
       "      <td>12 Nov, '21</td>\n",
       "      <td>0</td>\n",
       "      <td>Done</td>\n",
       "    </tr>\n",
       "    <tr>\n",
       "      <th>254</th>\n",
       "      <td>2</td>\n",
       "      <td>204124</td>\n",
       "      <td>Potentially pending</td>\n",
       "      <td>Jackson</td>\n",
       "      <td>23 Aug, 2021</td>\n",
       "      <td>17 Dec, '21</td>\n",
       "      <td>0</td>\n",
       "      <td>Done</td>\n",
       "    </tr>\n",
       "    <tr>\n",
       "      <th>260</th>\n",
       "      <td>2</td>\n",
       "      <td>197244</td>\n",
       "      <td>Swiped up by mistake</td>\n",
       "      <td>Robert Hernandez</td>\n",
       "      <td>09 Jul, 2021</td>\n",
       "      <td>07 Jul</td>\n",
       "      <td>0</td>\n",
       "      <td>Done</td>\n",
       "    </tr>\n",
       "    <tr>\n",
       "      <th>261</th>\n",
       "      <td>2</td>\n",
       "      <td>195352</td>\n",
       "      <td>Select age range</td>\n",
       "      <td>Monica</td>\n",
       "      <td>04 Jul, 2021</td>\n",
       "      <td>06 Aug, '21</td>\n",
       "      <td>0</td>\n",
       "      <td>Done</td>\n",
       "    </tr>\n",
       "    <tr>\n",
       "      <th>264</th>\n",
       "      <td>2</td>\n",
       "      <td>194105</td>\n",
       "      <td>Being able to select specific countries</td>\n",
       "      <td>Rebecca</td>\n",
       "      <td>26 Jun, 2021</td>\n",
       "      <td>03 Jul</td>\n",
       "      <td>0</td>\n",
       "      <td>Done</td>\n",
       "    </tr>\n",
       "    <tr>\n",
       "      <th>265</th>\n",
       "      <td>2</td>\n",
       "      <td>194008</td>\n",
       "      <td>This group is awesome</td>\n",
       "      <td>Jackline Akao</td>\n",
       "      <td>25 Jun, 2021</td>\n",
       "      <td>07 Aug, '21</td>\n",
       "      <td>0</td>\n",
       "      <td>Done</td>\n",
       "    </tr>\n",
       "    <tr>\n",
       "      <th>267</th>\n",
       "      <td>2</td>\n",
       "      <td>192540</td>\n",
       "      <td>Outside preferred radius</td>\n",
       "      <td>Moses</td>\n",
       "      <td>18 Jun, 2021</td>\n",
       "      <td>07 Jul</td>\n",
       "      <td>0</td>\n",
       "      <td>Done</td>\n",
       "    </tr>\n",
       "    <tr>\n",
       "      <th>269</th>\n",
       "      <td>2</td>\n",
       "      <td>189233</td>\n",
       "      <td>See when your message is seen</td>\n",
       "      <td>Joseph Uzoho</td>\n",
       "      <td>05 Jun, 2021</td>\n",
       "      <td>01 Aug, '21</td>\n",
       "      <td>0</td>\n",
       "      <td>Done</td>\n",
       "    </tr>\n",
       "    <tr>\n",
       "      <th>276</th>\n",
       "      <td>1</td>\n",
       "      <td>267770</td>\n",
       "      <td>Activate profile boost button is not working</td>\n",
       "      <td>Isabel</td>\n",
       "      <td>31 Dec, 2021</td>\n",
       "      <td>31 Dec, '21</td>\n",
       "      <td>1</td>\n",
       "      <td>Done</td>\n",
       "    </tr>\n",
       "    <tr>\n",
       "      <th>277</th>\n",
       "      <td>1</td>\n",
       "      <td>184202</td>\n",
       "      <td>See my profile</td>\n",
       "      <td>Alexa</td>\n",
       "      <td>08 May, 2021</td>\n",
       "      <td>08 May, '21</td>\n",
       "      <td>1</td>\n",
       "      <td>Done</td>\n",
       "    </tr>\n",
       "    <tr>\n",
       "      <th>278</th>\n",
       "      <td>1</td>\n",
       "      <td>183059</td>\n",
       "      <td>See if theyve seen your message</td>\n",
       "      <td>Will</td>\n",
       "      <td>03 May, 2021</td>\n",
       "      <td>03 May, '21</td>\n",
       "      <td>1</td>\n",
       "      <td>Done</td>\n",
       "    </tr>\n",
       "    <tr>\n",
       "      <th>281</th>\n",
       "      <td>1</td>\n",
       "      <td>308167</td>\n",
       "      <td>See new message while in mutual</td>\n",
       "      <td>Desiree</td>\n",
       "      <td>14 Jun</td>\n",
       "      <td>14 Jun</td>\n",
       "      <td>0</td>\n",
       "      <td>Done</td>\n",
       "    </tr>\n",
       "    <tr>\n",
       "      <th>282</th>\n",
       "      <td>1</td>\n",
       "      <td>307616</td>\n",
       "      <td>Reset all swipe ups just not those youve messaged</td>\n",
       "      <td>Christopher</td>\n",
       "      <td>12 Jun</td>\n",
       "      <td>12 Jun</td>\n",
       "      <td>0</td>\n",
       "      <td>Done</td>\n",
       "    </tr>\n",
       "    <tr>\n",
       "      <th>283</th>\n",
       "      <td>1</td>\n",
       "      <td>307288</td>\n",
       "      <td>Work on conversation glitch</td>\n",
       "      <td>Allie</td>\n",
       "      <td>11 Jun</td>\n",
       "      <td>11 Jun</td>\n",
       "      <td>0</td>\n",
       "      <td>Done</td>\n",
       "    </tr>\n",
       "    <tr>\n",
       "      <th>286</th>\n",
       "      <td>1</td>\n",
       "      <td>306136</td>\n",
       "      <td>Deactivate accounts not being actively used</td>\n",
       "      <td>Spencer</td>\n",
       "      <td>07 Jun</td>\n",
       "      <td>07 Jun</td>\n",
       "      <td>0</td>\n",
       "      <td>Done</td>\n",
       "    </tr>\n",
       "    <tr>\n",
       "      <th>293</th>\n",
       "      <td>1</td>\n",
       "      <td>284146</td>\n",
       "      <td>Store all messages</td>\n",
       "      <td>JoAnn Brooks</td>\n",
       "      <td>05 Mar</td>\n",
       "      <td>05 Mar</td>\n",
       "      <td>0</td>\n",
       "      <td>Done</td>\n",
       "    </tr>\n",
       "    <tr>\n",
       "      <th>296</th>\n",
       "      <td>1</td>\n",
       "      <td>252637</td>\n",
       "      <td>Read receipts</td>\n",
       "      <td>Daniel</td>\n",
       "      <td>02 Dec, 2021</td>\n",
       "      <td>02 Dec, '21</td>\n",
       "      <td>0</td>\n",
       "      <td>Done</td>\n",
       "    </tr>\n",
       "    <tr>\n",
       "      <th>298</th>\n",
       "      <td>1</td>\n",
       "      <td>233539</td>\n",
       "      <td>Unlimited chat history</td>\n",
       "      <td>Craig Rodgers</td>\n",
       "      <td>19 Nov, 2021</td>\n",
       "      <td>19 Nov, '21</td>\n",
       "      <td>0</td>\n",
       "      <td>Done</td>\n",
       "    </tr>\n",
       "    <tr>\n",
       "      <th>302</th>\n",
       "      <td>1</td>\n",
       "      <td>212007</td>\n",
       "      <td>See if they actually have seen your message</td>\n",
       "      <td>Karli</td>\n",
       "      <td>08 Sep, 2021</td>\n",
       "      <td>08 Sep, '21</td>\n",
       "      <td>0</td>\n",
       "      <td>Done</td>\n",
       "    </tr>\n",
       "    <tr>\n",
       "      <th>308</th>\n",
       "      <td>1</td>\n",
       "      <td>200115</td>\n",
       "      <td>Range of age</td>\n",
       "      <td>Becca</td>\n",
       "      <td>26 Jul, 2021</td>\n",
       "      <td>26 Jul, '21</td>\n",
       "      <td>0</td>\n",
       "      <td>Done</td>\n",
       "    </tr>\n",
       "    <tr>\n",
       "      <th>309</th>\n",
       "      <td>1</td>\n",
       "      <td>196186</td>\n",
       "      <td>Hacer un encuentro por ciudades</td>\n",
       "      <td>Belkis Mercedes</td>\n",
       "      <td>06 Jul, 2021</td>\n",
       "      <td>06 Jul, '21</td>\n",
       "      <td>0</td>\n",
       "      <td>Done</td>\n",
       "    </tr>\n",
       "    <tr>\n",
       "      <th>310</th>\n",
       "      <td>1</td>\n",
       "      <td>194556</td>\n",
       "      <td>Enviar mensagem direta antes de macth mutuo ve...</td>\n",
       "      <td>Saulo Costa de Oliveira</td>\n",
       "      <td>29 Jun, 2021</td>\n",
       "      <td>29 Jun, '21</td>\n",
       "      <td>0</td>\n",
       "      <td>Done</td>\n",
       "    </tr>\n",
       "    <tr>\n",
       "      <th>313</th>\n",
       "      <td>1</td>\n",
       "      <td>190199</td>\n",
       "      <td>Messages</td>\n",
       "      <td>G</td>\n",
       "      <td>09 Jun, 2021</td>\n",
       "      <td>09 Jun, '21</td>\n",
       "      <td>0</td>\n",
       "      <td>Done</td>\n",
       "    </tr>\n",
       "  </tbody>\n",
       "</table>\n",
       "</div>"
      ],
      "text/plain": [
       "    votes      id                                         suggestion  \\\n",
       "14    180  157427                                         Video chat   \n",
       "16    162  161961                               Conversation prompts   \n",
       "17    161  164962                             Hide inactive profiles   \n",
       "18    148  165319                      Higher character count in bio   \n",
       "21    131  164926                                    Share a profile   \n",
       "22    129  175881                                         Free trial   \n",
       "33     80  172181                         Filter those that like you   \n",
       "46     47  184861                List view of people whove liked you   \n",
       "90     13  194685                     See at least 1 person per week   \n",
       "91     13  192772  Be able to set your location to your home city...   \n",
       "100    12  176239                                      Pause profile   \n",
       "113    10  187180                                        Purge users   \n",
       "117     9  174229                               Social media section   \n",
       "125     8  187103                          Reverify people regularly   \n",
       "128     7  190597                                   Filter by region   \n",
       "132     7  169315                                Picture suggestions   \n",
       "134     7  190987                  Account vacationtake a break mode   \n",
       "137     7  196166                                    Change location   \n",
       "149     6  189876                         Mix in people that like me   \n",
       "153     6  205697                                   Dont erase chats   \n",
       "156     6  195253                                    Pause locations   \n",
       "174     4  264559                             New layout problematic   \n",
       "175     4  203999                      Recommend a swipe to a friend   \n",
       "179     4  192905                         Filter matches by location   \n",
       "180     4  184394  Have mutual make leaving feedback or contactin...   \n",
       "190     4  189874                        Fix people showing up twice   \n",
       "192     4  186483                                      Height filter   \n",
       "203     3  299626                            Three strikes youre out   \n",
       "209     3  195353                                      Give referral   \n",
       "210     3  195213            Hide someones profile from your account   \n",
       "213     3  192615  Put people who have liked me in the front of m...   \n",
       "216     3  188393                      Poke or reminder notification   \n",
       "219     3  186471                          Remove non active account   \n",
       "230     2  263544                              Freeze profilematches   \n",
       "232     2  221738  Add a date andor version number when suggestio...   \n",
       "239     2  302990                                        Clean slate   \n",
       "244     2  286802               Liking or hearting individual photos   \n",
       "253     2  205017                                  Inactive accounts   \n",
       "254     2  204124                                Potentially pending   \n",
       "260     2  197244                               Swiped up by mistake   \n",
       "261     2  195352                                   Select age range   \n",
       "264     2  194105            Being able to select specific countries   \n",
       "265     2  194008                              This group is awesome   \n",
       "267     2  192540                           Outside preferred radius   \n",
       "269     2  189233                      See when your message is seen   \n",
       "276     1  267770       Activate profile boost button is not working   \n",
       "277     1  184202                                     See my profile   \n",
       "278     1  183059                    See if theyve seen your message   \n",
       "281     1  308167                    See new message while in mutual   \n",
       "282     1  307616  Reset all swipe ups just not those youve messaged   \n",
       "283     1  307288                        Work on conversation glitch   \n",
       "286     1  306136        Deactivate accounts not being actively used   \n",
       "293     1  284146                                 Store all messages   \n",
       "296     1  252637                                      Read receipts   \n",
       "298     1  233539                             Unlimited chat history   \n",
       "302     1  212007        See if they actually have seen your message   \n",
       "308     1  200115                                       Range of age   \n",
       "309     1  196186                    Hacer un encuentro por ciudades   \n",
       "310     1  194556  Enviar mensagem direta antes de macth mutuo ve...   \n",
       "313     1  190199                                           Messages   \n",
       "\n",
       "                      author  date_created last_upvoted comments status  \n",
       "14                     Moses  03 Feb, 2021       08 Jul       21   Done  \n",
       "16                     Moses  22 Feb, 2021   2 days ago       24   Done  \n",
       "17                    Dallin  02 Mar, 2021        today        2   Done  \n",
       "18                    Qaseem  02 Mar, 2021   2 days ago       17   Done  \n",
       "21                     Moses  01 Mar, 2021       08 Jul       21   Done  \n",
       "22                     Erica  01 Apr, 2021    yesterday       25   Done  \n",
       "33                    Collin  21 Mar, 2021    yesterday        6   Done  \n",
       "46                 Anonymous  12 May, 2021        today        7   Done  \n",
       "90             Micah Conover  29 Jun, 2021    yesterday        0   Done  \n",
       "91             Jacob Coleman  19 Jun, 2021   2 days ago        0   Done  \n",
       "100                   Amanda  04 Apr, 2021       03 Jul        0   Done  \n",
       "113                   Bparks  25 May, 2021       07 Jul        0   Done  \n",
       "117                   Khiler  27 Mar, 2021       05 Jan        5   Done  \n",
       "125                 Isabella  24 May, 2021       03 Jul        1   Done  \n",
       "128                     Matt  10 Jun, 2021       04 Jun       12   Done  \n",
       "132                     Jake  14 Mar, 2021  26 Jul, '21        3   Done  \n",
       "134             Adam Proctor  13 Jun, 2021  17 Dec, '21        2   Done  \n",
       "137                Chantelle  06 Jul, 2021       27 May        1   Done  \n",
       "149                       TJ  08 Jun, 2021    yesterday        2   Done  \n",
       "153                     Mike  29 Aug, 2021    yesterday        0   Done  \n",
       "156                     Josh  02 Jul, 2021       03 Jul        0   Done  \n",
       "174                    Mikki  22 Dec, 2021       17 Feb        6   Done  \n",
       "175                      Dea  21 Aug, 2021       26 Mar        4   Done  \n",
       "179                      Dax  20 Jun, 2021       07 Jul        2   Done  \n",
       "180                    Danny  10 May, 2021       05 Jan        1   Done  \n",
       "190                       TJ  08 Jun, 2021    yesterday        0   Done  \n",
       "192                     Ella  20 May, 2021       07 Jul        0   Done  \n",
       "203                       JJ        13 May    yesterday        0   Done  \n",
       "209                    Jacob  04 Jul, 2021  17 Dec, '21        0   Done  \n",
       "210                 Courtney  02 Jul, 2021  25 Dec, '21        0   Done  \n",
       "213                     Chad  19 Jun, 2021  24 Jul, '21        0   Done  \n",
       "216                    James  01 Jun, 2021  14 Jul, '21        0   Done  \n",
       "219                    Radeb  19 May, 2021    yesterday        0   Done  \n",
       "230                       KJ  19 Dec, 2021       07 Jul        1   Done  \n",
       "232                   Taylor  05 Oct, 2021       03 Jul        1   Done  \n",
       "239           James Franckum        27 May       03 Jul        0   Done  \n",
       "244                     Caio        19 Mar    yesterday        0   Done  \n",
       "253                  andrade  28 Aug, 2021  12 Nov, '21        0   Done  \n",
       "254                  Jackson  23 Aug, 2021  17 Dec, '21        0   Done  \n",
       "260         Robert Hernandez  09 Jul, 2021       07 Jul        0   Done  \n",
       "261                   Monica  04 Jul, 2021  06 Aug, '21        0   Done  \n",
       "264                  Rebecca  26 Jun, 2021       03 Jul        0   Done  \n",
       "265            Jackline Akao  25 Jun, 2021  07 Aug, '21        0   Done  \n",
       "267                    Moses  18 Jun, 2021       07 Jul        0   Done  \n",
       "269             Joseph Uzoho  05 Jun, 2021  01 Aug, '21        0   Done  \n",
       "276                   Isabel  31 Dec, 2021  31 Dec, '21        1   Done  \n",
       "277                    Alexa  08 May, 2021  08 May, '21        1   Done  \n",
       "278                     Will  03 May, 2021  03 May, '21        1   Done  \n",
       "281                  Desiree        14 Jun       14 Jun        0   Done  \n",
       "282              Christopher        12 Jun       12 Jun        0   Done  \n",
       "283                    Allie        11 Jun       11 Jun        0   Done  \n",
       "286                  Spencer        07 Jun       07 Jun        0   Done  \n",
       "293             JoAnn Brooks        05 Mar       05 Mar        0   Done  \n",
       "296                   Daniel  02 Dec, 2021  02 Dec, '21        0   Done  \n",
       "298            Craig Rodgers  19 Nov, 2021  19 Nov, '21        0   Done  \n",
       "302                    Karli  08 Sep, 2021  08 Sep, '21        0   Done  \n",
       "308                    Becca  26 Jul, 2021  26 Jul, '21        0   Done  \n",
       "309          Belkis Mercedes  06 Jul, 2021  06 Jul, '21        0   Done  \n",
       "310  Saulo Costa de Oliveira  29 Jun, 2021  29 Jun, '21        0   Done  \n",
       "313                        G  09 Jun, 2021  09 Jun, '21        0   Done  "
      ]
     },
     "execution_count": 640,
     "metadata": {},
     "output_type": "execute_result"
    }
   ],
   "source": [
    "# check all features that are done:\n",
    "\n",
    "data[data.status=='Done']"
   ]
  },
  {
   "cell_type": "code",
   "execution_count": 647,
   "metadata": {},
   "outputs": [
    {
     "data": {
      "text/html": [
       "<div>\n",
       "<style scoped>\n",
       "    .dataframe tbody tr th:only-of-type {\n",
       "        vertical-align: middle;\n",
       "    }\n",
       "\n",
       "    .dataframe tbody tr th {\n",
       "        vertical-align: top;\n",
       "    }\n",
       "\n",
       "    .dataframe thead th {\n",
       "        text-align: right;\n",
       "    }\n",
       "</style>\n",
       "<table border=\"1\" class=\"dataframe\">\n",
       "  <thead>\n",
       "    <tr style=\"text-align: right;\">\n",
       "      <th></th>\n",
       "      <th>votes</th>\n",
       "      <th>id</th>\n",
       "      <th>suggestion</th>\n",
       "      <th>author</th>\n",
       "      <th>date_created</th>\n",
       "      <th>last_upvoted</th>\n",
       "      <th>comments</th>\n",
       "      <th>status</th>\n",
       "    </tr>\n",
       "  </thead>\n",
       "  <tbody>\n",
       "    <tr>\n",
       "      <th>0</th>\n",
       "      <td>1000.0</td>\n",
       "      <td>161005</td>\n",
       "      <td>See who i have liked</td>\n",
       "      <td>Moses</td>\n",
       "      <td>19 Feb, 2021</td>\n",
       "      <td>today</td>\n",
       "      <td>72.0</td>\n",
       "      <td>Planned</td>\n",
       "    </tr>\n",
       "    <tr>\n",
       "      <th>11</th>\n",
       "      <td>1000.0</td>\n",
       "      <td>168489</td>\n",
       "      <td>Let queer members match with other queer members</td>\n",
       "      <td>Rachel</td>\n",
       "      <td>10 Mar, 2021</td>\n",
       "      <td>today</td>\n",
       "      <td>87.0</td>\n",
       "      <td>Under consideration</td>\n",
       "    </tr>\n",
       "    <tr>\n",
       "      <th>1</th>\n",
       "      <td>506.0</td>\n",
       "      <td>161962</td>\n",
       "      <td>Last onlinerecently active</td>\n",
       "      <td>Moses</td>\n",
       "      <td>22 Feb, 2021</td>\n",
       "      <td>yesterday</td>\n",
       "      <td>46.0</td>\n",
       "      <td>In Development</td>\n",
       "    </tr>\n",
       "    <tr>\n",
       "      <th>12</th>\n",
       "      <td>465.0</td>\n",
       "      <td>170983</td>\n",
       "      <td>Watch an ad to see a person who likes you</td>\n",
       "      <td>Anonymous</td>\n",
       "      <td>19 Mar, 2021</td>\n",
       "      <td>today</td>\n",
       "      <td>25.0</td>\n",
       "      <td>Under consideration</td>\n",
       "    </tr>\n",
       "    <tr>\n",
       "      <th>2</th>\n",
       "      <td>443.0</td>\n",
       "      <td>164928</td>\n",
       "      <td>Filter church activity</td>\n",
       "      <td>Moses</td>\n",
       "      <td>01 Mar, 2021</td>\n",
       "      <td>today</td>\n",
       "      <td>41.0</td>\n",
       "      <td>In Development</td>\n",
       "    </tr>\n",
       "    <tr>\n",
       "      <th>3</th>\n",
       "      <td>362.0</td>\n",
       "      <td>177816</td>\n",
       "      <td>Skip a profile save for later</td>\n",
       "      <td>Brian</td>\n",
       "      <td>11 Apr, 2021</td>\n",
       "      <td>today</td>\n",
       "      <td>35.0</td>\n",
       "      <td>Under consideration</td>\n",
       "    </tr>\n",
       "    <tr>\n",
       "      <th>13</th>\n",
       "      <td>245.0</td>\n",
       "      <td>165279</td>\n",
       "      <td>Birthday surprise</td>\n",
       "      <td>Jefferson Glenn</td>\n",
       "      <td>02 Mar, 2021</td>\n",
       "      <td>today</td>\n",
       "      <td>9.0</td>\n",
       "      <td>Under consideration</td>\n",
       "    </tr>\n",
       "    <tr>\n",
       "      <th>4</th>\n",
       "      <td>239.0</td>\n",
       "      <td>161959</td>\n",
       "      <td>Filter children</td>\n",
       "      <td>Moses</td>\n",
       "      <td>22 Feb, 2021</td>\n",
       "      <td>today</td>\n",
       "      <td>21.0</td>\n",
       "      <td>In Development</td>\n",
       "    </tr>\n",
       "    <tr>\n",
       "      <th>5</th>\n",
       "      <td>225.0</td>\n",
       "      <td>161947</td>\n",
       "      <td>Filter interest level</td>\n",
       "      <td>Moses</td>\n",
       "      <td>22 Feb, 2021</td>\n",
       "      <td>yesterday</td>\n",
       "      <td>36.0</td>\n",
       "      <td>In Development</td>\n",
       "    </tr>\n",
       "    <tr>\n",
       "      <th>6</th>\n",
       "      <td>197.0</td>\n",
       "      <td>296565</td>\n",
       "      <td>Remove swipe limit</td>\n",
       "      <td>Sheppard</td>\n",
       "      <td>30 Apr</td>\n",
       "      <td>today</td>\n",
       "      <td>35.0</td>\n",
       "      <td>Under consideration</td>\n",
       "    </tr>\n",
       "  </tbody>\n",
       "</table>\n",
       "</div>"
      ],
      "text/plain": [
       "     votes      id                                        suggestion  \\\n",
       "0   1000.0  161005                              See who i have liked   \n",
       "11  1000.0  168489  Let queer members match with other queer members   \n",
       "1    506.0  161962                        Last onlinerecently active   \n",
       "12   465.0  170983         Watch an ad to see a person who likes you   \n",
       "2    443.0  164928                            Filter church activity   \n",
       "3    362.0  177816                     Skip a profile save for later   \n",
       "13   245.0  165279                                 Birthday surprise   \n",
       "4    239.0  161959                                   Filter children   \n",
       "5    225.0  161947                             Filter interest level   \n",
       "6    197.0  296565                                Remove swipe limit   \n",
       "\n",
       "             author  date_created last_upvoted  comments               status  \n",
       "0             Moses  19 Feb, 2021        today      72.0              Planned  \n",
       "11           Rachel  10 Mar, 2021        today      87.0  Under consideration  \n",
       "1             Moses  22 Feb, 2021    yesterday      46.0       In Development  \n",
       "12        Anonymous  19 Mar, 2021        today      25.0  Under consideration  \n",
       "2             Moses  01 Mar, 2021        today      41.0       In Development  \n",
       "3             Brian  11 Apr, 2021        today      35.0  Under consideration  \n",
       "13  Jefferson Glenn  02 Mar, 2021        today       9.0  Under consideration  \n",
       "4             Moses  22 Feb, 2021        today      21.0       In Development  \n",
       "5             Moses  22 Feb, 2021    yesterday      36.0       In Development  \n",
       "6          Sheppard        30 Apr        today      35.0  Under consideration  "
      ]
     },
     "execution_count": 647,
     "metadata": {},
     "output_type": "execute_result"
    }
   ],
   "source": [
    "# check top votes features:\n",
    "\n",
    "data.sort_values('votes', ascending=False)[:10]"
   ]
  },
  {
   "cell_type": "code",
   "execution_count": null,
   "metadata": {},
   "outputs": [],
   "source": []
  },
  {
   "cell_type": "code",
   "execution_count": null,
   "metadata": {},
   "outputs": [],
   "source": []
  }
 ],
 "metadata": {
  "kernelspec": {
   "display_name": "Python 3.9.0 64-bit",
   "language": "python",
   "name": "python3"
  },
  "language_info": {
   "codemirror_mode": {
    "name": "ipython",
    "version": 3
   },
   "file_extension": ".py",
   "mimetype": "text/x-python",
   "name": "python",
   "nbconvert_exporter": "python",
   "pygments_lexer": "ipython3",
   "version": "3.9.0"
  },
  "orig_nbformat": 4,
  "vscode": {
   "interpreter": {
    "hash": "aee8b7b246df8f9039afb4144a1f6fd8d2ca17a180786b69acc140d282b71a49"
   }
  }
 },
 "nbformat": 4,
 "nbformat_minor": 2
}
