{
 "cells": [
  {
   "cell_type": "code",
   "execution_count": 1,
   "metadata": {},
   "outputs": [],
   "source": [
    "import requests\n",
    "from bs4 import BeautifulSoup\n",
    "import pandas as pd"
   ]
  },
  {
   "cell_type": "code",
   "execution_count": 2,
   "metadata": {},
   "outputs": [],
   "source": [
    "url = 'https://www.foxsports.com/soccer/2022-fifa-world-cup/teams'"
   ]
  },
  {
   "cell_type": "code",
   "execution_count": 3,
   "metadata": {},
   "outputs": [],
   "source": [
    "response = requests.get(url)"
   ]
  },
  {
   "cell_type": "code",
   "execution_count": 4,
   "metadata": {},
   "outputs": [],
   "source": [
    "soup = BeautifulSoup(response.text, 'html.parser')"
   ]
  },
  {
   "cell_type": "code",
   "execution_count": 7,
   "metadata": {},
   "outputs": [
    {
     "data": {
      "text/plain": [
       "[<h3 class=\"entity-list-row-title fs-18 lh-1\">Argentina</h3>,\n",
       " <h3 class=\"entity-list-row-title fs-18 lh-1\">Australia</h3>,\n",
       " <h3 class=\"entity-list-row-title fs-18 lh-1\">Belgium</h3>,\n",
       " <h3 class=\"entity-list-row-title fs-18 lh-1\">Brazil</h3>,\n",
       " <h3 class=\"entity-list-row-title fs-18 lh-1\">Cameroon</h3>,\n",
       " <h3 class=\"entity-list-row-title fs-18 lh-1\">Canada</h3>,\n",
       " <h3 class=\"entity-list-row-title fs-18 lh-1\">Costa Rica</h3>,\n",
       " <h3 class=\"entity-list-row-title fs-18 lh-1\">Croatia</h3>,\n",
       " <h3 class=\"entity-list-row-title fs-18 lh-1\">Denmark</h3>,\n",
       " <h3 class=\"entity-list-row-title fs-18 lh-1\">Ecuador</h3>,\n",
       " <h3 class=\"entity-list-row-title fs-18 lh-1\">England</h3>,\n",
       " <h3 class=\"entity-list-row-title fs-18 lh-1\">France</h3>,\n",
       " <h3 class=\"entity-list-row-title fs-18 lh-1\">Germany</h3>,\n",
       " <h3 class=\"entity-list-row-title fs-18 lh-1\">Ghana</h3>,\n",
       " <h3 class=\"entity-list-row-title fs-18 lh-1\">Iran</h3>,\n",
       " <h3 class=\"entity-list-row-title fs-18 lh-1\">Japan</h3>,\n",
       " <h3 class=\"entity-list-row-title fs-18 lh-1\">Mexico</h3>,\n",
       " <h3 class=\"entity-list-row-title fs-18 lh-1\">Morocco</h3>,\n",
       " <h3 class=\"entity-list-row-title fs-18 lh-1\">Netherlands</h3>,\n",
       " <h3 class=\"entity-list-row-title fs-18 lh-1\">Poland</h3>,\n",
       " <h3 class=\"entity-list-row-title fs-18 lh-1\">Portugal</h3>,\n",
       " <h3 class=\"entity-list-row-title fs-18 lh-1\">Qatar</h3>,\n",
       " <h3 class=\"entity-list-row-title fs-18 lh-1\">Saudi Arabia</h3>,\n",
       " <h3 class=\"entity-list-row-title fs-18 lh-1\">Senegal</h3>,\n",
       " <h3 class=\"entity-list-row-title fs-18 lh-1\">Serbia</h3>,\n",
       " <h3 class=\"entity-list-row-title fs-18 lh-1\">South Korea</h3>,\n",
       " <h3 class=\"entity-list-row-title fs-18 lh-1\">Spain</h3>,\n",
       " <h3 class=\"entity-list-row-title fs-18 lh-1\">Switzerland</h3>,\n",
       " <h3 class=\"entity-list-row-title fs-18 lh-1\">Tunisia</h3>,\n",
       " <h3 class=\"entity-list-row-title fs-18 lh-1\">United States</h3>,\n",
       " <h3 class=\"entity-list-row-title fs-18 lh-1\">Uruguay</h3>,\n",
       " <h3 class=\"entity-list-row-title fs-18 lh-1\">Wales</h3>]"
      ]
     },
     "execution_count": 7,
     "metadata": {},
     "output_type": "execute_result"
    }
   ],
   "source": [
    "soup.find_all('h3')"
   ]
  },
  {
   "cell_type": "code",
   "execution_count": 6,
   "metadata": {},
   "outputs": [
    {
     "data": {
      "text/plain": [
       "['Argentina',\n",
       " 'Australia',\n",
       " 'Belgium',\n",
       " 'Brazil',\n",
       " 'Cameroon',\n",
       " 'Canada',\n",
       " 'Costa Rica',\n",
       " 'Croatia',\n",
       " 'Denmark',\n",
       " 'Ecuador',\n",
       " 'England',\n",
       " 'France',\n",
       " 'Germany',\n",
       " 'Ghana',\n",
       " 'Iran',\n",
       " 'Japan',\n",
       " 'Mexico',\n",
       " 'Morocco',\n",
       " 'Netherlands',\n",
       " 'Poland',\n",
       " 'Portugal',\n",
       " 'Qatar',\n",
       " 'Saudi Arabia',\n",
       " 'Senegal',\n",
       " 'Serbia',\n",
       " 'South Korea',\n",
       " 'Spain',\n",
       " 'Switzerland',\n",
       " 'Tunisia',\n",
       " 'United States',\n",
       " 'Uruguay',\n",
       " 'Wales']"
      ]
     },
     "execution_count": 6,
     "metadata": {},
     "output_type": "execute_result"
    }
   ],
   "source": [
    "country_name"
   ]
  },
  {
   "cell_type": "code",
   "execution_count": null,
   "metadata": {},
   "outputs": [],
   "source": [
    "countries = [x['href'] for x in soup.find_all('a',{'class':'entity-list-row-container image-logo'})]\n"
   ]
  },
  {
   "cell_type": "code",
   "execution_count": null,
   "metadata": {},
   "outputs": [],
   "source": [
    "\n",
    "# ---------------------------------------- running time: 1m 20s ---------------------------------------- #\n",
    "\n",
    "rows=[]\n",
    "\n",
    "for idx,country in enumerate(countries):\n",
    "\n",
    "    url_root = f'https://www.foxsports.com{country}-roster'\n",
    "    soup = BeautifulSoup(requests.get(url_root).text, 'html.parser')\n",
    "\n",
    "    table = soup.find('div',{'view':'team'})\n",
    "    title = [x.text.strip() for x in table.find('tr')]\n",
    "    \n",
    "    for group in table.find_all('tbody')[:-1]:\n",
    "        for player in group:\n",
    "            row={}\n",
    "            row['Country'] = country_name[idx].capitalize()\n",
    "            row['Name'] = player.find('h3').text\n",
    "            row[title[1]] = player.find('td',{'data-index':'1'}).text.strip()\n",
    "            row[title[2]] = player.find('td',{'data-index':'2'}).text.strip()\n",
    "            row[title[3]] = player.find('td',{'data-index':'3'}).text.strip()\n",
    "            row[title[4]] = player.find('td',{'data-index':'4'}).text.strip()\n",
    "            row['Country_logo'] = soup.find('source')['srcset']\n",
    "            rows.append(row)\n",
    "\n",
    "data = pd.DataFrame(rows)"
   ]
  },
  {
   "cell_type": "code",
   "execution_count": null,
   "metadata": {},
   "outputs": [],
   "source": [
    "data"
   ]
  },
  {
   "cell_type": "code",
   "execution_count": null,
   "metadata": {},
   "outputs": [],
   "source": [
    "soup.find('div',{'view':'team'}).find_all('tr')[0]"
   ]
  },
  {
   "cell_type": "code",
   "execution_count": 23,
   "metadata": {},
   "outputs": [
    {
     "name": "stdout",
     "output_type": "stream",
     "text": [
      "10 20 30\n"
     ]
    }
   ],
   "source": [
    "for e in range(10,12):\n",
    "    for i in range(20,22):\n",
    "        for a in range(30,34):\n",
    "            print(e, i, a)\n",
    "            break\n",
    "        break\n",
    "    break"
   ]
  },
  {
   "cell_type": "code",
   "execution_count": null,
   "metadata": {},
   "outputs": [],
   "source": []
  },
  {
   "cell_type": "code",
   "execution_count": null,
   "metadata": {},
   "outputs": [],
   "source": []
  }
 ],
 "metadata": {
  "kernelspec": {
   "display_name": "Python 3.9.0 64-bit",
   "language": "python",
   "name": "python3"
  },
  "language_info": {
   "codemirror_mode": {
    "name": "ipython",
    "version": 3
   },
   "file_extension": ".py",
   "mimetype": "text/x-python",
   "name": "python",
   "nbconvert_exporter": "python",
   "pygments_lexer": "ipython3",
   "version": "3.9.0"
  },
  "orig_nbformat": 4,
  "vscode": {
   "interpreter": {
    "hash": "397704579725e15f5c7cb49fe5f0341eb7531c82d19f2c29d197e8b64ab5776b"
   }
  }
 },
 "nbformat": 4,
 "nbformat_minor": 2
}
