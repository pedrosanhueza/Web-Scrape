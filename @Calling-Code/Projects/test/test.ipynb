{
 "cells": [
  {
   "cell_type": "code",
   "execution_count": 1,
   "metadata": {},
   "outputs": [],
   "source": [
    "import os"
   ]
  },
  {
   "cell_type": "code",
   "execution_count": 2,
   "metadata": {},
   "outputs": [
    {
     "data": {
      "text/plain": [
       "'/Users/pedrosanhueza/EXOXY/Personal Projects/Programming/Public/Web_Scrape/@Calling-Code/Projects/test'"
      ]
     },
     "execution_count": 2,
     "metadata": {},
     "output_type": "execute_result"
    }
   ],
   "source": [
    "os.getcwd()"
   ]
  },
  {
   "cell_type": "code",
   "execution_count": 7,
   "metadata": {},
   "outputs": [
    {
     "name": "stdout",
     "output_type": "stream",
     "text": [
      "_3_CountryCode\n",
      "_2_BYUI_ClassCatalog\n",
      ".DS_Store\n",
      "test\n",
      "_8_IrvineSpectrumCenter\n",
      "_1_Billionaires\n",
      "_6_ForbesBillionaries\n",
      "_17_BoatTrader\n",
      "_16_USHouseRepresentatives\n",
      "_4_FIFAWorldCup\n",
      "__pycache__\n",
      "_14_SINCAMMAGob\n",
      "Billionaires\n",
      "_7_ForbesUniversities\n",
      "_15_BYUI_SurplusStore\n",
      "_13_PoliticosEspanoles\n",
      "_9_BYUI_JobBoard\n",
      "_5_Financial Data\n",
      "_12_PoliticosChilenos\n",
      "_18_SigEp_Chapters\n",
      "_11_NewsCBS\n",
      "_10_MutualAppFeedback\n"
     ]
    }
   ],
   "source": [
    "for e in os.listdir('../'):\n",
    "    print(e)"
   ]
  },
  {
   "cell_type": "code",
   "execution_count": null,
   "metadata": {},
   "outputs": [],
   "source": [
    "_3_CountryCode\n",
    "_2_BYUI_ClassCatalog\n",
    ".DS_Store\n",
    "test\n",
    "_8_IrvineSpectrumCenter\n",
    "_1_Billionaires\n",
    "_6_ForbesBillionaries\n",
    "_17_BoatTrader\n",
    "_16_USHouseRepresentatives\n",
    "_4_FIFAWorldCup\n",
    "__pycache__\n",
    "_14_SINCAMMAGob\n",
    "Billionaires\n",
    "_7_ForbesUniversities\n",
    "_15_BYUI_SurplusStore\n",
    "_13_PoliticosEspanoles\n",
    "_9_BYUI_JobBoard\n",
    "_5_Financial Data\n",
    "_12_PoliticosChilenos\n",
    "_18_SigEp_Chapters\n",
    "_11_NewsCBS\n",
    "_10_MutualAppFeedback"
   ]
  }
 ],
 "metadata": {
  "kernelspec": {
   "display_name": "Python 3.10.7 64-bit",
   "language": "python",
   "name": "python3"
  },
  "language_info": {
   "codemirror_mode": {
    "name": "ipython",
    "version": 3
   },
   "file_extension": ".py",
   "mimetype": "text/x-python",
   "name": "python",
   "nbconvert_exporter": "python",
   "pygments_lexer": "ipython3",
   "version": "3.10.7"
  },
  "orig_nbformat": 4,
  "vscode": {
   "interpreter": {
    "hash": "aee8b7b246df8f9039afb4144a1f6fd8d2ca17a180786b69acc140d282b71a49"
   }
  }
 },
 "nbformat": 4,
 "nbformat_minor": 2
}
