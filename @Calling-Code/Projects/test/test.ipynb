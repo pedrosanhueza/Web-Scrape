{
 "cells": [
  {
   "cell_type": "code",
   "execution_count": 1,
   "metadata": {},
   "outputs": [],
   "source": [
    "projectOption = {\n",
    "   'Select a project':1,\n",
    "   'BYU-Idaho Class Catalog':2,\n",
    "   'Phone Country Code':3,\n",
    "   'FIFA Soccer 2022':4,\n",
    "   'Stocks - ADVFN':5,\n",
    "   'Billionaires - Forbes':6,\n",
    "   'Universities - Forbes':7,\n",
    "   'Irvine Spectrum Center - Stores':8,\n",
    "   'BYU-Idaho Student Employment':9,\n",
    "   'Mutual App Feedback':10,\n",
    "   'News - CBS':11,\n",
    "   'Politicos Chilenos':12,\n",
    "   'Políticos Españoles':13,\n",
    "   'SINCA MMA Gob':14,\n",
    "   'Surplus Store - BYUI':15,\n",
    "   'Representatives - USA':16,\n",
    "   'Boat Trader':17,\n",
    "   'Sigma Phi Epsilon':18,\n",
    "   'App Shopify':19}\n"
   ]
  },
  {
   "cell_type": "code",
   "execution_count": 14,
   "metadata": {},
   "outputs": [],
   "source": [
    "projectOption_list = list(projectOption.keys())"
   ]
  },
  {
   "cell_type": "code",
   "execution_count": 15,
   "metadata": {},
   "outputs": [
    {
     "data": {
      "text/plain": [
       "'Select a project'"
      ]
     },
     "execution_count": 15,
     "metadata": {},
     "output_type": "execute_result"
    }
   ],
   "source": [
    "projectOption_list[0]"
   ]
  },
  {
   "cell_type": "code",
   "execution_count": null,
   "metadata": {},
   "outputs": [],
   "source": []
  }
 ],
 "metadata": {
  "kernelspec": {
   "display_name": "Python 3.9.0 64-bit",
   "language": "python",
   "name": "python3"
  },
  "language_info": {
   "codemirror_mode": {
    "name": "ipython",
    "version": 3
   },
   "file_extension": ".py",
   "mimetype": "text/x-python",
   "name": "python",
   "nbconvert_exporter": "python",
   "pygments_lexer": "ipython3",
   "version": "3.9.0"
  },
  "orig_nbformat": 4,
  "vscode": {
   "interpreter": {
    "hash": "397704579725e15f5c7cb49fe5f0341eb7531c82d19f2c29d197e8b64ab5776b"
   }
  }
 },
 "nbformat": 4,
 "nbformat_minor": 2
}
