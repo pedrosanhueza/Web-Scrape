{
 "cells": [
  {
   "cell_type": "code",
   "execution_count": 1,
   "metadata": {},
   "outputs": [],
   "source": [
    "import requests\n",
    "import pandas as pd\n",
    "from bs4 import BeautifulSoup"
   ]
  },
  {
   "cell_type": "code",
   "execution_count": 2,
   "metadata": {},
   "outputs": [],
   "source": [
    "url = \"https://www.forbes.com/billionaires/page-data/index/page-data.json\"\n",
    "\n",
    "response = requests.get(url)\n",
    "\n",
    "json_data = response.json()"
   ]
  },
  {
   "cell_type": "code",
   "execution_count": 3,
   "metadata": {},
   "outputs": [],
   "source": [
    "rows = json_data['result']['pageContext']['tableData']"
   ]
  },
  {
   "cell_type": "code",
   "execution_count": 5,
   "metadata": {},
   "outputs": [],
   "source": [
    "tableData = {\n",
    "    k: v\n",
    "    for (k, v) in rows[0].items()\n",
    "    if\n",
    "    (k != 'person') & # dict\n",
    "    (k != 'employment') & # dict\n",
    "    (k != 'qas') & # two dicts\n",
    "    (k != 'bios') & # list\n",
    "    (k != 'abouts') & #list\n",
    "    (k != 'csfDisplayFields') #list\n",
    "}"
   ]
  },
  {
   "cell_type": "code",
   "execution_count": null,
   "metadata": {},
   "outputs": [],
   "source": [
    "person = {\n",
    "    list(rows[0].keys())[9]+'_'+k:v\n",
    "    for (k,v) in rows[0][list(rows[0].keys())[9]].items()\n",
    "}\n",
    "person"
   ]
  },
  {
   "cell_type": "code",
   "execution_count": null,
   "metadata": {},
   "outputs": [],
   "source": [
    "employment = {\n",
    "    list(rows[0].keys())[33]+'_'+k:v\n",
    "    for (k,v) in rows[0][list(rows[0].keys())[33]].items()\n",
    "}\n",
    "employment"
   ]
  },
  {
   "cell_type": "code",
   "execution_count": null,
   "metadata": {},
   "outputs": [],
   "source": [
    "rows[0]['qas']"
   ]
  },
  {
   "cell_type": "code",
   "execution_count": null,
   "metadata": {},
   "outputs": [],
   "source": [
    "pd.DataFrame([tableData])"
   ]
  },
  {
   "cell_type": "code",
   "execution_count": 7,
   "metadata": {},
   "outputs": [],
   "source": [
    "ls_=[]\n",
    "\n",
    "for row in rows:\n",
    "    tableData = {\n",
    "        k: v\n",
    "        for (k, v) in row.items()\n",
    "        if\n",
    "        (k != 'person') & # dict\n",
    "        (k != 'employment') & # dict\n",
    "        (k != 'qas') & # two dicts\n",
    "        (k != 'bios') & # list\n",
    "        (k != 'abouts') & #list\n",
    "        (k != 'csfDisplayFields') #list\n",
    "        }\n",
    "    ls_.append(tableData)"
   ]
  },
  {
   "cell_type": "code",
   "execution_count": 8,
   "metadata": {},
   "outputs": [],
   "source": [
    "data = pd.DataFrame(ls_)"
   ]
  },
  {
   "cell_type": "code",
   "execution_count": 11,
   "metadata": {},
   "outputs": [],
   "source": [
    "cols_to_drop = [\n",
    "    'parentListUri',\n",
    "    'organization',\n",
    "    'title',\n",
    "    'selfMadeRank',\n",
    "    'residenceStateRegion',\n",
    "    'embargo',\n",
    "    'residenceMsa',\n",
    "    'impactInvestor',\n",
    "    'numberOfSiblings',\n",
    "    'numberOfSiblingsEst',\n",
    "    'bio',\n",
    "    # 'totalCharitableDonation',\n",
    "    # 'charitableDonationPercentage',\n",
    "    'thumbnail',\n",
    "    'notableDeal',\n",
    "    'valueCreated',\n",
    "    'primaryIndustry',\n",
    "    'portraitImage',\n",
    "    'landscapeImage',\n",
    "    'clients']\n",
    "\n",
    "data.drop(cols_to_drop, axis=1, inplace=True)"
   ]
  },
  {
   "cell_type": "code",
   "execution_count": 9,
   "metadata": {},
   "outputs": [
    {
     "data": {
      "text/plain": [
       "name                       0\n",
       "year                       0\n",
       "month                      0\n",
       "uri                        0\n",
       "rank                       0\n",
       "listUri                    0\n",
       "finalWorth                 0\n",
       "category                   0\n",
       "otherCompensation          0\n",
       "visible                    0\n",
       "personName                 0\n",
       "age                        0\n",
       "country                   13\n",
       "state                   1920\n",
       "city                      44\n",
       "source                     0\n",
       "industries                 0\n",
       "countryOfCitizenship       0\n",
       "organization            2321\n",
       "timestamp                  0\n",
       "version                    0\n",
       "naturalId                  0\n",
       "position                   0\n",
       "imageExists                0\n",
       "selfMade                   0\n",
       "status                     0\n",
       "gender                    16\n",
       "birthDate                 98\n",
       "lastName                   0\n",
       "firstName                  6\n",
       "listDescription            0\n",
       "title                   2278\n",
       "date                       0\n",
       "wealthList                 0\n",
       "familyList                 0\n",
       "selfMadeRank            2102\n",
       "thumbnail               2464\n",
       "residenceStateRegion    1928\n",
       "squareImage              679\n",
       "bioSuppress                0\n",
       "suppressOnProfiles         0\n",
       "premiumProfile             0\n",
       "philanthropyScore          0\n",
       "embargo                 2088\n",
       "netWorth                   0\n",
       "parentListUri            580\n",
       "residenceMsa            2043\n",
       "impactInvestor          2629\n",
       "numberOfSiblings        2541\n",
       "numberOfSiblingsEst     2541\n",
       "bio                     2603\n",
       "notableDeal             2654\n",
       "valueCreated            2648\n",
       "primaryIndustry         2667\n",
       "portraitImage           2659\n",
       "landscapeImage          2659\n",
       "clients                 2667\n",
       "dtype: int64"
      ]
     },
     "execution_count": 9,
     "metadata": {},
     "output_type": "execute_result"
    }
   ],
   "source": [
    "data.isna().sum()"
   ]
  },
  {
   "cell_type": "code",
   "execution_count": 15,
   "metadata": {},
   "outputs": [
    {
     "data": {
      "text/html": [
       "<div>\n",
       "<style scoped>\n",
       "    .dataframe tbody tr th:only-of-type {\n",
       "        vertical-align: middle;\n",
       "    }\n",
       "\n",
       "    .dataframe tbody tr th {\n",
       "        vertical-align: top;\n",
       "    }\n",
       "\n",
       "    .dataframe thead th {\n",
       "        text-align: right;\n",
       "    }\n",
       "</style>\n",
       "<table border=\"1\" class=\"dataframe\">\n",
       "  <thead>\n",
       "    <tr style=\"text-align: right;\">\n",
       "      <th></th>\n",
       "      <th>col1</th>\n",
       "      <th>col2</th>\n",
       "    </tr>\n",
       "  </thead>\n",
       "  <tbody>\n",
       "    <tr>\n",
       "      <th>0</th>\n",
       "      <td>1</td>\n",
       "      <td>3</td>\n",
       "    </tr>\n",
       "    <tr>\n",
       "      <th>1</th>\n",
       "      <td>2</td>\n",
       "      <td>4</td>\n",
       "    </tr>\n",
       "  </tbody>\n",
       "</table>\n",
       "</div>"
      ],
      "text/plain": [
       "   col1  col2\n",
       "0     1     3\n",
       "1     2     4"
      ]
     },
     "execution_count": 15,
     "metadata": {},
     "output_type": "execute_result"
    }
   ],
   "source": [
    "pd.DataFrame({'col1': [1, 2], 'col2': [3, 4]})"
   ]
  },
  {
   "cell_type": "code",
   "execution_count": null,
   "metadata": {},
   "outputs": [],
   "source": []
  },
  {
   "cell_type": "code",
   "execution_count": null,
   "metadata": {},
   "outputs": [],
   "source": []
  },
  {
   "cell_type": "code",
   "execution_count": null,
   "metadata": {},
   "outputs": [],
   "source": []
  },
  {
   "cell_type": "code",
   "execution_count": null,
   "metadata": {},
   "outputs": [],
   "source": []
  }
 ],
 "metadata": {
  "kernelspec": {
   "display_name": "Python 3.9.0 64-bit",
   "language": "python",
   "name": "python3"
  },
  "language_info": {
   "codemirror_mode": {
    "name": "ipython",
    "version": 3
   },
   "file_extension": ".py",
   "mimetype": "text/x-python",
   "name": "python",
   "nbconvert_exporter": "python",
   "pygments_lexer": "ipython3",
   "version": "3.9.0"
  },
  "orig_nbformat": 4,
  "vscode": {
   "interpreter": {
    "hash": "397704579725e15f5c7cb49fe5f0341eb7531c82d19f2c29d197e8b64ab5776b"
   }
  }
 },
 "nbformat": 4,
 "nbformat_minor": 2
}
