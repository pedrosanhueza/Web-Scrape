{
 "cells": [
  {
   "cell_type": "code",
   "execution_count": 47,
   "metadata": {},
   "outputs": [],
   "source": [
    "import requests\n",
    "import numpy as np\n",
    "import pandas as pd\n",
    "from pathlib import Path"
   ]
  },
  {
   "cell_type": "code",
   "execution_count": 56,
   "metadata": {},
   "outputs": [],
   "source": [
    "# Forbes lists\n",
    "lists = [\n",
    "  { 'type': 'person', 'year': 2022, 'uri': 'billionaires' },                  # World richest\n",
    "    { 'type': 'person', 'year': 2017, 'uri': 'forbes-400' },                  # American richest 400\n",
    "    { 'type': 'person', 'year': 2017, 'uri': 'hong-kong-billionaires' },      # Hong Kong richest 50\n",
    "    { 'type': 'person', 'year': 2017, 'uri': 'australia-billionaires' },      # Australia richest 50\n",
    "    { 'type': 'person', 'year': 2017, 'uri': 'china-billionaires' },          # China richest 400\n",
    "    { 'type': 'person', 'year': 2017, 'uri': 'taiwan-billionaires' },         # Taiwan richest 50\n",
    "    { 'type': 'person', 'year': 2017, 'uri': 'india-billionaires' },          # India richest 100\n",
    "    { 'type': 'person', 'year': 2017, 'uri': 'japan-billionaires' },          # Japan richest 50\n",
    "    { 'type': 'person', 'year': 2017, 'uri': 'africa-billionaires' },         # Africa richest 50\n",
    "    { 'type': 'person', 'year': 2017, 'uri': 'korea-billionaires' },          # Korea richest 50\n",
    "    { 'type': 'person', 'year': 2017, 'uri': 'malaysia-billionaires' },       # Malaysia richest 50\n",
    "    { 'type': 'person', 'year': 2017, 'uri': 'philippines-billionaires' },    # Philippines richest 50\n",
    "    { 'type': 'person', 'year': 2017, 'uri': 'singapore-billionaires' },      # Singapore richest 50\n",
    "    { 'type': 'person', 'year': 2017, 'uri': 'indonesia-billionaires' },      # Indonesia richest 50\n",
    "    { 'type': 'person', 'year': 2017, 'uri': 'thailand-billionaires' },       # Thailand richest 50\n",
    "    { 'type': 'person', 'year': 2017, 'uri': 'self-made-women' },             # American richest self-made women\n",
    "    { 'type': 'person', 'year': 2017, 'uri': 'richest-in-tech' },             # tech richest\n",
    "    { 'type': 'person', 'year': 2017, 'uri': 'hedge-fund-managers' },         # hedge fund highest-earning\n",
    "    { 'type': 'person', 'year': 2016, 'uri': 'powerful-people' },             # world powerful\n",
    "    { 'type': 'person', 'year': 2017, 'uri': 'power-women' },                 # world powerful women\n",
    "    { 'type': 'person', 'year': 0, 'uri': 'rtb' },                            # real-time world billionaires\n",
    "    { 'type': 'person', 'year': 0, 'uri': 'rtrl' },                           # real-time American richest 400\n",
    "]"
   ]
  },
  {
   "cell_type": "code",
   "execution_count": 33,
   "metadata": {},
   "outputs": [],
   "source": [
    "urls = []\n",
    "\n",
    "url = 'http://www.forbes.com/ajax/list/data'\n",
    "\n",
    "for forbes_list in lists:\n",
    "    response = requests.get(url, params=forbes_list)\n",
    "\n",
    "    urls.append(response.url)\n",
    "    # DataFrame(response.json()).to_csv('sources/forbes-{}.csv'.format(forbes_list['uri']))\n"
   ]
  },
  {
   "cell_type": "code",
   "execution_count": 57,
   "metadata": {},
   "outputs": [
    {
     "data": {
      "text/plain": [
       "['https://www.forbes.com/ajax/list/data?type=person&uri=billionaires&year=2017',\n",
       " 'https://www.forbes.com/ajax/list/data?type=person&uri=forbes-400&year=2017',\n",
       " 'https://www.forbes.com/ajax/list/data?type=person&uri=hong-kong-billionaires&year=2017',\n",
       " 'https://www.forbes.com/ajax/list/data?type=person&uri=australia-billionaires&year=2017',\n",
       " 'https://www.forbes.com/ajax/list/data?type=person&uri=china-billionaires&year=2017',\n",
       " 'https://www.forbes.com/ajax/list/data?type=person&uri=taiwan-billionaires&year=2017',\n",
       " 'https://www.forbes.com/ajax/list/data?type=person&uri=india-billionaires&year=2017',\n",
       " 'https://www.forbes.com/ajax/list/data?type=person&uri=japan-billionaires&year=2017',\n",
       " 'https://www.forbes.com/ajax/list/data?type=person&uri=africa-billionaires&year=2017',\n",
       " 'https://www.forbes.com/ajax/list/data?type=person&uri=korea-billionaires&year=2017',\n",
       " 'https://www.forbes.com/ajax/list/data?type=person&uri=malaysia-billionaires&year=2017',\n",
       " 'https://www.forbes.com/ajax/list/data?type=person&uri=philippines-billionaires&year=2017',\n",
       " 'https://www.forbes.com/ajax/list/data?type=person&uri=singapore-billionaires&year=2017',\n",
       " 'https://www.forbes.com/ajax/list/data?type=person&uri=indonesia-billionaires&year=2017',\n",
       " 'https://www.forbes.com/ajax/list/data?type=person&uri=thailand-billionaires&year=2017',\n",
       " 'https://www.forbes.com/ajax/list/data?type=person&uri=self-made-women&year=2017',\n",
       " 'https://www.forbes.com/ajax/list/data?type=person&uri=richest-in-tech&year=2017',\n",
       " 'https://www.forbes.com/ajax/list/data?type=person&uri=hedge-fund-managers&year=2017',\n",
       " 'https://www.forbes.com/ajax/list/data?type=person&uri=powerful-people&year=2016',\n",
       " 'https://www.forbes.com/ajax/list/data?type=person&uri=power-women&year=2017',\n",
       " 'https://www.forbes.com/ajax/list/data?type=person&uri=rtb&year=0',\n",
       " 'https://www.forbes.com/ajax/list/data?type=person&uri=rtrl&year=0']"
      ]
     },
     "execution_count": 57,
     "metadata": {},
     "output_type": "execute_result"
    }
   ],
   "source": [
    "urls"
   ]
  },
  {
   "cell_type": "code",
   "execution_count": 39,
   "metadata": {},
   "outputs": [
    {
     "data": {
      "text/plain": [
       "'https://www.forbes.com/ajax/list/data?type=person&uri=billionaires&year=2022'"
      ]
     },
     "execution_count": 39,
     "metadata": {},
     "output_type": "execute_result"
    }
   ],
   "source": [
    "response = requests.get(url, params=lists[0])\n",
    "\n",
    "response.url"
   ]
  },
  {
   "cell_type": "code",
   "execution_count": 41,
   "metadata": {},
   "outputs": [],
   "source": [
    "x = pd.DataFrame(response.json())"
   ]
  },
  {
   "cell_type": "code",
   "execution_count": 48,
   "metadata": {},
   "outputs": [],
   "source": [
    "pd.options.display.max_columns = None"
   ]
  },
  {
   "cell_type": "code",
   "execution_count": 54,
   "metadata": {},
   "outputs": [
    {
     "data": {
      "text/plain": [
       "(2769, 25)"
      ]
     },
     "execution_count": 54,
     "metadata": {},
     "output_type": "execute_result"
    }
   ],
   "source": [
    "x.shape"
   ]
  },
  {
   "cell_type": "code",
   "execution_count": 52,
   "metadata": {},
   "outputs": [
    {
     "data": {
      "text/plain": [
       "name                                                        Elon Musk\n",
       "lastName                                                         Musk\n",
       "uri                                                         elon-musk\n",
       "imageUri                                                    elon-musk\n",
       "worthChange                                                 -9277.337\n",
       "age                                                              51.0\n",
       "source                                                  Tesla, SpaceX\n",
       "industry                                                   Automotive\n",
       "gender                                                              M\n",
       "country                                                 United States\n",
       "timestamp                                               1668039302959\n",
       "realTimeWorth                                              188128.025\n",
       "realTimeRank                                                      1.0\n",
       "realTimePosition                                                  1.0\n",
       "squareImage         https://specials-images.forbesimg.com/imageser...\n",
       "headquarters                                                       TX\n",
       "state                                                           Texas\n",
       "title                                                      CEO, Tesla\n",
       "position                                                          1.0\n",
       "rank                                                              1.0\n",
       "worth                                                        219000.0\n",
       "government                                                      False\n",
       "pay                                                               NaN\n",
       "managementAssets                                                  NaN\n",
       "salary                                                            NaN\n",
       "Name: 101, dtype: object"
      ]
     },
     "execution_count": 52,
     "metadata": {},
     "output_type": "execute_result"
    }
   ],
   "source": [
    "x.sort_values('realTimeRank').iloc[0]"
   ]
  },
  {
   "cell_type": "code",
   "execution_count": 51,
   "metadata": {},
   "outputs": [
    {
     "data": {
      "text/plain": [
       "name                   0\n",
       "lastName               0\n",
       "uri                    0\n",
       "imageUri               0\n",
       "worthChange          310\n",
       "age                  102\n",
       "source                 1\n",
       "industry               1\n",
       "gender                19\n",
       "country                0\n",
       "timestamp              0\n",
       "realTimeWorth        309\n",
       "realTimeRank         309\n",
       "realTimePosition     309\n",
       "squareImage          717\n",
       "headquarters        1988\n",
       "state               1960\n",
       "title               2423\n",
       "position             101\n",
       "rank                 101\n",
       "worth                101\n",
       "government          2424\n",
       "pay                 2749\n",
       "managementAssets    2767\n",
       "salary              2768\n",
       "dtype: int64"
      ]
     },
     "execution_count": 51,
     "metadata": {},
     "output_type": "execute_result"
    }
   ],
   "source": [
    "x.isna().sum()"
   ]
  },
  {
   "cell_type": "code",
   "execution_count": 59,
   "metadata": {},
   "outputs": [
    {
     "data": {
      "text/plain": [
       "'https://www.forbes.com/ajax/list/data?type=person&uri=rtb&year=0'"
      ]
     },
     "execution_count": 59,
     "metadata": {},
     "output_type": "execute_result"
    }
   ],
   "source": [
    "response = requests.get(url, params=lists[-2])\n",
    "response.url"
   ]
  },
  {
   "cell_type": "code",
   "execution_count": 60,
   "metadata": {},
   "outputs": [
    {
     "data": {
      "text/plain": [
       "(2460, 21)"
      ]
     },
     "execution_count": 60,
     "metadata": {},
     "output_type": "execute_result"
    }
   ],
   "source": [
    "x = pd.DataFrame(response.json())\n",
    "x.shape"
   ]
  },
  {
   "cell_type": "code",
   "execution_count": 62,
   "metadata": {},
   "outputs": [
    {
     "data": {
      "text/plain": [
       "position                                                        1\n",
       "rank                                                            1\n",
       "name                                                    Elon Musk\n",
       "lastName                                                     Musk\n",
       "uri                                                     elon-musk\n",
       "imageUri                                                elon-musk\n",
       "worth                                                  188128.025\n",
       "worthChange                                             -9277.337\n",
       "age                                                          51.0\n",
       "source                                              Tesla, SpaceX\n",
       "industry                                               Automotive\n",
       "gender                                                          M\n",
       "country                                             United States\n",
       "timestamp                                           1668039902724\n",
       "headquarters                                           Austin, TX\n",
       "state                                                       Texas\n",
       "date                                                 725846400000\n",
       "thumbnail       http://specials-images.forbesimg.com/imageserv...\n",
       "description                                                      \n",
       "squareImage     https://specials-images.forbesimg.com/imageser...\n",
       "title                                                         NaN\n",
       "Name: 0, dtype: object"
      ]
     },
     "execution_count": 62,
     "metadata": {},
     "output_type": "execute_result"
    }
   ],
   "source": [
    "x.iloc[0]"
   ]
  },
  {
   "cell_type": "code",
   "execution_count": 63,
   "metadata": {},
   "outputs": [
    {
     "data": {
      "text/plain": [
       "position           0\n",
       "rank               0\n",
       "name               0\n",
       "lastName           0\n",
       "uri                0\n",
       "imageUri           0\n",
       "worth              0\n",
       "worthChange        1\n",
       "age               83\n",
       "source             1\n",
       "industry           1\n",
       "gender            18\n",
       "country            0\n",
       "timestamp          0\n",
       "headquarters      36\n",
       "state           1228\n",
       "date               0\n",
       "thumbnail       2061\n",
       "description        2\n",
       "squareImage      579\n",
       "title           2459\n",
       "dtype: int64"
      ]
     },
     "execution_count": 63,
     "metadata": {},
     "output_type": "execute_result"
    }
   ],
   "source": [
    "x.isna().sum()"
   ]
  },
  {
   "cell_type": "code",
   "execution_count": null,
   "metadata": {},
   "outputs": [],
   "source": []
  }
 ],
 "metadata": {
  "kernelspec": {
   "display_name": "Python 3.9.0 64-bit",
   "language": "python",
   "name": "python3"
  },
  "language_info": {
   "codemirror_mode": {
    "name": "ipython",
    "version": 3
   },
   "file_extension": ".py",
   "mimetype": "text/x-python",
   "name": "python",
   "nbconvert_exporter": "python",
   "pygments_lexer": "ipython3",
   "version": "3.9.0"
  },
  "orig_nbformat": 4,
  "vscode": {
   "interpreter": {
    "hash": "397704579725e15f5c7cb49fe5f0341eb7531c82d19f2c29d197e8b64ab5776b"
   }
  }
 },
 "nbformat": 4,
 "nbformat_minor": 2
}
