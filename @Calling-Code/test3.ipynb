{
 "cells": [
  {
   "cell_type": "code",
   "execution_count": 47,
   "metadata": {},
   "outputs": [],
   "source": [
    "import requests\n",
    "import numpy as np\n",
    "import pandas as pd\n",
    "from pathlib import Path"
   ]
  },
  {
   "cell_type": "code",
   "execution_count": 56,
   "metadata": {},
   "outputs": [],
   "source": [
    "# Forbes lists\n",
    "lists = [\n",
    "  { 'type': 'person', 'year': 2022, 'uri': 'billionaires' },                  # World richest\n",
    "    { 'type': 'person', 'year': 2017, 'uri': 'forbes-400' },                  # American richest 400\n",
    "    { 'type': 'person', 'year': 2017, 'uri': 'hong-kong-billionaires' },      # Hong Kong richest 50\n",
    "    { 'type': 'person', 'year': 2017, 'uri': 'australia-billionaires' },      # Australia richest 50\n",
    "    { 'type': 'person', 'year': 2017, 'uri': 'china-billionaires' },          # China richest 400\n",
    "    { 'type': 'person', 'year': 2017, 'uri': 'taiwan-billionaires' },         # Taiwan richest 50\n",
    "    { 'type': 'person', 'year': 2017, 'uri': 'india-billionaires' },          # India richest 100\n",
    "    { 'type': 'person', 'year': 2017, 'uri': 'japan-billionaires' },          # Japan richest 50\n",
    "    { 'type': 'person', 'year': 2017, 'uri': 'africa-billionaires' },         # Africa richest 50\n",
    "    { 'type': 'person', 'year': 2017, 'uri': 'korea-billionaires' },          # Korea richest 50\n",
    "    { 'type': 'person', 'year': 2017, 'uri': 'malaysia-billionaires' },       # Malaysia richest 50\n",
    "    { 'type': 'person', 'year': 2017, 'uri': 'philippines-billionaires' },    # Philippines richest 50\n",
    "    { 'type': 'person', 'year': 2017, 'uri': 'singapore-billionaires' },      # Singapore richest 50\n",
    "    { 'type': 'person', 'year': 2017, 'uri': 'indonesia-billionaires' },      # Indonesia richest 50\n",
    "    { 'type': 'person', 'year': 2017, 'uri': 'thailand-billionaires' },       # Thailand richest 50\n",
    "    { 'type': 'person', 'year': 2017, 'uri': 'self-made-women' },             # American richest self-made women\n",
    "    { 'type': 'person', 'year': 2017, 'uri': 'richest-in-tech' },             # tech richest\n",
    "    { 'type': 'person', 'year': 2017, 'uri': 'hedge-fund-managers' },         # hedge fund highest-earning\n",
    "    { 'type': 'person', 'year': 2016, 'uri': 'powerful-people' },             # world powerful\n",
    "    { 'type': 'person', 'year': 2017, 'uri': 'power-women' },                 # world powerful women\n",
    "    { 'type': 'person', 'year': 0, 'uri': 'rtb' },                            # real-time world billionaires\n",
    "    { 'type': 'person', 'year': 0, 'uri': 'rtrl' },                           # real-time American richest 400\n",
    "]"
   ]
  },
  {
   "cell_type": "code",
   "execution_count": 33,
   "metadata": {},
   "outputs": [],
   "source": [
    "urls = []\n",
    "\n",
    "url = 'http://www.forbes.com/ajax/list/data'\n",
    "\n",
    "for forbes_list in lists:\n",
    "    response = requests.get(url, params=forbes_list)\n",
    "\n",
    "    urls.append(response.url)\n",
    "    # DataFrame(response.json()).to_csv('sources/forbes-{}.csv'.format(forbes_list['uri']))\n"
   ]
  },
  {
   "cell_type": "code",
   "execution_count": 57,
   "metadata": {},
   "outputs": [
    {
     "data": {
      "text/plain": [
       "['https://www.forbes.com/ajax/list/data?type=person&uri=billionaires&year=2017',\n",
       " 'https://www.forbes.com/ajax/list/data?type=person&uri=forbes-400&year=2017',\n",
       " 'https://www.forbes.com/ajax/list/data?type=person&uri=hong-kong-billionaires&year=2017',\n",
       " 'https://www.forbes.com/ajax/list/data?type=person&uri=australia-billionaires&year=2017',\n",
       " 'https://www.forbes.com/ajax/list/data?type=person&uri=china-billionaires&year=2017',\n",
       " 'https://www.forbes.com/ajax/list/data?type=person&uri=taiwan-billionaires&year=2017',\n",
       " 'https://www.forbes.com/ajax/list/data?type=person&uri=india-billionaires&year=2017',\n",
       " 'https://www.forbes.com/ajax/list/data?type=person&uri=japan-billionaires&year=2017',\n",
       " 'https://www.forbes.com/ajax/list/data?type=person&uri=africa-billionaires&year=2017',\n",
       " 'https://www.forbes.com/ajax/list/data?type=person&uri=korea-billionaires&year=2017',\n",
       " 'https://www.forbes.com/ajax/list/data?type=person&uri=malaysia-billionaires&year=2017',\n",
       " 'https://www.forbes.com/ajax/list/data?type=person&uri=philippines-billionaires&year=2017',\n",
       " 'https://www.forbes.com/ajax/list/data?type=person&uri=singapore-billionaires&year=2017',\n",
       " 'https://www.forbes.com/ajax/list/data?type=person&uri=indonesia-billionaires&year=2017',\n",
       " 'https://www.forbes.com/ajax/list/data?type=person&uri=thailand-billionaires&year=2017',\n",
       " 'https://www.forbes.com/ajax/list/data?type=person&uri=self-made-women&year=2017',\n",
       " 'https://www.forbes.com/ajax/list/data?type=person&uri=richest-in-tech&year=2017',\n",
       " 'https://www.forbes.com/ajax/list/data?type=person&uri=hedge-fund-managers&year=2017',\n",
       " 'https://www.forbes.com/ajax/list/data?type=person&uri=powerful-people&year=2016',\n",
       " 'https://www.forbes.com/ajax/list/data?type=person&uri=power-women&year=2017',\n",
       " 'https://www.forbes.com/ajax/list/data?type=person&uri=rtb&year=0',\n",
       " 'https://www.forbes.com/ajax/list/data?type=person&uri=rtrl&year=0']"
      ]
     },
     "execution_count": 57,
     "metadata": {},
     "output_type": "execute_result"
    }
   ],
   "source": [
    "urls"
   ]
  },
  {
   "cell_type": "code",
   "execution_count": 39,
   "metadata": {},
   "outputs": [
    {
     "data": {
      "text/plain": [
       "'https://www.forbes.com/ajax/list/data?type=person&uri=billionaires&year=2022'"
      ]
     },
     "execution_count": 39,
     "metadata": {},
     "output_type": "execute_result"
    }
   ],
   "source": [
    "response = requests.get(url, params=lists[0])\n",
    "\n",
    "response.url"
   ]
  },
  {
   "cell_type": "code",
   "execution_count": 41,
   "metadata": {},
   "outputs": [],
   "source": [
    "x = pd.DataFrame(response.json())"
   ]
  },
  {
   "cell_type": "code",
   "execution_count": 48,
   "metadata": {},
   "outputs": [],
   "source": [
    "pd.options.display.max_columns = None"
   ]
  },
  {
   "cell_type": "code",
   "execution_count": 54,
   "metadata": {},
   "outputs": [
    {
     "data": {
      "text/plain": [
       "(2769, 25)"
      ]
     },
     "execution_count": 54,
     "metadata": {},
     "output_type": "execute_result"
    }
   ],
   "source": [
    "x.shape"
   ]
  },
  {
   "cell_type": "code",
   "execution_count": 52,
   "metadata": {},
   "outputs": [
    {
     "data": {
      "text/plain": [
       "name                                                        Elon Musk\n",
       "lastName                                                         Musk\n",
       "uri                                                         elon-musk\n",
       "imageUri                                                    elon-musk\n",
       "worthChange                                                 -9277.337\n",
       "age                                                              51.0\n",
       "source                                                  Tesla, SpaceX\n",
       "industry                                                   Automotive\n",
       "gender                                                              M\n",
       "country                                                 United States\n",
       "timestamp                                               1668039302959\n",
       "realTimeWorth                                              188128.025\n",
       "realTimeRank                                                      1.0\n",
       "realTimePosition                                                  1.0\n",
       "squareImage         https://specials-images.forbesimg.com/imageser...\n",
       "headquarters                                                       TX\n",
       "state                                                           Texas\n",
       "title                                                      CEO, Tesla\n",
       "position                                                          1.0\n",
       "rank                                                              1.0\n",
       "worth                                                        219000.0\n",
       "government                                                      False\n",
       "pay                                                               NaN\n",
       "managementAssets                                                  NaN\n",
       "salary                                                            NaN\n",
       "Name: 101, dtype: object"
      ]
     },
     "execution_count": 52,
     "metadata": {},
     "output_type": "execute_result"
    }
   ],
   "source": [
    "x.sort_values('realTimeRank').iloc[0]"
   ]
  },
  {
   "cell_type": "code",
   "execution_count": 51,
   "metadata": {},
   "outputs": [
    {
     "data": {
      "text/plain": [
       "name                   0\n",
       "lastName               0\n",
       "uri                    0\n",
       "imageUri               0\n",
       "worthChange          310\n",
       "age                  102\n",
       "source                 1\n",
       "industry               1\n",
       "gender                19\n",
       "country                0\n",
       "timestamp              0\n",
       "realTimeWorth        309\n",
       "realTimeRank         309\n",
       "realTimePosition     309\n",
       "squareImage          717\n",
       "headquarters        1988\n",
       "state               1960\n",
       "title               2423\n",
       "position             101\n",
       "rank                 101\n",
       "worth                101\n",
       "government          2424\n",
       "pay                 2749\n",
       "managementAssets    2767\n",
       "salary              2768\n",
       "dtype: int64"
      ]
     },
     "execution_count": 51,
     "metadata": {},
     "output_type": "execute_result"
    }
   ],
   "source": [
    "x.isna().sum()"
   ]
  },
  {
   "cell_type": "code",
   "execution_count": 59,
   "metadata": {},
   "outputs": [
    {
     "data": {
      "text/plain": [
       "'https://www.forbes.com/ajax/list/data?type=person&uri=rtb&year=0'"
      ]
     },
     "execution_count": 59,
     "metadata": {},
     "output_type": "execute_result"
    }
   ],
   "source": [
    "response = requests.get(url, params=lists[-2])\n",
    "response.url"
   ]
  },
  {
   "cell_type": "code",
   "execution_count": 60,
   "metadata": {},
   "outputs": [
    {
     "data": {
      "text/plain": [
       "(2460, 21)"
      ]
     },
     "execution_count": 60,
     "metadata": {},
     "output_type": "execute_result"
    }
   ],
   "source": [
    "x = pd.DataFrame(response.json())\n",
    "x.shape"
   ]
  },
  {
   "cell_type": "code",
   "execution_count": 62,
   "metadata": {},
   "outputs": [
    {
     "data": {
      "text/plain": [
       "position                                                        1\n",
       "rank                                                            1\n",
       "name                                                    Elon Musk\n",
       "lastName                                                     Musk\n",
       "uri                                                     elon-musk\n",
       "imageUri                                                elon-musk\n",
       "worth                                                  188128.025\n",
       "worthChange                                             -9277.337\n",
       "age                                                          51.0\n",
       "source                                              Tesla, SpaceX\n",
       "industry                                               Automotive\n",
       "gender                                                          M\n",
       "country                                             United States\n",
       "timestamp                                           1668039902724\n",
       "headquarters                                           Austin, TX\n",
       "state                                                       Texas\n",
       "date                                                 725846400000\n",
       "thumbnail       http://specials-images.forbesimg.com/imageserv...\n",
       "description                                                      \n",
       "squareImage     https://specials-images.forbesimg.com/imageser...\n",
       "title                                                         NaN\n",
       "Name: 0, dtype: object"
      ]
     },
     "execution_count": 62,
     "metadata": {},
     "output_type": "execute_result"
    }
   ],
   "source": [
    "x.iloc[0]"
   ]
  },
  {
   "cell_type": "code",
   "execution_count": 63,
   "metadata": {},
   "outputs": [
    {
     "data": {
      "text/plain": [
       "position           0\n",
       "rank               0\n",
       "name               0\n",
       "lastName           0\n",
       "uri                0\n",
       "imageUri           0\n",
       "worth              0\n",
       "worthChange        1\n",
       "age               83\n",
       "source             1\n",
       "industry           1\n",
       "gender            18\n",
       "country            0\n",
       "timestamp          0\n",
       "headquarters      36\n",
       "state           1228\n",
       "date               0\n",
       "thumbnail       2061\n",
       "description        2\n",
       "squareImage      579\n",
       "title           2459\n",
       "dtype: int64"
      ]
     },
     "execution_count": 63,
     "metadata": {},
     "output_type": "execute_result"
    }
   ],
   "source": [
    "x.isna().sum()"
   ]
  },
  {
   "cell_type": "code",
   "execution_count": 15,
   "metadata": {},
   "outputs": [],
   "source": [
    "import requests\n",
    "import pandas as pd\n",
    "\n",
    "url = 'https://byui.kuali.co/api/v1/catalog/courses/6102e778ef84b869ba4eb375?q='\n",
    "\n",
    "response = requests.get(url)\n",
    "\n",
    "responseObject = response.json()\n",
    "\n",
    "df = pd.DataFrame(responseObject)"
   ]
  },
  {
   "cell_type": "code",
   "execution_count": 16,
   "metadata": {},
   "outputs": [
    {
     "data": {
      "text/html": [
       "<div>\n",
       "<style scoped>\n",
       "    .dataframe tbody tr th:only-of-type {\n",
       "        vertical-align: middle;\n",
       "    }\n",
       "\n",
       "    .dataframe tbody tr th {\n",
       "        vertical-align: top;\n",
       "    }\n",
       "\n",
       "    .dataframe thead th {\n",
       "        text-align: right;\n",
       "    }\n",
       "</style>\n",
       "<table border=\"1\" class=\"dataframe\">\n",
       "  <thead>\n",
       "    <tr style=\"text-align: right;\">\n",
       "      <th></th>\n",
       "      <th>__catalogCourseId</th>\n",
       "      <th>__passedCatalogQuery</th>\n",
       "      <th>dateStart</th>\n",
       "      <th>pid</th>\n",
       "      <th>id</th>\n",
       "      <th>title</th>\n",
       "      <th>subjectCode</th>\n",
       "      <th>catalogActivationDate</th>\n",
       "      <th>_score</th>\n",
       "    </tr>\n",
       "  </thead>\n",
       "  <tbody>\n",
       "    <tr>\n",
       "      <th>0</th>\n",
       "      <td>ACCTG100</td>\n",
       "      <td>True</td>\n",
       "      <td>2019-01-01</td>\n",
       "      <td>414Six2j-</td>\n",
       "      <td>5a6a3fb5449c7c2e00c517af</td>\n",
       "      <td>Introduction to Accounting</td>\n",
       "      <td>{'name': 'ACCTG', 'description': 'Accounting',...</td>\n",
       "      <td>2018-12-21</td>\n",
       "      <td>1</td>\n",
       "    </tr>\n",
       "    <tr>\n",
       "      <th>1</th>\n",
       "      <td>ACCTG180</td>\n",
       "      <td>True</td>\n",
       "      <td>2020-01-01</td>\n",
       "      <td>V1g4Sol3sW</td>\n",
       "      <td>5da0e7a7783602240012c9cb</td>\n",
       "      <td>Survey of Accounting</td>\n",
       "      <td>{'name': 'ACCTG', 'description': 'Accounting',...</td>\n",
       "      <td>2019-12-01</td>\n",
       "      <td>1</td>\n",
       "    </tr>\n",
       "    <tr>\n",
       "      <th>2</th>\n",
       "      <td>ACCTG201</td>\n",
       "      <td>True</td>\n",
       "      <td>2020-01-01</td>\n",
       "      <td>EkrHil3oZ</td>\n",
       "      <td>5da7a52d25c43024004548bf</td>\n",
       "      <td>Financial Accounting</td>\n",
       "      <td>{'name': 'ACCTG', 'description': 'Accounting',...</td>\n",
       "      <td>2019-12-01</td>\n",
       "      <td>1</td>\n",
       "    </tr>\n",
       "    <tr>\n",
       "      <th>3</th>\n",
       "      <td>ACCTG202</td>\n",
       "      <td>True</td>\n",
       "      <td>2020-01-01</td>\n",
       "      <td>Vy8rsxhiW</td>\n",
       "      <td>5da8a5c19a654a2400d2eeb3</td>\n",
       "      <td>Managerial Accounting</td>\n",
       "      <td>{'name': 'ACCTG', 'description': 'Accounting',...</td>\n",
       "      <td>2019-12-01</td>\n",
       "      <td>1</td>\n",
       "    </tr>\n",
       "    <tr>\n",
       "      <th>4</th>\n",
       "      <td>ACCTG205</td>\n",
       "      <td>True</td>\n",
       "      <td>2022-01-01</td>\n",
       "      <td>NkxUrjehs-</td>\n",
       "      <td>6202ca0aaa637727f9b984da</td>\n",
       "      <td>Accounting Software</td>\n",
       "      <td>{'name': 'ACCTG', 'description': 'Accounting',...</td>\n",
       "      <td>2021-12-01</td>\n",
       "      <td>1</td>\n",
       "    </tr>\n",
       "    <tr>\n",
       "      <th>...</th>\n",
       "      <td>...</td>\n",
       "      <td>...</td>\n",
       "      <td>...</td>\n",
       "      <td>...</td>\n",
       "      <td>...</td>\n",
       "      <td>...</td>\n",
       "      <td>...</td>\n",
       "      <td>...</td>\n",
       "      <td>...</td>\n",
       "    </tr>\n",
       "    <tr>\n",
       "      <th>2094</th>\n",
       "      <td>WELD329</td>\n",
       "      <td>True</td>\n",
       "      <td>2022-01-01</td>\n",
       "      <td>4kIpgbho-</td>\n",
       "      <td>6042c80977e1c400270d89bb</td>\n",
       "      <td>Welding Codes, Certification &amp; Inspection</td>\n",
       "      <td>{'name': 'WELD', 'description': 'Welding', 'id...</td>\n",
       "      <td>2021-12-01</td>\n",
       "      <td>1</td>\n",
       "    </tr>\n",
       "    <tr>\n",
       "      <th>2095</th>\n",
       "      <td>WELD338</td>\n",
       "      <td>True</td>\n",
       "      <td>2017-01-01</td>\n",
       "      <td>N1g86g-hib</td>\n",
       "      <td>b17972a7-c38f-4b33-9a7b-3c08f8d9f86c</td>\n",
       "      <td>Welding Automation</td>\n",
       "      <td>{'name': 'WELD', 'description': 'Welding', 'id...</td>\n",
       "      <td>2017-01-01</td>\n",
       "      <td>1</td>\n",
       "    </tr>\n",
       "    <tr>\n",
       "      <th>2096</th>\n",
       "      <td>WELD350</td>\n",
       "      <td>True</td>\n",
       "      <td>2022-01-01</td>\n",
       "      <td>EJWLTlW2jZ</td>\n",
       "      <td>6063af60b548f800261b9638</td>\n",
       "      <td>Physical Metallurgy</td>\n",
       "      <td>{'name': 'WELD', 'description': 'Welding', 'id...</td>\n",
       "      <td>2021-12-01</td>\n",
       "      <td>1</td>\n",
       "    </tr>\n",
       "    <tr>\n",
       "      <th>2097</th>\n",
       "      <td>WELD480</td>\n",
       "      <td>True</td>\n",
       "      <td>2022-01-01</td>\n",
       "      <td>EkG86l-3s-</td>\n",
       "      <td>6042c4c8639c000028829e4a</td>\n",
       "      <td>Welding Fabrication</td>\n",
       "      <td>{'name': 'WELD', 'description': 'Welding', 'id...</td>\n",
       "      <td>2021-12-01</td>\n",
       "      <td>1</td>\n",
       "    </tr>\n",
       "    <tr>\n",
       "      <th>2098</th>\n",
       "      <td>WELD490R</td>\n",
       "      <td>True</td>\n",
       "      <td>2022-01-01</td>\n",
       "      <td>HJuZiFLSw</td>\n",
       "      <td>5f690b00634e4900264af55f</td>\n",
       "      <td>Special Topics in Welding</td>\n",
       "      <td>{'name': 'WELD', 'description': 'Welding', 'id...</td>\n",
       "      <td>2021-12-01</td>\n",
       "      <td>1</td>\n",
       "    </tr>\n",
       "  </tbody>\n",
       "</table>\n",
       "<p>2099 rows × 9 columns</p>\n",
       "</div>"
      ],
      "text/plain": [
       "     __catalogCourseId  __passedCatalogQuery   dateStart         pid  \\\n",
       "0             ACCTG100                  True  2019-01-01   414Six2j-   \n",
       "1             ACCTG180                  True  2020-01-01  V1g4Sol3sW   \n",
       "2             ACCTG201                  True  2020-01-01   EkrHil3oZ   \n",
       "3             ACCTG202                  True  2020-01-01   Vy8rsxhiW   \n",
       "4             ACCTG205                  True  2022-01-01  NkxUrjehs-   \n",
       "...                ...                   ...         ...         ...   \n",
       "2094           WELD329                  True  2022-01-01   4kIpgbho-   \n",
       "2095           WELD338                  True  2017-01-01  N1g86g-hib   \n",
       "2096           WELD350                  True  2022-01-01  EJWLTlW2jZ   \n",
       "2097           WELD480                  True  2022-01-01  EkG86l-3s-   \n",
       "2098          WELD490R                  True  2022-01-01   HJuZiFLSw   \n",
       "\n",
       "                                        id  \\\n",
       "0                 5a6a3fb5449c7c2e00c517af   \n",
       "1                 5da0e7a7783602240012c9cb   \n",
       "2                 5da7a52d25c43024004548bf   \n",
       "3                 5da8a5c19a654a2400d2eeb3   \n",
       "4                 6202ca0aaa637727f9b984da   \n",
       "...                                    ...   \n",
       "2094              6042c80977e1c400270d89bb   \n",
       "2095  b17972a7-c38f-4b33-9a7b-3c08f8d9f86c   \n",
       "2096              6063af60b548f800261b9638   \n",
       "2097              6042c4c8639c000028829e4a   \n",
       "2098              5f690b00634e4900264af55f   \n",
       "\n",
       "                                          title  \\\n",
       "0                    Introduction to Accounting   \n",
       "1                          Survey of Accounting   \n",
       "2                          Financial Accounting   \n",
       "3                         Managerial Accounting   \n",
       "4                           Accounting Software   \n",
       "...                                         ...   \n",
       "2094  Welding Codes, Certification & Inspection   \n",
       "2095                         Welding Automation   \n",
       "2096                        Physical Metallurgy   \n",
       "2097                        Welding Fabrication   \n",
       "2098                  Special Topics in Welding   \n",
       "\n",
       "                                            subjectCode catalogActivationDate  \\\n",
       "0     {'name': 'ACCTG', 'description': 'Accounting',...            2018-12-21   \n",
       "1     {'name': 'ACCTG', 'description': 'Accounting',...            2019-12-01   \n",
       "2     {'name': 'ACCTG', 'description': 'Accounting',...            2019-12-01   \n",
       "3     {'name': 'ACCTG', 'description': 'Accounting',...            2019-12-01   \n",
       "4     {'name': 'ACCTG', 'description': 'Accounting',...            2021-12-01   \n",
       "...                                                 ...                   ...   \n",
       "2094  {'name': 'WELD', 'description': 'Welding', 'id...            2021-12-01   \n",
       "2095  {'name': 'WELD', 'description': 'Welding', 'id...            2017-01-01   \n",
       "2096  {'name': 'WELD', 'description': 'Welding', 'id...            2021-12-01   \n",
       "2097  {'name': 'WELD', 'description': 'Welding', 'id...            2021-12-01   \n",
       "2098  {'name': 'WELD', 'description': 'Welding', 'id...            2021-12-01   \n",
       "\n",
       "      _score  \n",
       "0          1  \n",
       "1          1  \n",
       "2          1  \n",
       "3          1  \n",
       "4          1  \n",
       "...      ...  \n",
       "2094       1  \n",
       "2095       1  \n",
       "2096       1  \n",
       "2097       1  \n",
       "2098       1  \n",
       "\n",
       "[2099 rows x 9 columns]"
      ]
     },
     "execution_count": 16,
     "metadata": {},
     "output_type": "execute_result"
    }
   ],
   "source": [
    "df"
   ]
  },
  {
   "cell_type": "code",
   "execution_count": 11,
   "metadata": {},
   "outputs": [
    {
     "data": {
      "text/html": [
       "<div>\n",
       "<style scoped>\n",
       "    .dataframe tbody tr th:only-of-type {\n",
       "        vertical-align: middle;\n",
       "    }\n",
       "\n",
       "    .dataframe tbody tr th {\n",
       "        vertical-align: top;\n",
       "    }\n",
       "\n",
       "    .dataframe thead th {\n",
       "        text-align: right;\n",
       "    }\n",
       "</style>\n",
       "<table border=\"1\" class=\"dataframe\">\n",
       "  <thead>\n",
       "    <tr style=\"text-align: right;\">\n",
       "      <th></th>\n",
       "      <th>name</th>\n",
       "      <th>description</th>\n",
       "      <th>id</th>\n",
       "      <th>linkedGroup</th>\n",
       "    </tr>\n",
       "  </thead>\n",
       "  <tbody>\n",
       "    <tr>\n",
       "      <th>0</th>\n",
       "      <td>ACCTG</td>\n",
       "      <td>Accounting</td>\n",
       "      <td>45beaa83-7d3c-4760-bdb1-6813f94d4097</td>\n",
       "      <td>578be6e1aeb3767907f3b4e8</td>\n",
       "    </tr>\n",
       "    <tr>\n",
       "      <th>1</th>\n",
       "      <td>ACCTG</td>\n",
       "      <td>Accounting</td>\n",
       "      <td>45beaa83-7d3c-4760-bdb1-6813f94d4097</td>\n",
       "      <td>578be6e1aeb3767907f3b4e8</td>\n",
       "    </tr>\n",
       "    <tr>\n",
       "      <th>2</th>\n",
       "      <td>ACCTG</td>\n",
       "      <td>Accounting</td>\n",
       "      <td>45beaa83-7d3c-4760-bdb1-6813f94d4097</td>\n",
       "      <td>578be6e1aeb3767907f3b4e8</td>\n",
       "    </tr>\n",
       "    <tr>\n",
       "      <th>3</th>\n",
       "      <td>ACCTG</td>\n",
       "      <td>Accounting</td>\n",
       "      <td>45beaa83-7d3c-4760-bdb1-6813f94d4097</td>\n",
       "      <td>578be6e1aeb3767907f3b4e8</td>\n",
       "    </tr>\n",
       "    <tr>\n",
       "      <th>4</th>\n",
       "      <td>ACCTG</td>\n",
       "      <td>Accounting</td>\n",
       "      <td>45beaa83-7d3c-4760-bdb1-6813f94d4097</td>\n",
       "      <td>578be6e1aeb3767907f3b4e8</td>\n",
       "    </tr>\n",
       "    <tr>\n",
       "      <th>...</th>\n",
       "      <td>...</td>\n",
       "      <td>...</td>\n",
       "      <td>...</td>\n",
       "      <td>...</td>\n",
       "    </tr>\n",
       "    <tr>\n",
       "      <th>2094</th>\n",
       "      <td>WELD</td>\n",
       "      <td>Welding</td>\n",
       "      <td>29ee52d3-030c-4823-a922-fe830800138c</td>\n",
       "      <td>59d3a033b0e9130001e8a713</td>\n",
       "    </tr>\n",
       "    <tr>\n",
       "      <th>2095</th>\n",
       "      <td>WELD</td>\n",
       "      <td>Welding</td>\n",
       "      <td>29ee52d3-030c-4823-a922-fe830800138c</td>\n",
       "      <td>59d3a033b0e9130001e8a713</td>\n",
       "    </tr>\n",
       "    <tr>\n",
       "      <th>2096</th>\n",
       "      <td>WELD</td>\n",
       "      <td>Welding</td>\n",
       "      <td>29ee52d3-030c-4823-a922-fe830800138c</td>\n",
       "      <td>59d3a033b0e9130001e8a713</td>\n",
       "    </tr>\n",
       "    <tr>\n",
       "      <th>2097</th>\n",
       "      <td>WELD</td>\n",
       "      <td>Welding</td>\n",
       "      <td>29ee52d3-030c-4823-a922-fe830800138c</td>\n",
       "      <td>59d3a033b0e9130001e8a713</td>\n",
       "    </tr>\n",
       "    <tr>\n",
       "      <th>2098</th>\n",
       "      <td>WELD</td>\n",
       "      <td>Welding</td>\n",
       "      <td>29ee52d3-030c-4823-a922-fe830800138c</td>\n",
       "      <td>59d3a033b0e9130001e8a713</td>\n",
       "    </tr>\n",
       "  </tbody>\n",
       "</table>\n",
       "<p>2099 rows × 4 columns</p>\n",
       "</div>"
      ],
      "text/plain": [
       "       name description                                    id  \\\n",
       "0     ACCTG  Accounting  45beaa83-7d3c-4760-bdb1-6813f94d4097   \n",
       "1     ACCTG  Accounting  45beaa83-7d3c-4760-bdb1-6813f94d4097   \n",
       "2     ACCTG  Accounting  45beaa83-7d3c-4760-bdb1-6813f94d4097   \n",
       "3     ACCTG  Accounting  45beaa83-7d3c-4760-bdb1-6813f94d4097   \n",
       "4     ACCTG  Accounting  45beaa83-7d3c-4760-bdb1-6813f94d4097   \n",
       "...     ...         ...                                   ...   \n",
       "2094   WELD     Welding  29ee52d3-030c-4823-a922-fe830800138c   \n",
       "2095   WELD     Welding  29ee52d3-030c-4823-a922-fe830800138c   \n",
       "2096   WELD     Welding  29ee52d3-030c-4823-a922-fe830800138c   \n",
       "2097   WELD     Welding  29ee52d3-030c-4823-a922-fe830800138c   \n",
       "2098   WELD     Welding  29ee52d3-030c-4823-a922-fe830800138c   \n",
       "\n",
       "                   linkedGroup  \n",
       "0     578be6e1aeb3767907f3b4e8  \n",
       "1     578be6e1aeb3767907f3b4e8  \n",
       "2     578be6e1aeb3767907f3b4e8  \n",
       "3     578be6e1aeb3767907f3b4e8  \n",
       "4     578be6e1aeb3767907f3b4e8  \n",
       "...                        ...  \n",
       "2094  59d3a033b0e9130001e8a713  \n",
       "2095  59d3a033b0e9130001e8a713  \n",
       "2096  59d3a033b0e9130001e8a713  \n",
       "2097  59d3a033b0e9130001e8a713  \n",
       "2098  59d3a033b0e9130001e8a713  \n",
       "\n",
       "[2099 rows x 4 columns]"
      ]
     },
     "execution_count": 11,
     "metadata": {},
     "output_type": "execute_result"
    }
   ],
   "source": [
    "df.subjectCode.apply(pd.Series)"
   ]
  },
  {
   "cell_type": "code",
   "execution_count": null,
   "metadata": {},
   "outputs": [],
   "source": []
  },
  {
   "cell_type": "code",
   "execution_count": null,
   "metadata": {},
   "outputs": [],
   "source": []
  },
  {
   "cell_type": "code",
   "execution_count": null,
   "metadata": {},
   "outputs": [],
   "source": []
  },
  {
   "cell_type": "code",
   "execution_count": 2,
   "metadata": {},
   "outputs": [
    {
     "name": "stdout",
     "output_type": "stream",
     "text": [
      "\n",
      "<center>\n",
      "<img source=\"https://www.camara.cl/img.aspx?prmID=GRCL1096\">\n",
      "</center>\n",
      "\n"
     ]
    }
   ],
   "source": [
    "\n",
    "url_img = \"https://www.camara.cl/img.aspx?prmID=GRCL1096\"\n",
    "\n",
    "print(f'''\n",
    "<center>\n",
    "<img source=\"{url_img}\">\n",
    "</center>\n",
    "''')"
   ]
  },
  {
   "cell_type": "code",
   "execution_count": null,
   "metadata": {},
   "outputs": [],
   "source": []
  }
 ],
 "metadata": {
  "kernelspec": {
   "display_name": "Python 3.9.0 64-bit",
   "language": "python",
   "name": "python3"
  },
  "language_info": {
   "codemirror_mode": {
    "name": "ipython",
    "version": 3
   },
   "file_extension": ".py",
   "mimetype": "text/x-python",
   "name": "python",
   "nbconvert_exporter": "python",
   "pygments_lexer": "ipython3",
   "version": "3.9.0"
  },
  "orig_nbformat": 4,
  "vscode": {
   "interpreter": {
    "hash": "397704579725e15f5c7cb49fe5f0341eb7531c82d19f2c29d197e8b64ab5776b"
   }
  }
 },
 "nbformat": 4,
 "nbformat_minor": 2
}
