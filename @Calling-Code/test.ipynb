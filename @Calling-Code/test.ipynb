{
 "cells": [
  {
   "cell_type": "code",
   "execution_count": null,
   "metadata": {},
   "outputs": [],
   "source": [
    "option = 'Billionaires'"
   ]
  },
  {
   "cell_type": "code",
   "execution_count": null,
   "metadata": {},
   "outputs": [],
   "source": [
    "match option:\n",
    "    case \"Billionaires\":\n",
    "        print(\"You can become a web developer.\")\n",
    "\n",
    "    case \"News\":\n",
    "        print(\"You can become a Data Scientist\")\n",
    "\n",
    "    case \"Forbes\":\n",
    "        print(\"You can become a backend developer\")"
   ]
  },
  {
   "cell_type": "code",
   "execution_count": null,
   "metadata": {},
   "outputs": [],
   "source": [
    "class Webscrape:\n",
    "  def __init__(self, website, url):\n",
    "    self.website = website\n",
    "    self.url = url\n",
    "\n",
    "p1 = Webscrape(\"John\", 36)\n",
    "p2 = Webscrape('Billionaires', 44)\n",
    "\n",
    "print(p1.website)\n",
    "print(p1.url)\n",
    "\n",
    "print(p2.website)\n",
    "print(p2.url)\n",
    "\n"
   ]
  },
  {
   "cell_type": "code",
   "execution_count": 1,
   "metadata": {},
   "outputs": [],
   "source": [
    "import Root"
   ]
  },
  {
   "cell_type": "code",
   "execution_count": 9,
   "metadata": {},
   "outputs": [
    {
     "data": {
      "text/plain": [
       "'Surplus Store Variable'"
      ]
     },
     "execution_count": 9,
     "metadata": {},
     "output_type": "execute_result"
    }
   ],
   "source": [
    "from Projects import SurplusStore\n",
    "\n",
    "SurplusStore.cat"
   ]
  },
  {
   "cell_type": "code",
   "execution_count": 14,
   "metadata": {},
   "outputs": [],
   "source": [
    "options = [\n",
    "    'Surplus Store - BYUI',\n",
    "    'Forbes - Universities',\n",
    "    'Job Board - BYUI',\n",
    "    'Class Catalog - BYUI',\n",
    "    'Forbes - Billionaries',\n",
    "    'News - CBS',\n",
    "    'Políticos Españoles',\n",
    "    'Irvine Spectrum Center',\n",
    "    'Politicos Chilenos',\n",
    "    'FIFA World Cup',\n",
    "    'SINCA MMA Gob',\n",
    "    'Mutual App Feedback',\n",
    "    'US House of Representatives',\n",
    "    'Financial Data',\n",
    "    'Country Code',\n",
    "    'Billionaires',\n",
    "    'test']\n",
    "    \n",
    "options.sort()"
   ]
  },
  {
   "cell_type": "code",
   "execution_count": 23,
   "metadata": {},
   "outputs": [],
   "source": [
    "projects = {\n",
    "   'Billionaires':1,\n",
    "   'Class Catalog - BYUI':2,\n",
    "   'Country Code':3,\n",
    "   'FIFA World Cup':4,\n",
    "   'Financial Data':5,\n",
    "   'Forbes - Billionaries':6,\n",
    "   'Forbes - Universities':7,\n",
    "   'Irvine Spectrum Center':8,\n",
    "   'Job Board - BYUI':9,\n",
    "   'Mutual App Feedback':10,\n",
    "   'News - CBS':11,\n",
    "   'Politicos Chilenos':12,\n",
    "   'Políticos Españoles':13,\n",
    "   'SINCA MMA Gob':14,\n",
    "   'Surplus Store - BYUI':15,\n",
    "   'US House of Representatives':16,\n",
    "   'test':17\n",
    "}"
   ]
  },
  {
   "cell_type": "code",
   "execution_count": 19,
   "metadata": {},
   "outputs": [],
   "source": [
    "projects = {\n",
    "   1:'Billionaires',\n",
    "   2:'Class Catalog - BYUI',\n",
    "   3:'Country Code',\n",
    "   4:'FIFA World Cup',\n",
    "   5:'Financial Data',\n",
    "   6:'Forbes - Billionaries',\n",
    "   7:'Forbes - Universities',\n",
    "   8:'Irvine Spectrum Center',\n",
    "   9:'Job Board - BYUI',\n",
    "   10:'Mutual App Feedback',\n",
    "   11:'News - CBS',\n",
    "   12:'Politicos Chilenos',\n",
    "   13:'Políticos Españoles',\n",
    "   14:'SINCA MMA Gob',\n",
    "   15:'Surplus Store - BYUI',\n",
    "   16:'US House of Representatives',\n",
    "   17:'test'\n",
    "}"
   ]
  },
  {
   "cell_type": "code",
   "execution_count": 24,
   "metadata": {},
   "outputs": [
    {
     "data": {
      "text/plain": [
       "17"
      ]
     },
     "execution_count": 24,
     "metadata": {},
     "output_type": "execute_result"
    }
   ],
   "source": [
    "projects['test']"
   ]
  },
  {
   "cell_type": "code",
   "execution_count": 1,
   "metadata": {},
   "outputs": [
    {
     "data": {
      "text/html": [
       "<div>\n",
       "<style scoped>\n",
       "    .dataframe tbody tr th:only-of-type {\n",
       "        vertical-align: middle;\n",
       "    }\n",
       "\n",
       "    .dataframe tbody tr th {\n",
       "        vertical-align: top;\n",
       "    }\n",
       "\n",
       "    .dataframe thead th {\n",
       "        text-align: right;\n",
       "    }\n",
       "</style>\n",
       "<table border=\"1\" class=\"dataframe\">\n",
       "  <thead>\n",
       "    <tr style=\"text-align: right;\">\n",
       "      <th></th>\n",
       "      <th>Country</th>\n",
       "      <th>Name</th>\n",
       "      <th>POS</th>\n",
       "      <th>AGE</th>\n",
       "      <th>HT</th>\n",
       "      <th>WT</th>\n",
       "    </tr>\n",
       "  </thead>\n",
       "  <tbody>\n",
       "    <tr>\n",
       "      <th>0</th>\n",
       "      <td>Argentina</td>\n",
       "      <td>Franco Armani</td>\n",
       "      <td>Goalkeeper</td>\n",
       "      <td>35</td>\n",
       "      <td>187.96</td>\n",
       "      <td>88.0</td>\n",
       "    </tr>\n",
       "    <tr>\n",
       "      <th>1</th>\n",
       "      <td>Argentina</td>\n",
       "      <td>Emiliano Martinez</td>\n",
       "      <td>Goalkeeper</td>\n",
       "      <td>30</td>\n",
       "      <td>193.04</td>\n",
       "      <td>88.9</td>\n",
       "    </tr>\n",
       "    <tr>\n",
       "      <th>2</th>\n",
       "      <td>Argentina</td>\n",
       "      <td>Geronimo Rulli</td>\n",
       "      <td>Goalkeeper</td>\n",
       "      <td>30</td>\n",
       "      <td>187.96</td>\n",
       "      <td>83.9</td>\n",
       "    </tr>\n",
       "    <tr>\n",
       "      <th>3</th>\n",
       "      <td>Argentina</td>\n",
       "      <td>Marcos Acuna</td>\n",
       "      <td>Defender</td>\n",
       "      <td>30</td>\n",
       "      <td>170.18</td>\n",
       "      <td>68.9</td>\n",
       "    </tr>\n",
       "    <tr>\n",
       "      <th>4</th>\n",
       "      <td>Argentina</td>\n",
       "      <td>Juan Foyth</td>\n",
       "      <td>Defender</td>\n",
       "      <td>24</td>\n",
       "      <td>177.80</td>\n",
       "      <td>68.9</td>\n",
       "    </tr>\n",
       "    <tr>\n",
       "      <th>...</th>\n",
       "      <td>...</td>\n",
       "      <td>...</td>\n",
       "      <td>...</td>\n",
       "      <td>...</td>\n",
       "      <td>...</td>\n",
       "      <td>...</td>\n",
       "    </tr>\n",
       "    <tr>\n",
       "      <th>1370</th>\n",
       "      <td>Wales</td>\n",
       "      <td>Jonathan Williams</td>\n",
       "      <td>Midfielder</td>\n",
       "      <td>28</td>\n",
       "      <td>167.64</td>\n",
       "      <td>59.9</td>\n",
       "    </tr>\n",
       "    <tr>\n",
       "      <th>1371</th>\n",
       "      <td>Wales</td>\n",
       "      <td>Gareth Bale</td>\n",
       "      <td>Forward</td>\n",
       "      <td>33</td>\n",
       "      <td>182.88</td>\n",
       "      <td>81.6</td>\n",
       "    </tr>\n",
       "    <tr>\n",
       "      <th>1372</th>\n",
       "      <td>Wales</td>\n",
       "      <td>Wes Burns</td>\n",
       "      <td>Forward</td>\n",
       "      <td>27</td>\n",
       "      <td>172.72</td>\n",
       "      <td>67.6</td>\n",
       "    </tr>\n",
       "    <tr>\n",
       "      <th>1375</th>\n",
       "      <td>Wales</td>\n",
       "      <td>Kieffer Moore</td>\n",
       "      <td>Forward</td>\n",
       "      <td>30</td>\n",
       "      <td>195.58</td>\n",
       "      <td>82.5</td>\n",
       "    </tr>\n",
       "    <tr>\n",
       "      <th>1376</th>\n",
       "      <td>Wales</td>\n",
       "      <td>Tyler Roberts</td>\n",
       "      <td>Forward</td>\n",
       "      <td>23</td>\n",
       "      <td>177.80</td>\n",
       "      <td>74.8</td>\n",
       "    </tr>\n",
       "  </tbody>\n",
       "</table>\n",
       "<p>1085 rows × 6 columns</p>\n",
       "</div>"
      ],
      "text/plain": [
       "        Country               Name         POS  AGE      HT    WT\n",
       "0     Argentina      Franco Armani  Goalkeeper   35  187.96  88.0\n",
       "1     Argentina  Emiliano Martinez  Goalkeeper   30  193.04  88.9\n",
       "2     Argentina     Geronimo Rulli  Goalkeeper   30  187.96  83.9\n",
       "3     Argentina       Marcos Acuna    Defender   30  170.18  68.9\n",
       "4     Argentina         Juan Foyth    Defender   24  177.80  68.9\n",
       "...         ...                ...         ...  ...     ...   ...\n",
       "1370      Wales  Jonathan Williams  Midfielder   28  167.64  59.9\n",
       "1371      Wales        Gareth Bale     Forward   33  182.88  81.6\n",
       "1372      Wales          Wes Burns     Forward   27  172.72  67.6\n",
       "1375      Wales      Kieffer Moore     Forward   30  195.58  82.5\n",
       "1376      Wales      Tyler Roberts     Forward   23  177.80  74.8\n",
       "\n",
       "[1085 rows x 6 columns]"
      ]
     },
     "execution_count": 1,
     "metadata": {},
     "output_type": "execute_result"
    }
   ],
   "source": [
    "import requests\n",
    "from bs4 import BeautifulSoup\n",
    "import pandas as pd \n",
    "\n",
    "url = 'https://www.foxsports.com/soccer/2022-fifa-world-cup/teams'\n",
    "response = requests.get(url)\n",
    "soup = BeautifulSoup(response.text, 'html.parser')\n",
    "country_name = [x.text for x in soup.find_all('h3')]\n",
    "countries = [x['href'] for x in soup.find_all('a',{'class':'entity-list-row-container image-logo'})]\n",
    "\n",
    "\n",
    "# ---------------------------------------- running time: 1m 20s ---------------------------------------- #\n",
    "\n",
    "rows=[]\n",
    "\n",
    "for idx,country in enumerate(countries):\n",
    "\n",
    "    url_root = f'https://www.foxsports.com{country}-roster'\n",
    "    soup = BeautifulSoup(requests.get(url_root).text, 'html.parser')\n",
    "\n",
    "    table = soup.find('div',{'view':'team'})\n",
    "    title = [x.text.strip() for x in table.find_all('tr')[0]]\n",
    "    \n",
    "    for group in table.find_all('tbody')[:-1]:\n",
    "        for player in group:\n",
    "            row={}\n",
    "            row['Country'] = country_name[idx].capitalize()\n",
    "            row['Name'] = player.find('h3').text\n",
    "            row[title[1]] = player.find('td',{'data-index':'1'}).text.strip()\n",
    "            row[title[2]] = player.find('td',{'data-index':'2'}).text.strip()\n",
    "            row[title[3]] = player.find('td',{'data-index':'3'}).text.strip()\n",
    "            row[title[4]] = player.find('td',{'data-index':'4'}).text.strip()\n",
    "            rows.append(row)\n",
    "\n",
    "data = pd.DataFrame(rows)\n",
    "\n",
    "data = data[~data.isin(['-']).any(axis=1)] # drop rows with missing data\n",
    "\n",
    "# POS_mapped = {'G': 'Goalkeeper', 'D': 'Defender', 'M': 'Midfielder', 'F': 'Forward'}\n",
    "\n",
    "# data.replace({title[1]: POS_mapped}, inplace=True)\n",
    "\n",
    "# data[title[2]] = pd.to_numeric(data[title[2]]) # age column to number\n",
    "\n",
    "# data[title[3]] = data[title[3]].apply(lambda x: (int(x.split('\\'')[0])*12 + int(x.split('\\'')[1].replace('\\\"',''))) * 2.54) # inches to centimeters\n",
    "\n",
    "# # weight column to number\n",
    "# data[title[4]] = data[title[4]].apply(lambda x: round(int(x.split(' ')[0]) / 2.205,1)) # lbs to kg\n",
    "\n",
    "# data"
   ]
  },
  {
   "cell_type": "code",
   "execution_count": 2,
   "metadata": {},
   "outputs": [
    {
     "data": {
      "text/plain": [
       "['GOALKEEPER', 'POS', 'AGE', 'HT', 'WT']"
      ]
     },
     "execution_count": 2,
     "metadata": {},
     "output_type": "execute_result"
    }
   ],
   "source": [
    "title"
   ]
  },
  {
   "cell_type": "code",
   "execution_count": null,
   "metadata": {},
   "outputs": [],
   "source": []
  }
 ],
 "metadata": {
  "kernelspec": {
   "display_name": "Python 3.9.0 64-bit",
   "language": "python",
   "name": "python3"
  },
  "language_info": {
   "codemirror_mode": {
    "name": "ipython",
    "version": 3
   },
   "file_extension": ".py",
   "mimetype": "text/x-python",
   "name": "python",
   "nbconvert_exporter": "python",
   "pygments_lexer": "ipython3",
   "version": "3.9.0"
  },
  "orig_nbformat": 4,
  "vscode": {
   "interpreter": {
    "hash": "7812ea015bdcee6f23a998adcdd2ef97c151c0c241b7b7070987d9313e41299d"
   }
  }
 },
 "nbformat": 4,
 "nbformat_minor": 2
}
