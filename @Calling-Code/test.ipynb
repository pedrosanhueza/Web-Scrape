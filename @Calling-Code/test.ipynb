{
 "cells": [
  {
   "cell_type": "code",
   "execution_count": null,
   "metadata": {},
   "outputs": [],
   "source": [
    "option = 'Billionaires'"
   ]
  },
  {
   "cell_type": "code",
   "execution_count": null,
   "metadata": {},
   "outputs": [],
   "source": [
    "match option:\n",
    "    case \"Billionaires\":\n",
    "        print(\"You can become a web developer.\")\n",
    "\n",
    "    case \"News\":\n",
    "        print(\"You can become a Data Scientist\")\n",
    "\n",
    "    case \"Forbes\":\n",
    "        print(\"You can become a backend developer\")"
   ]
  },
  {
   "cell_type": "code",
   "execution_count": null,
   "metadata": {},
   "outputs": [],
   "source": [
    "class Webscrape:\n",
    "  def __init__(self, website, url):\n",
    "    self.website = website\n",
    "    self.url = url\n",
    "\n",
    "p1 = Webscrape(\"John\", 36)\n",
    "p2 = Webscrape('Billionaires', 44)\n",
    "\n",
    "print(p1.website)\n",
    "print(p1.url)\n",
    "\n",
    "print(p2.website)\n",
    "print(p2.url)\n",
    "\n"
   ]
  },
  {
   "cell_type": "code",
   "execution_count": 6,
   "metadata": {},
   "outputs": [],
   "source": [
    "import Root"
   ]
  },
  {
   "cell_type": "code",
   "execution_count": 8,
   "metadata": {},
   "outputs": [
    {
     "ename": "NameError",
     "evalue": "free variable 'Person' referenced before assignment in enclosing scope",
     "output_type": "error",
     "traceback": [
      "\u001b[0;31m---------------------------------------------------------------------------\u001b[0m",
      "\u001b[0;31mNameError\u001b[0m                                 Traceback (most recent call last)",
      "Cell \u001b[0;32mIn [8], line 1\u001b[0m\n\u001b[0;32m----> 1\u001b[0m \u001b[43mRoot\u001b[49m\u001b[38;5;241;43m.\u001b[39;49m\u001b[43mmaindata\u001b[49m\u001b[43m(\u001b[49m\u001b[43m)\u001b[49m\n",
      "File \u001b[0;32m~/EXOXY/Personal Projects/Programming/Public/Web_Scrape/@Calling-Code/Root.py:2\u001b[0m, in \u001b[0;36mmaindata\u001b[0;34m()\u001b[0m\n\u001b[1;32m      1\u001b[0m \u001b[39mdef\u001b[39;00m \u001b[39mmaindata\u001b[39m():\n\u001b[0;32m----> 2\u001b[0m     \u001b[39mclass\u001b[39;00m \u001b[39mPerson\u001b[39;00m:\n\u001b[1;32m      3\u001b[0m         \u001b[39mdef\u001b[39;00m \u001b[39m__init__\u001b[39m(\u001b[39mself\u001b[39m, name, age):\n\u001b[1;32m      4\u001b[0m             \u001b[39mself\u001b[39m\u001b[39m.\u001b[39mname \u001b[39m=\u001b[39m name\n",
      "File \u001b[0;32m~/EXOXY/Personal Projects/Programming/Public/Web_Scrape/@Calling-Code/Root.py:7\u001b[0m, in \u001b[0;36mmaindata.<locals>.Person\u001b[0;34m()\u001b[0m\n\u001b[1;32m      4\u001b[0m     \u001b[39mself\u001b[39m\u001b[39m.\u001b[39mname \u001b[39m=\u001b[39m name\n\u001b[1;32m      5\u001b[0m     \u001b[39mself\u001b[39m\u001b[39m.\u001b[39mage \u001b[39m=\u001b[39m age\n\u001b[0;32m----> 7\u001b[0m p1 \u001b[39m=\u001b[39m Person(\u001b[39m\"\u001b[39m\u001b[39mJohn\u001b[39m\u001b[39m\"\u001b[39m, \u001b[39m36\u001b[39m)\n\u001b[1;32m      9\u001b[0m \u001b[39mprint\u001b[39m(p1\u001b[39m.\u001b[39mname)\n\u001b[1;32m     10\u001b[0m \u001b[39mprint\u001b[39m(p1\u001b[39m.\u001b[39mage)\n",
      "\u001b[0;31mNameError\u001b[0m: free variable 'Person' referenced before assignment in enclosing scope"
     ]
    }
   ],
   "source": [
    "Root.maindata()"
   ]
  },
  {
   "cell_type": "code",
   "execution_count": null,
   "metadata": {},
   "outputs": [],
   "source": []
  }
 ],
 "metadata": {
  "kernelspec": {
   "display_name": "Python 3.9.0 64-bit",
   "language": "python",
   "name": "python3"
  },
  "language_info": {
   "codemirror_mode": {
    "name": "ipython",
    "version": 3
   },
   "file_extension": ".py",
   "mimetype": "text/x-python",
   "name": "python",
   "nbconvert_exporter": "python",
   "pygments_lexer": "ipython3",
   "version": "3.10.7"
  },
  "orig_nbformat": 4,
  "vscode": {
   "interpreter": {
    "hash": "aee8b7b246df8f9039afb4144a1f6fd8d2ca17a180786b69acc140d282b71a49"
   }
  }
 },
 "nbformat": 4,
 "nbformat_minor": 2
}
