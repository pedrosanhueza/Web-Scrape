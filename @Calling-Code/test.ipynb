{
 "cells": [
  {
   "cell_type": "code",
   "execution_count": 1,
   "metadata": {},
   "outputs": [],
   "source": [
    "option = 'Billionaires'"
   ]
  },
  {
   "cell_type": "code",
   "execution_count": 2,
   "metadata": {},
   "outputs": [
    {
     "name": "stdout",
     "output_type": "stream",
     "text": [
      "You can become a web developer.\n"
     ]
    }
   ],
   "source": [
    "match option:\n",
    "    case \"Billionaires\":\n",
    "        print(\"You can become a web developer.\")\n",
    "\n",
    "    case \"News\":\n",
    "        print(\"You can become a Data Scientist\")\n",
    "\n",
    "    case \"Forbes\":\n",
    "        print(\"You can become a backend developer\")"
   ]
  },
  {
   "cell_type": "code",
   "execution_count": 11,
   "metadata": {},
   "outputs": [
    {
     "name": "stdout",
     "output_type": "stream",
     "text": [
      "John\n",
      "36\n",
      "Billionaires\n",
      "44\n"
     ]
    }
   ],
   "source": [
    "class Webscrape:\n",
    "  def __init__(self, website, url):\n",
    "    self.website = website\n",
    "    self.url = url\n",
    "\n",
    "p1 = Webscrape(\"John\", 36)\n",
    "p2 = Webscrape('Billionaires', 44)\n",
    "\n",
    "print(p1.website)\n",
    "print(p1.url)\n",
    "\n",
    "print(p2.website)\n",
    "print(p2.url)\n",
    "\n"
   ]
  },
  {
   "cell_type": "code",
   "execution_count": null,
   "metadata": {},
   "outputs": [],
   "source": []
  }
 ],
 "metadata": {
  "kernelspec": {
   "display_name": "Python 3.9.0 64-bit",
   "language": "python",
   "name": "python3"
  },
  "language_info": {
   "codemirror_mode": {
    "name": "ipython",
    "version": 3
   },
   "file_extension": ".py",
   "mimetype": "text/x-python",
   "name": "python",
   "nbconvert_exporter": "python",
   "pygments_lexer": "ipython3",
   "version": "3.10.7"
  },
  "orig_nbformat": 4,
  "vscode": {
   "interpreter": {
    "hash": "aee8b7b246df8f9039afb4144a1f6fd8d2ca17a180786b69acc140d282b71a49"
   }
  }
 },
 "nbformat": 4,
 "nbformat_minor": 2
}
