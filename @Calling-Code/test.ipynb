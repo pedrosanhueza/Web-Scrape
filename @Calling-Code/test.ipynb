{
 "cells": [
  {
   "cell_type": "code",
   "execution_count": null,
   "metadata": {},
   "outputs": [],
   "source": [
    "option = 'Billionaires'"
   ]
  },
  {
   "cell_type": "code",
   "execution_count": null,
   "metadata": {},
   "outputs": [],
   "source": [
    "match option:\n",
    "    case \"Billionaires\":\n",
    "        print(\"You can become a web developer.\")\n",
    "\n",
    "    case \"News\":\n",
    "        print(\"You can become a Data Scientist\")\n",
    "\n",
    "    case \"Forbes\":\n",
    "        print(\"You can become a backend developer\")"
   ]
  },
  {
   "cell_type": "code",
   "execution_count": null,
   "metadata": {},
   "outputs": [],
   "source": [
    "class Webscrape:\n",
    "  def __init__(self, website, url):\n",
    "    self.website = website\n",
    "    self.url = url\n",
    "\n",
    "p1 = Webscrape(\"John\", 36)\n",
    "p2 = Webscrape('Billionaires', 44)\n",
    "\n",
    "print(p1.website)\n",
    "print(p1.url)\n",
    "\n",
    "print(p2.website)\n",
    "print(p2.url)\n",
    "\n"
   ]
  },
  {
   "cell_type": "code",
   "execution_count": 1,
   "metadata": {},
   "outputs": [],
   "source": [
    "import Root"
   ]
  },
  {
   "cell_type": "code",
   "execution_count": 9,
   "metadata": {},
   "outputs": [
    {
     "data": {
      "text/plain": [
       "'Surplus Store Variable'"
      ]
     },
     "execution_count": 9,
     "metadata": {},
     "output_type": "execute_result"
    }
   ],
   "source": [
    "from Projects import SurplusStore\n",
    "\n",
    "SurplusStore.cat"
   ]
  },
  {
   "cell_type": "code",
   "execution_count": 14,
   "metadata": {},
   "outputs": [],
   "source": [
    "options = [\n",
    "    'Surplus Store - BYUI',\n",
    "    'Forbes - Universities',\n",
    "    'Job Board - BYUI',\n",
    "    'Class Catalog - BYUI',\n",
    "    'Forbes - Billionaries',\n",
    "    'News - CBS',\n",
    "    'Políticos Españoles',\n",
    "    'Irvine Spectrum Center',\n",
    "    'Politicos Chilenos',\n",
    "    'FIFA World Cup',\n",
    "    'SINCA MMA Gob',\n",
    "    'Mutual App Feedback',\n",
    "    'US House of Representatives',\n",
    "    'Financial Data',\n",
    "    'Country Code',\n",
    "    'Billionaires',\n",
    "    'test']\n",
    "    \n",
    "options.sort()"
   ]
  },
  {
   "cell_type": "code",
   "execution_count": 16,
   "metadata": {},
   "outputs": [
    {
     "ename": "ModuleNotFoundError",
     "evalue": "No module named 'pandas'",
     "output_type": "error",
     "traceback": [
      "\u001b[0;31m---------------------------------------------------------------------------\u001b[0m",
      "\u001b[0;31mModuleNotFoundError\u001b[0m                       Traceback (most recent call last)",
      "Cell \u001b[0;32mIn [16], line 1\u001b[0m\n\u001b[0;32m----> 1\u001b[0m \u001b[38;5;28;01mimport\u001b[39;00m \u001b[38;5;21;01mpandas\u001b[39;00m \u001b[38;5;28;01mas\u001b[39;00m \u001b[38;5;21;01mpd\u001b[39;00m\n\u001b[1;32m      3\u001b[0m cat \u001b[38;5;241m=\u001b[39m \u001b[38;5;124m'\u001b[39m\u001b[38;5;124mSurplus Store Variable\u001b[39m\u001b[38;5;124m'\u001b[39m\n\u001b[1;32m      5\u001b[0m dog \u001b[38;5;241m=\u001b[39m \u001b[38;5;124m'\u001b[39m\u001b[38;5;124mSurplus Store Variable 1\u001b[39m\u001b[38;5;124m'\u001b[39m\n",
      "\u001b[0;31mModuleNotFoundError\u001b[0m: No module named 'pandas'"
     ]
    }
   ],
   "source": [
    "import pandas as pd\n",
    "\n",
    "cat = 'Surplus Store Variable'\n",
    "\n",
    "dog = 'Surplus Store Variable 1'\n",
    "\n",
    "data = pd.DataFrame(\n",
    "    {'col1': [1, 2], 'col2': [3, 4]}\n",
    ")\n",
    "\n",
    "data"
   ]
  },
  {
   "cell_type": "code",
   "execution_count": null,
   "metadata": {},
   "outputs": [],
   "source": []
  }
 ],
 "metadata": {
  "kernelspec": {
   "display_name": "Python 3.9.0 64-bit",
   "language": "python",
   "name": "python3"
  },
  "language_info": {
   "codemirror_mode": {
    "name": "ipython",
    "version": 3
   },
   "file_extension": ".py",
   "mimetype": "text/x-python",
   "name": "python",
   "nbconvert_exporter": "python",
   "pygments_lexer": "ipython3",
   "version": "3.10.7"
  },
  "orig_nbformat": 4,
  "vscode": {
   "interpreter": {
    "hash": "aee8b7b246df8f9039afb4144a1f6fd8d2ca17a180786b69acc140d282b71a49"
   }
  }
 },
 "nbformat": 4,
 "nbformat_minor": 2
}
