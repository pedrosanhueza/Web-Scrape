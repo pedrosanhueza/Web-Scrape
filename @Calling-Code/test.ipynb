{
 "cells": [
  {
   "cell_type": "code",
   "execution_count": null,
   "metadata": {},
   "outputs": [],
   "source": [
    "options = [\n",
    "    'SurplusSaleItems',\n",
    "    'Forbes-Universities',\n",
    "    'BYUI-JobBoard',\n",
    "    'BYU-Idaho Class Catalog',\n",
    "    'Forbes',\n",
    "    'News',\n",
    "    'Políticos Españoles',\n",
    "    'Irvine Spectrum Center',\n",
    "    'Politicos Chilenos',\n",
    "    'FIFA World Cup',\n",
    "    'SINCA MMA Gob',\n",
    "    'Mutual Feedback',\n",
    "    'US House of Representatives',\n",
    "    'Financial Data',\n",
    "    'Country Code',\n",
    "    'Billionaires']\n"
   ]
  },
  {
   "cell_type": "code",
   "execution_count": null,
   "metadata": {},
   "outputs": [],
   "source": [
    "option = options[-1]\n",
    "option"
   ]
  },
  {
   "cell_type": "code",
   "execution_count": null,
   "metadata": {},
   "outputs": [],
   "source": [
    "match option:\n",
    "    case \"Billionaires\":\n",
    "        print(\"You can become a web developer.\")\n",
    "\n",
    "    case \"News\":\n",
    "        print(\"You can become a Data Scientist\")\n",
    "\n",
    "    case \"Forbes\":\n",
    "        print(\"You can become a backend developer\")"
   ]
  },
  {
   "cell_type": "code",
   "execution_count": null,
   "metadata": {},
   "outputs": [],
   "source": [
    "my_value = 10\n",
    "\n",
    "match my_value:\n",
    "    case 10:\n",
    "        print(\"The number is ten\")\n",
    "    case 2*10:\n",
    "        print(\"The number is the double of ten\")\n",
    "    case 100:\n",
    "        print(\"The number is one hundred\")\n",
    "    case _:\n",
    "        # this is the default handler if none\n",
    "        # of the above cases match.\n",
    "        print(\"The number is none of 10, 2*10 or 100\")"
   ]
  },
  {
   "cell_type": "code",
   "execution_count": null,
   "metadata": {},
   "outputs": [],
   "source": []
  },
  {
   "cell_type": "code",
   "execution_count": null,
   "metadata": {},
   "outputs": [],
   "source": []
  }
 ],
 "metadata": {
  "kernelspec": {
   "display_name": "Python 3.9.0 64-bit",
   "language": "python",
   "name": "python3"
  },
  "language_info": {
   "codemirror_mode": {
    "name": "ipython",
    "version": 3
   },
   "file_extension": ".py",
   "mimetype": "text/x-python",
   "name": "python",
   "nbconvert_exporter": "python",
   "pygments_lexer": "ipython3",
   "version": "3.9.0"
  },
  "orig_nbformat": 4,
  "vscode": {
   "interpreter": {
    "hash": "aee8b7b246df8f9039afb4144a1f6fd8d2ca17a180786b69acc140d282b71a49"
   }
  }
 },
 "nbformat": 4,
 "nbformat_minor": 2
}
