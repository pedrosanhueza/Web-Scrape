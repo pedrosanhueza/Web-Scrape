{
 "cells": [
  {
   "cell_type": "code",
   "execution_count": null,
   "metadata": {},
   "outputs": [],
   "source": [
    "option = 'Billionaires'"
   ]
  },
  {
   "cell_type": "code",
   "execution_count": null,
   "metadata": {},
   "outputs": [],
   "source": [
    "match option:\n",
    "    case \"Billionaires\":\n",
    "        print(\"You can become a web developer.\")\n",
    "\n",
    "    case \"News\":\n",
    "        print(\"You can become a Data Scientist\")\n",
    "\n",
    "    case \"Forbes\":\n",
    "        print(\"You can become a backend developer\")"
   ]
  },
  {
   "cell_type": "code",
   "execution_count": null,
   "metadata": {},
   "outputs": [],
   "source": [
    "class Webscrape:\n",
    "  def __init__(self, website, url):\n",
    "    self.website = website\n",
    "    self.url = url\n",
    "\n",
    "p1 = Webscrape(\"John\", 36)\n",
    "p2 = Webscrape('Billionaires', 44)\n",
    "\n",
    "print(p1.website)\n",
    "print(p1.url)\n",
    "\n",
    "print(p2.website)\n",
    "print(p2.url)\n",
    "\n"
   ]
  },
  {
   "cell_type": "code",
   "execution_count": 1,
   "metadata": {},
   "outputs": [],
   "source": [
    "import Root"
   ]
  },
  {
   "cell_type": "code",
   "execution_count": 9,
   "metadata": {},
   "outputs": [
    {
     "data": {
      "text/plain": [
       "'Surplus Store Variable'"
      ]
     },
     "execution_count": 9,
     "metadata": {},
     "output_type": "execute_result"
    }
   ],
   "source": [
    "from Projects import SurplusStore\n",
    "\n",
    "SurplusStore.cat"
   ]
  },
  {
   "cell_type": "code",
   "execution_count": 14,
   "metadata": {},
   "outputs": [],
   "source": [
    "options = [\n",
    "    'Surplus Store - BYUI',\n",
    "    'Forbes - Universities',\n",
    "    'Job Board - BYUI',\n",
    "    'Class Catalog - BYUI',\n",
    "    'Forbes - Billionaries',\n",
    "    'News - CBS',\n",
    "    'Políticos Españoles',\n",
    "    'Irvine Spectrum Center',\n",
    "    'Politicos Chilenos',\n",
    "    'FIFA World Cup',\n",
    "    'SINCA MMA Gob',\n",
    "    'Mutual App Feedback',\n",
    "    'US House of Representatives',\n",
    "    'Financial Data',\n",
    "    'Country Code',\n",
    "    'Billionaires',\n",
    "    'test']\n",
    "    \n",
    "options.sort()"
   ]
  },
  {
   "cell_type": "code",
   "execution_count": 23,
   "metadata": {},
   "outputs": [],
   "source": [
    "projects = {\n",
    "   'Billionaires':1,\n",
    "   'Class Catalog - BYUI':2,\n",
    "   'Country Code':3,\n",
    "   'FIFA World Cup':4,\n",
    "   'Financial Data':5,\n",
    "   'Forbes - Billionaries':6,\n",
    "   'Forbes - Universities':7,\n",
    "   'Irvine Spectrum Center':8,\n",
    "   'Job Board - BYUI':9,\n",
    "   'Mutual App Feedback':10,\n",
    "   'News - CBS':11,\n",
    "   'Politicos Chilenos':12,\n",
    "   'Políticos Españoles':13,\n",
    "   'SINCA MMA Gob':14,\n",
    "   'Surplus Store - BYUI':15,\n",
    "   'US House of Representatives':16,\n",
    "   'test':17\n",
    "}"
   ]
  },
  {
   "cell_type": "code",
   "execution_count": 19,
   "metadata": {},
   "outputs": [],
   "source": [
    "projects = {\n",
    "   1:'Billionaires',\n",
    "   2:'Class Catalog - BYUI',\n",
    "   3:'Country Code',\n",
    "   4:'FIFA World Cup',\n",
    "   5:'Financial Data',\n",
    "   6:'Forbes - Billionaries',\n",
    "   7:'Forbes - Universities',\n",
    "   8:'Irvine Spectrum Center',\n",
    "   9:'Job Board - BYUI',\n",
    "   10:'Mutual App Feedback',\n",
    "   11:'News - CBS',\n",
    "   12:'Politicos Chilenos',\n",
    "   13:'Políticos Españoles',\n",
    "   14:'SINCA MMA Gob',\n",
    "   15:'Surplus Store - BYUI',\n",
    "   16:'US House of Representatives',\n",
    "   17:'test'\n",
    "}"
   ]
  },
  {
   "cell_type": "code",
   "execution_count": 24,
   "metadata": {},
   "outputs": [
    {
     "data": {
      "text/plain": [
       "17"
      ]
     },
     "execution_count": 24,
     "metadata": {},
     "output_type": "execute_result"
    }
   ],
   "source": [
    "projects['test']"
   ]
  },
  {
   "cell_type": "code",
   "execution_count": null,
   "metadata": {},
   "outputs": [],
   "source": []
  }
 ],
 "metadata": {
  "kernelspec": {
   "display_name": "Python 3.9.0 64-bit",
   "language": "python",
   "name": "python3"
  },
  "language_info": {
   "codemirror_mode": {
    "name": "ipython",
    "version": 3
   },
   "file_extension": ".py",
   "mimetype": "text/x-python",
   "name": "python",
   "nbconvert_exporter": "python",
   "pygments_lexer": "ipython3",
   "version": "3.10.7"
  },
  "orig_nbformat": 4,
  "vscode": {
   "interpreter": {
    "hash": "aee8b7b246df8f9039afb4144a1f6fd8d2ca17a180786b69acc140d282b71a49"
   }
  }
 },
 "nbformat": 4,
 "nbformat_minor": 2
}
