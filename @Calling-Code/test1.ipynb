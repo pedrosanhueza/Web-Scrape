{
 "cells": [
  {
   "cell_type": "code",
   "execution_count": 4,
   "metadata": {},
   "outputs": [],
   "source": [
    "import requests\n",
    "import pandas as pd\n",
    "import numpy as np\n",
    "response = requests.get('https://web.byui.edu/studentemployment/api/jobs')\n",
    "\n",
    "data_json = response.json()\n",
    "\n",
    "data = pd.DataFrame(data_json)"
   ]
  },
  {
   "cell_type": "code",
   "execution_count": 7,
   "metadata": {},
   "outputs": [
    {
     "data": {
      "text/plain": [
       "jobID                                                                1187288\n",
       "title                                            Reports and Systems Analyst\n",
       "departmentName                                      BYU Idaho Support Center\n",
       "description                <p><span>The Reports and Systems Analyst is re...\n",
       "summary                    The Reports and Systems Analyst is responsible...\n",
       "displayJob                                                              True\n",
       "dateUpdated                                       2022-10-18T20:44:23.300014\n",
       "startDate                                                                NaN\n",
       "endDate                                                                  NaN\n",
       "managerName                                                      Luisa Silva\n",
       "approximateHoursPerWeek                                                15-40\n",
       "payRate                                                                 12.0\n",
       "positionsAllocated                                                     100.0\n",
       "positionsAvailble                                                       93.0\n",
       "workSchedule                                                      M-F Varies\n",
       "beginningDate                                                            NaN\n",
       "recruitingStartDate                                      2020-10-01T01:00:00\n",
       "requireResume                                                           True\n",
       "limitApplicants                                                        False\n",
       "limitNumber                                                                0\n",
       "applicants                                                                []\n",
       "jobQuestions                                                              []\n",
       "isOnline                                                               False\n",
       "allowOnline                                                            False\n",
       "jobMajors                  [{'jobMajorId': 378, 'jobId': 1187288, 'majorI...\n",
       "Name: 3, dtype: object"
      ]
     },
     "execution_count": 7,
     "metadata": {},
     "output_type": "execute_result"
    }
   ],
   "source": [
    "data[data.title == 'Reports and Systems Analyst'].iloc[0]"
   ]
  },
  {
   "cell_type": "code",
   "execution_count": 9,
   "metadata": {},
   "outputs": [],
   "source": [
    "import time"
   ]
  },
  {
   "cell_type": "code",
   "execution_count": 19,
   "metadata": {},
   "outputs": [],
   "source": [
    "today_data = data[data.dateUpdated >= time.strftime(\"%Y-%m-%d\")]\n",
    "\n",
    "today = today_data.shape[0]"
   ]
  },
  {
   "cell_type": "code",
   "execution_count": 20,
   "metadata": {},
   "outputs": [
    {
     "data": {
      "text/plain": [
       "11"
      ]
     },
     "execution_count": 20,
     "metadata": {},
     "output_type": "execute_result"
    }
   ],
   "source": [
    "today"
   ]
  },
  {
   "cell_type": "code",
   "execution_count": null,
   "metadata": {},
   "outputs": [],
   "source": []
  }
 ],
 "metadata": {
  "kernelspec": {
   "display_name": "Python 3.9.0 64-bit",
   "language": "python",
   "name": "python3"
  },
  "language_info": {
   "codemirror_mode": {
    "name": "ipython",
    "version": 3
   },
   "file_extension": ".py",
   "mimetype": "text/x-python",
   "name": "python",
   "nbconvert_exporter": "python",
   "pygments_lexer": "ipython3",
   "version": "3.9.0"
  },
  "orig_nbformat": 4,
  "vscode": {
   "interpreter": {
    "hash": "397704579725e15f5c7cb49fe5f0341eb7531c82d19f2c29d197e8b64ab5776b"
   }
  }
 },
 "nbformat": 4,
 "nbformat_minor": 2
}
