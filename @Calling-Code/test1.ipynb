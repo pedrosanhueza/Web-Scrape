{
 "cells": [
  {
   "cell_type": "code",
   "execution_count": 4,
   "metadata": {},
   "outputs": [],
   "source": [
    "import requests\n",
    "import pandas as pd\n",
    "import numpy as np\n",
    "response = requests.get('https://web.byui.edu/studentemployment/api/jobs')\n",
    "\n",
    "data_json = response.json()\n",
    "\n",
    "data = pd.DataFrame(data_json)"
   ]
  },
  {
   "cell_type": "code",
   "execution_count": 7,
   "metadata": {},
   "outputs": [
    {
     "data": {
      "text/plain": [
       "jobID                                                                1187288\n",
       "title                                            Reports and Systems Analyst\n",
       "departmentName                                      BYU Idaho Support Center\n",
       "description                <p><span>The Reports and Systems Analyst is re...\n",
       "summary                    The Reports and Systems Analyst is responsible...\n",
       "displayJob                                                              True\n",
       "dateUpdated                                       2022-10-18T20:44:23.300014\n",
       "startDate                                                                NaN\n",
       "endDate                                                                  NaN\n",
       "managerName                                                      Luisa Silva\n",
       "approximateHoursPerWeek                                                15-40\n",
       "payRate                                                                 12.0\n",
       "positionsAllocated                                                     100.0\n",
       "positionsAvailble                                                       93.0\n",
       "workSchedule                                                      M-F Varies\n",
       "beginningDate                                                            NaN\n",
       "recruitingStartDate                                      2020-10-01T01:00:00\n",
       "requireResume                                                           True\n",
       "limitApplicants                                                        False\n",
       "limitNumber                                                                0\n",
       "applicants                                                                []\n",
       "jobQuestions                                                              []\n",
       "isOnline                                                               False\n",
       "allowOnline                                                            False\n",
       "jobMajors                  [{'jobMajorId': 378, 'jobId': 1187288, 'majorI...\n",
       "Name: 3, dtype: object"
      ]
     },
     "execution_count": 7,
     "metadata": {},
     "output_type": "execute_result"
    }
   ],
   "source": [
    "data[data.title == 'Reports and Systems Analyst'].iloc[0]"
   ]
  },
  {
   "cell_type": "code",
   "execution_count": 9,
   "metadata": {},
   "outputs": [],
   "source": [
    "import time"
   ]
  },
  {
   "cell_type": "code",
   "execution_count": 19,
   "metadata": {},
   "outputs": [],
   "source": [
    "today_data = data[data.dateUpdated >= time.strftime(\"%Y-%m-%d\")]\n",
    "\n",
    "today = today_data.shape[0]"
   ]
  },
  {
   "cell_type": "code",
   "execution_count": 28,
   "metadata": {},
   "outputs": [],
   "source": [
    "from datetime import datetime\n",
    "import pytz"
   ]
  },
  {
   "cell_type": "code",
   "execution_count": 46,
   "metadata": {},
   "outputs": [],
   "source": [
    "newYorkTz = pytz.timezone('US/Mountain') \n",
    "timeZoneMountain = datetime.now(newYorkTz)\n",
    "currentTimeInRexburg = timeZoneMountain.strftime(\"%Y-%m-%d\")\n",
    "\n",
    "currentTimeInRexburg"
   ]
  },
  {
   "cell_type": "code",
   "execution_count": 1,
   "metadata": {},
   "outputs": [],
   "source": [
    "import requests # to get the html markdown from the url\n",
    "from bs4 import BeautifulSoup # to make the html readable\n",
    "import pandas as pd # to save table in a csv"
   ]
  },
  {
   "cell_type": "code",
   "execution_count": 2,
   "metadata": {},
   "outputs": [],
   "source": [
    "url_surplus = 'https://web.byui.edu/SurplusList/'\n",
    "html_data = requests.get(url_surplus)\n",
    "soup = BeautifulSoup(html_data.text, 'html.parser')\n"
   ]
  },
  {
   "cell_type": "code",
   "execution_count": 3,
   "metadata": {},
   "outputs": [],
   "source": [
    "\n",
    "# Build Table\n",
    "rows=[]\n",
    "for item in soup.find_all('tr')[13:]:\n",
    "    row={}\n",
    "    row['Item Number'] = item.select('td')[0].text\n",
    "    row['Qty'] = item.select('td')[1].text\n",
    "    row['Description'] = item.select('td')[2].text\n",
    "    row['Condition'] = item.select('td')[3].text\n",
    "    row['Price'] = item.select('td')[4].text\n",
    "    row['Location'] = item.select('td')[5].text\n",
    "    row['Quick/Bid'] = item.select('td')[6].text\n",
    "    # row['Image'] = item.select('td')[7].text\n",
    "    rows.append(row)\n"
   ]
  },
  {
   "cell_type": "code",
   "execution_count": 6,
   "metadata": {},
   "outputs": [
    {
     "data": {
      "text/plain": [
       "<tr bgcolor=\"#EEEEEE\">\n",
       "<td align=\"center\"><font color=\"Black\">77122</font></td><td><font color=\"Black\">1</font></td><td class=\"GridDisplayDescription\" width=\"50%\"><font color=\"Black\">BKI Free  Standing Fry Dump Station or Food Warmer</font></td><td><font color=\"Black\">GOOD</font></td><td align=\"right\"><font color=\"Black\">$175.00</font></td><td><font color=\"Black\">EA</font></td><td><font color=\"Black\">Quick</font></td><td><font color=\"Black\"><a href=\"\" onclick=\"javascript:window.open('DisplayImages.aspx?ItemId=39460'); return false;\">Image</a></font></td>\n",
       "</tr>"
      ]
     },
     "execution_count": 6,
     "metadata": {},
     "output_type": "execute_result"
    }
   ],
   "source": [
    "soup.find_all('tr')[13]"
   ]
  },
  {
   "cell_type": "code",
   "execution_count": 11,
   "metadata": {},
   "outputs": [],
   "source": [
    "data = pd.DataFrame(rows)\n",
    "data.drop(data.tail(1).index,inplace=True) # Drop last row (is empty)\n",
    "data.Price = pd.to_numeric(data.Price.str.replace(\"$\",\"\",regex=True).replace(\",\",\"\",regex=True))"
   ]
  },
  {
   "cell_type": "code",
   "execution_count": 12,
   "metadata": {},
   "outputs": [
    {
     "data": {
      "text/plain": [
       "6300.0"
      ]
     },
     "execution_count": 12,
     "metadata": {},
     "output_type": "execute_result"
    }
   ],
   "source": [
    "data.Price.max()"
   ]
  },
  {
   "cell_type": "code",
   "execution_count": 13,
   "metadata": {},
   "outputs": [
    {
     "data": {
      "text/html": [
       "<div>\n",
       "<style scoped>\n",
       "    .dataframe tbody tr th:only-of-type {\n",
       "        vertical-align: middle;\n",
       "    }\n",
       "\n",
       "    .dataframe tbody tr th {\n",
       "        vertical-align: top;\n",
       "    }\n",
       "\n",
       "    .dataframe thead th {\n",
       "        text-align: right;\n",
       "    }\n",
       "</style>\n",
       "<table border=\"1\" class=\"dataframe\">\n",
       "  <thead>\n",
       "    <tr style=\"text-align: right;\">\n",
       "      <th></th>\n",
       "      <th>Item Number</th>\n",
       "      <th>Qty</th>\n",
       "      <th>Description</th>\n",
       "      <th>Condition</th>\n",
       "      <th>Price</th>\n",
       "      <th>Location</th>\n",
       "      <th>Quick/Bid</th>\n",
       "      <th>Image</th>\n",
       "    </tr>\n",
       "  </thead>\n",
       "  <tbody>\n",
       "    <tr>\n",
       "      <th>43</th>\n",
       "      <td>77503</td>\n",
       "      <td>1</td>\n",
       "      <td>Jet Vertical Milling Machine     Model Number ...</td>\n",
       "      <td>EXCELLENT</td>\n",
       "      <td>6300.0</td>\n",
       "      <td>UT</td>\n",
       "      <td>Quick</td>\n",
       "      <td>Image</td>\n",
       "    </tr>\n",
       "  </tbody>\n",
       "</table>\n",
       "</div>"
      ],
      "text/plain": [
       "   Item Number Qty                                        Description  \\\n",
       "43       77503   1  Jet Vertical Milling Machine     Model Number ...   \n",
       "\n",
       "    Condition   Price Location Quick/Bid  Image  \n",
       "43  EXCELLENT  6300.0       UT     Quick  Image  "
      ]
     },
     "execution_count": 13,
     "metadata": {},
     "output_type": "execute_result"
    }
   ],
   "source": [
    "data[data.Price == data.Price.max()]"
   ]
  },
  {
   "cell_type": "code",
   "execution_count": null,
   "metadata": {},
   "outputs": [],
   "source": []
  }
 ],
 "metadata": {
  "kernelspec": {
   "display_name": "Python 3.9.0 64-bit",
   "language": "python",
   "name": "python3"
  },
  "language_info": {
   "codemirror_mode": {
    "name": "ipython",
    "version": 3
   },
   "file_extension": ".py",
   "mimetype": "text/x-python",
   "name": "python",
   "nbconvert_exporter": "python",
   "pygments_lexer": "ipython3",
   "version": "3.9.0"
  },
  "orig_nbformat": 4,
  "vscode": {
   "interpreter": {
    "hash": "397704579725e15f5c7cb49fe5f0341eb7531c82d19f2c29d197e8b64ab5776b"
   }
  }
 },
 "nbformat": 4,
 "nbformat_minor": 2
}
