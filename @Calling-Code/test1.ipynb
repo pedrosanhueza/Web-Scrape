{
 "cells": [
  {
   "cell_type": "code",
   "execution_count": 1,
   "metadata": {},
   "outputs": [],
   "source": [
    "import requests\n",
    "import pandas as pd\n",
    "import numpy as np\n",
    "\n",
    "response = requests.get('https://web.byui.edu/studentemployment/api/jobs')\n",
    "\n",
    "data_json = response.json()\n",
    "\n",
    "data = pd.DataFrame(data_json)"
   ]
  },
  {
   "cell_type": "code",
   "execution_count": 6,
   "metadata": {},
   "outputs": [
    {
     "data": {
      "text/plain": [
       "'2022-10-22'"
      ]
     },
     "execution_count": 6,
     "metadata": {},
     "output_type": "execute_result"
    }
   ],
   "source": [
    "from datetime import datetime, timedelta\n",
    "import pytz\n",
    "\n",
    "newYorkTz = pytz.timezone('US/Mountain') \n",
    "timeZoneMountain = datetime.now(newYorkTz)\n",
    "currentTimeInRexburg = timeZoneMountain.strftime(\"%Y-%m-%d\")\n",
    "\n",
    "currentTimeInRexburg"
   ]
  },
  {
   "cell_type": "code",
   "execution_count": 4,
   "metadata": {},
   "outputs": [
    {
     "data": {
      "text/plain": [
       "0"
      ]
     },
     "execution_count": 4,
     "metadata": {},
     "output_type": "execute_result"
    }
   ],
   "source": [
    "today_data = data[data.dateUpdated >= currentTimeInRexburg]\n",
    "\n",
    "today = today_data.shape[0]\n",
    "\n",
    "today"
   ]
  },
  {
   "cell_type": "code",
   "execution_count": 7,
   "metadata": {},
   "outputs": [
    {
     "data": {
      "text/html": [
       "<div>\n",
       "<style scoped>\n",
       "    .dataframe tbody tr th:only-of-type {\n",
       "        vertical-align: middle;\n",
       "    }\n",
       "\n",
       "    .dataframe tbody tr th {\n",
       "        vertical-align: top;\n",
       "    }\n",
       "\n",
       "    .dataframe thead th {\n",
       "        text-align: right;\n",
       "    }\n",
       "</style>\n",
       "<table border=\"1\" class=\"dataframe\">\n",
       "  <thead>\n",
       "    <tr style=\"text-align: right;\">\n",
       "      <th></th>\n",
       "      <th>jobID</th>\n",
       "      <th>title</th>\n",
       "      <th>departmentName</th>\n",
       "      <th>description</th>\n",
       "      <th>summary</th>\n",
       "      <th>displayJob</th>\n",
       "      <th>dateUpdated</th>\n",
       "      <th>startDate</th>\n",
       "      <th>endDate</th>\n",
       "      <th>managerName</th>\n",
       "      <th>...</th>\n",
       "      <th>beginningDate</th>\n",
       "      <th>recruitingStartDate</th>\n",
       "      <th>requireResume</th>\n",
       "      <th>limitApplicants</th>\n",
       "      <th>limitNumber</th>\n",
       "      <th>applicants</th>\n",
       "      <th>jobQuestions</th>\n",
       "      <th>isOnline</th>\n",
       "      <th>allowOnline</th>\n",
       "      <th>jobMajors</th>\n",
       "    </tr>\n",
       "  </thead>\n",
       "  <tbody>\n",
       "  </tbody>\n",
       "</table>\n",
       "<p>0 rows × 25 columns</p>\n",
       "</div>"
      ],
      "text/plain": [
       "Empty DataFrame\n",
       "Columns: [jobID, title, departmentName, description, summary, displayJob, dateUpdated, startDate, endDate, managerName, approximateHoursPerWeek, payRate, positionsAllocated, positionsAvailble, workSchedule, beginningDate, recruitingStartDate, requireResume, limitApplicants, limitNumber, applicants, jobQuestions, isOnline, allowOnline, jobMajors]\n",
       "Index: []\n",
       "\n",
       "[0 rows x 25 columns]"
      ]
     },
     "execution_count": 7,
     "metadata": {},
     "output_type": "execute_result"
    }
   ],
   "source": [
    "data[data.dateUpdated == (datetime.today() - timedelta(1)).strftime(\"%Y-%m-%d\")]"
   ]
  },
  {
   "cell_type": "code",
   "execution_count": 8,
   "metadata": {},
   "outputs": [
    {
     "data": {
      "text/plain": [
       "Index(['jobID', 'title', 'departmentName', 'description', 'summary',\n",
       "       'displayJob', 'dateUpdated', 'startDate', 'endDate', 'managerName',\n",
       "       'approximateHoursPerWeek', 'payRate', 'positionsAllocated',\n",
       "       'positionsAvailble', 'workSchedule', 'beginningDate',\n",
       "       'recruitingStartDate', 'requireResume', 'limitApplicants',\n",
       "       'limitNumber', 'applicants', 'jobQuestions', 'isOnline', 'allowOnline',\n",
       "       'jobMajors'],\n",
       "      dtype='object')"
      ]
     },
     "execution_count": 8,
     "metadata": {},
     "output_type": "execute_result"
    }
   ],
   "source": [
    "data.columns"
   ]
  },
  {
   "cell_type": "code",
   "execution_count": 7,
   "metadata": {},
   "outputs": [
    {
     "data": {
      "text/plain": [
       "jobID                                                                1187288\n",
       "title                                            Reports and Systems Analyst\n",
       "departmentName                                      BYU Idaho Support Center\n",
       "description                <p><span>The Reports and Systems Analyst is re...\n",
       "summary                    The Reports and Systems Analyst is responsible...\n",
       "displayJob                                                              True\n",
       "dateUpdated                                       2022-10-18T20:44:23.300014\n",
       "startDate                                                                NaN\n",
       "endDate                                                                  NaN\n",
       "managerName                                                      Luisa Silva\n",
       "approximateHoursPerWeek                                                15-40\n",
       "payRate                                                                 12.0\n",
       "positionsAllocated                                                     100.0\n",
       "positionsAvailble                                                       93.0\n",
       "workSchedule                                                      M-F Varies\n",
       "beginningDate                                                            NaN\n",
       "recruitingStartDate                                      2020-10-01T01:00:00\n",
       "requireResume                                                           True\n",
       "limitApplicants                                                        False\n",
       "limitNumber                                                                0\n",
       "applicants                                                                []\n",
       "jobQuestions                                                              []\n",
       "isOnline                                                               False\n",
       "allowOnline                                                            False\n",
       "jobMajors                  [{'jobMajorId': 378, 'jobId': 1187288, 'majorI...\n",
       "Name: 3, dtype: object"
      ]
     },
     "execution_count": 7,
     "metadata": {},
     "output_type": "execute_result"
    }
   ],
   "source": [
    "data[data.title == 'Reports and Systems Analyst'].iloc[0]"
   ]
  },
  {
   "cell_type": "code",
   "execution_count": 9,
   "metadata": {},
   "outputs": [],
   "source": [
    "import time"
   ]
  },
  {
   "cell_type": "code",
   "execution_count": 19,
   "metadata": {},
   "outputs": [],
   "source": [
    "today_data = data[data.dateUpdated >= time.strftime(\"%Y-%m-%d\")]\n",
    "\n",
    "today = today_data.shape[0]"
   ]
  },
  {
   "cell_type": "code",
   "execution_count": 1,
   "metadata": {},
   "outputs": [],
   "source": [
    "import requests # to get the html markdown from the url\n",
    "from bs4 import BeautifulSoup # to make the html readable\n",
    "import pandas as pd # to save table in a csv"
   ]
  },
  {
   "cell_type": "code",
   "execution_count": 2,
   "metadata": {},
   "outputs": [],
   "source": [
    "url_surplus = 'https://web.byui.edu/SurplusList/'\n",
    "html_data = requests.get(url_surplus)\n",
    "soup = BeautifulSoup(html_data.text, 'html.parser')\n"
   ]
  },
  {
   "cell_type": "code",
   "execution_count": 3,
   "metadata": {},
   "outputs": [],
   "source": [
    "\n",
    "# Build Table\n",
    "rows=[]\n",
    "for item in soup.find_all('tr')[13:]:\n",
    "    row={}\n",
    "    row['Item Number'] = item.select('td')[0].text\n",
    "    row['Qty'] = item.select('td')[1].text\n",
    "    row['Description'] = item.select('td')[2].text\n",
    "    row['Condition'] = item.select('td')[3].text\n",
    "    row['Price'] = item.select('td')[4].text\n",
    "    row['Location'] = item.select('td')[5].text\n",
    "    row['Quick/Bid'] = item.select('td')[6].text\n",
    "    # row['Image'] = item.select('td')[7].text\n",
    "    rows.append(row)\n"
   ]
  },
  {
   "cell_type": "code",
   "execution_count": 6,
   "metadata": {},
   "outputs": [
    {
     "data": {
      "text/plain": [
       "<tr bgcolor=\"#EEEEEE\">\n",
       "<td align=\"center\"><font color=\"Black\">77122</font></td><td><font color=\"Black\">1</font></td><td class=\"GridDisplayDescription\" width=\"50%\"><font color=\"Black\">BKI Free  Standing Fry Dump Station or Food Warmer</font></td><td><font color=\"Black\">GOOD</font></td><td align=\"right\"><font color=\"Black\">$175.00</font></td><td><font color=\"Black\">EA</font></td><td><font color=\"Black\">Quick</font></td><td><font color=\"Black\"><a href=\"\" onclick=\"javascript:window.open('DisplayImages.aspx?ItemId=39460'); return false;\">Image</a></font></td>\n",
       "</tr>"
      ]
     },
     "execution_count": 6,
     "metadata": {},
     "output_type": "execute_result"
    }
   ],
   "source": [
    "soup.find_all('tr')[13]"
   ]
  },
  {
   "cell_type": "code",
   "execution_count": 11,
   "metadata": {},
   "outputs": [],
   "source": [
    "data = pd.DataFrame(rows)\n",
    "data.drop(data.tail(1).index,inplace=True) # Drop last row (is empty)\n",
    "data.Price = pd.to_numeric(data.Price.str.replace(\"$\",\"\",regex=True).replace(\",\",\"\",regex=True))"
   ]
  },
  {
   "cell_type": "code",
   "execution_count": 12,
   "metadata": {},
   "outputs": [
    {
     "data": {
      "text/plain": [
       "6300.0"
      ]
     },
     "execution_count": 12,
     "metadata": {},
     "output_type": "execute_result"
    }
   ],
   "source": [
    "data.Price.max()"
   ]
  },
  {
   "cell_type": "code",
   "execution_count": 15,
   "metadata": {},
   "outputs": [
    {
     "data": {
      "text/plain": [
       "4"
      ]
     },
     "execution_count": 15,
     "metadata": {},
     "output_type": "execute_result"
    }
   ],
   "source": [
    "data[data.Condition == 'EXCELLENT'].shape[0]"
   ]
  },
  {
   "cell_type": "code",
   "execution_count": 16,
   "metadata": {},
   "outputs": [],
   "source": [
    "names = data['Condition'].value_counts().reset_index()['index']\n",
    "values = data['Condition'].value_counts().reset_index()['Condition']"
   ]
  },
  {
   "cell_type": "code",
   "execution_count": 2,
   "metadata": {},
   "outputs": [],
   "source": [
    "import pytz\n",
    "from datetime import datetime, timedelta"
   ]
  },
  {
   "cell_type": "code",
   "execution_count": 6,
   "metadata": {},
   "outputs": [
    {
     "data": {
      "text/plain": [
       "<DstTzInfo 'US/Mountain' LMT-1 day, 17:00:00 STD>"
      ]
     },
     "execution_count": 6,
     "metadata": {},
     "output_type": "execute_result"
    }
   ],
   "source": [
    "IdahoTz = pytz.timezone('US/Mountain')\n",
    "IdahoTz"
   ]
  },
  {
   "cell_type": "code",
   "execution_count": 7,
   "metadata": {},
   "outputs": [
    {
     "data": {
      "text/plain": [
       "datetime.datetime(2022, 10, 19, 9, 41, 35, 224596, tzinfo=<DstTzInfo 'US/Mountain' MDT-1 day, 18:00:00 DST>)"
      ]
     },
     "execution_count": 7,
     "metadata": {},
     "output_type": "execute_result"
    }
   ],
   "source": [
    "timeZoneMountain = datetime.now(IdahoTz)\n",
    "timeZoneMountain"
   ]
  },
  {
   "cell_type": "code",
   "execution_count": 8,
   "metadata": {},
   "outputs": [
    {
     "data": {
      "text/plain": [
       "'2022-10-19'"
      ]
     },
     "execution_count": 8,
     "metadata": {},
     "output_type": "execute_result"
    }
   ],
   "source": [
    "currentTimeInRexburg = timeZoneMountain.strftime(\"%Y-%m-%d\")\n",
    "currentTimeInRexburg"
   ]
  },
  {
   "cell_type": "code",
   "execution_count": 10,
   "metadata": {},
   "outputs": [
    {
     "data": {
      "text/plain": [
       "'2022-10-18'"
      ]
     },
     "execution_count": 10,
     "metadata": {},
     "output_type": "execute_result"
    }
   ],
   "source": [
    "( timeZoneMountain - timedelta(1) ).strftime(\"%Y-%m-%d\")"
   ]
  },
  {
   "cell_type": "markdown",
   "metadata": {},
   "source": [
    "# TIME LINE 🐍"
   ]
  },
  {
   "cell_type": "code",
   "execution_count": 169,
   "metadata": {},
   "outputs": [],
   "source": [
    "import requests\n",
    "import pandas as pd\n",
    "\n",
    "response = requests.get('https://web.byui.edu/studentemployment/api/jobs')\n",
    "\n",
    "data_json = response.json()\n",
    "\n",
    "data = pd.DataFrame(data_json)"
   ]
  },
  {
   "cell_type": "code",
   "execution_count": 170,
   "metadata": {},
   "outputs": [],
   "source": [
    "start_dates = data.startDate.dropna().replace('T',' ',regex=True)"
   ]
  },
  {
   "cell_type": "code",
   "execution_count": 195,
   "metadata": {},
   "outputs": [],
   "source": [
    "start_dates_formatted = [datetime.strptime(str(d), \"%Y-%m-%d %H:%M:%S\") for d in start_dates] "
   ]
  },
  {
   "cell_type": "code",
   "execution_count": 180,
   "metadata": {},
   "outputs": [
    {
     "data": {
      "text/plain": [
       "[datetime.datetime(2022, 10, 20, 13, 0),\n",
       " datetime.datetime(2022, 10, 20, 7, 0),\n",
       " datetime.datetime(2022, 10, 20, 6, 0),\n",
       " datetime.datetime(2022, 10, 20, 6, 0),\n",
       " datetime.datetime(2022, 10, 20, 12, 0),\n",
       " datetime.datetime(2022, 10, 13, 11, 0),\n",
       " datetime.datetime(2022, 10, 20, 18, 0),\n",
       " datetime.datetime(2022, 10, 12, 0, 0),\n",
       " datetime.datetime(2022, 10, 18, 5, 0),\n",
       " datetime.datetime(2022, 10, 3, 21, 0),\n",
       " datetime.datetime(2022, 10, 18, 13, 0),\n",
       " datetime.datetime(2022, 10, 18, 6, 0),\n",
       " datetime.datetime(2022, 9, 29, 6, 0),\n",
       " datetime.datetime(2022, 7, 2, 12, 0),\n",
       " datetime.datetime(2022, 6, 7, 12, 0),\n",
       " datetime.datetime(2022, 9, 20, 18, 0),\n",
       " datetime.datetime(2022, 10, 17, 12, 0),\n",
       " datetime.datetime(2022, 10, 18, 0, 0),\n",
       " datetime.datetime(2022, 10, 17, 12, 0),\n",
       " datetime.datetime(2022, 10, 17, 6, 0),\n",
       " datetime.datetime(2022, 7, 2, 1, 0),\n",
       " datetime.datetime(2022, 10, 12, 19, 0),\n",
       " datetime.datetime(2022, 6, 8, 4, 0),\n",
       " datetime.datetime(2022, 6, 8, 1, 0),\n",
       " datetime.datetime(2022, 10, 13, 6, 0),\n",
       " datetime.datetime(2022, 10, 13, 6, 0),\n",
       " datetime.datetime(2022, 10, 5, 6, 0),\n",
       " datetime.datetime(2022, 10, 5, 6, 0),\n",
       " datetime.datetime(2022, 8, 24, 18, 0),\n",
       " datetime.datetime(2022, 8, 16, 6, 0),\n",
       " datetime.datetime(2021, 12, 17, 22, 0),\n",
       " datetime.datetime(2022, 9, 14, 12, 0),\n",
       " datetime.datetime(2022, 9, 14, 23, 0),\n",
       " datetime.datetime(2022, 10, 4, 1, 0),\n",
       " datetime.datetime(2022, 10, 5, 0, 0),\n",
       " datetime.datetime(2022, 10, 5, 11, 0),\n",
       " datetime.datetime(2022, 6, 3, 14, 0),\n",
       " datetime.datetime(2022, 6, 3, 14, 0),\n",
       " datetime.datetime(2022, 10, 4, 0, 0),\n",
       " datetime.datetime(2022, 10, 3, 19, 0),\n",
       " datetime.datetime(2022, 1, 29, 21, 0),\n",
       " datetime.datetime(2022, 1, 30, 4, 0),\n",
       " datetime.datetime(2022, 10, 4, 6, 0),\n",
       " datetime.datetime(2022, 9, 19, 6, 0),\n",
       " datetime.datetime(2022, 8, 29, 6, 0),\n",
       " datetime.datetime(2021, 12, 5, 7, 0)]"
      ]
     },
     "execution_count": 180,
     "metadata": {},
     "output_type": "execute_result"
    }
   ],
   "source": [
    "start_dates_formatted"
   ]
  },
  {
   "cell_type": "code",
   "execution_count": 96,
   "metadata": {},
   "outputs": [],
   "source": [
    "import pytz"
   ]
  },
  {
   "cell_type": "code",
   "execution_count": 194,
   "metadata": {},
   "outputs": [
    {
     "data": {
      "text/plain": [
       "datetime.datetime(2022, 9, 1, 0, 0)"
      ]
     },
     "execution_count": 194,
     "metadata": {},
     "output_type": "execute_result"
    }
   ],
   "source": [
    "IdahoTz = pytz.timezone('US/Mountain') \n",
    "timeZoneMountain = datetime.now(IdahoTz)\n",
    "currentTimeInRexburg = timeZoneMountain.strptime('2022-09-01',\"%Y-%m-%d\")\n",
    "\n",
    "currentTimeInRexburg"
   ]
  },
  {
   "cell_type": "code",
   "execution_count": 103,
   "metadata": {},
   "outputs": [
    {
     "data": {
      "text/plain": [
       "datetime.datetime(2022, 10, 21, 13, 3, 14, 710758)"
      ]
     },
     "execution_count": 103,
     "metadata": {},
     "output_type": "execute_result"
    }
   ],
   "source": [
    "datetime.strptime"
   ]
  },
  {
   "cell_type": "code",
   "execution_count": 183,
   "metadata": {},
   "outputs": [],
   "source": [
    "start_dates_formatted = [\n",
    "    d\n",
    "    for d in start_dates_formatted\n",
    "    if d > currentTimeInRexburg\n",
    "]"
   ]
  },
  {
   "cell_type": "code",
   "execution_count": 184,
   "metadata": {},
   "outputs": [
    {
     "data": {
      "text/plain": [
       "32"
      ]
     },
     "execution_count": 184,
     "metadata": {},
     "output_type": "execute_result"
    }
   ],
   "source": [
    "len(start_dates_formatted)"
   ]
  },
  {
   "cell_type": "code",
   "execution_count": 185,
   "metadata": {},
   "outputs": [],
   "source": [
    "rand_names = range(32)"
   ]
  },
  {
   "cell_type": "code",
   "execution_count": 186,
   "metadata": {},
   "outputs": [],
   "source": [
    "import matplotlib.pyplot as plt\n",
    "import numpy as np\n",
    "import matplotlib.dates as mdates\n",
    "from datetime import datetime\n",
    "\n",
    "try:\n",
    "    # Try to fetch a list of Matplotlib releases and their dates\n",
    "    # from https://api.github.com/repos/matplotlib/matplotlib/releases\n",
    "    import urllib.request\n",
    "    import json\n",
    "\n",
    "    url = 'https://api.github.com/repos/matplotlib/matplotlib/releases'\n",
    "    url += '?per_page=100'\n",
    "    data = json.loads(urllib.request.urlopen(url, timeout=.4).read().decode())\n",
    "\n",
    "    dates = []\n",
    "    names = []\n",
    "    for item in data:\n",
    "        if 'rc' not in item['tag_name'] and 'b' not in item['tag_name']:\n",
    "            dates.append(item['published_at'].split(\"T\")[0])\n",
    "            names.append(item['tag_name'])\n",
    "    # Convert date strings (e.g. 2014-10-18) to datetime\n",
    "    dates = [datetime.strptime(d, \"%Y-%m-%d\") for d in dates]\n",
    "\n",
    "except Exception:\n",
    "    # In case the above fails, e.g. because of missing internet connection\n",
    "    # use the following lists as fallback.\n",
    "    names = ['v2.2.4', 'v3.0.3', 'v3.0.2', 'v3.0.1', 'v3.0.0', 'v2.2.3',\n",
    "             'v2.2.2', 'v2.2.1', 'v2.2.0', 'v2.1.2', 'v2.1.1', 'v2.1.0',\n",
    "             'v2.0.2', 'v2.0.1', 'v2.0.0', 'v1.5.3', 'v1.5.2', 'v1.5.1',\n",
    "             'v1.5.0', 'v1.4.3', 'v1.4.2', 'v1.4.1', 'v1.4.0']\n",
    "\n",
    "    dates = ['2019-02-26', '2019-02-26', '2018-11-10', '2018-11-10',\n",
    "             '2018-09-18', '2018-08-10', '2018-03-17', '2018-03-16',\n",
    "             '2018-03-06', '2018-01-18', '2017-12-10', '2017-10-07',\n",
    "             '2017-05-10', '2017-05-02', '2017-01-17', '2016-09-09',\n",
    "             '2016-07-03', '2016-01-10', '2015-10-29', '2015-02-16',\n",
    "             '2014-10-26', '2014-10-18', '2014-08-26']\n",
    "\n",
    "    # Convert date strings (e.g. 2014-10-18) to datetime\n",
    "    dates = [datetime.strptime(d, \"%Y-%m-%d\") for d in dates]"
   ]
  },
  {
   "cell_type": "code",
   "execution_count": 187,
   "metadata": {},
   "outputs": [],
   "source": [
    "names = rand_names\n",
    "dates = start_dates_formatted"
   ]
  },
  {
   "cell_type": "code",
   "execution_count": 188,
   "metadata": {},
   "outputs": [],
   "source": [
    "# Choose some nice levels\n",
    "levels = np.tile([-5, 5, -3, 3, -1, 1],\n",
    "                 int(np.ceil(len(dates)/6)))[:len(dates)]"
   ]
  },
  {
   "cell_type": "code",
   "execution_count": 189,
   "metadata": {},
   "outputs": [
    {
     "data": {
      "image/png": "[encoded data removed]",
      "text/plain": [
       "<Figure size 1080x288 with 1 Axes>"
      ]
     },
     "metadata": {
      "needs_background": "light"
     },
     "output_type": "display_data"
    }
   ],
   "source": [
    "# Create figure and plot a stem plot with the date\n",
    "fig, ax = plt.subplots(figsize=(15, 4), constrained_layout=True)\n",
    "ax.set(title=\"Matplotlib release dates\")\n",
    "\n",
    "ax.vlines(dates, 0, levels, color=\"tab:blue\")  # The vertical stems.\n",
    "ax.plot(dates, np.zeros_like(dates), \"-o\",\n",
    "        color=\"k\", markerfacecolor=\"white\")  # Baseline and markers on it.\n",
    "\n",
    "# annotate lines\n",
    "for d, l, r in zip(dates, levels, names):\n",
    "    ax.annotate(r, xy=(d, l),\n",
    "                xytext=(-3, np.sign(l)*3), textcoords=\"offset points\",\n",
    "                horizontalalignment=\"right\",\n",
    "                verticalalignment=\"bottom\" if l > 0 else \"top\")\n",
    "\n",
    "# format xaxis with 4 month intervals\n",
    "ax.xaxis.set_major_locator(mdates.DayLocator(interval=1))\n",
    "ax.xaxis.set_major_formatter(mdates.DateFormatter(\"%d\"))\n",
    "# plt.setp(ax.get_xticklabels(), rotation=30, ha=\"right\")\n",
    "\n",
    "# remove y axis\n",
    "ax.yaxis.set_visible(False)\n",
    "\n",
    "ax.margins(y=0.1)\n",
    "plt.show()"
   ]
  },
  {
   "cell_type": "code",
   "execution_count": null,
   "metadata": {},
   "outputs": [],
   "source": []
  },
  {
   "cell_type": "code",
   "execution_count": 192,
   "metadata": {},
   "outputs": [],
   "source": [
    "def convert_date(x,y,z):\n",
    "    orig_date = datetime(x,y,z)\n",
    "    orig_date = str(orig_date)\n",
    "    d = datetime.strptime(orig_date, '%Y-%m-%d %H:%M:%S')\n",
    "    d = d.strftime('%m-%d-%y')\n",
    "    return d"
   ]
  },
  {
   "cell_type": "code",
   "execution_count": 193,
   "metadata": {},
   "outputs": [
    {
     "data": {
      "text/plain": [
       "'12-18-20'"
      ]
     },
     "execution_count": 193,
     "metadata": {},
     "output_type": "execute_result"
    }
   ],
   "source": [
    "convert_date(2020,12,18)"
   ]
  },
  {
   "cell_type": "code",
   "execution_count": 214,
   "metadata": {},
   "outputs": [],
   "source": [
    "datax = data.startDate.dropna().replace('T','-',regex=True)"
   ]
  },
  {
   "cell_type": "code",
   "execution_count": 216,
   "metadata": {},
   "outputs": [
    {
     "data": {
      "text/plain": [
       "['2022', '10', '20']"
      ]
     },
     "execution_count": 216,
     "metadata": {},
     "output_type": "execute_result"
    }
   ],
   "source": [
    "datax[0].split('-')[:3]"
   ]
  },
  {
   "cell_type": "code",
   "execution_count": 10,
   "metadata": {},
   "outputs": [],
   "source": [
    "from bs4 import BeautifulSoup"
   ]
  },
  {
   "cell_type": "code",
   "execution_count": 11,
   "metadata": {},
   "outputs": [],
   "source": [
    "response = requests.get(\"https://www.house.gov/representatives\")\n",
    "soup = BeautifulSoup(response.text, 'html.parser')\n",
    "tables = soup.select('table')\n",
    "rows = []\n",
    "for table in tables[:56]:\n",
    "    row = {}\n",
    "    row['District']             = [x.text.strip() for x in table.select('td')][0::6]\n",
    "    row['Name']                 = [x.text.strip() for x in table.select('td')][1::6]\n",
    "    row['Party']                = [x.text.strip() for x in table.select('td')][2::6]\n",
    "    row['Office Room']          = [x.text.strip() for x in table.select('td')][3::6]\n",
    "    row['Phone']                = [x.text.strip() for x in table.select('td')][4::6]\n",
    "    row['Committee Assignment'] = [x.text.strip() for x in table.select('td')][5::6]\n",
    "    row['State']                = table.select_one('caption').text.strip()\n",
    "    rows.append(pd.DataFrame(row))\n",
    "data = pd.concat(rows)"
   ]
  },
  {
   "cell_type": "code",
   "execution_count": 13,
   "metadata": {},
   "outputs": [
    {
     "data": {
      "text/plain": [
       "226"
      ]
     },
     "execution_count": 13,
     "metadata": {},
     "output_type": "execute_result"
    }
   ],
   "source": [
    "data[data.Party=='D'].shape[0]"
   ]
  },
  {
   "cell_type": "code",
   "execution_count": 17,
   "metadata": {},
   "outputs": [
    {
     "data": {
      "text/html": [
       "<div>\n",
       "<style scoped>\n",
       "    .dataframe tbody tr th:only-of-type {\n",
       "        vertical-align: middle;\n",
       "    }\n",
       "\n",
       "    .dataframe tbody tr th {\n",
       "        vertical-align: top;\n",
       "    }\n",
       "\n",
       "    .dataframe thead th {\n",
       "        text-align: right;\n",
       "    }\n",
       "</style>\n",
       "<table border=\"1\" class=\"dataframe\">\n",
       "  <thead>\n",
       "    <tr style=\"text-align: right;\">\n",
       "      <th></th>\n",
       "      <th>index</th>\n",
       "      <th>State</th>\n",
       "    </tr>\n",
       "  </thead>\n",
       "  <tbody>\n",
       "    <tr>\n",
       "      <th>0</th>\n",
       "      <td>California</td>\n",
       "      <td>53</td>\n",
       "    </tr>\n",
       "    <tr>\n",
       "      <th>1</th>\n",
       "      <td>Texas</td>\n",
       "      <td>36</td>\n",
       "    </tr>\n",
       "    <tr>\n",
       "      <th>2</th>\n",
       "      <td>Florida</td>\n",
       "      <td>27</td>\n",
       "    </tr>\n",
       "    <tr>\n",
       "      <th>3</th>\n",
       "      <td>New York</td>\n",
       "      <td>27</td>\n",
       "    </tr>\n",
       "    <tr>\n",
       "      <th>4</th>\n",
       "      <td>Pennsylvania</td>\n",
       "      <td>18</td>\n",
       "    </tr>\n",
       "    <tr>\n",
       "      <th>5</th>\n",
       "      <td>Illinois</td>\n",
       "      <td>18</td>\n",
       "    </tr>\n",
       "    <tr>\n",
       "      <th>6</th>\n",
       "      <td>Ohio</td>\n",
       "      <td>16</td>\n",
       "    </tr>\n",
       "    <tr>\n",
       "      <th>7</th>\n",
       "      <td>Michigan</td>\n",
       "      <td>14</td>\n",
       "    </tr>\n",
       "    <tr>\n",
       "      <th>8</th>\n",
       "      <td>Georgia</td>\n",
       "      <td>14</td>\n",
       "    </tr>\n",
       "    <tr>\n",
       "      <th>9</th>\n",
       "      <td>North Carolina</td>\n",
       "      <td>13</td>\n",
       "    </tr>\n",
       "    <tr>\n",
       "      <th>10</th>\n",
       "      <td>New Jersey</td>\n",
       "      <td>12</td>\n",
       "    </tr>\n",
       "    <tr>\n",
       "      <th>11</th>\n",
       "      <td>Virginia</td>\n",
       "      <td>11</td>\n",
       "    </tr>\n",
       "    <tr>\n",
       "      <th>12</th>\n",
       "      <td>Washington</td>\n",
       "      <td>10</td>\n",
       "    </tr>\n",
       "    <tr>\n",
       "      <th>13</th>\n",
       "      <td>Indiana</td>\n",
       "      <td>9</td>\n",
       "    </tr>\n",
       "    <tr>\n",
       "      <th>14</th>\n",
       "      <td>Massachusetts</td>\n",
       "      <td>9</td>\n",
       "    </tr>\n",
       "    <tr>\n",
       "      <th>15</th>\n",
       "      <td>Tennessee</td>\n",
       "      <td>9</td>\n",
       "    </tr>\n",
       "    <tr>\n",
       "      <th>16</th>\n",
       "      <td>Arizona</td>\n",
       "      <td>9</td>\n",
       "    </tr>\n",
       "    <tr>\n",
       "      <th>17</th>\n",
       "      <td>Missouri</td>\n",
       "      <td>8</td>\n",
       "    </tr>\n",
       "    <tr>\n",
       "      <th>18</th>\n",
       "      <td>Minnesota</td>\n",
       "      <td>8</td>\n",
       "    </tr>\n",
       "    <tr>\n",
       "      <th>19</th>\n",
       "      <td>Wisconsin</td>\n",
       "      <td>8</td>\n",
       "    </tr>\n",
       "    <tr>\n",
       "      <th>20</th>\n",
       "      <td>Maryland</td>\n",
       "      <td>8</td>\n",
       "    </tr>\n",
       "    <tr>\n",
       "      <th>21</th>\n",
       "      <td>Alabama</td>\n",
       "      <td>7</td>\n",
       "    </tr>\n",
       "    <tr>\n",
       "      <th>22</th>\n",
       "      <td>South Carolina</td>\n",
       "      <td>7</td>\n",
       "    </tr>\n",
       "    <tr>\n",
       "      <th>23</th>\n",
       "      <td>Colorado</td>\n",
       "      <td>7</td>\n",
       "    </tr>\n",
       "    <tr>\n",
       "      <th>24</th>\n",
       "      <td>Kentucky</td>\n",
       "      <td>6</td>\n",
       "    </tr>\n",
       "    <tr>\n",
       "      <th>25</th>\n",
       "      <td>Louisiana</td>\n",
       "      <td>6</td>\n",
       "    </tr>\n",
       "    <tr>\n",
       "      <th>26</th>\n",
       "      <td>Oregon</td>\n",
       "      <td>5</td>\n",
       "    </tr>\n",
       "    <tr>\n",
       "      <th>27</th>\n",
       "      <td>Oklahoma</td>\n",
       "      <td>5</td>\n",
       "    </tr>\n",
       "    <tr>\n",
       "      <th>28</th>\n",
       "      <td>Connecticut</td>\n",
       "      <td>5</td>\n",
       "    </tr>\n",
       "    <tr>\n",
       "      <th>29</th>\n",
       "      <td>Utah</td>\n",
       "      <td>4</td>\n",
       "    </tr>\n",
       "    <tr>\n",
       "      <th>30</th>\n",
       "      <td>Kansas</td>\n",
       "      <td>4</td>\n",
       "    </tr>\n",
       "    <tr>\n",
       "      <th>31</th>\n",
       "      <td>Mississippi</td>\n",
       "      <td>4</td>\n",
       "    </tr>\n",
       "    <tr>\n",
       "      <th>32</th>\n",
       "      <td>Iowa</td>\n",
       "      <td>4</td>\n",
       "    </tr>\n",
       "    <tr>\n",
       "      <th>33</th>\n",
       "      <td>Arkansas</td>\n",
       "      <td>4</td>\n",
       "    </tr>\n",
       "    <tr>\n",
       "      <th>34</th>\n",
       "      <td>Nevada</td>\n",
       "      <td>4</td>\n",
       "    </tr>\n",
       "    <tr>\n",
       "      <th>35</th>\n",
       "      <td>New Mexico</td>\n",
       "      <td>3</td>\n",
       "    </tr>\n",
       "    <tr>\n",
       "      <th>36</th>\n",
       "      <td>West Virginia</td>\n",
       "      <td>3</td>\n",
       "    </tr>\n",
       "    <tr>\n",
       "      <th>37</th>\n",
       "      <td>Nebraska</td>\n",
       "      <td>3</td>\n",
       "    </tr>\n",
       "    <tr>\n",
       "      <th>38</th>\n",
       "      <td>Hawaii</td>\n",
       "      <td>2</td>\n",
       "    </tr>\n",
       "    <tr>\n",
       "      <th>39</th>\n",
       "      <td>New Hampshire</td>\n",
       "      <td>2</td>\n",
       "    </tr>\n",
       "    <tr>\n",
       "      <th>40</th>\n",
       "      <td>Idaho</td>\n",
       "      <td>2</td>\n",
       "    </tr>\n",
       "    <tr>\n",
       "      <th>41</th>\n",
       "      <td>Rhode Island</td>\n",
       "      <td>2</td>\n",
       "    </tr>\n",
       "    <tr>\n",
       "      <th>42</th>\n",
       "      <td>Maine</td>\n",
       "      <td>2</td>\n",
       "    </tr>\n",
       "    <tr>\n",
       "      <th>43</th>\n",
       "      <td>Vermont</td>\n",
       "      <td>1</td>\n",
       "    </tr>\n",
       "    <tr>\n",
       "      <th>44</th>\n",
       "      <td>Virgin Islands</td>\n",
       "      <td>1</td>\n",
       "    </tr>\n",
       "    <tr>\n",
       "      <th>45</th>\n",
       "      <td>Montana</td>\n",
       "      <td>1</td>\n",
       "    </tr>\n",
       "    <tr>\n",
       "      <th>46</th>\n",
       "      <td>South Dakota</td>\n",
       "      <td>1</td>\n",
       "    </tr>\n",
       "    <tr>\n",
       "      <th>47</th>\n",
       "      <td>Puerto Rico</td>\n",
       "      <td>1</td>\n",
       "    </tr>\n",
       "    <tr>\n",
       "      <th>48</th>\n",
       "      <td>Northern Mariana Islands</td>\n",
       "      <td>1</td>\n",
       "    </tr>\n",
       "    <tr>\n",
       "      <th>49</th>\n",
       "      <td>North Dakota</td>\n",
       "      <td>1</td>\n",
       "    </tr>\n",
       "    <tr>\n",
       "      <th>50</th>\n",
       "      <td>Alaska</td>\n",
       "      <td>1</td>\n",
       "    </tr>\n",
       "    <tr>\n",
       "      <th>51</th>\n",
       "      <td>Guam</td>\n",
       "      <td>1</td>\n",
       "    </tr>\n",
       "    <tr>\n",
       "      <th>52</th>\n",
       "      <td>District of Columbia</td>\n",
       "      <td>1</td>\n",
       "    </tr>\n",
       "    <tr>\n",
       "      <th>53</th>\n",
       "      <td>Delaware</td>\n",
       "      <td>1</td>\n",
       "    </tr>\n",
       "    <tr>\n",
       "      <th>54</th>\n",
       "      <td>American Samoa</td>\n",
       "      <td>1</td>\n",
       "    </tr>\n",
       "    <tr>\n",
       "      <th>55</th>\n",
       "      <td>Wyoming</td>\n",
       "      <td>1</td>\n",
       "    </tr>\n",
       "  </tbody>\n",
       "</table>\n",
       "</div>"
      ],
      "text/plain": [
       "                       index  State\n",
       "0                 California     53\n",
       "1                      Texas     36\n",
       "2                    Florida     27\n",
       "3                   New York     27\n",
       "4               Pennsylvania     18\n",
       "5                   Illinois     18\n",
       "6                       Ohio     16\n",
       "7                   Michigan     14\n",
       "8                    Georgia     14\n",
       "9             North Carolina     13\n",
       "10                New Jersey     12\n",
       "11                  Virginia     11\n",
       "12                Washington     10\n",
       "13                   Indiana      9\n",
       "14             Massachusetts      9\n",
       "15                 Tennessee      9\n",
       "16                   Arizona      9\n",
       "17                  Missouri      8\n",
       "18                 Minnesota      8\n",
       "19                 Wisconsin      8\n",
       "20                  Maryland      8\n",
       "21                   Alabama      7\n",
       "22            South Carolina      7\n",
       "23                  Colorado      7\n",
       "24                  Kentucky      6\n",
       "25                 Louisiana      6\n",
       "26                    Oregon      5\n",
       "27                  Oklahoma      5\n",
       "28               Connecticut      5\n",
       "29                      Utah      4\n",
       "30                    Kansas      4\n",
       "31               Mississippi      4\n",
       "32                      Iowa      4\n",
       "33                  Arkansas      4\n",
       "34                    Nevada      4\n",
       "35                New Mexico      3\n",
       "36             West Virginia      3\n",
       "37                  Nebraska      3\n",
       "38                    Hawaii      2\n",
       "39             New Hampshire      2\n",
       "40                     Idaho      2\n",
       "41              Rhode Island      2\n",
       "42                     Maine      2\n",
       "43                   Vermont      1\n",
       "44            Virgin Islands      1\n",
       "45                   Montana      1\n",
       "46              South Dakota      1\n",
       "47               Puerto Rico      1\n",
       "48  Northern Mariana Islands      1\n",
       "49              North Dakota      1\n",
       "50                    Alaska      1\n",
       "51                      Guam      1\n",
       "52      District of Columbia      1\n",
       "53                  Delaware      1\n",
       "54            American Samoa      1\n",
       "55                   Wyoming      1"
      ]
     },
     "execution_count": 17,
     "metadata": {},
     "output_type": "execute_result"
    }
   ],
   "source": [
    "data.State.value_counts().reset_index()"
   ]
  },
  {
   "cell_type": "code",
   "execution_count": 20,
   "metadata": {},
   "outputs": [
    {
     "data": {
      "text/plain": [
       "[1, 2, 3, 4, 5, 6, 7, 8, 9, 10]"
      ]
     },
     "execution_count": 20,
     "metadata": {},
     "output_type": "execute_result"
    }
   ],
   "source": [
    "x = [1,2,3,4,5,6,7,8,9,10]\n",
    "x"
   ]
  },
  {
   "cell_type": "code",
   "execution_count": 21,
   "metadata": {},
   "outputs": [
    {
     "data": {
      "text/plain": [
       "list"
      ]
     },
     "execution_count": 21,
     "metadata": {},
     "output_type": "execute_result"
    }
   ],
   "source": [
    "type(x)"
   ]
  },
  {
   "cell_type": "code",
   "execution_count": null,
   "metadata": {},
   "outputs": [],
   "source": [
    "# list comprehension\n",
    "\n",
    "[\n",
    "    \n",
    "]"
   ]
  },
  {
   "cell_type": "code",
   "execution_count": 2,
   "metadata": {},
   "outputs": [],
   "source": [
    "projectOption = {\n",
    "   'Billionaires':1,\n",
    "   'Class Catalog - BYUI':2,\n",
    "   'Country Code':3,\n",
    "   'FIFA World Cup':4,\n",
    "   'Financial Data':5,\n",
    "   'Forbes - Billionaries':6,\n",
    "   'Forbes - Universities':7,\n",
    "   'Irvine Spectrum Center':8,\n",
    "   'Job Board - BYUI':9,\n",
    "   'Mutual App Feedback':10,\n",
    "   'News - CBS':11,\n",
    "   'Politicos Chilenos':12,\n",
    "   'Políticos Españoles':13,\n",
    "   'SINCA MMA Gob':14,\n",
    "   'Surplus Store - BYUI':15,\n",
    "   'house.gov/representatives':16,\n",
    "   'test':17\n",
    "}"
   ]
  },
  {
   "cell_type": "code",
   "execution_count": 23,
   "metadata": {},
   "outputs": [
    {
     "data": {
      "text/plain": [
       "('Billionaires',\n",
       " 'Class Catalog - BYUI',\n",
       " 'Country Code',\n",
       " 'FIFA World Cup',\n",
       " 'Financial Data',\n",
       " 'Forbes - Billionaries',\n",
       " 'Forbes - Universities',\n",
       " 'Irvine Spectrum Center',\n",
       " 'Job Board - BYUI',\n",
       " 'Mutual App Feedback',\n",
       " 'News - CBS',\n",
       " 'Politicos Chilenos',\n",
       " 'Políticos Españoles',\n",
       " 'SINCA MMA Gob',\n",
       " 'Surplus Store - BYUI',\n",
       " 'house.gov/representatives',\n",
       " 'test')"
      ]
     },
     "execution_count": 23,
     "metadata": {},
     "output_type": "execute_result"
    }
   ],
   "source": [
    "tuple(projectOption.keys())"
   ]
  },
  {
   "cell_type": "code",
   "execution_count": 41,
   "metadata": {},
   "outputs": [
    {
     "data": {
      "text/plain": [
       "1"
      ]
     },
     "execution_count": 41,
     "metadata": {},
     "output_type": "execute_result"
    }
   ],
   "source": [
    "projectOption['Billionaires']"
   ]
  },
  {
   "cell_type": "code",
   "execution_count": null,
   "metadata": {},
   "outputs": [],
   "source": []
  },
  {
   "cell_type": "code",
   "execution_count": null,
   "metadata": {},
   "outputs": [],
   "source": []
  },
  {
   "cell_type": "code",
   "execution_count": 25,
   "metadata": {},
   "outputs": [],
   "source": [
    "import requests\n",
    "from bs4 import BeautifulSoup\n",
    "import pandas as pd"
   ]
  },
  {
   "cell_type": "code",
   "execution_count": 40,
   "metadata": {},
   "outputs": [],
   "source": [
    "url = 'https://www.fifplay.com/fifa-23-player-ratings/'\n",
    "\n",
    "response = requests.get(url)\n",
    "\n",
    "soup = BeautifulSoup(response.text)"
   ]
  },
  {
   "cell_type": "code",
   "execution_count": 72,
   "metadata": {},
   "outputs": [
    {
     "data": {
      "text/plain": [
       "<li>RB: <strong><a href=\"https://www.fifplay.com/fifa-23/players/188377/kyle-walker/\" target=\"_blank\">Kyle Walker</a></strong> (85) - Manchester City</li>"
      ]
     },
     "execution_count": 72,
     "metadata": {},
     "output_type": "execute_result"
    }
   ],
   "source": [
    "soup.find_all('li')[-85]"
   ]
  },
  {
   "cell_type": "code",
   "execution_count": null,
   "metadata": {},
   "outputs": [],
   "source": []
  }
 ],
 "metadata": {
  "kernelspec": {
   "display_name": "Python 3.9.0 64-bit",
   "language": "python",
   "name": "python3"
  },
  "language_info": {
   "codemirror_mode": {
    "name": "ipython",
    "version": 3
   },
   "file_extension": ".py",
   "mimetype": "text/x-python",
   "name": "python",
   "nbconvert_exporter": "python",
   "pygments_lexer": "ipython3",
   "version": "3.9.0"
  },
  "orig_nbformat": 4,
  "vscode": {
   "interpreter": {
    "hash": "397704579725e15f5c7cb49fe5f0341eb7531c82d19f2c29d197e8b64ab5776b"
   }
  }
 },
 "nbformat": 4,
 "nbformat_minor": 2
}
