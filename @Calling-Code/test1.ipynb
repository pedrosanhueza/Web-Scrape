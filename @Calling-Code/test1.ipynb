{
 "cells": [
  {
   "cell_type": "code",
   "execution_count": 4,
   "metadata": {},
   "outputs": [],
   "source": [
    "import requests\n",
    "import pandas as pd\n",
    "import numpy as np\n",
    "response = requests.get('https://web.byui.edu/studentemployment/api/jobs')\n",
    "\n",
    "data_json = response.json()\n",
    "\n",
    "data = pd.DataFrame(data_json)"
   ]
  },
  {
   "cell_type": "code",
   "execution_count": 7,
   "metadata": {},
   "outputs": [
    {
     "data": {
      "text/plain": [
       "jobID                                                                1187288\n",
       "title                                            Reports and Systems Analyst\n",
       "departmentName                                      BYU Idaho Support Center\n",
       "description                <p><span>The Reports and Systems Analyst is re...\n",
       "summary                    The Reports and Systems Analyst is responsible...\n",
       "displayJob                                                              True\n",
       "dateUpdated                                       2022-10-18T20:44:23.300014\n",
       "startDate                                                                NaN\n",
       "endDate                                                                  NaN\n",
       "managerName                                                      Luisa Silva\n",
       "approximateHoursPerWeek                                                15-40\n",
       "payRate                                                                 12.0\n",
       "positionsAllocated                                                     100.0\n",
       "positionsAvailble                                                       93.0\n",
       "workSchedule                                                      M-F Varies\n",
       "beginningDate                                                            NaN\n",
       "recruitingStartDate                                      2020-10-01T01:00:00\n",
       "requireResume                                                           True\n",
       "limitApplicants                                                        False\n",
       "limitNumber                                                                0\n",
       "applicants                                                                []\n",
       "jobQuestions                                                              []\n",
       "isOnline                                                               False\n",
       "allowOnline                                                            False\n",
       "jobMajors                  [{'jobMajorId': 378, 'jobId': 1187288, 'majorI...\n",
       "Name: 3, dtype: object"
      ]
     },
     "execution_count": 7,
     "metadata": {},
     "output_type": "execute_result"
    }
   ],
   "source": [
    "data[data.title == 'Reports and Systems Analyst'].iloc[0]"
   ]
  },
  {
   "cell_type": "code",
   "execution_count": 9,
   "metadata": {},
   "outputs": [],
   "source": [
    "import time"
   ]
  },
  {
   "cell_type": "code",
   "execution_count": 19,
   "metadata": {},
   "outputs": [],
   "source": [
    "today_data = data[data.dateUpdated >= time.strftime(\"%Y-%m-%d\")]\n",
    "\n",
    "today = today_data.shape[0]"
   ]
  },
  {
   "cell_type": "code",
   "execution_count": 28,
   "metadata": {},
   "outputs": [],
   "source": [
    "from datetime import datetime\n",
    "import pytz"
   ]
  },
  {
   "cell_type": "code",
   "execution_count": 46,
   "metadata": {},
   "outputs": [],
   "source": [
    "newYorkTz = pytz.timezone('US/Mountain') \n",
    "timeZoneMountain = datetime.now(newYorkTz)\n",
    "currentTimeInRexburg = timeZoneMountain.strftime(\"%Y-%m-%d\")\n",
    "\n",
    "currentTimeInRexburg"
   ]
  },
  {
   "cell_type": "code",
   "execution_count": 1,
   "metadata": {},
   "outputs": [],
   "source": [
    "import requests # to get the html markdown from the url\n",
    "from bs4 import BeautifulSoup # to make the html readable\n",
    "import pandas as pd # to save table in a csv"
   ]
  },
  {
   "cell_type": "code",
   "execution_count": 2,
   "metadata": {},
   "outputs": [],
   "source": [
    "url_surplus = 'https://web.byui.edu/SurplusList/'\n",
    "html_data = requests.get(url_surplus)\n",
    "soup = BeautifulSoup(html_data.text, 'html.parser')\n"
   ]
  },
  {
   "cell_type": "code",
   "execution_count": 3,
   "metadata": {},
   "outputs": [],
   "source": [
    "\n",
    "# Build Table\n",
    "rows=[]\n",
    "for item in soup.find_all('tr')[13:]:\n",
    "    row={}\n",
    "    row['Item Number'] = item.select('td')[0].text\n",
    "    row['Qty'] = item.select('td')[1].text\n",
    "    row['Description'] = item.select('td')[2].text\n",
    "    row['Condition'] = item.select('td')[3].text\n",
    "    row['Price'] = item.select('td')[4].text\n",
    "    row['Location'] = item.select('td')[5].text\n",
    "    row['Quick/Bid'] = item.select('td')[6].text\n",
    "    # row['Image'] = item.select('td')[7].text\n",
    "    rows.append(row)\n"
   ]
  },
  {
   "cell_type": "code",
   "execution_count": 6,
   "metadata": {},
   "outputs": [
    {
     "data": {
      "text/plain": [
       "<tr bgcolor=\"#EEEEEE\">\n",
       "<td align=\"center\"><font color=\"Black\">77122</font></td><td><font color=\"Black\">1</font></td><td class=\"GridDisplayDescription\" width=\"50%\"><font color=\"Black\">BKI Free  Standing Fry Dump Station or Food Warmer</font></td><td><font color=\"Black\">GOOD</font></td><td align=\"right\"><font color=\"Black\">$175.00</font></td><td><font color=\"Black\">EA</font></td><td><font color=\"Black\">Quick</font></td><td><font color=\"Black\"><a href=\"\" onclick=\"javascript:window.open('DisplayImages.aspx?ItemId=39460'); return false;\">Image</a></font></td>\n",
       "</tr>"
      ]
     },
     "execution_count": 6,
     "metadata": {},
     "output_type": "execute_result"
    }
   ],
   "source": [
    "soup.find_all('tr')[13]"
   ]
  },
  {
   "cell_type": "code",
   "execution_count": 11,
   "metadata": {},
   "outputs": [],
   "source": [
    "data = pd.DataFrame(rows)\n",
    "data.drop(data.tail(1).index,inplace=True) # Drop last row (is empty)\n",
    "data.Price = pd.to_numeric(data.Price.str.replace(\"$\",\"\",regex=True).replace(\",\",\"\",regex=True))"
   ]
  },
  {
   "cell_type": "code",
   "execution_count": 12,
   "metadata": {},
   "outputs": [
    {
     "data": {
      "text/plain": [
       "6300.0"
      ]
     },
     "execution_count": 12,
     "metadata": {},
     "output_type": "execute_result"
    }
   ],
   "source": [
    "data.Price.max()"
   ]
  },
  {
   "cell_type": "code",
   "execution_count": 15,
   "metadata": {},
   "outputs": [
    {
     "data": {
      "text/plain": [
       "4"
      ]
     },
     "execution_count": 15,
     "metadata": {},
     "output_type": "execute_result"
    }
   ],
   "source": [
    "data[data.Condition == 'EXCELLENT'].shape[0]"
   ]
  },
  {
   "cell_type": "code",
   "execution_count": 16,
   "metadata": {},
   "outputs": [],
   "source": [
    "names = data['Condition'].value_counts().reset_index()['index']\n",
    "values = data['Condition'].value_counts().reset_index()['Condition']"
   ]
  },
  {
   "cell_type": "code",
   "execution_count": 17,
   "metadata": {},
   "outputs": [
    {
     "data": {
      "text/plain": [
       "0         GOOD\n",
       "1         FAIR\n",
       "2    EXCELLENT\n",
       "3       VARIES\n",
       "4         POOR\n",
       "5      UNKNOWN\n",
       "Name: index, dtype: object"
      ]
     },
     "execution_count": 17,
     "metadata": {},
     "output_type": "execute_result"
    }
   ],
   "source": [
    "names"
   ]
  },
  {
   "cell_type": "code",
   "execution_count": 18,
   "metadata": {},
   "outputs": [
    {
     "data": {
      "text/plain": [
       "0    39\n",
       "1     5\n",
       "2     4\n",
       "3     3\n",
       "4     2\n",
       "5     1\n",
       "Name: Condition, dtype: int64"
      ]
     },
     "execution_count": 18,
     "metadata": {},
     "output_type": "execute_result"
    }
   ],
   "source": [
    "values"
   ]
  },
  {
   "cell_type": "code",
   "execution_count": null,
   "metadata": {},
   "outputs": [],
   "source": []
  }
 ],
 "metadata": {
  "kernelspec": {
   "display_name": "Python 3.9.0 64-bit",
   "language": "python",
   "name": "python3"
  },
  "language_info": {
   "codemirror_mode": {
    "name": "ipython",
    "version": 3
   },
   "file_extension": ".py",
   "mimetype": "text/x-python",
   "name": "python",
   "nbconvert_exporter": "python",
   "pygments_lexer": "ipython3",
   "version": "3.9.0"
  },
  "orig_nbformat": 4,
  "vscode": {
   "interpreter": {
    "hash": "397704579725e15f5c7cb49fe5f0341eb7531c82d19f2c29d197e8b64ab5776b"
   }
  }
 },
 "nbformat": 4,
 "nbformat_minor": 2
}
