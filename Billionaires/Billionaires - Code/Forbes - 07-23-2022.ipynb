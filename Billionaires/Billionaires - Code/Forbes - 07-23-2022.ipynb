{
 "cells": [
  {
   "cell_type": "code",
   "execution_count": 218,
   "metadata": {},
   "outputs": [],
   "source": [
    "import requests\n",
    "import pandas as pd\n",
    "from bs4 import BeautifulSoup"
   ]
  },
  {
   "cell_type": "code",
   "execution_count": 219,
   "metadata": {},
   "outputs": [],
   "source": [
    "url = \"https://www.forbes.com/billionaires/page-data/index/page-data.json\"\n",
    "\n",
    "response = requests.get(url)\n",
    "\n",
    "json_data = response.json()"
   ]
  },
  {
   "cell_type": "code",
   "execution_count": 79,
   "metadata": {},
   "outputs": [],
   "source": [
    "rows = json_data['result']['pageContext']['tableData']"
   ]
  },
  {
   "cell_type": "code",
   "execution_count": 221,
   "metadata": {},
   "outputs": [
    {
     "data": {
      "text/plain": [
       "{'name': 'Billionaires',\n",
       " 'year': 2022,\n",
       " 'month': 4,\n",
       " 'uri': 'elon-musk',\n",
       " 'rank': 1,\n",
       " 'listUri': 'billionaires',\n",
       " 'finalWorth': 219000,\n",
       " 'category': 'Automotive',\n",
       " 'otherCompensation': 0,\n",
       " 'visible': True,\n",
       " 'personName': 'Elon Musk',\n",
       " 'age': 50,\n",
       " 'country': 'United States',\n",
       " 'state': 'Texas',\n",
       " 'city': 'Austin',\n",
       " 'source': 'Tesla, SpaceX',\n",
       " 'industries': 'Automotive',\n",
       " 'countryOfCitizenship': 'United States',\n",
       " 'organization': 'Tesla',\n",
       " 'timestamp': 1654704576021,\n",
       " 'version': 1,\n",
       " 'naturalId': 'faris/5/2022/14117',\n",
       " 'position': 1,\n",
       " 'imageExists': True,\n",
       " 'selfMade': True,\n",
       " 'status': 'U',\n",
       " 'gender': 'M',\n",
       " 'birthDate': 46915200000,\n",
       " 'lastName': 'Musk',\n",
       " 'firstName': 'Elon',\n",
       " 'listDescription': \"The World's Billionaires\",\n",
       " 'title': 'CEO',\n",
       " 'date': 1649199600000,\n",
       " 'wealthList': False,\n",
       " 'familyList': False,\n",
       " 'selfMadeRank': 8,\n",
       " 'residenceStateRegion': 'South',\n",
       " 'squareImage': 'https://specials-images.forbesimg.com/imageserve/5f47d4de7637290765bce495/416x416.jpg?background=000000&cropX1=1699&cropX2=3845&cropY1=559&cropY2=2704',\n",
       " 'bioSuppress': False,\n",
       " 'suppressOnProfiles': False,\n",
       " 'premiumProfile': False,\n",
       " 'philanthropyScore': 1,\n",
       " 'embargo': False,\n",
       " 'netWorth': '$219 B'}"
      ]
     },
     "execution_count": 221,
     "metadata": {},
     "output_type": "execute_result"
    }
   ],
   "source": [
    "tableData = {\n",
    "    k: v\n",
    "    for (k, v) in rows[0].items()\n",
    "    if\n",
    "    (k != 'person') & # dict\n",
    "    (k != 'employment') & # dict\n",
    "    (k != 'qas') & # two dicts\n",
    "    (k != 'bios') & # list\n",
    "    (k != 'abouts') & #list\n",
    "    (k != 'csfDisplayFields') #list\n",
    "}\n",
    "tableData"
   ]
  },
  {
   "cell_type": "code",
   "execution_count": 216,
   "metadata": {},
   "outputs": [
    {
     "data": {
      "text/plain": [
       "{'person_name': 'Elon Musk',\n",
       " 'person_uri': 'elon-musk',\n",
       " 'person_imageExists': True,\n",
       " 'person_squareImage': 'https://specials-images.forbesimg.com/imageserve/5f47d4de7637290765bce495/416x416.jpg?background=000000&cropX1=1699&cropX2=3845&cropY1=559&cropY2=2704'}"
      ]
     },
     "execution_count": 216,
     "metadata": {},
     "output_type": "execute_result"
    }
   ],
   "source": [
    "person = {\n",
    "    list(rows[0].keys())[9]+'_'+k:v\n",
    "    for (k,v) in rows[0][list(rows[0].keys())[9]].items()\n",
    "}\n",
    "person"
   ]
  },
  {
   "cell_type": "code",
   "execution_count": 217,
   "metadata": {},
   "outputs": [
    {
     "data": {
      "text/plain": [
       "{'employment_name': 'Tesla',\n",
       " 'employment_uri': 'companies/tesla',\n",
       " 'employment_title': 'CEO',\n",
       " 'employment_government': False,\n",
       " 'employment_featuredExecutive': False}"
      ]
     },
     "execution_count": 217,
     "metadata": {},
     "output_type": "execute_result"
    }
   ],
   "source": [
    "employment = {\n",
    "    list(rows[0].keys())[33]+'_'+k:v\n",
    "    for (k,v) in rows[0][list(rows[0].keys())[33]].items()\n",
    "}\n",
    "employment"
   ]
  },
  {
   "cell_type": "code",
   "execution_count": 140,
   "metadata": {},
   "outputs": [
    {
     "data": {
      "text/plain": [
       "[{'question': 'Innovative Leaders: 12-month Sales Growth, %',\n",
       "  'answer': '27.03',\n",
       "  'hidden': False},\n",
       " {'question': 'Innovative Leaders: Company Innovation Premium',\n",
       "  'answer': '72.16',\n",
       "  'hidden': False}]"
      ]
     },
     "execution_count": 140,
     "metadata": {},
     "output_type": "execute_result"
    }
   ],
   "source": [
    "rows[0]['qas']"
   ]
  },
  {
   "cell_type": "code",
   "execution_count": 222,
   "metadata": {},
   "outputs": [
    {
     "data": {
      "text/html": [
       "<div>\n",
       "<style scoped>\n",
       "    .dataframe tbody tr th:only-of-type {\n",
       "        vertical-align: middle;\n",
       "    }\n",
       "\n",
       "    .dataframe tbody tr th {\n",
       "        vertical-align: top;\n",
       "    }\n",
       "\n",
       "    .dataframe thead th {\n",
       "        text-align: right;\n",
       "    }\n",
       "</style>\n",
       "<table border=\"1\" class=\"dataframe\">\n",
       "  <thead>\n",
       "    <tr style=\"text-align: right;\">\n",
       "      <th></th>\n",
       "      <th>name</th>\n",
       "      <th>year</th>\n",
       "      <th>month</th>\n",
       "      <th>uri</th>\n",
       "      <th>rank</th>\n",
       "      <th>listUri</th>\n",
       "      <th>finalWorth</th>\n",
       "      <th>category</th>\n",
       "      <th>otherCompensation</th>\n",
       "      <th>visible</th>\n",
       "      <th>...</th>\n",
       "      <th>familyList</th>\n",
       "      <th>selfMadeRank</th>\n",
       "      <th>residenceStateRegion</th>\n",
       "      <th>squareImage</th>\n",
       "      <th>bioSuppress</th>\n",
       "      <th>suppressOnProfiles</th>\n",
       "      <th>premiumProfile</th>\n",
       "      <th>philanthropyScore</th>\n",
       "      <th>embargo</th>\n",
       "      <th>netWorth</th>\n",
       "    </tr>\n",
       "  </thead>\n",
       "  <tbody>\n",
       "    <tr>\n",
       "      <th>0</th>\n",
       "      <td>Billionaires</td>\n",
       "      <td>2022</td>\n",
       "      <td>4</td>\n",
       "      <td>elon-musk</td>\n",
       "      <td>1</td>\n",
       "      <td>billionaires</td>\n",
       "      <td>219000</td>\n",
       "      <td>Automotive</td>\n",
       "      <td>0</td>\n",
       "      <td>True</td>\n",
       "      <td>...</td>\n",
       "      <td>False</td>\n",
       "      <td>8</td>\n",
       "      <td>South</td>\n",
       "      <td>https://specials-images.forbesimg.com/imageser...</td>\n",
       "      <td>False</td>\n",
       "      <td>False</td>\n",
       "      <td>False</td>\n",
       "      <td>1</td>\n",
       "      <td>False</td>\n",
       "      <td>$219 B</td>\n",
       "    </tr>\n",
       "  </tbody>\n",
       "</table>\n",
       "<p>1 rows × 44 columns</p>\n",
       "</div>"
      ],
      "text/plain": [
       "           name  year  month        uri  rank       listUri  finalWorth  \\\n",
       "0  Billionaires  2022      4  elon-musk     1  billionaires      219000   \n",
       "\n",
       "     category  otherCompensation  visible  ... familyList  selfMadeRank  \\\n",
       "0  Automotive                  0     True  ...      False             8   \n",
       "\n",
       "  residenceStateRegion                                        squareImage  \\\n",
       "0                South  https://specials-images.forbesimg.com/imageser...   \n",
       "\n",
       "  bioSuppress suppressOnProfiles premiumProfile philanthropyScore embargo  \\\n",
       "0       False              False          False                 1   False   \n",
       "\n",
       "   netWorth  \n",
       "0    $219 B  \n",
       "\n",
       "[1 rows x 44 columns]"
      ]
     },
     "execution_count": 222,
     "metadata": {},
     "output_type": "execute_result"
    }
   ],
   "source": [
    "pd.DataFrame([tableData])"
   ]
  },
  {
   "cell_type": "code",
   "execution_count": 203,
   "metadata": {},
   "outputs": [],
   "source": [
    "    ls_=[]\n",
    "\n",
    "    for row in rows:\n",
    "        tableData = {\n",
    "            k: v\n",
    "            for (k, v) in row.items()\n",
    "            if\n",
    "            (k != 'person') & # dict\n",
    "            (k != 'employment') & # dict\n",
    "            (k != 'qas') & # two dicts\n",
    "            (k != 'bios') & # list\n",
    "            (k != 'abouts') & #list\n",
    "            (k != 'csfDisplayFields') #list\n",
    "            }\n",
    "        ls_.append(tableData)"
   ]
  },
  {
   "cell_type": "code",
   "execution_count": 204,
   "metadata": {},
   "outputs": [],
   "source": [
    "data = pd.DataFrame(ls_)"
   ]
  },
  {
   "cell_type": "code",
   "execution_count": 205,
   "metadata": {},
   "outputs": [],
   "source": [
    "cols_to_drop = [\n",
    "    'parentListUri',\n",
    "    'organization',\n",
    "    'title',\n",
    "    'selfMadeRank',\n",
    "    'residenceStateRegion',\n",
    "    'embargo',\n",
    "    'residenceMsa',\n",
    "    'impactInvestor',\n",
    "    'numberOfSiblings',\n",
    "    'numberOfSiblingsEst',\n",
    "    'bio',\n",
    "    'totalCharitableDonation',\n",
    "    'charitableDonationPercentage',\n",
    "    'thumbnail',\n",
    "    'notableDeal',\n",
    "    'valueCreated',\n",
    "    'primaryIndustry',\n",
    "    'portraitImage',\n",
    "    'landscapeImage',\n",
    "    'clients']\n",
    "\n",
    "data.drop(cols_to_drop, axis=1, inplace=True)"
   ]
  },
  {
   "cell_type": "code",
   "execution_count": 206,
   "metadata": {},
   "outputs": [
    {
     "data": {
      "text/plain": [
       "name                       0\n",
       "year                       0\n",
       "month                      0\n",
       "uri                        0\n",
       "rank                       0\n",
       "listUri                    0\n",
       "finalWorth                 0\n",
       "category                   0\n",
       "otherCompensation          0\n",
       "visible                    0\n",
       "personName                 0\n",
       "age                        0\n",
       "country                   13\n",
       "state                   1920\n",
       "city                      45\n",
       "source                     0\n",
       "industries                 0\n",
       "countryOfCitizenship       0\n",
       "timestamp                  0\n",
       "version                    0\n",
       "naturalId                  0\n",
       "position                   0\n",
       "imageExists                0\n",
       "selfMade                   0\n",
       "status                     0\n",
       "gender                    16\n",
       "birthDate                 99\n",
       "lastName                   0\n",
       "firstName                  6\n",
       "listDescription            0\n",
       "date                       0\n",
       "wealthList                 0\n",
       "familyList                 0\n",
       "squareImage              681\n",
       "bioSuppress                0\n",
       "suppressOnProfiles         0\n",
       "premiumProfile             0\n",
       "philanthropyScore          0\n",
       "netWorth                   0\n",
       "dtype: int64"
      ]
     },
     "execution_count": 206,
     "metadata": {},
     "output_type": "execute_result"
    }
   ],
   "source": [
    "data.isna().sum()"
   ]
  },
  {
   "cell_type": "code",
   "execution_count": 207,
   "metadata": {},
   "outputs": [
    {
     "data": {
      "text/plain": [
       "0       Billionaires\n",
       "1       Billionaires\n",
       "2       Billionaires\n",
       "3       Billionaires\n",
       "4       Billionaires\n",
       "            ...     \n",
       "2663    Billionaires\n",
       "2664    Billionaires\n",
       "2665    Billionaires\n",
       "2666    Billionaires\n",
       "2667    Billionaires\n",
       "Name: name, Length: 2668, dtype: object"
      ]
     },
     "execution_count": 207,
     "metadata": {},
     "output_type": "execute_result"
    }
   ],
   "source": [
    "data['name']"
   ]
  },
  {
   "cell_type": "code",
   "execution_count": null,
   "metadata": {},
   "outputs": [],
   "source": []
  },
  {
   "cell_type": "code",
   "execution_count": null,
   "metadata": {},
   "outputs": [],
   "source": []
  },
  {
   "cell_type": "code",
   "execution_count": null,
   "metadata": {},
   "outputs": [],
   "source": []
  },
  {
   "cell_type": "code",
   "execution_count": null,
   "metadata": {},
   "outputs": [],
   "source": []
  }
 ],
 "metadata": {
  "interpreter": {
   "hash": "aee8b7b246df8f9039afb4144a1f6fd8d2ca17a180786b69acc140d282b71a49"
  },
  "kernelspec": {
   "display_name": "Python 3.9.0 64-bit",
   "language": "python",
   "name": "python3"
  },
  "language_info": {
   "codemirror_mode": {
    "name": "ipython",
    "version": 3
   },
   "file_extension": ".py",
   "mimetype": "text/x-python",
   "name": "python",
   "nbconvert_exporter": "python",
   "pygments_lexer": "ipython3",
   "version": "3.10.7"
  },
  "orig_nbformat": 4
 },
 "nbformat": 4,
 "nbformat_minor": 2
}
