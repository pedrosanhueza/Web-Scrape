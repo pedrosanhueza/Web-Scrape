{
 "cells": [
  {
   "cell_type": "markdown",
   "metadata": {},
   "source": [
    "# Web Scrape the ESPN Soccer teams\n",
    "## Author: Pedro Sanhueza\n",
    "## Website: [www.foxsports.com](https://www.foxsports.com/soccer/2022-fifa-world-cup/teams)"
   ]
  },
  {
   "cell_type": "code",
   "execution_count": 9,
   "metadata": {},
   "outputs": [],
   "source": [
    "import requests\n",
    "from bs4 import BeautifulSoup\n",
    "import pandas as pd \n",
    "\n",
    "url = 'https://www.foxsports.com/soccer/2022-fifa-world-cup/teams'\n",
    "\n",
    "response = requests.get(url)\n",
    "\n",
    "soup = BeautifulSoup(response.text)\n",
    "\n",
    "country_name = [x.text for x in soup.find_all('h3')]\n",
    "\n",
    "countries = [x['href'] for x in soup.find_all('a',{'class':'entity-list-row-container image-logo'})]\n",
    "\n",
    "# ---------------------------------------- running time: 1m 20s ---------------------------------------- #\n",
    "\n",
    "rows=[]\n",
    "\n",
    "for idx,country in enumerate(countries):\n",
    "\n",
    "    url_root = f'https://www.foxsports.com{country}-roster'\n",
    "    soup = BeautifulSoup(requests.get(url_root).text, 'html.parser')\n",
    "\n",
    "    table = soup.find('div',{'view':'team'})\n",
    "    # title = [x.text.strip() for x in table.find('tr')]\n",
    "    title = ['GOALKEEPER', 'POS', 'AGE', 'HT', 'WT']\n",
    "    \n",
    "    for group in table.find_all('tbody')[:-1]:\n",
    "        for player in group:\n",
    "            row={}\n",
    "            row['Country'] = country_name[idx].capitalize()\n",
    "            row[title[1]] = player.find('td',{'data-index':'1'}).text.strip()\n",
    "            row['Name'] = player.find('h3').text\n",
    "            row[title[2]] = player.find('td',{'data-index':'2'}).text.strip()\n",
    "            row[title[3]] = player.find('td',{'data-index':'3'}).text.strip()\n",
    "            row[title[4]] = player.find('td',{'data-index':'4'}).text.strip()\n",
    "            row['Country_logo'] = soup.find('source')['srcset']\n",
    "            rows.append(row)\n",
    "    break # testing purposes\n",
    "data = pd.DataFrame(rows)\n",
    "\n",
    "# data = data[~data.isin(['-']).any(axis=1)] # drop rows with missing data\n",
    "\n",
    "# POS_mapped = {'G': 'Goalkeeper', 'D': 'Defender', 'M': 'Midfielder', 'F': 'Forward'}\n",
    "\n",
    "# data.replace({title[1]: POS_mapped}, inplace=True)\n",
    "\n",
    "# data[title[2]] = pd.to_numeric(data[title[2]]) # age column to number\n",
    "\n",
    "# data[title[3]] = data[title[3]].apply(lambda x: (int(x.split('\\'')[0])*12 + int(x.split('\\'')[1].replace('\\\"',''))) * 2.54) # inches to centimeters\n",
    "\n",
    "# # weight column to number\n",
    "# data[title[4]] = data[title[4]].apply(lambda x: round(int(x.split(' ')[0]) / 2.205,1)) # lbs to kg\n",
    "\n",
    "# # add BMI column\n",
    "# data['BMI'] = data.apply(lambda x: round(x.WT / (x.HT/100)**2,1) , axis=1)\n",
    "\n",
    "# ---------------------------------------------------------------- END MAIN SCRIPT ---------------------------------------------------------------- #\n",
    "\n",
    "script = ''' '''"
   ]
  },
  {
   "cell_type": "code",
   "execution_count": 16,
   "metadata": {},
   "outputs": [
    {
     "data": {
      "text/plain": [
       "['GOALKEEPER', 'POS', 'AGE', 'HT', 'WT']"
      ]
     },
     "execution_count": 16,
     "metadata": {},
     "output_type": "execute_result"
    }
   ],
   "source": [
    "[x.text.strip() for x in table.find_all('tr')[0]]"
   ]
  },
  {
   "cell_type": "code",
   "execution_count": 17,
   "metadata": {},
   "outputs": [
    {
     "data": {
      "text/plain": [
       "{'G': 'Goalkeeper', 'D': 'Defender', 'M': 'Midfielder', 'F': 'Forward'}"
      ]
     },
     "execution_count": 17,
     "metadata": {},
     "output_type": "execute_result"
    }
   ],
   "source": [
    "POS_mapped = {'G': 'Goalkeeper', 'D': 'Defender', 'M': 'Midfielder', 'F': 'Forward'}\n",
    "POS_mapped"
   ]
  },
  {
   "cell_type": "code",
   "execution_count": 19,
   "metadata": {},
   "outputs": [
    {
     "data": {
      "text/plain": [
       "D    12\n",
       "M    11\n",
       "F     7\n",
       "G     3\n",
       "Name: POS, dtype: int64"
      ]
     },
     "execution_count": 19,
     "metadata": {},
     "output_type": "execute_result"
    }
   ],
   "source": [
    "data.POS.value_counts()"
   ]
  },
  {
   "cell_type": "code",
   "execution_count": 18,
   "metadata": {},
   "outputs": [
    {
     "data": {
      "text/plain": [
       "'POS'"
      ]
     },
     "execution_count": 18,
     "metadata": {},
     "output_type": "execute_result"
    }
   ],
   "source": [
    "title[1]"
   ]
  },
  {
   "cell_type": "code",
   "execution_count": null,
   "metadata": {},
   "outputs": [],
   "source": [
    "\n",
    "data.replace({title[1]: POS_mapped}, inplace=True)"
   ]
  }
 ],
 "metadata": {
  "kernelspec": {
   "display_name": "Python 3.9.0 64-bit",
   "language": "python",
   "name": "python3"
  },
  "language_info": {
   "codemirror_mode": {
    "name": "ipython",
    "version": 3
   },
   "file_extension": ".py",
   "mimetype": "text/x-python",
   "name": "python",
   "nbconvert_exporter": "python",
   "pygments_lexer": "ipython3",
   "version": "3.9.0"
  },
  "orig_nbformat": 4,
  "vscode": {
   "interpreter": {
    "hash": "397704579725e15f5c7cb49fe5f0341eb7531c82d19f2c29d197e8b64ab5776b"
   }
  }
 },
 "nbformat": 4,
 "nbformat_minor": 2
}
