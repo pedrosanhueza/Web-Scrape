{
 "cells": [
  {
   "cell_type": "markdown",
   "metadata": {},
   "source": [
    "# Web Scrape the ESPN Soccer teams\n",
    "## Author: Pedro Sanhueza\n",
    "## Website: [www.foxsports.com](https://www.foxsports.com/soccer/2022-fifa-world-cup/teams)"
   ]
  },
  {
   "cell_type": "code",
   "execution_count": 1,
   "metadata": {},
   "outputs": [],
   "source": [
    "import requests\n",
    "from bs4 import BeautifulSoup\n",
    "import pandas as pd "
   ]
  },
  {
   "cell_type": "code",
   "execution_count": 2,
   "metadata": {},
   "outputs": [],
   "source": [
    "def get_soup(url):\n",
    "    response = requests.get(url)\n",
    "    soup = BeautifulSoup(response.text, 'html.parser')\n",
    "    return soup"
   ]
  },
  {
   "cell_type": "code",
   "execution_count": 3,
   "metadata": {},
   "outputs": [],
   "source": [
    "url_main = 'https://www.foxsports.com/soccer/2022-fifa-world-cup/teams'\n",
    "\n",
    "soup = get_soup(url_main)\n",
    "\n",
    "countries = soup.find_all('a',{'class':'entity-list-row-container image-logo'}) # list of all tags that has country's href\n",
    "\n",
    "countries_link = [ href['href'] for href in countries ] #list of all countries href\n"
   ]
  },
  {
   "cell_type": "code",
   "execution_count": 16,
   "metadata": {},
   "outputs": [],
   "source": [
    "\n",
    "for country in countries_link:\n",
    "    \n",
    "    country_url = f'https://www.foxsports.com{country}-roster'\n",
    "    \n",
    "    soup = get_soup(country_url)\n",
    "    \n",
    "    positions = soup.find_all('table') # there has to be 5 positions tables for each roster country\n",
    "\n",
    "    row = {}\n",
    "    for position in positions:\n",
    "        row['Position'] = position.find('th').text.strip()\n",
    "\n",
    "    break"
   ]
  },
  {
   "cell_type": "code",
   "execution_count": 17,
   "metadata": {},
   "outputs": [
    {
     "data": {
      "text/plain": [
       "{'Position': 'PLAYER COUNT'}"
      ]
     },
     "execution_count": 17,
     "metadata": {},
     "output_type": "execute_result"
    }
   ],
   "source": [
    "row"
   ]
  },
  {
   "cell_type": "code",
   "execution_count": null,
   "metadata": {},
   "outputs": [],
   "source": []
  }
 ],
 "metadata": {
  "kernelspec": {
   "display_name": "Python 3.9.0 64-bit",
   "language": "python",
   "name": "python3"
  },
  "language_info": {
   "codemirror_mode": {
    "name": "ipython",
    "version": 3
   },
   "file_extension": ".py",
   "mimetype": "text/x-python",
   "name": "python",
   "nbconvert_exporter": "python",
   "pygments_lexer": "ipython3",
   "version": "3.9.0"
  },
  "orig_nbformat": 4,
  "vscode": {
   "interpreter": {
    "hash": "397704579725e15f5c7cb49fe5f0341eb7531c82d19f2c29d197e8b64ab5776b"
   }
  }
 },
 "nbformat": 4,
 "nbformat_minor": 2
}
