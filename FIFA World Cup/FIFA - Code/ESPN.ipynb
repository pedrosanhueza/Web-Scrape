{
 "cells": [
  {
   "cell_type": "markdown",
   "metadata": {},
   "source": [
    "# Web Scrape the ESPN Soccer teams\n",
    "## Author: Pedro Sanhueza\n",
    "## Website: [www.foxsports.com](https://www.foxsports.com/soccer/2022-fifa-world-cup/teams)"
   ]
  },
  {
   "cell_type": "code",
   "execution_count": 2,
   "metadata": {},
   "outputs": [],
   "source": [
    "import requests\n",
    "from bs4 import BeautifulSoup\n",
    "import pandas as pd \n",
    "from datetime import datetime"
   ]
  },
  {
   "cell_type": "code",
   "execution_count": 3,
   "metadata": {},
   "outputs": [],
   "source": [
    "url_main = 'https://www.foxsports.com/soccer/2022-fifa-world-cup/teams'\n",
    "response = requests.get(url_main)\n",
    "soup = BeautifulSoup(response.text, 'html.parser')"
   ]
  },
  {
   "cell_type": "code",
   "execution_count": 4,
   "metadata": {},
   "outputs": [],
   "source": [
    "country_name = [x.text for x in soup.find_all('h3')]\n",
    "countries = [x['href'] for x in soup.find_all('a',{'class':'entity-list-row-container image-logo'})]"
   ]
  },
  {
   "cell_type": "code",
   "execution_count": 5,
   "metadata": {},
   "outputs": [],
   "source": [
    "country = countries[10]\n",
    "\n",
    "url = f'https://www.foxsports.com{country}-roster'\n",
    "soup = BeautifulSoup(requests.get(url).text, 'html.parser')\n",
    "\n",
    "table = soup.find('div',{'view':'team'})\n",
    "title = [x.text.strip() for x in table.find_all('tr')[0]]"
   ]
  },
  {
   "cell_type": "code",
   "execution_count": 6,
   "metadata": {},
   "outputs": [],
   "source": [
    "# running time: 1m 30s\n",
    "\n",
    "rows=[]\n",
    "for idx,country in enumerate(countries):\n",
    "\n",
    "    url = f'https://www.foxsports.com{country}-roster'\n",
    "    soup = BeautifulSoup(requests.get(url).text, 'html.parser')\n",
    "\n",
    "    table = soup.find('div',{'view':'team'})\n",
    "    title = [x.text.strip() for x in table.find_all('tr')[0]]\n",
    "    \n",
    "    for group in table.find_all('tbody')[:-1]:\n",
    "        for player in group:\n",
    "            row={}\n",
    "            row['Country'] = country_name[idx].capitalize()\n",
    "            row['Name'] = player.find('h3').text\n",
    "            row[title[1]] = player.find('td',{'data-index':'1'}).text.strip()\n",
    "            row[title[2]] = player.find('td',{'data-index':'2'}).text.strip()\n",
    "            row[title[3]] = player.find('td',{'data-index':'3'}).text.strip()\n",
    "            row[title[4]] = player.find('td',{'data-index':'4'}).text.strip()\n",
    "            rows.append(row)"
   ]
  },
  {
   "cell_type": "code",
   "execution_count": 7,
   "metadata": {},
   "outputs": [
    {
     "data": {
      "text/html": [
       "<div>\n",
       "<style scoped>\n",
       "    .dataframe tbody tr th:only-of-type {\n",
       "        vertical-align: middle;\n",
       "    }\n",
       "\n",
       "    .dataframe tbody tr th {\n",
       "        vertical-align: top;\n",
       "    }\n",
       "\n",
       "    .dataframe thead th {\n",
       "        text-align: right;\n",
       "    }\n",
       "</style>\n",
       "<table border=\"1\" class=\"dataframe\">\n",
       "  <thead>\n",
       "    <tr style=\"text-align: right;\">\n",
       "      <th></th>\n",
       "      <th>Country</th>\n",
       "      <th>Name</th>\n",
       "      <th>POS</th>\n",
       "      <th>AGE</th>\n",
       "      <th>HT</th>\n",
       "      <th>WT</th>\n",
       "    </tr>\n",
       "  </thead>\n",
       "  <tbody>\n",
       "    <tr>\n",
       "      <th>0</th>\n",
       "      <td>Argentina</td>\n",
       "      <td>Franco Armani</td>\n",
       "      <td>G</td>\n",
       "      <td>36</td>\n",
       "      <td>6'2\"</td>\n",
       "      <td>194 lbs</td>\n",
       "    </tr>\n",
       "    <tr>\n",
       "      <th>1</th>\n",
       "      <td>Argentina</td>\n",
       "      <td>Emiliano Martinez</td>\n",
       "      <td>G</td>\n",
       "      <td>30</td>\n",
       "      <td>6'4\"</td>\n",
       "      <td>196 lbs</td>\n",
       "    </tr>\n",
       "    <tr>\n",
       "      <th>2</th>\n",
       "      <td>Argentina</td>\n",
       "      <td>Geronimo Rulli</td>\n",
       "      <td>G</td>\n",
       "      <td>30</td>\n",
       "      <td>6'2\"</td>\n",
       "      <td>185 lbs</td>\n",
       "    </tr>\n",
       "    <tr>\n",
       "      <th>3</th>\n",
       "      <td>Argentina</td>\n",
       "      <td>Marcos Acuna</td>\n",
       "      <td>D</td>\n",
       "      <td>31</td>\n",
       "      <td>5'7\"</td>\n",
       "      <td>152 lbs</td>\n",
       "    </tr>\n",
       "    <tr>\n",
       "      <th>4</th>\n",
       "      <td>Argentina</td>\n",
       "      <td>Juan Foyth</td>\n",
       "      <td>D</td>\n",
       "      <td>24</td>\n",
       "      <td>5'10\"</td>\n",
       "      <td>152 lbs</td>\n",
       "    </tr>\n",
       "    <tr>\n",
       "      <th>...</th>\n",
       "      <td>...</td>\n",
       "      <td>...</td>\n",
       "      <td>...</td>\n",
       "      <td>...</td>\n",
       "      <td>...</td>\n",
       "      <td>...</td>\n",
       "    </tr>\n",
       "    <tr>\n",
       "      <th>1384</th>\n",
       "      <td>Wales</td>\n",
       "      <td>Gareth Bale</td>\n",
       "      <td>F</td>\n",
       "      <td>33</td>\n",
       "      <td>6'0\"</td>\n",
       "      <td>180 lbs</td>\n",
       "    </tr>\n",
       "    <tr>\n",
       "      <th>1385</th>\n",
       "      <td>Wales</td>\n",
       "      <td>Mark Thomas Harris</td>\n",
       "      <td>F</td>\n",
       "      <td>23</td>\n",
       "      <td>5'11\"</td>\n",
       "      <td>165 lbs</td>\n",
       "    </tr>\n",
       "    <tr>\n",
       "      <th>1386</th>\n",
       "      <td>Wales</td>\n",
       "      <td>Daniel James</td>\n",
       "      <td>F</td>\n",
       "      <td>25</td>\n",
       "      <td>5'7\"</td>\n",
       "      <td>167 lbs</td>\n",
       "    </tr>\n",
       "    <tr>\n",
       "      <th>1387</th>\n",
       "      <td>Wales</td>\n",
       "      <td>Brennan Johnson</td>\n",
       "      <td>F</td>\n",
       "      <td>21</td>\n",
       "      <td>5'10\"</td>\n",
       "      <td>160 lbs</td>\n",
       "    </tr>\n",
       "    <tr>\n",
       "      <th>1388</th>\n",
       "      <td>Wales</td>\n",
       "      <td>Kieffer Moore</td>\n",
       "      <td>F</td>\n",
       "      <td>30</td>\n",
       "      <td>6'5\"</td>\n",
       "      <td>182 lbs</td>\n",
       "    </tr>\n",
       "  </tbody>\n",
       "</table>\n",
       "<p>1389 rows × 6 columns</p>\n",
       "</div>"
      ],
      "text/plain": [
       "        Country                Name POS AGE     HT       WT\n",
       "0     Argentina       Franco Armani   G  36   6'2\"  194 lbs\n",
       "1     Argentina   Emiliano Martinez   G  30   6'4\"  196 lbs\n",
       "2     Argentina      Geronimo Rulli   G  30   6'2\"  185 lbs\n",
       "3     Argentina        Marcos Acuna   D  31   5'7\"  152 lbs\n",
       "4     Argentina          Juan Foyth   D  24  5'10\"  152 lbs\n",
       "...         ...                 ...  ..  ..    ...      ...\n",
       "1384      Wales         Gareth Bale   F  33   6'0\"  180 lbs\n",
       "1385      Wales  Mark Thomas Harris   F  23  5'11\"  165 lbs\n",
       "1386      Wales        Daniel James   F  25   5'7\"  167 lbs\n",
       "1387      Wales     Brennan Johnson   F  21  5'10\"  160 lbs\n",
       "1388      Wales       Kieffer Moore   F  30   6'5\"  182 lbs\n",
       "\n",
       "[1389 rows x 6 columns]"
      ]
     },
     "execution_count": 7,
     "metadata": {},
     "output_type": "execute_result"
    }
   ],
   "source": [
    "data = pd.DataFrame(rows)\n",
    "data\n"
   ]
  },
  {
   "cell_type": "code",
   "execution_count": null,
   "metadata": {},
   "outputs": [],
   "source": [
    "date = datetime.now().strftime(\"%d-%m-%Y %H%M%S\") # get local time as string\n",
    "\n",
    "filePath = f\"../FIFA - Output/{url_main.split('/')[-2]} {date} - Webscrape.csv\"\n",
    "\n",
    "data.to_csv(filePath, index=False) # save to file path\n",
    "\n",
    "pd.set_option('display.max_rows', 100)\n",
    "\n",
    "data"
   ]
  },
  {
   "cell_type": "code",
   "execution_count": null,
   "metadata": {},
   "outputs": [],
   "source": [
    "# Clean table\n",
    "\n",
    "# TO DO:\n",
    "# drop duplicated players within a country (ex: Argentina 'Agustin Rossi')\n",
    "\n",
    "# build dataframe\n",
    "data = pd.DataFrame(rows)\n",
    "\n",
    "# drop rows with missing data\n",
    "data = data[~data.isin(['-']).any(axis=1)]\n",
    "\n",
    "# replace possition values\n",
    "# POS_values = {x.text.strip().capitalize() for x in table.find_all('th',{'data-index':'0'})}\n",
    "# POS_keys = set(data[title[1]].to_list())\n",
    "# POS_mapped = dict(zip(POS_keys, POS_values))\n",
    "POS_mapped = {'G': 'Goalkeeper', 'D': 'Defender', 'M': 'Midfielder', 'F': 'Forward'}\n",
    "data.replace({title[1]: POS_mapped}, inplace=True)\n",
    "\n",
    "# age column to number\n",
    "data[title[2]] = pd.to_numeric(data[title[2]])\n",
    "\n",
    "# hight column to number\n",
    "data[title[3]] = data[title[3]].apply(lambda x: (int(x.split('\\'')[0])*12 + int(x.split('\\'')[1].replace('\\\"',''))) * 2.54) # inches to centimeters\n",
    "\n",
    "# weight column to number\n",
    "data[title[4]] = data[title[4]].apply(lambda x: round(int(x.split(' ')[0]) / 2.205,1)) # lbs to kg\n",
    "\n",
    "data\n"
   ]
  },
  {
   "cell_type": "code",
   "execution_count": null,
   "metadata": {},
   "outputs": [],
   "source": [
    "# Average per possition\n",
    "data.groupby('POS').mean().round(1)"
   ]
  },
  {
   "cell_type": "code",
   "execution_count": null,
   "metadata": {},
   "outputs": [],
   "source": [
    "data.groupby('Country').mean().round(1)"
   ]
  },
  {
   "cell_type": "code",
   "execution_count": null,
   "metadata": {},
   "outputs": [],
   "source": [
    "# which country has the maximun average hight in their golee? \n",
    "\n",
    "data1 = data.groupby(['Country','POS']).mean().round(1).reset_index()\n",
    "\n",
    "data1 = data1[data1.POS == 'Goalkeeper']\n",
    "\n",
    "# data1[data1.HT == data1.HT.max()]\n",
    "\n",
    "data1"
   ]
  },
  {
   "cell_type": "code",
   "execution_count": null,
   "metadata": {},
   "outputs": [],
   "source": [
    "import requests\n",
    "from bs4 import BeautifulSoup\n",
    "import pandas as pd \n",
    "from datetime import datetime\n",
    "\n",
    "url_main = 'https://www.foxsports.com/soccer/2022-fifa-world-cup/teams'\n",
    "response = requests.get(url_main)\n",
    "soup = BeautifulSoup(response.text, 'html.parser')\n",
    "country_name = [x.text for x in soup.find_all('h3')]\n",
    "countries = [x['href'] for x in soup.find_all('a',{'class':'entity-list-row-container image-logo'})]\n",
    "\n",
    "\n",
    "# ---------------------------------------- running time: 1m 20s ---------------------------------------- #\n",
    "\n",
    "rows=[]\n",
    "\n",
    "for idx,country in enumerate(countries):\n",
    "\n",
    "    url = f'https://www.foxsports.com{country}-roster'\n",
    "    soup = BeautifulSoup(requests.get(url).text, 'html.parser')\n",
    "\n",
    "    # image = soup.find('source')['srcset']\n",
    "    table = soup.find('div',{'view':'team'})\n",
    "    title = [x.text.strip() for x in table.find_all('tr')[0]]\n",
    "    \n",
    "    for group in table.find_all('tbody')[:-1]:\n",
    "        for player in group:\n",
    "            row={}\n",
    "            row['Country'] = country_name[idx].capitalize()\n",
    "            row['Name'] = player.find('h3').text\n",
    "            row[title[1]] = player.find('td',{'data-index':'1'}).text.strip()\n",
    "            row[title[2]] = player.find('td',{'data-index':'2'}).text.strip()\n",
    "            row[title[3]] = player.find('td',{'data-index':'3'}).text.strip()\n",
    "            row[title[4]] = player.find('td',{'data-index':'4'}).text.strip()\n",
    "            row['Country_logo'] = soup.find('source')['srcset']\n",
    "            rows.append(row)\n",
    "\n",
    "data = pd.DataFrame(rows)\n",
    "\n",
    "data = data[~data.isin(['-']).any(axis=1)] # drop rows with missing data\n",
    "\n",
    "POS_mapped = {'G': 'Goalkeeper', 'D': 'Defender', 'M': 'Midfielder', 'F': 'Forward'}\n",
    "\n",
    "data.replace({title[1]: POS_mapped}, inplace=True)\n",
    "\n",
    "data[title[2]] = pd.to_numeric(data[title[2]]) # age column to number\n",
    "\n",
    "data[title[3]] = data[title[3]].apply(lambda x: (int(x.split('\\'')[0])*12 + int(x.split('\\'')[1].replace('\\\"',''))) * 2.54) # inches to centimeters\n",
    "\n",
    "# weight column to number\n",
    "data[title[4]] = data[title[4]].apply(lambda x: round(int(x.split(' ')[0]) / 2.205,1)) # lbs to kg\n",
    "\n",
    "# add BMI column\n",
    "data['BMI'] = data.apply(lambda x: round(x.WT / (x.HT/100)**2,1) , axis=1)\n",
    "\n",
    "data"
   ]
  },
  {
   "cell_type": "code",
   "execution_count": null,
   "metadata": {},
   "outputs": [],
   "source": [
    "data.Country_logo.iloc[10]"
   ]
  },
  {
   "cell_type": "code",
   "execution_count": null,
   "metadata": {},
   "outputs": [],
   "source": [
    "data.Country_logo.iloc[30]"
   ]
  },
  {
   "cell_type": "code",
   "execution_count": null,
   "metadata": {},
   "outputs": [],
   "source": []
  },
  {
   "cell_type": "code",
   "execution_count": null,
   "metadata": {},
   "outputs": [],
   "source": []
  },
  {
   "cell_type": "code",
   "execution_count": null,
   "metadata": {},
   "outputs": [],
   "source": []
  },
  {
   "cell_type": "code",
   "execution_count": null,
   "metadata": {},
   "outputs": [],
   "source": []
  },
  {
   "cell_type": "code",
   "execution_count": null,
   "metadata": {},
   "outputs": [],
   "source": [
    "import requests\n",
    "from bs4 import BeautifulSoup\n",
    "import pandas as pd \n",
    "from datetime import datetime\n",
    "\n",
    "url_main = 'https://www.foxsports.com/soccer/2022-fifa-world-cup/teams'\n",
    "response = requests.get(url_main)\n",
    "soup = BeautifulSoup(response.text, 'html.parser')\n",
    "country_name = [x.text for x in soup.find_all('h3')]\n",
    "countries = [x['href'] for x in soup.find_all('a',{'class':'entity-list-row-container image-logo'})]"
   ]
  },
  {
   "cell_type": "code",
   "execution_count": null,
   "metadata": {},
   "outputs": [],
   "source": [
    "rows=[]\n",
    "\n",
    "for idx,country in enumerate(countries):\n",
    "\n",
    "    url = f'https://www.foxsports.com{country}-roster'\n",
    "    soup = BeautifulSoup(requests.get(url).text, 'html.parser')\n",
    "\n",
    "    image = soup.find('source')['srcset']\n",
    "    table = soup.find('div',{'view':'team'})\n",
    "    title = [x.text.strip() for x in table.find_all('tr')[0]]\n",
    "    \n",
    "    for group in table.find_all('tbody')[:-1]:\n",
    "        for player in group:\n",
    "            row={}\n",
    "            row['Country'] = country_name[idx].capitalize()\n",
    "            row['Name'] = player.find('h3').text\n",
    "            row[title[1]] = player.find('td',{'data-index':'1'}).text.strip()\n",
    "            row[title[2]] = player.find('td',{'data-index':'2'}).text.strip()\n",
    "            row[title[3]] = player.find('td',{'data-index':'3'}).text.strip()\n",
    "            row[title[4]] = player.find('td',{'data-index':'4'}).text.strip()\n",
    "            row['Country_logo'] = soup.find('source')['srcset']\n",
    "            rows.append(row)\n",
    "\n",
    "data = pd.DataFrame(rows)"
   ]
  },
  {
   "cell_type": "code",
   "execution_count": null,
   "metadata": {},
   "outputs": [],
   "source": [
    "data"
   ]
  },
  {
   "cell_type": "code",
   "execution_count": null,
   "metadata": {},
   "outputs": [],
   "source": []
  }
 ],
 "metadata": {
  "kernelspec": {
   "display_name": "Python 3.9.0 64-bit",
   "language": "python",
   "name": "python3"
  },
  "language_info": {
   "codemirror_mode": {
    "name": "ipython",
    "version": 3
   },
   "file_extension": ".py",
   "mimetype": "text/x-python",
   "name": "python",
   "nbconvert_exporter": "python",
   "pygments_lexer": "ipython3",
   "version": "3.9.0"
  },
  "orig_nbformat": 4,
  "vscode": {
   "interpreter": {
    "hash": "397704579725e15f5c7cb49fe5f0341eb7531c82d19f2c29d197e8b64ab5776b"
   }
  }
 },
 "nbformat": 4,
 "nbformat_minor": 2
}
