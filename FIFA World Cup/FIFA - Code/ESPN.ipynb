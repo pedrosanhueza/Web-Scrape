{
 "cells": [
  {
   "cell_type": "markdown",
   "metadata": {},
   "source": [
    "# Web Scrape the ESPN Soccer teams\n",
    "## Author: Pedro Sanhueza\n",
    "## Website: [www.foxsports.com](https://www.foxsports.com/soccer/2022-fifa-world-cup/teams)"
   ]
  },
  {
   "cell_type": "code",
   "execution_count": null,
   "metadata": {},
   "outputs": [],
   "source": [
    "import requests\n",
    "from bs4 import BeautifulSoup\n",
    "import pandas as pd \n",
    "from datetime import datetime"
   ]
  },
  {
   "cell_type": "code",
   "execution_count": null,
   "metadata": {},
   "outputs": [],
   "source": [
    "url_main = 'https://www.foxsports.com/soccer/2022-fifa-world-cup/teams'\n",
    "response = requests.get(url_main)\n",
    "soup = BeautifulSoup(response.text, 'html.parser')"
   ]
  },
  {
   "cell_type": "code",
   "execution_count": null,
   "metadata": {},
   "outputs": [],
   "source": [
    "country_name = [x.text for x in soup.find_all('h3')]\n",
    "countries = [x['href'] for x in soup.find_all('a',{'class':'entity-list-row-container image-logo'})]"
   ]
  },
  {
   "cell_type": "code",
   "execution_count": null,
   "metadata": {},
   "outputs": [],
   "source": []
  },
  {
   "cell_type": "code",
   "execution_count": null,
   "metadata": {},
   "outputs": [],
   "source": [
    "# running time: 1m 30s\n",
    "\n",
    "rows=[]\n",
    "for idx,country in enumerate(countries):\n",
    "\n",
    "    url = f'https://www.foxsports.com{country}-roster'\n",
    "    soup = BeautifulSoup(requests.get(url).text, 'html.parser')\n",
    "\n",
    "    table = soup.find('div',{'view':'team'})\n",
    "    title = [x.text.strip() for x in table.find_all('tr')[0]]\n",
    "    \n",
    "    for group in table.find_all('tbody')[:-1]:\n",
    "        for player in group:\n",
    "            row={}\n",
    "            row['Country'] = country_name[idx].capitalize()\n",
    "            row['Name'] = player.find('h3').text\n",
    "            row[title[1]] = player.find('td',{'data-index':'1'}).text.strip()\n",
    "            row[title[2]] = player.find('td',{'data-index':'2'}).text.strip()\n",
    "            row[title[3]] = player.find('td',{'data-index':'3'}).text.strip()\n",
    "            row[title[4]] = player.find('td',{'data-index':'4'}).text.strip()\n",
    "            rows.append(row)"
   ]
  },
  {
   "cell_type": "code",
   "execution_count": null,
   "metadata": {},
   "outputs": [],
   "source": [
    "data = pd.DataFrame(rows)\n",
    "\n",
    "date = datetime.now().strftime(\"%d-%m-%Y %H%M%S\") # get local time as string\n",
    "\n",
    "filePath = f\"../FIFA - Output/{url_main.split('/')[-2]} {date} - Webscrape.csv\"\n",
    "\n",
    "data.to_csv(filePath, index=False) # save to file path\n",
    "\n",
    "pd.set_option('display.max_rows', 100)\n",
    "\n",
    "data"
   ]
  },
  {
   "cell_type": "code",
   "execution_count": null,
   "metadata": {},
   "outputs": [],
   "source": [
    "# Clean table\n",
    "\n",
    "# TO DO:\n",
    "# drop duplicated players within a country (ex: Argentina 'Agustin Rossi')\n",
    "\n",
    "# build dataframe\n",
    "data = pd.DataFrame(rows)\n",
    "\n",
    "# drop rows with missing data\n",
    "data = data[~data.isin(['-']).any(axis=1)]\n",
    "\n",
    "# replace possition values\n",
    "# POS_values = {x.text.strip().capitalize() for x in table.find_all('th',{'data-index':'0'})}\n",
    "# POS_keys = set(data[title[1]].to_list())\n",
    "# POS_mapped = dict(zip(POS_keys, POS_values))\n",
    "POS_mapped = {'G': 'Goalkeeper', 'D': 'Defender', 'M': 'Midfielder', 'F': 'Forward'}\n",
    "data.replace({title[1]: POS_mapped}, inplace=True)\n",
    "\n",
    "# age column to number\n",
    "data[title[2]] = pd.to_numeric(data[title[2]])\n",
    "\n",
    "# hight column to number\n",
    "data[title[3]] = data[title[3]].apply(lambda x: (int(x.split('\\'')[0])*12 + int(x.split('\\'')[1].replace('\\\"',''))) * 2.54) # inches to centimeters\n",
    "\n",
    "# weight column to number\n",
    "data[title[4]] = data[title[4]].apply(lambda x: round(int(x.split(' ')[0]) / 2.205,1)) # lbs to kg\n",
    "\n",
    "data\n"
   ]
  },
  {
   "cell_type": "code",
   "execution_count": null,
   "metadata": {},
   "outputs": [],
   "source": [
    "# Average per possition\n",
    "data.groupby('POS').mean().round(1)"
   ]
  },
  {
   "cell_type": "code",
   "execution_count": null,
   "metadata": {},
   "outputs": [],
   "source": [
    "data.groupby('Country').mean().round(1)"
   ]
  },
  {
   "cell_type": "code",
   "execution_count": null,
   "metadata": {},
   "outputs": [],
   "source": [
    "# which country has the maximun average hight in their golee? \n",
    "\n",
    "data1 = data.groupby(['Country','POS']).mean().round(1).reset_index()\n",
    "\n",
    "data1 = data1[data1.POS == 'Goalkeeper']\n",
    "\n",
    "# data1[data1.HT == data1.HT.max()]\n",
    "\n",
    "data1"
   ]
  },
  {
   "cell_type": "code",
   "execution_count": null,
   "metadata": {},
   "outputs": [],
   "source": [
    "import requests\n",
    "from bs4 import BeautifulSoup\n",
    "import pandas as pd \n",
    "from datetime import datetime\n",
    "\n",
    "url_main = 'https://www.foxsports.com/soccer/2022-fifa-world-cup/teams'\n",
    "response = requests.get(url_main)\n",
    "soup = BeautifulSoup(response.text, 'html.parser')\n",
    "country_name = [x.text for x in soup.find_all('h3')]\n",
    "countries = [x['href'] for x in soup.find_all('a',{'class':'entity-list-row-container image-logo'})]\n",
    "\n",
    "\n",
    "# ---------------------------------------- running time: 1m 20s ---------------------------------------- #\n",
    "\n",
    "rows=[]\n",
    "\n",
    "for idx,country in enumerate(countries):\n",
    "\n",
    "    url = f'https://www.foxsports.com{country}-roster'\n",
    "    soup = BeautifulSoup(requests.get(url).text, 'html.parser')\n",
    "\n",
    "    # image = soup.find('source')['srcset']\n",
    "    table = soup.find('div',{'view':'team'})\n",
    "    title = [x.text.strip() for x in table.find_all('tr')[0]]\n",
    "    \n",
    "    for group in table.find_all('tbody')[:-1]:\n",
    "        for player in group:\n",
    "            row={}\n",
    "            row['Country'] = country_name[idx].capitalize()\n",
    "            row['Name'] = player.find('h3').text\n",
    "            row[title[1]] = player.find('td',{'data-index':'1'}).text.strip()\n",
    "            row[title[2]] = player.find('td',{'data-index':'2'}).text.strip()\n",
    "            row[title[3]] = player.find('td',{'data-index':'3'}).text.strip()\n",
    "            row[title[4]] = player.find('td',{'data-index':'4'}).text.strip()\n",
    "            row['Country_logo'] = soup.find('source')['srcset']\n",
    "            rows.append(row)\n",
    "\n",
    "data = pd.DataFrame(rows)\n",
    "\n",
    "data = data[~data.isin(['-']).any(axis=1)] # drop rows with missing data\n",
    "\n",
    "POS_mapped = {'G': 'Goalkeeper', 'D': 'Defender', 'M': 'Midfielder', 'F': 'Forward'}\n",
    "\n",
    "data.replace({title[1]: POS_mapped}, inplace=True)\n",
    "\n",
    "data[title[2]] = pd.to_numeric(data[title[2]]) # age column to number\n",
    "\n",
    "data[title[3]] = data[title[3]].apply(lambda x: (int(x.split('\\'')[0])*12 + int(x.split('\\'')[1].replace('\\\"',''))) * 2.54) # inches to centimeters\n",
    "\n",
    "# weight column to number\n",
    "data[title[4]] = data[title[4]].apply(lambda x: round(int(x.split(' ')[0]) / 2.205,1)) # lbs to kg\n",
    "\n",
    "# add BMI column\n",
    "data['BMI'] = data.apply(lambda x: round(x.WT / (x.HT/100)**2,1) , axis=1)\n",
    "\n",
    "data"
   ]
  },
  {
   "cell_type": "code",
   "execution_count": null,
   "metadata": {},
   "outputs": [],
   "source": [
    "data.Country_logo.iloc[10]"
   ]
  },
  {
   "cell_type": "code",
   "execution_count": null,
   "metadata": {},
   "outputs": [],
   "source": [
    "data.Country_logo.iloc[30]"
   ]
  },
  {
   "cell_type": "code",
   "execution_count": null,
   "metadata": {},
   "outputs": [],
   "source": []
  },
  {
   "cell_type": "code",
   "execution_count": null,
   "metadata": {},
   "outputs": [],
   "source": []
  },
  {
   "cell_type": "code",
   "execution_count": null,
   "metadata": {},
   "outputs": [],
   "source": []
  },
  {
   "cell_type": "code",
   "execution_count": null,
   "metadata": {},
   "outputs": [],
   "source": []
  },
  {
   "cell_type": "code",
   "execution_count": 1,
   "metadata": {},
   "outputs": [],
   "source": [
    "import requests\n",
    "from bs4 import BeautifulSoup\n",
    "import pandas as pd \n",
    "from datetime import datetime\n",
    "\n",
    "url_main = 'https://www.foxsports.com/soccer/2022-fifa-world-cup/teams'\n",
    "response = requests.get(url_main)\n",
    "soup = BeautifulSoup(response.text, 'html.parser')\n",
    "country_name = [x.text for x in soup.find_all('h3')]\n",
    "countries = [x['href'] for x in soup.find_all('a',{'class':'entity-list-row-container image-logo'})]"
   ]
  },
  {
   "cell_type": "code",
   "execution_count": 2,
   "metadata": {},
   "outputs": [],
   "source": [
    "rows=[]\n",
    "\n",
    "for idx,country in enumerate(countries):\n",
    "\n",
    "    url = f'https://www.foxsports.com{country}-roster'\n",
    "    soup = BeautifulSoup(requests.get(url).text, 'html.parser')\n",
    "\n",
    "    image = soup.find('source')['srcset']\n",
    "    table = soup.find('div',{'view':'team'})\n",
    "    title = [x.text.strip() for x in table.find_all('tr')[0]]\n",
    "    \n",
    "    for group in table.find_all('tbody')[:-1]:\n",
    "        for player in group:\n",
    "            row={}\n",
    "            row['Country'] = country_name[idx].capitalize()\n",
    "            row['Name'] = player.find('h3').text\n",
    "            row[title[1]] = player.find('td',{'data-index':'1'}).text.strip()\n",
    "            row[title[2]] = player.find('td',{'data-index':'2'}).text.strip()\n",
    "            row[title[3]] = player.find('td',{'data-index':'3'}).text.strip()\n",
    "            row[title[4]] = player.find('td',{'data-index':'4'}).text.strip()\n",
    "            row['Country_logo'] = soup.find('source')['srcset']\n",
    "            rows.append(row)\n",
    "\n",
    "data = pd.DataFrame(rows)"
   ]
  },
  {
   "cell_type": "code",
   "execution_count": null,
   "metadata": {},
   "outputs": [],
   "source": []
  },
  {
   "cell_type": "code",
   "execution_count": 13,
   "metadata": {},
   "outputs": [
    {
     "data": {
      "text/plain": [
       "0.0357142857142857"
      ]
     },
     "execution_count": 13,
     "metadata": {},
     "output_type": "execute_result"
    }
   ],
   "source": [
    "1 - 27/28"
   ]
  },
  {
   "cell_type": "code",
   "execution_count": 20,
   "metadata": {},
   "outputs": [
    {
     "data": {
      "text/plain": [
       "-0.03"
      ]
     },
     "execution_count": 20,
     "metadata": {},
     "output_type": "execute_result"
    }
   ],
   "source": [
    "round(\n",
    "    1 - 185 / 180\n",
    ",2)"
   ]
  },
  {
   "cell_type": "code",
   "execution_count": 24,
   "metadata": {},
   "outputs": [
    {
     "data": {
      "text/plain": [
       "-0.03"
      ]
     },
     "execution_count": 24,
     "metadata": {},
     "output_type": "execute_result"
    }
   ],
   "source": [
    "round(\n",
    "    1 - 180/175\n",
    ",2)"
   ]
  },
  {
   "cell_type": "code",
   "execution_count": null,
   "metadata": {},
   "outputs": [],
   "source": []
  }
 ],
 "metadata": {
  "kernelspec": {
   "display_name": "Python 3.9.0 64-bit",
   "language": "python",
   "name": "python3"
  },
  "language_info": {
   "codemirror_mode": {
    "name": "ipython",
    "version": 3
   },
   "file_extension": ".py",
   "mimetype": "text/x-python",
   "name": "python",
   "nbconvert_exporter": "python",
   "pygments_lexer": "ipython3",
   "version": "3.9.0"
  },
  "orig_nbformat": 4,
  "vscode": {
   "interpreter": {
    "hash": "397704579725e15f5c7cb49fe5f0341eb7531c82d19f2c29d197e8b64ab5776b"
   }
  }
 },
 "nbformat": 4,
 "nbformat_minor": 2
}
