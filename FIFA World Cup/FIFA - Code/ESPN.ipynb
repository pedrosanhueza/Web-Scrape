{
 "cells": [
  {
   "cell_type": "markdown",
   "metadata": {},
   "source": [
    "# Web Scrape the ESPN Soccer teams\n",
    "## Author: Pedro Sanhueza\n",
    "## Website: [www.foxsports.com](https://www.foxsports.com/soccer/2022-fifa-world-cup/teams)"
   ]
  },
  {
   "cell_type": "code",
   "execution_count": 1,
   "metadata": {},
   "outputs": [],
   "source": [
    "import requests\n",
    "from bs4 import BeautifulSoup\n",
    "import pandas as pd \n",
    "from datetime import datetime"
   ]
  },
  {
   "cell_type": "code",
   "execution_count": 2,
   "metadata": {},
   "outputs": [],
   "source": [
    "url_main = 'https://www.foxsports.com/soccer/2022-fifa-world-cup/teams'\n",
    "response = requests.get(url_main)\n",
    "soup = BeautifulSoup(response.text, 'html.parser')"
   ]
  },
  {
   "cell_type": "code",
   "execution_count": 3,
   "metadata": {},
   "outputs": [],
   "source": [
    "country_name = [x.text for x in soup.find_all('h3')]\n",
    "countries = [x['href'] for x in soup.find_all('a',{'class':'entity-list-row-container image-logo'})]"
   ]
  },
  {
   "cell_type": "code",
   "execution_count": null,
   "metadata": {},
   "outputs": [],
   "source": []
  },
  {
   "cell_type": "code",
   "execution_count": null,
   "metadata": {},
   "outputs": [],
   "source": [
    "# running time: 1m 30s\n",
    "\n",
    "rows=[]\n",
    "for idx,country in enumerate(countries):\n",
    "\n",
    "    url = f'https://www.foxsports.com{country}-roster'\n",
    "    soup = BeautifulSoup(requests.get(url).text, 'html.parser')\n",
    "\n",
    "    table = soup.find('div',{'view':'team'})\n",
    "    title = [x.text.strip() for x in table.find_all('tr')[0]]\n",
    "    \n",
    "    for group in table.find_all('tbody')[:-1]:\n",
    "        for player in group:\n",
    "            row={}\n",
    "            row['Country'] = country_name[idx].capitalize()\n",
    "            row['Name'] = player.find('h3').text\n",
    "            row[title[1]] = player.find('td',{'data-index':'1'}).text.strip()\n",
    "            row[title[2]] = player.find('td',{'data-index':'2'}).text.strip()\n",
    "            row[title[3]] = player.find('td',{'data-index':'3'}).text.strip()\n",
    "            row[title[4]] = player.find('td',{'data-index':'4'}).text.strip()\n",
    "            rows.append(row)"
   ]
  },
  {
   "cell_type": "code",
   "execution_count": null,
   "metadata": {},
   "outputs": [],
   "source": [
    "data = pd.DataFrame(rows)\n",
    "\n",
    "date = datetime.now().strftime(\"%d-%m-%Y %H%M%S\") # get local time as string\n",
    "\n",
    "filePath = f\"../FIFA - Output/{url_main.split('/')[-2]} {date} - Webscrape.csv\"\n",
    "\n",
    "data.to_csv(filePath, index=False) # save to file path\n",
    "\n",
    "pd.set_option('display.max_rows', 100)\n",
    "\n",
    "data"
   ]
  },
  {
   "cell_type": "code",
   "execution_count": null,
   "metadata": {},
   "outputs": [],
   "source": [
    "# Clean table\n",
    "\n",
    "# TO DO:\n",
    "# drop duplicated players within a country (ex: Argentina 'Agustin Rossi')\n",
    "\n",
    "# build dataframe\n",
    "data = pd.DataFrame(rows)\n",
    "\n",
    "# drop rows with missing data\n",
    "data = data[~data.isin(['-']).any(axis=1)]\n",
    "\n",
    "# replace possition values\n",
    "# POS_values = {x.text.strip().capitalize() for x in table.find_all('th',{'data-index':'0'})}\n",
    "# POS_keys = set(data[title[1]].to_list())\n",
    "# POS_mapped = dict(zip(POS_keys, POS_values))\n",
    "POS_mapped = {'G': 'Goalkeeper', 'D': 'Defender', 'M': 'Midfielder', 'F': 'Forward'}\n",
    "data.replace({title[1]: POS_mapped}, inplace=True)\n",
    "\n",
    "# age column to number\n",
    "data[title[2]] = pd.to_numeric(data[title[2]])\n",
    "\n",
    "# hight column to number\n",
    "data[title[3]] = data[title[3]].apply(lambda x: (int(x.split('\\'')[0])*12 + int(x.split('\\'')[1].replace('\\\"',''))) * 2.54) # inches to centimeters\n",
    "\n",
    "# weight column to number\n",
    "data[title[4]] = data[title[4]].apply(lambda x: round(int(x.split(' ')[0]) / 2.205,1)) # lbs to kg\n",
    "\n",
    "data\n"
   ]
  },
  {
   "cell_type": "code",
   "execution_count": null,
   "metadata": {},
   "outputs": [],
   "source": [
    "# Average per possition\n",
    "data.groupby('POS').mean().round(1)"
   ]
  },
  {
   "cell_type": "code",
   "execution_count": null,
   "metadata": {},
   "outputs": [],
   "source": [
    "data.groupby('Country').mean().round(1)"
   ]
  },
  {
   "cell_type": "code",
   "execution_count": null,
   "metadata": {},
   "outputs": [],
   "source": [
    "# which country has the maximun average hight in their golee? \n",
    "\n",
    "data1 = data.groupby(['Country','POS']).mean().round(1).reset_index()\n",
    "\n",
    "data1 = data1[data1.POS == 'Goalkeeper']\n",
    "\n",
    "# data1[data1.HT == data1.HT.max()]\n",
    "\n",
    "data1"
   ]
  },
  {
   "cell_type": "code",
   "execution_count": 39,
   "metadata": {},
   "outputs": [
    {
     "data": {
      "text/html": [
       "<div>\n",
       "<style scoped>\n",
       "    .dataframe tbody tr th:only-of-type {\n",
       "        vertical-align: middle;\n",
       "    }\n",
       "\n",
       "    .dataframe tbody tr th {\n",
       "        vertical-align: top;\n",
       "    }\n",
       "\n",
       "    .dataframe thead th {\n",
       "        text-align: right;\n",
       "    }\n",
       "</style>\n",
       "<table border=\"1\" class=\"dataframe\">\n",
       "  <thead>\n",
       "    <tr style=\"text-align: right;\">\n",
       "      <th></th>\n",
       "      <th>Country</th>\n",
       "      <th>Name</th>\n",
       "      <th>POS</th>\n",
       "      <th>AGE</th>\n",
       "      <th>HT</th>\n",
       "      <th>WT</th>\n",
       "      <th>Country_logo</th>\n",
       "      <th>BMI</th>\n",
       "    </tr>\n",
       "  </thead>\n",
       "  <tbody>\n",
       "    <tr>\n",
       "      <th>0</th>\n",
       "      <td>Argentina</td>\n",
       "      <td>Franco Armani</td>\n",
       "      <td>Goalkeeper</td>\n",
       "      <td>35</td>\n",
       "      <td>187.96</td>\n",
       "      <td>88.0</td>\n",
       "      <td>https://b.fssta.com/uploads/application/countr...</td>\n",
       "      <td>24.9</td>\n",
       "    </tr>\n",
       "    <tr>\n",
       "      <th>1</th>\n",
       "      <td>Argentina</td>\n",
       "      <td>Emiliano Martinez</td>\n",
       "      <td>Goalkeeper</td>\n",
       "      <td>30</td>\n",
       "      <td>193.04</td>\n",
       "      <td>88.9</td>\n",
       "      <td>https://b.fssta.com/uploads/application/countr...</td>\n",
       "      <td>23.9</td>\n",
       "    </tr>\n",
       "    <tr>\n",
       "      <th>2</th>\n",
       "      <td>Argentina</td>\n",
       "      <td>Geronimo Rulli</td>\n",
       "      <td>Goalkeeper</td>\n",
       "      <td>30</td>\n",
       "      <td>187.96</td>\n",
       "      <td>83.9</td>\n",
       "      <td>https://b.fssta.com/uploads/application/countr...</td>\n",
       "      <td>23.7</td>\n",
       "    </tr>\n",
       "    <tr>\n",
       "      <th>3</th>\n",
       "      <td>Argentina</td>\n",
       "      <td>Marcos Acuna</td>\n",
       "      <td>Defender</td>\n",
       "      <td>30</td>\n",
       "      <td>170.18</td>\n",
       "      <td>68.9</td>\n",
       "      <td>https://b.fssta.com/uploads/application/countr...</td>\n",
       "      <td>23.8</td>\n",
       "    </tr>\n",
       "    <tr>\n",
       "      <th>4</th>\n",
       "      <td>Argentina</td>\n",
       "      <td>Juan Foyth</td>\n",
       "      <td>Defender</td>\n",
       "      <td>24</td>\n",
       "      <td>177.80</td>\n",
       "      <td>68.9</td>\n",
       "      <td>https://b.fssta.com/uploads/application/countr...</td>\n",
       "      <td>21.8</td>\n",
       "    </tr>\n",
       "    <tr>\n",
       "      <th>...</th>\n",
       "      <td>...</td>\n",
       "      <td>...</td>\n",
       "      <td>...</td>\n",
       "      <td>...</td>\n",
       "      <td>...</td>\n",
       "      <td>...</td>\n",
       "      <td>...</td>\n",
       "      <td>...</td>\n",
       "    </tr>\n",
       "    <tr>\n",
       "      <th>1375</th>\n",
       "      <td>Wales</td>\n",
       "      <td>Jonathan Williams</td>\n",
       "      <td>Midfielder</td>\n",
       "      <td>29</td>\n",
       "      <td>167.64</td>\n",
       "      <td>59.9</td>\n",
       "      <td>https://b.fssta.com/uploads/application/countr...</td>\n",
       "      <td>21.3</td>\n",
       "    </tr>\n",
       "    <tr>\n",
       "      <th>1376</th>\n",
       "      <td>Wales</td>\n",
       "      <td>Gareth Bale</td>\n",
       "      <td>Forward</td>\n",
       "      <td>33</td>\n",
       "      <td>182.88</td>\n",
       "      <td>81.6</td>\n",
       "      <td>https://b.fssta.com/uploads/application/countr...</td>\n",
       "      <td>24.4</td>\n",
       "    </tr>\n",
       "    <tr>\n",
       "      <th>1377</th>\n",
       "      <td>Wales</td>\n",
       "      <td>Wes Burns</td>\n",
       "      <td>Forward</td>\n",
       "      <td>27</td>\n",
       "      <td>172.72</td>\n",
       "      <td>67.6</td>\n",
       "      <td>https://b.fssta.com/uploads/application/countr...</td>\n",
       "      <td>22.7</td>\n",
       "    </tr>\n",
       "    <tr>\n",
       "      <th>1380</th>\n",
       "      <td>Wales</td>\n",
       "      <td>Kieffer Moore</td>\n",
       "      <td>Forward</td>\n",
       "      <td>30</td>\n",
       "      <td>195.58</td>\n",
       "      <td>82.5</td>\n",
       "      <td>https://b.fssta.com/uploads/application/countr...</td>\n",
       "      <td>21.6</td>\n",
       "    </tr>\n",
       "    <tr>\n",
       "      <th>1381</th>\n",
       "      <td>Wales</td>\n",
       "      <td>Tyler Roberts</td>\n",
       "      <td>Forward</td>\n",
       "      <td>23</td>\n",
       "      <td>177.80</td>\n",
       "      <td>74.8</td>\n",
       "      <td>https://b.fssta.com/uploads/application/countr...</td>\n",
       "      <td>23.7</td>\n",
       "    </tr>\n",
       "  </tbody>\n",
       "</table>\n",
       "<p>1089 rows × 8 columns</p>\n",
       "</div>"
      ],
      "text/plain": [
       "        Country               Name         POS  AGE      HT    WT  \\\n",
       "0     Argentina      Franco Armani  Goalkeeper   35  187.96  88.0   \n",
       "1     Argentina  Emiliano Martinez  Goalkeeper   30  193.04  88.9   \n",
       "2     Argentina     Geronimo Rulli  Goalkeeper   30  187.96  83.9   \n",
       "3     Argentina       Marcos Acuna    Defender   30  170.18  68.9   \n",
       "4     Argentina         Juan Foyth    Defender   24  177.80  68.9   \n",
       "...         ...                ...         ...  ...     ...   ...   \n",
       "1375      Wales  Jonathan Williams  Midfielder   29  167.64  59.9   \n",
       "1376      Wales        Gareth Bale     Forward   33  182.88  81.6   \n",
       "1377      Wales          Wes Burns     Forward   27  172.72  67.6   \n",
       "1380      Wales      Kieffer Moore     Forward   30  195.58  82.5   \n",
       "1381      Wales      Tyler Roberts     Forward   23  177.80  74.8   \n",
       "\n",
       "                                           Country_logo   BMI  \n",
       "0     https://b.fssta.com/uploads/application/countr...  24.9  \n",
       "1     https://b.fssta.com/uploads/application/countr...  23.9  \n",
       "2     https://b.fssta.com/uploads/application/countr...  23.7  \n",
       "3     https://b.fssta.com/uploads/application/countr...  23.8  \n",
       "4     https://b.fssta.com/uploads/application/countr...  21.8  \n",
       "...                                                 ...   ...  \n",
       "1375  https://b.fssta.com/uploads/application/countr...  21.3  \n",
       "1376  https://b.fssta.com/uploads/application/countr...  24.4  \n",
       "1377  https://b.fssta.com/uploads/application/countr...  22.7  \n",
       "1380  https://b.fssta.com/uploads/application/countr...  21.6  \n",
       "1381  https://b.fssta.com/uploads/application/countr...  23.7  \n",
       "\n",
       "[1089 rows x 8 columns]"
      ]
     },
     "execution_count": 39,
     "metadata": {},
     "output_type": "execute_result"
    }
   ],
   "source": [
    "import requests\n",
    "from bs4 import BeautifulSoup\n",
    "import pandas as pd \n",
    "from datetime import datetime\n",
    "\n",
    "url_main = 'https://www.foxsports.com/soccer/2022-fifa-world-cup/teams'\n",
    "response = requests.get(url_main)\n",
    "soup = BeautifulSoup(response.text, 'html.parser')\n",
    "country_name = [x.text for x in soup.find_all('h3')]\n",
    "countries = [x['href'] for x in soup.find_all('a',{'class':'entity-list-row-container image-logo'})]\n",
    "\n",
    "\n",
    "# ---------------------------------------- running time: 1m 20s ---------------------------------------- #\n",
    "\n",
    "rows=[]\n",
    "\n",
    "for idx,country in enumerate(countries):\n",
    "\n",
    "    url = f'https://www.foxsports.com{country}-roster'\n",
    "    soup = BeautifulSoup(requests.get(url).text, 'html.parser')\n",
    "\n",
    "    # image = soup.find('source')['srcset']\n",
    "    table = soup.find('div',{'view':'team'})\n",
    "    title = [x.text.strip() for x in table.find_all('tr')[0]]\n",
    "    \n",
    "    for group in table.find_all('tbody')[:-1]:\n",
    "        for player in group:\n",
    "            row={}\n",
    "            row['Country'] = country_name[idx].capitalize()\n",
    "            row['Name'] = player.find('h3').text\n",
    "            row[title[1]] = player.find('td',{'data-index':'1'}).text.strip()\n",
    "            row[title[2]] = player.find('td',{'data-index':'2'}).text.strip()\n",
    "            row[title[3]] = player.find('td',{'data-index':'3'}).text.strip()\n",
    "            row[title[4]] = player.find('td',{'data-index':'4'}).text.strip()\n",
    "            row['Country_logo'] = soup.find('source')['srcset']\n",
    "            rows.append(row)\n",
    "\n",
    "data = pd.DataFrame(rows)\n",
    "\n",
    "data = data[~data.isin(['-']).any(axis=1)] # drop rows with missing data\n",
    "\n",
    "POS_mapped = {'G': 'Goalkeeper', 'D': 'Defender', 'M': 'Midfielder', 'F': 'Forward'}\n",
    "\n",
    "data.replace({title[1]: POS_mapped}, inplace=True)\n",
    "\n",
    "data[title[2]] = pd.to_numeric(data[title[2]]) # age column to number\n",
    "\n",
    "data[title[3]] = data[title[3]].apply(lambda x: (int(x.split('\\'')[0])*12 + int(x.split('\\'')[1].replace('\\\"',''))) * 2.54) # inches to centimeters\n",
    "\n",
    "# weight column to number\n",
    "data[title[4]] = data[title[4]].apply(lambda x: round(int(x.split(' ')[0]) / 2.205,1)) # lbs to kg\n",
    "\n",
    "# add BMI column\n",
    "data['BMI'] = data.apply(lambda x: round(x.WT / (x.HT/100)**2,1) , axis=1)\n",
    "\n",
    "data"
   ]
  },
  {
   "cell_type": "code",
   "execution_count": 40,
   "metadata": {},
   "outputs": [
    {
     "data": {
      "text/plain": [
       "'https://b.fssta.com/uploads/application/countries/flag-logos/32.vresize.350.350.medium.0.png'"
      ]
     },
     "execution_count": 40,
     "metadata": {},
     "output_type": "execute_result"
    }
   ],
   "source": [
    "data.Country_logo.iloc[10]"
   ]
  },
  {
   "cell_type": "code",
   "execution_count": 41,
   "metadata": {},
   "outputs": [
    {
     "data": {
      "text/plain": [
       "'https://b.fssta.com/uploads/application/countries/flag-logos/32.vresize.350.350.medium.0.png'"
      ]
     },
     "execution_count": 41,
     "metadata": {},
     "output_type": "execute_result"
    }
   ],
   "source": [
    "data.Country_logo.iloc[30]"
   ]
  },
  {
   "cell_type": "code",
   "execution_count": null,
   "metadata": {},
   "outputs": [],
   "source": []
  },
  {
   "cell_type": "code",
   "execution_count": null,
   "metadata": {},
   "outputs": [],
   "source": []
  },
  {
   "cell_type": "code",
   "execution_count": null,
   "metadata": {},
   "outputs": [],
   "source": []
  },
  {
   "cell_type": "code",
   "execution_count": null,
   "metadata": {},
   "outputs": [],
   "source": []
  },
  {
   "cell_type": "code",
   "execution_count": 9,
   "metadata": {},
   "outputs": [],
   "source": [
    "country = countries[0]\n",
    "url = f'https://www.foxsports.com{country}-roster'\n",
    "soup = BeautifulSoup(requests.get(url).text, 'html.parser')"
   ]
  },
  {
   "cell_type": "code",
   "execution_count": 22,
   "metadata": {},
   "outputs": [
    {
     "data": {
      "text/plain": [
       "'https://b.fssta.com/uploads/application/countries/flag-logos/32.vresize.350.350.medium.0.png'"
      ]
     },
     "execution_count": 22,
     "metadata": {},
     "output_type": "execute_result"
    }
   ],
   "source": [
    "soup.find('source')['srcset']"
   ]
  },
  {
   "cell_type": "code",
   "execution_count": null,
   "metadata": {},
   "outputs": [],
   "source": []
  }
 ],
 "metadata": {
  "kernelspec": {
   "display_name": "Python 3.9.0 64-bit",
   "language": "python",
   "name": "python3"
  },
  "language_info": {
   "codemirror_mode": {
    "name": "ipython",
    "version": 3
   },
   "file_extension": ".py",
   "mimetype": "text/x-python",
   "name": "python",
   "nbconvert_exporter": "python",
   "pygments_lexer": "ipython3",
   "version": "3.9.0"
  },
  "orig_nbformat": 4,
  "vscode": {
   "interpreter": {
    "hash": "397704579725e15f5c7cb49fe5f0341eb7531c82d19f2c29d197e8b64ab5776b"
   }
  }
 },
 "nbformat": 4,
 "nbformat_minor": 2
}
