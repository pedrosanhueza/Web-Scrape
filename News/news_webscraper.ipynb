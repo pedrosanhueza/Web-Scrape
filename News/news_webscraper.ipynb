{
 "cells": [
  {
   "cell_type": "code",
   "execution_count": 1,
   "metadata": {},
   "outputs": [],
   "source": [
    "import requests\n",
    "from bs4 import BeautifulSoup\n",
    "import pandas as pd "
   ]
  },
  {
   "cell_type": "code",
   "execution_count": 2,
   "metadata": {},
   "outputs": [],
   "source": [
    "url = 'https://www.cbsnews.com/world/'\n",
    "\n",
    "response = requests.get(url)\n",
    "\n",
    "soup = BeautifulSoup(response.text)"
   ]
  },
  {
   "cell_type": "code",
   "execution_count": 3,
   "metadata": {},
   "outputs": [],
   "source": [
    "rows = [] # list of information for each article\n",
    "\n",
    "sections = soup.find_all('section')\n",
    "\n",
    "for section in sections:\n",
    "\n",
    "    articles = section.find_all('article')\n",
    "    \n",
    "    try:\n",
    "        # print(section.find('h3').text.strip())\n",
    "        for article in articles:\n",
    "            row = {}\n",
    "            row['Section'] = section.find('h3').text.strip()\n",
    "            row['Title'] = article.find('h4').text.strip()\n",
    "            row['Description'] = article.find('p').text.strip()\n",
    "            row['Date'] = article.find('li').text\n",
    "            row['url_article'] = article.find('a')['href']\n",
    "            row['url_image'] = article.find('img')['src']\n",
    "            rows.append(row)\n",
    "    except:\n",
    "        pass"
   ]
  },
  {
   "cell_type": "code",
   "execution_count": 4,
   "metadata": {},
   "outputs": [],
   "source": [
    "data = pd.DataFrame(rows)\n",
    "\n",
    "data.to_csv('cbsnews_webscrape.csv', index=False)"
   ]
  },
  {
   "cell_type": "code",
   "execution_count": null,
   "metadata": {},
   "outputs": [],
   "source": []
  }
 ],
 "metadata": {
  "kernelspec": {
   "display_name": "Python 3.9.0 64-bit",
   "language": "python",
   "name": "python3"
  },
  "language_info": {
   "codemirror_mode": {
    "name": "ipython",
    "version": 3
   },
   "file_extension": ".py",
   "mimetype": "text/x-python",
   "name": "python",
   "nbconvert_exporter": "python",
   "pygments_lexer": "ipython3",
   "version": "3.10.7"
  },
  "orig_nbformat": 4,
  "vscode": {
   "interpreter": {
    "hash": "aee8b7b246df8f9039afb4144a1f6fd8d2ca17a180786b69acc140d282b71a49"
   }
  }
 },
 "nbformat": 4,
 "nbformat_minor": 2
}
