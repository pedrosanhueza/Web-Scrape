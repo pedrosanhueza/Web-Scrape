{
 "cells": [
  {
   "cell_type": "code",
   "execution_count": 84,
   "metadata": {},
   "outputs": [],
   "source": [
    "import requests\n",
    "import pandas as pd"
   ]
  },
  {
   "cell_type": "code",
   "execution_count": 76,
   "metadata": {},
   "outputs": [],
   "source": [
    "params = {\n",
    " 'queryid': 'products',\n",
    " 'anonymousId': '8C6429AB76DC36BC50046C17DB7CF38E',\n",
    " 'country': 'us',\n",
    " 'endpoint': '/product_feed/rollup_threads/v2?filter=marketplace(US)&filter=language(en)&filter=employeePrice(true)&filter=attributeIds(5b21a62a-0503-400c-8336-3ccfbff2a684)&anchor=0&consumerChannelId=d9a5bc42-4b9c-4976-858a-f159cf99c647&count=60',\n",
    " 'language': 'en',\n",
    " 'localizedRangeStr': '{lowestPrice} — {highestPrice}'\n",
    "}\n",
    "\n",
    "headers = {'User-Agent': 'Mozilla/5.0 (Windows NT 10.0; Win64; x64) AppleWebKit/537.36 (KHTML, like Gecko) Chrome/92.0.4515.107 Safari/537.36'}\n",
    "\n",
    "url = 'https://api.nike.com/cic/browse/v2'\n",
    "\n",
    "response = requests.get(url, params=params,headers = headers)"
   ]
  },
  {
   "cell_type": "code",
   "execution_count": 77,
   "metadata": {},
   "outputs": [
    {
     "data": {
      "text/plain": [
       "'https://api.nike.com/cic/browse/v2?queryid=products&anonymousId=8C6429AB76DC36BC50046C17DB7CF38E&country=us&endpoint=%2Fproduct_feed%2Frollup_threads%2Fv2%3Ffilter%3Dmarketplace%28US%29%26filter%3Dlanguage%28en%29%26filter%3DemployeePrice%28true%29%26filter%3DattributeIds%285b21a62a-0503-400c-8336-3ccfbff2a684%29%26anchor%3D0%26consumerChannelId%3Dd9a5bc42-4b9c-4976-858a-f159cf99c647%26count%3D60&language=en&localizedRangeStr=%7BlowestPrice%7D+%E2%80%94+%7BhighestPrice%7D'"
      ]
     },
     "execution_count": 77,
     "metadata": {},
     "output_type": "execute_result"
    }
   ],
   "source": [
    "response.url"
   ]
  },
  {
   "cell_type": "code",
   "execution_count": 78,
   "metadata": {},
   "outputs": [],
   "source": [
    "reponse_object = response.json()"
   ]
  },
  {
   "cell_type": "code",
   "execution_count": 79,
   "metadata": {},
   "outputs": [
    {
     "data": {
      "text/plain": [
       "{'prev': '',\n",
       " 'next': '/product_feed/rollup_threads/v2?filter=marketplace%28US%29&filter=language%28en%29&filter=employeePrice%28true%29&filter=attributeIds%285b21a62a-0503-400c-8336-3ccfbff2a684%29&anchor=60&consumerChannelId=d9a5bc42-4b9c-4976-858a-f159cf99c647&count=60',\n",
       " 'totalPages': 83,\n",
       " 'totalResources': 4946,\n",
       " 'searchSummary': None}"
      ]
     },
     "execution_count": 79,
     "metadata": {},
     "output_type": "execute_result"
    }
   ],
   "source": [
    "reponse_object['data']['products']['pages']"
   ]
  },
  {
   "cell_type": "code",
   "execution_count": 87,
   "metadata": {},
   "outputs": [
    {
     "data": {
      "text/plain": [
       "60"
      ]
     },
     "execution_count": 87,
     "metadata": {},
     "output_type": "execute_result"
    }
   ],
   "source": [
    "len(reponse_object['data']['products']['products'])"
   ]
  },
  {
   "cell_type": "code",
   "execution_count": 88,
   "metadata": {},
   "outputs": [],
   "source": [
    "products = reponse_object['data']['products']['products']"
   ]
  },
  {
   "cell_type": "code",
   "execution_count": 108,
   "metadata": {},
   "outputs": [],
   "source": [
    "'title'\n",
    "'subtitle'\n",
    "'productType'\n",
    "'currentPrice'\n",
    "'fullPrice'\n",
    "'employeePrice'\n",
    "'pdpUrl' # 'https://www.nike.com'\n",
    "\n",
    "\n",
    "# for product in products:\n",
    "#     for color in product['colorways']:\n",
    "#         print(color['colorDescription'])\n",
    "\n",
    "# Create a new list with 'title' and 'color' keys\n",
    "products_filtered = [\n",
    "    {\n",
    "        'title': product['title'],\n",
    "        'subtitle': product['subtitle'],\n",
    "        'productType': product['productType'],\n",
    "        'colors': product['colorways']\n",
    "    }\n",
    "    for product in products\n",
    "]\n"
   ]
  },
  {
   "cell_type": "code",
   "execution_count": 109,
   "metadata": {},
   "outputs": [
    {
     "data": {
      "text/plain": [
       "{'title': 'Air Jordan 1 Low',\n",
       " 'subtitle': \"Big Kids' Shoes\",\n",
       " 'productType': 'FOOTWEAR',\n",
       " 'colors': [{'colorDescription': 'Palomino/White/Wild Berry',\n",
       "   'images': {'portraitURL': 'https://static.nike.com/a/images/c_limit,w_400,f_auto/t_product_v1/f7973301-0414-47db-bf3a-97142c42efc1/image.jpg',\n",
       "    'squarishURL': 'https://static.nike.com/a/images/t_default/c6dc80f9-0474-4201-9c31-7e76db39f7d6/air-jordan-1-low-big-kids-shoes-kAvvx4.png'},\n",
       "   'pdpUrl': '{countryLang}/t/air-jordan-1-low-big-kids-shoes-kAvvx4/553560-215',\n",
       "   'price': {'currency': 'USD',\n",
       "    'currentPrice': 67.97,\n",
       "    'discounted': True,\n",
       "    'employeePrice': 40.78,\n",
       "    'fullPrice': 90,\n",
       "    'minimumAdvertisedPrice': None},\n",
       "   'cloudProductId': '17812d6f-b7d4-54c5-ba77-76213344171b',\n",
       "   'inStock': True,\n",
       "   'isComingSoon': False,\n",
       "   'isBestSeller': True,\n",
       "   'isExcluded': False,\n",
       "   'isLaunch': False,\n",
       "   'isMemberExclusive': False,\n",
       "   'isNew': False,\n",
       "   'label': 'BEST_SELLER',\n",
       "   'pid': '1003842771',\n",
       "   'prebuildId': None,\n",
       "   'productInstanceId': None},\n",
       "  {'colorDescription': 'Black/Taxi/Dark Concord',\n",
       "   'images': {'portraitURL': 'https://static.nike.com/a/images/c_limit,w_400,f_auto/t_product_v1/e9b1b191-1aeb-4d06-8794-6568415d19ce/image.jpg',\n",
       "    'squarishURL': 'https://static.nike.com/a/images/t_default/7eb96f32-5d09-4b00-9f2a-4b94db4c901c/air-jordan-1-low-big-kids-shoes-kAvvx4.png'},\n",
       "   'pdpUrl': '{countryLang}/t/air-jordan-1-low-big-kids-shoes-kAvvx4/553560-075',\n",
       "   'price': {'currency': 'USD',\n",
       "    'currentPrice': 63.97,\n",
       "    'discounted': True,\n",
       "    'employeePrice': 38.38,\n",
       "    'fullPrice': 90,\n",
       "    'minimumAdvertisedPrice': None},\n",
       "   'cloudProductId': '3053043d-4fd7-553f-92de-1a13efa94d1c',\n",
       "   'inStock': True,\n",
       "   'isComingSoon': False,\n",
       "   'isBestSeller': True,\n",
       "   'isExcluded': False,\n",
       "   'isLaunch': False,\n",
       "   'isMemberExclusive': False,\n",
       "   'isNew': False,\n",
       "   'label': 'IN_STOCK',\n",
       "   'pid': '14243597',\n",
       "   'prebuildId': None,\n",
       "   'productInstanceId': None}]}"
      ]
     },
     "execution_count": 109,
     "metadata": {},
     "output_type": "execute_result"
    }
   ],
   "source": [
    "# reponse_object['data']['products']['products'][0]\n",
    "products_filtered[0]"
   ]
  },
  {
   "cell_type": "code",
   "execution_count": 107,
   "metadata": {},
   "outputs": [
    {
     "data": {
      "text/plain": [
       "{'cardType': 'default',\n",
       " 'cloudProductId': '17812d6f-b7d4-54c5-ba77-76213344171b',\n",
       " 'colorDescription': 'Palomino/White/Wild Berry',\n",
       " 'colorways': [{'colorDescription': 'Palomino/White/Wild Berry',\n",
       "   'images': {'portraitURL': 'https://static.nike.com/a/images/c_limit,w_400,f_auto/t_product_v1/f7973301-0414-47db-bf3a-97142c42efc1/image.jpg',\n",
       "    'squarishURL': 'https://static.nike.com/a/images/t_default/c6dc80f9-0474-4201-9c31-7e76db39f7d6/air-jordan-1-low-big-kids-shoes-kAvvx4.png'},\n",
       "   'pdpUrl': '{countryLang}/t/air-jordan-1-low-big-kids-shoes-kAvvx4/553560-215',\n",
       "   'price': {'currency': 'USD',\n",
       "    'currentPrice': 67.97,\n",
       "    'discounted': True,\n",
       "    'employeePrice': 40.78,\n",
       "    'fullPrice': 90,\n",
       "    'minimumAdvertisedPrice': None},\n",
       "   'cloudProductId': '17812d6f-b7d4-54c5-ba77-76213344171b',\n",
       "   'inStock': True,\n",
       "   'isComingSoon': False,\n",
       "   'isBestSeller': True,\n",
       "   'isExcluded': False,\n",
       "   'isLaunch': False,\n",
       "   'isMemberExclusive': False,\n",
       "   'isNew': False,\n",
       "   'label': 'BEST_SELLER',\n",
       "   'pid': '1003842771',\n",
       "   'prebuildId': None,\n",
       "   'productInstanceId': None},\n",
       "  {'colorDescription': 'Black/Taxi/Dark Concord',\n",
       "   'images': {'portraitURL': 'https://static.nike.com/a/images/c_limit,w_400,f_auto/t_product_v1/e9b1b191-1aeb-4d06-8794-6568415d19ce/image.jpg',\n",
       "    'squarishURL': 'https://static.nike.com/a/images/t_default/7eb96f32-5d09-4b00-9f2a-4b94db4c901c/air-jordan-1-low-big-kids-shoes-kAvvx4.png'},\n",
       "   'pdpUrl': '{countryLang}/t/air-jordan-1-low-big-kids-shoes-kAvvx4/553560-075',\n",
       "   'price': {'currency': 'USD',\n",
       "    'currentPrice': 63.97,\n",
       "    'discounted': True,\n",
       "    'employeePrice': 38.38,\n",
       "    'fullPrice': 90,\n",
       "    'minimumAdvertisedPrice': None},\n",
       "   'cloudProductId': '3053043d-4fd7-553f-92de-1a13efa94d1c',\n",
       "   'inStock': True,\n",
       "   'isComingSoon': False,\n",
       "   'isBestSeller': True,\n",
       "   'isExcluded': False,\n",
       "   'isLaunch': False,\n",
       "   'isMemberExclusive': False,\n",
       "   'isNew': False,\n",
       "   'label': 'IN_STOCK',\n",
       "   'pid': '14243597',\n",
       "   'prebuildId': None,\n",
       "   'productInstanceId': None}],\n",
       " 'customizable': False,\n",
       " 'hasExtendedSizing': False,\n",
       " 'id': '1f63d5d7-2357-4fd0-950c-edfa8aebe24c',\n",
       " 'images': {'portraitURL': 'https://static.nike.com/a/images/c_limit,w_400,f_auto/t_product_v1/f7973301-0414-47db-bf3a-97142c42efc1/image.jpg',\n",
       "  'squarishURL': 'https://static.nike.com/a/images/t_default/c6dc80f9-0474-4201-9c31-7e76db39f7d6/air-jordan-1-low-big-kids-shoes-kAvvx4.png'},\n",
       " 'inStock': True,\n",
       " 'isComingSoon': False,\n",
       " 'isBestSeller': True,\n",
       " 'isExcluded': False,\n",
       " 'isGiftCard': False,\n",
       " 'isJersey': False,\n",
       " 'isLaunch': False,\n",
       " 'isMemberExclusive': False,\n",
       " 'isNBA': False,\n",
       " 'isNFL': False,\n",
       " 'isSustainable': False,\n",
       " 'label': 'BEST_SELLER',\n",
       " 'nbyColorway': None,\n",
       " 'pid': '1003842771',\n",
       " 'prebuildId': None,\n",
       " 'price': {'currency': 'USD',\n",
       "  'currentPrice': 67.97,\n",
       "  'discounted': True,\n",
       "  'employeePrice': 40.78,\n",
       "  'fullPrice': 90,\n",
       "  'minimumAdvertisedPrice': None},\n",
       " 'productInstanceId': None,\n",
       " 'productType': 'FOOTWEAR',\n",
       " 'properties': None,\n",
       " 'salesChannel': ['NikeApp', 'Nike.com', 'Nike Store Experiences'],\n",
       " 'subtitle': \"Big Kids' Shoes\",\n",
       " 'title': 'Air Jordan 1 Low',\n",
       " 'url': '{countryLang}/t/air-jordan-1-low-big-kids-shoes-kAvvx4/553560-215'}"
      ]
     },
     "execution_count": 107,
     "metadata": {},
     "output_type": "execute_result"
    }
   ],
   "source": [
    "products[0]"
   ]
  },
  {
   "cell_type": "code",
   "execution_count": null,
   "metadata": {},
   "outputs": [],
   "source": []
  }
 ],
 "metadata": {
  "kernelspec": {
   "display_name": "Python 3",
   "language": "python",
   "name": "python3"
  },
  "language_info": {
   "codemirror_mode": {
    "name": "ipython",
    "version": 3
   },
   "file_extension": ".py",
   "mimetype": "text/x-python",
   "name": "python",
   "nbconvert_exporter": "python",
   "pygments_lexer": "ipython3",
   "version": "3.9.0"
  },
  "orig_nbformat": 4
 },
 "nbformat": 4,
 "nbformat_minor": 2
}
