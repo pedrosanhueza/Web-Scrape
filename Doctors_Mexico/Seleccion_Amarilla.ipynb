{
 "cells": [
  {
   "cell_type": "code",
   "execution_count": 3,
   "metadata": {},
   "outputs": [],
   "source": [
    "import requests\n",
    "import pandas as pd\n",
    "from bs4 import BeautifulSoup"
   ]
  },
  {
   "cell_type": "code",
   "execution_count": 1,
   "metadata": {},
   "outputs": [],
   "source": [
    "headers = {'User-Agent': \"Mozilla/5.0 (Macintosh; Intel Mac OS X 10_15_7) AppleWebKit/537.36 (KHTML, like Gecko) Chrome/106.0.0.0 Safari/537.36\"}"
   ]
  },
  {
   "cell_type": "code",
   "execution_count": 106,
   "metadata": {},
   "outputs": [],
   "source": [
    "rows = []\n",
    "\n",
    "for number in range(1,31):\n",
    "\n",
    "    url = f'https://www.seccionamarilla.com.mx/resultados/doctores/queretaro/{number}'\n",
    "\n",
    "    response = requests.get(url)\n",
    "\n",
    "    soup = BeautifulSoup(response.text)    \n",
    "\n",
    "    tables = soup.find_all('div',{'class':'six columns l-datos'})\n",
    "\n",
    "    for table in tables:\n",
    "        row = {}\n",
    "        try:\n",
    "            row['Name'] = table.find('h2').text\n",
    "        except:\n",
    "            pass\n",
    "        try:\n",
    "            row['Phone'] = table.find('span',{'itemprop':'telephone'}).text\n",
    "        except:\n",
    "            pass\n",
    "        try:\n",
    "            row['Adress'] = table.find('div',{'class':'l-address'}).text\n",
    "        except:\n",
    "            pass\n",
    "        \n",
    "        rows.append(row)"
   ]
  },
  {
   "cell_type": "code",
   "execution_count": 113,
   "metadata": {},
   "outputs": [],
   "source": [
    "pd.options.display.max_colwidth = None"
   ]
  },
  {
   "cell_type": "code",
   "execution_count": 114,
   "metadata": {},
   "outputs": [
    {
     "data": {
      "text/html": [
       "<div>\n",
       "<style scoped>\n",
       "    .dataframe tbody tr th:only-of-type {\n",
       "        vertical-align: middle;\n",
       "    }\n",
       "\n",
       "    .dataframe tbody tr th {\n",
       "        vertical-align: top;\n",
       "    }\n",
       "\n",
       "    .dataframe thead th {\n",
       "        text-align: right;\n",
       "    }\n",
       "</style>\n",
       "<table border=\"1\" class=\"dataframe\">\n",
       "  <thead>\n",
       "    <tr style=\"text-align: right;\">\n",
       "      <th></th>\n",
       "      <th>Name</th>\n",
       "      <th>Phone</th>\n",
       "      <th>Adress</th>\n",
       "    </tr>\n",
       "  </thead>\n",
       "  <tbody>\n",
       "    <tr>\n",
       "      <th>0</th>\n",
       "      <td>DR. ARMANDO R. NARVÁEZ CRESPO</td>\n",
       "      <td>(442)215-8727</td>\n",
       "      <td>PROL. CONSTITUYENTES 302 416 TORRE 1, 4TO PISO, EL JACAL  , QUERETARO , QRO , C.P.76187</td>\n",
       "    </tr>\n",
       "    <tr>\n",
       "      <th>1</th>\n",
       "      <td>DR. JUAN VILLAGORDOA MESA</td>\n",
       "      <td>(442)384-7200</td>\n",
       "      <td>PRIVADA IGNACIO ZARAGOZA 16-B TORRRE 3 PISO 8 C 810, CENTRO  , QUERETARO , QRO , C.P.76000</td>\n",
       "    </tr>\n",
       "    <tr>\n",
       "      <th>2</th>\n",
       "      <td>DR. MIGUEL LUIS ESQUIVEL HERRERA</td>\n",
       "      <td>(442)167-2580</td>\n",
       "      <td>CALLE. BERNARDINO DEL RAZO 21 230, ENSUEÑO  , QUERETARO , QRO , C.P.76178</td>\n",
       "    </tr>\n",
       "    <tr>\n",
       "      <th>3</th>\n",
       "      <td>DRA. MARGARITA GALO FERNÁNDEZ CAYETANO</td>\n",
       "      <td>(442)454-1031</td>\n",
       "      <td>PASEO DE LA REPÚBLICA KM 13020 CONSULTORIO 1508, PISO 15, JURIQUILLA  , QUERETARO , QRO , C.P.76230</td>\n",
       "    </tr>\n",
       "    <tr>\n",
       "      <th>4</th>\n",
       "      <td>DR. FABIO RICO MORLÁN CIRUJANO ONCÓLOGO</td>\n",
       "      <td>(442)241-5930</td>\n",
       "      <td>AV DE LAS CIENCIAS 2070-3 HOSPITAL NOSCATI CONSULTORIO 2809, RANCHO LARGO  , QUERETARO , QRO , C.P.76230</td>\n",
       "    </tr>\n",
       "    <tr>\n",
       "      <th>...</th>\n",
       "      <td>...</td>\n",
       "      <td>...</td>\n",
       "      <td>...</td>\n",
       "    </tr>\n",
       "    <tr>\n",
       "      <th>595</th>\n",
       "      <td>HIPNOSIS CLINICA</td>\n",
       "      <td>( 427) 272 6600</td>\n",
       "      <td>BLVD HIDALGO 24, CENTRO  , SAN JUAN DEL RIO , QRO , C.P.76800</td>\n",
       "    </tr>\n",
       "    <tr>\n",
       "      <th>596</th>\n",
       "      <td>HOBBISIMO</td>\n",
       "      <td>( 442) 210 2114</td>\n",
       "      <td>PLAZA GALERIAS 30, LAS CAMPANAS  , QUERETARO , QRO , C.P.76010</td>\n",
       "    </tr>\n",
       "    <tr>\n",
       "      <th>597</th>\n",
       "      <td>HOBBISSIMO VETERINARIA Y ACUARIO</td>\n",
       "      <td>( 427) 274 7991</td>\n",
       "      <td>CLLE PLAZA AGUA PRIETA 18, CENTRO  , SAN JUAN DEL RIO , QRO , C.P.76800</td>\n",
       "    </tr>\n",
       "    <tr>\n",
       "      <th>598</th>\n",
       "      <td>HOCCE</td>\n",
       "      <td>( 442) 220 8505</td>\n",
       "      <td>BLV BERNARDO QUINTANA ARRIOJA 113 LOC 10, VILLAS DEL PARQUE  , QUERETARO , QRO , C.P.76140</td>\n",
       "    </tr>\n",
       "    <tr>\n",
       "      <th>599</th>\n",
       "      <td>HOMEOPATIA DE QUERETARO</td>\n",
       "      <td>( 442) 213 8497</td>\n",
       "      <td>20 DE NOVIEMBRE 272, ARQUITOS  , QUERETARO , QRO , C.P.76048</td>\n",
       "    </tr>\n",
       "  </tbody>\n",
       "</table>\n",
       "<p>600 rows × 3 columns</p>\n",
       "</div>"
      ],
      "text/plain": [
       "                                        Name            Phone  \\\n",
       "0              DR. ARMANDO R. NARVÁEZ CRESPO    (442)215-8727   \n",
       "1                  DR. JUAN VILLAGORDOA MESA    (442)384-7200   \n",
       "2           DR. MIGUEL LUIS ESQUIVEL HERRERA    (442)167-2580   \n",
       "3     DRA. MARGARITA GALO FERNÁNDEZ CAYETANO    (442)454-1031   \n",
       "4    DR. FABIO RICO MORLÁN CIRUJANO ONCÓLOGO    (442)241-5930   \n",
       "..                                       ...              ...   \n",
       "595                         HIPNOSIS CLINICA  ( 427) 272 6600   \n",
       "596                                HOBBISIMO  ( 442) 210 2114   \n",
       "597         HOBBISSIMO VETERINARIA Y ACUARIO  ( 427) 274 7991   \n",
       "598                                    HOCCE  ( 442) 220 8505   \n",
       "599                  HOMEOPATIA DE QUERETARO  ( 442) 213 8497   \n",
       "\n",
       "                                                                                                         Adress  \n",
       "0                      PROL. CONSTITUYENTES 302 416 TORRE 1, 4TO PISO, EL JACAL  , QUERETARO , QRO , C.P.76187   \n",
       "1                   PRIVADA IGNACIO ZARAGOZA 16-B TORRRE 3 PISO 8 C 810, CENTRO  , QUERETARO , QRO , C.P.76000   \n",
       "2                                    CALLE. BERNARDINO DEL RAZO 21 230, ENSUEÑO  , QUERETARO , QRO , C.P.76178   \n",
       "3          PASEO DE LA REPÚBLICA KM 13020 CONSULTORIO 1508, PISO 15, JURIQUILLA  , QUERETARO , QRO , C.P.76230   \n",
       "4     AV DE LAS CIENCIAS 2070-3 HOSPITAL NOSCATI CONSULTORIO 2809, RANCHO LARGO  , QUERETARO , QRO , C.P.76230   \n",
       "..                                                                                                          ...  \n",
       "595                                              BLVD HIDALGO 24, CENTRO  , SAN JUAN DEL RIO , QRO , C.P.76800   \n",
       "596                                             PLAZA GALERIAS 30, LAS CAMPANAS  , QUERETARO , QRO , C.P.76010   \n",
       "597                                    CLLE PLAZA AGUA PRIETA 18, CENTRO  , SAN JUAN DEL RIO , QRO , C.P.76800   \n",
       "598                 BLV BERNARDO QUINTANA ARRIOJA 113 LOC 10, VILLAS DEL PARQUE  , QUERETARO , QRO , C.P.76140   \n",
       "599                                               20 DE NOVIEMBRE 272, ARQUITOS  , QUERETARO , QRO , C.P.76048   \n",
       "\n",
       "[600 rows x 3 columns]"
      ]
     },
     "execution_count": 114,
     "metadata": {},
     "output_type": "execute_result"
    }
   ],
   "source": [
    "dataset = pd.DataFrame(rows)\n",
    "\n",
    "dataset"
   ]
  },
  {
   "cell_type": "code",
   "execution_count": 108,
   "metadata": {},
   "outputs": [],
   "source": [
    "dataset.to_csv('Selecction_Amarilla_Doctores.csv', index=False)"
   ]
  },
  {
   "attachments": {},
   "cell_type": "markdown",
   "metadata": {},
   "source": [
    "## TESTING AREA"
   ]
  },
  {
   "cell_type": "code",
   "execution_count": null,
   "metadata": {},
   "outputs": [],
   "source": []
  }
 ],
 "metadata": {
  "kernelspec": {
   "display_name": "Python 3",
   "language": "python",
   "name": "python3"
  },
  "language_info": {
   "codemirror_mode": {
    "name": "ipython",
    "version": 3
   },
   "file_extension": ".py",
   "mimetype": "text/x-python",
   "name": "python",
   "nbconvert_exporter": "python",
   "pygments_lexer": "ipython3",
   "version": "3.9.0"
  },
  "orig_nbformat": 4,
  "vscode": {
   "interpreter": {
    "hash": "397704579725e15f5c7cb49fe5f0341eb7531c82d19f2c29d197e8b64ab5776b"
   }
  }
 },
 "nbformat": 4,
 "nbformat_minor": 2
}
