{
 "cells": [
  {
   "cell_type": "markdown",
   "metadata": {},
   "source": [
    "# IN PROGRESS ..."
   ]
  },
  {
   "cell_type": "code",
   "execution_count": 1,
   "metadata": {},
   "outputs": [],
   "source": [
    "import requests\n",
    "from bs4 import BeautifulSoup\n",
    "import pandas as pd "
   ]
  },
  {
   "cell_type": "code",
   "execution_count": 14,
   "metadata": {},
   "outputs": [],
   "source": [
    "url = \"https://www.foxsports.com/soccer/mexico-men-team-roster\"\n",
    "response = requests.get(url)\n",
    "soup = BeautifulSoup(response.text, 'html.parser')"
   ]
  },
  {
   "cell_type": "code",
   "execution_count": 36,
   "metadata": {},
   "outputs": [
    {
     "data": {
      "text/plain": [
       "<td class=\"cell-entity fs-18 lh-1pt67\" data-index=\"0\"><div class=\"table-entity\"><!-- --><!-- --><a class=\"table-entity-name ff-s\" href=\"/soccer/carlos-acevedo-player\"><h3>Carlos Acevedo</h3></a><sup class=\"table-superscript mg-b-5 ffn-11 ls-pt5\">#12</sup></div></td>"
      ]
     },
     "execution_count": 36,
     "metadata": {},
     "output_type": "execute_result"
    }
   ],
   "source": [
    "rows = soup.find_all('tr')\n",
    "rows[1].find('td')"
   ]
  },
  {
   "cell_type": "code",
   "execution_count": 38,
   "metadata": {},
   "outputs": [
    {
     "data": {
      "text/plain": [
       "'Carlos Acevedo'"
      ]
     },
     "execution_count": 38,
     "metadata": {},
     "output_type": "execute_result"
    }
   ],
   "source": [
    "rows[1].find('h3').get_text()"
   ]
  },
  {
   "cell_type": "code",
   "execution_count": 40,
   "metadata": {},
   "outputs": [
    {
     "data": {
      "text/plain": [
       "<tr><td class=\"cell-entity fs-18 lh-1pt67\" data-index=\"0\"><div class=\"table-entity\"><!-- --><!-- --><a class=\"table-entity-name ff-s\" href=\"/soccer/carlos-acevedo-player\"><h3>Carlos Acevedo</h3></a><sup class=\"table-superscript mg-b-5 ffn-11 ls-pt5\">#12</sup></div></td><td class=\"cell-text ff-h\" data-index=\"1\">\n",
       "    G\n",
       "  </td><td class=\"cell-text ff-h\" data-index=\"2\">\n",
       "    26\n",
       "  </td><td class=\"cell-text ff-h\" data-index=\"3\">\n",
       "    5'11\"\n",
       "  </td><td class=\"cell-text ff-h\" data-index=\"4\">\n",
       "    149 lbs\n",
       "  </td></tr>"
      ]
     },
     "execution_count": 40,
     "metadata": {},
     "output_type": "execute_result"
    }
   ],
   "source": [
    "soup.find_all('tr')[1]"
   ]
  },
  {
   "cell_type": "code",
   "execution_count": null,
   "metadata": {},
   "outputs": [],
   "source": []
  }
 ],
 "metadata": {
  "kernelspec": {
   "display_name": "Python 3.9.0 64-bit",
   "language": "python",
   "name": "python3"
  },
  "language_info": {
   "codemirror_mode": {
    "name": "ipython",
    "version": 3
   },
   "file_extension": ".py",
   "mimetype": "text/x-python",
   "name": "python",
   "nbconvert_exporter": "python",
   "pygments_lexer": "ipython3",
   "version": "3.9.0"
  },
  "orig_nbformat": 4,
  "vscode": {
   "interpreter": {
    "hash": "aee8b7b246df8f9039afb4144a1f6fd8d2ca17a180786b69acc140d282b71a49"
   }
  }
 },
 "nbformat": 4,
 "nbformat_minor": 2
}
