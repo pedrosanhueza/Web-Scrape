{
 "cells": [
  {
   "cell_type": "code",
   "execution_count": 1,
   "metadata": {},
   "outputs": [],
   "source": [
    "import requests # to get the html markdown from the url\n",
    "from bs4 import BeautifulSoup # to make the html readable\n",
    "import pandas as pd # to save table in a csv\n",
    "from datetime import datetime # to append current time into file name\n"
   ]
  },
  {
   "cell_type": "markdown",
   "metadata": {},
   "source": [
    "# List of all IG urls"
   ]
  },
  {
   "cell_type": "code",
   "execution_count": 2,
   "metadata": {},
   "outputs": [],
   "source": [
    "url = 'https://sinca.mma.gob.cl/'\n",
    "html_data = requests.get(url)\n",
    "soup = BeautifulSoup(html_data.text, 'html.parser')\n",
    "\n",
    "# list of all regions link. Each region page has their stations link. From station link we get the data.\n",
    "regiones = ['https://sinca.mma.gob.cl/'+x['href'] for x in soup.findAll('a')][15:-4]\n"
   ]
  },
  {
   "cell_type": "code",
   "execution_count": 3,
   "metadata": {},
   "outputs": [
    {
     "data": {
      "text/plain": [
       "213"
      ]
     },
     "execution_count": 3,
     "metadata": {},
     "output_type": "execute_result"
    }
   ],
   "source": [
    "# running time: 32s\n",
    "# get list of urls. all station links\n",
    "\n",
    "url_stations = []\n",
    "for page in regiones:\n",
    "    html_data = requests.get(page)\n",
    "    soup = BeautifulSoup(html_data.text, 'html.parser')\n",
    "    url_stations = url_stations + [x.findAll('a')[0]['href'] for x in soup.find_all('tbody')[0].find_all('tr')]\n",
    "len(url_stations)"
   ]
  },
  {
   "cell_type": "code",
   "execution_count": 4,
   "metadata": {},
   "outputs": [],
   "source": [
    "# running time 3m 30s\n",
    "\n",
    "rows=[]\n",
    "\n",
    "for region in url_stations:\n",
    "    \n",
    "    url = 'https://sinca.mma.gob.cl'+region\n",
    "    html_data = requests.get(url)\n",
    "    soup = BeautifulSoup(html_data.text, 'html.parser')\n",
    "    \n",
    "    estacion = soup.select('h1')[1].text.split(' ')[1:]\n",
    "    estacion = ' '.join(estacion)\n",
    "\n",
    "    GI_cols =   [ x.get_text().strip() for x in soup.find_all('th',{'class':'right'})]\n",
    "    GI_values = [ x.get_text().strip() for x in soup.find_all('td',{'class':'left'}) ]\n",
    "\n",
    "    row={}\n",
    "    for idx in range(len(GI_values)):\n",
    "        row.update({GI_cols[idx] : GI_values[idx]})\n",
    "    row.update({'Estacion_id':int(region.split('/')[-1])})\n",
    "    row.update({'Estacion':estacion})\n",
    "    row.update({'URL':url})\n",
    "    \n",
    "    rows.append(row)\n",
    "\n",
    "data = pd.DataFrame(rows)"
   ]
  },
  {
   "cell_type": "code",
   "execution_count": null,
   "metadata": {},
   "outputs": [],
   "source": [
    "# Clean data\n",
    "\n",
    "data = pd.DataFrame(rows)\n",
    "\n",
    "data['Región'] = data['Región'].apply(lambda x: x.replace('de ',''))\n",
    "\n",
    "data['Huso horario'] = data['Huso horario'].apply(lambda x: int(x))\n"
   ]
  },
  {
   "cell_type": "code",
   "execution_count": null,
   "metadata": {},
   "outputs": [],
   "source": [
    "# SAVE TO EXCEL\n",
    "\n",
    "date = datetime.now().strftime(\"%d-%m-%Y %H%M%S\") # get local time as string\n",
    "\n",
    "filePath = \"../SINCA MMA Gob - Historical Data/Información general \" + date + \" - Webscrape.csv\"\n",
    "\n",
    "data.sort_values('Estacion', inplace=True)\n",
    "\n",
    "data.to_csv(filePath, index=True) # save to file path\n",
    "\n",
    "data"
   ]
  },
  {
   "cell_type": "code",
   "execution_count": null,
   "metadata": {},
   "outputs": [],
   "source": []
  },
  {
   "cell_type": "code",
   "execution_count": null,
   "metadata": {},
   "outputs": [],
   "source": []
  },
  {
   "cell_type": "code",
   "execution_count": null,
   "metadata": {},
   "outputs": [],
   "source": []
  },
  {
   "cell_type": "code",
   "execution_count": null,
   "metadata": {},
   "outputs": [],
   "source": []
  },
  {
   "cell_type": "code",
   "execution_count": null,
   "metadata": {},
   "outputs": [],
   "source": []
  },
  {
   "cell_type": "code",
   "execution_count": null,
   "metadata": {},
   "outputs": [],
   "source": []
  },
  {
   "cell_type": "code",
   "execution_count": null,
   "metadata": {},
   "outputs": [],
   "source": []
  },
  {
   "cell_type": "code",
   "execution_count": null,
   "metadata": {},
   "outputs": [],
   "source": []
  }
 ],
 "metadata": {
  "kernelspec": {
   "display_name": "Python 3.9.0 64-bit",
   "language": "python",
   "name": "python3"
  },
  "language_info": {
   "codemirror_mode": {
    "name": "ipython",
    "version": 3
   },
   "file_extension": ".py",
   "mimetype": "text/x-python",
   "name": "python",
   "nbconvert_exporter": "python",
   "pygments_lexer": "ipython3",
   "version": "3.9.0"
  },
  "orig_nbformat": 4,
  "vscode": {
   "interpreter": {
    "hash": "7812ea015bdcee6f23a998adcdd2ef97c151c0c241b7b7070987d9313e41299d"
   }
  }
 },
 "nbformat": 4,
 "nbformat_minor": 2
}
