{
 "cells": [
  {
   "attachments": {},
   "cell_type": "markdown",
   "metadata": {},
   "source": [
    "# Web Scrape\n",
    "\n",
    "#### Step 1: Import libraries\n",
    "\n",
    "#### Step 2: Create a list with all urls\n",
    "\n",
    "#### Step 3: Loop through each link:\n",
    "* Get html\n",
    "* Build table\n",
    "* Concat all tables\n",
    "\n",
    "#### Step 4: Expand rows with compact values"
   ]
  },
  {
   "attachments": {},
   "cell_type": "markdown",
   "metadata": {},
   "source": [
    "# Import Libraries"
   ]
  },
  {
   "cell_type": "code",
   "execution_count": 3,
   "metadata": {},
   "outputs": [],
   "source": [
    "import requests\n",
    "from bs4 import BeautifulSoup\n",
    "import pandas as pd"
   ]
  },
  {
   "attachments": {},
   "cell_type": "markdown",
   "metadata": {},
   "source": [
    "# Create list with all URLs"
   ]
  },
  {
   "cell_type": "code",
   "execution_count": 4,
   "metadata": {},
   "outputs": [],
   "source": [
    "filterDay = ['yesterday', 'today', 'tomorrow']\n",
    "\n",
    "filterHour = [str(i) for i in range(0, 24, 6)]"
   ]
  },
  {
   "attachments": {},
   "cell_type": "markdown",
   "metadata": {},
   "source": [
    "# Departures"
   ]
  },
  {
   "cell_type": "code",
   "execution_count": 5,
   "metadata": {},
   "outputs": [],
   "source": [
    "df_departures = pd.DataFrame(columns=['Destination City', 'Destination Code', 'Departure', 'Flight', 'Airline', 'Terminal', 'Status', 'Date', 'Reference Day', 'url'])\n",
    "for day in filterDay:\n",
    "    for hour in filterHour:\n",
    "        url = f'https://www.santiago-airport.com/scl-departures?day={day}&tp={hour}'\n",
    "        request = requests.get(url)\n",
    "        soup = BeautifulSoup(request.text, 'html.parser')\n",
    "        reference_day = url.split('=')[1][:-3]\n",
    "        date = soup.find('option', {'selected': 'selected'}).text.split(' ')[0] if reference_day != 'Tomorrow' else soup.find('option', {'value': '?day=tomorrow'}).text.split(' ')[0]\n",
    "        rows = []\n",
    "        for flight in soup.find_all('div', class_='flight-row')[1:]:\n",
    "            if flight.find('div', {'class', 'adsense'}): # advertisement row\n",
    "                continue\n",
    "            destination = flight.find('div', {'class', 'flight-col flight-col__dest-term'}).find('b').text\n",
    "            destination_code = flight.find('div', {'class', 'flight-col flight-col__dest-term'}).find('span').text\n",
    "            departure = flight.find('div', {'class', 'flight-col flight-col__hour'}).text.strip()\n",
    "            flight_number = flight.find('div', {'class', 'flight-col flight-col__flight'}).text.strip().split('\\n')\n",
    "            airline = flight.find('div', {'class', 'flight-col flight-col__airline'}).text.strip().split('\\n')\n",
    "            terminal = flight.find('div', {'class', 'flight-col flight-col__terminal'}).text.strip()\n",
    "            status = flight.find_all('a')[-1].text\n",
    "            for i in range(max(len(flight_number), len(airline))):\n",
    "                rows.append({\n",
    "                    'Destination City': destination,\n",
    "                    'Destination Code': destination_code,\n",
    "                    'Departure': departure,\n",
    "                    'Flight': flight_number[i] if i < len(flight_number) else '',\n",
    "                    'Airline': airline[i] if i < len(airline) else '',\n",
    "                    'Terminal': terminal,\n",
    "                    'Status': status,\n",
    "                    'Date': date,\n",
    "                    'Reference Day': reference_day,\n",
    "                    'url': url\n",
    "                })\n",
    "        df_departures = pd.concat([df_departures, pd.DataFrame(rows)], ignore_index=True)"
   ]
  },
  {
   "attachments": {},
   "cell_type": "markdown",
   "metadata": {},
   "source": [
    "# Arrivals"
   ]
  },
  {
   "cell_type": "code",
   "execution_count": 6,
   "metadata": {},
   "outputs": [],
   "source": [
    "df_arrivals = pd.DataFrame(columns=['Origin City', 'Origin Code', 'Arrival', 'Flight', 'Airline', 'Terminal', 'Status', 'Date', 'Reference Day', 'url'])\n",
    "\n",
    "for day in filterDay:\n",
    "    for hour in filterHour:\n",
    "        url = f'https://www.santiago-airport.com/scl-arrivals?day={day}&tp={hour}'\n",
    "        request = requests.get(url)\n",
    "        soup = BeautifulSoup(request.text, 'html.parser')\n",
    "        reference_day = url.split('=')[1][:-3]\n",
    "        date = soup.find('option', {'selected': 'selected'}).text.split(' ')[0] if reference_day != 'Tomorrow' else soup.find('option', {'value': '?day=tomorrow'}).text.split(' ')[0]\n",
    "        rows = []\n",
    "        for flight in soup.find_all('div', class_='flight-row')[1:]:\n",
    "            if flight.find('div', {'class', 'adsense'}): # advertisement row\n",
    "                continue\n",
    "            origin = flight.find('div', {'class', 'flight-col flight-col__dest-term'}).find('b').text\n",
    "            origin_code = flight.find('div', {'class', 'flight-col flight-col__dest-term'}).find('span').text\n",
    "            arrival = flight.find('div', {'class', 'flight-col flight-col__hour'}).text.strip()\n",
    "            flight_number = flight.find('div', {'class', 'flight-col flight-col__flight'}).text.strip().split('\\n')\n",
    "            airline = flight.find('div', {'class', 'flight-col flight-col__airline'}).text.strip().split('\\n')\n",
    "            terminal = flight.find('div', {'class', 'flight-col flight-col__terminal'}).text.strip()\n",
    "            status = flight.find_all('a')[-1].text\n",
    "            for i in range(max(len(flight_number), len(airline))):\n",
    "                rows.append({\n",
    "                    'Origin City': origin,\n",
    "                    'Origin Code': origin_code,\n",
    "                    'Arrival': arrival,\n",
    "                    'Flight': flight_number[i] if i < len(flight_number) else '',\n",
    "                    'Airline': airline[i] if i < len(airline) else '',\n",
    "                    'Terminal': terminal,\n",
    "                    'Status': status,\n",
    "                    'Date': date,\n",
    "                    'Reference Day': reference_day,\n",
    "                    'url': url\n",
    "                })\n",
    "        df_arrivals = pd.concat([df_arrivals, pd.DataFrame(rows)], ignore_index=True)"
   ]
  },
  {
   "cell_type": "code",
   "execution_count": 7,
   "metadata": {},
   "outputs": [],
   "source": [
    "df_departures['Date_Time'] = pd.to_datetime(df_departures.Date + \"-\" + df_departures.Departure, format='%Y-%m-%d-%H:%M')\n",
    "df_arrivals['Date_Time'] = pd.to_datetime(df_arrivals.Date + \"-\" + df_arrivals.Arrival, format='%Y-%m-%d-%H:%M')"
   ]
  },
  {
   "attachments": {},
   "cell_type": "markdown",
   "metadata": {},
   "source": [
    "# Add Columns"
   ]
  },
  {
   "cell_type": "code",
   "execution_count": 8,
   "metadata": {},
   "outputs": [],
   "source": [
    "city_country = {\n",
    "    'Antofagasta': 'Chile',\n",
    "    'Lima': 'Peru',\n",
    "    'Buenos Aires': 'Argentina',\n",
    "    'Sao Paulo': 'Brazil',\n",
    "    'Calama': 'Chile',\n",
    "    'Concepcion': 'Chile',\n",
    "    'Iquique': 'Chile',\n",
    "    'Puerto Montt': 'Chile',\n",
    "    'Bogota': 'Colombia',\n",
    "    'Temuco': 'Chile',\n",
    "    'La Serena': 'Chile',\n",
    "    'Madrid': 'Spain',\n",
    "    'Copiapo': 'Chile',\n",
    "    'Miami': 'United States',\n",
    "    'Punta Arenas': 'Chile',\n",
    "    'Panama City': 'Panama',\n",
    "    'Rio De Janeiro': 'Brazil',\n",
    "    'Arica': 'Chile',\n",
    "    'Auckland': 'New Zealand',\n",
    "    'New York': 'United States',\n",
    "    'Montevideo': 'Uruguay',\n",
    "    'Mendoza': 'Argentina',\n",
    "    'Atlanta': 'United States',\n",
    "    'Valdivia': 'Chile',\n",
    "    'Osorno': 'Chile',\n",
    "    'Paris': 'France',\n",
    "    'Cordoba': 'Argentina',\n",
    "    'Houston': 'United States',\n",
    "    'Los Angeles': 'United States',\n",
    "    'Balmaceda': 'Chile',\n",
    "    'Porto Alegre': 'Brazil',\n",
    "    'Castro': 'Chile',\n",
    "    'London': 'United Kingdom',\n",
    "    'Asuncion': 'Paraguay',\n",
    "    'Mexico City': 'Mexico',\n",
    "    'Guayaquil': 'Ecuador',\n",
    "    'Curitiba': 'Brazil',\n",
    "    'Easter Island': 'Chile',\n",
    "    'Florianopolis': 'Brazil',\n",
    "    'Sydney': 'Australia',\n",
    "    'Cali': 'Colombia',\n",
    "    'San Juan': 'Argentina',\n",
    "    'Toronto': 'Canada',\n",
    "    'Santa Cruz': 'Bolivia',\n",
    "    'Iguassu Falls': 'Brazil',\n",
    "    'Dallas': 'United States',\n",
    "    'Quito': 'Ecuador',\n",
    "    'Trujillo': 'Peru'\n",
    "}\n"
   ]
  },
  {
   "cell_type": "code",
   "execution_count": 9,
   "metadata": {},
   "outputs": [],
   "source": [
    "df_departures['Destination Country'] = df_departures['Destination City'].map(city_country)\n",
    "df_arrivals['Origin Country'] = df_arrivals['Origin City'].map(city_country)"
   ]
  },
  {
   "cell_type": "code",
   "execution_count": 10,
   "metadata": {},
   "outputs": [],
   "source": [
    "Airline_Parent_Company = {\n",
    "    'Copa Airlines': 'Copa Holdings',\n",
    "    'LATAM Airlines': 'LATAM Airlines Group',\n",
    "    'Delta Air Lines': 'Delta Air Lines Inc.',\n",
    "    'Qantas': 'Qantas Airways Limited',\n",
    "    'Cathay Pacific': 'Swire Pacific Limited',\n",
    "    'Malaysia Airlines': 'Malaysia Aviation Group',\n",
    "    'Avianca': 'Avianca Holdings S.A.',\n",
    "    'Air Canada': 'Air Canada',\n",
    "    'Atlas Air': 'Atlas Air Worldwide Holdings',\n",
    "    'Sky Airline': 'Sky Airline S.A.',\n",
    "    'JetSMART': 'Indigo Partners',\n",
    "    'British Airways': 'International Airlines Group',\n",
    "    'LATAM Cargo Chile': 'LATAM Airlines Group',\n",
    "    'DHL Aero Expreso': 'DHL Aviation (Panama) S.A.',\n",
    "    'Aerolineas Argentinas': 'Argentine government',\n",
    "    'Iberia': 'International Airlines Group',\n",
    "    'KLM Royal Dutch Airlines': 'Air France-KLM',\n",
    "    'El Al Israel Airlines': 'Kanaf Arkia Holdings Ltd',\n",
    "    'Qatar Airways': 'Qatar Airways Group',\n",
    "    'Turkish Airlines': 'Turkish Airlines',\n",
    "    'Air France': 'Air France-KLM',\n",
    "    'Aeromexico': 'Delta Air Lines Inc.',\n",
    "    'ITA Airways': 'Italian government',\n",
    "    'United Airlines': 'United Airlines Holdings',\n",
    "    'ANA All Nippon Airways': 'ANA Holdings Inc.',\n",
    "    'American Airlines': 'American Airlines Group',\n",
    "    'Air Europa': 'Globalia',\n",
    "    'Korean Air': 'Hanjin Group',\n",
    "    'JAL Japan Airlines': 'Japan Airlines Co. Ltd.',\n",
    "    'LATAM Cargo Brasil': 'LATAM Airlines Group',\n",
    "    'JetSMART Airlines Peru': 'Indigo Partners',\n",
    "    'Jetsmart Airlines': 'Indigo Partners',\n",
    "    'Ethiopian Airlines': 'Ethiopian government',\n",
    "    'Martinair': 'Air France-KLM'\n",
    "}\n"
   ]
  },
  {
   "cell_type": "code",
   "execution_count": 11,
   "metadata": {},
   "outputs": [],
   "source": [
    "df_departures['Parent Company'] = df_departures['Airline'].map(Airline_Parent_Company)\n",
    "df_arrivals['Parent Company'] = df_arrivals['Airline'].map(Airline_Parent_Company)"
   ]
  },
  {
   "cell_type": "code",
   "execution_count": 12,
   "metadata": {},
   "outputs": [],
   "source": [
    "df_departures['Date_Time'] = pd.to_datetime(df_departures.Date + \"-\" + df_departures.Departure, format='%Y-%m-%d-%H:%M')\n",
    "df_arrivals['Date_Time'] = pd.to_datetime(df_arrivals.Date + \"-\" + df_arrivals.Arrival, format='%Y-%m-%d-%H:%M')"
   ]
  },
  {
   "cell_type": "code",
   "execution_count": null,
   "metadata": {},
   "outputs": [],
   "source": [
    "# save csv\n",
    "# df_departures.to_csv('departures.csv', index=False)\n",
    "# df_arrivals.to_csv('arrivals.csv', index=False)"
   ]
  },
  {
   "cell_type": "code",
   "execution_count": null,
   "metadata": {},
   "outputs": [],
   "source": []
  },
  {
   "cell_type": "code",
   "execution_count": null,
   "metadata": {},
   "outputs": [],
   "source": []
  },
  {
   "cell_type": "code",
   "execution_count": null,
   "metadata": {},
   "outputs": [],
   "source": [
    "df_departures.Destination.value_counts().plot(kind='bar', title='Destination Counts', figsize=(15,5), fontsize=12, color='green')\n",
    "\n",
    "# %%"
   ]
  },
  {
   "cell_type": "code",
   "execution_count": null,
   "metadata": {},
   "outputs": [],
   "source": [
    "df_departures['Destination Country'].value_counts().plot(kind='bar', title='Destination Counts', figsize=(15,5), fontsize=12, color='purple')"
   ]
  },
  {
   "cell_type": "code",
   "execution_count": null,
   "metadata": {},
   "outputs": [],
   "source": [
    "df_arrivals['Origin Country'].value_counts().plot(kind='bar', title='Origin Counts', figsize=(15,5), fontsize=12, color='purple')"
   ]
  },
  {
   "cell_type": "code",
   "execution_count": null,
   "metadata": {},
   "outputs": [],
   "source": [
    "domestic_flights = df_departures['Destination Country'].value_counts()['Chile']\n",
    "international_flights = df_departures[df_departures['Destination Country'] != 'Chile']\n"
   ]
  },
  {
   "cell_type": "code",
   "execution_count": null,
   "metadata": {},
   "outputs": [],
   "source": [
    "import matplotlib.pyplot as plt\n",
    "df_departures[df_departures['Destination Country'] != 'Chile']['Airline'].value_counts().plot(kind='bar', title='Airline Counts (Non-Chile)')\n",
    "plt.show()\n",
    "\n",
    "# %%"
   ]
  },
  {
   "cell_type": "code",
   "execution_count": null,
   "metadata": {},
   "outputs": [],
   "source": [
    "# International (not chile)\n",
    "airline_leading_name = df_departures[df_departures['Destination Country'] != 'Chile']['Airline'].value_counts().nlargest(1).index[0]\n",
    "airline_leading_amount = df_departures[df_departures['Destination Country'] != 'Chile']['Airline'].value_counts().nlargest(1).values[0]\n",
    "airline_leading_percentage = round(airline_leading_amount / df_departures['Airline'].value_counts().sum() * 100)\n",
    "\n",
    "# Chile\n",
    "airline_leading_name_chile = df_departures[df_departures['Destination Country'] == 'Chile']['Airline'].value_counts().nlargest(1).index[0]\n",
    "airline_leading_amount_chile = df_departures[df_departures['Destination Country'] == 'Chile']['Airline'].value_counts().nlargest(1).values[0]\n",
    "airline_leading_percentage_chile = round(airline_leading_amount_chile / df_departures['Airline'].value_counts().sum() * 100)"
   ]
  },
  {
   "cell_type": "code",
   "execution_count": null,
   "metadata": {},
   "outputs": [],
   "source": [
    "round(airline_leading_amount / df_departures['Airline'].value_counts().sum() * 100)"
   ]
  },
  {
   "cell_type": "code",
   "execution_count": null,
   "metadata": {},
   "outputs": [],
   "source": [
    "airline_leading_percentage\n",
    "airline_leading_amount"
   ]
  },
  {
   "cell_type": "code",
   "execution_count": null,
   "metadata": {},
   "outputs": [],
   "source": [
    "# top 5 destinations\n",
    "\n",
    "df_departures.Destination.value_counts().plot(kind='bar', title='Destinations', figsize=(10,5), fontsize=12, rot=0, color='green', alpha=0.8)"
   ]
  },
  {
   "cell_type": "code",
   "execution_count": null,
   "metadata": {},
   "outputs": [],
   "source": [
    "df_departures.Destination.value_counts().nlargest(4).index.tolist()"
   ]
  },
  {
   "cell_type": "code",
   "execution_count": null,
   "metadata": {},
   "outputs": [],
   "source": [
    "import matplotlib.pyplot as plt\n",
    "\n",
    "# get the value counts for the destinations\n",
    "value_counts = df_departures.Destination.value_counts()\n",
    "\n",
    "# create a mask for the top 5 destinations\n",
    "mask = value_counts.rank(ascending=False, method='first') <= 5\n",
    "\n",
    "# plot the bar chart\n",
    "plt.figure(figsize=(10,5))\n",
    "plt.bar(x=value_counts.index, height=value_counts.values, color=['yellow' if m else 'green' for m in mask], alpha=0.8)\n",
    "plt.xticks(rotation=0, fontsize=12)\n",
    "plt.title('Destinations', fontsize=14)\n",
    "plt.show()\n"
   ]
  },
  {
   "cell_type": "code",
   "execution_count": null,
   "metadata": {},
   "outputs": [],
   "source": [
    "df_departures[['Flight', 'Departure', 'Reference Day']]"
   ]
  },
  {
   "cell_type": "code",
   "execution_count": null,
   "metadata": {},
   "outputs": [],
   "source": [
    "df_departures[[\n",
    "    'Destination', 'Destination Code', 'Departure', 'Flight', 'Airline',\n",
    "    'Terminal', 'Status', 'Date', 'Reference Day',\n",
    "    'Destination Country', 'Departure_Time']\n",
    "]"
   ]
  },
  {
   "cell_type": "code",
   "execution_count": null,
   "metadata": {},
   "outputs": [],
   "source": [
    "df_arrivals.describe()"
   ]
  },
  {
   "cell_type": "code",
   "execution_count": null,
   "metadata": {},
   "outputs": [],
   "source": [
    "df_departures['Departure_Time'] = pd.to_datetime(df_departures['Departure'], format='%H:%M')"
   ]
  },
  {
   "cell_type": "code",
   "execution_count": null,
   "metadata": {},
   "outputs": [],
   "source": [
    "# group flights by departure time and count the number of flights\n",
    "df_grouped = df_departures.groupby('Departure_Time').size().reset_index(name='Count')\n",
    "\n",
    "# create the line plot using matplotlib\n",
    "plt.plot(df_grouped['Departure_Time'], df_grouped['Count'], color='blue', linewidth=2)\n",
    "\n",
    "# set the x and y axis labels\n",
    "plt.xlabel('Departure Time')\n",
    "plt.ylabel('Number of Flights')\n",
    "\n",
    "# show the plot\n",
    "plt.show()"
   ]
  },
  {
   "cell_type": "code",
   "execution_count": null,
   "metadata": {},
   "outputs": [],
   "source": [
    "import matplotlib.pyplot as plt\n",
    "\n",
    "# create a dictionary to map the reference day to a color\n",
    "color_map = {'yesterday': 'blue', 'today': 'green', 'tomorrow': 'red'}\n",
    "\n",
    "# create a scatter plot of departure time vs. flight count, with different colors depending on the day\n",
    "fig, ax = plt.subplots()\n",
    "for day, group in df_departures.groupby('Reference Day'):\n",
    "    ax.scatter(group['Departure'], group.index, label=day, color=color_map[day], alpha=0.5)\n",
    "\n",
    "# set the x-axis label and tick labels\n",
    "ax.set_xlabel('Departure Time')\n",
    "ax.set_xticklabels(df['Departure'].unique(), rotation=90)\n",
    "\n",
    "# set the y-axis label and tick labels\n",
    "ax.set_ylabel('Flight Count')\n",
    "ax.set_yticks(df.index)\n",
    "ax.set_yticklabels(df['Flight'])\n",
    "\n",
    "# add a legend\n",
    "ax.legend()\n",
    "\n",
    "# show the plot\n",
    "plt.show()\n"
   ]
  },
  {
   "cell_type": "code",
   "execution_count": null,
   "metadata": {},
   "outputs": [],
   "source": [
    "df_departures[df_departures.Status == 'Landed - Delayed [+]'][['Airline','Status']]"
   ]
  },
  {
   "cell_type": "code",
   "execution_count": null,
   "metadata": {},
   "outputs": [],
   "source": [
    "import pandas as pd\n",
    "from scipy.stats import chi2_contingency\n",
    "\n",
    "# Create a contingency table of the frequencies\n",
    "contingency_table = pd.crosstab(df_departures['Airline'], df_departures['Status'])\n",
    "\n",
    "# Run the chi-squared test of independence\n",
    "chi2_statistic, p_value, dof, expected_freq = chi2_contingency(contingency_table)\n",
    "\n",
    "# Print the results\n",
    "print('Chi-squared statistic: {:.2f}'.format(chi2_statistic))\n",
    "print('Degrees of freedom: {}'.format(dof))\n",
    "print('P-value: {:.4f}'.format(p_value))\n"
   ]
  },
  {
   "cell_type": "code",
   "execution_count": null,
   "metadata": {},
   "outputs": [],
   "source": [
    "import numpy as np\n",
    "\n",
    "# Calculate Cramer's V coefficient\n",
    "def cramers_v(confusion_matrix):\n",
    "    chi2 = chi2_statistic\n",
    "    n = confusion_matrix.sum().sum()\n",
    "    phi2 = chi2/n\n",
    "    r, k = confusion_matrix.shape\n",
    "    phi2corr = max(0, phi2 - ((k-1)*(r-1))/(n-1))\n",
    "    rcorr = r - ((r-1)**2)/(n-1)\n",
    "    kcorr = k - ((k-1)**2)/(n-1)\n",
    "    return np.sqrt(phi2corr / min((kcorr-1), (rcorr-1)))\n",
    "\n",
    "cramers_v_coef = cramers_v(contingency_table.values)\n",
    "\n",
    "print('Cramer\\'s V coefficient: {:.2f}'.format(cramers_v_coef))\n"
   ]
  },
  {
   "cell_type": "code",
   "execution_count": null,
   "metadata": {},
   "outputs": [],
   "source": [
    "df_departures.Destination.value_counts()#[df_departures.Destination == 'Panama City']\n",
    "df_departures.Destination[df_departures.Destination == 'Rio De Janeiro']"
   ]
  },
  {
   "cell_type": "code",
   "execution_count": null,
   "metadata": {},
   "outputs": [],
   "source": [
    "df_departures[(df_departures['Destination'].isin(['Sao Paulo', 'Panama City']))]"
   ]
  },
  {
   "cell_type": "code",
   "execution_count": null,
   "metadata": {},
   "outputs": [],
   "source": [
    "df_departures"
   ]
  },
  {
   "cell_type": "code",
   "execution_count": null,
   "metadata": {},
   "outputs": [],
   "source": [
    "import pandas as pd\n",
    "import matplotlib.pyplot as plt\n",
    "import seaborn as sns\n",
    "from sklearn.linear_model import LinearRegression\n",
    "\n",
    "# Create a scatter plot of the data\n",
    "sns.scatterplot(data=df_departures, x='Destination Country', y='Departure_Time')\n",
    "\n",
    "# Fit a linear regression model to the data\n",
    "model = LinearRegression()\n",
    "X = df_departures[['Destination Country']]\n",
    "y = df_departures['Departure_Time']\n",
    "model.fit(X, y)\n",
    "\n",
    "# Get the coefficients and intercept of the linear regression line\n",
    "slope = model.coef_[0]\n",
    "intercept = model.intercept_\n",
    "\n",
    "# Plot the linear regression line\n",
    "x_values = df_departures['Destination Country'].unique()\n",
    "y_values = intercept + slope * x_values\n",
    "plt.plot(x_values, y_values, color='red')\n",
    "\n",
    "# Add labels and title to the plot\n",
    "plt.xlabel('Destination Country')\n",
    "plt.ylabel('Departure Time')\n",
    "plt.title('Linear Regression of Destination vs. Departure Time')\n",
    "\n",
    "# Show the plot\n",
    "plt.show()\n"
   ]
  },
  {
   "cell_type": "code",
   "execution_count": null,
   "metadata": {},
   "outputs": [],
   "source": [
    "df_departures.describe()"
   ]
  },
  {
   "attachments": {},
   "cell_type": "markdown",
   "metadata": {},
   "source": [
    "## Descriptive statistics"
   ]
  },
  {
   "cell_type": "code",
   "execution_count": null,
   "metadata": {},
   "outputs": [],
   "source": [
    "airlines_amount =  df_departures.Airline.nunique()\n",
    "\n",
    "df_departures.Airline.nunique()"
   ]
  },
  {
   "cell_type": "code",
   "execution_count": null,
   "metadata": {},
   "outputs": [],
   "source": [
    "600 / 36"
   ]
  },
  {
   "cell_type": "code",
   "execution_count": null,
   "metadata": {},
   "outputs": [],
   "source": [
    "round(6 / airlines_amount * 100)"
   ]
  },
  {
   "cell_type": "code",
   "execution_count": null,
   "metadata": {},
   "outputs": [],
   "source": [
    "top_6_airlines_list = df_departures.Airline.value_counts().head(6).index.tolist()\n",
    "top_6_airlines_flight_amount = df_departures[df_departures['Airline'].isin(top_6_airlines_list)].Flight.nunique()\n",
    "top_6_airlines_flight_amount"
   ]
  },
  {
   "cell_type": "code",
   "execution_count": null,
   "metadata": {},
   "outputs": [],
   "source": [
    "sum_flight_amount_top6_airlines = "
   ]
  },
  {
   "cell_type": "code",
   "execution_count": null,
   "metadata": {},
   "outputs": [],
   "source": [
    "top_6_airlines_amount = 6\n",
    "top_6_airlines_list = df_departures.Airline.value_counts().index[:top_6_airlines_amount].tolist()\n",
    "sum_flight_amount_top6_airlines = df_departures[df_departures['Airline'].isin(top_6_airlines_list)].Flight.nunique()\n",
    "sum_flight_amount_top6_airlines"
   ]
  },
  {
   "cell_type": "code",
   "execution_count": null,
   "metadata": {},
   "outputs": [],
   "source": [
    "df_departures.Airline.value_counts().index[:top_airlines_amount].tolist()"
   ]
  },
  {
   "cell_type": "code",
   "execution_count": null,
   "metadata": {},
   "outputs": [],
   "source": [
    "df_departures.groupby('Airline')['Flight'].count().sum()"
   ]
  },
  {
   "cell_type": "code",
   "execution_count": null,
   "metadata": {},
   "outputs": [],
   "source": [
    "df_departures.groupby('Airline')['Flight'].count().nlargest(2).sum()"
   ]
  },
  {
   "cell_type": "code",
   "execution_count": null,
   "metadata": {},
   "outputs": [],
   "source": [
    "412 / 774 * 100"
   ]
  },
  {
   "cell_type": "code",
   "execution_count": null,
   "metadata": {},
   "outputs": [],
   "source": [
    "\n",
    "# Create a sample dataframe\n",
    "data = {'Airlines': ['Delta', 'American Airlines', 'United Airlines', 'Delta', 'Southwest', 'American Airlines', 'Delta'],\n",
    "        'Flights': ['DL101', 'AA205', 'UA302', 'DL303', 'SW205', 'AA303', 'DL401']}\n",
    "df = pd.DataFrame(data)\n",
    "\n",
    "# Get the top 2 most frequent airlines\n",
    "top_airlines = df['Airlines'].value_counts().nlargest(2).index.tolist()\n",
    "\n",
    "# Filter the dataframe for only the top 2 airlines\n",
    "df_top_airlines = df[df['Airlines'].isin(top_airlines)]\n",
    "\n",
    "# Create a bar chart using Altair\n",
    "chart = alt.Chart(df_top_airlines).mark_bar().encode(\n",
    "    y=alt.Y('Airlines:N', sort='-x'),\n",
    "    x=alt.X('count(Flights):Q', title='Number of Flights')\n",
    ")\n",
    "\n",
    "# Set the chart options\n",
    "chart = chart.properties(\n",
    "    width=700,\n",
    "    height=400\n",
    ")\n",
    "\n",
    "# Render the chart using Streamlit\n",
    "# st.altair_chart(chart, use_container_width=True)\n",
    "\n",
    "chart.show()\n"
   ]
  },
  {
   "cell_type": "code",
   "execution_count": null,
   "metadata": {},
   "outputs": [],
   "source": []
  },
  {
   "attachments": {},
   "cell_type": "markdown",
   "metadata": {},
   "source": [
    "# DATA DISCOVERING INSIGHTS"
   ]
  },
  {
   "cell_type": "code",
   "execution_count": null,
   "metadata": {},
   "outputs": [],
   "source": [
    "df_departures"
   ]
  },
  {
   "attachments": {},
   "cell_type": "markdown",
   "metadata": {},
   "source": [
    "# Simple Plot 1: FLIGHTS PER HOUR\n",
    "\n",
    "x-axis: only the hours\n",
    "y-axis: number of flughts"
   ]
  },
  {
   "cell_type": "code",
   "execution_count": null,
   "metadata": {},
   "outputs": [],
   "source": [
    "import matplotlib.pyplot as plt\n",
    "import numpy as np\n",
    "\n",
    "# create a new column with the hour of the date/time\n",
    "df_departures['Hour'] = df_departures['Date_Time'].dt.hour\n",
    "\n",
    "# group by hour and count the number of flights\n",
    "hourly_flights = df_departures.groupby('Hour').count()['Flight']\n",
    "\n",
    "# create the bar chart\n",
    "plt.bar(hourly_flights.index, hourly_flights.values)\n",
    "\n",
    "# set the x-axis ticks to show only the hour\n",
    "plt.xticks(hourly_flights.index)\n",
    "\n",
    "# set the x and y axis labels\n",
    "plt.xlabel('Hour of the Day')\n",
    "plt.ylabel('Number of flights')\n",
    "\n",
    "# show the plot\n",
    "plt.show()\n"
   ]
  },
  {
   "cell_type": "code",
   "execution_count": null,
   "metadata": {},
   "outputs": [],
   "source": [
    "df_departures['Hour'] = df_departures['Date_Time'].dt.hour\n",
    "\n",
    "df_departures['Hour'].describe()"
   ]
  },
  {
   "cell_type": "code",
   "execution_count": null,
   "metadata": {},
   "outputs": [],
   "source": [
    "df_departures['Hour'].mode()[0]"
   ]
  },
  {
   "cell_type": "code",
   "execution_count": null,
   "metadata": {},
   "outputs": [],
   "source": [
    "df_departures['Hour'].median()"
   ]
  },
  {
   "cell_type": "code",
   "execution_count": null,
   "metadata": {},
   "outputs": [],
   "source": [
    "df_departures['Hour'].mean()"
   ]
  },
  {
   "cell_type": "code",
   "execution_count": null,
   "metadata": {},
   "outputs": [],
   "source": [
    "df_departures['Hour'].skew()"
   ]
  },
  {
   "cell_type": "code",
   "execution_count": null,
   "metadata": {},
   "outputs": [],
   "source": [
    "df_departures['Hour'].kurtosis()"
   ]
  },
  {
   "cell_type": "code",
   "execution_count": null,
   "metadata": {},
   "outputs": [],
   "source": [
    "import matplotlib.pyplot as plt\n",
    "import numpy as np\n",
    "\n",
    "# create a new column with the hour of the date/time\n",
    "df_departures['Hour'] = df_departures['Date_Time'].dt.hour\n",
    "\n",
    "# create a new column with the 6-hour interval\n",
    "df_departures['Interval'] = pd.cut(df_departures['Hour'], bins=range(0, 25, 6), right=False, labels=['0-6', '6-12', '12-18', '18-24'])\n",
    "\n",
    "# group by 6-hour interval and count the number of flights\n",
    "interval_flights = df_departures.groupby('Interval').count()['Flight']\n",
    "\n",
    "# create the bar chart\n",
    "plt.bar(interval_flights.index, interval_flights.values)\n",
    "\n",
    "# set the x-axis ticks to show the intervals\n",
    "plt.xticks(interval_flights.index)\n",
    "\n",
    "# set the x and y axis labels\n",
    "plt.xlabel('Time Interval (hours)')\n",
    "plt.ylabel('Number of flights')\n",
    "\n",
    "# show the plot\n",
    "plt.show()"
   ]
  },
  {
   "cell_type": "code",
   "execution_count": null,
   "metadata": {},
   "outputs": [],
   "source": [
    "import matplotlib.pyplot as plt\n",
    "import numpy as np\n",
    "\n",
    "# create a new column with the hour of the date/time\n",
    "df_departures['Hour'] = df_departures['Date_Time'].dt.hour\n",
    "\n",
    "# create a new column with the 12-hour interval\n",
    "df_departures['Interval'] = pd.cut(df_departures['Hour'], bins=range(0, 25, 12), right=False, labels=['0-12', '12-24'])\n",
    "\n",
    "# group by 12-hour interval and count the number of flights\n",
    "interval_flights = df_departures.groupby('Interval').count()['Flight']\n",
    "\n",
    "# create the bar chart\n",
    "plt.bar(interval_flights.index, interval_flights.values)\n",
    "\n",
    "# set the x-axis ticks to show the intervals\n",
    "plt.xticks(interval_flights.index)\n",
    "\n",
    "# set the x and y axis labels\n",
    "plt.xlabel('Time Interval (hours)')\n",
    "plt.ylabel('Number of flights')\n",
    "\n",
    "# show the plot\n",
    "plt.show()\n"
   ]
  },
  {
   "cell_type": "code",
   "execution_count": null,
   "metadata": {},
   "outputs": [],
   "source": [
    "import matplotlib.pyplot as plt\n",
    "import numpy as np\n",
    "\n",
    "# create a new column with the hour of the date/time\n",
    "df_arrivals['Hour'] = df_arrivals['Date_Time'].dt.hour\n",
    "\n",
    "# create a new column with the 12-hour interval\n",
    "df_arrivals['Interval'] = pd.cut(df_arrivals['Hour'], bins=range(0, 25, 12), right=False, labels=['0-12', '12-24'])\n",
    "\n",
    "# group by 12-hour interval and count the number of flights\n",
    "interval_flights = df_arrivals.groupby('Interval').count()['Flight']\n",
    "\n",
    "# create the bar chart\n",
    "plt.bar(interval_flights.index, interval_flights.values)\n",
    "\n",
    "# set the x-axis ticks to show the intervals\n",
    "plt.xticks(interval_flights.index)\n",
    "\n",
    "# set the x and y axis labels\n",
    "plt.xlabel('Time Interval (hours)')\n",
    "plt.ylabel('Number of flights')\n",
    "\n",
    "# show the plot\n",
    "plt.show()\n"
   ]
  },
  {
   "attachments": {},
   "cell_type": "markdown",
   "metadata": {},
   "source": [
    "# SIMPLE PLOT: FLIGHTS PER AIRLINES"
   ]
  },
  {
   "cell_type": "code",
   "execution_count": null,
   "metadata": {},
   "outputs": [],
   "source": [
    "df_departures[['Flight','Destination Country','Destination']]\n"
   ]
  },
  {
   "cell_type": "code",
   "execution_count": null,
   "metadata": {},
   "outputs": [],
   "source": [
    "import seaborn as sns\n",
    "import matplotlib.pyplot as plt\n",
    "\n",
    "# Count the number of flights per destination\n",
    "dest_counts = df_departures['Destination Country'].value_counts()\n",
    "\n",
    "# Create a bar plot using Seaborn\n",
    "sns.barplot(x=dest_counts.values, y=dest_counts.index)\n",
    "\n",
    "# Set the plot title and axis labels\n",
    "plt.title('Number of Flights per Destination')\n",
    "plt.xlabel('Number of Flights')\n",
    "plt.ylabel('Destination')\n",
    "\n",
    "# Show the plot\n",
    "plt.show()\n"
   ]
  },
  {
   "cell_type": "code",
   "execution_count": null,
   "metadata": {},
   "outputs": [],
   "source": [
    "import seaborn as sns\n",
    "import matplotlib.pyplot as plt\n",
    "\n",
    "# Count the number of flights per destination\n",
    "dest_counts = df_departures['Destination'].value_counts()\n",
    "\n",
    "# Create a bar plot using Seaborn\n",
    "sns.barplot(x=dest_counts.values, y=dest_counts.index)\n",
    "\n",
    "# Set the plot title and axis labels\n",
    "plt.title('Number of Flights per Destination')\n",
    "plt.xlabel('Number of Flights')\n",
    "plt.ylabel('Destination')\n",
    "\n",
    "# Show the plot\n",
    "plt.show()\n"
   ]
  },
  {
   "cell_type": "code",
   "execution_count": null,
   "metadata": {},
   "outputs": [],
   "source": [
    "[f\"{hour % 12 or 12}:00 {'am' if hour < 12 else 'pm'}\" for hour in range(24)]\n"
   ]
  },
  {
   "cell_type": "code",
   "execution_count": null,
   "metadata": {},
   "outputs": [],
   "source": [
    "df_departures.describe()"
   ]
  },
  {
   "cell_type": "code",
   "execution_count": null,
   "metadata": {},
   "outputs": [],
   "source": [
    "df_departures[['Destination City','Date_Time']]"
   ]
  },
  {
   "cell_type": "code",
   "execution_count": null,
   "metadata": {},
   "outputs": [],
   "source": [
    "df_departures.groupby('Hour').agg({'Destination Country': 'count'}).reset_index()"
   ]
  },
  {
   "cell_type": "code",
   "execution_count": null,
   "metadata": {},
   "outputs": [],
   "source": [
    "df_ = df_departures.groupby('Hour').agg({'Destination Country': 'count'}).reset_index()\n",
    "sns.lmplot(x='Hour', y='Destination Country', data=df_, height=7)"
   ]
  },
  {
   "cell_type": "code",
   "execution_count": null,
   "metadata": {},
   "outputs": [],
   "source": [
    "df_ = df_departures.groupby('Hour').agg({'Destination City': 'count'}).reset_index()\n",
    "sns.lmplot(x='Hour', y='Destination City', data=df_, height=7)"
   ]
  },
  {
   "cell_type": "code",
   "execution_count": null,
   "metadata": {},
   "outputs": [],
   "source": [
    "chart = alt.Chart(hourly_flights).mark_bar().encode(\n",
    "    x=alt.X('Hour:N'),\n",
    "    y=alt.Y('Count:Q')\n",
    "st.altair_chart(chart, use_container_width=True)"
   ]
  },
  {
   "cell_type": "code",
   "execution_count": 13,
   "metadata": {},
   "outputs": [
    {
     "data": {
      "text/html": [
       "<div>\n",
       "<style scoped>\n",
       "    .dataframe tbody tr th:only-of-type {\n",
       "        vertical-align: middle;\n",
       "    }\n",
       "\n",
       "    .dataframe tbody tr th {\n",
       "        vertical-align: top;\n",
       "    }\n",
       "\n",
       "    .dataframe thead th {\n",
       "        text-align: right;\n",
       "    }\n",
       "</style>\n",
       "<table border=\"1\" class=\"dataframe\">\n",
       "  <thead>\n",
       "    <tr style=\"text-align: right;\">\n",
       "      <th></th>\n",
       "      <th>Origin City</th>\n",
       "      <th>Origin Code</th>\n",
       "      <th>Arrival</th>\n",
       "      <th>Flight</th>\n",
       "      <th>Airline</th>\n",
       "      <th>Terminal</th>\n",
       "      <th>Status</th>\n",
       "      <th>Date</th>\n",
       "      <th>Reference Day</th>\n",
       "      <th>url</th>\n",
       "      <th>Date_Time</th>\n",
       "      <th>Origin Country</th>\n",
       "      <th>Parent Company</th>\n",
       "    </tr>\n",
       "  </thead>\n",
       "  <tbody>\n",
       "    <tr>\n",
       "      <th>0</th>\n",
       "      <td>Antofagasta</td>\n",
       "      <td>(ANF)</td>\n",
       "      <td>00:01</td>\n",
       "      <td>LA343</td>\n",
       "      <td>LATAM Airlines</td>\n",
       "      <td>1</td>\n",
       "      <td>En Route [+]</td>\n",
       "      <td>2023-05-02</td>\n",
       "      <td>yesterday</td>\n",
       "      <td>https://www.santiago-airport.com/scl-arrivals?...</td>\n",
       "      <td>2023-05-02 00:01:00</td>\n",
       "      <td>Chile</td>\n",
       "      <td>LATAM Airlines Group</td>\n",
       "    </tr>\n",
       "    <tr>\n",
       "      <th>1</th>\n",
       "      <td>Calama</td>\n",
       "      <td>(CJC)</td>\n",
       "      <td>00:04</td>\n",
       "      <td>H2245</td>\n",
       "      <td>Sky Airline</td>\n",
       "      <td>1</td>\n",
       "      <td>Landed - On-time [+]</td>\n",
       "      <td>2023-05-02</td>\n",
       "      <td>yesterday</td>\n",
       "      <td>https://www.santiago-airport.com/scl-arrivals?...</td>\n",
       "      <td>2023-05-02 00:04:00</td>\n",
       "      <td>Chile</td>\n",
       "      <td>Sky Airline S.A.</td>\n",
       "    </tr>\n",
       "    <tr>\n",
       "      <th>2</th>\n",
       "      <td>Puerto Montt</td>\n",
       "      <td>(PMC)</td>\n",
       "      <td>00:13</td>\n",
       "      <td>JA156</td>\n",
       "      <td>JetSMART</td>\n",
       "      <td>1</td>\n",
       "      <td>Landed - Delayed [+]</td>\n",
       "      <td>2023-05-02</td>\n",
       "      <td>yesterday</td>\n",
       "      <td>https://www.santiago-airport.com/scl-arrivals?...</td>\n",
       "      <td>2023-05-02 00:13:00</td>\n",
       "      <td>Chile</td>\n",
       "      <td>Indigo Partners</td>\n",
       "    </tr>\n",
       "    <tr>\n",
       "      <th>3</th>\n",
       "      <td>Sao Paulo</td>\n",
       "      <td>(GRU)</td>\n",
       "      <td>00:25</td>\n",
       "      <td>LA751</td>\n",
       "      <td>LATAM Airlines</td>\n",
       "      <td>2</td>\n",
       "      <td>Landed - On-time [+]</td>\n",
       "      <td>2023-05-02</td>\n",
       "      <td>yesterday</td>\n",
       "      <td>https://www.santiago-airport.com/scl-arrivals?...</td>\n",
       "      <td>2023-05-02 00:25:00</td>\n",
       "      <td>Brazil</td>\n",
       "      <td>LATAM Airlines Group</td>\n",
       "    </tr>\n",
       "    <tr>\n",
       "      <th>4</th>\n",
       "      <td>Sao Paulo</td>\n",
       "      <td>(GRU)</td>\n",
       "      <td>00:25</td>\n",
       "      <td>QF3896</td>\n",
       "      <td>Qantas</td>\n",
       "      <td>2</td>\n",
       "      <td>Landed - On-time [+]</td>\n",
       "      <td>2023-05-02</td>\n",
       "      <td>yesterday</td>\n",
       "      <td>https://www.santiago-airport.com/scl-arrivals?...</td>\n",
       "      <td>2023-05-02 00:25:00</td>\n",
       "      <td>Brazil</td>\n",
       "      <td>Qantas Airways Limited</td>\n",
       "    </tr>\n",
       "    <tr>\n",
       "      <th>...</th>\n",
       "      <td>...</td>\n",
       "      <td>...</td>\n",
       "      <td>...</td>\n",
       "      <td>...</td>\n",
       "      <td>...</td>\n",
       "      <td>...</td>\n",
       "      <td>...</td>\n",
       "      <td>...</td>\n",
       "      <td>...</td>\n",
       "      <td>...</td>\n",
       "      <td>...</td>\n",
       "      <td>...</td>\n",
       "      <td>...</td>\n",
       "    </tr>\n",
       "    <tr>\n",
       "      <th>786</th>\n",
       "      <td>Iquique</td>\n",
       "      <td>(IQQ)</td>\n",
       "      <td>23:40</td>\n",
       "      <td>LA901</td>\n",
       "      <td>LATAM Airlines</td>\n",
       "      <td>1</td>\n",
       "      <td>Scheduled [+]</td>\n",
       "      <td>2023-05-04</td>\n",
       "      <td>tomorrow</td>\n",
       "      <td>https://www.santiago-airport.com/scl-arrivals?...</td>\n",
       "      <td>2023-05-04 23:40:00</td>\n",
       "      <td>Chile</td>\n",
       "      <td>LATAM Airlines Group</td>\n",
       "    </tr>\n",
       "    <tr>\n",
       "      <th>787</th>\n",
       "      <td>Iquique</td>\n",
       "      <td>(IQQ)</td>\n",
       "      <td>23:40</td>\n",
       "      <td>IB7252</td>\n",
       "      <td>Iberia</td>\n",
       "      <td>1</td>\n",
       "      <td>Scheduled [+]</td>\n",
       "      <td>2023-05-04</td>\n",
       "      <td>tomorrow</td>\n",
       "      <td>https://www.santiago-airport.com/scl-arrivals?...</td>\n",
       "      <td>2023-05-04 23:40:00</td>\n",
       "      <td>Chile</td>\n",
       "      <td>International Airlines Group</td>\n",
       "    </tr>\n",
       "    <tr>\n",
       "      <th>788</th>\n",
       "      <td>Arica</td>\n",
       "      <td>(ARI)</td>\n",
       "      <td>23:50</td>\n",
       "      <td>H2305</td>\n",
       "      <td>Sky Airline</td>\n",
       "      <td>1</td>\n",
       "      <td>Scheduled [+]</td>\n",
       "      <td>2023-05-04</td>\n",
       "      <td>tomorrow</td>\n",
       "      <td>https://www.santiago-airport.com/scl-arrivals?...</td>\n",
       "      <td>2023-05-04 23:50:00</td>\n",
       "      <td>Chile</td>\n",
       "      <td>Sky Airline S.A.</td>\n",
       "    </tr>\n",
       "    <tr>\n",
       "      <th>789</th>\n",
       "      <td>Calama</td>\n",
       "      <td>(CJC)</td>\n",
       "      <td>23:50</td>\n",
       "      <td>LA153</td>\n",
       "      <td>LATAM Airlines</td>\n",
       "      <td>1</td>\n",
       "      <td>Scheduled [+]</td>\n",
       "      <td>2023-05-04</td>\n",
       "      <td>tomorrow</td>\n",
       "      <td>https://www.santiago-airport.com/scl-arrivals?...</td>\n",
       "      <td>2023-05-04 23:50:00</td>\n",
       "      <td>Chile</td>\n",
       "      <td>LATAM Airlines Group</td>\n",
       "    </tr>\n",
       "    <tr>\n",
       "      <th>790</th>\n",
       "      <td>Campinas</td>\n",
       "      <td>(VCP)</td>\n",
       "      <td>23:50</td>\n",
       "      <td>KE274</td>\n",
       "      <td>Korean Air</td>\n",
       "      <td>2</td>\n",
       "      <td>Scheduled [+]</td>\n",
       "      <td>2023-05-04</td>\n",
       "      <td>tomorrow</td>\n",
       "      <td>https://www.santiago-airport.com/scl-arrivals?...</td>\n",
       "      <td>2023-05-04 23:50:00</td>\n",
       "      <td>NaN</td>\n",
       "      <td>Hanjin Group</td>\n",
       "    </tr>\n",
       "  </tbody>\n",
       "</table>\n",
       "<p>791 rows × 13 columns</p>\n",
       "</div>"
      ],
      "text/plain": [
       "      Origin City Origin Code Arrival  Flight         Airline Terminal  \\\n",
       "0     Antofagasta       (ANF)   00:01   LA343  LATAM Airlines        1   \n",
       "1          Calama       (CJC)   00:04   H2245     Sky Airline        1   \n",
       "2    Puerto Montt       (PMC)   00:13   JA156        JetSMART        1   \n",
       "3       Sao Paulo       (GRU)   00:25   LA751  LATAM Airlines        2   \n",
       "4       Sao Paulo       (GRU)   00:25  QF3896          Qantas        2   \n",
       "..            ...         ...     ...     ...             ...      ...   \n",
       "786       Iquique       (IQQ)   23:40   LA901  LATAM Airlines        1   \n",
       "787       Iquique       (IQQ)   23:40  IB7252          Iberia        1   \n",
       "788         Arica       (ARI)   23:50   H2305     Sky Airline        1   \n",
       "789        Calama       (CJC)   23:50   LA153  LATAM Airlines        1   \n",
       "790      Campinas       (VCP)   23:50   KE274      Korean Air        2   \n",
       "\n",
       "                   Status        Date Reference Day  \\\n",
       "0            En Route [+]  2023-05-02     yesterday   \n",
       "1    Landed - On-time [+]  2023-05-02     yesterday   \n",
       "2    Landed - Delayed [+]  2023-05-02     yesterday   \n",
       "3    Landed - On-time [+]  2023-05-02     yesterday   \n",
       "4    Landed - On-time [+]  2023-05-02     yesterday   \n",
       "..                    ...         ...           ...   \n",
       "786         Scheduled [+]  2023-05-04      tomorrow   \n",
       "787         Scheduled [+]  2023-05-04      tomorrow   \n",
       "788         Scheduled [+]  2023-05-04      tomorrow   \n",
       "789         Scheduled [+]  2023-05-04      tomorrow   \n",
       "790         Scheduled [+]  2023-05-04      tomorrow   \n",
       "\n",
       "                                                   url           Date_Time  \\\n",
       "0    https://www.santiago-airport.com/scl-arrivals?... 2023-05-02 00:01:00   \n",
       "1    https://www.santiago-airport.com/scl-arrivals?... 2023-05-02 00:04:00   \n",
       "2    https://www.santiago-airport.com/scl-arrivals?... 2023-05-02 00:13:00   \n",
       "3    https://www.santiago-airport.com/scl-arrivals?... 2023-05-02 00:25:00   \n",
       "4    https://www.santiago-airport.com/scl-arrivals?... 2023-05-02 00:25:00   \n",
       "..                                                 ...                 ...   \n",
       "786  https://www.santiago-airport.com/scl-arrivals?... 2023-05-04 23:40:00   \n",
       "787  https://www.santiago-airport.com/scl-arrivals?... 2023-05-04 23:40:00   \n",
       "788  https://www.santiago-airport.com/scl-arrivals?... 2023-05-04 23:50:00   \n",
       "789  https://www.santiago-airport.com/scl-arrivals?... 2023-05-04 23:50:00   \n",
       "790  https://www.santiago-airport.com/scl-arrivals?... 2023-05-04 23:50:00   \n",
       "\n",
       "    Origin Country                Parent Company  \n",
       "0            Chile          LATAM Airlines Group  \n",
       "1            Chile              Sky Airline S.A.  \n",
       "2            Chile               Indigo Partners  \n",
       "3           Brazil          LATAM Airlines Group  \n",
       "4           Brazil        Qantas Airways Limited  \n",
       "..             ...                           ...  \n",
       "786          Chile          LATAM Airlines Group  \n",
       "787          Chile  International Airlines Group  \n",
       "788          Chile              Sky Airline S.A.  \n",
       "789          Chile          LATAM Airlines Group  \n",
       "790            NaN                  Hanjin Group  \n",
       "\n",
       "[791 rows x 13 columns]"
      ]
     },
     "execution_count": 13,
     "metadata": {},
     "output_type": "execute_result"
    }
   ],
   "source": [
    "df_arrivals"
   ]
  },
  {
   "cell_type": "code",
   "execution_count": 15,
   "metadata": {},
   "outputs": [
    {
     "name": "stdout",
     "output_type": "stream",
     "text": [
      "<class 'pandas.core.frame.DataFrame'>\n",
      "RangeIndex: 791 entries, 0 to 790\n",
      "Data columns (total 13 columns):\n",
      " #   Column          Non-Null Count  Dtype         \n",
      "---  ------          --------------  -----         \n",
      " 0   Origin City     791 non-null    object        \n",
      " 1   Origin Code     791 non-null    object        \n",
      " 2   Arrival         791 non-null    object        \n",
      " 3   Flight          791 non-null    object        \n",
      " 4   Airline         791 non-null    object        \n",
      " 5   Terminal        791 non-null    object        \n",
      " 6   Status          791 non-null    object        \n",
      " 7   Date            791 non-null    object        \n",
      " 8   Reference Day   791 non-null    object        \n",
      " 9   url             791 non-null    object        \n",
      " 10  Date_Time       791 non-null    datetime64[ns]\n",
      " 11  Origin Country  787 non-null    object        \n",
      " 12  Parent Company  788 non-null    object        \n",
      "dtypes: datetime64[ns](1), object(12)\n",
      "memory usage: 80.5+ KB\n"
     ]
    }
   ],
   "source": [
    "df_arrivals.info()"
   ]
  },
  {
   "cell_type": "code",
   "execution_count": null,
   "metadata": {},
   "outputs": [],
   "source": []
  }
 ],
 "metadata": {
  "kernelspec": {
   "display_name": "Python 3",
   "language": "python",
   "name": "python3"
  },
  "language_info": {
   "codemirror_mode": {
    "name": "ipython",
    "version": 3
   },
   "file_extension": ".py",
   "mimetype": "text/x-python",
   "name": "python",
   "nbconvert_exporter": "python",
   "pygments_lexer": "ipython3",
   "version": "3.9.0"
  },
  "orig_nbformat": 4
 },
 "nbformat": 4,
 "nbformat_minor": 2
}
