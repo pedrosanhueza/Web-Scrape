{
 "cells": [
  {
   "cell_type": "markdown",
   "metadata": {},
   "source": [
    "# Web Scrape & EDA\n",
    "\n",
    "##### Part 1: Web Scrape and build table\n",
    "##### Part 2: Explanatory Data Analysis\n",
    "##### Website: www.house.gov\n",
    "##### Author: Pedro Sanhueza"
   ]
  },
  {
   "cell_type": "code",
   "execution_count": 4,
   "metadata": {},
   "outputs": [],
   "source": [
    "# Web Scrape\n",
    "import requests\n",
    "from bs4 import BeautifulSoup\n",
    "import pandas as pd\n",
    "from datetime import datetime\n",
    "# Explanatory Data Analysis\n",
    "import numpy as np\n",
    "import re\n",
    "import plotly.express as px\n",
    "import plotly.graph_objects as go\n",
    "import plotly.io as pio\n",
    "pio.renderers.default='notebook'\n",
    "import matplotlib.pyplot as plt\n",
    "import plotly.graph_objects as go"
   ]
  },
  {
   "cell_type": "markdown",
   "metadata": {},
   "source": [
    "# PART 1: Web Scrape\n",
    "### URL: https://www.house.gov/representatives\n",
    "### Extracted representative directory from url into a dataFrame\n"
   ]
  },
  {
   "cell_type": "code",
   "execution_count": 5,
   "metadata": {},
   "outputs": [],
   "source": [
    "response = requests.get(\"https://www.house.gov/representatives\")\n",
    "soup = BeautifulSoup(response.text, 'html.parser')"
   ]
  },
  {
   "cell_type": "code",
   "execution_count": 10,
   "metadata": {},
   "outputs": [],
   "source": [
    "tables = soup.select('table')"
   ]
  },
  {
   "cell_type": "code",
   "execution_count": 17,
   "metadata": {},
   "outputs": [
    {
     "data": {
      "text/plain": [
       "['Armed Services|Natural Resources',\n",
       " \"Agriculture|Veterans' Affairs\",\n",
       " 'Armed Services',\n",
       " 'Appropriations',\n",
       " 'Armed Services|Science, Space, and Technology',\n",
       " 'Climate Crisis|Energy and Commerce',\n",
       " 'Ways and Means']"
      ]
     },
     "execution_count": 17,
     "metadata": {},
     "output_type": "execute_result"
    }
   ],
   "source": [
    "[x.text.strip() for x in tables[0].select('td')][5::6]"
   ]
  },
  {
   "cell_type": "code",
   "execution_count": 18,
   "metadata": {},
   "outputs": [],
   "source": [
    "rows = []\n",
    "for table in tables[:56]:\n",
    "    row = {}\n",
    "    row['District']             = [x.text.strip() for x in table.select('td')][0::6]\n",
    "    row['Name']                 = [x.text.strip() for x in table.select('td')][1::6]\n",
    "    row['Party']                = [x.text.strip() for x in table.select('td')][2::6]\n",
    "    row['Office Room']          = [x.text.strip() for x in table.select('td')][3::6]\n",
    "    row['Phone']                = [x.text.strip() for x in table.select('td')][4::6]\n",
    "    row['Committee Assignment'] = [x.text.strip() for x in table.select('td')][5::6]\n",
    "    row['State']                = table.select_one('caption').text.strip()\n",
    "    rows.append(pd.DataFrame(row))"
   ]
  },
  {
   "cell_type": "code",
   "execution_count": 19,
   "metadata": {},
   "outputs": [
    {
     "data": {
      "text/html": [
       "<div>\n",
       "<style scoped>\n",
       "    .dataframe tbody tr th:only-of-type {\n",
       "        vertical-align: middle;\n",
       "    }\n",
       "\n",
       "    .dataframe tbody tr th {\n",
       "        vertical-align: top;\n",
       "    }\n",
       "\n",
       "    .dataframe thead th {\n",
       "        text-align: right;\n",
       "    }\n",
       "</style>\n",
       "<table border=\"1\" class=\"dataframe\">\n",
       "  <thead>\n",
       "    <tr style=\"text-align: right;\">\n",
       "      <th></th>\n",
       "      <th>District</th>\n",
       "      <th>Name</th>\n",
       "      <th>Party</th>\n",
       "      <th>Office Room</th>\n",
       "      <th>Phone</th>\n",
       "      <th>Committee Assignment</th>\n",
       "      <th>State</th>\n",
       "    </tr>\n",
       "  </thead>\n",
       "  <tbody>\n",
       "    <tr>\n",
       "      <th>0</th>\n",
       "      <td>1st</td>\n",
       "      <td>Carl, Jerry L.</td>\n",
       "      <td>R</td>\n",
       "      <td>1330 LHOB</td>\n",
       "      <td>(202) 225-4931</td>\n",
       "      <td>Armed Services|Natural Resources</td>\n",
       "      <td>Alabama</td>\n",
       "    </tr>\n",
       "    <tr>\n",
       "      <th>1</th>\n",
       "      <td>2nd</td>\n",
       "      <td>Moore, Barry</td>\n",
       "      <td>R</td>\n",
       "      <td>1504 LHOB</td>\n",
       "      <td>(202) 225-2901</td>\n",
       "      <td>Agriculture|Veterans' Affairs</td>\n",
       "      <td>Alabama</td>\n",
       "    </tr>\n",
       "    <tr>\n",
       "      <th>2</th>\n",
       "      <td>3rd</td>\n",
       "      <td>Rogers, Mike</td>\n",
       "      <td>R</td>\n",
       "      <td>2469 RHOB</td>\n",
       "      <td>(202) 225-3261</td>\n",
       "      <td>Armed Services</td>\n",
       "      <td>Alabama</td>\n",
       "    </tr>\n",
       "    <tr>\n",
       "      <th>3</th>\n",
       "      <td>4th</td>\n",
       "      <td>Aderholt, Robert</td>\n",
       "      <td>R</td>\n",
       "      <td>266 CHOB</td>\n",
       "      <td>(202) 225-4876</td>\n",
       "      <td>Appropriations</td>\n",
       "      <td>Alabama</td>\n",
       "    </tr>\n",
       "    <tr>\n",
       "      <th>4</th>\n",
       "      <td>5th</td>\n",
       "      <td>Brooks, Mo</td>\n",
       "      <td>R</td>\n",
       "      <td>2185 RHOB</td>\n",
       "      <td>(202) 225-4801</td>\n",
       "      <td>Armed Services|Science, Space, and Technology</td>\n",
       "      <td>Alabama</td>\n",
       "    </tr>\n",
       "    <tr>\n",
       "      <th>...</th>\n",
       "      <td>...</td>\n",
       "      <td>...</td>\n",
       "      <td>...</td>\n",
       "      <td>...</td>\n",
       "      <td>...</td>\n",
       "      <td>...</td>\n",
       "      <td>...</td>\n",
       "    </tr>\n",
       "    <tr>\n",
       "      <th>4</th>\n",
       "      <td>5th</td>\n",
       "      <td>Fitzgerald, Scott</td>\n",
       "      <td>R</td>\n",
       "      <td>1507 LHOB</td>\n",
       "      <td>(202) 225-5101</td>\n",
       "      <td>Education and Labor|Judiciary|Small Business</td>\n",
       "      <td>Wisconsin</td>\n",
       "    </tr>\n",
       "    <tr>\n",
       "      <th>5</th>\n",
       "      <td>6th</td>\n",
       "      <td>Grothman, Glenn</td>\n",
       "      <td>R</td>\n",
       "      <td>1427 LHOB</td>\n",
       "      <td>(202) 225-2476</td>\n",
       "      <td>Budget|Education and Labor|Oversight and Reform</td>\n",
       "      <td>Wisconsin</td>\n",
       "    </tr>\n",
       "    <tr>\n",
       "      <th>6</th>\n",
       "      <td>7th</td>\n",
       "      <td>Tiffany, Thomas P.</td>\n",
       "      <td>R</td>\n",
       "      <td>1719 LHOB</td>\n",
       "      <td>(202) 225-3365</td>\n",
       "      <td>Natural Resources|Judiciary</td>\n",
       "      <td>Wisconsin</td>\n",
       "    </tr>\n",
       "    <tr>\n",
       "      <th>7</th>\n",
       "      <td>8th</td>\n",
       "      <td>Gallagher, Mike</td>\n",
       "      <td>R</td>\n",
       "      <td>1230 LHOB</td>\n",
       "      <td>(202) 225-5665</td>\n",
       "      <td>Armed Services|Intelligence|Transportation and...</td>\n",
       "      <td>Wisconsin</td>\n",
       "    </tr>\n",
       "    <tr>\n",
       "      <th>0</th>\n",
       "      <td>At Large</td>\n",
       "      <td>Cheney, Liz</td>\n",
       "      <td>R</td>\n",
       "      <td>416 CHOB</td>\n",
       "      <td>(202) 225-2311</td>\n",
       "      <td>Armed Services|Select Committee to Investigate...</td>\n",
       "      <td>Wyoming</td>\n",
       "    </tr>\n",
       "  </tbody>\n",
       "</table>\n",
       "<p>441 rows × 7 columns</p>\n",
       "</div>"
      ],
      "text/plain": [
       "    District                Name Party Office Room           Phone  \\\n",
       "0        1st      Carl, Jerry L.     R   1330 LHOB  (202) 225-4931   \n",
       "1        2nd        Moore, Barry     R   1504 LHOB  (202) 225-2901   \n",
       "2        3rd        Rogers, Mike     R   2469 RHOB  (202) 225-3261   \n",
       "3        4th    Aderholt, Robert     R    266 CHOB  (202) 225-4876   \n",
       "4        5th          Brooks, Mo     R   2185 RHOB  (202) 225-4801   \n",
       "..       ...                 ...   ...         ...             ...   \n",
       "4        5th   Fitzgerald, Scott     R   1507 LHOB  (202) 225-5101   \n",
       "5        6th     Grothman, Glenn     R   1427 LHOB  (202) 225-2476   \n",
       "6        7th  Tiffany, Thomas P.     R   1719 LHOB  (202) 225-3365   \n",
       "7        8th     Gallagher, Mike     R   1230 LHOB  (202) 225-5665   \n",
       "0   At Large         Cheney, Liz     R    416 CHOB  (202) 225-2311   \n",
       "\n",
       "                                 Committee Assignment      State  \n",
       "0                    Armed Services|Natural Resources    Alabama  \n",
       "1                       Agriculture|Veterans' Affairs    Alabama  \n",
       "2                                      Armed Services    Alabama  \n",
       "3                                      Appropriations    Alabama  \n",
       "4       Armed Services|Science, Space, and Technology    Alabama  \n",
       "..                                                ...        ...  \n",
       "4        Education and Labor|Judiciary|Small Business  Wisconsin  \n",
       "5     Budget|Education and Labor|Oversight and Reform  Wisconsin  \n",
       "6                         Natural Resources|Judiciary  Wisconsin  \n",
       "7   Armed Services|Intelligence|Transportation and...  Wisconsin  \n",
       "0   Armed Services|Select Committee to Investigate...    Wyoming  \n",
       "\n",
       "[441 rows x 7 columns]"
      ]
     },
     "execution_count": 19,
     "metadata": {},
     "output_type": "execute_result"
    }
   ],
   "source": [
    "data = pd.concat(rows)\n",
    "data"
   ]
  },
  {
   "cell_type": "code",
   "execution_count": null,
   "metadata": {},
   "outputs": [],
   "source": [
    "file_path = '../Representatives - Output/Representatives ' + datetime.now().strftime(\"%d-%m-%Y %H%M%S\") + \".csv\" # folder location with file name\n",
    "data.to_csv(file_path) # save data frame as csv in file location"
   ]
  },
  {
   "cell_type": "markdown",
   "metadata": {},
   "source": [
    "# PART 2: Exaplanatory Data Analysis"
   ]
  },
  {
   "cell_type": "code",
   "execution_count": null,
   "metadata": {},
   "outputs": [],
   "source": [
    "fig = px.bar(data, x='State', color='Party', color_discrete_map={'R': 'red','D': 'blue'},width=1200, height=400)\n",
    "\n",
    "fig.update_layout(xaxis={'categoryorder':'total descending'})\n",
    "fig.update_xaxes(tickangle=-45)\n",
    "\n",
    "newnames = {'R':'Republicans','D':'Democrats'}\n",
    "# fig.for_each_trace(lambda t: t.update(name = newnames[t.name]))\n",
    "fig.show(\"png\")"
   ]
  },
  {
   "cell_type": "code",
   "execution_count": null,
   "metadata": {},
   "outputs": [],
   "source": [
    "fig = px.bar(data[data.Party=='R'], x='State', color='Party', color_discrete_map={'R': 'red'},width=1200, height=400)\n",
    "\n",
    "fig.update_layout(xaxis={'categoryorder':'total descending'})\n",
    "fig.update_xaxes(tickangle=-45)\n",
    "\n",
    "newnames = {'R':'Republicans'}\n",
    "# fig.for_each_trace(lambda t: t.update(name = newnames[t.name]))\n",
    "fig.show(\"png\")"
   ]
  },
  {
   "cell_type": "code",
   "execution_count": null,
   "metadata": {},
   "outputs": [],
   "source": [
    "fig = px.bar(data[data.Party=='D'], x='State', color='Party', color_discrete_map={'D': 'Blue'},width=1200, height=400)\n",
    "\n",
    "fig.update_layout(xaxis={'categoryorder':'total descending'})\n",
    "fig.update_xaxes(tickangle=-45)\n",
    "\n",
    "newnames = {'D':'Democrats'}\n",
    "# fig.for_each_trace(lambda t: t.update(name = newnames[t.name]))\n",
    "fig.show(\"png\")"
   ]
  },
  {
   "cell_type": "code",
   "execution_count": null,
   "metadata": {},
   "outputs": [],
   "source": [
    "fig = px.bar(\n",
    "    data,\n",
    "    x='State',\n",
    "    color='Party',\n",
    "    color_discrete_map={'D': 'Blue', 'R':'Red'},\n",
    "    title=\"Committee Members per Party\",\n",
    "    width=1400, height=800,\n",
    "    barmode=\"group\"\n",
    "    )\n",
    "\n",
    "fig.update_layout(xaxis={'categoryorder':'total descending'})\n",
    "\n",
    "fig.show(\"png\")"
   ]
  },
  {
   "cell_type": "code",
   "execution_count": null,
   "metadata": {},
   "outputs": [],
   "source": [
    "newnames = {'R':'Republicans','D':'Democrats'}\n",
    "\n",
    "fig = px.pie(\n",
    "    data['Party'].replace(newnames),\n",
    "    names='Party',\n",
    "    color='Party',\n",
    "    color_discrete_map={'Republicans':'Red','Democrats':'Blue'}\n",
    ")\n",
    "\n",
    "fig.update_traces(textfont_size=22,textinfo='percent+value')\n",
    "\n",
    "fig.show(\"png\")"
   ]
  },
  {
   "cell_type": "code",
   "execution_count": null,
   "metadata": {},
   "outputs": [],
   "source": [
    "fig = px.bar(data, x='District', color='Party', color_discrete_map={'D': 'Blue', 'R':'Red'},width=1200, height=400)\n",
    "\n",
    "fig.update_layout(xaxis={'categoryorder':'total descending'})\n",
    "newnames = {'R':'Republicans','D':'Democrats'}\n",
    "fig.for_each_trace(lambda t: t.update(name = newnames[t.name]))\n",
    "fig.update_xaxes(tickangle=45)\n",
    "fig.show(\"png\")"
   ]
  },
  {
   "cell_type": "code",
   "execution_count": null,
   "metadata": {},
   "outputs": [],
   "source": [
    "data_melt_committee = data.copy()\n",
    "data_melt_committee[[0,1,2,3,4,5]] = data['Committee Assignment'].str.split('|',expand=True)\n",
    "data_melt_committee.drop('Committee Assignment',axis=1, inplace=True)\n",
    "data_melt_committee = data_melt_committee.melt(id_vars=['District','Name','Party','Office Room','Phone','State'],value_name='Committee Assignment')\n",
    "data_melt_committee = data_melt_committee[~data_melt_committee['Committee Assignment'].isnull()].drop('variable',axis=1)\n"
   ]
  },
  {
   "cell_type": "code",
   "execution_count": null,
   "metadata": {},
   "outputs": [],
   "source": [
    "names = data_melt_committee['Committee Assignment'].value_counts().reset_index()['index']\n",
    "values = data_melt_committee['Committee Assignment'].value_counts().reset_index()['Committee Assignment']\n",
    "\n",
    "fig, axs = plt.subplots(figsize=(10, 12), sharey=True)\n",
    "axs.barh(names, values,align='center')\n",
    "\n",
    "data_melt_committee['Committee Assignment'].value_counts().reset_index()"
   ]
  },
  {
   "cell_type": "code",
   "execution_count": null,
   "metadata": {},
   "outputs": [],
   "source": [
    "b = data_melt_committee[['Committee Assignment','Party']].copy()\n",
    "b.insert(2,'num',1)\n",
    "b['Party']=b['Party'].replace({'R':'Republican','D':'Democratic'})\n",
    "\n",
    "print(\n",
    "    \"\"\"\n",
    "    TABLE: Representatives amount per Party, grouped by Commemitee\n",
    "    \"\"\"\n",
    ")\n",
    "\n",
    "pd.pivot_table(\n",
    "    b, #dataset\n",
    "    values='num',\n",
    "    index=['Committee Assignment'],\n",
    "    columns=['Party'],\n",
    "    aggfunc=np.sum,\n",
    "    fill_value=0\n",
    "    ).reset_index().sort_values('Democratic')"
   ]
  },
  {
   "cell_type": "code",
   "execution_count": null,
   "metadata": {},
   "outputs": [],
   "source": [
    "fig = px.bar(\n",
    "    data_melt_committee,\n",
    "    y='Committee Assignment',\n",
    "    color='Party',\n",
    "    color_discrete_map={'D': 'Blue', 'R':'Red'},\n",
    "    orientation='h',\n",
    "    title=\"Representatives per Party grouped by Committee\",\n",
    "    width=1200, height=400\n",
    "    )\n",
    "\n",
    "fig.update_layout(\n",
    "    yaxis={'categoryorder':'total descending'})\n",
    "\n",
    "newnames = {'R':'Republicans','D':'Democrats'}\n",
    "\n",
    "fig.show(\"png\")"
   ]
  },
  {
   "cell_type": "code",
   "execution_count": null,
   "metadata": {},
   "outputs": [],
   "source": [
    "order = {'District':['1st','2nd','3rd','4th','5th','6th','7th','8th','9th','10th' ,'11th','12th','13th','14th','15th','16th','17th','18th','19th','20th','21st','22nd','23rd','24th','25th','26th','27th','28th','29th','30th','31st','32nd','33rd','34th','35th','36th','37th','38th','39th','40th','41st','42nd','43rd','44th','45th','46th','47th','48th','49th','50th','51st','52nd','53rd','At Large', 'Delegate','Resident Commissioner']}\n",
    "\n",
    "fig = px.bar(\n",
    "    data,\n",
    "    x='District',\n",
    "    color='Party',\n",
    "    color_discrete_map={'D': 'Blue', 'R':'Red'},\n",
    "    title=\"Committee Members per Party\",\n",
    "    width=1300, height=800,\n",
    "    # barmode=\"group\",\n",
    "    category_orders=order,\n",
    "    facet_col=\"Party\"\n",
    "    )\n",
    "\n",
    "# fig.update_layout(xaxis={'categoryorder':'total descending'})\n",
    "\n",
    "newnames = {'R':'Republicans','D':'Democrats'}\n",
    "\n",
    "# display\n",
    "# fig.for_each_trace(lambda t: t.update(name = newnames[t.name])) # Interactive graph does not show up on GitHub\n",
    "fig.show(\"png\")"
   ]
  },
  {
   "cell_type": "code",
   "execution_count": null,
   "metadata": {},
   "outputs": [],
   "source": [
    "fig = px.bar(\n",
    "    data,\n",
    "    x='District',\n",
    "    color='Party',\n",
    "    color_discrete_map={'D': 'Blue', 'R':'Red'},\n",
    "    title=\"Committee Members per Party\",\n",
    "    width=1400, height=800,\n",
    "    barmode=\"group\",\n",
    "    category_orders=order\n",
    "    )\n",
    "fig.update_xaxes(tickangle=45)\n",
    "fig.show(\"png\")"
   ]
  },
  {
   "cell_type": "code",
   "execution_count": null,
   "metadata": {},
   "outputs": [],
   "source": [
    "b = data_melt_committee[data_melt_committee['Committee Assignment']==''][['Party','State','Name','Committee Assignment']]\n",
    "b['Party']=b['Party'].replace({'R':'Republican','D':'Democratic'})\n",
    "b['Committee Assignment']=b['Committee Assignment'].replace({'':'Non-Assignment'})\n",
    "\n",
    "print(\n",
    "    f\"\"\"\n",
    "    TABLE: Representatives WITHOUT Committee Assignment\n",
    "\n",
    "    REPUBLICAN: {b[b['Party']=='Republican']['Party'].count()}\n",
    "    DEMOCRATIC: {b.Party.where(lambda x: x=='Democratic').count()}\n",
    "    \"\"\"\n",
    ") # different ways to count series\n",
    "\n",
    "b.sort_values(['Party','State','Name'])\n",
    "\n",
    "# pd.pivot_table(\n",
    "#     b,\n",
    "#     values='num',\n",
    "#     index=['Name','State','Committee Assignment'],\n",
    "#     columns=['Party'],\n",
    "#     aggfunc=np.sum,\n",
    "#     fill_value=0\n",
    "#     ).reset_index().sort_values('Democratic')\n"
   ]
  },
  {
   "cell_type": "code",
   "execution_count": null,
   "metadata": {},
   "outputs": [],
   "source": [
    "b[b['Party']=='Democratic']['Party'].count()"
   ]
  },
  {
   "cell_type": "code",
   "execution_count": null,
   "metadata": {},
   "outputs": [],
   "source": []
  },
  {
   "cell_type": "code",
   "execution_count": null,
   "metadata": {},
   "outputs": [],
   "source": []
  }
 ],
 "metadata": {
  "interpreter": {
   "hash": "aee8b7b246df8f9039afb4144a1f6fd8d2ca17a180786b69acc140d282b71a49"
  },
  "kernelspec": {
   "display_name": "Python 3.9.0 64-bit",
   "language": "python",
   "name": "python3"
  },
  "language_info": {
   "codemirror_mode": {
    "name": "ipython",
    "version": 3
   },
   "file_extension": ".py",
   "mimetype": "text/x-python",
   "name": "python",
   "nbconvert_exporter": "python",
   "pygments_lexer": "ipython3",
   "version": "3.9.0"
  },
  "orig_nbformat": 4
 },
 "nbformat": 4,
 "nbformat_minor": 2
}
