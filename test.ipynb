{
 "cells": [
  {
   "cell_type": "code",
   "execution_count": null,
   "metadata": {},
   "outputs": [],
   "source": [
    "response = requests.get(\"https://www.house.gov/representatives\")\n",
    "soup = BeautifulSoup(response.text, 'html.parser')\n",
    "tables = soup.select('table')\n",
    "rows = []\n",
    "for table in tables[:56]:\n",
    "    row = {}\n",
    "    row['District']             = [x.text.strip() for x in table.select('td')][0::6]\n",
    "    row['Name']                 = [x.text.strip() for x in table.select('td')][1::6]\n",
    "    row['Party']                = [x.text.strip() for x in table.select('td')][2::6]\n",
    "    row['Office Room']          = [x.text.strip() for x in table.select('td')][3::6]\n",
    "    row['Phone']                = [x.text.strip() for x in table.select('td')][4::6]\n",
    "    row['Committee Assignment'] = [x.text.strip() for x in table.select('td')][5::6]\n",
    "    row['State']                = table.select_one('caption').text.strip()\n",
    "    rows.append(pd.DataFrame(row))\n",
    "data = pd.concat(rows)\n",
    "data"
   ]
  }
 ],
 "metadata": {
  "language_info": {
   "name": "python"
  },
  "orig_nbformat": 4
 },
 "nbformat": 4,
 "nbformat_minor": 2
}
