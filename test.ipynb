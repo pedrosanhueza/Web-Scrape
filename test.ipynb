{
 "cells": [
  {
   "cell_type": "code",
   "execution_count": null,
   "metadata": {},
   "outputs": [],
   "source": [
    "import requests\n",
    "from bs4 import BeautifulSoup\n",
    "import pandas as pd"
   ]
  },
  {
   "cell_type": "code",
   "execution_count": null,
   "metadata": {},
   "outputs": [],
   "source": [
    "headers = {'User-Agent': \"Mozilla/5.0 (Macintosh; Intel Mac OS X 10_15_7) AppleWebKit/537.36 (KHTML, like Gecko) Chrome/106.0.0.0 Safari/537.36\"}"
   ]
  },
  {
   "cell_type": "code",
   "execution_count": null,
   "metadata": {},
   "outputs": [],
   "source": [
    "title = []\n",
    "href = []\n",
    "developer = []\n",
    "details = []\n",
    "review_count = []\n",
    "\n",
    "for page in range(1,201):\n",
    "    print(\"page: \",page)\n",
    "\n",
    "    url = f\"https://apps.shopify.com/browse?page={page}\"\n",
    "    print(\"url: \",url)\n",
    "\n",
    "    response = requests.get(url, headers=headers)\n",
    "    print(\"status code: \",response.status_code)\n",
    "    \n",
    "    soup = BeautifulSoup(response.text)\n",
    "    [ title.append(x['title']) for x in soup.find_all('div',{'class','ui-app-card'}) ]\n",
    "    [ href.append(x['data-target-href']) for x in soup.find_all('div',{'class','ui-app-card'}) ]\n",
    "    [ developer.append(x.text) for x in soup.find_all('div',{'class':'ui-app-card__developer-name'}) ]\n",
    "    [ details.append(x.text) for x in soup.find_all('p',{'class':'ui-app-card__details'}) ]\n",
    "    [ review_count.append(x.text) for x in soup.find_all('span',{'class':'ui-review-count-summary'}) ]"
   ]
  },
  {
   "cell_type": "code",
   "execution_count": null,
   "metadata": {},
   "outputs": [],
   "source": [
    "print(len(title))\n",
    "print(len(href))\n",
    "print(len(developer))\n",
    "print(len(details))\n",
    "print(len(review_count))"
   ]
  },
  {
   "cell_type": "code",
   "execution_count": null,
   "metadata": {},
   "outputs": [],
   "source": [
    "data = pd.DataFrame({\n",
    "    'name': title,\n",
    "    'url': href,\n",
    "    'developer': developer,\n",
    "    'details': details,\n",
    "    'review_count': review_count\n",
    "})"
   ]
  },
  {
   "cell_type": "code",
   "execution_count": null,
   "metadata": {},
   "outputs": [],
   "source": [
    "data"
   ]
  },
  {
   "cell_type": "code",
   "execution_count": null,
   "metadata": {},
   "outputs": [],
   "source": []
  }
 ],
 "metadata": {
  "kernelspec": {
   "display_name": "Python 3.9.0 64-bit",
   "language": "python",
   "name": "python3"
  },
  "language_info": {
   "codemirror_mode": {
    "name": "ipython",
    "version": 3
   },
   "file_extension": ".py",
   "mimetype": "text/x-python",
   "name": "python",
   "nbconvert_exporter": "python",
   "pygments_lexer": "ipython3",
   "version": "3.9.0"
  },
  "orig_nbformat": 4,
  "vscode": {
   "interpreter": {
    "hash": "397704579725e15f5c7cb49fe5f0341eb7531c82d19f2c29d197e8b64ab5776b"
   }
  }
 },
 "nbformat": 4,
 "nbformat_minor": 2
}
