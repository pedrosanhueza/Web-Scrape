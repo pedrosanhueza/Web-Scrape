{
 "cells": [
  {
   "cell_type": "code",
   "execution_count": 18,
   "metadata": {},
   "outputs": [],
   "source": [
    "# !pip install webdriver-manager"
   ]
  },
  {
   "cell_type": "code",
   "execution_count": 16,
   "metadata": {},
   "outputs": [],
   "source": [
    "from selenium import webdriver\n",
    "from webdriver_manager.chrome import ChromeDriverManager\n",
    "from bs4 import BeautifulSoup\n",
    "import pandas as pd\n",
    "\n",
    "url = 'https://www.forbes.com/lists/global2000/?sh=288ed175ac04'"
   ]
  },
  {
   "cell_type": "code",
   "execution_count": null,
   "metadata": {},
   "outputs": [],
   "source": [
    "driver = webdriver.Chrome(ChromeDriverManager().install())\n",
    "driver.get(url)"
   ]
  },
  {
   "cell_type": "code",
   "execution_count": 8,
   "metadata": {},
   "outputs": [],
   "source": [
    "html = driver.page_source\n",
    "driver.close()"
   ]
  },
  {
   "cell_type": "code",
   "execution_count": 10,
   "metadata": {},
   "outputs": [],
   "source": [
    "soup = BeautifulSoup(html)"
   ]
  },
  {
   "cell_type": "code",
   "execution_count": 14,
   "metadata": {},
   "outputs": [],
   "source": [
    "rank = [ x.text for x in soup.find_all('div',{'class':'rank'})]\n",
    "organizationName = [ x.text for x in soup.find_all('div',{'class':'organizationName'})]\n",
    "country = [ x.text for x in soup.find_all('div',{'class':'country'})]\n",
    "revenue = [ x.text for x in soup.find_all('div',{'class':'revenue'})]\n",
    "assets = [ x.text for x in soup.find_all('div',{'class':'assets'})]\n",
    "marketValue = [ x.text for x in soup.find_all('div',{'class':'marketValue'})]\n"
   ]
  },
  {
   "cell_type": "code",
   "execution_count": 19,
   "metadata": {},
   "outputs": [],
   "source": [
    "data = pd.DataFrame({\n",
    "    'rank':rank,\n",
    "    'organizationName':organizationName,\n",
    "    'country':country,\n",
    "    'revenue':revenue,\n",
    "    'assets':assets,\n",
    "    'marketValue':marketValue\n",
    "})"
   ]
  },
  {
   "cell_type": "code",
   "execution_count": 20,
   "metadata": {},
   "outputs": [
    {
     "data": {
      "text/html": [
       "<div>\n",
       "<style scoped>\n",
       "    .dataframe tbody tr th:only-of-type {\n",
       "        vertical-align: middle;\n",
       "    }\n",
       "\n",
       "    .dataframe tbody tr th {\n",
       "        vertical-align: top;\n",
       "    }\n",
       "\n",
       "    .dataframe thead th {\n",
       "        text-align: right;\n",
       "    }\n",
       "</style>\n",
       "<table border=\"1\" class=\"dataframe\">\n",
       "  <thead>\n",
       "    <tr style=\"text-align: right;\">\n",
       "      <th></th>\n",
       "      <th>rank</th>\n",
       "      <th>organizationName</th>\n",
       "      <th>country</th>\n",
       "      <th>revenue</th>\n",
       "      <th>assets</th>\n",
       "      <th>marketValue</th>\n",
       "    </tr>\n",
       "  </thead>\n",
       "  <tbody>\n",
       "    <tr>\n",
       "      <th>0</th>\n",
       "      <td>1.</td>\n",
       "      <td>Berkshire Hathaway</td>\n",
       "      <td>United States</td>\n",
       "      <td>$276.09 B</td>\n",
       "      <td>$958.78 B</td>\n",
       "      <td>$741.48 B</td>\n",
       "    </tr>\n",
       "    <tr>\n",
       "      <th>1</th>\n",
       "      <td>2.</td>\n",
       "      <td>ICBC</td>\n",
       "      <td>China</td>\n",
       "      <td>$208.13 B</td>\n",
       "      <td>$5,518.51 B</td>\n",
       "      <td>$214.43 B</td>\n",
       "    </tr>\n",
       "    <tr>\n",
       "      <th>2</th>\n",
       "      <td>3.</td>\n",
       "      <td>Saudi Arabian Oil Company (Saudi Aramco)</td>\n",
       "      <td>Saudi Arabia</td>\n",
       "      <td>$400.38 B</td>\n",
       "      <td>$576.04 B</td>\n",
       "      <td>$2,292.08 B</td>\n",
       "    </tr>\n",
       "    <tr>\n",
       "      <th>3</th>\n",
       "      <td>4.</td>\n",
       "      <td>JPMorgan Chase</td>\n",
       "      <td>United States</td>\n",
       "      <td>$124.54 B</td>\n",
       "      <td>$3,954.69 B</td>\n",
       "      <td>$374.45 B</td>\n",
       "    </tr>\n",
       "    <tr>\n",
       "      <th>4</th>\n",
       "      <td>5.</td>\n",
       "      <td>China Construction Bank</td>\n",
       "      <td>China</td>\n",
       "      <td>$202.07 B</td>\n",
       "      <td>$4,746.95 B</td>\n",
       "      <td>$181.32 B</td>\n",
       "    </tr>\n",
       "    <tr>\n",
       "      <th>...</th>\n",
       "      <td>...</td>\n",
       "      <td>...</td>\n",
       "      <td>...</td>\n",
       "      <td>...</td>\n",
       "      <td>...</td>\n",
       "      <td>...</td>\n",
       "    </tr>\n",
       "    <tr>\n",
       "      <th>1995</th>\n",
       "      <td>1995.</td>\n",
       "      <td>Shenzhen Feima International Supply Chain</td>\n",
       "      <td>China</td>\n",
       "      <td>$37 M</td>\n",
       "      <td>$166 M</td>\n",
       "      <td>$1.14 B</td>\n",
       "    </tr>\n",
       "    <tr>\n",
       "      <th>1996</th>\n",
       "      <td>1997.</td>\n",
       "      <td>NMDC</td>\n",
       "      <td>India</td>\n",
       "      <td>$3.52 B</td>\n",
       "      <td>$5.71 B</td>\n",
       "      <td>$6.4 B</td>\n",
       "    </tr>\n",
       "    <tr>\n",
       "      <th>1997</th>\n",
       "      <td>1997.</td>\n",
       "      <td>Sichuan Changhong Electric</td>\n",
       "      <td>China</td>\n",
       "      <td>$15.72 B</td>\n",
       "      <td>$12.11 B</td>\n",
       "      <td>$1.96 B</td>\n",
       "    </tr>\n",
       "    <tr>\n",
       "      <th>1998</th>\n",
       "      <td>1999.</td>\n",
       "      <td>Satellite Chemical</td>\n",
       "      <td>China</td>\n",
       "      <td>$4.41 B</td>\n",
       "      <td>$7.64 B</td>\n",
       "      <td>$9.52 B</td>\n",
       "    </tr>\n",
       "    <tr>\n",
       "      <th>1999</th>\n",
       "      <td>2000.</td>\n",
       "      <td>Sun Communities</td>\n",
       "      <td>United States</td>\n",
       "      <td>$2.27 B</td>\n",
       "      <td>$13.49 B</td>\n",
       "      <td>$21.71 B</td>\n",
       "    </tr>\n",
       "  </tbody>\n",
       "</table>\n",
       "<p>2000 rows × 6 columns</p>\n",
       "</div>"
      ],
      "text/plain": [
       "       rank                           organizationName        country  \\\n",
       "0        1.                         Berkshire Hathaway  United States   \n",
       "1        2.                                       ICBC          China   \n",
       "2        3.   Saudi Arabian Oil Company (Saudi Aramco)   Saudi Arabia   \n",
       "3        4.                             JPMorgan Chase  United States   \n",
       "4        5.                    China Construction Bank          China   \n",
       "...     ...                                        ...            ...   \n",
       "1995  1995.  Shenzhen Feima International Supply Chain          China   \n",
       "1996  1997.                                       NMDC          India   \n",
       "1997  1997.                 Sichuan Changhong Electric          China   \n",
       "1998  1999.                         Satellite Chemical          China   \n",
       "1999  2000.                            Sun Communities  United States   \n",
       "\n",
       "        revenue       assets  marketValue  \n",
       "0     $276.09 B    $958.78 B    $741.48 B  \n",
       "1     $208.13 B  $5,518.51 B    $214.43 B  \n",
       "2     $400.38 B    $576.04 B  $2,292.08 B  \n",
       "3     $124.54 B  $3,954.69 B    $374.45 B  \n",
       "4     $202.07 B  $4,746.95 B    $181.32 B  \n",
       "...         ...          ...          ...  \n",
       "1995      $37 M       $166 M      $1.14 B  \n",
       "1996    $3.52 B      $5.71 B       $6.4 B  \n",
       "1997   $15.72 B     $12.11 B      $1.96 B  \n",
       "1998    $4.41 B      $7.64 B      $9.52 B  \n",
       "1999    $2.27 B     $13.49 B     $21.71 B  \n",
       "\n",
       "[2000 rows x 6 columns]"
      ]
     },
     "execution_count": 20,
     "metadata": {},
     "output_type": "execute_result"
    }
   ],
   "source": [
    "data"
   ]
  },
  {
   "cell_type": "code",
   "execution_count": 31,
   "metadata": {},
   "outputs": [],
   "source": [
    "# data.to_csv('forbes2000.csv', index=False)"
   ]
  },
  {
   "cell_type": "code",
   "execution_count": 21,
   "metadata": {},
   "outputs": [],
   "source": [
    "import requests"
   ]
  },
  {
   "cell_type": "code",
   "execution_count": 22,
   "metadata": {},
   "outputs": [],
   "source": [
    "response = requests.get('https://www.forbes.com/companies/berkshire-hathaway/?list=global2000&sh=4a2f63b1bef8')"
   ]
  },
  {
   "cell_type": "code",
   "execution_count": 25,
   "metadata": {},
   "outputs": [],
   "source": [
    "soup = BeautifulSoup(response.text)"
   ]
  },
  {
   "cell_type": "code",
   "execution_count": 30,
   "metadata": {},
   "outputs": [
    {
     "data": {
      "text/plain": [
       "'Diversified Financials'"
      ]
     },
     "execution_count": 30,
     "metadata": {},
     "output_type": "execute_result"
    }
   ],
   "source": [
    "soup.find('span',{'class':'profile-stats__text'}).find('span').text"
   ]
  },
  {
   "cell_type": "code",
   "execution_count": null,
   "metadata": {},
   "outputs": [],
   "source": []
  }
 ],
 "metadata": {
  "kernelspec": {
   "display_name": "Python 3.9.0 64-bit",
   "language": "python",
   "name": "python3"
  },
  "language_info": {
   "codemirror_mode": {
    "name": "ipython",
    "version": 3
   },
   "file_extension": ".py",
   "mimetype": "text/x-python",
   "name": "python",
   "nbconvert_exporter": "python",
   "pygments_lexer": "ipython3",
   "version": "3.9.0"
  },
  "orig_nbformat": 4,
  "vscode": {
   "interpreter": {
    "hash": "397704579725e15f5c7cb49fe5f0341eb7531c82d19f2c29d197e8b64ab5776b"
   }
  }
 },
 "nbformat": 4,
 "nbformat_minor": 2
}
