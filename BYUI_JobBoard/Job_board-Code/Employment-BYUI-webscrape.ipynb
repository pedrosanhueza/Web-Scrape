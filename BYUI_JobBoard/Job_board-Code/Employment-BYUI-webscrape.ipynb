{
 "cells": [
  {
   "cell_type": "code",
   "execution_count": 1,
   "metadata": {},
   "outputs": [],
   "source": [
    "import requests\n",
    "import pandas as pd"
   ]
  },
  {
   "cell_type": "code",
   "execution_count": 2,
   "metadata": {},
   "outputs": [],
   "source": [
    "response = requests.get('https://web.byui.edu/studentemployment/api/jobs')\n",
    "\n",
    "data_json = response.json()\n",
    "\n",
    "data = pd.DataFrame(data_json)"
   ]
  },
  {
   "cell_type": "code",
   "execution_count": 3,
   "metadata": {},
   "outputs": [],
   "source": [
    "pd.options.display.max_columns = None"
   ]
  },
  {
   "cell_type": "markdown",
   "metadata": {},
   "source": [
    "## Top 5 highest paid jobs"
   ]
  },
  {
   "cell_type": "code",
   "execution_count": 4,
   "metadata": {},
   "outputs": [
    {
     "data": {
      "text/html": [
       "<div>\n",
       "<style scoped>\n",
       "    .dataframe tbody tr th:only-of-type {\n",
       "        vertical-align: middle;\n",
       "    }\n",
       "\n",
       "    .dataframe tbody tr th {\n",
       "        vertical-align: top;\n",
       "    }\n",
       "\n",
       "    .dataframe thead th {\n",
       "        text-align: right;\n",
       "    }\n",
       "</style>\n",
       "<table border=\"1\" class=\"dataframe\">\n",
       "  <thead>\n",
       "    <tr style=\"text-align: right;\">\n",
       "      <th></th>\n",
       "      <th>title</th>\n",
       "      <th>payRate</th>\n",
       "      <th>workSchedule</th>\n",
       "    </tr>\n",
       "  </thead>\n",
       "  <tbody>\n",
       "    <tr>\n",
       "      <th>6</th>\n",
       "      <td>Systems Developer</td>\n",
       "      <td>12.0</td>\n",
       "      <td>Flexible M-F</td>\n",
       "    </tr>\n",
       "    <tr>\n",
       "      <th>7</th>\n",
       "      <td>Reports and Systems Analyst</td>\n",
       "      <td>12.0</td>\n",
       "      <td>M-F Varies</td>\n",
       "    </tr>\n",
       "    <tr>\n",
       "      <th>70</th>\n",
       "      <td>Health Center Lab Assistant</td>\n",
       "      <td>11.5</td>\n",
       "      <td>NaN</td>\n",
       "    </tr>\n",
       "    <tr>\n",
       "      <th>47</th>\n",
       "      <td>CIT325 OnlineTA</td>\n",
       "      <td>11.3</td>\n",
       "      <td>Flexible</td>\n",
       "    </tr>\n",
       "    <tr>\n",
       "      <th>13</th>\n",
       "      <td>CIT325 OnlineTA</td>\n",
       "      <td>11.3</td>\n",
       "      <td>Flexible</td>\n",
       "    </tr>\n",
       "  </tbody>\n",
       "</table>\n",
       "</div>"
      ],
      "text/plain": [
       "                          title  payRate  workSchedule\n",
       "6             Systems Developer     12.0  Flexible M-F\n",
       "7   Reports and Systems Analyst     12.0    M-F Varies\n",
       "70  Health Center Lab Assistant     11.5           NaN\n",
       "47              CIT325 OnlineTA     11.3      Flexible\n",
       "13              CIT325 OnlineTA     11.3      Flexible"
      ]
     },
     "execution_count": 4,
     "metadata": {},
     "output_type": "execute_result"
    }
   ],
   "source": [
    "data.sort_values('payRate', ascending=False).head(5)[['title','payRate','workSchedule']]"
   ]
  },
  {
   "cell_type": "markdown",
   "metadata": {},
   "source": [
    "## All Jobs that are not 'Online','TA', and 'Custodial'"
   ]
  },
  {
   "cell_type": "code",
   "execution_count": 5,
   "metadata": {},
   "outputs": [
    {
     "name": "stdout",
     "output_type": "stream",
     "text": [
      "There are 28 jobs that are not Online, TA, not custodial\n"
     ]
    },
    {
     "data": {
      "text/html": [
       "<div>\n",
       "<style scoped>\n",
       "    .dataframe tbody tr th:only-of-type {\n",
       "        vertical-align: middle;\n",
       "    }\n",
       "\n",
       "    .dataframe tbody tr th {\n",
       "        vertical-align: top;\n",
       "    }\n",
       "\n",
       "    .dataframe thead th {\n",
       "        text-align: right;\n",
       "    }\n",
       "</style>\n",
       "<table border=\"1\" class=\"dataframe\">\n",
       "  <thead>\n",
       "    <tr style=\"text-align: right;\">\n",
       "      <th></th>\n",
       "      <th>title</th>\n",
       "      <th>payRate</th>\n",
       "      <th>workSchedule</th>\n",
       "    </tr>\n",
       "  </thead>\n",
       "  <tbody>\n",
       "    <tr>\n",
       "      <th>6</th>\n",
       "      <td>Systems Developer</td>\n",
       "      <td>12.00</td>\n",
       "      <td>Flexible M-F</td>\n",
       "    </tr>\n",
       "    <tr>\n",
       "      <th>7</th>\n",
       "      <td>Reports and Systems Analyst</td>\n",
       "      <td>12.00</td>\n",
       "      <td>M-F Varies</td>\n",
       "    </tr>\n",
       "    <tr>\n",
       "      <th>70</th>\n",
       "      <td>Health Center Lab Assistant</td>\n",
       "      <td>11.50</td>\n",
       "      <td>NaN</td>\n",
       "    </tr>\n",
       "    <tr>\n",
       "      <th>18</th>\n",
       "      <td>Phones Specialist</td>\n",
       "      <td>10.38</td>\n",
       "      <td>4pm-6pm, 5pm-8pm</td>\n",
       "    </tr>\n",
       "    <tr>\n",
       "      <th>42</th>\n",
       "      <td>Clinician Aide</td>\n",
       "      <td>10.15</td>\n",
       "      <td>M-F TBD</td>\n",
       "    </tr>\n",
       "    <tr>\n",
       "      <th>20</th>\n",
       "      <td>Food Services Student Jobs</td>\n",
       "      <td>10.00</td>\n",
       "      <td>Many Shifts Available</td>\n",
       "    </tr>\n",
       "    <tr>\n",
       "      <th>40</th>\n",
       "      <td>Assessment Consultant</td>\n",
       "      <td>10.00</td>\n",
       "      <td>Flexible</td>\n",
       "    </tr>\n",
       "    <tr>\n",
       "      <th>19</th>\n",
       "      <td>Grounds Crew 12</td>\n",
       "      <td>9.58</td>\n",
       "      <td>8:00AM-12:00PM</td>\n",
       "    </tr>\n",
       "    <tr>\n",
       "      <th>32</th>\n",
       "      <td>Grounds Crew 6</td>\n",
       "      <td>9.58</td>\n",
       "      <td>1:00PM to 5:00 PM, Monday-Friday</td>\n",
       "    </tr>\n",
       "    <tr>\n",
       "      <th>33</th>\n",
       "      <td>Grounds Crew 11</td>\n",
       "      <td>9.58</td>\n",
       "      <td>NaN</td>\n",
       "    </tr>\n",
       "    <tr>\n",
       "      <th>38</th>\n",
       "      <td>Grounds Crew 16</td>\n",
       "      <td>9.58</td>\n",
       "      <td>NaN</td>\n",
       "    </tr>\n",
       "    <tr>\n",
       "      <th>72</th>\n",
       "      <td>Grounds Crew 5</td>\n",
       "      <td>9.58</td>\n",
       "      <td>6:00am-12:00pm, 1:00pm-3:00pm Monday thru Friday</td>\n",
       "    </tr>\n",
       "    <tr>\n",
       "      <th>11</th>\n",
       "      <td>Grounds Crew 8</td>\n",
       "      <td>9.58</td>\n",
       "      <td>NaN</td>\n",
       "    </tr>\n",
       "    <tr>\n",
       "      <th>45</th>\n",
       "      <td>Grounds Crew 2</td>\n",
       "      <td>9.58</td>\n",
       "      <td>6-10AM or 10-2PM</td>\n",
       "    </tr>\n",
       "    <tr>\n",
       "      <th>48</th>\n",
       "      <td>Grounds Crew 13</td>\n",
       "      <td>9.58</td>\n",
       "      <td>NaN</td>\n",
       "    </tr>\n",
       "    <tr>\n",
       "      <th>49</th>\n",
       "      <td>Hard Floor Team Member</td>\n",
       "      <td>9.58</td>\n",
       "      <td>Monday-Friday, 8PM-11PM</td>\n",
       "    </tr>\n",
       "    <tr>\n",
       "      <th>56</th>\n",
       "      <td>Grounds Crew 6</td>\n",
       "      <td>9.58</td>\n",
       "      <td>8 AM-Noon, Monday-Friday</td>\n",
       "    </tr>\n",
       "    <tr>\n",
       "      <th>60</th>\n",
       "      <td>Grounds Crew 5</td>\n",
       "      <td>9.58</td>\n",
       "      <td>NaN</td>\n",
       "    </tr>\n",
       "    <tr>\n",
       "      <th>61</th>\n",
       "      <td>Grounds Crew 9</td>\n",
       "      <td>9.58</td>\n",
       "      <td>3-4 hours block M-F</td>\n",
       "    </tr>\n",
       "    <tr>\n",
       "      <th>41</th>\n",
       "      <td>Security-Lock up Patrol</td>\n",
       "      <td>9.50</td>\n",
       "      <td>evenings/nights</td>\n",
       "    </tr>\n",
       "    <tr>\n",
       "      <th>76</th>\n",
       "      <td>Assistant Music Producer (Music Dept.)</td>\n",
       "      <td>9.35</td>\n",
       "      <td>Apprx. 40 hr/week depending on event/productio...</td>\n",
       "    </tr>\n",
       "    <tr>\n",
       "      <th>8</th>\n",
       "      <td>Chemistry Lab Coordinator</td>\n",
       "      <td>NaN</td>\n",
       "      <td>Evenings 5-7pm, M-F</td>\n",
       "    </tr>\n",
       "    <tr>\n",
       "      <th>9</th>\n",
       "      <td>Project Manager</td>\n",
       "      <td>NaN</td>\n",
       "      <td>NaN</td>\n",
       "    </tr>\n",
       "    <tr>\n",
       "      <th>34</th>\n",
       "      <td>Recording/Post Audio Engineering Student</td>\n",
       "      <td>NaN</td>\n",
       "      <td>NaN</td>\n",
       "    </tr>\n",
       "    <tr>\n",
       "      <th>36</th>\n",
       "      <td>Campus Tour Guide</td>\n",
       "      <td>NaN</td>\n",
       "      <td></td>\n",
       "    </tr>\n",
       "    <tr>\n",
       "      <th>62</th>\n",
       "      <td>IT Service Desk Analyst</td>\n",
       "      <td>NaN</td>\n",
       "      <td>NaN</td>\n",
       "    </tr>\n",
       "    <tr>\n",
       "      <th>69</th>\n",
       "      <td>A/V &amp; Broadcast Productions Lighting Crew</td>\n",
       "      <td>NaN</td>\n",
       "      <td>NaN</td>\n",
       "    </tr>\n",
       "    <tr>\n",
       "      <th>90</th>\n",
       "      <td>Security-Lock up Patrol</td>\n",
       "      <td>NaN</td>\n",
       "      <td>NaN</td>\n",
       "    </tr>\n",
       "  </tbody>\n",
       "</table>\n",
       "</div>"
      ],
      "text/plain": [
       "                                        title  payRate  \\\n",
       "6                           Systems Developer    12.00   \n",
       "7                 Reports and Systems Analyst    12.00   \n",
       "70                Health Center Lab Assistant    11.50   \n",
       "18                          Phones Specialist    10.38   \n",
       "42                             Clinician Aide    10.15   \n",
       "20                 Food Services Student Jobs    10.00   \n",
       "40                      Assessment Consultant    10.00   \n",
       "19                            Grounds Crew 12     9.58   \n",
       "32                             Grounds Crew 6     9.58   \n",
       "33                            Grounds Crew 11     9.58   \n",
       "38                            Grounds Crew 16     9.58   \n",
       "72                             Grounds Crew 5     9.58   \n",
       "11                             Grounds Crew 8     9.58   \n",
       "45                             Grounds Crew 2     9.58   \n",
       "48                            Grounds Crew 13     9.58   \n",
       "49                     Hard Floor Team Member     9.58   \n",
       "56                             Grounds Crew 6     9.58   \n",
       "60                             Grounds Crew 5     9.58   \n",
       "61                             Grounds Crew 9     9.58   \n",
       "41                    Security-Lock up Patrol     9.50   \n",
       "76     Assistant Music Producer (Music Dept.)     9.35   \n",
       "8                   Chemistry Lab Coordinator      NaN   \n",
       "9                             Project Manager      NaN   \n",
       "34   Recording/Post Audio Engineering Student      NaN   \n",
       "36                          Campus Tour Guide      NaN   \n",
       "62                    IT Service Desk Analyst      NaN   \n",
       "69  A/V & Broadcast Productions Lighting Crew      NaN   \n",
       "90                    Security-Lock up Patrol      NaN   \n",
       "\n",
       "                                         workSchedule  \n",
       "6                                        Flexible M-F  \n",
       "7                                          M-F Varies  \n",
       "70                                                NaN  \n",
       "18                                   4pm-6pm, 5pm-8pm  \n",
       "42                                            M-F TBD  \n",
       "20                              Many Shifts Available  \n",
       "40                                           Flexible  \n",
       "19                                     8:00AM-12:00PM  \n",
       "32                   1:00PM to 5:00 PM, Monday-Friday  \n",
       "33                                                NaN  \n",
       "38                                                NaN  \n",
       "72   6:00am-12:00pm, 1:00pm-3:00pm Monday thru Friday  \n",
       "11                                                NaN  \n",
       "45                                   6-10AM or 10-2PM  \n",
       "48                                                NaN  \n",
       "49                            Monday-Friday, 8PM-11PM  \n",
       "56                           8 AM-Noon, Monday-Friday  \n",
       "60                                                NaN  \n",
       "61                                3-4 hours block M-F  \n",
       "41                                    evenings/nights  \n",
       "76  Apprx. 40 hr/week depending on event/productio...  \n",
       "8                                 Evenings 5-7pm, M-F  \n",
       "9                                                 NaN  \n",
       "34                                                NaN  \n",
       "36                                                     \n",
       "62                                                NaN  \n",
       "69                                                NaN  \n",
       "90                                                NaN  "
      ]
     },
     "execution_count": 5,
     "metadata": {},
     "output_type": "execute_result"
    }
   ],
   "source": [
    "print(f'''There are {data[~data.title.str.contains('TA|Custodian|Online')].shape[0]} jobs that are not Online, TA, not custodial''')\n",
    "\n",
    "data[~data.title.str.contains('TA|Custodian|Online')].sort_values('payRate', ascending=False)[['title','payRate','workSchedule']]"
   ]
  },
  {
   "cell_type": "code",
   "execution_count": null,
   "metadata": {},
   "outputs": [],
   "source": [
    "data.dateUpdated = data.dateUpdated.dt.time"
   ]
  },
  {
   "cell_type": "code",
   "execution_count": null,
   "metadata": {},
   "outputs": [],
   "source": [
    "data.set_index('dateUpdated').plot()"
   ]
  },
  {
   "cell_type": "code",
   "execution_count": null,
   "metadata": {},
   "outputs": [],
   "source": [
    "data[data.payRate == data.payRate.max()]"
   ]
  },
  {
   "cell_type": "code",
   "execution_count": null,
   "metadata": {},
   "outputs": [],
   "source": [
    "data.sort_values('payRate',ascending=False).head(3)"
   ]
  },
  {
   "cell_type": "code",
   "execution_count": null,
   "metadata": {},
   "outputs": [],
   "source": [
    "data['payRate'].iloc[0]"
   ]
  },
  {
   "cell_type": "markdown",
   "metadata": {},
   "source": [
    "# TESTING AREA"
   ]
  },
  {
   "cell_type": "code",
   "execution_count": 12,
   "metadata": {},
   "outputs": [],
   "source": [
    "import seaborn as sns"
   ]
  },
  {
   "cell_type": "code",
   "execution_count": 35,
   "metadata": {},
   "outputs": [
    {
     "name": "stderr",
     "output_type": "stream",
     "text": [
      "/Library/Frameworks/Python.framework/Versions/3.9/lib/python3.9/site-packages/seaborn/distributions.py:1657: FutureWarning: The `bw` parameter is deprecated in favor of `bw_method` and `bw_adjust`. Using 0.94 for `bw_method`, but please see the docs for the new parameters and update your code.\n",
      "  warnings.warn(msg, FutureWarning)\n"
     ]
    },
    {
     "data": {
      "text/plain": [
       "<AxesSubplot:xlabel='payRate', ylabel='Density'>"
      ]
     },
     "execution_count": 35,
     "metadata": {},
     "output_type": "execute_result"
    },
    {
     "data": {
      "image/png": "[encoded data removed]",
      "text/plain": [
       "<Figure size 432x288 with 1 Axes>"
      ]
     },
     "metadata": {
      "needs_background": "light"
     },
     "output_type": "display_data"
    }
   ],
   "source": [
    "sns.kdeplot(data.payRate, shade=True, color=\"g\", bw=0.94, alpha=0.5, cut=0)"
   ]
  },
  {
   "cell_type": "code",
   "execution_count": null,
   "metadata": {},
   "outputs": [
    {
     "name": "stderr",
     "output_type": "stream",
     "text": [
      "/Library/Frameworks/Python.framework/Versions/3.9/lib/python3.9/site-packages/seaborn/distributions.py:1657: FutureWarning: The `bw` parameter is deprecated in favor of `bw_method` and `bw_adjust`. Using 0.75 for `bw_method`, but please see the docs for the new parameters and update your code.\n",
      "  warnings.warn(msg, FutureWarning)\n"
     ]
    },
    {
     "data": {
      "text/plain": [
       "<AxesSubplot:xlabel='payRate', ylabel='Density'>"
      ]
     },
     "metadata": {},
     "output_type": "display_data"
    },
    {
     "data": {
      "image/png": "[encoded data removed]",
      "text/plain": [
       "<Figure size 432x288 with 1 Axes>"
      ]
     },
     "metadata": {},
     "output_type": "display_data"
    }
   ],
   "source": [
    "sns.kdeplot(data.payRate, shade=True, color=\"g\", bw=0.75)"
   ]
  },
  {
   "cell_type": "code",
   "execution_count": 25,
   "metadata": {},
   "outputs": [
    {
     "name": "stderr",
     "output_type": "stream",
     "text": [
      "/Library/Frameworks/Python.framework/Versions/3.9/lib/python3.9/site-packages/seaborn/distributions.py:1657: FutureWarning: The `bw` parameter is deprecated in favor of `bw_method` and `bw_adjust`. Using 0.3 for `bw_method`, but please see the docs for the new parameters and update your code.\n",
      "  warnings.warn(msg, FutureWarning)\n"
     ]
    },
    {
     "data": {
      "text/plain": [
       "<AxesSubplot:xlabel='payRate', ylabel='Density'>"
      ]
     },
     "execution_count": 25,
     "metadata": {},
     "output_type": "execute_result"
    },
    {
     "data": {
      "image/png": "[encoded data removed]",
      "text/plain": [
       "<Figure size 432x288 with 1 Axes>"
      ]
     },
     "metadata": {
      "needs_background": "light"
     },
     "output_type": "display_data"
    }
   ],
   "source": [
    "sns.kdeplot(data.payRate, shade=True, color=\"g\", bw=0.3)"
   ]
  },
  {
   "cell_type": "code",
   "execution_count": 11,
   "metadata": {},
   "outputs": [
    {
     "data": {
      "text/plain": [
       "10.00    29\n",
       "9.58     12\n",
       "10.25     2\n",
       "12.00     2\n",
       "9.35      2\n",
       "10.90     2\n",
       "9.60      1\n",
       "10.70     1\n",
       "11.90     1\n",
       "9.50      1\n",
       "9.75      1\n",
       "Name: payRate, dtype: int64"
      ]
     },
     "execution_count": 11,
     "metadata": {},
     "output_type": "execute_result"
    }
   ],
   "source": [
    "data[~data.payRate.isna()].payRate.value_counts()"
   ]
  },
  {
   "cell_type": "code",
   "execution_count": 48,
   "metadata": {},
   "outputs": [
    {
     "data": {
      "text/plain": [
       "'TA|Custodian|Online|Grounds'"
      ]
     },
     "execution_count": 48,
     "metadata": {},
     "output_type": "execute_result"
    }
   ],
   "source": [
    "jobs_to_remove = ['TA','Custodian','Online|Grounds']\n",
    "jobs_to_remove_str = '|'.join(jobs_to_remove)\n",
    "jobs_to_remove_str"
   ]
  },
  {
   "cell_type": "code",
   "execution_count": 57,
   "metadata": {},
   "outputs": [],
   "source": [
    "data[~data.title.str.contains(jobs_to_remove_str)].sort_values('payRate', ascending=False)[['title','payRate','workSchedule']].to_csv('Karadepo.csv')"
   ]
  },
  {
   "cell_type": "code",
   "execution_count": 63,
   "metadata": {},
   "outputs": [],
   "source": [
    "x=\"\"\"import requests\n",
    "import pandas as pd\n",
    "from datetime import datetime, timedelta\n",
    "\n",
    "response = requests.get('https://web.byui.edu/studentemployment/api/jobs')\n",
    "\n",
    "data_json = response.json()\n",
    "\n",
    "data = pd.DataFrame(data_json)\n",
    "\n",
    "col_dates = ['dateUpdated','startDate','endDate','beginningDate','recruitingStartDate']\n",
    "\n",
    "data[col_dates] = data[col_dates].astype('datetime64[ns]')\n",
    "\n",
    "data.dateUpdated = data.dateUpdated.apply(lambda x: datetime.strftime(x, \"%Y-%m-%d\"))\n",
    "\n",
    "data['URL'] = data.jobID.apply(lambda x: f'https://web.byui.edu/StudentEmployment/job/{x}')\n",
    "\n",
    "columns_to_drop = [\n",
    "    'jobID', # not needed for EDA\n",
    "    'description', # not needed for EDA\n",
    "    'summary', # not needed for EDA\n",
    "    'displayJob', # single boolean\n",
    "    # 'dateUpdated', # not needed for display\n",
    "    # 'startDate',\n",
    "    # 'endDate', # not needed for display\n",
    "    'approximateHoursPerWeek', # not consistent\n",
    "    'positionsAllocated', # not relevant\n",
    "    'positionsAvailble', # not relevant\n",
    "    # 'workSchedule', # not needed for EDA\n",
    "    # 'recruitingStartDate', # not relevant\n",
    "    'requireResume', # not relevant\n",
    "    'limitApplicants', # not relevant\n",
    "    'limitNumber', # not relevant\n",
    "    'applicants', # empty\n",
    "    'jobQuestions', # empty\n",
    "    'isOnline', # not accurate\n",
    "    'allowOnline', # not accurate\n",
    "    'jobMajors' # not relevant\n",
    "    ]\n",
    "\n",
    "data.drop(columns_to_drop, axis=1, inplace=True)\"\"\""
   ]
  },
  {
   "cell_type": "code",
   "execution_count": 61,
   "metadata": {},
   "outputs": [],
   "source": [
    "data[~data.title.str.contains(jobs_to_remove_str)].sort_values('payRate', ascending=False)[['title','payRate','workSchedule','URL']].to_csv('Karadepo.csv')"
   ]
  },
  {
   "cell_type": "code",
   "execution_count": 79,
   "metadata": {},
   "outputs": [
    {
     "data": {
      "text/plain": [
       "'import requests\\nimport pandas as pd\\nfrom datetime import datetime, timedelta\\n\\nresponse = requests.get(\\'https://web.byui.edu/studentemployment/api/jobs\\')\\n\\ndata_json = response.json()\\n\\ndata = pd.DataFrame(data_json)\\n\\ncol_dates = [\\'dateUpdated\\',\\'startDate\\',\\'endDate\\',\\'beginningDate\\',\\'recruitingStartDate\\']\\n\\ndata[col_dates] = data[col_dates].astype(\\'datetime64[ns]\\')\\n\\ndata.dateUpdated = data.dateUpdated.apply(lambda x: datetime.strftime(x, \"%Y-%m-%d\"))\\n\\ndata[\\'URL\\'] = data.jobID.apply(lambda x: f\\'https://web.byui.edu/StudentEmployment/job/{x}\\')\\n\\ncolumns_to_drop = [\\n    \\'jobID\\', # not needed for EDA\\n    \\'description\\', # not needed for EDA\\n    \\'summary\\', # not needed for EDA\\n    \\'displayJob\\', # single boolean\\n    # \\'dateUpdated\\', # not needed for display\\n    # \\'startDate\\',\\n    # \\'endDate\\', # not needed for display\\n    \\'approximateHoursPerWeek\\', # not consistent\\n    \\'positionsAllocated\\', # not relevant\\n    \\'positionsAvailble\\', # not relevant\\n    # \\'workSchedule\\', # not needed for EDA\\n    # \\'recruitingStartDate\\', # not relevant\\n    \\'requireResume\\', # not relevant\\n    \\'limitApplicants\\', # not relevant\\n    \\'limitNumber\\', # not relevant\\n    \\'applicants\\', # empty\\n    \\'jobQuestions\\', # empty\\n    \\'isOnline\\', # not accurate\\n    \\'allowOnline\\', # not accurate\\n    \\'jobMajors\\' # not relevant\\n    ]\\n\\ndata.drop(columns_to_drop, axis=1, inplace=True)'"
      ]
     },
     "execution_count": 79,
     "metadata": {},
     "output_type": "execute_result"
    }
   ],
   "source": [
    "import time\n",
    "\n",
    "code=[]\n",
    "\n",
    "for i in x.split(' '):\n",
    "    code.append(i)\n",
    "    \n",
    "\n",
    "' '.join(code)"
   ]
  },
  {
   "cell_type": "code",
   "execution_count": 84,
   "metadata": {},
   "outputs": [
    {
     "data": {
      "text/plain": [
       "'Tom, Seb, Taylor'"
      ]
     },
     "execution_count": 84,
     "metadata": {},
     "output_type": "execute_result"
    }
   ],
   "source": [
    "', '.join(['Tom','Seb','Taylor'])"
   ]
  },
  {
   "cell_type": "code",
   "execution_count": 98,
   "metadata": {},
   "outputs": [
    {
     "name": "stdout",
     "output_type": "stream",
     "text": [
      "Reports and Systems Analyst\n",
      "BYU Idaho Support Center\n",
      "12.0\n",
      "M-F Varies\n",
      "https://web.byui.edu/StudentEmployment/job/1187288\n",
      "Reports and Systems Analyst\n",
      "BYU Idaho Support Center\n",
      "12.0\n",
      "M-F Varies\n",
      "https://web.byui.edu/StudentEmployment/job/1187288\n"
     ]
    }
   ],
   "source": [
    "data_higher = data[data.payRate == data.payRate.max()]\n",
    "for e in range(data_higher.shape[0]):\n",
    "    print(data_higher.title.iloc[0])\n",
    "    print(data_higher.departmentName.iloc[0])\n",
    "    print(data_higher.payRate.iloc[0])\n",
    "    print(data_higher.workSchedule.iloc[0])\n",
    "    print(data_higher.URL.iloc[0])"
   ]
  },
  {
   "cell_type": "code",
   "execution_count": 4,
   "metadata": {},
   "outputs": [
    {
     "data": {
      "text/plain": [
       "Index(['jobID', 'title', 'departmentName', 'description', 'summary',\n",
       "       'displayJob', 'dateUpdated', 'startDate', 'endDate', 'managerName',\n",
       "       'approximateHoursPerWeek', 'payRate', 'positionsAllocated',\n",
       "       'positionsAvailble', 'workSchedule', 'beginningDate',\n",
       "       'recruitingStartDate', 'requireResume', 'limitApplicants',\n",
       "       'limitNumber', 'applicants', 'jobQuestions', 'isOnline', 'allowOnline',\n",
       "       'jobMajors'],\n",
       "      dtype='object')"
      ]
     },
     "execution_count": 4,
     "metadata": {},
     "output_type": "execute_result"
    }
   ],
   "source": [
    "data.columns"
   ]
  },
  {
   "cell_type": "code",
   "execution_count": 5,
   "metadata": {},
   "outputs": [
    {
     "data": {
      "text/plain": [
       "28"
      ]
     },
     "execution_count": 5,
     "metadata": {},
     "output_type": "execute_result"
    }
   ],
   "source": [
    "data.departmentName.nunique()"
   ]
  },
  {
   "cell_type": "code",
   "execution_count": null,
   "metadata": {},
   "outputs": [],
   "source": []
  }
 ],
 "metadata": {
  "kernelspec": {
   "display_name": "Python 3.9.0 64-bit",
   "language": "python",
   "name": "python3"
  },
  "language_info": {
   "codemirror_mode": {
    "name": "ipython",
    "version": 3
   },
   "file_extension": ".py",
   "mimetype": "text/x-python",
   "name": "python",
   "nbconvert_exporter": "python",
   "pygments_lexer": "ipython3",
   "version": "3.9.0"
  },
  "orig_nbformat": 4,
  "vscode": {
   "interpreter": {
    "hash": "397704579725e15f5c7cb49fe5f0341eb7531c82d19f2c29d197e8b64ab5776b"
   }
  }
 },
 "nbformat": 4,
 "nbformat_minor": 2
}
