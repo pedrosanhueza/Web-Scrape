{
 "cells": [
  {
   "cell_type": "code",
   "execution_count": 25,
   "metadata": {},
   "outputs": [],
   "source": [
    "import requests\n",
    "import pandas as pd\n",
    "import numpy as np"
   ]
  },
  {
   "cell_type": "code",
   "execution_count": 2,
   "metadata": {},
   "outputs": [],
   "source": [
    "response = requests.get('https://web.byui.edu/studentemployment/api/jobs')\n",
    "\n",
    "data_json = response.json()\n",
    "\n",
    "data = pd.DataFrame(data_json)"
   ]
  },
  {
   "cell_type": "code",
   "execution_count": 3,
   "metadata": {},
   "outputs": [],
   "source": [
    "pd.options.display.max_columns = None"
   ]
  },
  {
   "cell_type": "markdown",
   "metadata": {},
   "source": [
    "## Top 5 highest paid jobs"
   ]
  },
  {
   "cell_type": "code",
   "execution_count": 9,
   "metadata": {},
   "outputs": [
    {
     "data": {
      "text/html": [
       "<div>\n",
       "<style scoped>\n",
       "    .dataframe tbody tr th:only-of-type {\n",
       "        vertical-align: middle;\n",
       "    }\n",
       "\n",
       "    .dataframe tbody tr th {\n",
       "        vertical-align: top;\n",
       "    }\n",
       "\n",
       "    .dataframe thead th {\n",
       "        text-align: right;\n",
       "    }\n",
       "</style>\n",
       "<table border=\"1\" class=\"dataframe\">\n",
       "  <thead>\n",
       "    <tr style=\"text-align: right;\">\n",
       "      <th></th>\n",
       "      <th>title</th>\n",
       "      <th>payRate</th>\n",
       "      <th>workSchedule</th>\n",
       "    </tr>\n",
       "  </thead>\n",
       "  <tbody>\n",
       "    <tr>\n",
       "      <th>17</th>\n",
       "      <td>CIT Intern</td>\n",
       "      <td>12.5</td>\n",
       "      <td>Full-time</td>\n",
       "    </tr>\n",
       "    <tr>\n",
       "      <th>18</th>\n",
       "      <td>WDD Intern</td>\n",
       "      <td>12.5</td>\n",
       "      <td>Full-time</td>\n",
       "    </tr>\n",
       "    <tr>\n",
       "      <th>24</th>\n",
       "      <td>Reports and Systems Analyst</td>\n",
       "      <td>12.0</td>\n",
       "      <td>M-F Varies</td>\n",
       "    </tr>\n",
       "    <tr>\n",
       "      <th>35</th>\n",
       "      <td>Systems Developer</td>\n",
       "      <td>12.0</td>\n",
       "      <td>Flexible M-F</td>\n",
       "    </tr>\n",
       "    <tr>\n",
       "      <th>42</th>\n",
       "      <td>Advertising and Marketing Assistant</td>\n",
       "      <td>11.9</td>\n",
       "      <td>M-F:  8am-12pm or 1pm-5pm</td>\n",
       "    </tr>\n",
       "  </tbody>\n",
       "</table>\n",
       "</div>"
      ],
      "text/plain": [
       "                                  title  payRate               workSchedule\n",
       "17                           CIT Intern     12.5                  Full-time\n",
       "18                           WDD Intern     12.5                  Full-time\n",
       "24          Reports and Systems Analyst     12.0                 M-F Varies\n",
       "35                    Systems Developer     12.0               Flexible M-F\n",
       "42  Advertising and Marketing Assistant     11.9  M-F:  8am-12pm or 1pm-5pm"
      ]
     },
     "execution_count": 9,
     "metadata": {},
     "output_type": "execute_result"
    }
   ],
   "source": [
    "data.sort_values('payRate', ascending=False).head(5)[['title','payRate','workSchedule']]"
   ]
  },
  {
   "cell_type": "markdown",
   "metadata": {},
   "source": [
    "## All Jobs that are not 'Online','TA', and 'Custodial'"
   ]
  },
  {
   "cell_type": "code",
   "execution_count": 10,
   "metadata": {},
   "outputs": [
    {
     "name": "stdout",
     "output_type": "stream",
     "text": [
      "There are 38 jobs that are not Online, TA, not custodial\n"
     ]
    },
    {
     "data": {
      "text/html": [
       "<div>\n",
       "<style scoped>\n",
       "    .dataframe tbody tr th:only-of-type {\n",
       "        vertical-align: middle;\n",
       "    }\n",
       "\n",
       "    .dataframe tbody tr th {\n",
       "        vertical-align: top;\n",
       "    }\n",
       "\n",
       "    .dataframe thead th {\n",
       "        text-align: right;\n",
       "    }\n",
       "</style>\n",
       "<table border=\"1\" class=\"dataframe\">\n",
       "  <thead>\n",
       "    <tr style=\"text-align: right;\">\n",
       "      <th></th>\n",
       "      <th>title</th>\n",
       "      <th>payRate</th>\n",
       "      <th>workSchedule</th>\n",
       "    </tr>\n",
       "  </thead>\n",
       "  <tbody>\n",
       "    <tr>\n",
       "      <th>17</th>\n",
       "      <td>CIT Intern</td>\n",
       "      <td>12.50</td>\n",
       "      <td>Full-time</td>\n",
       "    </tr>\n",
       "    <tr>\n",
       "      <th>18</th>\n",
       "      <td>WDD Intern</td>\n",
       "      <td>12.50</td>\n",
       "      <td>Full-time</td>\n",
       "    </tr>\n",
       "    <tr>\n",
       "      <th>24</th>\n",
       "      <td>Reports and Systems Analyst</td>\n",
       "      <td>12.00</td>\n",
       "      <td>M-F Varies</td>\n",
       "    </tr>\n",
       "    <tr>\n",
       "      <th>35</th>\n",
       "      <td>Systems Developer</td>\n",
       "      <td>12.00</td>\n",
       "      <td>Flexible M-F</td>\n",
       "    </tr>\n",
       "    <tr>\n",
       "      <th>42</th>\n",
       "      <td>Advertising and Marketing Assistant</td>\n",
       "      <td>11.90</td>\n",
       "      <td>M-F:  8am-12pm or 1pm-5pm</td>\n",
       "    </tr>\n",
       "    <tr>\n",
       "      <th>40</th>\n",
       "      <td>Graduation Planning Support Specialist</td>\n",
       "      <td>10.70</td>\n",
       "      <td>2-5 PM</td>\n",
       "    </tr>\n",
       "    <tr>\n",
       "      <th>3</th>\n",
       "      <td>Clinician Aide</td>\n",
       "      <td>10.15</td>\n",
       "      <td>M-F TBD</td>\n",
       "    </tr>\n",
       "    <tr>\n",
       "      <th>26</th>\n",
       "      <td>Mac Lab Assistant/Graphic Designer</td>\n",
       "      <td>10.00</td>\n",
       "      <td>NaN</td>\n",
       "    </tr>\n",
       "    <tr>\n",
       "      <th>25</th>\n",
       "      <td>Mac Lab Assistant/3D Printer Technician</td>\n",
       "      <td>10.00</td>\n",
       "      <td>NaN</td>\n",
       "    </tr>\n",
       "    <tr>\n",
       "      <th>20</th>\n",
       "      <td>Food Services Student Jobs</td>\n",
       "      <td>10.00</td>\n",
       "      <td>11:00 am - 2:30 pm M-F</td>\n",
       "    </tr>\n",
       "    <tr>\n",
       "      <th>23</th>\n",
       "      <td>International Services Personnel (Receptionist...</td>\n",
       "      <td>10.00</td>\n",
       "      <td>Mon-Fri 8-11 am, 11am-2pm, or 2-5 pm</td>\n",
       "    </tr>\n",
       "    <tr>\n",
       "      <th>13</th>\n",
       "      <td>Medical Receptionist</td>\n",
       "      <td>10.00</td>\n",
       "      <td>NaN</td>\n",
       "    </tr>\n",
       "    <tr>\n",
       "      <th>6</th>\n",
       "      <td>Food Services Student Jobs</td>\n",
       "      <td>10.00</td>\n",
       "      <td>Kitchen Prep: M, W, F 10:30 am - 2:30 pm + Sat...</td>\n",
       "    </tr>\n",
       "    <tr>\n",
       "      <th>30</th>\n",
       "      <td>Student Project Manager - Production</td>\n",
       "      <td>10.00</td>\n",
       "      <td>Varies</td>\n",
       "    </tr>\n",
       "    <tr>\n",
       "      <th>64</th>\n",
       "      <td>Closed Captioning Specialist</td>\n",
       "      <td>9.75</td>\n",
       "      <td>Flexible</td>\n",
       "    </tr>\n",
       "    <tr>\n",
       "      <th>22</th>\n",
       "      <td>Painter</td>\n",
       "      <td>9.60</td>\n",
       "      <td></td>\n",
       "    </tr>\n",
       "    <tr>\n",
       "      <th>56</th>\n",
       "      <td>Grounds Crew 5</td>\n",
       "      <td>9.58</td>\n",
       "      <td>NaN</td>\n",
       "    </tr>\n",
       "    <tr>\n",
       "      <th>63</th>\n",
       "      <td>Grounds Crew 6</td>\n",
       "      <td>9.58</td>\n",
       "      <td>8 AM-Noon, Monday-Friday</td>\n",
       "    </tr>\n",
       "    <tr>\n",
       "      <th>66</th>\n",
       "      <td>Grounds Crew 9</td>\n",
       "      <td>9.58</td>\n",
       "      <td>NaN</td>\n",
       "    </tr>\n",
       "    <tr>\n",
       "      <th>1</th>\n",
       "      <td>Grounds Crew 8</td>\n",
       "      <td>9.58</td>\n",
       "      <td>NaN</td>\n",
       "    </tr>\n",
       "    <tr>\n",
       "      <th>2</th>\n",
       "      <td>Custodial Repair Assistant</td>\n",
       "      <td>9.58</td>\n",
       "      <td>9:00 a.m. to 12:00 a.m., M-F</td>\n",
       "    </tr>\n",
       "    <tr>\n",
       "      <th>19</th>\n",
       "      <td>Grounds Crew 16</td>\n",
       "      <td>9.58</td>\n",
       "      <td>NaN</td>\n",
       "    </tr>\n",
       "    <tr>\n",
       "      <th>16</th>\n",
       "      <td>Grounds Crew 6</td>\n",
       "      <td>9.58</td>\n",
       "      <td>1:00PM to 5:00 PM, Monday-Friday</td>\n",
       "    </tr>\n",
       "    <tr>\n",
       "      <th>12</th>\n",
       "      <td>Grounds Crew 10</td>\n",
       "      <td>9.58</td>\n",
       "      <td>7:00AM to 11:00 AM, Monday through Friday.</td>\n",
       "    </tr>\n",
       "    <tr>\n",
       "      <th>68</th>\n",
       "      <td>Grounds Crew 11</td>\n",
       "      <td>9.58</td>\n",
       "      <td>NaN</td>\n",
       "    </tr>\n",
       "    <tr>\n",
       "      <th>62</th>\n",
       "      <td>Security-Lock up Patrol</td>\n",
       "      <td>9.50</td>\n",
       "      <td>evenings/nights</td>\n",
       "    </tr>\n",
       "    <tr>\n",
       "      <th>11</th>\n",
       "      <td>Student Sound Tech</td>\n",
       "      <td>9.35</td>\n",
       "      <td></td>\n",
       "    </tr>\n",
       "    <tr>\n",
       "      <th>4</th>\n",
       "      <td>Library Aide - Public Services</td>\n",
       "      <td>9.35</td>\n",
       "      <td>To be determined--Fall Semester class schedule...</td>\n",
       "    </tr>\n",
       "    <tr>\n",
       "      <th>10</th>\n",
       "      <td>Recording/Post Audio Engineering Student</td>\n",
       "      <td>NaN</td>\n",
       "      <td>NaN</td>\n",
       "    </tr>\n",
       "    <tr>\n",
       "      <th>51</th>\n",
       "      <td>Student Assistant</td>\n",
       "      <td>NaN</td>\n",
       "      <td>NaN</td>\n",
       "    </tr>\n",
       "    <tr>\n",
       "      <th>52</th>\n",
       "      <td>Dump Truck Driver-Seasonal Snow Removal</td>\n",
       "      <td>NaN</td>\n",
       "      <td></td>\n",
       "    </tr>\n",
       "    <tr>\n",
       "      <th>53</th>\n",
       "      <td>1 Ton Plow Truck Driver-Seasonal Snow Removal</td>\n",
       "      <td>NaN</td>\n",
       "      <td>NaN</td>\n",
       "    </tr>\n",
       "    <tr>\n",
       "      <th>54</th>\n",
       "      <td>Snow Stacker Telehandler-Seasonal Snow Removal</td>\n",
       "      <td>NaN</td>\n",
       "      <td>NaN</td>\n",
       "    </tr>\n",
       "    <tr>\n",
       "      <th>55</th>\n",
       "      <td>Small Tractor Driver-Seasonal Snow Removal</td>\n",
       "      <td>NaN</td>\n",
       "      <td>NaN</td>\n",
       "    </tr>\n",
       "    <tr>\n",
       "      <th>58</th>\n",
       "      <td>GE 101:  Student Instructor</td>\n",
       "      <td>NaN</td>\n",
       "      <td>NaN</td>\n",
       "    </tr>\n",
       "    <tr>\n",
       "      <th>67</th>\n",
       "      <td>Project Manager</td>\n",
       "      <td>NaN</td>\n",
       "      <td>NaN</td>\n",
       "    </tr>\n",
       "    <tr>\n",
       "      <th>69</th>\n",
       "      <td>A/V &amp; Broadcast Productions Lighting Crew</td>\n",
       "      <td>NaN</td>\n",
       "      <td>NaN</td>\n",
       "    </tr>\n",
       "    <tr>\n",
       "      <th>70</th>\n",
       "      <td>Security-Lock up Patrol</td>\n",
       "      <td>NaN</td>\n",
       "      <td>NaN</td>\n",
       "    </tr>\n",
       "  </tbody>\n",
       "</table>\n",
       "</div>"
      ],
      "text/plain": [
       "                                                title  payRate  \\\n",
       "17                                         CIT Intern    12.50   \n",
       "18                                         WDD Intern    12.50   \n",
       "24                        Reports and Systems Analyst    12.00   \n",
       "35                                  Systems Developer    12.00   \n",
       "42                Advertising and Marketing Assistant    11.90   \n",
       "40             Graduation Planning Support Specialist    10.70   \n",
       "3                                      Clinician Aide    10.15   \n",
       "26                 Mac Lab Assistant/Graphic Designer    10.00   \n",
       "25            Mac Lab Assistant/3D Printer Technician    10.00   \n",
       "20                         Food Services Student Jobs    10.00   \n",
       "23  International Services Personnel (Receptionist...    10.00   \n",
       "13                               Medical Receptionist    10.00   \n",
       "6                          Food Services Student Jobs    10.00   \n",
       "30               Student Project Manager - Production    10.00   \n",
       "64                       Closed Captioning Specialist     9.75   \n",
       "22                                            Painter     9.60   \n",
       "56                                     Grounds Crew 5     9.58   \n",
       "63                                     Grounds Crew 6     9.58   \n",
       "66                                     Grounds Crew 9     9.58   \n",
       "1                                      Grounds Crew 8     9.58   \n",
       "2                          Custodial Repair Assistant     9.58   \n",
       "19                                    Grounds Crew 16     9.58   \n",
       "16                                     Grounds Crew 6     9.58   \n",
       "12                                    Grounds Crew 10     9.58   \n",
       "68                                    Grounds Crew 11     9.58   \n",
       "62                            Security-Lock up Patrol     9.50   \n",
       "11                                 Student Sound Tech     9.35   \n",
       "4                      Library Aide - Public Services     9.35   \n",
       "10           Recording/Post Audio Engineering Student      NaN   \n",
       "51                                  Student Assistant      NaN   \n",
       "52            Dump Truck Driver-Seasonal Snow Removal      NaN   \n",
       "53      1 Ton Plow Truck Driver-Seasonal Snow Removal      NaN   \n",
       "54     Snow Stacker Telehandler-Seasonal Snow Removal      NaN   \n",
       "55         Small Tractor Driver-Seasonal Snow Removal      NaN   \n",
       "58                        GE 101:  Student Instructor      NaN   \n",
       "67                                    Project Manager      NaN   \n",
       "69          A/V & Broadcast Productions Lighting Crew      NaN   \n",
       "70                            Security-Lock up Patrol      NaN   \n",
       "\n",
       "                                         workSchedule  \n",
       "17                                          Full-time  \n",
       "18                                          Full-time  \n",
       "24                                         M-F Varies  \n",
       "35                                       Flexible M-F  \n",
       "42                          M-F:  8am-12pm or 1pm-5pm  \n",
       "40                                             2-5 PM  \n",
       "3                                             M-F TBD  \n",
       "26                                                NaN  \n",
       "25                                                NaN  \n",
       "20                             11:00 am - 2:30 pm M-F  \n",
       "23               Mon-Fri 8-11 am, 11am-2pm, or 2-5 pm  \n",
       "13                                                NaN  \n",
       "6   Kitchen Prep: M, W, F 10:30 am - 2:30 pm + Sat...  \n",
       "30                                             Varies  \n",
       "64                                           Flexible  \n",
       "22                                                     \n",
       "56                                                NaN  \n",
       "63                           8 AM-Noon, Monday-Friday  \n",
       "66                                                NaN  \n",
       "1                                                 NaN  \n",
       "2                        9:00 a.m. to 12:00 a.m., M-F  \n",
       "19                                                NaN  \n",
       "16                   1:00PM to 5:00 PM, Monday-Friday  \n",
       "12         7:00AM to 11:00 AM, Monday through Friday.  \n",
       "68                                                NaN  \n",
       "62                                    evenings/nights  \n",
       "11                                                     \n",
       "4   To be determined--Fall Semester class schedule...  \n",
       "10                                                NaN  \n",
       "51                                                NaN  \n",
       "52                                                     \n",
       "53                                                NaN  \n",
       "54                                                NaN  \n",
       "55                                                NaN  \n",
       "58                                                NaN  \n",
       "67                                                NaN  \n",
       "69                                                NaN  \n",
       "70                                                NaN  "
      ]
     },
     "execution_count": 10,
     "metadata": {},
     "output_type": "execute_result"
    }
   ],
   "source": [
    "print(f'''There are {data[~data.title.str.contains('TA|Custodian|Online')].shape[0]} jobs that are not Online, TA, not custodial''')\n",
    "\n",
    "data[~data.title.str.contains('TA|Custodian|Online')].sort_values('payRate', ascending=False)[['title','payRate','workSchedule']]"
   ]
  },
  {
   "cell_type": "code",
   "execution_count": 11,
   "metadata": {},
   "outputs": [
    {
     "ename": "AttributeError",
     "evalue": "Can only use .dt accessor with datetimelike values",
     "output_type": "error",
     "traceback": [
      "\u001b[0;31m---------------------------------------------------------------------------\u001b[0m",
      "\u001b[0;31mAttributeError\u001b[0m                            Traceback (most recent call last)",
      "\u001b[0;32m<ipython-input-11-5f9c06a11a07>\u001b[0m in \u001b[0;36m<module>\u001b[0;34m\u001b[0m\n\u001b[0;32m----> 1\u001b[0;31m \u001b[0mdata\u001b[0m\u001b[0;34m.\u001b[0m\u001b[0mdateUpdated\u001b[0m \u001b[0;34m=\u001b[0m \u001b[0mdata\u001b[0m\u001b[0;34m.\u001b[0m\u001b[0mdateUpdated\u001b[0m\u001b[0;34m.\u001b[0m\u001b[0mdt\u001b[0m\u001b[0;34m.\u001b[0m\u001b[0mtime\u001b[0m\u001b[0;34m\u001b[0m\u001b[0;34m\u001b[0m\u001b[0m\n\u001b[0m",
      "\u001b[0;32m~/Library/Python/3.9/lib/python/site-packages/pandas/core/generic.py\u001b[0m in \u001b[0;36m__getattr__\u001b[0;34m(self, name)\u001b[0m\n\u001b[1;32m   5905\u001b[0m         ):\n\u001b[1;32m   5906\u001b[0m             \u001b[0;32mreturn\u001b[0m \u001b[0mself\u001b[0m\u001b[0;34m[\u001b[0m\u001b[0mname\u001b[0m\u001b[0;34m]\u001b[0m\u001b[0;34m\u001b[0m\u001b[0;34m\u001b[0m\u001b[0m\n\u001b[0;32m-> 5907\u001b[0;31m         \u001b[0;32mreturn\u001b[0m \u001b[0mobject\u001b[0m\u001b[0;34m.\u001b[0m\u001b[0m__getattribute__\u001b[0m\u001b[0;34m(\u001b[0m\u001b[0mself\u001b[0m\u001b[0;34m,\u001b[0m \u001b[0mname\u001b[0m\u001b[0;34m)\u001b[0m\u001b[0;34m\u001b[0m\u001b[0;34m\u001b[0m\u001b[0m\n\u001b[0m\u001b[1;32m   5908\u001b[0m \u001b[0;34m\u001b[0m\u001b[0m\n\u001b[1;32m   5909\u001b[0m     \u001b[0;32mdef\u001b[0m \u001b[0m__setattr__\u001b[0m\u001b[0;34m(\u001b[0m\u001b[0mself\u001b[0m\u001b[0;34m,\u001b[0m \u001b[0mname\u001b[0m\u001b[0;34m:\u001b[0m \u001b[0mstr\u001b[0m\u001b[0;34m,\u001b[0m \u001b[0mvalue\u001b[0m\u001b[0;34m)\u001b[0m \u001b[0;34m->\u001b[0m \u001b[0;32mNone\u001b[0m\u001b[0;34m:\u001b[0m\u001b[0;34m\u001b[0m\u001b[0;34m\u001b[0m\u001b[0m\n",
      "\u001b[0;32m~/Library/Python/3.9/lib/python/site-packages/pandas/core/accessor.py\u001b[0m in \u001b[0;36m__get__\u001b[0;34m(self, obj, cls)\u001b[0m\n\u001b[1;32m    181\u001b[0m             \u001b[0;31m# we're accessing the attribute of the class, i.e., Dataset.geo\u001b[0m\u001b[0;34m\u001b[0m\u001b[0;34m\u001b[0m\u001b[0;34m\u001b[0m\u001b[0m\n\u001b[1;32m    182\u001b[0m             \u001b[0;32mreturn\u001b[0m \u001b[0mself\u001b[0m\u001b[0;34m.\u001b[0m\u001b[0m_accessor\u001b[0m\u001b[0;34m\u001b[0m\u001b[0;34m\u001b[0m\u001b[0m\n\u001b[0;32m--> 183\u001b[0;31m         \u001b[0maccessor_obj\u001b[0m \u001b[0;34m=\u001b[0m \u001b[0mself\u001b[0m\u001b[0;34m.\u001b[0m\u001b[0m_accessor\u001b[0m\u001b[0;34m(\u001b[0m\u001b[0mobj\u001b[0m\u001b[0;34m)\u001b[0m\u001b[0;34m\u001b[0m\u001b[0;34m\u001b[0m\u001b[0m\n\u001b[0m\u001b[1;32m    184\u001b[0m         \u001b[0;31m# Replace the property with the accessor object. Inspired by:\u001b[0m\u001b[0;34m\u001b[0m\u001b[0;34m\u001b[0m\u001b[0;34m\u001b[0m\u001b[0m\n\u001b[1;32m    185\u001b[0m         \u001b[0;31m# https://www.pydanny.com/cached-property.html\u001b[0m\u001b[0;34m\u001b[0m\u001b[0;34m\u001b[0m\u001b[0;34m\u001b[0m\u001b[0m\n",
      "\u001b[0;32m~/Library/Python/3.9/lib/python/site-packages/pandas/core/indexes/accessors.py\u001b[0m in \u001b[0;36m__new__\u001b[0;34m(cls, data)\u001b[0m\n\u001b[1;32m    511\u001b[0m             \u001b[0;32mreturn\u001b[0m \u001b[0mPeriodProperties\u001b[0m\u001b[0;34m(\u001b[0m\u001b[0mdata\u001b[0m\u001b[0;34m,\u001b[0m \u001b[0morig\u001b[0m\u001b[0;34m)\u001b[0m\u001b[0;34m\u001b[0m\u001b[0;34m\u001b[0m\u001b[0m\n\u001b[1;32m    512\u001b[0m \u001b[0;34m\u001b[0m\u001b[0m\n\u001b[0;32m--> 513\u001b[0;31m         \u001b[0;32mraise\u001b[0m \u001b[0mAttributeError\u001b[0m\u001b[0;34m(\u001b[0m\u001b[0;34m\"Can only use .dt accessor with datetimelike values\"\u001b[0m\u001b[0;34m)\u001b[0m\u001b[0;34m\u001b[0m\u001b[0;34m\u001b[0m\u001b[0m\n\u001b[0m",
      "\u001b[0;31mAttributeError\u001b[0m: Can only use .dt accessor with datetimelike values"
     ]
    }
   ],
   "source": [
    "data.dateUpdated = data.dateUpdated.dt.time"
   ]
  },
  {
   "cell_type": "code",
   "execution_count": null,
   "metadata": {},
   "outputs": [],
   "source": [
    "data.set_index('dateUpdated').plot()"
   ]
  },
  {
   "cell_type": "code",
   "execution_count": null,
   "metadata": {},
   "outputs": [],
   "source": [
    "data[data.payRate == data.payRate.max()]"
   ]
  },
  {
   "cell_type": "code",
   "execution_count": null,
   "metadata": {},
   "outputs": [],
   "source": [
    "data.sort_values('payRate',ascending=False).head(3)"
   ]
  },
  {
   "cell_type": "code",
   "execution_count": null,
   "metadata": {},
   "outputs": [],
   "source": [
    "data['payRate'].iloc[0]"
   ]
  },
  {
   "cell_type": "markdown",
   "metadata": {},
   "source": [
    "# TESTING AREA"
   ]
  },
  {
   "cell_type": "code",
   "execution_count": null,
   "metadata": {},
   "outputs": [],
   "source": [
    "import seaborn as sns"
   ]
  },
  {
   "cell_type": "code",
   "execution_count": null,
   "metadata": {},
   "outputs": [],
   "source": [
    "sns.kdeplot(data.payRate, shade=True, color=\"g\", bw=0.94, alpha=0.5, cut=0)"
   ]
  },
  {
   "cell_type": "code",
   "execution_count": null,
   "metadata": {},
   "outputs": [],
   "source": [
    "sns.kdeplot(data.payRate, shade=True, color=\"g\", bw=0.75)"
   ]
  },
  {
   "cell_type": "code",
   "execution_count": null,
   "metadata": {},
   "outputs": [],
   "source": [
    "sns.kdeplot(data.payRate, shade=True, color=\"g\", bw=0.3)"
   ]
  },
  {
   "cell_type": "code",
   "execution_count": null,
   "metadata": {},
   "outputs": [],
   "source": [
    "data[~data.payRate.isna()].payRate.value_counts()"
   ]
  },
  {
   "cell_type": "code",
   "execution_count": null,
   "metadata": {},
   "outputs": [],
   "source": [
    "jobs_to_remove = ['TA','Custodian','Online|Grounds']\n",
    "jobs_to_remove_str = '|'.join(jobs_to_remove)\n",
    "jobs_to_remove_str"
   ]
  },
  {
   "cell_type": "code",
   "execution_count": null,
   "metadata": {},
   "outputs": [],
   "source": [
    "data[~data.title.str.contains(jobs_to_remove_str)].sort_values('payRate', ascending=False)[['title','payRate','workSchedule']].to_csv('Karadepo.csv')"
   ]
  },
  {
   "cell_type": "code",
   "execution_count": null,
   "metadata": {},
   "outputs": [],
   "source": [
    "x=\"\"\"import requests\n",
    "import pandas as pd\n",
    "from datetime import datetime, timedelta\n",
    "\n",
    "response = requests.get('https://web.byui.edu/studentemployment/api/jobs')\n",
    "\n",
    "data_json = response.json()\n",
    "\n",
    "data = pd.DataFrame(data_json)\n",
    "\n",
    "col_dates = ['dateUpdated','startDate','endDate','beginningDate','recruitingStartDate']\n",
    "\n",
    "data[col_dates] = data[col_dates].astype('datetime64[ns]')\n",
    "\n",
    "data.dateUpdated = data.dateUpdated.apply(lambda x: datetime.strftime(x, \"%Y-%m-%d\"))\n",
    "\n",
    "data['URL'] = data.jobID.apply(lambda x: f'https://web.byui.edu/StudentEmployment/job/{x}')\n",
    "\n",
    "columns_to_drop = [\n",
    "    'jobID', # not needed for EDA\n",
    "    'description', # not needed for EDA\n",
    "    'summary', # not needed for EDA\n",
    "    'displayJob', # single boolean\n",
    "    # 'dateUpdated', # not needed for display\n",
    "    # 'startDate',\n",
    "    # 'endDate', # not needed for display\n",
    "    'approximateHoursPerWeek', # not consistent\n",
    "    'positionsAllocated', # not relevant\n",
    "    'positionsAvailble', # not relevant\n",
    "    # 'workSchedule', # not needed for EDA\n",
    "    # 'recruitingStartDate', # not relevant\n",
    "    'requireResume', # not relevant\n",
    "    'limitApplicants', # not relevant\n",
    "    'limitNumber', # not relevant\n",
    "    'applicants', # empty\n",
    "    'jobQuestions', # empty\n",
    "    'isOnline', # not accurate\n",
    "    'allowOnline', # not accurate\n",
    "    'jobMajors' # not relevant\n",
    "    ]\n",
    "\n",
    "data.drop(columns_to_drop, axis=1, inplace=True)\"\"\""
   ]
  },
  {
   "cell_type": "code",
   "execution_count": null,
   "metadata": {},
   "outputs": [],
   "source": [
    "data[~data.title.str.contains(jobs_to_remove_str)].sort_values('payRate', ascending=False)[['title','payRate','workSchedule','URL']].to_csv('Karadepo.csv')"
   ]
  },
  {
   "cell_type": "code",
   "execution_count": null,
   "metadata": {},
   "outputs": [],
   "source": [
    "import time\n",
    "\n",
    "code=[]\n",
    "\n",
    "for i in x.split(' '):\n",
    "    code.append(i)\n",
    "    \n",
    "\n",
    "' '.join(code)"
   ]
  },
  {
   "cell_type": "code",
   "execution_count": null,
   "metadata": {},
   "outputs": [],
   "source": [
    "', '.join(['Tom','Seb','Taylor'])"
   ]
  },
  {
   "cell_type": "code",
   "execution_count": null,
   "metadata": {},
   "outputs": [],
   "source": [
    "data_higher = data[data.payRate == data.payRate.max()]\n",
    "for e in range(data_higher.shape[0]):\n",
    "    print(data_higher.title.iloc[0])\n",
    "    print(data_higher.departmentName.iloc[0])\n",
    "    print(data_higher.payRate.iloc[0])\n",
    "    print(data_higher.workSchedule.iloc[0])\n",
    "    print(data_higher.URL.iloc[0])"
   ]
  },
  {
   "cell_type": "code",
   "execution_count": 79,
   "metadata": {},
   "outputs": [],
   "source": [
    "# data.beginningDate = data.beginningDate.dt.time"
   ]
  },
  {
   "cell_type": "code",
   "execution_count": 81,
   "metadata": {},
   "outputs": [
    {
     "name": "stderr",
     "output_type": "stream",
     "text": [
      "<ipython-input-81-120d48275d9a>:2: FutureWarning: iteritems is deprecated and will be removed in a future version. Use .items instead.\n",
      "  for e in data[data.payRate == data.payRate.max()].iteritems():\n"
     ]
    }
   ],
   "source": [
    "ls_=[]\n",
    "for e in data[data.payRate == data.payRate.max()].iteritems():\n",
    "    ls_.append(e)"
   ]
  },
  {
   "cell_type": "code",
   "execution_count": 120,
   "metadata": {},
   "outputs": [],
   "source": [
    "data_top5 = data.sort_values('payRate', ascending=False)"
   ]
  },
  {
   "cell_type": "code",
   "execution_count": 121,
   "metadata": {},
   "outputs": [
    {
     "data": {
      "text/plain": [
       "jobID                                                                 816187\n",
       "title                                                      Systems Developer\n",
       "departmentName                                      BYU Idaho Support Center\n",
       "description                <p><span>The BYUI Support Center (BSC) is look...\n",
       "summary                    Do you usually take an innovative approach to ...\n",
       "displayJob                                                              True\n",
       "dateUpdated                                      2022-10-13T15:57:11.8353171\n",
       "startDate                                                2022-09-25T20:00:00\n",
       "endDate                                                                  NaN\n",
       "managerName                                                      Luisa Silva\n",
       "approximateHoursPerWeek                                                15-30\n",
       "payRate                                                                 12.0\n",
       "positionsAllocated                                                     100.0\n",
       "positionsAvailble                                                       87.0\n",
       "workSchedule                                                    Flexible M-F\n",
       "beginningDate                                                            NaT\n",
       "recruitingStartDate                                      2020-02-04T01:00:00\n",
       "requireResume                                                           True\n",
       "limitApplicants                                                        False\n",
       "limitNumber                                                                0\n",
       "applicants                                                                []\n",
       "jobQuestions                                                              []\n",
       "isOnline                                                               False\n",
       "allowOnline                                                            False\n",
       "jobMajors                  [{'jobMajorId': 624, 'jobId': 816187, 'majorId...\n",
       "Name: 35, dtype: object"
      ]
     },
     "execution_count": 121,
     "metadata": {},
     "output_type": "execute_result"
    }
   ],
   "source": [
    "data_top5.iloc[3]"
   ]
  },
  {
   "cell_type": "code",
   "execution_count": 116,
   "metadata": {},
   "outputs": [
    {
     "name": "stdout",
     "output_type": "stream",
     "text": [
      "0\n",
      "1\n",
      "2\n",
      "3\n"
     ]
    }
   ],
   "source": [
    "for e in range(4):\n",
    "    print(e)"
   ]
  },
  {
   "cell_type": "code",
   "execution_count": null,
   "metadata": {},
   "outputs": [],
   "source": []
  }
 ],
 "metadata": {
  "kernelspec": {
   "display_name": "Python 3.9.0 64-bit",
   "language": "python",
   "name": "python3"
  },
  "language_info": {
   "codemirror_mode": {
    "name": "ipython",
    "version": 3
   },
   "file_extension": ".py",
   "mimetype": "text/x-python",
   "name": "python",
   "nbconvert_exporter": "python",
   "pygments_lexer": "ipython3",
   "version": "3.9.0"
  },
  "orig_nbformat": 4,
  "vscode": {
   "interpreter": {
    "hash": "397704579725e15f5c7cb49fe5f0341eb7531c82d19f2c29d197e8b64ab5776b"
   }
  }
 },
 "nbformat": 4,
 "nbformat_minor": 2
}
