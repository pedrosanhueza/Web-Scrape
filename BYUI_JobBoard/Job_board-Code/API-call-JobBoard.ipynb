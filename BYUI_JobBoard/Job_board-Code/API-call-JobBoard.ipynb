{
 "cells": [
  {
   "cell_type": "markdown",
   "metadata": {},
   "source": [
    "# EXPORTS JOBS POSTED FROM [web.byui.edu/StudentEmployment/’](web.byui.edu/StudentEmployment/) INTO A CSV FILE"
   ]
  },
  {
   "cell_type": "code",
   "execution_count": null,
   "metadata": {},
   "outputs": [],
   "source": [
    "import http.client\n",
    "import json\n",
    "import pandas as pd\n",
    "from bs4 import BeautifulSoup\n",
    "from datetime import datetime"
   ]
  },
  {
   "cell_type": "markdown",
   "metadata": {},
   "source": [
    "## REQUEST DATA FROM API ENDPOINT"
   ]
  },
  {
   "cell_type": "code",
   "execution_count": null,
   "metadata": {},
   "outputs": [],
   "source": [
    "conn = http.client.HTTPSConnection(\"web.byui.edu\")\n",
    " \n",
    "conn.request(\"GET\", \"/studentemployment/api/jobs\")\n",
    "\n",
    "res = conn.getresponse()\n",
    "\n",
    "data = res.read()\n",
    "\n",
    "info = data.decode(\"utf-8\")\n",
    "\n",
    "responseObject = json.loads(info)\n",
    "\n",
    "data_jobs = pd.DataFrame(responseObject)"
   ]
  },
  {
   "cell_type": "code",
   "execution_count": null,
   "metadata": {},
   "outputs": [],
   "source": [
    "data_jobs['URL'] = data_jobs.jobID.apply(lambda x: f'https://web.byui.edu/StudentEmployment/job/{x}')"
   ]
  },
  {
   "cell_type": "code",
   "execution_count": null,
   "metadata": {},
   "outputs": [],
   "source": [
    "data_jobs['URL'].iloc[300]"
   ]
  },
  {
   "cell_type": "code",
   "execution_count": null,
   "metadata": {},
   "outputs": [],
   "source": [
    "pd.options.display.max_columns = None\n",
    "data_jobs"
   ]
  },
  {
   "cell_type": "code",
   "execution_count": null,
   "metadata": {},
   "outputs": [],
   "source": [
    "type(data)"
   ]
  },
  {
   "cell_type": "markdown",
   "metadata": {},
   "source": [
    "## DISPLAY DATA RECEIVED"
   ]
  },
  {
   "cell_type": "code",
   "execution_count": null,
   "metadata": {},
   "outputs": [],
   "source": [
    "pd.options.display.max_columns = None\n",
    "\n",
    "data_jobs"
   ]
  },
  {
   "cell_type": "markdown",
   "metadata": {},
   "source": [
    "## SIMPLE OVERVIEW"
   ]
  },
  {
   "cell_type": "code",
   "execution_count": null,
   "metadata": {},
   "outputs": [],
   "source": [
    "print(f'''\n",
    "    THERE ARE {data_jobs.jobID.nunique()} JOBS.\n",
    "    HIGHEST PAY JOB:\\'{data_jobs[data_jobs.payRate==data_jobs.payRate.max()]['title'].iloc[0]}\\' WITH {data_jobs.payRate.max()} DOLLARS AN HOUR.\n",
    "    ONLINE JOBS: {data_jobs[data_jobs[\"title\"].str.contains('Online')].shape[0]} OUT OF {data_jobs.shape[0]}.\n",
    "''')"
   ]
  },
  {
   "cell_type": "markdown",
   "metadata": {},
   "source": [
    "## CLEAN THE DATA"
   ]
  },
  {
   "cell_type": "code",
   "execution_count": null,
   "metadata": {},
   "outputs": [],
   "source": [
    "col_dates = ['dateUpdated','startDate','endDate','beginningDate','recruitingStartDate']\n",
    "\n",
    "data_jobs[col_dates] = data_jobs[col_dates].astype('datetime64[ns]')\n",
    "\n",
    "data_jobs.dateUpdated = data_jobs.dateUpdated.apply(lambda x: datetime.strftime(x, \"%Y-%m-%d\"))\n",
    "\n",
    "columns_to_drop = [\n",
    "    'jobID', # not needed for EDA\n",
    "    # 'description', # not needed for EDA\n",
    "    # 'summary', # not needed for EDA\n",
    "    'displayJob', # single boolean\n",
    "    # 'dateUpdated',\n",
    "    'startDate','endDate', # not needed for display\n",
    "    'approximateHoursPerWeek', # not consistent\n",
    "    'positionsAllocated', # not relevant\n",
    "    'positionsAvailble', # not relevant\n",
    "    # 'workSchedule', # not needed for EDA\n",
    "    'requireResume', # not relevant\n",
    "    'limitApplicants', # not relevant\n",
    "    'limitNumber', # not relevant\n",
    "    'applicants', # empty\n",
    "    'jobQuestions', # empty\n",
    "    'isOnline', # not accurate\n",
    "    'allowOnline', # not accurate\n",
    "    'jobMajors' # not relevant\n",
    "    ]\n",
    "\n",
    "data_jobs.drop(columns_to_drop, axis=1, inplace=True)\n",
    "\n",
    "data_jobs['description'] = data_jobs['description'].apply(lambda x: [p.text.strip() for p in BeautifulSoup(x).find_all('p') if p.text.strip() != ''])"
   ]
  },
  {
   "cell_type": "markdown",
   "metadata": {},
   "source": [
    "## OPTIONAL: Save as a CSV"
   ]
  },
  {
   "cell_type": "code",
   "execution_count": null,
   "metadata": {},
   "outputs": [],
   "source": [
    "# data_jobs.to_csv('StudentEmployment.csv')"
   ]
  },
  {
   "cell_type": "markdown",
   "metadata": {},
   "source": [
    "## FILTER OUT THE JOBS THAT HAVE 'Online','Custodian', and 'TA' IN THEIR TITLE"
   ]
  },
  {
   "cell_type": "code",
   "execution_count": null,
   "metadata": {},
   "outputs": [],
   "source": [
    "# JOBS FILTERED. NOT ONLINE, NOR CUSTODIAN, AND NOR TA.\n",
    "\n",
    "remove = ['Online','Custodian','TA']\n",
    "\n",
    "data_filtered = data_jobs[~data_jobs[\"title\"].str.contains('|'.join(remove))].sort_values('payRate',ascending=False).reset_index().drop('index',axis=1)\n",
    "\n",
    "print(f'{data_filtered.shape[0]} JOBS OUT OF {data_jobs.shape[0]} POSTED JOBS.')\n",
    "\n",
    "pd.set_option('display.max_rows', None)\n",
    "\n",
    "data_filtered"
   ]
  },
  {
   "cell_type": "markdown",
   "metadata": {},
   "source": [
    "## OPTIONAL: Save as a CSV"
   ]
  },
  {
   "cell_type": "code",
   "execution_count": null,
   "metadata": {},
   "outputs": [],
   "source": [
    "# data_filtered.to_csv('StudentEmployment_filtered.csv')"
   ]
  },
  {
   "cell_type": "code",
   "execution_count": null,
   "metadata": {},
   "outputs": [],
   "source": []
  },
  {
   "cell_type": "code",
   "execution_count": null,
   "metadata": {},
   "outputs": [],
   "source": [
    "data_jobs.payRate.value_counts().reset_index().sort_values('index')"
   ]
  },
  {
   "cell_type": "code",
   "execution_count": null,
   "metadata": {},
   "outputs": [],
   "source": [
    "data_jobs.groupby('payRate').count()"
   ]
  },
  {
   "cell_type": "code",
   "execution_count": null,
   "metadata": {},
   "outputs": [],
   "source": [
    "data_jobs.departmentName.value_counts()"
   ]
  },
  {
   "cell_type": "code",
   "execution_count": null,
   "metadata": {},
   "outputs": [],
   "source": [
    "data_jobs[data_jobs.title == 'AGBUS147 OnlineTA'].iloc[0]"
   ]
  },
  {
   "cell_type": "code",
   "execution_count": null,
   "metadata": {},
   "outputs": [],
   "source": [
    "pd.options.display.max_columns = None\n",
    "data_jobs[data_jobs.jobID == 342319]"
   ]
  },
  {
   "cell_type": "code",
   "execution_count": null,
   "metadata": {},
   "outputs": [],
   "source": [
    "data_jobs.dateUpdated.iloc[0].strftime(\"%Y-%m-%d\")"
   ]
  },
  {
   "cell_type": "code",
   "execution_count": null,
   "metadata": {},
   "outputs": [],
   "source": []
  },
  {
   "cell_type": "code",
   "execution_count": null,
   "metadata": {},
   "outputs": [],
   "source": [
    "import time\n",
    "ym = time.strftime(\"%Y-%m-%d\")\n",
    "ym"
   ]
  },
  {
   "cell_type": "code",
   "execution_count": null,
   "metadata": {},
   "outputs": [],
   "source": [
    "data_jobs.dateUpdated.iloc[0]"
   ]
  },
  {
   "cell_type": "code",
   "execution_count": null,
   "metadata": {},
   "outputs": [],
   "source": [
    "time.strftime(\"%Y-%m-%d\")"
   ]
  },
  {
   "cell_type": "code",
   "execution_count": null,
   "metadata": {},
   "outputs": [],
   "source": [
    "from datetime import datetime, timedelta\n",
    "(datetime.today() - timedelta(1)).strftime(\"%Y-%m-%d\") "
   ]
  },
  {
   "cell_type": "code",
   "execution_count": null,
   "metadata": {},
   "outputs": [],
   "source": [
    "(33/1)"
   ]
  },
  {
   "cell_type": "code",
   "execution_count": null,
   "metadata": {},
   "outputs": [],
   "source": [
    "(1/33) - 1"
   ]
  },
  {
   "cell_type": "code",
   "execution_count": null,
   "metadata": {},
   "outputs": [],
   "source": [
    "import requests"
   ]
  },
  {
   "cell_type": "code",
   "execution_count": null,
   "metadata": {},
   "outputs": [],
   "source": [
    "response = requests.get('https://web.byui.edu/studentemployment/api/jobs')"
   ]
  },
  {
   "cell_type": "code",
   "execution_count": null,
   "metadata": {},
   "outputs": [],
   "source": [
    "soup = BeautifulSoup(response.text)"
   ]
  },
  {
   "cell_type": "code",
   "execution_count": null,
   "metadata": {},
   "outputs": [],
   "source": [
    "soup.select()"
   ]
  },
  {
   "cell_type": "code",
   "execution_count": null,
   "metadata": {},
   "outputs": [],
   "source": [
    "import http.client\n",
    "import pandas as pd\n",
    "\n",
    "## REQUEST DATA FROM API ENDPOINT\n",
    "conn = http.client.HTTPSConnection(\"web.byui.edu\")\n",
    "conn.request(\"GET\", \"/studentemployment/api/jobs\")\n",
    "res = conn.getresponse()\n",
    "data = res.read()\n",
    "info = data.decode(\"utf-8\")\n",
    "responseObject = json.loads(info)\n",
    "\n",
    "data_jobs = pd.DataFrame(responseObject)\n",
    "data_jobs['URL'] = data_jobs.jobID.apply(lambda x: f'https://web.byui.edu/StudentEmployment/job/{x}')\n",
    "\n",
    "data = data_jobs"
   ]
  },
  {
   "cell_type": "code",
   "execution_count": 1,
   "metadata": {},
   "outputs": [],
   "source": [
    "import requests\n",
    "import pandas as pd\n",
    "\n"
   ]
  },
  {
   "cell_type": "code",
   "execution_count": 3,
   "metadata": {},
   "outputs": [
    {
     "data": {
      "text/html": [
       "<div>\n",
       "<style scoped>\n",
       "    .dataframe tbody tr th:only-of-type {\n",
       "        vertical-align: middle;\n",
       "    }\n",
       "\n",
       "    .dataframe tbody tr th {\n",
       "        vertical-align: top;\n",
       "    }\n",
       "\n",
       "    .dataframe thead th {\n",
       "        text-align: right;\n",
       "    }\n",
       "</style>\n",
       "<table border=\"1\" class=\"dataframe\">\n",
       "  <thead>\n",
       "    <tr style=\"text-align: right;\">\n",
       "      <th></th>\n",
       "      <th>jobID</th>\n",
       "      <th>title</th>\n",
       "      <th>departmentName</th>\n",
       "      <th>description</th>\n",
       "      <th>summary</th>\n",
       "      <th>displayJob</th>\n",
       "      <th>dateUpdated</th>\n",
       "      <th>managerName</th>\n",
       "      <th>positionsAllocated</th>\n",
       "      <th>positionsAvailble</th>\n",
       "      <th>...</th>\n",
       "      <th>jobQuestions</th>\n",
       "      <th>isOnline</th>\n",
       "      <th>allowOnline</th>\n",
       "      <th>jobMajors</th>\n",
       "      <th>payRate</th>\n",
       "      <th>startDate</th>\n",
       "      <th>endDate</th>\n",
       "      <th>approximateHoursPerWeek</th>\n",
       "      <th>workSchedule</th>\n",
       "      <th>beginningDate</th>\n",
       "    </tr>\n",
       "  </thead>\n",
       "  <tbody>\n",
       "    <tr>\n",
       "      <th>0</th>\n",
       "      <td>1588221</td>\n",
       "      <td>Hart Night Custodian</td>\n",
       "      <td>Hart Night</td>\n",
       "      <td>&lt;p&gt;Carpet cleaning and custodial work around c...</td>\n",
       "      <td>Cleaning campus buildings. Shift is 11:30 pm-2...</td>\n",
       "      <td>True</td>\n",
       "      <td>2022-09-26T20:02:01.6892781</td>\n",
       "      <td>David Brixey</td>\n",
       "      <td>1000.0</td>\n",
       "      <td>960.0</td>\n",
       "      <td>...</td>\n",
       "      <td>[]</td>\n",
       "      <td>False</td>\n",
       "      <td>False</td>\n",
       "      <td>[]</td>\n",
       "      <td>NaN</td>\n",
       "      <td>NaN</td>\n",
       "      <td>NaN</td>\n",
       "      <td>NaN</td>\n",
       "      <td>NaN</td>\n",
       "      <td>NaN</td>\n",
       "    </tr>\n",
       "    <tr>\n",
       "      <th>1</th>\n",
       "      <td>2221921</td>\n",
       "      <td>Grounds Crew 16</td>\n",
       "      <td>Grounds</td>\n",
       "      <td>&lt;p&gt;Must be on time for shifts. Work well with ...</td>\n",
       "      <td>Working in small groups to help keep the trees...</td>\n",
       "      <td>True</td>\n",
       "      <td>2022-09-26T19:46:41.3124649</td>\n",
       "      <td>Erik Kerr</td>\n",
       "      <td>1000.0</td>\n",
       "      <td>968.0</td>\n",
       "      <td>...</td>\n",
       "      <td>[]</td>\n",
       "      <td>False</td>\n",
       "      <td>False</td>\n",
       "      <td>[]</td>\n",
       "      <td>9.58</td>\n",
       "      <td>NaN</td>\n",
       "      <td>NaN</td>\n",
       "      <td>NaN</td>\n",
       "      <td>NaN</td>\n",
       "      <td>NaN</td>\n",
       "    </tr>\n",
       "    <tr>\n",
       "      <th>2</th>\n",
       "      <td>3898063</td>\n",
       "      <td>Food Services Student Jobs</td>\n",
       "      <td>University Food Services</td>\n",
       "      <td>&lt;p&gt;Fast-paced, demanding job.  We need dependa...</td>\n",
       "      <td>Fall Food Service Jobs Start at $10 PER HOUR a...</td>\n",
       "      <td>True</td>\n",
       "      <td>2022-09-26T18:47:01.7193712</td>\n",
       "      <td>Fauneil Schultz</td>\n",
       "      <td>200.0</td>\n",
       "      <td>149.0</td>\n",
       "      <td>...</td>\n",
       "      <td>[]</td>\n",
       "      <td>False</td>\n",
       "      <td>False</td>\n",
       "      <td>[]</td>\n",
       "      <td>10.00</td>\n",
       "      <td>2022-09-22T06:00:00</td>\n",
       "      <td>2022-09-27T12:00:00</td>\n",
       "      <td>10-20</td>\n",
       "      <td>Many Shifts Available</td>\n",
       "      <td>2022-09-23T06:00:00</td>\n",
       "    </tr>\n",
       "    <tr>\n",
       "      <th>3</th>\n",
       "      <td>341972</td>\n",
       "      <td>Biddulph/Rigby  Early Morning Custodian</td>\n",
       "      <td>RIG / Biddulph FMS</td>\n",
       "      <td>&lt;p&gt;Carpet cleaning and custodial work around c...</td>\n",
       "      <td>Cleaning campus buildings. Shift is 4:30am-7:3...</td>\n",
       "      <td>True</td>\n",
       "      <td>2022-09-26T17:31:15.6792416</td>\n",
       "      <td>Nikki Swenson</td>\n",
       "      <td>1000.0</td>\n",
       "      <td>871.0</td>\n",
       "      <td>...</td>\n",
       "      <td>[]</td>\n",
       "      <td>False</td>\n",
       "      <td>False</td>\n",
       "      <td>[]</td>\n",
       "      <td>9.58</td>\n",
       "      <td>2022-09-17T00:00:00</td>\n",
       "      <td>2022-09-30T06:00:00</td>\n",
       "      <td>15</td>\n",
       "      <td>4:30AM-7:30AM Monday-Friday</td>\n",
       "      <td>2022-09-19T12:00:00</td>\n",
       "    </tr>\n",
       "    <tr>\n",
       "      <th>4</th>\n",
       "      <td>1738</td>\n",
       "      <td>Grounds Crew 12</td>\n",
       "      <td>Grounds</td>\n",
       "      <td>&lt;p&gt;Looking for students who can work Fall Seme...</td>\n",
       "      <td>Looking for students who can work Fall Semeste...</td>\n",
       "      <td>True</td>\n",
       "      <td>2022-09-26T14:51:49.6339431</td>\n",
       "      <td>Frederick Haux</td>\n",
       "      <td>1000.0</td>\n",
       "      <td>931.0</td>\n",
       "      <td>...</td>\n",
       "      <td>[]</td>\n",
       "      <td>False</td>\n",
       "      <td>False</td>\n",
       "      <td>[]</td>\n",
       "      <td>9.58</td>\n",
       "      <td>NaN</td>\n",
       "      <td>NaN</td>\n",
       "      <td>15-20</td>\n",
       "      <td>8:00AM-12:00PM</td>\n",
       "      <td>NaN</td>\n",
       "    </tr>\n",
       "    <tr>\n",
       "      <th>...</th>\n",
       "      <td>...</td>\n",
       "      <td>...</td>\n",
       "      <td>...</td>\n",
       "      <td>...</td>\n",
       "      <td>...</td>\n",
       "      <td>...</td>\n",
       "      <td>...</td>\n",
       "      <td>...</td>\n",
       "      <td>...</td>\n",
       "      <td>...</td>\n",
       "      <td>...</td>\n",
       "      <td>...</td>\n",
       "      <td>...</td>\n",
       "      <td>...</td>\n",
       "      <td>...</td>\n",
       "      <td>...</td>\n",
       "      <td>...</td>\n",
       "      <td>...</td>\n",
       "      <td>...</td>\n",
       "      <td>...</td>\n",
       "      <td>...</td>\n",
       "    </tr>\n",
       "    <tr>\n",
       "      <th>82</th>\n",
       "      <td>1358673</td>\n",
       "      <td>SOC311 OnlineTA</td>\n",
       "      <td>Campus Teaching Assistants</td>\n",
       "      <td>&lt;p&gt;&lt;b&gt;&lt;span&gt;TA is needed for the SOC 311 class...</td>\n",
       "      <td>TA is needed for the SOC 311 class. Applicants...</td>\n",
       "      <td>True</td>\n",
       "      <td>2022-09-02T20:01:39.2580835</td>\n",
       "      <td>Esther Zonts</td>\n",
       "      <td>100.0</td>\n",
       "      <td>95.0</td>\n",
       "      <td>...</td>\n",
       "      <td>[]</td>\n",
       "      <td>False</td>\n",
       "      <td>False</td>\n",
       "      <td>[]</td>\n",
       "      <td>10.00</td>\n",
       "      <td>2022-06-24T17:00:00</td>\n",
       "      <td>2022-09-30T14:00:00</td>\n",
       "      <td>flexible</td>\n",
       "      <td>up to 10</td>\n",
       "      <td>2022-09-12T14:00:00</td>\n",
       "    </tr>\n",
       "    <tr>\n",
       "      <th>83</th>\n",
       "      <td>1357823</td>\n",
       "      <td>SPED310 OnlineTA</td>\n",
       "      <td>Online Student</td>\n",
       "      <td>&lt;p&gt;Teaching Assistant is needed for SPED 310 o...</td>\n",
       "      <td>TA is needed for the SPED 310: Exceptional Stu...</td>\n",
       "      <td>True</td>\n",
       "      <td>2022-09-02T20:01:38.8563084</td>\n",
       "      <td>Esther Zonts</td>\n",
       "      <td>100.0</td>\n",
       "      <td>99.0</td>\n",
       "      <td>...</td>\n",
       "      <td>[]</td>\n",
       "      <td>False</td>\n",
       "      <td>True</td>\n",
       "      <td>[]</td>\n",
       "      <td>10.00</td>\n",
       "      <td>2022-06-24T07:00:00</td>\n",
       "      <td>2022-10-01T06:00:00</td>\n",
       "      <td>up to 10</td>\n",
       "      <td>flexible</td>\n",
       "      <td>2022-09-12T06:00:00</td>\n",
       "    </tr>\n",
       "    <tr>\n",
       "      <th>84</th>\n",
       "      <td>411468</td>\n",
       "      <td>ECON151 OnlineTutor</td>\n",
       "      <td>Online Student</td>\n",
       "      <td>&lt;p&gt;&lt;span&gt; Online Tutor is needed for the ECON ...</td>\n",
       "      <td>Online Tutor is needed for the ECON 151: Econo...</td>\n",
       "      <td>True</td>\n",
       "      <td>2022-08-26T21:01:19.2883381</td>\n",
       "      <td>Casey McDaniel</td>\n",
       "      <td>100.0</td>\n",
       "      <td>100.0</td>\n",
       "      <td>...</td>\n",
       "      <td>[]</td>\n",
       "      <td>False</td>\n",
       "      <td>True</td>\n",
       "      <td>[]</td>\n",
       "      <td>9.60</td>\n",
       "      <td>2021-12-17T15:00:00</td>\n",
       "      <td>2023-01-01T02:00:00</td>\n",
       "      <td>5-10 hours (must post 7 hours of appt openings...</td>\n",
       "      <td>Hours worked may vary according to student demand</td>\n",
       "      <td>2022-04-19T01:00:00</td>\n",
       "    </tr>\n",
       "    <tr>\n",
       "      <th>85</th>\n",
       "      <td>32596</td>\n",
       "      <td>Chemistry Stockroom/TA/Grader</td>\n",
       "      <td>Chemistry</td>\n",
       "      <td>&lt;p&gt;This is a general application form for any ...</td>\n",
       "      <td>General Application form for all chemistry dep...</td>\n",
       "      <td>True</td>\n",
       "      <td>2022-06-09T20:08:58.2027174</td>\n",
       "      <td>Mike Wood</td>\n",
       "      <td>10000.0</td>\n",
       "      <td>10000.0</td>\n",
       "      <td>...</td>\n",
       "      <td>[]</td>\n",
       "      <td>False</td>\n",
       "      <td>False</td>\n",
       "      <td>[{'jobMajorId': 212, 'jobId': 32596, 'majorId'...</td>\n",
       "      <td>NaN</td>\n",
       "      <td>2022-06-09T14:00:00</td>\n",
       "      <td>NaN</td>\n",
       "      <td>NaN</td>\n",
       "      <td>Varies</td>\n",
       "      <td>NaN</td>\n",
       "    </tr>\n",
       "    <tr>\n",
       "      <th>86</th>\n",
       "      <td>341293</td>\n",
       "      <td>Security-Lock up Patrol</td>\n",
       "      <td>Public Safety</td>\n",
       "      <td>&lt;p&gt;Employees will assist with patrolling campu...</td>\n",
       "      <td>NaN</td>\n",
       "      <td>True</td>\n",
       "      <td>2022-02-18T23:30:52.6069815</td>\n",
       "      <td>Kevin Rhoades</td>\n",
       "      <td>200.0</td>\n",
       "      <td>135.0</td>\n",
       "      <td>...</td>\n",
       "      <td>[]</td>\n",
       "      <td>False</td>\n",
       "      <td>False</td>\n",
       "      <td>[]</td>\n",
       "      <td>NaN</td>\n",
       "      <td>2021-12-05T07:00:00</td>\n",
       "      <td>NaN</td>\n",
       "      <td>NaN</td>\n",
       "      <td>NaN</td>\n",
       "      <td>NaN</td>\n",
       "    </tr>\n",
       "  </tbody>\n",
       "</table>\n",
       "<p>87 rows × 25 columns</p>\n",
       "</div>"
      ],
      "text/plain": [
       "      jobID                                    title  \\\n",
       "0   1588221                     Hart Night Custodian   \n",
       "1   2221921                          Grounds Crew 16   \n",
       "2   3898063               Food Services Student Jobs   \n",
       "3    341972  Biddulph/Rigby  Early Morning Custodian   \n",
       "4      1738                          Grounds Crew 12   \n",
       "..      ...                                      ...   \n",
       "82  1358673                          SOC311 OnlineTA   \n",
       "83  1357823                         SPED310 OnlineTA   \n",
       "84   411468                      ECON151 OnlineTutor   \n",
       "85    32596            Chemistry Stockroom/TA/Grader   \n",
       "86   341293                  Security-Lock up Patrol   \n",
       "\n",
       "                departmentName  \\\n",
       "0                   Hart Night   \n",
       "1                      Grounds   \n",
       "2     University Food Services   \n",
       "3           RIG / Biddulph FMS   \n",
       "4                      Grounds   \n",
       "..                         ...   \n",
       "82  Campus Teaching Assistants   \n",
       "83              Online Student   \n",
       "84              Online Student   \n",
       "85                   Chemistry   \n",
       "86               Public Safety   \n",
       "\n",
       "                                          description  \\\n",
       "0   <p>Carpet cleaning and custodial work around c...   \n",
       "1   <p>Must be on time for shifts. Work well with ...   \n",
       "2   <p>Fast-paced, demanding job.  We need dependa...   \n",
       "3   <p>Carpet cleaning and custodial work around c...   \n",
       "4   <p>Looking for students who can work Fall Seme...   \n",
       "..                                                ...   \n",
       "82  <p><b><span>TA is needed for the SOC 311 class...   \n",
       "83  <p>Teaching Assistant is needed for SPED 310 o...   \n",
       "84  <p><span> Online Tutor is needed for the ECON ...   \n",
       "85  <p>This is a general application form for any ...   \n",
       "86  <p>Employees will assist with patrolling campu...   \n",
       "\n",
       "                                              summary  displayJob  \\\n",
       "0   Cleaning campus buildings. Shift is 11:30 pm-2...        True   \n",
       "1   Working in small groups to help keep the trees...        True   \n",
       "2   Fall Food Service Jobs Start at $10 PER HOUR a...        True   \n",
       "3   Cleaning campus buildings. Shift is 4:30am-7:3...        True   \n",
       "4   Looking for students who can work Fall Semeste...        True   \n",
       "..                                                ...         ...   \n",
       "82  TA is needed for the SOC 311 class. Applicants...        True   \n",
       "83  TA is needed for the SPED 310: Exceptional Stu...        True   \n",
       "84  Online Tutor is needed for the ECON 151: Econo...        True   \n",
       "85  General Application form for all chemistry dep...        True   \n",
       "86                                                NaN        True   \n",
       "\n",
       "                    dateUpdated      managerName  positionsAllocated  \\\n",
       "0   2022-09-26T20:02:01.6892781     David Brixey              1000.0   \n",
       "1   2022-09-26T19:46:41.3124649        Erik Kerr              1000.0   \n",
       "2   2022-09-26T18:47:01.7193712  Fauneil Schultz               200.0   \n",
       "3   2022-09-26T17:31:15.6792416    Nikki Swenson              1000.0   \n",
       "4   2022-09-26T14:51:49.6339431   Frederick Haux              1000.0   \n",
       "..                          ...              ...                 ...   \n",
       "82  2022-09-02T20:01:39.2580835     Esther Zonts               100.0   \n",
       "83  2022-09-02T20:01:38.8563084     Esther Zonts               100.0   \n",
       "84  2022-08-26T21:01:19.2883381   Casey McDaniel               100.0   \n",
       "85  2022-06-09T20:08:58.2027174        Mike Wood             10000.0   \n",
       "86  2022-02-18T23:30:52.6069815    Kevin Rhoades               200.0   \n",
       "\n",
       "    positionsAvailble  ... jobQuestions  isOnline  allowOnline  \\\n",
       "0               960.0  ...           []     False        False   \n",
       "1               968.0  ...           []     False        False   \n",
       "2               149.0  ...           []     False        False   \n",
       "3               871.0  ...           []     False        False   \n",
       "4               931.0  ...           []     False        False   \n",
       "..                ...  ...          ...       ...          ...   \n",
       "82               95.0  ...           []     False        False   \n",
       "83               99.0  ...           []     False         True   \n",
       "84              100.0  ...           []     False         True   \n",
       "85            10000.0  ...           []     False        False   \n",
       "86              135.0  ...           []     False        False   \n",
       "\n",
       "                                            jobMajors payRate  \\\n",
       "0                                                  []     NaN   \n",
       "1                                                  []    9.58   \n",
       "2                                                  []   10.00   \n",
       "3                                                  []    9.58   \n",
       "4                                                  []    9.58   \n",
       "..                                                ...     ...   \n",
       "82                                                 []   10.00   \n",
       "83                                                 []   10.00   \n",
       "84                                                 []    9.60   \n",
       "85  [{'jobMajorId': 212, 'jobId': 32596, 'majorId'...     NaN   \n",
       "86                                                 []     NaN   \n",
       "\n",
       "              startDate              endDate  \\\n",
       "0                   NaN                  NaN   \n",
       "1                   NaN                  NaN   \n",
       "2   2022-09-22T06:00:00  2022-09-27T12:00:00   \n",
       "3   2022-09-17T00:00:00  2022-09-30T06:00:00   \n",
       "4                   NaN                  NaN   \n",
       "..                  ...                  ...   \n",
       "82  2022-06-24T17:00:00  2022-09-30T14:00:00   \n",
       "83  2022-06-24T07:00:00  2022-10-01T06:00:00   \n",
       "84  2021-12-17T15:00:00  2023-01-01T02:00:00   \n",
       "85  2022-06-09T14:00:00                  NaN   \n",
       "86  2021-12-05T07:00:00                  NaN   \n",
       "\n",
       "                              approximateHoursPerWeek  \\\n",
       "0                                                 NaN   \n",
       "1                                                 NaN   \n",
       "2                                               10-20   \n",
       "3                                                  15   \n",
       "4                                               15-20   \n",
       "..                                                ...   \n",
       "82                                           flexible   \n",
       "83                                           up to 10   \n",
       "84  5-10 hours (must post 7 hours of appt openings...   \n",
       "85                                                NaN   \n",
       "86                                                NaN   \n",
       "\n",
       "                                         workSchedule        beginningDate  \n",
       "0                                                 NaN                  NaN  \n",
       "1                                                 NaN                  NaN  \n",
       "2                               Many Shifts Available  2022-09-23T06:00:00  \n",
       "3                         4:30AM-7:30AM Monday-Friday  2022-09-19T12:00:00  \n",
       "4                                      8:00AM-12:00PM                  NaN  \n",
       "..                                                ...                  ...  \n",
       "82                                           up to 10  2022-09-12T14:00:00  \n",
       "83                                           flexible  2022-09-12T06:00:00  \n",
       "84  Hours worked may vary according to student demand  2022-04-19T01:00:00  \n",
       "85                                             Varies                  NaN  \n",
       "86                                                NaN                  NaN  \n",
       "\n",
       "[87 rows x 25 columns]"
      ]
     },
     "execution_count": 3,
     "metadata": {},
     "output_type": "execute_result"
    }
   ],
   "source": [
    "url = 'http://web.byui.edu/studentemployment/api/jobs'\n",
    "\n",
    "response = requests.get(url)\n",
    "\n",
    "object = response.json()\n",
    "\n",
    "pd.DataFrame(object)"
   ]
  },
  {
   "cell_type": "code",
   "execution_count": null,
   "metadata": {},
   "outputs": [],
   "source": []
  }
 ],
 "metadata": {
  "kernelspec": {
   "display_name": "Python 3.9.0 64-bit",
   "language": "python",
   "name": "python3"
  },
  "language_info": {
   "codemirror_mode": {
    "name": "ipython",
    "version": 3
   },
   "file_extension": ".py",
   "mimetype": "text/x-python",
   "name": "python",
   "nbconvert_exporter": "python",
   "pygments_lexer": "ipython3",
   "version": "3.9.0"
  },
  "orig_nbformat": 4,
  "vscode": {
   "interpreter": {
    "hash": "7812ea015bdcee6f23a998adcdd2ef97c151c0c241b7b7070987d9313e41299d"
   }
  }
 },
 "nbformat": 4,
 "nbformat_minor": 2
}
