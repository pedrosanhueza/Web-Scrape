{
 "cells": [
  {
   "cell_type": "markdown",
   "metadata": {},
   "source": [
    "# Part 1: Extract DATA from website"
   ]
  },
  {
   "cell_type": "code",
   "execution_count": 1,
   "metadata": {},
   "outputs": [],
   "source": [
    "import requests\n",
    "from bs4 import BeautifulSoup\n",
    "import pandas as pd\n",
    "from datetime import datetime"
   ]
  },
  {
   "cell_type": "code",
   "execution_count": 2,
   "metadata": {},
   "outputs": [],
   "source": [
    "url = 'https://www.irvinespectrumcenter.com/shopping/stores?filter=all'\n",
    "\n",
    "response = requests.get(url)\n",
    "\n",
    "soup = BeautifulSoup(response.text)"
   ]
  },
  {
   "cell_type": "code",
   "execution_count": 3,
   "metadata": {},
   "outputs": [],
   "source": [
    "rows=[]\n",
    "companies = soup.find('div',{'class':'directory__listings'}).find_all('div',{'class':'directory__listings__column'})[1:]\n",
    "\n",
    "for company in companies:\n",
    "    row={}\n",
    "    row['Name']      =  company['data-name']\n",
    "    row['Features']  =  company['data-listing-row'].split(' ')\n",
    "    row['Phone']     =  company.find('a').find('div',{'class':'directory__listing__phone'}).text\n",
    "    row['Suite']     =  company['data-suite']\n",
    "    row['Logo_url']  =  company.find('a').find('img')['src']\n",
    "    row['Category1'] =  company.find('a')['href'].split('/')[1]\n",
    "    row['Category2'] =  company.find('a')['href'].split('/')[2]\n",
    "    row['Status']    =  company['data-status']\n",
    "    row['Deal']      =  company['data-deals']\n",
    "\n",
    "    rows.append(row)\n"
   ]
  },
  {
   "cell_type": "code",
   "execution_count": 4,
   "metadata": {},
   "outputs": [],
   "source": [
    "data = pd.DataFrame(rows) # build a data frame from the list of dictionaries"
   ]
  },
  {
   "cell_type": "code",
   "execution_count": 5,
   "metadata": {},
   "outputs": [
    {
     "data": {
      "text/html": [
       "<div>\n",
       "<style scoped>\n",
       "    .dataframe tbody tr th:only-of-type {\n",
       "        vertical-align: middle;\n",
       "    }\n",
       "\n",
       "    .dataframe tbody tr th {\n",
       "        vertical-align: top;\n",
       "    }\n",
       "\n",
       "    .dataframe thead th {\n",
       "        text-align: right;\n",
       "    }\n",
       "</style>\n",
       "<table border=\"1\" class=\"dataframe\">\n",
       "  <thead>\n",
       "    <tr style=\"text-align: right;\">\n",
       "      <th></th>\n",
       "      <th>Name</th>\n",
       "      <th>Features</th>\n",
       "      <th>Phone</th>\n",
       "      <th>Suite</th>\n",
       "      <th>Logo_url</th>\n",
       "      <th>Category1</th>\n",
       "      <th>Category2</th>\n",
       "      <th>Status</th>\n",
       "      <th>Deal</th>\n",
       "    </tr>\n",
       "  </thead>\n",
       "  <tbody>\n",
       "    <tr>\n",
       "      <th>0</th>\n",
       "      <td>85C Bakery Cafe</td>\n",
       "      <td>[specialty-food, curbside-pickup, delivery, di...</td>\n",
       "      <td>(949) 727-0985</td>\n",
       "      <td>915</td>\n",
       "      <td>https://images.ctfassets.net/l16b5usqno44/umb-...</td>\n",
       "      <td>dining</td>\n",
       "      <td>restaurants</td>\n",
       "      <td></td>\n",
       "      <td>False</td>\n",
       "    </tr>\n",
       "    <tr>\n",
       "      <th>1</th>\n",
       "      <td>adidas</td>\n",
       "      <td>[children-s-apparel, men-s-apparel, shoes-hand...</td>\n",
       "      <td>(949) 753-0305</td>\n",
       "      <td>650</td>\n",
       "      <td>https://images.ctfassets.net/l16b5usqno44/umb-...</td>\n",
       "      <td>shopping</td>\n",
       "      <td>stores</td>\n",
       "      <td></td>\n",
       "      <td>False</td>\n",
       "    </tr>\n",
       "    <tr>\n",
       "      <th>2</th>\n",
       "      <td>aerie</td>\n",
       "      <td>[women-s-apparel, curbside-pickup, in-store-sh...</td>\n",
       "      <td>(949) 255-9186</td>\n",
       "      <td>721</td>\n",
       "      <td>https://images.ctfassets.net/l16b5usqno44/umb-...</td>\n",
       "      <td>shopping</td>\n",
       "      <td>stores</td>\n",
       "      <td></td>\n",
       "      <td>False</td>\n",
       "    </tr>\n",
       "    <tr>\n",
       "      <th>3</th>\n",
       "      <td>Afters Ice Cream</td>\n",
       "      <td>[specialty-food, delivery, dine-in, outdoor-se...</td>\n",
       "      <td></td>\n",
       "      <td>918</td>\n",
       "      <td>https://images.ctfassets.net/l16b5usqno44/umb-...</td>\n",
       "      <td>dining</td>\n",
       "      <td>restaurants</td>\n",
       "      <td></td>\n",
       "      <td>False</td>\n",
       "    </tr>\n",
       "    <tr>\n",
       "      <th>4</th>\n",
       "      <td>Alley</td>\n",
       "      <td>[specialty-food, delivery, dine-in, outdoor-se...</td>\n",
       "      <td>(949) 932-0634</td>\n",
       "      <td>507</td>\n",
       "      <td>https://images.ctfassets.net/l16b5usqno44/umb-...</td>\n",
       "      <td>dining</td>\n",
       "      <td>restaurants</td>\n",
       "      <td></td>\n",
       "      <td>False</td>\n",
       "    </tr>\n",
       "    <tr>\n",
       "      <th>...</th>\n",
       "      <td>...</td>\n",
       "      <td>...</td>\n",
       "      <td>...</td>\n",
       "      <td>...</td>\n",
       "      <td>...</td>\n",
       "      <td>...</td>\n",
       "      <td>...</td>\n",
       "      <td>...</td>\n",
       "      <td>...</td>\n",
       "    </tr>\n",
       "    <tr>\n",
       "      <th>173</th>\n",
       "      <td>World of Hearing</td>\n",
       "      <td>[electronics-home-entertainment, medical-denta...</td>\n",
       "      <td></td>\n",
       "      <td>821</td>\n",
       "      <td>https://images.ctfassets.net/l16b5usqno44/umb-...</td>\n",
       "      <td>shopping</td>\n",
       "      <td>stores</td>\n",
       "      <td>Now Open</td>\n",
       "      <td>True</td>\n",
       "    </tr>\n",
       "    <tr>\n",
       "      <th>174</th>\n",
       "      <td>Yankee Candle</td>\n",
       "      <td>[books-cards-gifts, in-store-shopping, deals]</td>\n",
       "      <td>(949) 450-0725</td>\n",
       "      <td>735</td>\n",
       "      <td>https://images.ctfassets.net/l16b5usqno44/umb-...</td>\n",
       "      <td>shopping</td>\n",
       "      <td>stores</td>\n",
       "      <td></td>\n",
       "      <td>True</td>\n",
       "    </tr>\n",
       "    <tr>\n",
       "      <th>175</th>\n",
       "      <td>Yard House</td>\n",
       "      <td>[restaurants-full-service-dining, curbside-pic...</td>\n",
       "      <td>(949) 753-9373</td>\n",
       "      <td>620</td>\n",
       "      <td>https://images.ctfassets.net/l16b5usqno44/umb-...</td>\n",
       "      <td>dining</td>\n",
       "      <td>restaurants</td>\n",
       "      <td></td>\n",
       "      <td>False</td>\n",
       "    </tr>\n",
       "    <tr>\n",
       "      <th>176</th>\n",
       "      <td>Yogurtland</td>\n",
       "      <td>[specialty-food, curbside-pickup, dine-in, out...</td>\n",
       "      <td>(949) 536-5303</td>\n",
       "      <td>733</td>\n",
       "      <td>https://images.ctfassets.net/l16b5usqno44/umb-...</td>\n",
       "      <td>dining</td>\n",
       "      <td>restaurants</td>\n",
       "      <td></td>\n",
       "      <td>False</td>\n",
       "    </tr>\n",
       "    <tr>\n",
       "      <th>177</th>\n",
       "      <td>Zumiez</td>\n",
       "      <td>[accessories, children-s-apparel, men-s-appare...</td>\n",
       "      <td>(949) 450-0894</td>\n",
       "      <td>613</td>\n",
       "      <td>https://images.ctfassets.net/l16b5usqno44/umb-...</td>\n",
       "      <td>shopping</td>\n",
       "      <td>stores</td>\n",
       "      <td></td>\n",
       "      <td>False</td>\n",
       "    </tr>\n",
       "  </tbody>\n",
       "</table>\n",
       "<p>178 rows × 9 columns</p>\n",
       "</div>"
      ],
      "text/plain": [
       "                 Name                                           Features  \\\n",
       "0     85C Bakery Cafe  [specialty-food, curbside-pickup, delivery, di...   \n",
       "1              adidas  [children-s-apparel, men-s-apparel, shoes-hand...   \n",
       "2               aerie  [women-s-apparel, curbside-pickup, in-store-sh...   \n",
       "3    Afters Ice Cream  [specialty-food, delivery, dine-in, outdoor-se...   \n",
       "4               Alley  [specialty-food, delivery, dine-in, outdoor-se...   \n",
       "..                ...                                                ...   \n",
       "173  World of Hearing  [electronics-home-entertainment, medical-denta...   \n",
       "174     Yankee Candle      [books-cards-gifts, in-store-shopping, deals]   \n",
       "175        Yard House  [restaurants-full-service-dining, curbside-pic...   \n",
       "176        Yogurtland  [specialty-food, curbside-pickup, dine-in, out...   \n",
       "177            Zumiez  [accessories, children-s-apparel, men-s-appare...   \n",
       "\n",
       "              Phone Suite                                           Logo_url  \\\n",
       "0    (949) 727-0985   915  https://images.ctfassets.net/l16b5usqno44/umb-...   \n",
       "1    (949) 753-0305   650  https://images.ctfassets.net/l16b5usqno44/umb-...   \n",
       "2    (949) 255-9186   721  https://images.ctfassets.net/l16b5usqno44/umb-...   \n",
       "3                     918  https://images.ctfassets.net/l16b5usqno44/umb-...   \n",
       "4    (949) 932-0634   507  https://images.ctfassets.net/l16b5usqno44/umb-...   \n",
       "..              ...   ...                                                ...   \n",
       "173                   821  https://images.ctfassets.net/l16b5usqno44/umb-...   \n",
       "174  (949) 450-0725   735  https://images.ctfassets.net/l16b5usqno44/umb-...   \n",
       "175  (949) 753-9373   620  https://images.ctfassets.net/l16b5usqno44/umb-...   \n",
       "176  (949) 536-5303   733  https://images.ctfassets.net/l16b5usqno44/umb-...   \n",
       "177  (949) 450-0894   613  https://images.ctfassets.net/l16b5usqno44/umb-...   \n",
       "\n",
       "    Category1    Category2    Status   Deal  \n",
       "0      dining  restaurants            False  \n",
       "1    shopping       stores            False  \n",
       "2    shopping       stores            False  \n",
       "3      dining  restaurants            False  \n",
       "4      dining  restaurants            False  \n",
       "..        ...          ...       ...    ...  \n",
       "173  shopping       stores  Now Open   True  \n",
       "174  shopping       stores             True  \n",
       "175    dining  restaurants            False  \n",
       "176    dining  restaurants            False  \n",
       "177  shopping       stores            False  \n",
       "\n",
       "[178 rows x 9 columns]"
      ]
     },
     "execution_count": 5,
     "metadata": {},
     "output_type": "execute_result"
    }
   ],
   "source": [
    "\n",
    "data # display data frame"
   ]
  },
  {
   "cell_type": "markdown",
   "metadata": {},
   "source": [
    "# Part 2: Visuals\n",
    "### Questions to answer:\n",
    "\n",
    "* How many Stores\n",
    "* How many Stores by Category\n",
    "* Sores amount by Suit location\n",
    "* Whats the ratio Deals to Category in both categories\n",
    "* which companies have deal\n",
    "* which companies are newly open"
   ]
  },
  {
   "cell_type": "code",
   "execution_count": 5,
   "metadata": {},
   "outputs": [],
   "source": [
    "import plotly.express as px\n",
    "import plotly.graph_objects as go"
   ]
  },
  {
   "cell_type": "code",
   "execution_count": 6,
   "metadata": {},
   "outputs": [
    {
     "name": "stdout",
     "output_type": "stream",
     "text": [
      "\n",
      "    QUESTION 1: \n",
      "\n",
      "    Amount of stores: 175\n",
      "\n"
     ]
    }
   ],
   "source": [
    "data_removed_duplicates = data[~data.Name.duplicated()]\n",
    "\n",
    "Stores = data_removed_duplicates.Name.count()\n",
    "\n",
    "print(f'''\n",
    "    QUESTION 1: \\n\n",
    "    Amount of stores: {Stores}\n",
    "''')"
   ]
  },
  {
   "cell_type": "code",
   "execution_count": 7,
   "metadata": {},
   "outputs": [
    {
     "data": {
      "text/html": [
       "<div>\n",
       "<style scoped>\n",
       "    .dataframe tbody tr th:only-of-type {\n",
       "        vertical-align: middle;\n",
       "    }\n",
       "\n",
       "    .dataframe tbody tr th {\n",
       "        vertical-align: top;\n",
       "    }\n",
       "\n",
       "    .dataframe thead th {\n",
       "        text-align: right;\n",
       "    }\n",
       "</style>\n",
       "<table border=\"1\" class=\"dataframe\">\n",
       "  <thead>\n",
       "    <tr style=\"text-align: right;\">\n",
       "      <th></th>\n",
       "      <th>Category1</th>\n",
       "      <th>0</th>\n",
       "    </tr>\n",
       "  </thead>\n",
       "  <tbody>\n",
       "    <tr>\n",
       "      <th>0</th>\n",
       "      <td>shopping</td>\n",
       "      <td>118</td>\n",
       "    </tr>\n",
       "    <tr>\n",
       "      <th>1</th>\n",
       "      <td>dining</td>\n",
       "      <td>58</td>\n",
       "    </tr>\n",
       "  </tbody>\n",
       "</table>\n",
       "</div>"
      ],
      "text/plain": [
       "  Category1    0\n",
       "0  shopping  118\n",
       "1    dining   58"
      ]
     },
     "execution_count": 7,
     "metadata": {},
     "output_type": "execute_result"
    }
   ],
   "source": [
    "data_Stores_by_Category = data[['Category1']].value_counts().reset_index()\n",
    "data_Stores_by_Category\n"
   ]
  },
  {
   "cell_type": "code",
   "execution_count": 8,
   "metadata": {},
   "outputs": [
    {
     "data": {
      "text/plain": [
       "Index(['Name', 'Features', 'Phone', 'Suite', 'Logo_url', 'Category1',\n",
       "       'Category2', 'Status', 'Deal'],\n",
       "      dtype='object')"
      ]
     },
     "execution_count": 8,
     "metadata": {},
     "output_type": "execute_result"
    }
   ],
   "source": [
    "data.columns"
   ]
  },
  {
   "cell_type": "code",
   "execution_count": null,
   "metadata": {},
   "outputs": [],
   "source": []
  },
  {
   "cell_type": "code",
   "execution_count": null,
   "metadata": {},
   "outputs": [],
   "source": []
  },
  {
   "cell_type": "code",
   "execution_count": null,
   "metadata": {},
   "outputs": [],
   "source": []
  },
  {
   "cell_type": "code",
   "execution_count": null,
   "metadata": {},
   "outputs": [],
   "source": []
  },
  {
   "cell_type": "code",
   "execution_count": 9,
   "metadata": {},
   "outputs": [
    {
     "data": {
      "image/png": "[encoded data removed]"
     },
     "metadata": {},
     "output_type": "display_data"
    }
   ],
   "source": [
    "# Difference of restaurants and stores\n",
    "\n",
    "data_category_Status = data[['Category1','Status']].value_counts().reset_index()\n",
    "\n",
    "data_category_Status.Status.replace('','Open', inplace=True)\n",
    "\n",
    "fig =px.bar(\n",
    "    data_category_Status,\n",
    "    orientation='h',\n",
    "    y='Category1',\n",
    "    x=0,\n",
    "    color=\"Status\",\n",
    "    text_auto=True)\n",
    "\n",
    "fig.update_layout({\n",
    "'plot_bgcolor': 'rgba(0, 0, 0, 0)'\n",
    "# 'paper_bgcolor': 'rgba(0, 0, 0, 0)'\n",
    "})\n",
    "\n",
    "fig.show('png')\n",
    "\n"
   ]
  },
  {
   "cell_type": "code",
   "execution_count": 10,
   "metadata": {},
   "outputs": [
    {
     "data": {
      "text/html": [
       "<div>\n",
       "<style scoped>\n",
       "    .dataframe tbody tr th:only-of-type {\n",
       "        vertical-align: middle;\n",
       "    }\n",
       "\n",
       "    .dataframe tbody tr th {\n",
       "        vertical-align: top;\n",
       "    }\n",
       "\n",
       "    .dataframe thead th {\n",
       "        text-align: right;\n",
       "    }\n",
       "</style>\n",
       "<table border=\"1\" class=\"dataframe\">\n",
       "  <thead>\n",
       "    <tr style=\"text-align: right;\">\n",
       "      <th></th>\n",
       "      <th>Category1</th>\n",
       "      <th>Status</th>\n",
       "      <th>0</th>\n",
       "    </tr>\n",
       "  </thead>\n",
       "  <tbody>\n",
       "    <tr>\n",
       "      <th>0</th>\n",
       "      <td>shopping</td>\n",
       "      <td>Open</td>\n",
       "      <td>93</td>\n",
       "    </tr>\n",
       "    <tr>\n",
       "      <th>1</th>\n",
       "      <td>dining</td>\n",
       "      <td>Open</td>\n",
       "      <td>53</td>\n",
       "    </tr>\n",
       "    <tr>\n",
       "      <th>2</th>\n",
       "      <td>shopping</td>\n",
       "      <td>Now Open</td>\n",
       "      <td>18</td>\n",
       "    </tr>\n",
       "    <tr>\n",
       "      <th>3</th>\n",
       "      <td>shopping</td>\n",
       "      <td>Coming Soon</td>\n",
       "      <td>7</td>\n",
       "    </tr>\n",
       "    <tr>\n",
       "      <th>4</th>\n",
       "      <td>dining</td>\n",
       "      <td>Now Open</td>\n",
       "      <td>4</td>\n",
       "    </tr>\n",
       "    <tr>\n",
       "      <th>5</th>\n",
       "      <td>dining</td>\n",
       "      <td>Coming Soon</td>\n",
       "      <td>1</td>\n",
       "    </tr>\n",
       "  </tbody>\n",
       "</table>\n",
       "</div>"
      ],
      "text/plain": [
       "  Category1       Status   0\n",
       "0  shopping         Open  93\n",
       "1    dining         Open  53\n",
       "2  shopping     Now Open  18\n",
       "3  shopping  Coming Soon   7\n",
       "4    dining     Now Open   4\n",
       "5    dining  Coming Soon   1"
      ]
     },
     "execution_count": 10,
     "metadata": {},
     "output_type": "execute_result"
    }
   ],
   "source": [
    "data_category_Status"
   ]
  },
  {
   "cell_type": "code",
   "execution_count": 11,
   "metadata": {},
   "outputs": [
    {
     "data": {
      "image/png": "[encoded data removed]"
     },
     "metadata": {},
     "output_type": "display_data"
    }
   ],
   "source": [
    "data_category_Status = data[['Category1','Deal']].value_counts().reset_index()\n",
    "\n",
    "fig =px.bar(\n",
    "    data_category_Status,\n",
    "    orientation='h',\n",
    "    y='Category1',\n",
    "    x=0,\n",
    "    color=\"Deal\",\n",
    "    text_auto=True)\n",
    "\n",
    "fig.update_layout({\n",
    "'plot_bgcolor': 'rgba(0, 0, 0, 0)'\n",
    "# 'paper_bgcolor': 'rgba(0, 0, 0, 0)'\n",
    "})\n",
    "\n",
    "fig.show('png')"
   ]
  },
  {
   "cell_type": "code",
   "execution_count": 12,
   "metadata": {},
   "outputs": [],
   "source": [
    "# Questions to answer:\n",
    "\n",
    "# How many Stores\n",
    "# How many Stores by Category\n",
    "# Sores amount by Suit location\n",
    "# Whats the ratio Deals to Category in both categories\n",
    "# which companies have deal\n",
    "# which companies are newly open"
   ]
  },
  {
   "cell_type": "code",
   "execution_count": 13,
   "metadata": {},
   "outputs": [
    {
     "data": {
      "image/png": "[encoded data removed]"
     },
     "metadata": {},
     "output_type": "display_data"
    }
   ],
   "source": [
    "data['Suite_Group'] = data.Suite.apply(lambda x: 'Group '+x[0])\n",
    "\n",
    "data_suite = data[['Suite_Group','Deal']].value_counts().reset_index()\n",
    "\n",
    "px.bar(\n",
    "    data_suite,\n",
    "    y=0,\n",
    "    x='Suite_Group',\n",
    "    color=\"Deal\",\n",
    "    text_auto=True\n",
    ").update_layout({'plot_bgcolor': 'rgba(0, 0, 0, 0)'}).show('png')\n"
   ]
  },
  {
   "cell_type": "code",
   "execution_count": null,
   "metadata": {},
   "outputs": [],
   "source": []
  },
  {
   "cell_type": "code",
   "execution_count": null,
   "metadata": {},
   "outputs": [],
   "source": []
  }
 ],
 "metadata": {
  "kernelspec": {
   "display_name": "Python 3.9.0 64-bit",
   "language": "python",
   "name": "python3"
  },
  "language_info": {
   "codemirror_mode": {
    "name": "ipython",
    "version": 3
   },
   "file_extension": ".py",
   "mimetype": "text/x-python",
   "name": "python",
   "nbconvert_exporter": "python",
   "pygments_lexer": "ipython3",
   "version": "3.9.0"
  },
  "orig_nbformat": 4,
  "vscode": {
   "interpreter": {
    "hash": "397704579725e15f5c7cb49fe5f0341eb7531c82d19f2c29d197e8b64ab5776b"
   }
  }
 },
 "nbformat": 4,
 "nbformat_minor": 2
}
