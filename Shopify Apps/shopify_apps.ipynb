{
 "cells": [
  {
   "cell_type": "code",
   "execution_count": null,
   "metadata": {},
   "outputs": [],
   "source": [
    "import requests\n",
    "from bs4 import BeautifulSoup\n",
    "import pandas as pd"
   ]
  },
  {
   "cell_type": "code",
   "execution_count": null,
   "metadata": {},
   "outputs": [],
   "source": [
    "headers = {'User-Agent': \"Mozilla/5.0 (Macintosh; Intel Mac OS X 10_15_7) AppleWebKit/537.36 (KHTML, like Gecko) Chrome/106.0.0.0 Safari/537.36\"}"
   ]
  },
  {
   "cell_type": "code",
   "execution_count": null,
   "metadata": {},
   "outputs": [],
   "source": [
    "title = []\n",
    "href = []\n",
    "developer = []\n",
    "details = []\n",
    "review_count = []\n",
    "icon_logo = []\n",
    "pricing = []\n",
    "\n",
    "\n",
    "for page in range(1,201):\n",
    "    url = f\"https://apps.shopify.com/browse?page={page}\"\n",
    "    response = requests.get(url, headers=headers)\n",
    "\n",
    "    print(f\"\"\"\n",
    "    page:       {page})\n",
    "    url:        {url})\n",
    "    status code:{response.status_code})\n",
    "    \"\"\")\n",
    "    \n",
    "    soup = BeautifulSoup(response.text)\n",
    "    [ title.append(x['title']) for x in soup.find_all('div',{'class','ui-app-card'}) ]\n",
    "    [ href.append(x['data-target-href']) for x in soup.find_all('div',{'class','ui-app-card'}) ]\n",
    "    [ developer.append(x.text) for x in soup.find_all('div',{'class':'ui-app-card__developer-name'}) ]\n",
    "    [ details.append(x.text) for x in soup.find_all('p',{'class':'ui-app-card__details'}) ]\n",
    "    [ review_count.append(x.text) for x in soup.find_all('span',{'class':'ui-review-count-summary'}) ]\n",
    "    [ icon_logo.append(x['src']) for x in soup.find_all('img',{'class':'ui-app-card__icon'}) ]\n",
    "    [ pricing.append(x.text) for x in soup.find_all('div',{'class':'ui-app-card__pricing'}) ]"
   ]
  },
  {
   "cell_type": "code",
   "execution_count": null,
   "metadata": {},
   "outputs": [],
   "source": [
    "print(len(title))\n",
    "print(len(href))\n",
    "print(len(developer))\n",
    "print(len(details))\n",
    "print(len(review_count))\n",
    "print(len(icon_logo))\n",
    "print(len(pricing))"
   ]
  },
  {
   "cell_type": "code",
   "execution_count": null,
   "metadata": {},
   "outputs": [],
   "source": [
    "data = pd.DataFrame({\n",
    "    'name': title,\n",
    "    'url': href,\n",
    "    'developer': developer,\n",
    "    'details': details,\n",
    "    'review_count': review_count,\n",
    "    'icon_logo': icon_logo,\n",
    "    'pricing': pricing\n",
    "})"
   ]
  },
  {
   "cell_type": "code",
   "execution_count": null,
   "metadata": {},
   "outputs": [],
   "source": [
    "data.name = data.name.str.replace(\"Go to \",\"\",regex=True)\n",
    "data.name = data.name.str.replace(f'{chr(8209)}',\"\",regex=True)\n",
    "data.developer = data.developer.str.replace(\"by \",\"\",regex=True)\n",
    "data.review_count = data.review_count.str.replace(\"(\",\"\",regex=True)\n",
    "data.review_count = data.review_count.str.replace(\")\",\"\",regex=True)\n",
    "data.review_count = data.review_count.str.replace(\"reviews\",\"\",regex=True)\n",
    "data.pricing = data.pricing.str.replace('Free to install','Free', regex=True)\n",
    "data.pricing = data.pricing.str.replace('Free plan available','Free', regex=True)"
   ]
  },
  {
   "cell_type": "code",
   "execution_count": null,
   "metadata": {},
   "outputs": [],
   "source": [
    "data.to_csv(\"apps_shopify.csv\", index=False)"
   ]
  },
  {
   "cell_type": "code",
   "execution_count": null,
   "metadata": {},
   "outputs": [],
   "source": [
    "data"
   ]
  },
  {
   "cell_type": "code",
   "execution_count": null,
   "metadata": {},
   "outputs": [],
   "source": []
  }
 ],
 "metadata": {
  "kernelspec": {
   "display_name": "Python 3.9.0 64-bit",
   "language": "python",
   "name": "python3"
  },
  "language_info": {
   "codemirror_mode": {
    "name": "ipython",
    "version": 3
   },
   "file_extension": ".py",
   "mimetype": "text/x-python",
   "name": "python",
   "nbconvert_exporter": "python",
   "pygments_lexer": "ipython3",
   "version": "3.9.0"
  },
  "orig_nbformat": 4,
  "vscode": {
   "interpreter": {
    "hash": "397704579725e15f5c7cb49fe5f0341eb7531c82d19f2c29d197e8b64ab5776b"
   }
  }
 },
 "nbformat": 4,
 "nbformat_minor": 2
}
