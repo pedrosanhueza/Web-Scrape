{
 "cells": [
  {
   "cell_type": "code",
   "execution_count": 1,
   "metadata": {},
   "outputs": [],
   "source": [
    "import requests\n",
    "import pandas as pd"
   ]
  },
  {
   "cell_type": "code",
   "execution_count": 49,
   "metadata": {},
   "outputs": [],
   "source": [
    "url = 'https://api.boattrader.com/app/boat-dealers/dealers'\n",
    "parameters = {'apikey': '8b08b9bc353c494a80c60fb86debfc56','pageSize': 3000,'page': 1}\n",
    "response = requests.get(url, params=parameters)\n",
    "json_list = response.json()['records']\n",
    "df = pd.DataFrame(json_list)"
   ]
  },
  {
   "cell_type": "code",
   "execution_count": 50,
   "metadata": {},
   "outputs": [],
   "source": [
    "columns = [\n",
    "    'id',\n",
    "    # 'parentId',\n",
    "    'name',\n",
    "    'displayName',\n",
    "    'email',\n",
    "    'street',\n",
    "    'city',\n",
    "    'countrySubDivisionCode',\n",
    "    'postalCode',\n",
    "    # 'country',\n",
    "    'phone',\n",
    "    'website',\n",
    "    # 'logoPath',\n",
    "    # 'logoUrl',\n",
    "    'coordinates'\n",
    "]\n",
    "\n",
    "df_final = df[columns].rename(columns={\"displayName\": \"title\",'countrySubDivisionCode':'state'})\n",
    "\n",
    "df_final['lat']  = df_final.coordinates.apply(lambda x : x[0] if type(x) == list else x)\n",
    "df_final['long'] = df_final.coordinates.apply(lambda x : x[1] if type(x) == list else x)\n",
    "\n",
    "df_final.drop('coordinates', axis=1, inplace=True)"
   ]
  },
  {
   "cell_type": "code",
   "execution_count": 51,
   "metadata": {},
   "outputs": [],
   "source": [
    "# Number of dealers\n",
    "# Number of duplicates\n",
    "# plot: dealer per state\n",
    "# Number of dealers without email\n",
    "# Number of dealers without phone\n",
    "# Number of dealers with website"
   ]
  },
  {
   "cell_type": "code",
   "execution_count": 52,
   "metadata": {},
   "outputs": [
    {
     "data": {
      "text/plain": [
       "2393"
      ]
     },
     "execution_count": 52,
     "metadata": {},
     "output_type": "execute_result"
    }
   ],
   "source": [
    "# Number of dealers\n",
    "df_final.shape[0]"
   ]
  },
  {
   "cell_type": "code",
   "execution_count": 53,
   "metadata": {},
   "outputs": [
    {
     "data": {
      "text/plain": [
       "97"
      ]
     },
     "execution_count": 53,
     "metadata": {},
     "output_type": "execute_result"
    }
   ],
   "source": [
    "# Number of duplicates\n",
    "df_final[df_final.name.duplicated()].shape[0] # based on dealership name"
   ]
  },
  {
   "cell_type": "code",
   "execution_count": 59,
   "metadata": {},
   "outputs": [],
   "source": [
    "# plot: dealer per state\n",
    "df_final.groupby('state').aggregate('count').reset_index()[['state','id']].sort_values('id', ascending=False).rename(columns={\"id\": \"count\"})"
   ]
  },
  {
   "cell_type": "code",
   "execution_count": 67,
   "metadata": {},
   "outputs": [
    {
     "data": {
      "text/plain": [
       "14"
      ]
     },
     "execution_count": 67,
     "metadata": {},
     "output_type": "execute_result"
    }
   ],
   "source": [
    "# Number of dealers without phone\n",
    "df_final[df_final.phone.isna()].shape[0]"
   ]
  },
  {
   "cell_type": "code",
   "execution_count": 76,
   "metadata": {},
   "outputs": [
    {
     "data": {
      "text/plain": [
       "2009"
      ]
     },
     "execution_count": 76,
     "metadata": {},
     "output_type": "execute_result"
    }
   ],
   "source": [
    "# Number of dealers with website\n",
    "df_final[(~df_final.website.isna()) & (df_final.name.duplicated() == False)].shape[0]"
   ]
  },
  {
   "cell_type": "code",
   "execution_count": 77,
   "metadata": {},
   "outputs": [
    {
     "data": {
      "text/plain": [
       "2092"
      ]
     },
     "execution_count": 77,
     "metadata": {},
     "output_type": "execute_result"
    }
   ],
   "source": [
    "df_final[(~df_final.website.isna())].shape[0]"
   ]
  },
  {
   "cell_type": "code",
   "execution_count": 79,
   "metadata": {},
   "outputs": [
    {
     "data": {
      "text/plain": [
       "0        True\n",
       "1       False\n",
       "2        True\n",
       "3       False\n",
       "4        True\n",
       "        ...  \n",
       "2388     True\n",
       "2389     True\n",
       "2390     True\n",
       "2391     True\n",
       "2392     True\n",
       "Name: name, Length: 2393, dtype: bool"
      ]
     },
     "execution_count": 79,
     "metadata": {},
     "output_type": "execute_result"
    }
   ],
   "source": [
    "df_final.name.duplicated() == False"
   ]
  },
  {
   "cell_type": "code",
   "execution_count": null,
   "metadata": {},
   "outputs": [],
   "source": []
  }
 ],
 "metadata": {
  "kernelspec": {
   "display_name": "Python 3.9.0 64-bit",
   "language": "python",
   "name": "python3"
  },
  "language_info": {
   "codemirror_mode": {
    "name": "ipython",
    "version": 3
   },
   "file_extension": ".py",
   "mimetype": "text/x-python",
   "name": "python",
   "nbconvert_exporter": "python",
   "pygments_lexer": "ipython3",
   "version": "3.9.0"
  },
  "orig_nbformat": 4,
  "vscode": {
   "interpreter": {
    "hash": "397704579725e15f5c7cb49fe5f0341eb7531c82d19f2c29d197e8b64ab5776b"
   }
  }
 },
 "nbformat": 4,
 "nbformat_minor": 2
}
