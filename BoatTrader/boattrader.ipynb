{
 "cells": [
  {
   "cell_type": "code",
   "execution_count": 1,
   "metadata": {},
   "outputs": [],
   "source": [
    "import requests\n",
    "import pandas as pd"
   ]
  },
  {
   "cell_type": "code",
   "execution_count": 8,
   "metadata": {},
   "outputs": [],
   "source": [
    "url = 'https://api.boattrader.com/app/boat-dealers/dealers'\n",
    "parameters = {'apikey': '8b08b9bc353c494a80c60fb86debfc56','pageSize': 3000,'page': 1}\n",
    "response = requests.get(url, params=parameters)\n",
    "json_list = response.json()['records']\n",
    "df = pd.DataFrame(json_list)"
   ]
  },
  {
   "cell_type": "code",
   "execution_count": 12,
   "metadata": {},
   "outputs": [
    {
     "data": {
      "text/html": [
       "<div>\n",
       "<style scoped>\n",
       "    .dataframe tbody tr th:only-of-type {\n",
       "        vertical-align: middle;\n",
       "    }\n",
       "\n",
       "    .dataframe tbody tr th {\n",
       "        vertical-align: top;\n",
       "    }\n",
       "\n",
       "    .dataframe thead th {\n",
       "        text-align: right;\n",
       "    }\n",
       "</style>\n",
       "<table border=\"1\" class=\"dataframe\">\n",
       "  <thead>\n",
       "    <tr style=\"text-align: right;\">\n",
       "      <th></th>\n",
       "      <th>id</th>\n",
       "      <th>parentId</th>\n",
       "      <th>name</th>\n",
       "      <th>displayName</th>\n",
       "      <th>country</th>\n",
       "      <th>countrySubDivisionCode</th>\n",
       "      <th>phone</th>\n",
       "      <th>website</th>\n",
       "      <th>street</th>\n",
       "      <th>city</th>\n",
       "      <th>postalCode</th>\n",
       "      <th>email</th>\n",
       "      <th>logoPath</th>\n",
       "      <th>logoUrl</th>\n",
       "      <th>coordinates</th>\n",
       "    </tr>\n",
       "  </thead>\n",
       "  <tbody>\n",
       "    <tr>\n",
       "      <th>127</th>\n",
       "      <td>347728</td>\n",
       "      <td>5096</td>\n",
       "      <td>Marine Servicenter - San Diego</td>\n",
       "      <td>Marine Servicenter - San Diego</td>\n",
       "      <td>US</td>\n",
       "      <td>CA</td>\n",
       "      <td>206-323-2405</td>\n",
       "      <td>NaN</td>\n",
       "      <td>2700 Shelter Island Dr.</td>\n",
       "      <td>San Diego</td>\n",
       "      <td>98109</td>\n",
       "      <td>dankrier@marinesc.com</td>\n",
       "      <td></td>\n",
       "      <td>https://images.boatsgroup.com/images/1/upload/...</td>\n",
       "      <td>[-122.330062, 47.603832]</td>\n",
       "    </tr>\n",
       "    <tr>\n",
       "      <th>304</th>\n",
       "      <td>251592</td>\n",
       "      <td>NaN</td>\n",
       "      <td>H&amp;H Marine</td>\n",
       "      <td>H&amp;H Marine</td>\n",
       "      <td>US</td>\n",
       "      <td>CA</td>\n",
       "      <td>619-381-8480</td>\n",
       "      <td>https://hhmarinesd.com/</td>\n",
       "      <td>10685 Roselle Street</td>\n",
       "      <td>San Diego</td>\n",
       "      <td>92121</td>\n",
       "      <td>sales@hhmarinesd.com</td>\n",
       "      <td></td>\n",
       "      <td>https://images.boatsgroup.com/images/1/upload/...</td>\n",
       "      <td>[-117.205857, 32.900518]</td>\n",
       "    </tr>\n",
       "    <tr>\n",
       "      <th>307</th>\n",
       "      <td>35114</td>\n",
       "      <td>NaN</td>\n",
       "      <td>M2O Marine</td>\n",
       "      <td>M2O Marine</td>\n",
       "      <td>US</td>\n",
       "      <td>CA</td>\n",
       "      <td>8885392870</td>\n",
       "      <td>http://www.m2omarine.com/</td>\n",
       "      <td>3645 Camino Del Rio South</td>\n",
       "      <td>San Diego</td>\n",
       "      <td>92108</td>\n",
       "      <td>v2_leads_pool6_1387@dp360crm.com</td>\n",
       "      <td></td>\n",
       "      <td>https://images.boatsgroup.com/images/1/upload/...</td>\n",
       "      <td>[-117.141513, 32.774011]</td>\n",
       "    </tr>\n",
       "    <tr>\n",
       "      <th>308</th>\n",
       "      <td>426337</td>\n",
       "      <td>426334</td>\n",
       "      <td>Pinnacle Marine Center - San Diego</td>\n",
       "      <td>Pinnacle Marine Center - San Diego</td>\n",
       "      <td>US</td>\n",
       "      <td>CA</td>\n",
       "      <td>480-298-1535</td>\n",
       "      <td>NaN</td>\n",
       "      <td>1677 Quivira RD</td>\n",
       "      <td>San Diego</td>\n",
       "      <td>92109</td>\n",
       "      <td>pinnaclemarinecenter@gmail.com</td>\n",
       "      <td></td>\n",
       "      <td></td>\n",
       "      <td>[-117.134753, 32.771092]</td>\n",
       "    </tr>\n",
       "    <tr>\n",
       "      <th>310</th>\n",
       "      <td>51158</td>\n",
       "      <td>34716</td>\n",
       "      <td>Sun Country Coastal, San Diego Harbor Island</td>\n",
       "      <td>Sun Country Marine Group - SCMG - Sun Country ...</td>\n",
       "      <td>US</td>\n",
       "      <td>CA</td>\n",
       "      <td>619-481-5190</td>\n",
       "      <td>https://suncountrymarinegroup.com/sun-country-...</td>\n",
       "      <td>955 Harbor Island Drive,</td>\n",
       "      <td>San Diego</td>\n",
       "      <td>92101</td>\n",
       "      <td>mikeb@scmg.com</td>\n",
       "      <td></td>\n",
       "      <td>https://images.boatsgroup.com/images/1/upload/...</td>\n",
       "      <td>[-117.160716, 32.718987]</td>\n",
       "    </tr>\n",
       "    <tr>\n",
       "      <th>311</th>\n",
       "      <td>211532</td>\n",
       "      <td>34716</td>\n",
       "      <td>Sun Country Yachts, San Diego</td>\n",
       "      <td>Sun Country Marine Group - SCMG - Sun Country ...</td>\n",
       "      <td>US</td>\n",
       "      <td>CA</td>\n",
       "      <td>619-481-5190</td>\n",
       "      <td>https://suncountrymarinegroup.com/sun-country-...</td>\n",
       "      <td>955 Harbor Island Drive</td>\n",
       "      <td>San Diego</td>\n",
       "      <td>92101</td>\n",
       "      <td>mikeb@scmg.com</td>\n",
       "      <td></td>\n",
       "      <td>https://images.boatsgroup.com/images/1/upload/...</td>\n",
       "      <td>[-117.160716, 32.718987]</td>\n",
       "    </tr>\n",
       "    <tr>\n",
       "      <th>312</th>\n",
       "      <td>109569</td>\n",
       "      <td>NaN</td>\n",
       "      <td>Infinity Yacht Sales</td>\n",
       "      <td>Infinity Yacht Sales</td>\n",
       "      <td>US</td>\n",
       "      <td>CA</td>\n",
       "      <td>619-294-4545</td>\n",
       "      <td>https://www.infinityyachtsales.com/</td>\n",
       "      <td>1450 Harbor Island Dr</td>\n",
       "      <td>San Diego</td>\n",
       "      <td>92101</td>\n",
       "      <td>info@infinityyachtsales.com</td>\n",
       "      <td></td>\n",
       "      <td>http://www.yachtworld.com/infinityyachtsales/i...</td>\n",
       "      <td>[-117.160716, 32.718987]</td>\n",
       "    </tr>\n",
       "    <tr>\n",
       "      <th>313</th>\n",
       "      <td>14263</td>\n",
       "      <td>NaN</td>\n",
       "      <td>Cruising Yachts - San Diego</td>\n",
       "      <td>Cruising Yachts - San Diego</td>\n",
       "      <td>US</td>\n",
       "      <td>CA</td>\n",
       "      <td>1-619-681-0633</td>\n",
       "      <td>https://cruisingyachts.net/</td>\n",
       "      <td>1880 Harbor Island Drive</td>\n",
       "      <td>San Diego</td>\n",
       "      <td>92101</td>\n",
       "      <td>ianvt@cruisingyachts.net</td>\n",
       "      <td></td>\n",
       "      <td>http://www.yachtworld.com/cruisingyachts/image...</td>\n",
       "      <td>[-117.160716, 32.718987]</td>\n",
       "    </tr>\n",
       "    <tr>\n",
       "      <th>314</th>\n",
       "      <td>488907</td>\n",
       "      <td>34716</td>\n",
       "      <td>Sun Country Coastal, San Diego Marriott Marquis</td>\n",
       "      <td>Sun Country Marine Group - SCMG - Sun Country ...</td>\n",
       "      <td>US</td>\n",
       "      <td>CA</td>\n",
       "      <td>619-481-5192</td>\n",
       "      <td>https://suncountrymarinegroup.com/sun-country-...</td>\n",
       "      <td>333 W. Harbor Dr</td>\n",
       "      <td>San Diego</td>\n",
       "      <td>92101</td>\n",
       "      <td>mikeb@scmg.com</td>\n",
       "      <td></td>\n",
       "      <td>https://images.boatsgroup.com/images/1/upload/...</td>\n",
       "      <td>[-117.160716, 32.718987]</td>\n",
       "    </tr>\n",
       "    <tr>\n",
       "      <th>315</th>\n",
       "      <td>10687</td>\n",
       "      <td>NaN</td>\n",
       "      <td>Yachtfinders Windseakers</td>\n",
       "      <td>Yachtfinders Windseakers</td>\n",
       "      <td>US</td>\n",
       "      <td>CA</td>\n",
       "      <td>619-224-2349</td>\n",
       "      <td>https://www.yachtfindersbrokerage.com/</td>\n",
       "      <td>2330 Shelter Island Drive</td>\n",
       "      <td>San Diego</td>\n",
       "      <td>92106</td>\n",
       "      <td>info@yachtfinders.biz</td>\n",
       "      <td></td>\n",
       "      <td>http://www.yachtworld.com/yachtfinders/images/...</td>\n",
       "      <td>[-117.23015, 32.726848]</td>\n",
       "    </tr>\n",
       "    <tr>\n",
       "      <th>316</th>\n",
       "      <td>50287</td>\n",
       "      <td>NaN</td>\n",
       "      <td>50 North Yachts</td>\n",
       "      <td>50 North Yachts</td>\n",
       "      <td>US</td>\n",
       "      <td>CA</td>\n",
       "      <td>619-684-9266</td>\n",
       "      <td>https://www.50northyachts.com/</td>\n",
       "      <td>1551 Shelter Island Drive</td>\n",
       "      <td>San Diego</td>\n",
       "      <td>92106</td>\n",
       "      <td>sales@50northyachts.com</td>\n",
       "      <td></td>\n",
       "      <td>https://imt.boatwizard.com/images/1/upload/50n...</td>\n",
       "      <td>[-117.23015, 32.726848]</td>\n",
       "    </tr>\n",
       "    <tr>\n",
       "      <th>317</th>\n",
       "      <td>294011</td>\n",
       "      <td>61710</td>\n",
       "      <td>W S Yacht Brokers - San Diego</td>\n",
       "      <td>W S Yacht Brokers - San Diego</td>\n",
       "      <td>US</td>\n",
       "      <td>CA</td>\n",
       "      <td>619-844-5127</td>\n",
       "      <td>NaN</td>\n",
       "      <td>2725 Shelter Island Drive</td>\n",
       "      <td>San Diego</td>\n",
       "      <td>92106</td>\n",
       "      <td>tim@wsyachtbrokers.com</td>\n",
       "      <td></td>\n",
       "      <td>https://imt.boatwizard.com/images/1/upload/WS+...</td>\n",
       "      <td>[-117.23015, 32.726848]</td>\n",
       "    </tr>\n",
       "    <tr>\n",
       "      <th>318</th>\n",
       "      <td>449778</td>\n",
       "      <td>NaN</td>\n",
       "      <td>Jeff Brown Yacht - San Diego Marina Office</td>\n",
       "      <td>Jeff Brown Yacht - San Diego Marina Office</td>\n",
       "      <td>US</td>\n",
       "      <td>CA</td>\n",
       "      <td>619-222-9899</td>\n",
       "      <td>NaN</td>\n",
       "      <td>2614 Shelter Island Drive, Suite A</td>\n",
       "      <td>San Diego</td>\n",
       "      <td>92106</td>\n",
       "      <td>jeffboat59@gmail.com</td>\n",
       "      <td></td>\n",
       "      <td>NaN</td>\n",
       "      <td>[-117.23015, 32.726848]</td>\n",
       "    </tr>\n",
       "    <tr>\n",
       "      <th>319</th>\n",
       "      <td>40225</td>\n",
       "      <td>38371</td>\n",
       "      <td>Silver Seas Yachts - San Diego</td>\n",
       "      <td>Silver Seas Yachts - San Diego</td>\n",
       "      <td>US</td>\n",
       "      <td>CA</td>\n",
       "      <td>619-453-0423</td>\n",
       "      <td>www.silverseasyachts.com</td>\n",
       "      <td>2385 Shelter Island Drive</td>\n",
       "      <td>San Diego</td>\n",
       "      <td>92106</td>\n",
       "      <td>info@silverseasyachts.com</td>\n",
       "      <td></td>\n",
       "      <td>http://proto2.yachtworld.com/silverseasyachts/...</td>\n",
       "      <td>[-117.23015, 32.726848]</td>\n",
       "    </tr>\n",
       "    <tr>\n",
       "      <th>320</th>\n",
       "      <td>413220</td>\n",
       "      <td>21042</td>\n",
       "      <td>Galati Yacht Sales California, Inc. – San Diego</td>\n",
       "      <td>Galati Yacht Sales California, Inc. – San Diego</td>\n",
       "      <td>US</td>\n",
       "      <td>CA</td>\n",
       "      <td>619-486-5440</td>\n",
       "      <td>https://www.galatiyachts.com/yacht-brokerage-l...</td>\n",
       "      <td>1551 Shelter Island Drive</td>\n",
       "      <td>San Diego</td>\n",
       "      <td>92106</td>\n",
       "      <td>dmmleads@galatiyachts.com</td>\n",
       "      <td></td>\n",
       "      <td>http://www.yachtworld.com/galatiyachts/images/...</td>\n",
       "      <td>[-117.23015, 32.726848]</td>\n",
       "    </tr>\n",
       "    <tr>\n",
       "      <th>321</th>\n",
       "      <td>219077</td>\n",
       "      <td>11931</td>\n",
       "      <td>Seattle Yachts - San Diego</td>\n",
       "      <td>Seattle Yachts - San Diego</td>\n",
       "      <td>US</td>\n",
       "      <td>CA</td>\n",
       "      <td>619-523-1745</td>\n",
       "      <td>www.seattleyachts.com</td>\n",
       "      <td>5060 North Harbor Drive</td>\n",
       "      <td>San Diego</td>\n",
       "      <td>92106</td>\n",
       "      <td>info@seattleyachts.com</td>\n",
       "      <td></td>\n",
       "      <td>http://images.boatsgroup.com/images/1/upload/r...</td>\n",
       "      <td>[-117.23015, 32.726848]</td>\n",
       "    </tr>\n",
       "    <tr>\n",
       "      <th>322</th>\n",
       "      <td>30065</td>\n",
       "      <td>29994</td>\n",
       "      <td>Northrop and Johnson San Diego, CA</td>\n",
       "      <td>Northrop and Johnson San Diego, CA</td>\n",
       "      <td>US</td>\n",
       "      <td>CA</td>\n",
       "      <td>619-226-3344</td>\n",
       "      <td>www.northropandjohnson.com</td>\n",
       "      <td>1551 Shelter Island Drive</td>\n",
       "      <td>San Diego</td>\n",
       "      <td>92106</td>\n",
       "      <td>enquiries@NorthropandJohnson.com</td>\n",
       "      <td></td>\n",
       "      <td>http://www.yachtworld.com/northropandjohnsonfl...</td>\n",
       "      <td>[-117.23015, 32.726848]</td>\n",
       "    </tr>\n",
       "    <tr>\n",
       "      <th>323</th>\n",
       "      <td>56147</td>\n",
       "      <td>29999</td>\n",
       "      <td>Denison Yachting - San Diego</td>\n",
       "      <td>Denison Yachting - San Diego</td>\n",
       "      <td>US</td>\n",
       "      <td>NaN</td>\n",
       "      <td>619-822-2715</td>\n",
       "      <td>https://www.denisonyachtsales.com/san-diego-ca...</td>\n",
       "      <td>Shelter Island</td>\n",
       "      <td>San Diego</td>\n",
       "      <td>92106</td>\n",
       "      <td>inquiries@denisonyachting.com</td>\n",
       "      <td></td>\n",
       "      <td>http://images.boatsgroup.com/images/1/upload/d...</td>\n",
       "      <td>[-117.23015, 32.726848]</td>\n",
       "    </tr>\n",
       "    <tr>\n",
       "      <th>324</th>\n",
       "      <td>153728</td>\n",
       "      <td>2273</td>\n",
       "      <td>Alexander Marine USA - San Diego</td>\n",
       "      <td>Alexander Marine USA - San Diego</td>\n",
       "      <td>US</td>\n",
       "      <td>CA</td>\n",
       "      <td>619-294-2628</td>\n",
       "      <td>NaN</td>\n",
       "      <td>2540 Shelter Island Drive</td>\n",
       "      <td>San Diego</td>\n",
       "      <td>92106</td>\n",
       "      <td>alexandermarineusa@gmail.com</td>\n",
       "      <td></td>\n",
       "      <td>https://images.boatsgroup.com/images/1/upload/...</td>\n",
       "      <td>[-117.23015, 32.726848]</td>\n",
       "    </tr>\n",
       "  </tbody>\n",
       "</table>\n",
       "</div>"
      ],
      "text/plain": [
       "         id parentId                                             name  \\\n",
       "127  347728     5096                   Marine Servicenter - San Diego   \n",
       "304  251592      NaN                                       H&H Marine   \n",
       "307   35114      NaN                                       M2O Marine   \n",
       "308  426337   426334               Pinnacle Marine Center - San Diego   \n",
       "310   51158    34716     Sun Country Coastal, San Diego Harbor Island   \n",
       "311  211532    34716                    Sun Country Yachts, San Diego   \n",
       "312  109569      NaN                             Infinity Yacht Sales   \n",
       "313   14263      NaN                      Cruising Yachts - San Diego   \n",
       "314  488907    34716  Sun Country Coastal, San Diego Marriott Marquis   \n",
       "315   10687      NaN                         Yachtfinders Windseakers   \n",
       "316   50287      NaN                                  50 North Yachts   \n",
       "317  294011    61710                    W S Yacht Brokers - San Diego   \n",
       "318  449778      NaN       Jeff Brown Yacht - San Diego Marina Office   \n",
       "319   40225    38371                   Silver Seas Yachts - San Diego   \n",
       "320  413220    21042  Galati Yacht Sales California, Inc. – San Diego   \n",
       "321  219077    11931                       Seattle Yachts - San Diego   \n",
       "322   30065    29994               Northrop and Johnson San Diego, CA   \n",
       "323   56147    29999                     Denison Yachting - San Diego   \n",
       "324  153728     2273                 Alexander Marine USA - San Diego   \n",
       "\n",
       "                                           displayName country  \\\n",
       "127                     Marine Servicenter - San Diego      US   \n",
       "304                                         H&H Marine      US   \n",
       "307                                         M2O Marine      US   \n",
       "308                 Pinnacle Marine Center - San Diego      US   \n",
       "310  Sun Country Marine Group - SCMG - Sun Country ...      US   \n",
       "311  Sun Country Marine Group - SCMG - Sun Country ...      US   \n",
       "312                               Infinity Yacht Sales      US   \n",
       "313                        Cruising Yachts - San Diego      US   \n",
       "314  Sun Country Marine Group - SCMG - Sun Country ...      US   \n",
       "315                           Yachtfinders Windseakers      US   \n",
       "316                                    50 North Yachts      US   \n",
       "317                      W S Yacht Brokers - San Diego      US   \n",
       "318         Jeff Brown Yacht - San Diego Marina Office      US   \n",
       "319                     Silver Seas Yachts - San Diego      US   \n",
       "320    Galati Yacht Sales California, Inc. – San Diego      US   \n",
       "321                         Seattle Yachts - San Diego      US   \n",
       "322                 Northrop and Johnson San Diego, CA      US   \n",
       "323                       Denison Yachting - San Diego      US   \n",
       "324                   Alexander Marine USA - San Diego      US   \n",
       "\n",
       "    countrySubDivisionCode           phone  \\\n",
       "127                     CA    206-323-2405   \n",
       "304                     CA    619-381-8480   \n",
       "307                     CA      8885392870   \n",
       "308                     CA    480-298-1535   \n",
       "310                     CA    619-481-5190   \n",
       "311                     CA    619-481-5190   \n",
       "312                     CA    619-294-4545   \n",
       "313                     CA  1-619-681-0633   \n",
       "314                     CA    619-481-5192   \n",
       "315                     CA    619-224-2349   \n",
       "316                     CA    619-684-9266   \n",
       "317                     CA    619-844-5127   \n",
       "318                     CA    619-222-9899   \n",
       "319                     CA    619-453-0423   \n",
       "320                     CA    619-486-5440   \n",
       "321                     CA    619-523-1745   \n",
       "322                     CA    619-226-3344   \n",
       "323                    NaN    619-822-2715   \n",
       "324                     CA    619-294-2628   \n",
       "\n",
       "                                               website  \\\n",
       "127                                                NaN   \n",
       "304                            https://hhmarinesd.com/   \n",
       "307                          http://www.m2omarine.com/   \n",
       "308                                                NaN   \n",
       "310  https://suncountrymarinegroup.com/sun-country-...   \n",
       "311  https://suncountrymarinegroup.com/sun-country-...   \n",
       "312                https://www.infinityyachtsales.com/   \n",
       "313                        https://cruisingyachts.net/   \n",
       "314  https://suncountrymarinegroup.com/sun-country-...   \n",
       "315             https://www.yachtfindersbrokerage.com/   \n",
       "316                     https://www.50northyachts.com/   \n",
       "317                                                NaN   \n",
       "318                                                NaN   \n",
       "319                           www.silverseasyachts.com   \n",
       "320  https://www.galatiyachts.com/yacht-brokerage-l...   \n",
       "321                              www.seattleyachts.com   \n",
       "322                         www.northropandjohnson.com   \n",
       "323  https://www.denisonyachtsales.com/san-diego-ca...   \n",
       "324                                                NaN   \n",
       "\n",
       "                                 street       city postalCode  \\\n",
       "127             2700 Shelter Island Dr.  San Diego      98109   \n",
       "304                10685 Roselle Street  San Diego      92121   \n",
       "307           3645 Camino Del Rio South  San Diego      92108   \n",
       "308                     1677 Quivira RD  San Diego      92109   \n",
       "310            955 Harbor Island Drive,  San Diego      92101   \n",
       "311             955 Harbor Island Drive  San Diego      92101   \n",
       "312               1450 Harbor Island Dr  San Diego      92101   \n",
       "313            1880 Harbor Island Drive  San Diego      92101   \n",
       "314                    333 W. Harbor Dr  San Diego      92101   \n",
       "315           2330 Shelter Island Drive  San Diego      92106   \n",
       "316           1551 Shelter Island Drive  San Diego      92106   \n",
       "317           2725 Shelter Island Drive  San Diego      92106   \n",
       "318  2614 Shelter Island Drive, Suite A  San Diego      92106   \n",
       "319           2385 Shelter Island Drive  San Diego      92106   \n",
       "320           1551 Shelter Island Drive  San Diego      92106   \n",
       "321             5060 North Harbor Drive  San Diego      92106   \n",
       "322           1551 Shelter Island Drive  San Diego      92106   \n",
       "323                      Shelter Island  San Diego      92106   \n",
       "324           2540 Shelter Island Drive  San Diego      92106   \n",
       "\n",
       "                                email logoPath  \\\n",
       "127             dankrier@marinesc.com            \n",
       "304              sales@hhmarinesd.com            \n",
       "307  v2_leads_pool6_1387@dp360crm.com            \n",
       "308    pinnaclemarinecenter@gmail.com            \n",
       "310                    mikeb@scmg.com            \n",
       "311                    mikeb@scmg.com            \n",
       "312       info@infinityyachtsales.com            \n",
       "313          ianvt@cruisingyachts.net            \n",
       "314                    mikeb@scmg.com            \n",
       "315             info@yachtfinders.biz            \n",
       "316           sales@50northyachts.com            \n",
       "317            tim@wsyachtbrokers.com            \n",
       "318              jeffboat59@gmail.com            \n",
       "319         info@silverseasyachts.com            \n",
       "320         dmmleads@galatiyachts.com            \n",
       "321            info@seattleyachts.com            \n",
       "322  enquiries@NorthropandJohnson.com            \n",
       "323     inquiries@denisonyachting.com            \n",
       "324      alexandermarineusa@gmail.com            \n",
       "\n",
       "                                               logoUrl  \\\n",
       "127  https://images.boatsgroup.com/images/1/upload/...   \n",
       "304  https://images.boatsgroup.com/images/1/upload/...   \n",
       "307  https://images.boatsgroup.com/images/1/upload/...   \n",
       "308                                                      \n",
       "310  https://images.boatsgroup.com/images/1/upload/...   \n",
       "311  https://images.boatsgroup.com/images/1/upload/...   \n",
       "312  http://www.yachtworld.com/infinityyachtsales/i...   \n",
       "313  http://www.yachtworld.com/cruisingyachts/image...   \n",
       "314  https://images.boatsgroup.com/images/1/upload/...   \n",
       "315  http://www.yachtworld.com/yachtfinders/images/...   \n",
       "316  https://imt.boatwizard.com/images/1/upload/50n...   \n",
       "317  https://imt.boatwizard.com/images/1/upload/WS+...   \n",
       "318                                                NaN   \n",
       "319  http://proto2.yachtworld.com/silverseasyachts/...   \n",
       "320  http://www.yachtworld.com/galatiyachts/images/...   \n",
       "321  http://images.boatsgroup.com/images/1/upload/r...   \n",
       "322  http://www.yachtworld.com/northropandjohnsonfl...   \n",
       "323  http://images.boatsgroup.com/images/1/upload/d...   \n",
       "324  https://images.boatsgroup.com/images/1/upload/...   \n",
       "\n",
       "                  coordinates  \n",
       "127  [-122.330062, 47.603832]  \n",
       "304  [-117.205857, 32.900518]  \n",
       "307  [-117.141513, 32.774011]  \n",
       "308  [-117.134753, 32.771092]  \n",
       "310  [-117.160716, 32.718987]  \n",
       "311  [-117.160716, 32.718987]  \n",
       "312  [-117.160716, 32.718987]  \n",
       "313  [-117.160716, 32.718987]  \n",
       "314  [-117.160716, 32.718987]  \n",
       "315   [-117.23015, 32.726848]  \n",
       "316   [-117.23015, 32.726848]  \n",
       "317   [-117.23015, 32.726848]  \n",
       "318   [-117.23015, 32.726848]  \n",
       "319   [-117.23015, 32.726848]  \n",
       "320   [-117.23015, 32.726848]  \n",
       "321   [-117.23015, 32.726848]  \n",
       "322   [-117.23015, 32.726848]  \n",
       "323   [-117.23015, 32.726848]  \n",
       "324   [-117.23015, 32.726848]  "
      ]
     },
     "execution_count": 12,
     "metadata": {},
     "output_type": "execute_result"
    }
   ],
   "source": [
    "df[df.city=='San Diego']"
   ]
  },
  {
   "cell_type": "code",
   "execution_count": null,
   "metadata": {},
   "outputs": [],
   "source": []
  },
  {
   "cell_type": "code",
   "execution_count": null,
   "metadata": {},
   "outputs": [],
   "source": []
  },
  {
   "cell_type": "code",
   "execution_count": null,
   "metadata": {},
   "outputs": [],
   "source": []
  },
  {
   "cell_type": "code",
   "execution_count": null,
   "metadata": {},
   "outputs": [],
   "source": []
  },
  {
   "cell_type": "code",
   "execution_count": 3,
   "metadata": {},
   "outputs": [],
   "source": [
    "columns = [\n",
    "    'id',\n",
    "    # 'parentId',\n",
    "    'name',\n",
    "    'displayName',\n",
    "    'email',\n",
    "    'street',\n",
    "    'city',\n",
    "    'countrySubDivisionCode',\n",
    "    'postalCode',\n",
    "    # 'country',\n",
    "    'phone',\n",
    "    'website',\n",
    "    # 'logoPath',\n",
    "    # 'logoUrl',\n",
    "    'coordinates'\n",
    "]\n",
    "\n",
    "df_final = df[columns].rename(columns={\"displayName\": \"title\",'countrySubDivisionCode':'state'})\n",
    "\n",
    "df_final['lat']  = df_final.coordinates.apply(lambda x : x[0] if type(x) == list else x)\n",
    "df_final['long'] = df_final.coordinates.apply(lambda x : x[1] if type(x) == list else x)\n",
    "\n",
    "df_final.drop('coordinates', axis=1, inplace=True)"
   ]
  },
  {
   "cell_type": "code",
   "execution_count": 4,
   "metadata": {},
   "outputs": [],
   "source": [
    "# Number of dealers\n",
    "# Number of duplicates\n",
    "# plot: dealer per state\n",
    "# Number of dealers without email\n",
    "# Number of dealers without phone\n",
    "# Number of dealers with website"
   ]
  },
  {
   "cell_type": "code",
   "execution_count": 52,
   "metadata": {},
   "outputs": [
    {
     "data": {
      "text/plain": [
       "2393"
      ]
     },
     "execution_count": 52,
     "metadata": {},
     "output_type": "execute_result"
    }
   ],
   "source": [
    "# Number of dealers\n",
    "df_final.shape[0]"
   ]
  },
  {
   "cell_type": "code",
   "execution_count": 53,
   "metadata": {},
   "outputs": [
    {
     "data": {
      "text/plain": [
       "97"
      ]
     },
     "execution_count": 53,
     "metadata": {},
     "output_type": "execute_result"
    }
   ],
   "source": [
    "# Number of duplicates\n",
    "df_final[df_final.name.duplicated()].shape[0] # based on dealership name"
   ]
  },
  {
   "cell_type": "code",
   "execution_count": 59,
   "metadata": {},
   "outputs": [],
   "source": [
    "# plot: dealer per state\n",
    "df_final.groupby('state').aggregate('count').reset_index()[['state','id']].sort_values('id', ascending=False).rename(columns={\"id\": \"count\"})"
   ]
  },
  {
   "cell_type": "code",
   "execution_count": 67,
   "metadata": {},
   "outputs": [
    {
     "data": {
      "text/plain": [
       "14"
      ]
     },
     "execution_count": 67,
     "metadata": {},
     "output_type": "execute_result"
    }
   ],
   "source": [
    "# Number of dealers without phone\n",
    "df_final[df_final.phone.isna()].shape[0]"
   ]
  },
  {
   "cell_type": "code",
   "execution_count": 76,
   "metadata": {},
   "outputs": [
    {
     "data": {
      "text/plain": [
       "2009"
      ]
     },
     "execution_count": 76,
     "metadata": {},
     "output_type": "execute_result"
    }
   ],
   "source": [
    "# Number of dealers with website\n",
    "df_final[(~df_final.website.isna()) & (df_final.name.duplicated() == False)].shape[0]"
   ]
  },
  {
   "cell_type": "code",
   "execution_count": 77,
   "metadata": {},
   "outputs": [
    {
     "data": {
      "text/plain": [
       "2092"
      ]
     },
     "execution_count": 77,
     "metadata": {},
     "output_type": "execute_result"
    }
   ],
   "source": [
    "df_final[(~df_final.website.isna())].shape[0]"
   ]
  },
  {
   "cell_type": "code",
   "execution_count": 79,
   "metadata": {},
   "outputs": [
    {
     "data": {
      "text/plain": [
       "0        True\n",
       "1       False\n",
       "2        True\n",
       "3       False\n",
       "4        True\n",
       "        ...  \n",
       "2388     True\n",
       "2389     True\n",
       "2390     True\n",
       "2391     True\n",
       "2392     True\n",
       "Name: name, Length: 2393, dtype: bool"
      ]
     },
     "execution_count": 79,
     "metadata": {},
     "output_type": "execute_result"
    }
   ],
   "source": [
    "df_final.name.duplicated() == False"
   ]
  },
  {
   "cell_type": "code",
   "execution_count": 121,
   "metadata": {},
   "outputs": [
    {
     "data": {
      "text/plain": [
       "591"
      ]
     },
     "execution_count": 121,
     "metadata": {},
     "output_type": "execute_result"
    }
   ],
   "source": [
    "df_final.state.value_counts().iloc[0]"
   ]
  },
  {
   "cell_type": "code",
   "execution_count": 110,
   "metadata": {},
   "outputs": [
    {
     "data": {
      "text/plain": [
       "591"
      ]
     },
     "execution_count": 110,
     "metadata": {},
     "output_type": "execute_result"
    }
   ],
   "source": [
    "x = df_final.groupby('state').aggregate('count').reset_index()\n",
    "x[x.state == 'FL']['name'].iloc[0]"
   ]
  },
  {
   "cell_type": "code",
   "execution_count": 132,
   "metadata": {},
   "outputs": [
    {
     "data": {
      "text/plain": [
       "46.71"
      ]
     },
     "execution_count": 132,
     "metadata": {},
     "output_type": "execute_result"
    }
   ],
   "source": [
    "round(df_final.groupby('state').aggregate('count')['id'].mean(),2)"
   ]
  },
  {
   "cell_type": "code",
   "execution_count": 133,
   "metadata": {},
   "outputs": [
    {
     "data": {
      "text/plain": [
       "12.652536929993577"
      ]
     },
     "execution_count": 133,
     "metadata": {},
     "output_type": "execute_result"
    }
   ],
   "source": [
    "x[x.state == 'FL']['name'].iloc[0] / round(df_final.groupby('state').aggregate('count')['id'].mean(),2) "
   ]
  },
  {
   "cell_type": "code",
   "execution_count": null,
   "metadata": {},
   "outputs": [],
   "source": []
  },
  {
   "cell_type": "code",
   "execution_count": null,
   "metadata": {},
   "outputs": [],
   "source": []
  },
  {
   "cell_type": "code",
   "execution_count": null,
   "metadata": {},
   "outputs": [],
   "source": []
  },
  {
   "cell_type": "code",
   "execution_count": null,
   "metadata": {},
   "outputs": [],
   "source": []
  },
  {
   "cell_type": "code",
   "execution_count": null,
   "metadata": {},
   "outputs": [],
   "source": []
  },
  {
   "cell_type": "code",
   "execution_count": null,
   "metadata": {},
   "outputs": [],
   "source": []
  },
  {
   "cell_type": "code",
   "execution_count": null,
   "metadata": {},
   "outputs": [],
   "source": []
  },
  {
   "cell_type": "code",
   "execution_count": null,
   "metadata": {},
   "outputs": [],
   "source": []
  }
 ],
 "metadata": {
  "kernelspec": {
   "display_name": "Python 3.9.0 64-bit",
   "language": "python",
   "name": "python3"
  },
  "language_info": {
   "codemirror_mode": {
    "name": "ipython",
    "version": 3
   },
   "file_extension": ".py",
   "mimetype": "text/x-python",
   "name": "python",
   "nbconvert_exporter": "python",
   "pygments_lexer": "ipython3",
   "version": "3.9.0"
  },
  "orig_nbformat": 4,
  "vscode": {
   "interpreter": {
    "hash": "397704579725e15f5c7cb49fe5f0341eb7531c82d19f2c29d197e8b64ab5776b"
   }
  }
 },
 "nbformat": 4,
 "nbformat_minor": 2
}
